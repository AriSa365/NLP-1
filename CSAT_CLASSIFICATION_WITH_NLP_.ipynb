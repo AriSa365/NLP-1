{
 "cells": [
  {
   "cell_type": "code",
   "execution_count": 1,
   "id": "4538d509",
   "metadata": {},
   "outputs": [],
   "source": [
    "import numpy as np \n",
    "import pandas as pd \n",
    "import nltk\n",
    "\n",
    "df = pd.read_csv(\"UCIdrug_train.csv\")\n",
    "df=df.head(150000)"
   ]
  },
  {
   "cell_type": "code",
   "execution_count": 2,
   "id": "f9865894",
   "metadata": {},
   "outputs": [
    {
     "data": {
      "text/plain": [
       "(150000, 7)"
      ]
     },
     "execution_count": 2,
     "metadata": {},
     "output_type": "execute_result"
    }
   ],
   "source": [
    "df.shape"
   ]
  },
  {
   "cell_type": "code",
   "execution_count": 3,
   "id": "4dde748b",
   "metadata": {},
   "outputs": [],
   "source": [
    "df.dropna(inplace=True)"
   ]
  },
  {
   "cell_type": "code",
   "execution_count": 4,
   "id": "83bc4768",
   "metadata": {
    "scrolled": true
   },
   "outputs": [
    {
     "data": {
      "text/plain": [
       "uniqueID       0\n",
       "drugName       0\n",
       "condition      0\n",
       "review         0\n",
       "rating         0\n",
       "date           0\n",
       "usefulCount    0\n",
       "dtype: int64"
      ]
     },
     "execution_count": 4,
     "metadata": {},
     "output_type": "execute_result"
    }
   ],
   "source": [
    "df.isnull().sum().sort_values(ascending=False)"
   ]
  },
  {
   "cell_type": "code",
   "execution_count": 5,
   "id": "725e4ba4",
   "metadata": {},
   "outputs": [
    {
     "data": {
      "text/html": [
       "<div>\n",
       "<style scoped>\n",
       "    .dataframe tbody tr th:only-of-type {\n",
       "        vertical-align: middle;\n",
       "    }\n",
       "\n",
       "    .dataframe tbody tr th {\n",
       "        vertical-align: top;\n",
       "    }\n",
       "\n",
       "    .dataframe thead th {\n",
       "        text-align: right;\n",
       "    }\n",
       "</style>\n",
       "<table border=\"1\" class=\"dataframe\">\n",
       "  <thead>\n",
       "    <tr style=\"text-align: right;\">\n",
       "      <th></th>\n",
       "      <th>review</th>\n",
       "      <th>rating</th>\n",
       "    </tr>\n",
       "  </thead>\n",
       "  <tbody>\n",
       "    <tr>\n",
       "      <th>0</th>\n",
       "      <td>\"It has no side effect, I take it in combinati...</td>\n",
       "      <td>9</td>\n",
       "    </tr>\n",
       "    <tr>\n",
       "      <th>1</th>\n",
       "      <td>\"My son is halfway through his fourth week of ...</td>\n",
       "      <td>8</td>\n",
       "    </tr>\n",
       "    <tr>\n",
       "      <th>2</th>\n",
       "      <td>\"I used to take another oral contraceptive, wh...</td>\n",
       "      <td>5</td>\n",
       "    </tr>\n",
       "    <tr>\n",
       "      <th>3</th>\n",
       "      <td>\"This is my first time using any form of birth...</td>\n",
       "      <td>8</td>\n",
       "    </tr>\n",
       "    <tr>\n",
       "      <th>4</th>\n",
       "      <td>\"Suboxone has completely turned my life around...</td>\n",
       "      <td>9</td>\n",
       "    </tr>\n",
       "    <tr>\n",
       "      <th>...</th>\n",
       "      <td>...</td>\n",
       "      <td>...</td>\n",
       "    </tr>\n",
       "    <tr>\n",
       "      <th>149995</th>\n",
       "      <td>\"My Dr was unbelievably careless and combined ...</td>\n",
       "      <td>1</td>\n",
       "    </tr>\n",
       "    <tr>\n",
       "      <th>149996</th>\n",
       "      <td>\"When I was in the service I had a few bouts w...</td>\n",
       "      <td>9</td>\n",
       "    </tr>\n",
       "    <tr>\n",
       "      <th>149997</th>\n",
       "      <td>\"I&amp;#039;ve used the 3 day monistat before and ...</td>\n",
       "      <td>10</td>\n",
       "    </tr>\n",
       "    <tr>\n",
       "      <th>149998</th>\n",
       "      <td>\"When I run out of these patches the pain hits...</td>\n",
       "      <td>8</td>\n",
       "    </tr>\n",
       "    <tr>\n",
       "      <th>149999</th>\n",
       "      <td>\"I started taking Chantix in August after fill...</td>\n",
       "      <td>9</td>\n",
       "    </tr>\n",
       "  </tbody>\n",
       "</table>\n",
       "<p>149155 rows × 2 columns</p>\n",
       "</div>"
      ],
      "text/plain": [
       "                                                   review  rating\n",
       "0       \"It has no side effect, I take it in combinati...       9\n",
       "1       \"My son is halfway through his fourth week of ...       8\n",
       "2       \"I used to take another oral contraceptive, wh...       5\n",
       "3       \"This is my first time using any form of birth...       8\n",
       "4       \"Suboxone has completely turned my life around...       9\n",
       "...                                                   ...     ...\n",
       "149995  \"My Dr was unbelievably careless and combined ...       1\n",
       "149996  \"When I was in the service I had a few bouts w...       9\n",
       "149997  \"I&#039;ve used the 3 day monistat before and ...      10\n",
       "149998  \"When I run out of these patches the pain hits...       8\n",
       "149999  \"I started taking Chantix in August after fill...       9\n",
       "\n",
       "[149155 rows x 2 columns]"
      ]
     },
     "execution_count": 5,
     "metadata": {},
     "output_type": "execute_result"
    }
   ],
   "source": [
    "df=df[['review','rating']]\n",
    "df"
   ]
  },
  {
   "cell_type": "code",
   "execution_count": 6,
   "id": "069bce68",
   "metadata": {},
   "outputs": [
    {
     "data": {
      "text/plain": [
       "'0123456789'"
      ]
     },
     "execution_count": 6,
     "metadata": {},
     "output_type": "execute_result"
    }
   ],
   "source": [
    "import string\n",
    "string.punctuation\n",
    "string.digits"
   ]
  },
  {
   "cell_type": "code",
   "execution_count": 7,
   "id": "5a48b359",
   "metadata": {},
   "outputs": [],
   "source": [
    "def data_clean(review):\n",
    "    v=\"\".join([i for i in review if i.isprintable()==True])\n",
    "    x=\"\".join([word for word in v if word not in string.punctuation]) \n",
    "    return \"\".join([word.lower() for word in x if word not in string.digits]) \n",
    "    "
   ]
  },
  {
   "cell_type": "code",
   "execution_count": 8,
   "id": "e5171eee",
   "metadata": {},
   "outputs": [
    {
     "data": {
      "text/plain": [
       "0         it has no side effect i take it in combination...\n",
       "1         my son is halfway through his fourth week of i...\n",
       "2         i used to take another oral contraceptive whic...\n",
       "3         this is my first time using any form of birth ...\n",
       "4         suboxone has completely turned my life around ...\n",
       "                                ...                        \n",
       "149995    my dr was unbelievably careless and combined t...\n",
       "149996    when i was in the service i had a few bouts wi...\n",
       "149997    ive used the  day monistat before and it made ...\n",
       "149998    when i run out of these patches the pain hits ...\n",
       "149999    i started taking chantix in august after filli...\n",
       "Name: review, Length: 149155, dtype: object"
      ]
     },
     "execution_count": 8,
     "metadata": {},
     "output_type": "execute_result"
    }
   ],
   "source": [
    "df['review']=df['review'].apply(data_clean)\n",
    "df.review"
   ]
  },
  {
   "cell_type": "code",
   "execution_count": 9,
   "id": "ae8eab2d",
   "metadata": {},
   "outputs": [
    {
     "data": {
      "text/plain": [
       "10    47163\n",
       "9     25514\n",
       "1     20014\n",
       "8     17489\n",
       "7      8764\n",
       "5      7346\n",
       "2      6400\n",
       "3      6007\n",
       "6      5838\n",
       "4      4620\n",
       "Name: rating, dtype: int64"
      ]
     },
     "execution_count": 9,
     "metadata": {},
     "output_type": "execute_result"
    }
   ],
   "source": [
    "df.rating.value_counts().sort_values(ascending=False)"
   ]
  },
  {
   "cell_type": "code",
   "execution_count": 10,
   "id": "7979efde",
   "metadata": {},
   "outputs": [
    {
     "data": {
      "text/plain": [
       "149155"
      ]
     },
     "execution_count": 10,
     "metadata": {},
     "output_type": "execute_result"
    }
   ],
   "source": [
    "value = df['rating'].count()\n",
    "value"
   ]
  },
  {
   "cell_type": "code",
   "execution_count": 11,
   "id": "e840d0e2",
   "metadata": {},
   "outputs": [],
   "source": [
    "def analysis(rating):\n",
    "    if rating <= 5:\n",
    "        return 0\n",
    "    elif rating == 6 or rating == 7 :\n",
    "        return 1\n",
    "    else:\n",
    "        return 2\n",
    "\n",
    "\n",
    "df['new_rating'] = df['rating'].apply(lambda x: analysis(x))"
   ]
  },
  {
   "cell_type": "code",
   "execution_count": 12,
   "id": "b25b7705",
   "metadata": {},
   "outputs": [
    {
     "name": "stdout",
     "output_type": "stream",
     "text": [
      "0    14602\n",
      "2    14602\n",
      "1    14602\n",
      "Name: new_rating, dtype: int64\n"
     ]
    }
   ],
   "source": [
    "# df['new_rating']\n",
    "count_class_0,count_class_1,count_class_2=df.new_rating.value_counts()\n",
    "count_class_0,count_class_1,count_class_2\n",
    "\n",
    "df_zeros=df[df['new_rating']==0]\n",
    "df_ones=df[df['new_rating']==1]\n",
    "df_twos=df[df['new_rating']==2]\n",
    "\n",
    "df_zeros_under=df_zeros.sample(count_class_2)\n",
    "df_twos_under=df_twos.sample(count_class_2)\n",
    "df_under_sampling = pd.concat([df_zeros_under,df_twos_under,df_ones],axis=0)\n",
    "\n",
    "\n",
    "print(df_under_sampling .new_rating.value_counts())"
   ]
  },
  {
   "cell_type": "code",
   "execution_count": 13,
   "id": "1d82c308",
   "metadata": {},
   "outputs": [
    {
     "name": "stderr",
     "output_type": "stream",
     "text": [
      "C:\\Users\\2151399\\Anaconda3\\lib\\site-packages\\seaborn\\_decorators.py:36: FutureWarning: Pass the following variable as a keyword arg: x. From version 0.12, the only valid positional argument will be `data`, and passing other arguments without an explicit keyword will result in an error or misinterpretation.\n",
      "  warnings.warn(\n"
     ]
    },
    {
     "data": {
      "text/plain": [
       "<AxesSubplot:xlabel='new_rating', ylabel='count'>"
      ]
     },
     "execution_count": 13,
     "metadata": {},
     "output_type": "execute_result"
    },
    {
     "data": {
      "image/png": "[encoded data removed]",
      "text/plain": [
       "<Figure size 432x288 with 1 Axes>"
      ]
     },
     "metadata": {
      "needs_background": "light"
     },
     "output_type": "display_data"
    }
   ],
   "source": [
    "import seaborn as sns\n",
    "sns.countplot(df_under_sampling[\"new_rating\"])"
   ]
  },
  {
   "cell_type": "code",
   "execution_count": 14,
   "id": "69596bbf",
   "metadata": {},
   "outputs": [],
   "source": [
    "from sklearn.model_selection import train_test_split"
   ]
  },
  {
   "cell_type": "code",
   "execution_count": 15,
   "id": "17ce2e23",
   "metadata": {},
   "outputs": [],
   "source": [
    "X=list(df_under_sampling [\"review\"])\n",
    "y=list(df_under_sampling [\"new_rating\"])"
   ]
  },
  {
   "cell_type": "code",
   "execution_count": 16,
   "id": "22d198cf",
   "metadata": {},
   "outputs": [],
   "source": [
    "from sklearn.model_selection import train_test_split\n",
    "X_train, X_test, y_train, y_test = train_test_split(X,y,test_size=0.2,random_state = 0)"
   ]
  },
  {
   "cell_type": "code",
   "execution_count": 17,
   "id": "e4951370",
   "metadata": {
    "scrolled": true
   },
   "outputs": [
    {
     "name": "stderr",
     "output_type": "stream",
     "text": [
      "IOPub data rate exceeded.\n",
      "The notebook server will temporarily stop sending output\n",
      "to the client in order to avoid crashing it.\n",
      "To change this limit, set the config variable\n",
      "`--NotebookApp.iopub_data_rate_limit`.\n",
      "\n",
      "Current values:\n",
      "NotebookApp.iopub_data_rate_limit=1000000.0 (bytes/sec)\n",
      "NotebookApp.rate_limit_window=3.0 (secs)\n",
      "\n"
     ]
    }
   ],
   "source": [
    "print(X_train)"
   ]
  },
  {
   "cell_type": "code",
   "execution_count": 18,
   "id": "d511ceb2",
   "metadata": {},
   "outputs": [
    {
     "name": "stdout",
     "output_type": "stream",
     "text": [
      "[0, 2, 0, 2, 0, 0, 2, 1, 1, 2, 1, 0, 1, 2, 1, 2, 1, 2, 0, 1, 0, 1, 1, 1, 1, 2, 0, 0, 1, 2, 2, 1, 1, 1, 2, 0, 1, 1, 0, 0, 0, 0, 0, 2, 2, 2, 0, 2, 1, 2, 1, 0, 2, 2, 0, 2, 2, 2, 2, 1, 1, 0, 0, 0, 2, 2, 2, 0, 2, 1, 2, 1, 0, 1, 2, 0, 2, 0, 0, 2, 1, 1, 0, 1, 2, 1, 0, 0, 0, 0, 1, 1, 0, 2, 2, 0, 0, 0, 0, 0, 0, 0, 1, 1, 2, 1, 2, 1, 0, 2, 1, 0, 0, 0, 0, 1, 2, 0, 1, 2, 1, 1, 2, 1, 1, 2, 1, 2, 2, 0, 2, 2, 2, 0, 2, 2, 1, 0, 0, 1, 2, 0, 2, 0, 1, 0, 0, 0, 0, 1, 1, 2, 2, 1, 1, 1, 2, 0, 0, 1, 0, 0, 0, 2, 0, 2, 0, 0, 1, 2, 1, 0, 1, 2, 0, 1, 2, 1, 2, 1, 2, 2, 1, 2, 1, 1, 1, 0, 2, 2, 0, 0, 0, 0, 2, 2, 1, 1, 2, 1, 2, 2, 1, 2, 1, 2, 1, 1, 1, 1, 2, 2, 1, 2, 2, 2, 0, 2, 1, 0, 2, 1, 1, 1, 2, 2, 2, 1, 0, 1, 2, 2, 1, 1, 0, 2, 0, 0, 2, 0, 0, 0, 2, 1, 0, 1, 0, 0, 1, 0, 0, 0, 2, 2, 0, 1, 0, 2, 1, 2, 0, 1, 2, 0, 2, 0, 0, 2, 1, 1, 2, 0, 2, 2, 0, 2, 2, 1, 2, 0, 2, 0, 0, 1, 2, 0, 2, 1, 1, 1, 1, 2, 1, 0, 0, 2, 0, 0, 2, 1, 1, 1, 2, 2, 1, 0, 2, 2, 1, 2, 0, 2, 0, 2, 2, 2, 2, 2, 2, 0, 2, 0, 0, 1, 0, 2, 1, 2, 0, 1, 1, 0, 2, 0, 0, 2, 1, 1, 2, 1, 0, 0, 2, 0, 0, 2, 0, 2, 0, 0, 1, 2, 1, 2, 0, 2, 2, 0, 2, 2, 2, 0, 1, 2, 0, 1, 1, 0, 2, 2, 2, 1, 0, 2, 1, 0, 1, 1, 0, 1, 0, 1, 1, 0, 2, 0, 0, 1, 0, 0, 2, 2, 0, 0, 2, 1, 1, 0, 1, 2, 0, 0, 0, 0, 1, 1, 1, 2, 2, 0, 1, 2, 0, 2, 2, 1, 0, 2, 1, 2, 0, 0, 2, 2, 1, 2, 2, 2, 2, 0, 0, 2, 0, 2, 0, 0, 1, 2, 2, 0, 0, 2, 1, 0, 1, 1, 1, 2, 2, 1, 0, 2, 2, 0, 0, 1, 1, 1, 2, 2, 0, 1, 2, 2, 1, 1, 0, 0, 2, 1, 1, 2, 0, 2, 1, 0, 0, 2, 2, 0, 2, 1, 1, 1, 1, 0, 0, 0, 1, 2, 2, 2, 1, 1, 1, 1, 2, 0, 2, 1, 1, 1, 2, 0, 2, 0, 2, 1, 2, 1, 1, 0, 0, 0, 1, 2, 0, 1, 1, 0, 1, 1, 0, 2, 1, 1, 1, 0, 2, 2, 0, 0, 0, 2, 2, 1, 2, 2, 2, 1, 1, 1, 0, 2, 0, 2, 1, 0, 2, 1, 1, 2, 1, 0, 1, 1, 1, 0, 2, 0, 1, 1, 2, 2, 0, 0, 2, 0, 1, 0, 1, 2, 1, 1, 0, 2, 1, 1, 0, 2, 0, 1, 0, 0, 2, 2, 1, 0, 1, 1, 2, 1, 0, 2, 0, 1, 1, 0, 2, 0, 0, 0, 2, 1, 2, 2, 2, 1, 2, 1, 0, 1, 1, 2, 2, 0, 0, 0, 1, 0, 1, 0, 1, 0, 0, 0, 1, 2, 0, 2, 0, 0, 1, 1, 1, 2, 1, 0, 2, 0, 2, 1, 1, 2, 2, 1, 0, 2, 0, 0, 1, 2, 0, 1, 2, 1, 0, 1, 2, 1, 2, 1, 1, 2, 0, 0, 2, 2, 1, 1, 0, 1, 1, 1, 2, 1, 2, 2, 2, 1, 0, 0, 1, 1, 2, 2, 2, 0, 1, 0, 0, 2, 1, 2, 0, 0, 0, 1, 2, 0, 2, 0, 0, 0, 2, 2, 0, 1, 0, 2, 1, 2, 2, 1, 2, 1, 2, 1, 1, 1, 1, 1, 1, 2, 0, 2, 0, 1, 0, 2, 0, 1, 1, 0, 2, 2, 2, 2, 1, 1, 1, 0, 0, 0, 1, 1, 1, 1, 0, 1, 2, 2, 2, 1, 2, 1, 0, 0, 1, 1, 0, 2, 2, 2, 0, 1, 2, 2, 0, 1, 0, 1, 1, 0, 1, 1, 0, 1, 0, 2, 0, 0, 0, 2, 1, 2, 1, 1, 2, 0, 2, 1, 0, 2, 2, 0, 2, 1, 2, 1, 2, 0, 2, 2, 1, 0, 0, 1, 0, 2, 0, 2, 0, 2, 2, 0, 1, 0, 1, 0, 0, 1, 0, 2, 1, 2, 2, 0, 2, 2, 2, 2, 2, 0, 1, 0, 1, 2, 1, 0, 1, 1, 2, 0, 2, 1, 1, 0, 2, 2, 0, 2, 1, 2, 0, 1, 1, 1, 2, 1, 0, 1, 0, 1, 0, 0, 2, 1, 2, 1, 1, 2, 2, 1, 2, 0, 0, 1, 2, 2, 1, 1, 1, 0, 1, 2, 1, 2, 1, 1, 2, 0, 0, 1, 0, 1, 2, 0, 2, 2, 2, 1, 1, 0, 0, 1, 1, 1, 2, 0, 0, 0, 1, 2, 1, 2, 0, 2, 1, 2, 0, 0, 2, 2, 0, 2, 0, 2, 1, 2, 1, 0, 1, 0, 0, 0, 0, 0, 1, 0, 2, 2, 0, 2, 0, 0, 2, 2, 2, 1, 0, 0, 0, 0, 2, 0, 0, 1, 0, 2, 1, 1, 1, 2, 2, 0, 1, 1, 2, 0, 2, 1, 1, 0, 1, 0, 0, 1, 0, 2, 0, 2, 2, 1, 0, 2, 0, 2, 2, 2, 0, 2, 2, 0, 0, 1, 0, 1, 1, 0, 1, 2, 2, 0, 1, 1, 1, 1, 0, 2, 0, 0, 0, 2, 2, 0, 2, 2, 2, 2, 2, 2, 1, 2, 0, 0, 0, 2, 0, 1, 2, 2, 2, 2, 2, 1, 1, 1, 0, 0, 1, 2, 2, 0, 1, 0, 1, 1, 1, 0, 0, 2, 1, 2, 1, 2, 0, 1, 2, 2, 2, 0, 2, 1, 1, 1, 1, 0, 0, 1, 1, 2, 0, 2, 0, 0, 2, 2, 1, 0, 2, 1, 1, 2, 1, 0, 0, 1, 1, 1, 2, 1, 1, 0, 0, 0, 1, 2, 1, 0, 1, 0, 1, 2, 1, 0, 1, 0, 1, 2, 1, 1, 1, 0, 2, 2, 1, 1, 2, 2, 1, 1, 1, 0, 0, 2, 2, 2, 1, 0, 0, 2, 0, 0, 2, 1, 0, 1, 1, 2, 1, 0, 1, 2, 2, 2, 0, 2, 2, 0, 0, 1, 1, 0, 0, 0, 0, 1, 1, 1, 1, 1, 1, 1, 0, 2, 2, 2, 2, 2, 0, 0, 2, 2, 1, 2, 2, 1, 2, 2, 0, 0, 1, 0, 0, 0, 1, 1, 0, 0, 0, 2, 0, 2, 2, 2, 1, 0, 0, 0, 2, 2, 2, 0, 0, 0, 1, 0, 1, 2, 0, 1, 0, 1, 0, 0, 0, 1, 1, 1, 2, 2, 2, 1, 1, 0, 1, 1, 0, 2, 1, 1, 1, 1, 1, 2, 0, 0, 1, 2, 1, 1, 0, 2, 0, 1, 0, 1, 2, 0, 0, 2, 0, 2, 0, 1, 2, 1, 1, 0, 2, 2, 2, 2, 1, 1, 1, 0, 0, 1, 0, 2, 0, 0, 1, 1, 0, 2, 2, 2, 0, 0, 0, 1, 2, 0, 0, 2, 2, 1, 2, 0, 2, 0, 2, 0, 1, 2, 0, 2, 1, 0, 2, 0, 1, 2, 2, 2, 2, 1, 2, 2, 1, 2, 1, 2, 1, 0, 1, 2, 1, 1, 2, 1, 0, 0, 0, 0, 0, 0, 2, 2, 2, 2, 0, 0, 1, 1, 0, 1, 0, 0, 2, 2, 2, 0, 2, 1, 2, 0, 2, 1, 1, 0, 2, 0, 0, 0, 0, 2, 2, 0, 0, 1, 2, 0, 0, 2, 0, 1, 1, 1, 0, 1, 1, 0, 0, 2, 1, 0, 0, 2, 0, 0, 1, 1, 2, 0, 2, 2, 0, 0, 0, 0, 2, 2, 2, 0, 0, 2, 1, 1, 1, 0, 1, 1, 0, 2, 1, 1, 1, 2, 1, 0, 0, 0, 1, 1, 0, 1, 1, 1, 0, 2, 1, 1, 1, 2, 2, 1, 2, 1, 0, 1, 0, 2, 1, 1, 2, 1, 2, 0, 2, 2, 2, 1, 1, 1, 1, 1, 2, 2, 1, 2, 2, 0, 2, 0, 2, 2, 2, 0, 0, 0, 2, 2, 0, 1, 0, 1, 0, 2, 1, 2, 0, 0, 0, 1, 0, 1, 1, 0, 1, 2, 0, 1, 1, 2, 0, 1, 2, 0, 1, 0, 1, 0, 2, 1, 2, 0, 1, 0, 1, 2, 1, 2, 1, 2, 2, 0, 2, 1, 2, 0, 1, 0, 2, 1, 1, 0, 2, 1, 0, 1, 2, 2, 1, 0, 2, 2, 2, 2, 2, 2, 0, 0, 1, 2, 1, 1, 1, 1, 1, 0, 1, 0, 2, 1, 2, 0, 0, 1, 2, 1, 1, 0, 0, 0, 1, 2, 0, 2, 0, 0, 1, 0, 0, 0, 2, 1, 0, 2, 2, 2, 2, 2, 0, 2, 0, 2, 2, 2, 2, 1, 2, 2, 0, 1, 0, 1, 0, 2, 1, 2, 2, 1, 0, 1, 0, 1, 2, 2, 2, 2, 1, 0, 1, 1, 0, 1, 0, 1, 2, 1, 2, 2, 1, 2, 1, 0, 2, 1, 0, 2, 2, 0, 2, 2, 1, 1, 1, 2, 2, 2, 0, 1, 1, 0, 1, 1, 1, 0, 1, 2, 2, 1, 2, 2, 0, 2, 0, 0, 2, 2, 0, 2, 2, 1, 0, 0, 1, 0, 2, 1, 2, 1, 2, 1, 1, 0, 2, 1, 0, 0, 1, 0, 0, 0, 0, 0, 0, 1, 1, 2, 0, 1, 0, 1, 0, 1, 1, 1, 0, 0, 1, 2, 1, 0, 1, 0, 2, 0, 1, 0, 2, 1, 2, 0, 0, 1, 1, 0, 1, 0, 0, 2, 1, 1, 1, 1, 0, 1, 0, 0, 2, 2, 2, 0, 0, 2, 2, 1, 0, 0, 1, 1, 1, 1, 1, 1, 1, 2, 0, 2, 0, 2, 1, 2, 2, 2, 2, 1, 2, 2, 1, 1, 2, 1, 1, 1, 2, 1, 1, 2, 2, 0, 1, 2, 2, 2, 1, 0, 2, 2, 0, 1, 1, 0, 1, 2, 1, 2, 2, 1, 0, 0, 2, 1, 0, 0, 1, 2, 1, 2, 0, 0, 0, 0, 1, 2, 1, 0, 1, 2, 2, 0, 0, 0, 2, 2, 2, 0, 0, 2, 2, 0, 2, 0, 0, 0, 1, 2, 0, 2, 0, 2, 1, 1, 1, 0, 1, 2, 2, 1, 1, 0, 1, 0, 0, 0, 2, 2, 2, 0, 0, 0, 2, 0, 0, 1, 2, 0, 1, 0, 2, 2, 1, 1, 1, 1, 0, 1, 1, 0, 0, 0, 0, 2, 1, 2, 1, 2, 2, 2, 2, 1, 0, 0, 2, 2, 2, 2, 1, 1, 2, 0, 0, 0, 2, 1, 1, 0, 2, 2, 1, 0, 2, 0, 1, 2, 1, 2, 1, 0, 2, 2, 2, 1, 0, 0, 0, 0, 0, 1, 2, 0, 0, 1, 2, 0, 0, 0, 1, 0, 2, 0, 0, 2, 1, 0, 2, 1, 2, 1, 1, 2, 2, 0, 2, 2, 1, 1, 1, 1, 0, 1, 0, 2, 1, 2, 1, 2, 1, 2, 1, 1, 0, 1, 2, 2, 0, 1, 2, 1, 2, 1, 0, 1, 1, 1, 0, 2, 2, 2, 0, 0, 1, 2, 2, 2, 0, 2, 0, 1, 2, 0, 1, 2, 1, 1, 1, 2, 2, 2, 0, 1, 2, 1, 1, 0, 0, 0, 1, 2, 0, 2, 0, 0, 1, 1, 2, 0, 1, 1, 1, 2, 1, 2, 0, 0, 0, 0, 2, 0, 2, 0, 1, 2, 1, 2, 1, 2, 2, 2, 1, 1, 1, 1, 1, 0, 1, 2, 0, 1, 1, 1, 1, 0, 0, 2, 1, 2, 2, 2, 2, 1, 1, 0, 2, 2, 2, 2, 1, 2, 0, 0, 0, 2, 1, 1, 1, 2, 0, 1, 2, 1, 2, 2, 2, 2, 0, 1, 2, 2, 2, 1, 2, 0, 0, 2, 1, 1, 1, 1, 2, 0, 2, 1, 2, 1, 2, 2, 2, 1, 0, 0, 0, 2, 2, 0, 2, 0, 1, 0, 0, 1, 0, 1, 1, 2, 2, 1, 2, 1, 1, 1, 2, 2, 1, 0, 0, 2, 1, 0, 2, 2, 0, 1, 2, 2, 2, 1, 2, 1, 0, 2, 2, 2, 1, 1, 1, 1, 1, 2, 1, 2, 0, 0, 0, 2, 1, 2, 2, 0, 2, 2, 2, 2, 0, 0, 1, 1, 1, 0, 0, 1, 1, 1, 0, 1, 2, 2, 1, 2, 2, 2, 1, 0, 0, 1, 2, 0, 2, 1, 1, 0, 1, 2, 0, 1, 1, 1, 2, 2, 1, 1, 1, 1, 1, 0, 1, 0, 1, 0, 1, 2, 2, 0, 1, 1, 0, 1, 0, 2, 2, 1, 2, 2, 2, 1, 0, 1, 2, 1, 0, 1, 1, 1, 1, 0, 2, 1, 1, 2, 2, 1, 2, 2, 1, 2, 1, 1, 1, 0, 2, 0, 1, 1, 0, 2, 2, 2, 2, 1, 0, 0, 0, 1, 2, 1, 1, 0, 2, 2, 0, 0, 0, 0, 0, 2, 0, 2, 1, 0, 1, 1, 0, 1, 0, 0, 2, 2, 0, 2, 1, 1, 2, 0, 0, 0, 1, 1, 0, 2, 0, 2, 0, 2, 1, 2, 2, 1, 2, 2, 2, 2, 2, 1, 0, 2, 0, 1, 0, 1, 2, 0, 0, 1, 1, 2, 0, 1, 2, 2, 2, 0, 0, 0, 2, 2, 0, 0, 0, 1, 1, 1, 2, 2, 1, 0, 0, 0, 2, 1, 0, 2, 0, 1, 0, 1, 2, 0, 2, 2, 2, 1, 1, 2, 2, 2, 1, 2, 1, 0, 0, 1, 2, 0, 1, 0, 2, 1, 1, 0, 0, 1, 0, 0, 0, 1, 0, 2, 1, 2, 2, 0, 2, 1, 0, 0, 0, 0, 1, 2, 1, 0, 0, 1, 1, 2, 2, 2, 0, 0, 0, 1, 0, 0, 0, 2, 1, 0, 2, 2, 0, 1, 0, 1, 2, 1, 2, 1, 0, 2, 1, 0, 0, 2, 0, 0, 1, 1, 0, 2, 0, 2, 0, 0, 0, 0, 0, 1, 1, 2, 2, 1, 0, 2, 2, 0, 1, 1, 0, 2, 1, 0, 0, 1, 2, 2, 2, 0, 1, 2, 1, 1, 0, 1, 0, 2, 1, 2, 2, 0, 2, 1, 2, 1, 2, 2, 0, 2, 1, 1, 0, 0, 2, 0, 0, 1, 2, 2, 0, 2, 1, 1, 0, 2, 2, 0, 0, 0, 1, 2, 2, 1, 1, 1, 0, 0, 0, 1, 1, 0, 1, 2, 2, 1, 2, 0, 1, 2, 2, 2, 1, 0, 0, 1, 0, 0, 0, 2, 2, 0, 1, 1, 0, 0, 2, 0, 2, 0, 0, 2, 2, 1, 0, 1, 1, 1, 1, 2, 1, 0, 2, 0, 0, 2, 1, 0, 2, 1, 0, 2, 1, 2, 1, 2, 2, 0, 1, 2, 0, 2, 1, 1, 2, 0, 2, 0, 2, 1, 0, 1, 0, 1, 0, 1, 2, 0, 0, 1, 1, 2, 1, 2, 1, 2, 0, 2, 1, 0, 2, 2, 1, 2, 2, 0, 1, 2, 2, 2, 2, 0, 2, 0, 1, 1, 0, 0, 0, 2, 2, 2, 2, 2, 1, 1, 1, 1, 2, 0, 1, 2, 2, 0, 1, 2, 1, 0, 1, 1, 1, 2, 2, 0, 2, 2, 2, 0, 2, 1, 1, 1, 1, 1, 0, 0, 2, 0, 1, 0, 2, 2, 1, 1, 2, 2, 0, 2, 1, 0, 0, 0, 0, 0, 0, 1, 1, 1, 1, 1, 1, 0, 2, 0, 2, 1, 1, 0, 2, 2, 2, 0, 1, 2, 1, 2, 2, 0, 1, 2, 1, 2, 1, 0, 0, 2, 2, 2, 2, 1, 2, 0, 0, 2, 1, 2, 0, 0, 1, 2, 2, 1, 1, 2, 0, 0, 1, 1, 2, 1, 0, 2, 0, 0, 0, 2, 2, 0, 1, 2, 1, 2, 1, 1, 0, 2, 0, 0, 1, 2, 0, 0, 2, 0, 1, 2, 2, 0, 2, 0, 2, 1, 2, 1, 0, 2, 1, 2, 0, 1, 1, 2, 0, 2, 1, 1, 2, 2, 1, 0, 2, 0, 0, 0, 0, 2, 0, 0, 1, 0, 0, 2, 2, 1, 2, 2, 2, 2, 2, 0, 0, 2, 2, 2, 0, 2, 0, 0, 1, 2, 0, 2, 1, 1, 1, 2, 0, 0, 0, 0, 2, 2, 1, 2, 2, 2, 2, 0, 2, 0, 0, 0, 0, 1, 1, 2, 1, 2, 1, 1, 0, 2, 1, 1, 2, 0, 0, 0, 0, 1, 2, 0, 0, 1, 1, 0, 2, 1, 0, 1, 2, 1, 1, 0, 0, 0, 0, 2, 0, 0, 2, 0, 1, 1, 0, 2, 0, 2, 1, 1, 2, 1, 1, 2, 2, 1, 1, 0, 2, 1, 2, 0, 0, 1, 2, 1, 2, 0, 1, 1, 2, 0, 2, 1, 0, 1, 2, 2, 2, 1, 0, 1, 1, 0, 0, 2, 2, 2, 0, 1, 1, 1, 0, 2, 1, 1, 2, 0, 1, 1, 1, 2, 0, 1, 0, 0, 1, 0, 0, 1, 2, 0, 0, 0, 2, 0, 2, 1, 2, 2, 0, 1, 0, 0, 2, 1, 1, 1, 2, 1, 2, 2, 0, 0, 2, 1, 2, 1, 2, 1, 0, 2, 1, 1, 1, 1, 0, 1, 2, 0, 2, 0, 0, 1, 0, 2, 0, 0, 2, 1, 0, 2, 1, 0, 2, 2, 0, 0, 2, 2, 2, 1, 1, 0, 1, 2, 2, 0, 0, 1, 0, 0, 1, 0, 1, 1, 2, 2, 1, 2, 0, 1, 2, 1, 2, 0, 2, 1, 2, 1, 0, 2, 1, 2, 0, 1, 1, 0, 2, 1, 0, 2, 0, 0, 0, 2, 1, 2, 0, 1, 0, 2, 0, 0, 0, 0, 1, 2, 2, 1, 2, 2, 2, 1, 2, 2, 2, 0, 2, 1, 1, 0, 1, 1, 1, 0, 1, 1, 1, 0, 2, 0, 1, 2, 1, 0, 0, 2, 0, 0, 2, 1, 2, 1, 2, 0, 0, 2, 0, 2, 0, 0, 0, 2, 2, 2, 1, 1, 0, 2, 0, 1, 1, 0, 0, 2, 0, 0, 1, 2, 1, 0, 1, 1, 2, 1, 2, 2, 0, 1, 0, 2, 0, 0, 2, 0, 2, 1, 1, 1, 1, 1, 2, 1, 2, 1, 1, 0, 0, 1, 0, 0, 1, 1, 1, 2, 0, 1, 2, 0, 1, 2, 1, 2, 0, 0, 2, 2, 1, 1, 2, 2, 1, 0, 1, 0, 0, 2, 0, 1, 0, 0, 2, 1, 2, 2, 1, 0, 0, 0, 0, 0, 2, 0, 0, 2, 0, 2, 0, 0, 1, 1, 1, 1, 1, 0, 2, 2, 2, 1, 0, 1, 1, 1, 2, 1, 2, 1, 1, 0, 0, 2, 2, 0, 2, 2, 0, 0, 1, 1, 2, 0, 0, 2, 1, 0, 2, 0, 0, 0, 2, 2, 1, 1, 2, 0, 1, 1, 1, 0, 1, 1, 0, 1, 1, 2, 1, 2, 1, 2, 1, 2, 1, 2, 1, 0, 2, 0, 2, 1, 0, 2, 1, 2, 0, 1, 1, 2, 0, 0, 2, 2, 1, 1, 1, 0, 1, 2, 0, 1, 1, 2, 0, 2, 1, 2, 0, 0, 1, 1, 2, 2, 2, 2, 1, 0, 1, 0, 2, 0, 0, 2, 2, 0, 1, 2, 2, 0, 0, 0, 1, 2, 0, 1, 2, 2, 2, 1, 2, 0, 0, 2, 2, 2, 2, 2, 1, 0, 2, 2, 2, 1, 0, 1, 0, 1, 2, 0, 0, 1, 1, 2, 2, 2, 1, 0, 2, 0, 1, 0, 2, 2, 0, 1, 0, 0, 0, 2, 0, 2, 0, 0, 1, 1, 2, 0, 0, 1, 0, 1, 1, 1, 0, 2, 0, 0, 1, 1, 0, 1, 0, 1, 1, 1, 0, 1, 1, 1, 0, 1, 0, 2, 0, 0, 0, 2, 0, 0, 2, 0, 2, 1, 2, 1, 1, 1, 2, 1, 1, 2, 2, 1, 1, 2, 2, 0, 0, 0, 0, 0, 1, 0, 2, 2, 0, 2, 1, 0, 2, 0, 0, 2, 1, 2, 2, 2, 0, 2, 0, 2, 0, 1, 1, 2, 2, 2, 0, 2, 2, 1, 2, 2, 2, 0, 1, 2, 1, 2, 2, 1, 0, 2, 0, 1, 1, 1, 2, 0, 2, 2, 2, 2, 2, 0, 2, 1, 2, 0, 0, 2, 0, 1, 1, 2, 0, 1, 1, 2, 2, 0, 2, 2, 1, 1, 0, 2, 0, 2, 0, 1, 0, 0, 1, 1, 0, 0, 0, 0, 2, 2, 0, 1, 1, 1, 1, 2, 2, 0, 0, 0, 2, 1, 2, 1, 0, 0, 2, 0, 0, 0, 2, 2, 0, 1, 2, 2, 0, 2, 1, 2, 1, 1, 2, 2, 1, 2, 2, 0, 0, 0, 2, 2, 1, 2, 2, 0, 1, 0, 2, 0, 1, 0, 0, 0, 0, 2, 2, 0, 1, 0, 1, 2, 1, 2, 0, 1, 0, 1, 2, 0, 0, 0, 0, 1, 0, 2, 0, 2, 0, 0, 0, 2, 2, 1, 0, 0, 1, 1, 2, 2, 0, 2, 0, 0, 2, 1, 2, 1, 1, 0, 1, 1, 0, 1, 2, 0, 0, 2, 2, 1, 2, 1, 1, 0, 2, 1, 1, 2, 0, 0, 0, 1, 1, 0, 1, 0, 0, 1, 1, 0, 0, 1, 2, 0, 0, 1, 0, 0, 1, 0, 2, 2, 0, 1, 2, 2, 2, 1, 2, 1, 1, 1, 2, 2, 1, 2, 2, 1, 2, 0, 1, 1, 1, 2, 0, 1, 1, 1, 2, 0, 0, 0, 0, 2, 1, 2, 2, 1, 2, 0, 2, 2, 1, 0, 2, 2, 2, 0, 1, 1, 1, 0, 2, 2, 0, 2, 0, 1, 1, 2, 2, 0, 0, 0, 2, 0, 1, 0, 1, 2, 2, 1, 0, 1, 1, 2, 0, 2, 0, 0, 1, 1, 0, 2, 1, 2, 2, 2, 0, 2, 1, 1, 1, 0, 1, 2, 1, 1, 1, 2, 0, 0, 0, 0, 1, 1, 2, 0, 0, 2, 0, 2, 2, 1, 0, 2, 2, 2, 2, 1, 0, 1, 0, 1, 1, 0, 2, 0, 2, 1, 2, 0, 0, 2, 2, 2, 0, 2, 0, 0, 1, 0, 2, 2, 0, 2, 2, 2, 2, 0, 1, 0, 0, 2, 2, 2, 0, 2, 1, 0, 0, 1, 0, 2, 0, 0, 0, 0, 1, 2, 0, 2, 0, 2, 2, 0, 2, 0, 1, 0, 1, 1, 0, 1, 2, 0, 2, 1, 2, 2, 2, 2, 0, 2, 0, 0, 1, 2, 0, 1, 0, 1, 1, 1, 1, 1, 0, 2, 1, 2, 2, 2, 1, 2, 1, 0, 2, 1, 1, 2, 2, 1, 2, 2, 0, 2, 2, 2, 1, 1, 0, 2, 2, 2, 0, 2, 2, 0, 0, 0, 2, 2, 2, 1, 0, 2, 2, 2, 1, 0, 1, 2, 1, 0, 0, 1, 1, 2, 0, 0, 2, 0, 2, 1, 0, 2, 1, 0, 1, 2, 1, 1, 0, 0, 1, 1, 0, 1, 1, 1, 2, 0, 2, 2, 1, 0, 1, 2, 1, 1, 2, 0, 1, 0, 2, 0, 1, 0, 1, 2, 0, 0, 1, 0, 0, 0, 0, 0, 1, 1, 1, 2, 1, 2, 1, 0, 0, 1, 0, 1, 2, 0, 2, 0, 2, 1, 2, 1, 1, 1, 1, 1, 1, 2, 0, 0, 2, 1, 0, 1, 0, 0, 0, 2, 0, 1, 0, 2, 1, 1, 0, 2, 0, 1, 0, 1, 2, 0, 0, 2, 2, 0, 0, 2, 0, 0, 0, 0, 1, 1, 0, 0, 1, 2, 0, 1, 2, 1, 0, 1, 2, 0, 1, 1, 2, 0, 1, 0, 2, 0, 2, 2, 2, 2, 1, 0, 0, 2, 1, 0, 1, 0, 2, 1, 2, 2, 2, 2, 1, 0, 1, 2, 1, 1, 2, 1, 0, 2, 2, 0, 2, 2, 2, 2, 2, 2, 2, 0, 2, 0, 0, 2, 0, 2, 0, 2, 1, 1, 1, 2, 1, 0, 0, 1, 2, 2, 1, 2, 2, 1, 0, 2, 2, 1, 1, 0, 1, 1, 1, 2, 0, 2, 1, 0, 0, 2, 1, 0, 0, 1, 1, 1, 1, 0, 0, 2, 1, 0, 1, 2, 2, 2, 0, 1, 0, 1, 2, 2, 0, 1, 1, 2, 2, 0, 0, 2, 1, 1, 2, 0, 2, 1, 1, 1, 2, 0, 2, 2, 2, 2, 0, 0, 2, 0, 1, 2, 2, 0, 2, 0, 1, 0, 1, 0, 1, 1, 0, 2, 2, 1, 1, 1, 0, 2, 0, 2, 1, 1, 1, 2, 0, 2, 0, 0, 2, 2, 0, 0, 1, 2, 0, 0, 2, 0, 1, 1, 0, 1, 0, 1, 0, 2, 1, 0, 1, 0, 1, 0, 2, 0, 1, 1, 0, 1, 2, 0, 0, 1, 2, 1, 1, 0, 0, 1, 2, 0, 0, 2, 2, 1, 0, 2, 0, 2, 2, 1, 1, 0, 1, 0, 0, 1, 1, 2, 2, 1, 2, 2, 0, 1, 2, 0, 2, 1, 0, 0, 2, 0, 1, 0, 0, 1, 2, 1, 2, 1, 1, 0, 2, 2, 0, 1, 2, 2, 1, 0, 2, 2, 0, 2, 2, 0, 2, 1, 0, 1, 0, 1, 2, 2, 2, 2, 2, 2, 1, 1, 1, 2, 1, 1, 1, 0, 2, 2, 0, 2, 0, 1, 1, 0, 1, 0, 2, 2, 1, 2, 0, 1, 1, 1, 0, 0, 2, 0, 2, 2, 0, 1, 0, 0, 2, 0, 2, 1, 1, 1, 1, 2, 0, 2, 0, 0, 1, 1, 1, 0, 0, 2, 0, 2, 2, 1, 2, 1, 2, 0, 2, 2, 0, 2, 1, 1, 2, 1, 1, 1, 2, 1, 0, 2, 1, 0, 2, 2, 2, 0, 2, 0, 2, 2, 0, 2, 2, 2, 1, 1, 0, 1, 0, 1, 2, 1, 0, 1, 0, 0, 1, 0, 0, 2, 2, 2, 0, 2, 2, 1, 2, 0, 1, 0, 0, 1, 0, 1, 0, 2, 2, 1, 2, 2, 1, 0, 0, 0, 2, 2, 1, 2, 1, 2, 0, 2, 0, 1, 2, 0, 2, 1, 0, 1, 2, 0, 1, 2, 0, 0, 0, 2, 0, 2, 1, 1, 0, 2, 1, 2, 2, 1, 0, 1, 0, 1, 1, 0, 2, 2, 2, 0, 0, 2, 2, 1, 2, 0, 1, 1, 1, 0, 1, 0, 0, 2, 2, 1, 0, 1, 1, 1, 0, 0, 2, 0, 2, 1, 2, 2, 2, 2, 0, 1, 0, 1, 0, 1, 0, 1, 0, 1, 0, 2, 1, 2, 1, 2, 2, 0, 2, 0, 0, 0, 2, 2, 1, 2, 1, 1, 0, 2, 1, 1, 1, 2, 2, 1, 2, 2, 2, 2, 1, 2, 2, 1, 0, 0, 0, 2, 1, 2, 0, 1, 0, 0, 1, 0, 0, 1, 2, 2, 2, 2, 2, 2, 2, 1, 1, 0, 1, 1, 1, 2, 1, 2, 1, 0, 1, 1, 0, 0, 0, 1, 1, 0, 1, 0, 2, 2, 2, 0, 0, 1, 2, 1, 1, 1, 0, 1, 0, 2, 2, 0, 0, 0, 2, 1, 2, 2, 2, 1, 2, 2, 1, 1, 1, 2, 0, 0, 2, 1, 2, 1, 1, 1, 1, 2, 0, 2, 1, 0, 2, 2, 1, 1, 2, 2, 0, 0, 2, 1, 2, 1, 2, 0, 1, 2, 2, 1, 1, 1, 1, 2, 0, 2, 0, 1, 2, 0, 2, 0, 2, 2, 0, 2, 0, 0, 0, 1, 2, 1, 0, 1, 0, 0, 0, 0, 1, 1, 0, 2, 1, 1, 0, 0, 1, 1, 2, 0, 1, 2, 1, 0, 1, 0, 1, 2, 2, 2, 1, 1, 0, 2, 1, 2, 1, 1, 1, 2, 1, 0, 1, 1, 2, 0, 2, 0, 1, 0, 0, 2, 2, 1, 1, 2, 2, 1, 0, 1, 2, 0, 1, 0, 1, 2, 2, 2, 2, 2, 1, 0, 0, 1, 0, 2, 0, 2, 2, 0, 2, 1, 1, 2, 2, 0, 2, 1, 2, 0, 0, 1, 1, 2, 1, 2, 1, 1, 1, 2, 0, 2, 2, 0, 1, 0, 0, 0, 2, 1, 1, 2, 0, 0, 1, 2, 2, 0, 0, 0, 2, 2, 0, 0, 0, 1, 0, 2, 2, 1, 0, 0, 1, 0, 0, 0, 1, 1, 1, 2, 1, 1, 1, 1, 1, 1, 1, 1, 2, 1, 0, 1, 2, 0, 0, 2, 2, 0, 1, 0, 1, 0, 2, 0, 2, 2, 0, 0, 0, 0, 1, 2, 2, 1, 2, 0, 2, 1, 2, 1, 2, 1, 2, 2, 0, 1, 2, 0, 0, 1, 0, 2, 0, 2, 2, 1, 0, 0, 1, 1, 1, 1, 1, 1, 1, 2, 1, 1, 0, 0, 2, 2, 1, 2, 1, 0, 0, 0, 0, 2, 2, 2, 0, 2, 2, 1, 0, 1, 1, 0, 0, 0, 0, 2, 1, 2, 2, 2, 2, 1, 0, 0, 2, 1, 2, 0, 1, 2, 1, 1, 1, 1, 0, 0, 0, 2, 0, 0, 0, 2, 2, 1, 0, 1, 0, 2, 0, 2, 0, 1, 1, 0, 1, 0, 2, 2, 1, 2, 2, 1, 2, 2, 2, 2, 1, 2, 2, 2, 0, 2, 0, 2, 1, 2, 1, 2, 1, 1, 2, 2, 0, 2, 1, 2, 0, 0, 1, 1, 1, 0, 1, 1, 1, 1, 0, 2, 2, 1, 2, 1, 1, 0, 2, 2, 0, 0, 1, 0, 2, 1, 0, 1, 1, 0, 1, 2, 1, 1, 2, 2, 0, 1, 2, 2, 0, 0, 1, 0, 2, 1, 1, 2, 1, 0, 2, 1, 0, 0, 2, 2, 2, 2, 1, 2, 0, 1, 2, 2, 1, 1, 2, 0, 0, 0, 1, 2, 1, 2, 1, 2, 0, 1, 2, 2, 2, 1, 1, 1, 2, 0, 1, 0, 1, 1, 1, 1, 1, 1, 1, 1, 2, 1, 1, 0, 0, 0, 1, 1, 0, 2, 1, 0, 0, 0, 1, 0, 2, 2, 0, 1, 2, 0, 0, 1, 0, 0, 2, 1, 1, 2, 1, 1, 0, 2, 1, 1, 2, 2, 0, 2, 0, 1, 0, 2, 2, 1, 1, 0, 2, 2, 0, 2, 1, 1, 1, 2, 2, 2, 1, 0, 0, 2, 2, 2, 2, 2, 1, 1, 0, 2, 1, 2, 1, 1, 0, 1, 0, 1, 0, 1, 2, 0, 2, 2, 0, 0, 2, 2, 2, 2, 0, 2, 2, 2, 0, 1, 1, 1, 1, 1, 1, 1, 1, 1, 2, 0, 0, 1, 0, 1, 1, 2, 1, 1, 2, 2, 1, 2, 1, 2, 1, 1, 0, 1, 1, 2, 1, 0, 2, 2, 2, 2, 2, 2, 0, 0, 1, 2, 1, 2, 1, 0, 2, 0, 2, 2, 1, 0, 2, 0, 2, 0, 2, 0, 0, 0, 0, 2, 2, 2, 2, 2, 1, 1, 2, 1, 0, 1, 2, 0, 0, 1, 0, 1, 0, 1, 1, 0, 2, 1, 1, 0, 0, 1, 1, 1, 2, 2, 2, 1, 1, 2, 2, 1, 2, 2, 1, 2, 2, 2, 1, 2, 2, 0, 0, 2, 1, 0, 0, 0, 1, 1, 2, 1, 2, 2, 1, 1, 1, 0, 1, 2, 2, 1, 0, 0, 0, 1, 0, 1, 2, 1, 2, 1, 2, 2, 0, 0, 2, 0, 0, 1, 2, 1, 2, 1, 2, 1, 2, 1, 1, 2, 1, 2, 1, 2, 0, 0, 0, 0, 2, 2, 1, 1, 0, 2, 1, 1, 0, 0, 0, 2, 1, 2, 1, 1, 0, 2, 2, 1, 2, 0, 1, 0, 2, 0, 1, 0, 2, 1, 1, 1, 1, 2, 1, 2, 0, 1, 1, 1, 2, 1, 2, 1, 0, 0, 0, 2, 0, 1, 2, 0, 1, 0, 0, 0, 2, 2, 2, 0, 0, 2, 2, 0, 2, 2, 2, 1, 0, 1, 1, 2, 1, 2, 0, 0, 2, 1, 0, 2, 2, 0, 1, 2, 2, 2, 1, 2, 0, 0, 1, 2, 1, 0, 1, 0, 2, 0, 0, 1, 1, 1, 2, 1, 1, 2, 2, 1, 0, 0, 0, 2, 2, 2, 2, 0, 2, 1, 0, 0, 0, 0, 1, 1, 2, 2, 1, 1, 1, 1, 1, 2, 0, 1, 2, 0, 2, 1, 1, 0, 2, 1, 2, 2, 2, 1, 2, 0, 2, 2, 1, 0, 1, 2, 2, 0, 0, 2, 1, 2, 1, 1, 1, 2, 0, 1, 2, 1, 1, 0, 1, 2, 1, 1, 1, 1, 0, 0, 1, 0, 1, 0, 2, 0, 2, 0, 0, 0, 1, 1, 2, 1, 2, 1, 0, 0, 2, 0, 0, 2, 2, 2, 0, 0, 2, 2, 2, 1, 2, 2, 1, 1, 1, 2, 1, 2, 0, 2, 2, 2, 2, 0, 1, 2, 0, 1, 2, 1, 1, 2, 1, 1, 1, 2, 2, 2, 0, 1, 2, 0, 2, 1, 2, 2, 1, 2, 1, 0, 1, 1, 1, 1, 1, 0, 1, 2, 0, 0, 0, 0, 2, 0, 0, 0, 0, 0, 0, 1, 2, 0, 2, 0, 1, 0, 0, 1, 0, 0, 2, 0, 0, 0, 1, 2, 2, 1, 2, 0, 0, 2, 1, 2, 0, 2, 0, 0, 1, 1, 1, 0, 1, 2, 0, 1, 0, 1, 0, 1, 1, 1, 1, 1, 1, 0, 1, 1, 2, 2, 2, 2, 0, 1, 1, 2, 2, 1, 0, 0, 2, 0, 2, 1, 1, 2, 2, 1, 0, 0, 0, 2, 0, 1, 1, 0, 0, 2, 2, 1, 2, 2, 2, 2, 2, 1, 0, 1, 2, 2, 2, 0, 0, 0, 2, 0, 2, 1, 2, 2, 2, 2, 1, 0, 1, 0, 2, 1, 2, 2, 1, 1, 2, 0, 0, 0, 0, 0, 2, 1, 1, 2, 0, 0, 1, 2, 1, 0, 2, 2, 1, 0, 2, 2, 1, 2, 0, 2, 0, 0, 2, 2, 2, 1, 2, 0, 0, 0, 2, 2, 0, 1, 0, 1, 2, 1, 2, 1, 0, 2, 1, 2, 0, 2, 0, 1, 2, 0, 1, 2, 0, 2, 0, 0, 0, 2, 1, 1, 0, 2, 0, 0, 1, 1, 2, 0, 1, 1, 1, 2, 1, 1, 2, 2, 2, 2, 1, 2, 1, 0, 0, 2, 0, 0, 0, 0, 1, 1, 0, 0, 1, 2, 2, 2, 1, 2, 2, 1, 1, 1, 2, 1, 1, 0, 1, 2, 2, 1, 1, 1, 2, 0, 0, 0, 0, 1, 2, 2, 2, 1, 1, 1, 1, 2, 1, 2, 2, 1, 0, 1, 2, 2, 0, 1, 2, 0, 2, 1, 0, 0, 1, 2, 1, 2, 2, 2, 1, 0, 0, 0, 1, 0, 2, 2, 2, 2, 0, 2, 2, 1, 0, 2, 2, 2, 1, 1, 1, 1, 1, 1, 2, 2, 0, 2, 0, 2, 1, 2, 1, 2, 0, 0, 2, 2, 0, 1, 2, 0, 2, 0, 0, 1, 0, 1, 0, 1, 0, 1, 0, 0, 0, 1, 2, 1, 2, 2, 2, 2, 1, 1, 0, 0, 0, 1, 1, 1, 2, 1, 2, 0, 1, 2, 2, 2, 2, 1, 1, 1, 1, 1, 1, 0, 2, 2, 0, 2, 2, 0, 0, 1, 1, 0, 1, 2, 0, 2, 0, 2, 0, 1, 1, 1, 2, 1, 1, 1, 2, 2, 2, 1, 0, 0, 1, 2, 1, 0, 1, 0, 2, 0, 2, 0, 0, 1, 2, 0, 2, 2, 0, 0, 0, 1, 2, 2, 1, 1, 2, 0, 1, 0, 2, 0, 2, 1, 2, 1, 0, 0, 2, 2, 2, 0, 2, 1, 2, 0, 2, 1, 0, 1, 2, 1, 1, 0, 0, 2, 0, 1, 1, 1, 1, 0, 1, 0, 0, 1, 1, 2, 2, 1, 1, 1, 2, 0, 1, 2, 0, 1, 0, 2, 1, 2, 2, 1, 2, 0, 0, 0, 2, 1, 2, 0, 0, 0, 0, 1, 2, 2, 2, 2, 2, 1, 2, 2, 0, 2, 2, 0, 0, 2, 0, 1, 2, 0, 1, 0, 2, 0, 1, 0, 1, 2, 1, 2, 2, 1, 1, 0, 0, 2, 1, 1, 1, 2, 0, 1, 1, 0, 2, 0, 0, 0, 2, 1, 0, 1, 0, 0, 0, 0, 0, 2, 1, 0, 0, 2, 1, 1, 1, 1, 1, 0, 2, 0, 0, 0, 2, 0, 1, 0, 2, 2, 2, 2, 2, 2, 1, 0, 2, 1, 0, 1, 1, 0, 1, 2, 0, 1, 2, 0, 0, 0, 2, 0, 2, 2, 2, 2, 1, 1, 2, 1, 0, 1, 0, 1, 0, 0, 1, 2, 2, 0, 1, 0, 2, 2, 2, 2, 2, 1, 0, 2, 1, 0, 0, 1, 1, 1, 1, 2, 1, 0, 2, 1, 1, 2, 1, 1, 0, 2, 1, 2, 1, 2, 0, 1, 2, 2, 1, 2, 2, 2, 1, 1, 2, 0, 2, 0, 0, 2, 2, 1, 0, 0, 1, 0, 2, 2, 1, 1, 2, 2, 0, 2, 0, 0, 0, 2, 0, 2, 1, 2, 1, 0, 2, 1, 0, 2, 1, 0, 0, 2, 2, 0, 0, 2, 0, 2, 2, 1, 2, 1, 0, 2, 0, 1, 2, 1, 2, 1, 0, 1, 1, 1, 1, 1, 0, 0, 0, 2, 2, 2, 2, 1, 2, 2, 0, 2, 0, 0, 2, 2, 0, 2, 2, 2, 2, 2, 0, 0, 1, 2, 0, 2, 1, 2, 2, 1, 0, 0, 0, 2, 0, 0, 0, 1, 1, 2, 0, 1, 2, 1, 2, 0, 2, 1, 0, 1, 1, 1, 2, 1, 1, 0, 2, 0, 1, 2, 0, 1, 2, 2, 0, 0, 2, 2, 2, 1, 0, 1, 1, 0, 1, 1, 2, 1, 2, 1, 2, 1, 0, 0, 1, 0, 2, 2, 2, 0, 0, 1, 2, 2, 2, 0, 1, 2, 0, 2, 1, 2, 2, 0, 0, 0, 1, 0, 1, 0, 0, 0, 2, 0, 1, 0, 0, 0, 1, 2, 1, 2, 1, 0, 2, 0, 2, 1, 1, 1, 2, 2, 1, 0, 0, 0, 0, 0, 0, 2, 0, 2, 2, 1, 2, 2, 2, 0, 1, 2, 1, 1, 0, 2, 1, 0, 2, 1, 0, 1, 2, 2, 2, 0, 1, 1, 2, 0, 1, 1, 1, 2, 0, 1, 0, 2, 1, 1, 0, 1, 1, 0, 1, 0, 0, 0, 1, 1, 1, 0, 2, 1, 1, 0, 1, 0, 2, 1, 1, 0, 2, 1, 2, 0, 2, 0, 1, 0, 1, 2, 2, 2, 0, 0, 0, 2, 1, 1, 1, 0, 0, 0, 2, 0, 0, 0, 2, 1, 1, 2, 2, 2, 0, 1, 2, 2, 2, 1, 2, 1, 1, 0, 0, 1, 1, 0, 0, 0, 0, 1, 1, 1, 1, 0, 1, 2, 1, 1, 1, 1, 2, 2, 1, 2, 0, 0, 1, 2, 0, 2, 1, 2, 0, 2, 0, 0, 1, 2, 0, 1, 1, 1, 2, 0, 0, 2, 2, 0, 0, 0, 2, 2, 1, 1, 0, 1, 0, 0, 0, 0, 2, 2, 0, 2, 2, 2, 0, 0, 0, 1, 2, 1, 1, 1, 1, 0, 0, 2, 1, 0, 0, 1, 2, 0, 1, 0, 1, 2, 0, 0, 2, 1, 1, 1, 2, 1, 0, 1, 2, 2, 0, 0, 0, 0, 2, 0, 1, 0, 1, 1, 2, 2, 1, 2, 0, 2, 0, 2, 2, 2, 0, 2, 1, 0, 1, 1, 0, 0, 2, 2, 1, 1, 2, 2, 1, 0, 1, 1, 1, 1, 2, 1, 2, 2, 0, 2, 0, 1, 2, 1, 1, 1, 2, 1, 1, 2, 1, 1, 0, 0, 0, 1, 1, 2, 2, 0, 2, 1, 2, 1, 2, 1, 0, 1, 2, 2, 0, 1, 0, 1, 0, 0, 2, 1, 2, 2, 0, 2, 0, 2, 0, 1, 0, 0, 2, 1, 1, 0, 2, 0, 1, 2, 2, 0, 0, 0, 2, 2, 2, 0, 1, 2, 1, 0, 0, 2, 2, 1, 0, 0, 2, 0, 0, 0, 2, 0, 1, 0, 1, 0, 0, 1, 2, 0, 0, 0, 1, 1, 2, 2, 0, 2, 2, 0, 2, 0, 0, 2, 1, 1, 0, 2, 0, 1, 1, 1, 2, 0, 2, 1, 0, 2, 2, 1, 0, 0, 0, 1, 0, 0, 1, 2, 0, 0, 2, 0, 0, 2, 2, 0, 2, 0, 1, 2, 2, 0, 0, 2, 0, 2, 1, 2, 0, 2, 0, 0, 2, 0, 2, 0, 0, 2, 1, 1, 2, 1, 2, 1, 1, 1, 2, 1, 2, 0, 0, 2, 1, 0, 0, 1, 1, 0, 2, 2, 1, 2, 2, 0, 1, 0, 2, 1, 1, 2, 2, 1, 0, 2, 1, 1, 2, 1, 0, 2, 1, 2, 0, 2, 1, 0, 0, 0, 2, 1, 1, 2, 2, 2, 1, 2, 0, 1, 2, 2, 0, 2, 1, 0, 0, 0, 1, 2, 1, 2, 0, 0, 2, 2, 1, 1, 1, 1, 2, 0, 1, 1, 2, 0, 2, 0, 0, 2, 0, 2, 2, 0, 2, 2, 1, 2, 1, 2, 0, 0, 2, 0, 2, 0, 0, 0, 1, 2, 2, 0, 1, 2, 0, 1, 2, 1, 1, 1, 1, 1, 0, 0, 0, 1, 1, 2, 2, 2, 1, 0, 1, 0, 1, 0, 2, 1, 2, 2, 1, 1, 2, 0, 1, 1, 0, 2, 2, 2, 2, 1, 2, 2, 0, 1, 1, 2, 1, 0, 2, 0, 0, 2, 0, 0, 0, 0, 1, 1, 2, 2, 2, 2, 1, 2, 2, 2, 2, 1, 1, 1, 2, 0, 1, 0, 1, 1, 1, 1, 1, 2, 2, 1, 2, 0, 0, 2, 0, 1, 1, 0, 0, 0, 2, 2, 2, 1, 1, 1, 0, 1, 1, 1, 2, 0, 0, 1, 2, 2, 0, 2, 1, 2, 0, 0, 2, 0, 1, 1, 2, 2, 2, 0, 2, 1, 2, 0, 2, 2, 1, 2, 1, 0, 1, 1, 1, 1, 1, 1, 0, 1, 0, 1, 1, 2, 0, 0, 1, 1, 1, 0, 2, 1, 0, 2, 1, 0, 1, 1, 0, 0, 0, 2, 0, 2, 1, 1, 2, 1, 2, 2, 1, 0, 0, 0, 0, 0, 2, 1, 1, 1, 2, 1, 1, 0, 2, 1, 2, 2, 0, 2, 0, 1, 1, 2, 1, 0, 1, 1, 2, 2, 2, 0, 1, 2, 2, 1, 2, 2, 0, 0, 0, 1, 0, 2, 1, 0, 1, 1, 1, 2, 2, 1, 1, 0, 0, 2, 0, 1, 0, 2, 1, 0, 2, 1, 0, 2, 1, 1, 0, 1, 0, 1, 0, 1, 2, 1, 2, 1, 1, 2, 1, 2, 0, 0, 1, 1, 2, 1, 0, 0, 0, 1, 1, 1, 0, 0, 0, 0, 1, 0, 2, 2, 0, 1, 0, 1, 0, 1, 2, 0, 2, 2, 0, 1, 1, 1, 1, 2, 1, 2, 2, 1, 0, 1, 2, 1, 0, 0, 2, 0, 2, 0, 1, 1, 2, 2, 1, 2, 2, 2, 0, 0, 1, 2, 2, 0, 2, 1, 0, 0, 0, 2, 0, 2, 0, 1, 0, 0, 2, 0, 0, 0, 1, 2, 2, 1, 0, 2, 1, 1, 0, 2, 0, 1, 2, 1, 0, 2, 1, 1, 0, 0, 0, 0, 1, 0, 1, 0, 1, 0, 2, 2, 2, 0, 1, 0, 1, 1, 1, 1, 0, 2, 0, 1, 1, 2, 1, 0, 2, 1, 2, 2, 1, 1, 0, 2, 1, 2, 0, 2, 2, 2, 2, 1, 0, 1, 2, 2, 2, 1, 2, 2, 1, 2, 2, 1, 1, 0, 0, 0, 0, 2, 0, 1, 0, 0, 2, 1, 2, 2, 0, 1, 0, 2, 0, 1, 2, 2, 2, 2, 1, 0, 0, 2, 0, 2, 0, 2, 0, 0, 2, 1, 2, 0, 1, 0, 0, 0, 0, 2, 2, 2, 0, 2, 0, 0, 2, 2, 2, 2, 1, 2, 2, 1, 2, 1, 2, 2, 2, 0, 0, 1, 2, 0, 0, 2, 1, 0, 1, 2, 0, 0, 1, 2, 0, 0, 2, 0, 2, 1, 2, 1, 0, 1, 0, 1, 1, 1, 1, 1, 0, 2, 2, 2, 0, 0, 2, 1, 2, 2, 2, 0, 2, 0, 0, 2, 0, 1, 0, 0, 0, 1, 1, 0, 1, 2, 0, 0, 1, 1, 0, 2, 1, 1, 2, 0, 1, 0, 0, 0, 1, 1, 2, 1, 1, 0, 0, 2, 2, 0, 0, 1, 2, 2, 1, 1, 0, 1, 1, 1, 1, 0, 2, 1, 2, 0, 2, 1, 1, 1, 0, 1, 0, 2, 1, 2, 2, 2, 0, 1, 2, 1, 2, 0, 2, 1, 2, 2, 1, 2, 2, 0, 0, 2, 0, 1, 1, 1, 2, 1, 1, 1, 0, 1, 0, 0, 0, 0, 1, 2, 2, 1, 2, 1, 0, 2, 0, 0, 1, 1, 2, 1, 1, 2, 1, 0, 1, 2, 2, 2, 0, 1, 0, 1, 2, 0, 0, 1, 0, 0, 0, 2, 0, 1, 1, 2, 0, 1, 2, 1, 2, 0, 0, 0, 2, 1, 1, 0, 2, 0, 0, 0, 2, 2, 2, 1, 0, 1, 2, 0, 1, 2, 0, 2, 1, 1, 1, 2, 1, 0, 1, 2, 2, 1, 0, 0, 0, 1, 2, 1, 0, 2, 1, 0, 1, 0, 2, 1, 2, 0, 2, 2, 0, 0, 2, 1, 2, 2, 0, 2, 1, 1, 0, 0, 2, 1, 1, 0, 2, 0, 0, 0, 2, 0, 2, 1, 0, 2, 0, 1, 1, 2, 1, 0, 0, 2, 1, 2, 1, 2, 1, 2, 2, 1, 0, 2, 1, 0, 2, 2, 1, 2, 0, 1, 2, 2, 0, 0, 2, 0, 0, 1, 1, 0, 0, 0, 0, 2, 1, 2, 0, 0, 1, 0, 1, 1, 0, 1, 1, 0, 1, 2, 1, 2, 2, 1, 2, 1, 2, 0, 1, 0, 1, 2, 1, 1, 0, 0, 0, 2, 2, 0, 2, 2, 1, 2, 2, 0, 2, 1, 1, 2, 2, 0, 0, 1, 0, 0, 1, 0, 2, 0, 0, 2, 2, 2, 2, 0, 1, 2, 1, 1, 2, 0, 0, 2, 1, 0, 0, 0, 1, 0, 1, 2, 1, 1, 2, 2, 2, 2, 0, 0, 1, 0, 0, 0, 0, 1, 0, 1, 0, 2, 2, 0, 1, 1, 1, 2, 2, 0, 2, 1, 1, 0, 0, 2, 2, 2, 1, 0, 2, 2, 1, 0, 2, 0, 1, 2, 2, 2, 2, 1, 2, 1, 1, 1, 1, 0, 0, 1, 2, 0, 1, 0, 1, 2, 1, 1, 2, 1, 0, 1, 1, 0, 0, 2, 2, 0, 1, 1, 0, 1, 2, 1, 0, 0, 0, 1, 2, 2, 2, 2, 2, 2, 2, 0, 2, 1, 2, 1, 2, 2, 0, 2, 0, 0, 1, 0, 1, 2, 0, 2, 0, 2, 1, 1, 2, 2, 2, 2, 0, 1, 0, 2, 0, 2, 2, 1, 0, 2, 0, 0, 1, 1, 1, 1, 0, 1, 0, 2, 2, 0, 0, 2, 0, 1, 1, 0, 1, 2, 1, 2, 2, 2, 1, 1, 0, 0, 1, 1, 2, 1, 2, 1, 1, 0, 2, 1, 2, 2, 1, 1, 0, 0, 0, 0, 2, 1, 2, 0, 2, 1, 2, 2, 1, 0, 0, 1, 2, 2, 0, 1, 2, 0, 0, 2, 1, 1, 0, 1, 2, 0, 0, 2, 2, 0, 0, 0, 0, 2, 1, 1, 2, 1, 0, 1, 0, 0, 2, 2, 0, 1, 1, 2, 2, 0, 0, 0, 1, 2, 1, 0, 2, 2, 0, 0, 1, 0, 1, 0, 0, 1, 0, 2, 2, 0, 0, 0, 1, 1, 0, 1, 1, 2, 1, 1, 2, 2, 2, 2, 1, 1, 2, 1, 0, 1, 1, 1, 2, 0, 2, 1, 1, 1, 2, 1, 0, 1, 0, 2, 2, 1, 1, 0, 1, 2, 2, 0, 2, 0, 2, 0, 2, 1, 1, 1, 0, 2, 2, 0, 0, 1, 0, 0, 2, 1, 0, 1, 1, 2, 1, 2, 0, 1, 0, 2, 2, 1, 0, 1, 0, 1, 2, 2, 0, 0, 2, 2, 1, 2, 0, 0, 0, 0, 1, 2, 0, 2, 2, 1, 0, 2, 0, 2, 2, 1, 2, 1, 0, 2, 2, 0, 2, 0, 1, 2, 2, 2, 0, 0, 2, 2, 1, 0, 2, 2, 1, 0, 1, 2, 1, 0, 0, 1, 0, 1, 0, 1, 1, 1, 0, 0, 0, 2, 2, 1, 1, 0, 1, 0, 1, 0, 2, 1, 1, 0, 1, 2, 1, 2, 0, 2, 2, 2, 2, 2, 0, 1, 0, 0, 2, 2, 2, 1, 2, 1, 0, 0, 0, 2, 2, 0, 2, 0, 1, 2, 2, 0, 2, 0, 0, 2, 2, 1, 1, 2, 2, 0, 2, 0, 0, 2, 2, 0, 1, 0, 0, 2, 1, 2, 2, 2, 2, 0, 1, 1, 2, 0, 1, 2, 2, 2, 2, 2, 0, 0, 2, 0, 2, 1, 2, 1, 2, 0, 0, 0, 0, 2, 2, 1, 0, 2, 2, 0, 0, 1, 1, 2, 2, 1, 1, 2, 2, 0, 2, 2, 1, 1, 1, 0, 1, 2, 0, 1, 1, 0, 2, 2, 2, 2, 2, 0, 1, 2, 0, 0, 0, 0, 2, 0, 1, 0, 1, 0, 1, 1, 2, 2, 1, 1, 0, 2, 0, 0, 2, 2, 0, 2, 1, 1, 1, 0, 2, 0, 2, 2, 0, 2, 1, 0, 1, 2, 2, 1, 1, 2, 2, 1, 2, 0, 1, 0, 1, 2, 0, 0, 1, 0, 0, 2, 2, 2, 0, 2, 2, 0, 0, 0, 1, 0, 2, 2, 2, 1, 0, 0, 1, 1, 1, 0, 1, 1, 2, 2, 0, 1, 2, 0, 1, 1, 2, 0, 2, 0, 2, 2, 2, 1, 2, 0, 0, 1, 1, 1, 0, 0, 2, 0, 2, 2, 1, 0, 0, 1, 0, 0, 0, 1, 2, 2, 1, 0, 2, 1, 1, 2, 2, 0, 1, 2, 0, 1, 1, 1, 0, 2, 2, 2, 0, 0, 2, 0, 1, 1, 2, 1, 0, 1, 0, 0, 0, 2, 0, 1, 1, 1, 2, 1, 0, 1, 2, 2, 1, 2, 2, 2, 2, 2, 0, 2, 0, 0, 2, 2, 0, 2, 2, 1, 1, 2, 2, 2, 2, 2, 0, 2, 1, 0, 0, 0, 1, 1, 1, 0, 1, 2, 1, 0, 1, 2, 1, 1, 2, 0, 0, 1, 2, 1, 1, 1, 1, 2, 0, 1, 2, 2, 0, 2, 0, 0, 0, 2, 1, 1, 0, 0, 2, 0, 1, 0, 1, 0, 1, 2, 1, 0, 1, 1, 2, 1, 2, 0, 1, 0, 0, 2, 2, 1, 2, 0, 2, 2, 0, 2, 1, 0, 0, 2, 0, 2, 2, 0, 1, 2, 1, 2, 0, 1, 2, 2, 1, 2, 1, 0, 0, 0, 1, 0, 0, 2, 1, 0, 0, 1, 0, 1, 1, 0, 2, 2, 2, 2, 0, 0, 0, 1, 0, 1, 0, 0, 0, 2, 0, 2, 0, 2, 2, 1, 1, 0, 2, 1, 1, 2, 0, 2, 2, 0, 2, 1, 0, 0, 1, 1, 1, 0, 0, 2, 2, 0, 1, 1, 2, 0, 1, 2, 2, 1, 1, 2, 2, 2, 1, 0, 0, 0, 0, 0, 1, 2, 0, 2, 1, 0, 1, 1, 2, 0, 1, 0, 1, 2, 0, 2, 1, 0, 0, 0, 0, 0, 1, 1, 0, 2, 0, 1, 1, 0, 2, 0, 2, 2, 1, 0, 2, 1, 1, 1, 1, 2, 0, 0, 0, 2, 2, 2, 0, 2, 0, 0, 2, 2, 1, 0, 2, 1, 2, 2, 1, 2, 0, 2, 0, 2, 1, 2, 1, 0, 0, 0, 1, 1, 2, 0, 2, 0, 1, 2, 0, 0, 0, 1, 0, 1, 2, 2, 2, 2, 2, 0, 1, 0, 0, 0, 0, 2, 0, 1, 1, 2, 2, 1, 0, 2, 1, 2, 0, 2, 1, 1, 0, 2, 0, 1, 1, 0, 2, 0, 0, 1, 0, 1, 2, 1, 2, 0, 2, 2, 1, 0, 0, 2, 0, 1, 0, 0, 2, 2, 1, 0, 0, 1, 0, 0, 1, 1, 2, 1, 0, 1, 0, 1, 2, 1, 1, 0, 2, 2, 1, 2, 0, 2, 1, 0, 1, 0, 0, 2, 1, 2, 2, 1, 2, 0, 0, 1, 1, 2, 0, 0, 0, 1, 2, 0, 2, 2, 1, 2, 1, 1, 1, 2, 1, 0, 2, 0, 0, 2, 0, 2, 1, 1, 2, 1, 2, 2, 0, 0, 0, 2, 0, 2, 0, 2, 2, 0, 0, 0, 0, 2, 0, 0, 1, 2, 2, 0, 0, 1, 1, 0, 2, 1, 2, 2, 0, 2, 0, 1, 1, 0, 0, 1, 1, 0, 2, 0, 0, 0, 0, 0, 2, 1, 1, 2, 1, 1, 1, 1, 1, 0, 1, 0, 2, 0, 0, 2, 1, 2, 2, 0, 1, 2, 0, 0, 0, 2, 0, 0, 2, 0, 2, 0, 2, 0, 0, 1, 1, 2, 0, 0, 2, 0, 2, 2, 1, 1, 0, 1, 2, 2, 1, 0, 0, 0, 2, 2, 2, 0, 2, 0, 2, 0, 0, 2, 1, 1, 2, 2, 2, 1, 0, 0, 2, 2, 2, 1, 1, 2, 0, 2, 1, 0, 0, 2, 0, 1, 2, 2, 0, 2, 1, 2, 1, 0, 1, 0, 0, 2, 0, 1, 1, 1, 0, 2, 1, 0, 2, 2, 2, 2, 0, 0, 0, 0, 2, 1, 1, 1, 1, 1, 0, 2, 2, 1, 0, 2, 1, 0, 0, 2, 0, 2, 0, 1, 0, 0, 2, 0, 2, 2, 1, 2, 2, 2, 1, 1, 2, 0, 0, 2, 2, 1, 0, 0, 2, 0, 2, 2, 0, 0, 0, 1, 1, 0, 2, 0, 2, 2, 0, 1, 0, 1, 0, 1, 1, 2, 1, 0, 0, 1, 1, 1, 2, 0, 1, 1, 2, 2, 2, 2, 1, 2, 2, 2, 2, 0, 0, 1, 2, 0, 0, 0, 0, 2, 1, 0, 1, 2, 0, 1, 2, 1, 2, 0, 1, 0, 1, 2, 2, 2, 2, 2, 0, 0, 2, 2, 2, 1, 2, 2, 2, 1, 0, 2, 2, 0, 0, 1, 0, 1, 1, 2, 0, 0, 0, 2, 2, 1, 0, 1, 2, 1, 2, 0, 0, 0, 0, 2, 2, 2, 0, 2, 2, 0, 1, 0, 2, 0, 2, 1, 1, 1, 1, 0, 2, 2, 2, 1, 0, 1, 0, 2, 2, 0, 0, 0, 2, 1, 2, 1, 1, 1, 1, 1, 0, 2, 1, 2, 0, 2, 1, 2, 2, 2, 0, 0, 0, 1, 2, 2, 1, 0, 2, 1, 0, 1, 2, 2, 2, 2, 0, 0, 2, 0, 1, 2, 1, 0, 0, 1, 0, 2, 0, 0, 2, 0, 0, 2, 2, 0, 2, 2, 1, 0, 1, 1, 2, 1, 1, 2, 1, 1, 1, 2, 0, 1, 0, 1, 1, 0, 1, 0, 2, 0, 1, 2, 2, 0, 0, 2, 0, 0, 0, 0, 1, 1, 1, 2, 0, 1, 0, 1, 1, 2, 0, 2, 0, 0, 1, 2, 2, 0, 2, 2, 0, 1, 1, 2, 0, 0, 1, 1, 0, 2, 2, 0, 1, 2, 0, 0, 2, 2, 1, 2, 0, 2, 2, 1, 0, 0, 2, 0, 0, 0, 1, 2, 0, 2, 0, 1, 0, 0, 1, 0, 0, 2, 1, 2, 2, 2, 0, 1, 2, 0, 2, 2, 2, 2, 0, 2, 1, 2, 0, 2, 0, 0, 2, 2, 2, 0, 1, 0, 2, 2, 1, 2, 0, 1, 0, 1, 0, 1, 2, 2, 1, 1, 1, 1, 1, 0, 0, 2, 1, 0, 2, 1, 1, 2, 0, 1, 2, 0, 1, 0, 1, 1, 1, 2, 0, 2, 2, 0, 1, 0, 0, 2, 1, 1, 0, 2, 0, 0, 2, 0, 0, 0, 0, 0, 2, 1, 1, 0, 1, 1, 0, 2, 1, 2, 2, 0, 2, 2, 0, 0, 0, 1, 1, 1, 0, 1, 0, 0, 1, 2, 1, 2, 2, 0, 2, 1, 0, 0, 2, 2, 1, 2, 1, 2, 1, 0, 2, 0, 1, 0, 1, 0, 0, 2, 0, 2, 2, 2, 1, 2, 0, 1, 0, 1, 2, 2, 0, 1, 0, 2, 2, 2, 1, 2, 2, 1, 1, 0, 1, 1, 1, 1, 1, 2, 2, 1, 0, 2, 2, 0, 2, 0, 2, 1, 2, 0, 1, 2, 2, 1, 1, 0, 0, 1, 1, 1, 1, 2, 1, 0, 2, 2, 2, 2, 2, 2, 2, 1, 0, 2, 1, 1, 1, 1, 1, 1, 2, 2, 1, 1, 1, 2, 1, 0, 1, 0, 2, 1, 0, 0, 2, 0, 0, 1, 2, 2, 2, 1, 2, 2, 2, 0, 2, 1, 1, 1, 0, 0, 0, 1, 0, 1, 1, 2, 2, 0, 1, 0, 1, 2, 1, 0, 2, 0, 0, 2, 0, 1, 0, 0, 1, 0, 0, 2, 0, 2, 2, 2, 0, 0, 0, 1, 0, 0, 1, 1, 2, 0, 1, 0, 1, 2, 0, 2, 1, 0, 2, 2, 0, 2, 0, 2, 0, 0, 2, 0, 1, 0, 2, 0, 0, 1, 2, 1, 1, 1, 0, 2, 0, 0, 1, 0, 1, 1, 2, 2, 2, 1, 0, 0, 2, 0, 0, 2, 2, 1, 2, 2, 2, 1, 2, 1, 2, 2, 1, 2, 2, 0, 2, 0, 1, 0, 0, 1, 1, 1, 0, 2, 0, 0, 2, 1, 1, 1, 1, 1, 0, 1, 1, 2, 2, 1, 1, 0, 2, 1, 0, 0, 1, 1, 1, 0, 2, 0, 1, 1, 2, 0, 1, 0, 2, 0, 0, 1, 1, 2, 2, 2, 0, 0, 1, 2, 2, 1, 1, 1, 1, 0, 2, 0, 1, 2, 0, 2, 1, 0, 2, 1, 2, 2, 0, 1, 0, 2, 2, 0, 2, 2, 2, 1, 1, 0, 2, 2, 0, 2, 2, 2, 2, 2, 1, 0, 1, 1, 0, 1, 1, 2, 0, 0, 2, 1, 0, 2, 1, 2, 2, 0, 1, 0, 2, 1, 2, 0, 0, 0, 1, 2, 1, 0, 1, 2, 0, 2, 2, 2, 1, 0, 1, 2, 2, 0, 2, 2, 1, 2, 0, 0, 2, 0, 2, 0, 0, 0, 1, 2, 0, 2, 1, 0, 2, 2, 0, 1, 2, 2, 2, 1, 2, 2, 2, 1, 0, 0, 0, 0, 0, 1, 0, 0, 0, 0, 2, 0, 1, 1, 1, 1, 0, 2, 1, 1, 0, 2, 2, 2, 1, 0, 1, 2, 0, 1, 1, 1, 1, 2, 1, 2, 2, 1, 1, 2, 2, 0, 2, 0, 0, 1, 2, 0, 1, 0, 1, 1, 2, 2, 1, 2, 2, 2, 2, 1, 2, 0, 1, 2, 0, 2, 2, 2, 0, 1, 1, 0, 1, 0, 2, 1, 2, 0, 2, 2, 1, 1, 2, 2, 1, 1, 0, 1, 0, 0, 2, 2, 1, 2, 1, 0, 1, 2, 2, 1, 0, 1, 0, 0, 2, 1, 2, 1, 1, 0, 2, 0, 1, 2, 0, 2, 2, 0, 2, 0, 0, 0, 2, 2, 2, 2, 1, 1, 1, 1, 0, 0, 0, 0, 1, 2, 1, 0, 2, 1, 0, 1, 2, 1, 0, 2, 2, 2, 2, 2, 1, 2, 0, 0, 2, 1, 0, 2, 2, 1, 2, 0, 0, 2, 2, 1, 2, 2, 0, 2, 1, 2, 1, 1, 0, 2, 2, 1, 2, 0, 0, 0, 1, 1, 2, 0, 1, 1, 1, 2, 1, 2, 2, 0, 0, 2, 1, 2, 1, 1, 0, 2, 2, 0, 0, 2, 2, 0, 2, 1, 2, 0, 2, 1, 1, 1, 0, 0, 1, 1, 1, 2, 2, 0, 1, 0, 1, 0, 2, 0, 1, 1, 2, 2, 2, 1, 1, 2, 2, 2, 1, 0, 1, 1, 0, 2, 0, 1, 1, 0, 0, 0, 2, 2, 2, 0, 1, 0, 1, 1, 1, 0, 2, 0, 0, 0, 0, 2, 0, 1, 0, 2, 0, 0, 2, 2, 1, 0, 1, 0, 0, 0, 0, 0, 1, 0, 2, 1, 2, 0, 2, 1, 0, 2, 0, 1, 1, 1, 0, 0, 0, 1, 0, 1, 2, 0, 1, 2, 2, 2, 0, 0, 2, 1, 0, 2, 2, 1, 2, 1, 0, 1, 1, 0, 2, 0, 1, 2, 0, 1, 2, 2, 2, 0, 2, 0, 0, 1, 1, 1, 0, 1, 2, 2, 0, 0, 2, 0, 2, 2, 2, 0, 1, 0, 2, 0, 1, 2, 2, 1, 1, 2, 0, 2, 1, 2, 0, 1, 0, 0, 1, 2, 0, 2, 2, 2, 0, 0, 2, 2, 1, 1, 0, 2, 1, 0, 2, 2, 0, 2, 1, 2, 0, 0, 1, 2, 1, 1, 0, 1, 0, 1, 1, 1, 2, 0, 0, 0, 0, 1, 2, 1, 0, 2, 0, 1, 0, 1, 1, 0, 0, 2, 1, 1, 2, 1, 1, 0, 0, 2, 0, 0, 2, 0, 2, 2, 0, 1, 0, 2, 0, 2, 1, 2, 1, 0, 1, 1, 2, 0, 1, 1, 2, 2, 2, 0, 0, 2, 1, 2, 2, 1, 2, 1, 0, 1, 0, 0, 1, 0, 1, 1, 0, 2, 1, 1, 2, 1, 2, 0, 2, 0, 2, 1, 1, 0, 0, 2, 1, 0, 2, 1, 2, 1, 1, 1, 0, 2, 1, 2, 0, 0, 1, 1, 2, 2, 0, 2, 2, 1, 1, 1, 2, 2, 2, 1, 1, 0, 0, 2, 0, 0, 2, 1, 1, 0, 1, 1, 2, 2, 2, 2, 2, 0, 1, 2, 0, 1, 1, 1, 0, 1, 0, 2, 0, 0, 2, 0, 2, 1, 2, 1, 0, 2, 2, 1, 0, 2, 1, 2, 1, 1, 1, 0, 2, 1, 0, 1, 0, 0, 1, 0, 1, 1, 2, 0, 0, 2, 0, 0, 1, 2, 0, 2, 1, 0, 1, 0, 2, 2, 1, 2, 0, 2, 2, 0, 2, 2, 1, 2, 0, 1, 2, 1, 2, 0, 1, 2, 0, 2, 0, 0, 2, 1, 0, 0, 1, 0, 1, 1, 1, 2, 1, 2, 2, 2, 1, 0, 2, 1, 1, 0, 1, 0, 1, 1, 0, 0, 1, 1, 2, 2, 0, 2, 2, 1, 2, 1, 1, 2, 2, 0, 0, 1, 0, 2, 1, 0, 0, 0, 1, 1, 0, 2, 0, 1, 0, 1, 1, 1, 0, 2, 2, 2, 0, 2, 1, 0, 1, 2, 1, 2, 0, 0, 1, 1, 2, 1, 1, 0, 2, 1, 0, 2, 2, 0, 1, 0, 0, 2, 1, 1, 0, 2, 0, 1, 2, 1, 1, 1, 2, 0, 2, 2, 0, 0, 1, 1, 2, 1, 1, 2, 0, 2, 0, 2, 2, 1, 2, 1, 2, 1, 2, 0, 1, 0, 2, 2, 0, 2, 1, 2, 2, 2, 2, 2, 0, 2, 1, 0, 2, 2, 1, 1, 0, 1, 1, 2, 0, 0, 2, 1, 1, 1, 2, 2, 0, 0, 1, 1, 1, 0, 1, 2, 1, 0, 0, 0, 0, 2, 0, 0, 2, 0, 2, 2, 0, 1, 2, 1, 0, 0, 0, 0, 0, 1, 2, 0, 1, 2, 2, 2, 0, 2, 2, 2, 2, 1, 2, 2, 0, 0, 2, 2, 0, 1, 1, 2, 1, 1, 0, 2, 1, 1, 1, 0, 0, 1, 1, 0, 0, 0, 2, 1, 0, 2, 0, 0, 2, 2, 2, 0, 2, 0, 2, 1, 1, 0, 1, 0, 0, 2, 1, 1, 2, 2, 2, 1, 1, 1, 0, 2, 1, 0, 2, 2, 0, 1, 2, 2, 1, 1, 2, 2, 2, 0, 1, 1, 2, 1, 1, 0, 0, 0, 0, 1, 2, 2, 0, 2, 2, 0, 1, 1, 0, 1, 0, 2, 1, 2, 2, 2, 0, 2, 0, 0, 2, 2, 0, 0, 2, 2, 2, 0, 2, 1, 1, 2, 0, 1, 1, 0, 1, 1, 2, 1, 2, 1, 2, 0, 0, 2, 1, 1, 2, 0, 2, 0, 2, 1, 0, 1, 2, 2, 2, 2, 2, 2, 2, 1, 1, 0, 1, 1, 0, 2, 1, 0, 1, 0, 0, 2, 2, 1, 1, 2, 0, 1, 1, 0, 0, 2, 2, 2, 1, 1, 0, 2, 1, 0, 0, 1, 1, 2, 1, 2, 1, 0, 0, 1, 0, 2, 1, 1, 1, 1, 2, 0, 2, 1, 1, 2, 2, 2, 0, 1, 2, 2, 1, 1, 0, 0, 1, 2, 2, 2, 2, 2, 1, 1, 2, 2, 0, 0, 1, 1, 1, 0, 1, 1, 1, 0, 1, 2, 2, 0, 1, 0, 0, 1, 1, 1, 1, 1, 1, 1, 0, 1, 2, 0, 1, 1, 0, 1, 2, 1, 0, 1, 2, 2, 0, 2, 1, 1, 1, 2, 0, 2, 1, 1, 2, 1, 2, 0, 0, 2, 1, 2, 2, 0, 2, 2, 0, 2, 2, 2, 2, 1, 0, 0, 1, 2, 2, 0, 1, 1, 1, 0, 0, 1, 1, 1, 1, 0, 2, 2, 2, 2, 2, 1, 0, 2, 0, 1, 2, 2, 0, 2, 1, 1, 0, 1, 2, 1, 1, 0, 1, 0, 1, 1, 0, 0, 1, 1, 0, 2, 2, 1, 0, 0, 1, 2, 0, 2, 0, 1, 2, 1, 0, 1, 1, 1, 0, 2, 2, 0, 2, 0, 2, 2, 0, 0, 2, 2, 1, 1, 1, 1, 0, 2, 1, 2, 1, 2, 0, 2, 1, 0, 2, 2, 2, 2, 2, 0, 2, 1, 1, 2, 2, 1, 1, 2, 2, 2, 1, 0, 2, 0, 1, 0, 0, 1, 1, 1, 0, 0, 2, 2, 0, 1, 1, 1, 2, 1, 2, 1, 0, 1, 1, 2, 1, 2, 2, 1, 1, 2, 2, 0, 2, 2, 0, 2, 0, 1, 2, 2, 1, 2, 2, 0, 1, 0, 2, 2, 1, 2, 0, 1, 2, 2, 2, 0, 0, 0, 0, 1, 1, 2, 2, 0, 2, 2, 1, 1, 0, 2, 2, 2, 2, 1, 0, 1, 1, 0, 2, 2, 2, 2, 1, 1, 0, 0, 0, 2, 0, 0, 2, 1, 1, 0, 1, 2, 1, 2, 2, 1, 1, 1, 2, 2, 2, 2, 0, 2, 0, 2, 0, 1, 0, 0, 0, 0, 2, 1, 2, 2, 2, 0, 1, 2, 0, 0, 0, 0, 2, 2, 1, 1, 0, 1, 0, 1, 2, 2, 1, 2, 2, 0, 2, 2, 1, 0, 2, 1, 1, 2, 0, 0, 1, 1, 1, 0, 2, 0, 0, 0, 1, 1, 1, 1, 1, 0, 1, 1, 1, 0, 1, 0, 0, 2, 0, 0, 0, 2, 1, 2, 0, 0, 0, 0, 2, 0, 2, 0, 2, 1, 1, 1, 2, 1, 1, 0, 1, 1, 0, 0, 1, 1, 0, 1, 1, 0, 0, 2, 0, 1, 1, 2, 2, 0, 2, 1, 0, 1, 0, 1, 0, 1, 1, 0, 1, 1, 0, 2, 2, 2, 0, 1, 0, 1, 1, 2, 0, 0, 0, 2, 1, 2, 1, 1, 1, 2, 2, 1, 2, 2, 0, 0, 0, 0, 0, 2, 1, 1, 1, 1, 1, 1, 1, 2, 1, 1, 1, 1, 1, 1, 2, 2, 0, 1, 0, 2, 0, 0, 2, 0, 0, 0, 2, 2, 1, 1, 0, 1, 0, 2, 0, 0, 1, 2, 0, 0, 2, 2, 0, 1, 0, 1, 2, 2, 1, 1, 1, 1, 2, 1, 1, 0, 0, 2, 2, 2, 2, 1, 2, 0, 2, 1, 1, 1, 0, 2, 0, 1, 2, 1, 1, 0, 0, 0, 2, 1, 0, 2, 0, 2, 1, 1, 0, 2, 1, 1, 2, 2, 2, 0, 1, 1, 2, 0, 1, 2, 1, 1, 2, 1, 1, 0, 0, 2, 1, 0, 0, 0, 1, 1, 0, 1, 0, 2, 1, 0, 1, 2, 0, 2, 1, 2, 1, 2, 1, 1, 2, 2, 0, 2, 1, 0, 1, 0, 0, 2, 2, 2, 2, 2, 1, 2, 2, 2, 2, 0, 2, 2, 1, 0, 1, 1, 1, 1, 0, 2, 0, 1, 0, 2, 0, 0, 0, 2, 1, 1, 1, 0, 1, 2, 2, 0, 2, 1, 2, 0, 0, 2, 2, 2, 0, 2, 0, 0, 0, 2, 0, 1, 0, 0, 2, 2, 0, 2, 1, 0, 2, 1, 2, 2, 0, 0, 0, 1, 2, 0, 2, 0, 0, 1, 2, 2, 1, 0, 2, 2, 1, 1, 2, 2, 2, 0, 0, 1, 2, 0, 1, 1, 2, 1, 1, 1, 1, 1, 2, 1, 0, 2, 0, 1, 0, 0, 2, 2, 0, 0, 1, 0, 0, 1, 2, 0, 0, 1, 1, 2, 0, 2, 0, 0, 1, 0, 2, 1, 1, 2, 2, 1, 0, 2, 2, 0, 2, 1, 2, 2, 2, 1, 2, 0, 1, 0, 1, 1, 2, 2, 2, 1, 2, 0, 1, 2, 0, 1, 1, 2, 2, 2, 1, 0, 1, 2, 2, 1, 1, 2, 0, 2, 2, 0, 1, 2, 2, 1, 1, 2, 0, 1, 2, 0, 0, 1, 1, 2, 1, 1, 1, 0, 1, 2, 1, 1, 1, 2, 1, 1, 2, 1, 1, 2, 1, 2, 1, 2, 0, 0, 0, 0, 0, 0, 0, 1, 0, 2, 1, 1, 1, 0, 0, 2, 2, 0, 0, 2, 2, 2, 0, 2, 0, 0, 0, 0, 2, 2, 0, 0, 0, 2, 0, 1, 2, 2, 2, 2, 0, 0, 0, 0, 2, 1, 0, 2, 1, 0, 2, 2, 0, 1, 1, 0, 0, 1, 1, 1, 1, 1, 0, 0, 0, 0, 2, 1, 1, 2, 2, 2, 0, 2, 1, 0, 0, 1, 2, 2, 2, 2, 0, 1, 2, 0, 2, 1, 1, 2, 1, 0, 2, 2, 1, 2, 2, 0, 1, 0, 1, 1, 1, 1, 2, 1, 1, 2, 1, 1, 1, 1, 2, 1, 2, 1, 1, 1, 1, 0, 2, 2, 1, 2, 1, 2, 0, 0, 1, 2, 2, 1, 1, 0, 1, 0, 0, 0, 0, 1, 0, 1, 1, 1, 0, 0, 2, 1, 0, 2, 0, 1, 2, 1, 1, 2, 1, 2, 0, 0, 0, 2, 0, 1, 2, 0, 2, 1, 2, 1, 0, 1, 2, 0, 2, 2, 2, 1, 0, 1, 0, 1, 1, 1, 0, 1, 1, 2, 2, 1, 1, 0, 0, 1, 0, 1, 0, 2, 2, 1, 2, 2, 2, 2, 0, 1, 1, 1, 1, 0, 1, 2, 0, 1, 1, 0, 2, 0, 0, 0, 1, 1, 1, 2, 0, 1, 0, 1, 1, 2, 1, 1, 2, 0, 0, 1, 2, 1, 0, 0, 0, 1, 0, 0, 1, 0, 0, 0, 0, 2, 2, 1, 0, 0, 2, 1, 2, 2, 2, 2, 1, 0, 2, 2, 1, 0, 0, 2, 0, 0, 0, 1, 0, 0, 0, 1, 2, 0, 0, 1, 0, 2, 1, 1, 2, 1, 0, 1, 2, 2, 0, 1, 0, 2, 1, 1, 1, 2, 0, 0, 1, 0, 1, 1, 1, 2, 2, 0, 0, 0, 0, 1, 1, 0, 2, 1, 2, 2, 0, 2, 1, 0, 2, 2, 2, 1, 1, 1, 0, 1, 1, 2, 2, 0, 2, 2, 0, 2, 1, 0, 0, 0, 1, 1, 2, 0, 2, 1, 1, 0, 0, 2, 1, 2, 0, 2, 2, 0, 1, 1, 1, 2, 0, 1, 2, 1, 2, 0, 0, 2, 2, 0, 0, 2, 1, 2, 2, 1, 2, 0, 2, 0, 0, 0, 2, 0, 0, 1, 1, 1, 1, 1, 0, 1, 1, 1, 1, 0, 0, 2, 2, 1, 1, 2, 2, 0, 1, 1, 0, 1, 0, 1, 0, 1, 0, 0, 1, 2, 0, 2, 0, 1, 1, 2, 1, 0, 2, 1, 0, 2, 0, 1, 2, 2, 2, 1, 2, 0, 0, 0, 2, 2, 2, 0, 1, 0, 2, 2, 0, 0, 1, 2, 2, 0, 1, 2, 0, 1, 0, 1, 2, 0, 1, 2, 0, 1, 1, 1, 1, 1, 1, 1, 1, 0, 0, 0, 1, 1, 2, 0, 2, 1, 0, 1, 2, 1, 1, 0, 2, 2, 0, 0, 2, 2, 0, 1, 2, 1, 0, 2, 0, 2, 0, 2, 1, 1, 2, 1, 0, 2, 0, 1, 0, 0, 1, 0, 0, 1, 0, 2, 2, 1, 1, 2, 2, 2, 0, 1, 0, 0, 2, 0, 2, 1, 1, 1, 2, 2, 1, 1, 0, 0, 0, 1, 2, 1, 0, 0, 0, 2, 0, 2, 0, 1, 0, 2, 2, 2, 0, 2, 0, 0, 1, 2, 1, 2, 0, 1, 0, 0, 1, 0, 2, 2, 1, 1, 0, 2, 2, 1, 2, 2, 1, 2, 1, 2, 1, 2, 0, 2, 1, 1, 1, 1, 1, 2, 0, 0, 2, 1, 1, 1, 0, 0, 0, 1, 0, 0, 0, 2, 0, 1, 2, 0, 2, 0, 2, 0, 2, 2, 2, 2, 2, 2, 2, 0, 1, 2, 0, 0, 1, 1, 0, 2, 0, 1, 0, 0, 2, 1, 2, 1, 0, 0, 1, 0, 0, 0, 0, 0, 0, 1, 1, 2, 1, 2, 1, 2, 2, 1, 0, 1, 2, 1, 2, 0, 1, 2, 0, 2, 1, 2, 1, 0, 1, 0, 0, 1, 0, 0, 2, 1, 2, 1, 2, 1, 0, 1, 1, 1, 2, 0, 0, 0, 2, 0, 0, 1, 1, 1, 0, 1, 1, 2, 0, 1, 0, 0, 0, 2, 2, 1, 1, 0, 0, 2, 2, 1, 2, 0, 1, 1, 0, 1, 2, 2, 0, 1, 1, 0, 2, 0, 2, 2, 1, 2, 0, 1, 1, 1, 2, 1, 1, 0, 2, 0, 2, 1, 1, 2, 0, 2, 1, 2, 0, 0, 0, 0, 0, 1, 1, 0, 1, 1, 2, 1, 0, 0, 1, 1, 1, 2, 2, 1, 1, 0, 1, 2, 1, 2, 0, 0, 0, 2, 2, 0, 2, 2, 2, 0, 0, 1, 0, 1, 0, 0, 0, 2, 1, 2, 1, 2, 1, 2, 0, 1, 1, 2, 0, 2, 1, 0, 2, 1, 2, 2, 0, 2, 2, 2, 1, 0, 2, 0, 1, 1, 2, 1, 2, 1, 1, 0, 0, 1, 2, 1, 2, 0, 0, 0, 1, 1, 2, 2, 0, 1, 2, 2, 1, 1, 2, 2, 1, 1, 0, 1, 2, 1, 0, 2, 2, 0, 2, 1, 1, 0, 2, 0, 0, 1, 2, 0, 2, 1, 1, 0, 2, 0, 0, 1, 1, 1, 1, 0, 2, 0, 0, 1, 1, 2, 1, 0, 2, 0, 2, 1, 1, 0, 2, 1, 0, 1, 2, 0, 0, 0, 1, 0, 1, 2, 1, 1, 1, 2, 0, 2, 0, 0, 2, 0, 1, 2, 1, 2, 2, 0, 1, 0, 1, 2, 2, 0, 2, 2, 0, 1, 2, 1, 1, 0, 1, 2, 1, 1, 1, 1, 2, 1, 0, 2, 2, 1, 1, 2, 1, 1, 2, 1, 2, 2, 0, 1, 1, 1, 1, 1, 0, 0, 2, 1, 0, 1, 1, 2, 0, 1, 2, 0, 1, 0, 2, 1, 0, 2, 1, 2, 0, 0, 1, 0, 2, 1, 2, 2, 2, 2, 2, 0, 0, 0, 0, 1, 1, 2, 0, 0, 0, 0, 2, 2, 1, 2, 1, 1, 1, 2, 0, 2, 0, 0, 1, 1, 1, 0, 1, 0, 2, 0, 1, 1, 0, 0, 0, 0, 2, 1, 2, 2, 2, 1, 2, 1, 2, 0, 1, 2, 0, 0, 1, 2, 1, 2, 1, 1, 2, 2, 0, 1, 2, 0, 1, 1, 0, 0, 2, 2, 0, 0, 1, 0, 1, 1, 0, 1, 0, 0, 0, 1, 1, 1, 1, 2, 0, 2, 1, 0, 2, 0, 1, 0, 1, 0, 1, 0, 0, 1, 2, 0, 0, 1, 1, 1, 0, 0, 1, 1, 1, 2, 1, 0, 1, 0, 2, 1, 0, 1, 1, 0, 2, 1, 1, 0, 1, 0, 0, 1, 0, 0, 2, 0, 1, 1, 1, 2, 1, 0, 1, 0, 2, 2, 2, 0, 1, 1, 1, 1, 0, 1, 1, 2, 0, 1, 0, 0, 0, 0, 1, 2, 0, 2, 2, 0, 1, 2, 2, 1, 0, 2, 2, 2, 0, 1, 0, 2, 1, 1, 2, 2, 2, 2, 0, 0, 0, 0, 1, 2, 0, 0, 0, 2, 1, 2, 0, 2, 0, 1, 1, 1, 0, 2, 1, 2, 1, 0, 2, 0, 1, 1, 0, 1, 2, 2, 1, 2, 2, 1, 2, 0, 0, 2, 2, 1, 1, 0, 1, 0, 2, 2, 2, 0, 0, 2, 1, 1, 2, 2, 0, 1, 2, 2, 0, 1, 2, 0, 2, 0, 2, 1, 0, 0, 1, 0, 0, 2, 0, 1, 2, 2, 1, 0, 0, 2, 0, 0, 1, 1, 0, 1, 0, 0, 2, 2, 1, 0, 0, 1, 2, 0, 2, 0, 1, 2, 1, 0, 1, 1, 2, 0, 0, 1, 2, 1, 1, 1, 0, 1, 2, 1, 0, 2, 0, 1, 1, 0, 0, 1, 1, 0, 0, 1, 1, 2, 0, 0, 2, 1, 0, 2, 1, 2, 2, 0, 2, 0, 1, 1, 1, 0, 0, 0, 1, 0, 1, 1, 0, 1, 1, 1, 1, 0, 2, 0, 1, 0, 2, 0, 1, 2, 1, 0, 0, 0, 2, 0, 1, 1, 2, 2, 2, 0, 2, 1, 0, 1, 0, 0, 1, 2, 0, 2, 1, 2, 0, 2, 1, 2, 1, 1, 1, 1, 1, 1, 2, 0, 0, 1, 0, 0, 0, 1, 1, 2, 2, 2, 0, 2, 2, 1, 0, 0, 2, 1, 0, 2, 0, 1, 1, 0, 0, 0, 1, 0, 1, 1, 1, 2, 1, 2, 2, 1, 1, 2, 2, 2, 2, 0, 1, 0, 2, 1, 2, 1, 0, 1, 0, 2, 2, 1, 0, 1, 0, 2, 0, 2, 1, 0, 1, 1, 0, 1, 1, 2, 0, 2, 2, 1, 0, 1, 1, 0, 1, 0, 0, 2, 0, 0, 1, 0, 0, 2, 1, 2, 0, 2, 0, 2, 0, 0, 0, 1, 0, 1, 0, 1, 1, 0, 0, 1, 1, 0, 1, 0, 2, 1, 2, 1, 2, 1, 2, 1, 1, 1, 0, 0, 2, 2, 1, 0, 2, 0, 2, 2, 1, 0, 1, 0, 0, 0, 2, 1, 1, 1, 0, 2, 1, 1, 0, 1, 1, 2, 0, 2, 1, 0, 0, 1, 1, 1, 2, 1, 0, 0, 2, 0, 2, 1, 2, 0, 1, 0, 1, 2, 1, 2, 1, 1, 2, 0, 0, 2, 2, 2, 2, 0, 0, 2, 1, 1, 1, 0, 0, 2, 0, 2, 2, 1, 1, 0, 1, 1, 1, 0, 1, 2, 0, 1, 1, 0, 0, 0, 2, 2, 1, 2, 0, 2, 0, 1, 2, 2, 0, 0, 0, 1, 2, 2, 1, 2, 1, 1, 0, 2, 1, 0, 1, 1, 2, 0, 1, 1, 0, 2, 2, 0, 0, 1, 2, 0, 2, 0, 1, 1, 1, 0, 1, 0, 0, 0, 2, 1, 0, 0, 0, 2, 0, 1, 2, 1, 2, 1, 0, 2, 1, 0, 1, 0, 2, 2, 2, 1, 2, 1, 0, 1, 1, 0, 0, 2, 0, 2, 1, 2, 2, 2, 2, 2, 0, 1, 0, 2, 1, 1, 0, 2, 2, 2, 1, 1, 0, 0, 1, 0, 1, 0, 1, 0, 0, 1, 1, 1, 2, 0, 2, 2, 0, 0, 1, 1, 1, 0, 1, 0, 1, 2, 2, 0, 1, 1, 1, 2, 1, 0, 0, 2, 2, 0, 1, 2, 0, 2, 1, 0, 0, 2, 2, 0, 1, 2, 0, 0, 1, 1, 1, 0, 0, 0, 0, 1, 0, 1, 2, 0, 1, 2, 2, 1, 0, 2, 0, 1, 0, 0, 2, 2, 0, 1, 1, 2, 0, 2, 2, 1, 2, 0, 0, 1, 1, 1, 1, 0, 0, 2, 1, 2, 2, 0, 0, 0, 0, 0, 0, 2, 0, 1, 0, 2, 2, 0, 0, 2, 2, 2, 1, 2, 0, 1, 0, 0, 0, 1, 0, 0, 1, 0, 0, 0, 0, 0, 1, 1, 1, 2, 1, 1, 1, 0, 1, 0, 0, 1, 1, 2, 2, 0, 0, 0, 0, 1, 0, 1, 2, 2, 0, 1, 2, 2, 0, 0, 0, 0, 1, 0, 0, 1, 1, 0, 2, 0, 2, 0, 1, 0, 0, 2, 0, 1, 2, 2, 0, 0, 1, 1, 0, 0, 0, 1, 0, 1, 0, 2, 1, 0, 2, 2, 2, 0, 2, 1, 2, 2, 2, 2, 2, 2, 1, 1, 0, 0, 0, 0, 0, 1, 0, 2, 2, 2, 0, 2, 2, 0, 1, 1, 1, 2, 2, 1, 1, 1, 2, 0, 2, 2, 1, 1, 1, 1, 2, 0, 2, 0, 1, 0, 0, 1, 1, 0, 2, 1, 2, 1, 1, 2, 1, 1, 0, 0, 1, 0, 1, 2, 2, 0, 1, 1, 2, 0, 2, 0, 1, 2, 0, 0, 2, 0, 2, 0, 2, 2, 2, 1, 2, 2, 0, 0, 0, 0, 0, 0, 1, 2, 1, 1, 0, 2, 2, 1, 0, 1, 2, 2, 2, 2, 2, 1, 1, 0, 0, 0, 0, 2, 1, 2, 1, 2, 0, 2, 1, 1, 1, 1, 0, 1, 2, 1, 0, 0, 0, 0, 0, 2, 0, 1, 2, 2, 2, 1, 2, 1, 2, 1, 2, 1, 0, 2, 0, 1, 1, 2, 0, 2, 2, 2, 1, 1, 2, 0, 2, 1, 0, 2, 1, 1, 1, 0, 0, 2, 1, 0, 0, 0, 2, 1, 1, 2, 1, 0, 2, 0, 1, 2, 1, 0, 2, 0, 1, 0, 0, 1, 2, 2, 1, 1, 1, 1, 1, 1, 0, 1, 0, 1, 1, 0, 0, 0, 2, 0, 1, 2, 0, 2, 2, 0, 2, 2, 2, 0, 2, 1, 1, 1, 0, 0, 2, 2, 0, 2, 1, 1, 0, 1, 2, 2, 0, 0, 1, 0, 0, 0, 2, 1, 0, 0, 0, 1, 2, 1, 0, 2, 2, 0, 0, 0, 1, 0, 2, 2, 1, 0, 2, 1, 1, 1, 2, 0, 1, 1, 0, 1, 1, 0, 2, 1, 2, 1, 1, 1, 0, 1, 1, 1, 1, 2, 1, 0, 1, 1, 2, 0, 0, 1, 1, 1, 0, 0, 2, 2, 1, 1, 1, 1, 0, 0, 1, 2, 2, 2, 1, 0, 2, 2, 0, 2, 2, 2, 2, 0, 1, 2, 2, 0, 2, 1, 0, 0, 1, 0, 1, 2, 2, 2, 0, 2, 1, 2, 1, 1, 2, 0, 1, 1, 2, 2, 0, 0, 1, 0, 0, 2, 0, 2, 0, 2, 2, 1, 2, 1, 1, 1, 1, 2, 0, 0, 0, 0, 2, 0, 1, 0, 2, 1, 2, 0, 0, 0, 1, 1, 1, 1, 1, 0, 2, 1, 0, 1, 1, 1, 1, 2, 1, 2, 0, 2, 0, 0, 1, 2, 1, 1, 0, 1, 2, 2, 1, 1, 2, 1, 1, 0, 1, 1, 0, 0, 0, 0, 2, 1, 2, 0, 0, 1, 0, 2, 2, 2, 2, 0, 0, 2, 1, 2, 0, 1, 2, 1, 1, 2, 0, 0, 0, 0, 1, 2, 1, 1, 1, 2, 1, 1, 2, 0, 1, 1, 1, 1, 2, 1, 1, 0, 1, 2, 2, 1, 0, 0, 2, 1, 1, 0, 1, 1, 0, 0, 0, 2, 2, 2, 2, 1, 0, 1, 1, 1, 1, 0, 0, 2, 0, 2, 0, 0, 2, 0, 0, 2, 1, 1, 2, 2, 0, 1, 0, 2, 2, 2, 1, 2, 1, 1, 1, 0, 0, 2, 2, 0, 0, 2, 2, 0, 1, 2, 0, 0, 2, 1, 0, 0, 2, 2, 1, 2, 0, 1, 0, 0, 2, 1, 2, 1, 0, 2, 0, 1, 1, 0, 0, 1, 0, 0, 0, 2, 2, 1, 0, 0, 1, 1, 2, 1, 2, 0, 0, 2, 0, 0, 0, 0, 2, 1, 0, 1, 2, 1, 1, 0, 2, 1, 2, 2, 2, 2, 2, 1, 0, 0, 1, 2, 1, 0, 0, 2, 0, 0, 2, 0, 0, 0, 1, 0, 1, 0, 0, 2, 2, 0, 2, 2, 0, 0, 0, 0, 2, 2, 2, 2, 1, 1, 2, 2, 1, 1, 2, 1, 2, 2, 1, 0, 2, 2, 0, 2, 0, 1, 1, 0, 1, 1, 1, 1, 1, 2, 1, 0, 2, 2, 1, 0, 0, 2, 2, 2, 2, 1, 1, 1, 1, 0, 1, 2, 2, 2, 1, 0, 2, 1, 2, 2, 2, 1, 2, 0, 0, 0, 2, 1, 0, 0, 0, 2, 0, 1, 1, 1, 0, 2, 0, 1, 2, 1, 0, 1, 1, 1, 0, 1, 0, 1, 1, 2, 2, 1, 0, 1, 0, 1, 0, 2, 0, 0, 1, 2, 0, 0, 1, 1, 2, 0, 2, 2, 2, 1, 2, 1, 0, 1, 1, 1, 0, 2, 0, 1, 1, 0, 1, 2, 2, 0, 2, 1, 0, 0, 1, 1, 2, 1, 2, 2, 1, 2, 0, 2, 1, 0, 0, 2, 2, 0, 2, 2, 0, 2, 0, 1, 0, 2, 2, 0, 0, 0, 1, 1, 0, 0, 2, 0, 0, 1, 1, 2, 2, 1, 2, 0, 2, 0, 0, 0, 1, 0, 1, 1, 2, 2, 0, 0, 2, 1, 2, 2, 1, 1, 2, 2, 1, 1, 2, 2, 1, 2, 2, 2, 2, 1, 1, 2, 1, 2, 2, 2, 0, 0, 2, 0, 1, 1, 1, 2, 2, 1, 1, 1, 2, 0, 1, 1, 1, 0, 2, 2, 1, 0, 1, 1, 1, 2, 0, 2, 2, 2, 1, 0, 2, 0, 0, 2, 2, 0, 0, 1, 2, 1, 2, 0, 0, 1, 2, 0, 1, 1, 2, 1, 1, 0, 1, 1, 2, 1, 0, 0, 2, 1, 0, 1, 2, 2, 0, 2, 1, 1, 0, 2, 0, 2, 0, 1, 0, 0, 0, 0, 0, 2, 0, 2, 0, 0, 0, 1, 2, 0, 0, 1, 0, 2, 1, 0, 1, 2, 1, 2, 0, 1, 2, 1, 2, 2, 0, 1, 1, 2, 1, 0, 2, 1, 1, 2, 0, 2, 2, 0, 0, 1, 0, 1, 2, 2, 2, 0, 2, 0, 2, 1, 1, 2, 0, 2, 1, 0, 0, 0, 2, 0, 1, 1, 1, 2, 0, 0, 1, 1, 2, 0, 1, 2, 0, 2, 1, 1, 2, 0, 2, 0, 2, 0, 1, 2, 2, 1, 0, 2, 2, 1, 1, 1, 1, 2, 2, 2, 0, 1, 1, 2, 1, 1, 1, 1, 2, 1, 1, 0, 2, 1, 2, 2, 0, 1, 1, 1, 0, 0, 2, 0, 1, 2, 2, 0, 2, 0, 0, 0, 0, 0, 2, 0, 0, 0, 1, 1, 0, 1, 2, 2, 1, 0, 1, 2, 1, 0, 1, 0, 0, 0, 2, 0, 2, 1, 2, 0, 1, 0, 0, 2, 1, 0, 2, 1, 2, 0, 2, 0, 2, 0, 2, 0, 0, 0, 2, 0, 1, 0, 0, 2, 1, 1, 1, 1, 1, 2, 2, 0, 2, 2, 0, 0, 1, 0, 0, 1, 1, 0, 1, 0, 0, 1, 2, 2, 1, 0, 0, 0, 1, 2, 2, 0, 2, 1, 1, 2, 2, 1, 2, 2, 0, 1, 0, 1, 1, 2, 0, 1, 0, 0, 2, 0, 0, 2, 1, 2, 2, 1, 1, 0, 2, 1, 2, 2, 0, 1, 0, 1, 2, 0, 2, 2, 2, 1, 2, 1, 0, 2, 2, 2, 2, 1, 0, 0, 1, 0, 2, 1, 0, 1, 1, 1, 2, 1, 1, 2, 0, 1, 0, 1, 0, 1, 2, 0, 2, 2, 0, 1, 0, 2, 1, 1, 1, 2, 0, 0, 0, 1, 0, 0, 2, 1, 1, 0, 0, 0, 0, 1, 0, 0, 2, 1, 0, 1, 2, 2, 2, 2, 1, 0, 1, 2, 0, 0, 1, 2, 0, 1, 1, 1, 0, 0, 2, 0, 0, 1, 0, 2, 1, 1, 1, 1, 0, 1, 0, 0, 0, 2, 0, 2, 1, 0, 1, 1, 1, 2, 0, 2, 2, 2, 1, 0, 1, 1, 0, 0, 2, 2, 0, 1, 1, 0, 2, 1, 2, 0, 0, 1, 1, 0, 1, 1, 0, 0, 0, 0, 2, 2, 1, 0, 0, 1, 2, 1, 2, 1, 2, 2, 0, 2, 1, 0, 1, 1, 0, 0, 1, 1, 1, 0, 1, 0, 2, 2, 2, 1, 2, 0, 0, 1, 2, 2, 1, 1, 2, 2, 2, 2, 1, 0, 1, 2, 0, 0, 1, 2, 2, 0, 0, 0, 2, 0, 1, 1, 2, 0, 0, 0, 1, 1, 0, 0, 2, 1, 1, 1, 0, 1, 2, 0, 1, 1, 0, 1, 0, 0, 1, 1, 1, 1, 0, 0, 2, 0, 2, 0, 0, 0, 0, 1, 0, 2, 0, 1, 2, 0, 0, 0, 1, 2, 1, 0, 0, 1, 2, 0, 0, 2, 1, 0, 0, 0, 2, 0, 1, 2, 2, 1, 2, 1, 2, 2, 2, 0, 2, 1, 0, 2, 1, 1, 1, 2, 0, 1, 1, 2, 1, 1, 2, 0, 1, 0, 2, 0, 1, 0, 1, 2, 2, 0, 0, 0, 2, 1, 0, 1, 0, 2, 2, 2, 0, 2, 0, 1, 0, 0, 1, 0, 1, 2, 0, 2, 1, 2, 1, 1, 2, 2, 2, 1, 1, 2, 1, 1, 2, 2, 0, 1, 0, 1, 2, 0, 0, 1, 0, 1, 1, 2, 0, 1, 2, 2, 0, 2, 0, 2, 0, 0, 0, 0, 0, 2, 2, 0, 0, 2, 0, 2, 0, 2, 1, 1, 1, 0, 1, 1, 2, 2, 1, 2, 0, 0, 2, 0, 2, 2, 2, 0, 2, 0, 1, 1, 2, 0, 0, 2, 1, 2, 2, 2, 1, 2, 0, 0, 2, 1, 0, 0, 0, 0, 0, 2, 0, 1, 0, 0, 1, 2, 1, 1, 2, 1, 1, 1, 2, 0, 2, 0, 0, 2, 2, 2, 1, 2, 1, 0, 0, 2, 2, 2, 0, 1, 0, 2, 0, 2, 0, 0, 2, 0, 0, 1, 2, 0, 0, 2, 2, 1, 1, 2, 2, 0, 1, 2, 2, 0, 2, 2, 2, 2, 2, 0, 0, 2, 1, 0, 1, 0, 0, 1, 1, 1, 1, 1, 2, 1, 1, 0, 2, 2, 2, 1, 1, 0, 1, 0, 1, 0, 2, 2, 1, 0, 1, 0, 0, 2, 2, 1, 1, 1, 2, 2, 2, 1, 1, 2, 0, 1, 1, 1, 2, 1, 0, 1, 0, 0, 2, 0, 2, 2, 1, 1, 1, 0, 1, 2, 0, 0, 2, 1, 1, 0, 0, 0, 0, 0, 2, 0, 2, 1, 2, 0, 2, 1, 1, 2, 0, 2, 1, 2, 1, 1, 1, 1, 0, 1, 0, 2, 2, 0, 1, 2, 2, 1, 2, 1, 0, 1, 0, 1, 0, 2, 2, 1, 1, 2, 1, 1, 2, 0, 2, 2, 2, 2, 0, 2, 0, 0, 1, 0, 0, 2, 1, 0, 2, 2, 2, 0, 1, 0, 0, 0, 1, 0, 2, 2, 1, 1, 0, 0, 0, 1, 1, 1, 0, 2, 0, 2, 2, 0, 2, 2, 1, 2, 0, 0, 1, 1, 1, 2, 0, 0, 2, 1, 2, 0, 0, 0, 1, 2, 1, 1, 1, 0, 1, 1, 0, 2, 1, 1, 1, 1, 2, 2, 0, 2, 0, 1, 1, 1, 0, 1, 0, 1, 1, 0, 2, 1, 0, 2, 2, 0, 1, 1, 0, 0, 0, 0, 2, 0, 0, 1, 1, 1, 1, 2, 2, 2, 0, 2, 0, 1, 0, 1, 2, 1, 2, 1, 0, 0, 1, 0, 0, 1, 1, 2, 2, 1, 1, 1, 2, 1, 0, 0, 0, 2, 1, 2, 2, 2, 1, 0, 0, 1, 2, 1, 1, 0, 2, 0, 1, 2, 1, 2, 0, 1, 1, 0, 2, 2, 1, 0, 1, 0, 1, 0, 1, 1, 1, 0, 0, 0, 0, 1, 0, 1, 1, 0, 1, 2, 0, 2, 2, 2, 1, 1, 0, 2, 2, 1, 0, 0, 1, 1, 0, 2, 0, 0, 0, 2, 1, 2, 2, 1, 1, 2, 1, 2, 1, 0, 1, 2, 2, 1, 1, 2, 0, 2, 1, 0, 0, 2, 2, 2, 2, 2, 1, 0, 0, 0, 1, 0, 2, 2, 2, 1, 0, 0, 0, 0, 1, 2, 2, 2, 0, 2, 2, 0, 2, 2, 2, 2, 1, 2, 2, 2, 1, 2, 0, 0, 2, 1, 2, 2, 1, 1, 2, 2, 2, 0, 2, 2, 1, 2, 2, 2, 1, 1, 1, 0, 1, 1, 1, 1, 0, 1, 2, 2, 2, 0, 1, 0, 0, 1, 2, 2, 1, 0, 2, 1, 1, 1, 0, 2, 1, 1, 1, 0, 1, 1, 0, 0, 1, 0, 1, 0, 2, 2, 2, 1, 2, 1, 2, 2, 0, 2, 2, 0, 2, 0, 1, 0, 0, 0, 1, 2, 1, 0, 2, 2, 0, 0, 1, 2, 0, 0, 2, 2, 0, 2, 1, 1, 0, 1, 0, 1, 2, 1, 0, 0, 1, 2, 0, 0, 1, 1, 2, 2, 2, 0, 1, 0, 2, 1, 2, 1, 0, 0, 1, 0, 2, 0, 2, 2, 2, 0, 2, 1, 2, 1, 0, 1, 2, 2, 2, 0, 1, 0, 2, 2, 1, 2, 2, 1, 2, 1, 0, 1, 0, 0, 2, 2, 0, 1, 2, 0, 0, 2, 1, 0, 0, 1, 1, 0, 2, 0, 2, 0, 1, 2, 2, 1, 0, 0, 2, 2, 2, 2, 2, 2, 1, 2, 1, 0, 1, 1, 0, 2, 2, 1, 0, 2, 1, 2, 1, 1, 0, 0, 0, 2, 1, 2, 2, 1, 0, 1, 2, 0, 0, 2, 2, 0, 2, 1, 2, 1, 2, 2, 1, 1, 1, 0, 1, 1, 2, 1, 1, 2, 2, 1, 2, 2, 2, 1, 0, 1, 2, 2, 0, 0, 0, 2, 2, 0, 1, 2, 2, 1, 2, 1, 1, 0, 2, 1, 0, 0, 0, 0, 0, 1, 1, 1, 0, 1, 0, 0, 1, 2, 2, 0, 2, 1, 0, 2, 2, 0, 1, 1, 2, 1, 1, 2, 0, 0, 0, 1, 1, 1, 2, 2, 2, 0, 2, 2, 2, 2, 1, 2, 0, 0, 1, 0, 1, 2, 2, 2, 2, 1, 1, 0, 0, 1, 2, 0, 2, 0, 1, 0, 0, 0, 0, 2, 2, 1, 2, 0, 0, 1, 2, 2, 0, 0, 1, 1, 0, 2, 1, 2, 2, 0, 0, 1, 1, 1, 1, 1, 2, 2, 0, 2, 2, 0, 0, 0, 1, 1, 0, 2, 0, 1, 1, 0, 2, 0, 0, 1, 2, 2, 0, 2, 2, 2, 0, 0, 2, 1, 0, 0, 1, 0, 1, 2, 2, 0, 0, 0, 1, 2, 1, 1, 0, 2, 2, 0, 0, 1, 2, 2, 0, 2, 2, 2, 2, 1, 1, 2, 1, 2, 0, 0, 2, 0, 0, 0, 1, 1, 0, 2, 1, 0, 0, 2, 1, 1, 1, 1, 2, 0, 2, 1, 0, 2, 1, 0, 0, 0, 1, 0, 1, 1, 2, 0, 0, 0, 0, 1, 1, 2, 1, 1, 1, 0, 2, 0, 2, 1, 1, 1, 2, 2, 0, 1, 2, 0, 1, 2, 0, 0, 1, 1, 1, 2, 0, 2, 2, 0, 2, 1, 0, 2, 1, 2, 2, 1, 1, 1, 2, 0, 0, 2, 1, 0, 0, 2, 1, 0, 1, 2, 0, 2, 2, 0, 1, 1, 1, 2, 0, 0, 2, 2, 0, 2, 0, 0, 0, 1, 2, 2, 2, 1, 0, 1, 2, 2, 2, 1, 0, 1, 0, 2, 2, 0, 0, 0, 0, 0, 2, 2, 0, 2, 1, 1, 2, 1, 1, 0, 0, 2, 2, 0, 0, 1, 0, 0, 1, 2, 2, 1, 2, 0, 0, 0, 2, 0, 2, 0, 1, 0, 1, 0, 0, 2, 0, 1, 0, 2, 0, 0, 1, 2, 1, 0, 2, 0, 2, 0, 0, 2, 1, 2, 1, 0, 1, 0, 0, 2, 2, 2, 1, 2, 0, 2, 0, 1, 2, 2, 0, 0, 0, 0, 2, 1, 1, 1, 1, 2, 2, 2, 1, 2, 2, 0, 1, 2, 0, 2, 0, 1, 2, 0, 0, 2, 1, 0, 2, 2, 2, 1, 2, 2, 2, 1, 0, 2, 2, 1, 1, 1, 1, 0, 0, 2, 2, 0, 1, 1, 1, 2, 0, 0, 2, 0, 2, 2, 1, 0, 2, 0, 2, 0, 2, 1, 1, 0, 2, 2, 2, 0, 1, 0, 1, 1, 2, 0, 1, 2, 0, 1, 1, 1, 2, 0, 0, 2, 2, 0, 1, 1, 1, 0, 0, 2, 2, 1, 2, 0, 2, 2, 1, 2, 0, 2, 0, 2, 0, 0, 2, 1, 1, 0, 1, 1, 0, 2, 0, 0, 2, 1, 0, 2, 2, 0, 2, 2, 1, 1, 0, 2, 1, 1, 1, 2, 1, 2, 1, 0, 0, 2, 1, 1, 2, 2, 2, 1, 1, 0, 0, 1, 1, 0, 1, 0, 2, 0, 1, 0, 0, 1, 0, 0, 0, 0, 0, 0, 1, 1, 0, 1, 2, 2, 0, 0, 2, 2, 1, 1, 2, 1, 0, 0, 2, 0, 2, 0, 2, 2, 2, 0, 2, 2, 2, 1, 1, 2, 2, 0, 0, 2, 0, 1, 2, 0, 2, 1, 2, 1, 1, 0, 1, 1, 1, 1, 2, 1, 0, 1, 0, 0, 0, 1, 0, 0, 2, 2, 2, 2, 0, 0, 2, 2, 2, 0, 2, 0, 0, 0, 0, 2, 1, 1, 1, 0, 2, 1, 1, 2, 1, 2, 1, 2, 2, 1, 2, 0, 0, 1, 0, 2, 0, 2, 1, 2, 1, 2, 2, 1, 2, 2, 2, 2, 2, 2, 0, 2, 1, 0, 2, 2, 2, 0, 0, 1, 0, 2, 0, 2, 1, 0, 1, 2, 1, 2, 0, 0, 2, 1, 1, 0, 2, 1, 2, 0, 0, 0, 1, 0, 0, 0, 2, 2, 0, 0, 0, 0, 1, 2, 1, 0, 0, 2, 2, 0, 2, 2, 2, 1, 1, 1, 2, 1, 2, 1, 2, 2, 2, 1, 1, 0, 1, 1, 1, 2, 1, 2, 1, 2, 0, 2, 2, 1, 1, 2, 1, 2, 2, 0, 1, 1, 2, 0, 2, 2, 2, 0, 0, 1, 1, 2, 0, 1, 1, 0, 2, 2, 0, 0, 0, 0, 0, 2, 0, 0, 1, 2, 0, 0, 1, 2, 0, 0, 1, 0, 2, 0, 0, 2, 0, 0, 2, 0, 2, 2, 0, 2, 0, 1, 1, 2, 0, 2, 2, 2, 2, 2, 1, 0, 1, 1, 2, 0, 2, 0, 1, 1, 1, 2, 1, 0, 2, 1, 0, 0, 1, 0, 0, 1, 0, 1, 1, 1, 1, 0, 0, 2, 1, 0, 1, 2, 0, 2, 1, 0, 2, 2, 1, 1, 1, 0, 0, 1, 0, 2, 0, 1, 1, 2, 0, 0, 2, 1, 2, 0, 0, 0, 2, 2, 0, 0, 2, 1, 2, 0, 1, 1, 0, 1, 2, 2, 1, 2, 2, 2, 1, 1, 0, 1, 0, 0, 1, 1, 0, 1, 1, 0, 1, 1, 1, 1, 1, 0, 0, 1, 2, 0, 2, 1, 2, 0, 2, 0, 2, 2, 1, 0, 1, 2, 0, 0, 2, 0, 2, 1, 2, 2, 0, 2, 0, 1, 1, 0, 2, 2, 0, 0, 0, 0, 0, 1, 1, 1, 1, 1, 2, 0, 2, 0, 1, 1, 1, 0, 2, 0, 1, 2, 2, 1, 1, 2, 1, 1, 2, 1, 0, 2, 1, 2, 2, 1, 1, 0, 2, 0, 0, 1, 2, 0, 2, 2, 1, 2, 1, 1, 0, 0, 0, 2, 0, 1, 0, 2, 0, 2, 2, 2, 1, 2, 0, 2, 1, 2, 0, 1, 0, 1, 0, 1, 1, 0, 0, 0, 1, 0, 0, 0, 1, 0, 2, 1, 1, 1, 0, 1, 0, 0, 0, 1, 0, 1, 1, 0, 1, 1, 2, 1, 1, 0, 0, 0, 1, 2, 1, 1, 1, 0, 2, 0, 1, 1, 1, 1, 0, 0, 1, 0, 1, 1, 1, 0, 2, 1, 2, 2, 1, 2, 1, 2, 2, 0, 2, 0, 0, 0, 2, 2, 0, 1, 1, 0, 2, 0, 2, 1, 1, 0, 0, 0, 1, 2, 2, 1, 1, 1, 0, 1, 2, 1, 2, 2, 1, 2, 2, 0, 2, 1, 0, 2, 1, 1, 1, 2, 2, 1, 1, 0, 2, 2, 0, 0, 2, 2, 2, 0, 1, 1, 2, 0, 1, 0, 0, 2, 1, 2, 1, 2, 2, 2, 0, 1, 0, 1, 0, 1, 1, 0, 0, 0, 0, 1, 2, 1, 0, 2, 0, 0, 0, 0, 1, 1, 0, 0, 1, 0, 0, 1, 1, 1, 0, 0, 1, 0, 0, 0, 0, 1, 0, 1, 0, 1, 2, 1, 2, 1, 2, 1, 1, 0, 1, 1, 0, 2, 0, 2, 0, 1, 1, 2, 0, 2, 0, 1, 1, 1, 0, 2, 1, 1, 2, 2, 1, 0, 2, 0, 1, 1, 2, 2, 1, 0, 0, 2, 0, 1, 1, 2, 1, 2, 2, 1, 0, 0, 2, 0, 2, 0, 2, 2, 1, 2, 1, 1, 0, 0, 1, 0, 2, 1, 2, 0, 0, 1, 1, 1, 2, 2, 1, 0, 0, 1, 2, 0, 1, 2, 1, 1, 0, 2, 1, 0, 0, 2, 2, 2, 0, 2, 2, 0, 1, 0, 0, 2, 2, 2, 0, 1, 2, 2, 2, 0, 1, 1, 0, 1, 2, 0, 2, 1, 0, 1, 2, 1, 0, 1, 2, 2, 1, 0, 2, 1, 1, 1, 0, 1, 1, 2, 1, 0, 1, 0, 2, 2, 2, 0, 1, 0, 0, 2, 2, 0, 2, 0, 2, 1, 0, 0, 2, 1, 0, 0, 0, 1, 1, 1, 0, 1, 0, 0, 1, 0, 1, 1, 0, 1, 2, 1, 1, 1, 0, 2, 1, 0, 2, 0, 2, 1, 0, 2, 0, 1, 2, 1, 1, 2, 0, 1, 2, 1, 1, 2, 2, 1, 2, 1, 1, 0, 1, 0, 1, 2, 2, 0, 1, 0, 2, 0, 0, 2, 1, 1, 2, 1, 0, 2, 1, 0, 2, 2, 1, 1, 2, 2, 2, 1, 0, 0, 1, 2, 2, 0, 1, 1, 2, 1, 2, 1, 1, 1, 0, 0, 0, 1, 2, 1, 0, 2, 1, 1, 0, 2, 0, 2, 2, 1, 0, 2, 2, 0, 1, 2, 1, 2, 0, 0, 1, 0, 0, 0, 0, 0, 1, 0, 1, 0, 2, 2, 0, 2, 1, 0, 2, 1, 0, 0, 1, 1, 0, 1, 1, 0, 1, 0, 0, 2, 1, 1, 1, 0, 0, 0, 0, 0, 2, 2, 0, 2, 0, 1, 2, 2, 1, 0, 2, 1, 0, 2, 0, 1, 1, 1, 0, 1, 0, 0, 2, 1, 2, 2, 2, 0, 2, 1, 0, 0, 2, 0, 1, 1, 1, 0, 0, 1, 2, 1, 1, 2, 2, 2, 2, 1, 0, 2, 0, 2, 2, 1, 1, 1, 1, 1, 1, 1, 2, 2, 2, 1, 2, 0, 2, 1, 1, 2, 0, 1, 1, 1, 1, 0, 1, 1, 1, 2, 1, 0, 1, 1, 0, 0, 0, 2, 0, 2, 1, 0, 1, 1, 0, 2, 0, 1, 2, 0, 0, 2, 0, 0, 0, 1, 0, 2, 0, 0, 0, 0, 1, 1, 1, 1, 1, 2, 1, 0, 1, 2, 0, 0, 1, 2, 2, 1, 0, 1, 2, 0, 0, 0, 2, 1, 1, 2, 0, 1, 1, 0, 0, 1, 0, 2, 2, 0, 1, 2, 0, 2, 0, 0, 0, 1, 1, 2, 2, 1, 2, 0, 1, 0, 2, 2, 1, 0, 0, 1, 2, 2, 1, 1, 0, 1, 1, 2, 2, 1, 2, 2, 1, 2, 1, 1, 2, 2, 2, 2, 2, 0, 2, 0, 0, 2, 1, 1, 1, 1, 0, 1, 0, 1, 2, 0, 2, 0, 2, 2, 0, 1, 1, 1, 0, 1, 1, 0, 1, 2, 1, 2, 0, 0, 1, 0, 1, 0, 0, 0, 2, 2, 1, 2, 0, 1, 1, 2, 1, 0, 2, 0, 0, 1, 2, 2, 1, 0, 2, 2, 0, 2, 0, 0, 0, 1, 2, 2, 2, 1, 2, 2, 2, 1, 2, 1, 1, 2, 0, 0, 2, 1, 2, 0, 2, 1, 2, 2, 0, 2, 0, 2, 0, 1, 1, 1, 2, 2, 0, 0, 0, 1, 0, 1, 1, 2, 0, 1, 2, 1, 0, 0, 1, 0, 0, 0, 0, 0, 2, 1, 2, 1, 2, 1, 2, 2, 1, 1, 1, 0, 1, 1, 2, 2, 1, 0, 2, 2, 1, 1, 0, 2, 0, 1, 1, 2, 2, 2, 2, 0, 2, 1, 0, 1, 0, 1, 0, 0, 2, 1, 0, 1, 1, 1, 2, 2, 1, 2, 0, 0, 0, 2, 2, 0, 0, 1, 2, 1, 0, 0, 0, 0, 1, 2, 2, 0, 2, 2, 1, 1, 1, 1, 2, 1, 2, 1, 1, 1, 1, 2, 1, 2, 0, 2, 0, 0, 1, 1, 0, 2, 1, 1, 1, 1, 1, 0, 1, 2, 1, 0, 1, 1, 2, 1, 1, 2, 2, 2, 0, 2, 2, 1, 1, 0, 1, 0, 2, 2, 0, 1, 0, 0, 1, 2, 1, 2, 0, 2, 1, 1, 1, 0, 2, 1, 0, 2, 1, 0, 1, 0, 2, 0, 0, 2, 0, 1, 0, 0, 2, 2, 0, 2, 1, 0, 0, 1, 0, 2, 2, 1, 0, 2, 1, 1, 1, 2, 0, 1, 2, 2, 2, 2, 0, 1, 2, 2, 2, 2, 2, 2, 1, 0, 1, 0, 0, 1, 0, 1, 2, 0, 1, 0, 1, 1, 1, 2, 1, 1, 0, 1, 1, 2, 0, 2, 1, 0, 2, 2, 1, 2, 2, 1, 0, 1, 1, 2, 0, 0, 2, 1, 0, 0, 2, 2, 0, 2, 1, 0, 2, 0, 2, 1, 0, 0, 1, 1, 0, 1, 0, 2, 2, 0, 2, 2, 0, 1, 2, 2, 0, 0, 1, 1, 2, 2, 1, 1, 2, 1, 2, 0, 0, 1, 1, 2, 2, 0, 2, 0, 0, 0, 1, 2, 0, 0, 0, 1, 0, 0, 1, 1, 1, 1, 1, 2, 2, 0, 0, 2, 1, 1, 1, 1, 2, 2, 1, 1, 0, 2, 2, 1, 2, 1, 2, 1, 2, 0, 2, 2, 2, 0, 1, 1, 0, 1, 2, 1, 2, 2, 0, 2, 0, 2, 1, 0, 1, 2, 1, 0, 2, 0, 1, 1, 2, 0, 1, 0, 0, 2, 0, 1, 0, 1, 1, 0, 2, 2, 2, 2, 1, 2, 2, 2, 2, 1, 0, 2, 0, 2, 1, 1, 2, 1, 1, 0, 2, 1, 1, 2, 1, 2, 0, 2, 2, 1, 2, 2, 1, 2, 2, 2, 0, 2, 2, 2, 2, 0, 2, 2, 0, 0, 1, 1, 2, 1, 2, 2, 1, 0, 1, 1, 0, 2, 2, 1, 2, 1, 2, 2, 1, 0, 1, 1, 0, 0, 2, 2, 1, 2, 0, 2, 0, 1, 0, 0, 1, 2, 2, 0, 0, 2, 2, 0, 2, 1, 2, 0, 2, 2, 0, 1, 1, 2, 2, 2, 2, 2, 1, 1, 1, 0, 1, 2, 0, 2, 2, 2, 1, 2, 2, 0, 2, 1, 0, 2, 0, 2, 2, 2, 2, 0, 0, 1, 1, 0, 0, 0, 1, 2, 0, 1, 0, 1, 1, 0, 2, 0, 1, 1, 1, 2, 2, 0, 2, 2, 2, 2, 2, 1, 1, 1, 0, 1, 0, 1, 2, 2, 0, 1, 0, 1, 2, 0, 1, 0, 0, 2, 0, 1, 2, 1, 2, 0, 1, 0, 1, 0, 2, 0, 2, 1, 1, 2, 1, 1, 2, 2, 0, 1, 0, 0, 0, 0, 2, 2, 0, 1, 0, 0, 0, 0, 1, 2, 0, 0, 0, 0, 0, 0, 2, 0, 0, 2, 1, 2, 0, 1, 0, 1, 2, 2, 1, 2, 0, 1, 2, 1, 1, 0, 2, 1, 2, 1, 1, 2, 0, 2, 1, 1, 1, 0, 2, 2, 0, 1, 2, 1, 0, 1, 0, 2, 2, 1, 0, 1, 1, 2, 1, 2, 2, 2, 2, 2, 1, 0, 1, 0, 2, 2, 0, 1, 0, 1, 2, 0, 1, 0, 1, 0, 2, 0, 0, 0, 2, 0, 2, 1, 2, 2, 1, 2, 0, 0, 1, 0, 1, 2, 2, 0, 2, 1, 0, 2, 0, 2, 1, 1, 1, 1, 0, 1, 2, 0, 1, 1, 1, 2, 1, 1, 1, 2, 0, 1, 2, 2, 1, 0, 2, 1, 1, 2, 2, 1, 1, 2, 1, 0, 0, 0, 1, 1, 0, 1, 0, 0, 1, 2, 0, 1, 0, 2, 0, 2, 1, 0, 1, 1, 2, 1, 0, 1, 1, 0, 2, 0, 1, 0, 1, 2, 2, 1, 0, 2, 1, 0, 1, 0, 1, 0, 1, 2, 0, 0, 1, 0, 1, 1, 0, 0, 0, 2, 1, 1, 1, 1, 0, 1, 1, 2, 1, 2, 1, 1, 1, 1, 1, 1, 1, 2, 1, 1, 1, 2, 1, 2, 2, 0, 0, 1, 1, 1, 0, 0, 0, 2, 1, 2, 0, 0, 0, 1, 1, 0, 1, 1, 0, 1, 0, 0, 2, 2, 2, 0, 1, 0, 0, 2, 0, 0, 2, 2, 1, 2, 1, 1, 2, 0, 0, 2, 1, 2, 1, 0, 1, 0, 1, 2, 1, 2, 0, 2, 0, 0, 0, 0, 0, 2, 0, 0, 1, 0, 2, 0, 2, 0, 2, 0, 0, 1, 1, 1, 0, 1, 2, 0, 0, 2, 2, 1, 1, 1, 1, 0, 0, 1, 1, 0, 2, 0, 1, 2, 1, 2, 1, 0, 0, 2, 1, 0, 0, 0, 0, 0, 1, 1, 1, 1, 1, 2, 2, 1, 0, 2, 0, 2, 2, 0, 0, 0, 2, 0, 0, 1, 2, 0, 1, 1, 1, 0, 1, 1, 0, 0, 1, 2, 1, 0, 2, 0, 2, 2, 2, 0, 2, 1, 2, 2, 2, 0, 1, 0, 2, 1, 1, 2, 1, 1, 0, 0, 0, 0, 0, 2, 2, 1, 0, 2, 2, 0, 1, 0, 0, 2, 0, 1, 1, 0, 0, 0, 1, 2, 2, 2, 0, 1, 2, 2, 2, 2, 2, 0, 2, 1, 0, 1, 2, 2, 2, 0, 0, 1, 1, 0, 2, 0, 2, 1, 2, 1, 1, 0, 2, 1, 0, 0, 1, 0, 2, 2, 0, 2, 2, 1, 0, 2, 0, 0, 1, 0, 2, 0, 2, 2, 0, 0, 0, 2, 0, 2, 0, 1, 0, 1, 0, 0, 0, 0, 0, 0, 2, 0, 0, 0, 1, 1, 0, 2, 2, 1, 2, 2, 0, 1, 2, 1, 0, 2, 2, 1, 0, 0, 0, 1, 0, 1, 0, 2, 1, 1, 1, 1, 2, 1, 2, 2, 1, 0, 1, 0, 1, 1, 2, 2, 0, 0, 1, 0, 1, 2, 2, 2, 2, 0, 2, 2, 2, 2, 2, 0, 2, 0, 2, 1, 2, 2, 0, 0, 2, 2, 2, 2, 0, 2, 2, 2, 1, 2, 1, 0, 2, 2, 0, 2, 1, 1, 2, 0, 1, 0, 1, 0, 0, 1, 0, 2, 2, 1, 1, 2, 1, 1, 1, 0, 2, 0, 1, 2, 2, 0, 2, 2, 1, 2, 1, 2, 1, 0, 1, 0, 0, 0, 0, 2, 2, 2, 2, 1, 0, 0, 0, 0, 2, 1, 0, 2, 1, 1, 1, 0, 1, 1, 1, 1, 0, 0, 0, 1, 0, 0, 0, 2, 0, 0, 1, 2, 2, 1, 0, 0, 1, 0, 2, 0, 1, 0, 1, 1, 2, 0, 0, 1, 0, 2, 2, 1, 1, 2, 1, 2, 2, 2, 0, 0, 2, 1, 0, 1, 1, 2, 1, 2, 1, 1, 2, 2, 1, 2, 1, 1, 0, 0, 0, 2, 2, 1, 1, 1, 1, 1, 0, 1, 1, 2, 1, 1, 0, 2, 0, 0, 2, 2, 0, 0, 1, 0, 2, 2, 0, 0, 0, 1, 1, 1, 1, 2, 0, 1, 1, 1, 1, 1, 0, 2, 2, 2, 0, 1, 0, 2, 0, 1, 1, 1, 0, 2, 0, 0, 1, 2, 1, 0, 0, 1, 1, 0, 0, 2, 0, 2, 0, 0, 1, 1, 0, 0, 1, 1, 1, 1, 2, 1, 2, 1, 0, 2, 0, 1, 2, 2, 2, 2, 0, 0, 1, 2, 2, 0, 2, 2, 1, 2, 1, 2, 1, 1, 2, 1, 2, 0, 1, 1, 1, 0, 2, 2, 0, 1, 1, 2, 1, 2, 2, 0, 1, 2, 1, 1, 0, 2, 1, 0, 0, 1, 1, 0, 1, 0, 1, 0, 1, 2, 1, 0, 2, 2, 0, 2, 2, 2, 2, 0, 2, 2, 2, 1, 2, 1, 1, 0, 2, 1, 2, 0, 1, 0, 0, 2, 2, 1, 1, 0, 2, 2, 1, 2, 1, 0, 2, 1, 1, 2, 2, 0, 1, 2, 0, 1, 1, 0, 2, 1, 1, 2, 0, 1, 1, 0, 1, 0, 0, 2, 0, 2, 1, 0, 2, 0, 0, 0, 1, 0, 2, 1, 0, 0, 2, 0, 2, 1, 1, 2, 1, 0, 1, 2, 0, 2, 1, 1, 2, 0, 0, 0, 0, 0, 2, 2, 1, 1, 0, 2, 0, 0, 2, 0, 2, 0, 0, 1, 0, 0, 2, 0, 2, 2, 2, 0, 0, 1, 0, 2, 2, 1, 0, 2, 2, 1, 2, 1, 2, 2, 2, 2, 0, 2, 1, 2, 1, 2, 0, 0, 1, 1, 1, 1, 0, 0, 0, 0, 2, 1, 2, 0, 1, 1, 1, 1, 1, 1, 2, 0, 0, 2, 1, 2, 2, 0, 1, 0, 1, 0, 2, 0, 2, 0, 0, 0, 2, 0, 1, 0, 2, 0, 1, 0, 0, 0, 0, 1, 0, 2, 0, 0, 2, 0, 0, 0, 2, 1, 1, 2, 1, 0, 0, 2, 1, 0, 0, 0, 1, 0, 1, 1, 0, 1, 2, 1, 0, 2, 2, 2, 0, 1, 0, 0, 1, 0, 1, 0, 1, 1, 1, 0, 0, 1, 2, 0, 0, 1, 1, 2, 0, 1, 2, 0, 2, 0, 0, 0, 1, 0, 1, 1, 2, 0, 2, 2, 0, 2, 1, 0, 2, 1, 0, 0, 2, 0, 1, 1, 0, 0, 2, 1, 1, 1, 0, 0, 0, 2, 1, 2, 1, 2, 2, 2, 1, 2, 0, 0, 0, 2, 0, 2, 0, 1, 0, 0, 1, 1, 1, 2, 2, 0, 0, 0, 2, 1, 0, 2, 1, 1, 2, 2, 0, 1, 1, 0, 2, 2, 0, 2, 1, 0, 0, 0, 1, 1, 1, 1, 0, 1, 2, 1, 2, 1, 1, 0, 0, 0, 0, 2, 2, 0, 1, 2, 0, 0, 0, 0, 0, 2, 2, 0, 0, 1, 2, 1, 2, 0, 2, 2, 2, 0, 2, 1, 0, 1, 2, 1, 2, 1, 1, 2, 1, 1, 1, 1, 0, 2, 1, 0, 0, 2, 0, 0, 1, 2, 0, 1, 0, 2, 1, 1, 1, 1, 1, 0, 2, 0, 1, 1, 1, 2, 1, 0, 0, 2, 0, 0, 1, 0, 0, 0, 0, 2, 2, 0, 2, 1, 0, 0, 1, 1, 0, 1, 0, 1, 2, 1, 1, 1, 0, 1, 0, 2, 2, 0, 0, 0, 0, 1, 1, 1, 0, 0, 2, 1, 0, 2, 0, 0, 1, 2, 1, 2, 0, 2, 1, 1, 1, 1, 0, 2, 0, 2, 1, 0, 0, 1, 1, 1, 1, 0, 1, 2, 0, 1, 2, 1, 1, 2, 2, 2, 1, 1, 2, 0, 0, 2, 0, 2, 1, 0, 0, 1, 1, 2, 2, 2, 1, 0, 1, 0, 1, 0, 0, 1, 2, 1, 2, 2, 2, 0, 2, 1, 2, 1, 1, 1, 1, 0, 0, 0, 0, 1, 0, 2, 0, 2, 0, 2, 2, 2, 0, 0, 0, 1, 0, 0, 1, 1, 0, 1, 2, 2, 2, 2, 1, 2, 1, 2, 0, 0, 2, 1, 1, 0, 1, 1, 0, 2, 1, 1, 1, 0, 2, 0, 1, 0, 2, 2, 2, 1, 1, 1, 1, 2, 2, 2, 2, 1, 2, 2, 1, 2, 0, 0, 2, 0, 1, 0, 1, 0, 0, 0, 2, 1, 1, 2, 1, 1, 0, 2, 1, 1, 0, 1, 0, 2, 1, 0, 2, 2, 1, 2, 1, 2, 0, 1, 1, 2, 0, 0, 2, 2, 0, 2, 0, 1, 0, 1, 1, 1, 2, 0, 0, 1, 1, 2, 1, 2, 2, 2, 0, 0, 1, 1, 0, 0, 2, 1, 0, 2, 1, 2, 2, 0, 2, 0, 0, 1, 2, 2, 1, 1, 0, 0, 1, 0, 0, 0, 0, 1, 0, 1, 2, 2, 2, 0, 1, 2, 1, 1, 1, 0, 0, 1, 1, 0, 0, 0, 2, 1, 1, 1, 2, 1, 2, 0, 2, 2, 0, 2, 0, 0, 0, 1, 2, 1, 0, 1, 2, 1, 0, 1, 1, 1, 2, 0, 0, 1, 2, 0, 1, 0, 1, 2, 1, 0, 1, 0, 0, 0, 2, 0, 0, 1, 2, 0, 0, 1, 1, 0, 1, 2, 0, 0, 2, 1, 0, 1, 2, 1, 2, 0, 2, 1, 1, 2, 0, 2, 1, 1, 1, 0, 1, 1, 1, 0, 2, 0, 1, 1, 2, 2, 1, 0, 1, 2, 2, 1, 1, 0, 0, 0, 0, 2, 1, 1, 0, 2, 0, 2, 0, 0, 1, 1, 2, 0, 0, 2, 2, 0, 1, 2, 2, 0, 0, 1, 2, 2, 2, 2, 2, 1, 2, 1, 1, 0, 0, 2, 2, 1, 0, 1, 2, 2, 0, 1, 2, 0, 1, 0, 0, 2, 1, 1, 2, 1, 2, 1, 2, 2, 2, 1, 0, 0, 0, 1, 0, 0, 0, 2, 2, 0, 1, 2, 2, 1, 0, 0, 1, 1, 0, 2, 0, 0, 2, 2, 0, 1, 1, 2, 1, 0, 1, 0, 2, 1, 2, 2, 1, 2, 1, 0, 1, 1, 0, 0, 2, 0, 0, 0, 0, 2, 2, 2, 2, 1, 1, 2, 2, 2, 1, 2, 2, 0, 2, 1, 2, 0, 2, 1, 2, 1, 0, 1, 2, 0, 0, 1, 2, 0, 1, 0, 1, 2, 2, 0, 2, 2, 1, 1, 2, 0, 1, 1, 1, 1, 2, 1, 0, 1, 1, 1, 1, 1, 1, 0, 0, 0, 2, 1, 0, 0, 1, 2, 0, 1, 2, 1, 1, 1, 0, 1, 2, 2, 2, 2, 2, 2, 2, 0, 0, 0, 0, 2, 0, 2, 2, 0, 2, 0, 1, 0, 0, 2, 2, 0, 2, 2, 0, 0, 1, 2, 2, 1, 0, 2, 1, 2, 0, 0, 0, 1, 1, 2, 2, 0, 1, 1, 0, 2, 1, 1, 0, 2, 1, 1, 1, 0, 0, 2, 0, 1, 1, 0, 2, 1, 2, 0, 2, 0, 0, 2, 0, 2, 0, 2, 2, 0, 2, 2, 1, 0, 1, 0, 2, 1, 2, 0, 1, 0, 2, 2, 2, 1, 2, 1, 0, 1, 2, 1, 2, 1, 2, 2, 2, 1, 1, 1, 2, 0, 0, 0, 1, 2, 0, 2, 2, 2, 2, 1, 2, 0, 0, 0, 1, 2, 1, 2, 2, 0, 0, 2, 1, 0, 2, 1, 2, 0, 1, 2, 1, 2, 2, 0, 1, 0, 1, 0, 1, 0, 2, 2, 1, 1, 2, 1, 0, 2, 2, 1, 0, 2, 1, 2, 1, 0, 1, 2, 1, 0, 1, 2, 1, 1, 2, 2, 1, 2, 1, 1, 0, 1, 1, 2, 1, 1, 2, 1, 1, 2, 0, 1, 1, 1, 0, 2, 2, 0, 1, 1, 2, 0, 0, 1, 1, 0, 0, 1, 1, 0, 0, 0, 2, 0, 2, 0, 0, 2, 2, 1, 1, 2, 2, 1, 0, 2, 1, 2, 0, 0, 0, 2, 0, 2, 1, 1, 1, 2, 0, 2, 0, 0, 2, 1, 2, 1, 0, 0, 1, 1, 0, 0, 1, 0, 1, 2, 2, 0, 2, 1, 0, 0, 2, 0, 2, 2, 0, 1, 0, 1, 0, 0, 2, 2, 1, 1, 0, 1, 1, 0, 2, 1, 0, 0, 2, 2, 2, 0, 1, 2, 1, 1, 0, 0, 2, 0, 1, 0, 1, 1, 0, 0, 2, 0, 0, 1, 0, 0, 2, 2, 0, 2, 2, 0, 0, 0, 1, 0, 2, 1, 1, 2, 1, 1, 1, 0, 0, 2, 1, 2, 1, 2, 1, 1, 0, 1, 0, 2, 1, 1, 2, 0, 0, 1, 0, 0, 2, 0, 0, 2, 1, 1, 0, 1, 1, 1, 2, 1, 2, 0, 2, 0, 1, 0, 2, 0, 0, 1, 1, 1, 1, 1, 1, 2, 2, 1, 2, 2, 2, 0, 0, 2, 1, 2, 0, 1, 0, 2, 1, 0, 0, 2, 0, 0, 2, 1, 1, 2, 2, 0, 1, 2, 0, 2, 1, 0, 1, 0, 1, 2, 2, 2, 0, 0, 2, 1, 0, 0, 1, 2, 2, 0, 2, 0, 0, 1, 1, 2, 0, 2, 2, 1, 2, 1, 0, 0, 0, 1, 0, 2, 1, 1, 2, 2, 0, 1, 2, 1, 2, 1, 1, 2, 1, 1, 2, 1, 1, 0, 0, 0, 2, 2, 0, 1, 2, 1, 0, 2, 0, 1, 0, 2, 0, 1, 2, 2, 0, 0, 0, 0, 0, 2, 1, 0, 2, 1, 1, 0, 0, 0, 1, 2, 1, 2, 1, 1, 0, 0, 1, 1, 1, 1, 1, 2, 1, 2, 2, 0, 2, 0, 1, 1, 0, 1, 2, 1, 0, 1, 0, 2, 2, 0, 1, 1, 1, 2, 0, 0, 1, 2, 2, 1, 0, 0, 2, 1, 1, 1, 1, 2, 2, 1, 0, 0, 1, 1, 1, 0, 1, 0, 0, 1, 1, 2, 0, 1, 2, 0, 0, 0, 0, 1, 2, 1, 1, 2, 1, 1, 1, 2, 0, 1, 0, 2, 0, 0, 2, 1, 1, 0, 2, 1, 2, 0, 1, 2, 2, 2, 0, 1, 2, 1, 2, 0, 1, 0, 1, 2, 2, 1, 1, 1, 1, 2, 1, 2, 0, 0, 0, 1, 1, 0, 0, 0, 0, 0, 0, 2, 1, 2, 1, 2, 2, 2, 1, 2, 0, 0, 1, 2, 2, 1, 0, 0, 0, 0, 1, 1, 0, 1, 1, 2, 0, 0, 2, 0, 1, 0, 0, 1, 0, 0, 0, 0, 1, 0, 2, 0, 1, 1, 2, 0, 0, 0, 0, 1, 0, 2, 2, 2, 2, 0, 0, 1, 2, 1, 0, 0, 0, 1, 2, 0, 0, 0, 1, 0, 1, 2, 0, 2, 2, 0, 0, 2, 0, 1, 1, 2, 0, 1, 2, 0, 2, 0, 2, 0, 2, 0, 2, 0, 1, 0, 0, 0, 2, 1, 2, 1, 0, 1, 2, 0, 2, 1, 0, 2, 0, 2, 0, 2, 1, 1, 2, 1, 2, 0, 2, 2, 0, 1, 0, 0, 0, 1, 2, 1, 2, 0, 2, 1, 1, 1, 1, 0, 1, 2, 2, 0, 1, 0, 0, 2, 2, 2, 2, 0, 2, 2, 1, 2, 0, 1, 2, 0, 1, 0, 1, 2, 1, 1, 1, 2, 1, 1, 1, 0, 2, 2, 0, 1, 0, 1, 2, 1, 2, 2, 1, 2, 1, 2, 1, 2, 1, 2, 0, 2, 1, 0, 1, 1, 1, 0, 0, 0, 2, 1, 0, 2, 1, 1, 2, 2, 1, 2, 0, 1, 2, 2, 0, 2, 1, 2, 1, 1, 1, 2, 0, 1, 2, 0, 2, 2, 2, 0, 0, 2, 2, 2, 2, 1, 0, 2, 2, 0, 2, 1, 2, 2, 2, 1, 0, 1, 2, 1, 2, 0, 2, 2, 0, 2, 2, 1, 2, 0, 0, 1, 0, 0, 1, 1, 2, 1, 0, 1, 1, 1, 1, 1, 1, 0, 0, 2, 1, 0, 1, 2, 1, 2, 2, 0, 1, 1, 1, 2, 1, 0, 2, 2, 1, 2, 0, 1, 1, 0, 0, 1, 2, 0, 0, 2, 1, 1, 0, 2, 1, 2, 1, 0, 2, 0, 0, 1, 1, 2, 0, 2, 2, 0, 1, 1, 1, 1, 1, 0, 0, 0, 1, 0, 1, 1, 0, 0, 1, 1, 0, 0, 0, 2, 0, 2, 1, 2, 0, 0, 1, 0, 0, 1, 2, 2, 1, 0, 2, 0, 1, 0, 2, 1, 0, 2, 0, 1, 2, 0, 2, 0, 1, 1, 2, 1, 2, 0, 0, 0, 0, 1, 0, 2, 2, 2, 1, 2, 1, 0, 2, 2, 0, 1, 0, 2, 1, 2, 1, 1, 1, 0, 2, 0, 1, 2, 1, 1, 0, 0, 1, 1, 2, 0, 0, 1, 0, 0, 2, 1, 1, 0, 2, 2, 1, 2, 0, 1, 1, 0, 0, 2, 2, 2, 1, 1, 1, 2, 0, 1, 0, 2, 2, 1, 2, 1, 2, 1, 2, 2, 0, 0, 0, 1, 2, 1, 1, 1, 1, 1, 2, 1, 0, 0, 0, 2, 1, 1, 2, 1, 0, 2, 0, 0, 2, 0, 1, 2, 1, 0, 0, 2, 1, 1, 1, 2, 2, 2, 0, 2, 1, 0, 0, 1, 2, 2, 2, 2, 2, 2, 0, 0, 2, 0, 0, 1, 0, 2, 2, 2, 1, 2, 2, 2, 1, 0, 0, 1, 1, 2, 0, 2, 1, 1, 1, 1, 0, 1, 2, 2, 0, 1, 2, 2, 1, 2, 0, 1, 1, 2, 2, 0, 1, 2, 2, 0, 2, 2, 0, 1, 2, 2, 2, 0, 1, 1, 0, 1, 2, 1, 0, 1, 1, 0, 1, 2, 1, 2, 2, 0, 1, 1, 0, 1, 0, 0, 0, 0, 1, 2, 2, 0, 2, 2, 1, 2, 0, 0, 2, 0, 1, 0, 0, 1, 2, 2, 2, 0, 2, 2, 1, 2, 2, 0, 0, 1, 2, 0, 2, 0, 0, 2, 0, 0, 1, 0, 2, 1, 1, 2, 0, 2, 2, 2, 1, 0, 2, 2, 2, 1, 0, 0, 0, 0, 2, 2, 1, 1, 1, 1, 1, 0, 2, 0, 0, 0, 2, 1, 2, 1, 0, 0, 1, 0, 0, 0, 2, 0, 2, 2, 2, 1, 2, 1, 0, 0, 0, 0, 2, 1, 0, 1, 1, 1, 0, 2, 2, 0, 1, 1, 2, 0, 0, 2, 0, 2, 0, 2, 0, 1, 2, 0, 0, 1, 2, 1, 1, 1, 1, 0, 0, 0, 1, 2, 0, 2, 0, 1, 2, 2, 0, 1, 0, 1, 0, 2, 2, 0, 0, 1, 2, 2, 2, 1, 0, 2, 0, 0, 1, 0, 1, 1, 2, 2, 0, 2, 2, 2, 2, 2, 0, 0, 1, 2, 0, 1, 1, 0, 2, 2, 2, 0, 1, 2, 0, 1, 2, 0, 0, 0, 1, 1, 1, 2, 2, 1, 1, 1, 0, 1, 2, 1, 2, 2, 0, 1, 0, 1, 2, 0, 0, 0, 0, 2, 0, 2, 1, 1, 2, 0, 1, 1, 2, 0, 1, 1, 2, 1, 0, 0, 0, 1, 2, 1, 0, 2, 1, 1, 2, 0, 2, 0, 0, 0, 1, 0, 0, 2, 2, 2, 2, 0, 0, 1, 2, 2, 0, 2, 0, 0, 0, 0, 1, 2, 0, 2, 2, 1, 2, 2, 0, 1, 2, 0, 1, 2, 1, 0, 2, 1, 2, 1, 1, 1, 1, 1, 1, 2, 2, 2, 2, 1, 1, 0, 0, 2, 0, 0, 0, 1, 1, 2, 2, 0, 1, 1, 1, 2, 0, 0, 0, 0, 0, 2, 0, 0, 1, 0, 1, 1, 0, 0, 2, 2, 2, 1, 2, 1, 0, 0, 1, 0, 2, 0, 1, 1, 1, 2, 2, 2, 2, 0, 2, 0, 1, 2, 2, 2, 1, 1, 0, 0, 0, 1, 2, 1, 0, 2, 0, 0, 0, 0, 1, 1, 0, 0, 1, 2, 0, 2, 1, 0, 2, 1, 0, 0, 1, 1, 1, 1, 2, 1, 0, 2, 2, 2, 2, 1, 0, 0, 2, 1, 0, 2, 1, 1, 2, 2, 1, 0, 0, 0, 2, 1, 1, 0, 1, 1, 0, 0, 0, 1, 1, 2, 2, 2, 2, 0, 1, 1, 2, 1, 2, 2, 0, 0, 0, 0, 1, 1, 1, 1, 1, 2, 0, 2, 0, 0, 2, 1, 2, 0, 2, 2, 2, 1, 0, 2, 1, 0, 2, 0, 2, 2, 1, 2, 2, 2, 1, 2, 2, 1, 2, 2, 0, 0, 2, 1, 2, 2, 0, 1, 0, 1, 0, 2, 0, 1, 2, 1, 2, 2, 0, 2, 2, 1, 1, 1, 0, 1, 2, 0, 1, 0, 1, 2, 1, 2, 2, 1, 0, 2, 2, 2, 2, 1, 0, 0, 0, 1, 1, 1, 0, 1, 0, 1, 0, 1, 2, 1, 2, 2, 1, 0, 0, 2, 0, 2, 0, 0, 1, 2, 0, 1, 2, 1, 0, 2, 1, 1, 0, 0, 0, 2, 1, 0, 1, 2, 0, 1, 2, 1, 0, 1, 2, 1, 0, 2, 0, 1, 2, 0, 2, 1, 0, 2, 0, 2, 1, 2, 2, 2, 1, 1, 1, 0, 2, 1, 1, 1, 0, 1, 0, 1, 0, 2, 2, 1, 2, 1, 2, 1, 2, 0, 1, 0, 2, 0, 2, 1, 2, 0, 1, 0, 2, 0, 1, 2, 2, 0, 0, 2, 1, 1, 0, 2, 2, 2, 1, 1, 2, 2, 0, 0, 2, 0, 0, 2, 0, 1, 0, 1, 2, 2, 2, 2, 0, 0, 2, 1, 1, 1, 0, 1, 2, 2, 2, 2, 2, 2, 0, 0, 2, 0, 1, 2, 1, 0, 0, 1, 2, 1, 2, 1, 1, 2, 0, 0, 0, 2, 1, 0, 1, 0, 1, 2, 1, 0, 1, 0, 2, 2, 2, 2, 1, 0, 1, 0, 2, 2, 1, 2, 2, 0, 2, 1, 1, 0, 1, 1, 1, 0, 2, 2, 0, 2, 1, 2, 0, 2, 2, 1, 0, 1, 2, 0, 1, 2, 1, 1, 0, 0, 2, 0, 1, 1, 1, 1, 1, 2, 1, 0, 1, 1, 2, 1, 0, 0, 2, 0, 2, 2, 1, 1, 1, 1, 1, 1, 0, 2, 0, 2, 0, 0, 0, 2, 2, 2, 0, 0, 1, 1, 2, 2, 0, 2, 0, 2, 1, 0, 1, 0, 1, 1, 2, 2, 2, 2, 0, 2, 2, 1, 0, 0, 1, 0, 1, 1, 2, 0, 1, 0, 2, 1, 1, 0, 2, 1, 0, 0, 0, 1, 1, 2, 0, 1, 1, 1, 0, 0, 1, 2, 0, 0, 0, 0, 1, 1, 1, 0, 1, 2, 2, 1, 2, 1, 2, 2, 2, 1, 2, 2, 2, 2, 1, 0, 2, 0, 2, 2, 2, 0, 1, 2, 2, 2, 0, 1, 1, 2, 2, 2, 1, 1, 2, 1, 0, 1, 0, 2, 2, 1, 1, 2, 2, 1, 1, 1, 2, 1, 1, 2, 2, 0, 2, 2, 0, 0, 2, 1, 1, 0, 0, 2, 1, 2, 1, 0, 2, 0, 1, 1, 2, 1, 2, 2, 0, 0, 2, 0, 1, 1, 1, 0, 1, 1, 0, 0, 0, 0, 2, 1, 2, 2, 1, 1, 0, 1, 0, 0, 1, 1, 2, 0, 0, 1, 1, 0, 2, 1, 2, 2, 0, 2, 0, 1, 0, 2, 1, 2, 0, 1, 1, 1, 0, 2, 1, 1, 2, 0, 1, 1, 1, 2, 0, 1, 2, 2, 1, 2, 1, 1, 0, 0, 0, 0, 0, 1, 1, 1, 2, 1, 2, 2, 0, 1, 2, 1, 1, 0, 1, 2, 2, 2, 0, 0, 2, 2, 2, 0, 2, 2, 2, 1, 2, 1, 0, 2, 0, 1, 1, 2, 1, 0, 0, 2, 1, 0, 0, 1, 1, 1, 1, 0, 0, 0, 2, 1, 2, 2, 1, 2, 0, 0, 1, 1, 2, 2, 1, 0, 1, 0, 2, 0, 1, 0, 2, 0, 2, 1, 2, 1, 2, 2, 1, 0, 2, 1, 1, 1, 0, 0, 1, 2, 1, 2, 1, 1, 1, 2, 0, 2, 1, 2, 1, 2, 0, 1, 0, 1, 2, 0, 2, 2, 2, 1, 1, 2, 2, 0, 0, 2, 1, 1, 0, 2, 0, 2, 1, 0, 0, 0, 2, 0, 0, 0, 2, 0, 2, 1, 1, 0, 2, 2, 1, 0, 2, 0, 1, 2, 2, 0, 1, 0, 1, 1, 1, 2, 1, 2, 1, 1, 1, 1, 1, 2, 2, 0, 2, 1, 0, 2, 0, 1, 2, 0, 0, 0, 0, 1, 0, 1, 2, 1, 0, 2, 1, 0, 2, 0, 2, 0, 0, 0, 2, 2, 0, 1, 1, 0, 2, 2, 2, 1, 1, 1, 0, 0, 0, 2, 2, 2, 1, 0, 2, 1, 0, 1, 0, 2, 1, 0, 0, 1, 1, 0, 1, 2, 2, 2, 2, 0, 1, 2, 2, 0, 0, 1, 1, 2, 2, 1, 1, 2, 2, 2, 0, 0, 1, 2, 1, 1, 1, 2, 2, 1, 2, 2, 1, 0, 2, 0, 0, 1, 0, 1, 0, 1, 2, 0, 0, 2, 1, 0, 0, 0, 0, 0, 2, 0, 1, 2, 0, 2, 1, 0, 0, 1, 1, 1, 1, 2, 0, 2, 0, 1, 2, 0, 2, 2, 0, 1, 0, 1, 0, 0, 1, 2, 0, 0, 2, 2, 1, 1, 1, 1, 2, 2, 0, 2, 2, 1, 2, 1, 0, 2, 2, 2, 0, 2, 0, 0, 1, 1, 0, 0, 2, 2, 0, 0, 0, 1, 0, 2, 2, 1, 0, 0, 0, 0, 0, 1, 2, 2, 0, 1, 2, 2, 0, 1, 0, 2, 0, 1, 2, 0, 1, 1, 0, 0, 0, 0, 2, 0, 0, 0, 0, 1, 2, 1, 0, 1, 0, 0, 1, 2, 0, 0, 1, 2, 2, 0, 0, 0, 2, 2, 1, 1, 0, 1, 1, 0, 1, 0, 2, 0, 2, 0, 2, 1, 1, 0, 2, 0, 1, 2, 2, 0, 2, 0, 0, 1, 1, 2, 2, 1, 1, 0, 2, 0, 0, 2, 0, 0, 0, 1, 1, 0, 1, 2, 0, 2, 2, 0, 2, 0, 0, 1, 1, 2, 1, 0, 0, 0, 0, 2, 2, 0, 1, 1, 0, 2, 2, 2, 0, 0, 1, 1, 2, 1, 0, 0, 0, 2, 1, 2, 2, 0, 0, 0, 2, 2, 0, 2, 0, 2, 1, 1, 1, 1, 2, 1, 0, 0, 0, 0, 0, 1, 1, 2, 1, 2, 2, 1, 2, 1, 0, 0, 1, 2, 0, 0, 1, 1, 1, 2, 2, 1, 1, 2, 1, 1, 0, 2, 1, 1, 1, 2, 0, 0, 0, 1, 1, 1, 0, 1, 1, 0, 0, 2, 2, 2, 0, 0, 2, 2, 2, 2, 1, 0, 0, 2, 2, 0, 0, 1, 0, 0, 0, 2, 0, 2, 0, 2, 0, 2, 0, 2, 0, 0, 2, 2, 1, 0, 0, 2, 2, 1, 0, 1, 2, 2, 2, 0, 0, 2, 0, 0, 2, 1, 0, 1, 2, 0, 2, 2, 1, 2, 0, 2, 1, 1, 1, 0, 0, 2, 0, 2, 0, 2, 0, 0, 0, 2, 0, 1, 1, 0, 2, 2, 0, 1, 1, 1, 1, 0, 0, 1, 0, 1, 0, 1, 0, 0, 2, 1, 2, 0, 0, 1, 0, 1, 1, 0, 1, 1, 1, 2, 1, 0, 1, 2, 2, 1, 1, 1, 0, 1, 1, 1, 0, 2, 2, 0, 1, 0, 1, 1, 1, 2, 0, 0, 1, 1, 2, 1, 0, 2, 2, 2, 2, 2, 2, 2, 1, 2, 2, 2, 2, 1, 0, 2, 0, 0, 1, 1, 0, 1, 1, 2, 0, 1, 2, 2, 0, 1, 1, 1, 1, 0, 0, 0, 2, 1, 1, 0, 2, 1, 1, 0, 1, 0, 1, 1, 0, 1, 0, 2, 0, 2, 2, 1, 1, 2, 2, 0, 1, 2, 1, 2, 1, 0, 0, 1, 0, 0, 1, 0, 1, 2, 0, 1, 2, 0, 2, 0, 1, 1, 0, 2, 0, 0, 0, 2, 1, 1, 1, 0, 0, 2, 0, 2, 0, 2, 0, 1, 1, 1, 1, 1, 2, 0, 1, 1, 1, 1, 2, 0, 0, 2, 1, 0, 0, 0, 1, 2, 2, 0, 2, 2, 1, 0, 2, 2, 1, 0, 1, 1, 1, 2, 2, 1, 2, 0, 1, 1, 1, 0, 0, 0, 2, 0, 1, 0, 0, 0, 0, 2, 1, 0, 1, 2, 1, 0, 2, 2, 0, 2, 1, 0, 1, 0, 2, 2, 1, 2, 2, 1, 2, 1, 0, 2, 1, 0, 2, 2, 0, 0, 0, 1, 2, 0, 0, 1, 1, 1, 2, 1, 1, 0, 2, 0, 1, 1, 1, 2, 0, 1, 1, 2, 1, 2, 0, 0, 1, 0, 1, 0, 0, 2, 1, 0, 0, 1, 2, 1, 0, 0, 0, 1, 0, 1, 2, 2, 2, 1, 0, 2, 2, 1, 1, 0, 0, 1, 1, 2, 2, 0, 1, 0, 2, 2, 1, 2, 1, 0, 2, 1, 0, 2, 2, 0, 2, 1, 2, 0, 0, 0, 0, 2, 0, 1, 1, 2, 1, 2, 1, 2, 0, 1, 2, 0, 1, 0, 2, 2, 0, 2, 2, 2, 2, 1, 1, 2, 1, 2, 2, 0, 1, 0, 2, 0, 0, 0, 1, 1, 0, 0, 2, 1, 0, 2, 2, 1, 0, 0, 2, 1, 1, 1, 2, 0, 1, 2, 1, 0, 1, 2, 0, 2, 0, 0, 0, 2, 0, 0, 0, 2, 1, 0, 2, 1, 0, 2, 0, 2, 0, 1, 0, 1, 0, 2, 0, 1, 2, 1, 2, 0, 1, 2, 1, 2, 2, 0, 1, 2, 2, 0, 0, 2, 0, 0, 1, 0, 1, 1, 0, 2, 2, 0, 0, 2, 1, 2, 2, 0, 2, 1, 2, 0, 0, 1, 1, 1, 2, 0, 2, 1, 1, 0, 1, 2, 1, 2, 1, 1, 1, 0, 0, 1, 0, 2, 2, 1, 0, 0, 2, 1, 0, 1, 1, 0, 2, 0, 0, 0, 0, 0, 0, 2, 1, 1, 0, 1, 2, 2, 2, 2, 2, 1, 2, 0, 2, 1, 0, 1, 2, 1, 0, 1, 1, 1, 1, 1, 0, 0, 2, 1, 1, 1, 2, 2, 1, 2, 1, 1, 1, 0, 0, 0, 1, 1, 1, 2, 2, 0, 1, 2, 0, 1, 1, 0, 1, 1, 0, 1, 2, 0, 0, 1, 2, 1, 1, 0, 2, 0, 1, 0, 2, 0, 1, 2, 2, 2, 2, 0, 0, 0, 1, 1, 2, 1, 2, 0, 0, 0, 2, 0, 2, 1, 1, 1, 1, 0, 1, 0, 2, 2, 0, 2, 0, 1, 0, 1, 2, 1, 2, 0, 0, 2, 2, 1, 2, 1, 0, 1, 2, 2, 0, 1, 2, 1, 2, 1, 0, 0, 2, 0, 2, 2, 0, 0, 2, 2, 2, 1, 0, 0, 1, 1, 1, 1, 1, 1, 1, 0, 0, 1, 2, 0, 2, 2, 0, 0, 0, 1, 2, 0, 1, 1, 1, 2, 2, 2, 1, 2, 0, 0, 0, 0, 0, 2, 0, 2, 2, 2, 2, 2, 2, 1, 1, 2, 1, 0, 2, 0, 2, 2, 2, 1, 0, 0, 1, 2, 0, 0, 0, 0, 1, 0, 2, 2, 2, 0, 0, 1, 1, 1, 2, 1, 2, 0, 0, 2, 0, 1, 2, 0, 0, 1, 0, 2, 0, 0, 1, 0, 0, 1, 0, 2, 0, 1, 2, 0, 0, 0, 1, 2, 1, 0, 0, 1, 0, 2, 1, 1, 1, 0, 2, 2, 0, 1, 1, 1, 2, 2, 2, 1, 2, 0, 1, 1, 0, 1, 2, 1, 2, 2, 1, 0, 0, 2, 2, 1, 2, 1, 1, 2, 2, 1, 2, 1, 2, 1, 2, 1, 0, 2, 0, 2, 0, 2, 1, 2, 2, 0, 2, 0, 1, 1, 0, 1, 0, 0, 2, 2, 2, 1, 1, 0, 0, 1, 1, 2, 2, 1, 1, 2, 1, 1, 2, 0, 1, 1, 2, 1, 1, 2, 1, 2, 2, 2, 0, 1, 0, 1, 2, 0, 0, 1, 1, 1, 1, 2, 2, 0, 1, 0, 1, 0, 2, 2, 1, 0, 0, 0, 2, 1, 2, 2, 1, 2, 1, 0, 1, 2, 0, 1, 0, 2, 2, 0, 1, 2, 1, 0, 1, 1, 0, 0, 1, 0, 1, 2, 2, 0, 2, 1, 1, 0, 2, 1, 0, 1, 1, 0, 0, 0, 0, 2, 2, 0, 0, 2, 2, 1, 1, 2, 1, 1, 0, 0, 2, 1, 0, 1, 1, 1, 0, 0, 1, 0, 0, 2, 0, 1, 0, 1, 0, 2, 1, 2, 0, 2, 0, 2, 1, 0, 2, 0, 2, 1, 0, 2, 2, 0, 1, 1, 1, 1, 0, 0, 1, 1, 0, 0, 1, 1, 2, 2, 0, 1, 2, 0, 0, 2, 2, 0, 2, 2, 2, 1, 0, 2, 2, 1, 0, 0, 2, 1, 0, 1, 1, 0, 2, 2, 0, 2, 0, 0, 1, 1, 2, 2, 0, 2, 2, 2, 2, 2, 0, 2, 0, 0, 1, 1, 1, 0, 0, 0, 2, 2, 0, 0, 0, 2, 1, 1, 0, 0, 2, 1, 2, 0, 2, 0, 1, 0, 0, 0, 0, 2, 2, 1, 0, 0, 2, 0, 1, 0, 0, 1, 0, 0, 0, 2, 2, 2, 0, 0, 1, 2, 0, 0, 1, 2, 0, 0, 1, 0, 1, 2, 1, 1, 2, 1, 2, 0, 2, 2, 2, 2, 2, 0, 1, 0, 1, 0, 1, 2, 1, 0, 2, 0, 2, 1, 1, 0, 2, 0, 1, 1, 1, 0, 1, 1, 0, 1, 0, 0, 2, 1, 2, 2, 1, 2, 2, 2, 0, 1, 0, 0, 1, 2, 0, 0, 1, 0, 0, 1, 2, 1, 1, 1, 0, 2, 2, 0, 2, 1, 2, 1, 1, 0, 1, 0, 0, 0, 1, 1, 0, 0, 1, 1, 1, 1, 0, 1, 2, 1, 0, 0, 2, 2, 0, 0, 2, 2, 2, 2, 1, 0, 0, 1, 2, 0, 2, 2, 1, 0, 2, 2, 1, 0, 1, 0, 1, 2, 0, 0, 2, 1, 2, 1, 2, 0, 2, 0, 1, 1, 1, 1, 1, 1, 1, 2, 0, 2, 0, 2, 1, 1, 1, 0, 1, 1, 0, 1, 0, 0, 0, 2, 1, 2, 2, 2, 0, 0, 2, 1, 0, 1, 1, 0, 2, 1, 0, 1, 1, 1, 1, 1, 1, 1, 1, 1, 0, 1, 1, 2, 1, 1, 2, 0, 1, 0, 2, 1, 2, 2, 2, 1, 0, 0, 1, 1, 0, 0, 0, 1, 0, 1, 1, 2, 0, 1, 1, 2, 0, 2, 2, 1, 0, 1, 2, 2, 2, 0, 2, 0, 0, 0, 2, 2, 2, 2, 2, 1, 1, 0, 2, 2, 2, 1, 0, 1, 1, 0, 0, 0, 2, 0, 1, 2, 2, 2, 2, 2, 0, 2, 0, 1, 1, 0, 1, 1, 2, 0, 0, 2, 2, 0, 1, 2, 2, 1, 0, 2, 2, 2, 1, 2, 0, 1, 0, 1, 2, 2, 1, 0, 0, 0, 0, 0, 2, 2, 0, 0, 2, 2, 0, 2, 0, 0, 1, 1, 2, 0, 2, 1, 0, 0, 1, 0, 1, 0, 2, 2, 2, 2, 2, 0, 1, 1, 1, 2, 0, 2, 2, 0, 0, 1, 1, 1, 2, 1, 2, 2, 2, 0, 0, 1, 2, 0, 1, 1, 0, 1, 1, 2, 2, 2, 2, 0, 0, 0, 2, 0, 0, 1, 2, 2, 2, 2, 2, 2, 2, 1, 2, 2, 1, 1, 0, 0, 1, 0, 1, 1, 2, 0, 1, 2, 0, 0, 0, 0, 2, 1, 1, 1, 2, 0, 2, 2, 2, 0, 2, 0, 2, 1, 2, 0, 1, 0, 2, 0, 1, 0, 0, 2, 2, 0, 0, 1, 2, 1, 0, 1, 0, 0, 0, 1, 1, 1, 1, 1, 0, 0, 0, 0, 1, 1, 2, 0, 1, 1, 0, 0, 1, 2, 1, 0, 2, 2, 2, 1, 1, 0, 0, 2, 2, 1, 0, 0, 1, 2, 1, 1, 0, 1, 1, 2, 2, 2, 2, 1, 1, 2, 2, 2, 2, 0, 2, 2, 2, 2, 2, 0, 2, 0, 2, 2, 1, 0, 1, 1, 2, 2, 0, 0, 2, 2, 1, 0, 1, 1, 0, 1, 2, 0, 1, 2, 0, 0, 1, 0, 1, 1, 2, 2, 1, 2, 0, 1, 2, 1, 0, 0, 0, 0, 2, 1, 0, 2, 1, 2, 2, 0, 1, 1, 2, 2, 1, 2, 2, 0, 2, 0, 1, 0, 1, 1, 1, 2, 1, 2, 2, 1, 1, 2, 1, 2, 1, 0, 2, 0, 2, 0, 0, 0, 1, 2, 1, 0, 1, 0, 1, 2, 1, 1, 1, 1, 1, 2, 2, 1, 2, 1, 0, 0, 1, 0, 0, 0, 1, 0, 1, 2, 2, 1, 1, 0, 0, 2, 0, 2, 2, 0, 0, 1, 1, 1, 1, 2, 2, 0, 2, 1, 1, 0, 0, 2, 0, 2, 1, 0, 2, 1, 1, 0, 0, 2, 2, 2, 1, 1, 2, 1, 1, 0, 0, 2, 1, 1, 0, 2, 1, 0, 2, 2, 2, 1, 0, 0, 0, 0, 0, 1, 1, 0, 1, 2, 2, 0, 2, 0, 2, 1, 0, 1, 1, 1, 2, 2, 1, 1, 0, 0, 0, 0, 1, 0, 1, 2, 0, 1, 0, 2, 1, 0, 2, 2, 2, 1, 2, 2, 1, 0, 1, 2, 1, 0, 0, 2, 1, 2, 1, 2, 2, 0, 1, 2, 0, 1, 0, 0, 0, 1, 2, 0, 2, 1, 0, 1, 1, 1, 2, 2, 0, 1, 2, 0, 1, 2, 0, 2, 2, 2, 0, 2, 1, 2, 0, 0, 1, 1, 2, 0, 2, 1, 2, 0, 0, 2, 1, 1, 0, 0, 1, 2, 2, 2, 1, 0, 0, 1, 0, 0, 0, 1, 0, 0, 2, 0, 1, 0, 2, 0, 0, 2, 1, 2, 0, 2, 1, 1, 0, 0, 0, 0, 1, 1, 2, 1, 1, 2, 1, 0, 2, 0, 1, 0, 2, 2, 2, 2, 1, 1, 1, 2, 1, 2, 1, 0, 2, 2, 2, 1, 0, 2, 2, 2, 1, 2, 2, 0, 0, 1, 0, 0, 0, 2, 0, 2, 2, 2, 2, 0, 1, 2, 0, 2, 2, 1, 1, 0, 0, 2, 0, 1, 0, 0, 2, 1, 0, 1, 1, 2, 2, 0, 1, 0, 2, 0, 0, 2, 2, 2, 0, 1, 2, 2, 1, 2, 1, 0, 0, 2, 0, 1, 2, 0, 1, 0, 1, 2, 1, 0, 2, 1, 0, 2, 2, 2, 2, 2, 2, 1, 2, 1, 1, 2, 2, 1, 2, 2, 1, 1, 2, 1, 2, 2, 2, 1, 0, 0, 1, 0, 1, 0, 0, 1, 2, 2, 1, 0, 1, 0, 1, 1, 0, 1, 2, 2, 0, 0, 0, 1, 1, 2, 2, 2, 0, 2, 1, 1, 1, 0, 1, 2, 0, 2, 1, 2, 0, 0, 2, 2, 1, 1, 1, 2, 2, 0, 1, 1, 2, 1, 0, 2, 1, 0, 2, 2, 2, 1, 1, 2, 2, 0, 1, 1, 0, 2, 0, 0, 2, 2, 2, 0, 0, 0, 2, 0, 1, 2, 2, 0, 1, 1, 2, 0, 2, 2, 1, 0, 2, 0, 2, 2, 2, 2, 0, 1, 0, 2, 0, 1, 0, 1, 0, 0, 1, 1, 0, 2, 2, 0, 0, 2, 0, 2, 1, 0, 2, 0, 0, 2, 2, 2, 1, 2, 2, 1, 1, 0, 0, 0, 2, 1, 2, 1, 1, 2, 1, 0, 1, 0, 2, 1, 0, 2, 2, 1, 2, 2, 0, 1, 2, 0, 2, 2, 0, 1, 2, 0, 2, 2, 1, 2, 0, 2, 1, 2, 1, 0, 0, 0, 2, 2, 1, 2, 2, 2, 2, 1, 1, 2, 2, 2, 1, 2, 0, 2, 0, 1, 1, 0, 1, 2, 1, 2, 0, 2, 1, 0, 1, 0, 2, 0, 0, 1, 1, 2, 0, 0, 1, 1, 2, 0, 0, 1, 1, 1, 2, 2, 2, 2, 1, 1, 0, 0, 1, 2, 2, 1, 1, 2, 2, 1, 1, 1, 0, 2, 1, 2, 2, 0, 2, 1, 2, 1, 0, 1, 2, 1, 1, 1, 2, 0, 0, 2, 2, 0, 1, 1, 2, 1, 2, 1, 2, 2, 0, 1, 1, 2, 0, 1, 1, 1, 2, 0, 2, 0, 2, 1, 1, 0, 0, 1, 0, 2, 2, 1, 2, 0, 1, 0, 0, 2, 2, 2, 2, 2, 1, 1, 1, 1, 0, 1, 0, 0, 1, 2, 2, 2, 0, 2, 2, 0, 1, 2, 2, 1, 0, 0, 2, 2, 0, 1, 1, 2, 0, 1, 1, 0, 2, 2, 2, 2, 0, 0, 2, 0, 1, 0, 2, 2, 0, 0, 0, 2, 2, 0, 2, 2, 0, 0, 1, 0, 1, 2, 0, 1, 1, 2, 1, 2, 2, 2, 2, 0, 1, 0, 1, 0, 1, 1, 2, 2, 0, 0, 0, 2, 1, 0, 2, 1, 0, 0, 0, 2, 2, 0, 0, 0, 1, 0, 1, 0, 0, 1, 1, 0, 0, 2, 1, 0, 0, 2, 1, 2, 2, 2, 2, 1, 2, 0, 1, 2, 2, 1, 0, 1, 0, 1, 2, 2, 0, 1, 2, 0, 2, 2, 0, 2, 1, 1, 2, 1, 1, 0, 2, 1, 2, 1, 0, 2, 1, 1, 2, 2, 1, 1, 2, 0, 2, 2, 0, 0, 0, 0, 0, 1, 2, 0, 0, 1, 2, 1, 2, 2, 1, 2, 2, 2, 0, 1, 1, 1, 0, 2, 0, 1, 0, 1, 2, 2, 1, 0, 1, 0, 1, 1, 0, 2, 2, 1, 0, 2, 1, 2, 2, 1, 0, 0, 1, 1, 1, 1, 0, 1, 0, 0, 1, 0, 0, 0, 2, 1, 1, 1, 1, 2, 2, 2, 0, 0, 2, 2, 2, 2, 1, 1, 1, 0, 1, 2, 0, 2, 0, 0, 1, 0, 2, 2, 1, 2, 0, 2, 0, 1, 2, 2, 1, 2, 2, 1, 1, 2, 1, 1, 1, 2, 1, 1, 0, 2, 2, 2, 1, 2, 2, 0, 1, 0, 0, 0, 2, 1, 2, 2, 1, 2, 1, 2, 2, 0, 2, 1, 1, 1, 1, 1, 0, 2, 1, 2, 2, 1, 2, 0, 2, 0, 1, 0, 2, 1, 0, 2, 0, 0, 1, 2, 0, 2, 0, 2, 2, 1, 2, 0, 2, 1, 1, 1, 1, 2, 1, 1, 1, 1, 2, 1, 1, 2, 1, 0, 1, 2, 1, 1, 2, 0, 1, 2, 0, 1, 0, 2, 0, 0, 1, 0, 2, 1, 0, 0, 2, 0, 0, 2, 0, 2, 1, 2, 2, 2, 0, 2, 2, 0, 0, 1, 0, 2, 1, 1, 1, 2, 2, 0, 2, 0, 2, 0, 2, 0, 1, 1, 2, 0, 1, 1, 2, 1, 0, 1, 1, 0, 1, 2, 0, 1, 2, 0, 0, 2, 2, 1, 0, 2, 0, 2, 1, 1, 0, 1, 0, 1, 2, 2, 0, 1, 2, 1, 2, 0, 0, 1, 0, 2, 1, 0, 1, 1, 1, 2, 2, 1, 0, 2, 2, 1, 0, 2, 1, 0, 2, 1, 2, 0, 0, 1, 0, 0, 0, 1, 0, 2, 1, 0, 2, 0, 2, 1, 2, 0, 2, 2, 2, 1, 0, 0, 2, 1, 0, 1, 2, 0, 0, 0, 0, 2, 0, 0, 0, 0, 2, 0, 1, 0, 1, 2, 0, 2, 2, 1, 0, 0, 1, 0, 2, 0, 1, 1, 2, 2, 0, 0, 0, 1, 2, 0, 0, 0, 1, 2, 2, 2, 0, 2, 2, 1, 1, 2, 2, 0, 1, 0, 0, 0, 1, 2, 0, 1, 0, 2, 0, 1, 0, 1, 2, 1, 0, 0, 2, 1, 0, 2, 1, 0, 1, 0, 0, 1, 1, 0, 1, 2, 0, 2, 2, 0, 2, 2, 0, 1, 0, 0, 2, 0, 0, 1, 0, 2, 0, 1, 1, 0, 0, 0, 1, 1, 0, 2, 1, 2, 2, 2, 1, 0, 1, 0, 2, 0, 2, 1, 1, 0, 0, 2, 2, 2, 0, 1, 0, 1, 0, 0, 1, 0, 1, 0, 1, 2, 0, 2, 1, 2, 1, 1, 1, 0, 1, 1, 1, 2, 0, 1, 1, 0, 1, 2, 1, 1, 1, 2, 0, 0, 1, 1, 0, 1, 0, 0, 2, 1, 1, 0, 1, 0, 1, 0, 2, 1, 1, 2, 1, 0, 1, 0, 2, 0, 0, 2, 2, 0, 0, 2, 2, 1, 0, 2, 0, 1, 1, 2, 1, 2, 0, 0, 0, 1, 0, 0, 2, 1, 1, 0, 1, 2, 2, 2, 1, 1, 1, 0, 0, 0, 2, 2, 0, 0, 1, 0, 0, 1, 2, 0, 2, 2, 1, 2, 1, 2, 1, 2, 1, 2, 2, 1, 2, 1, 2, 0, 0, 1, 1, 2, 0, 2, 0, 1, 2, 1, 1, 0, 0, 1, 2, 0, 2, 2, 2, 0, 2, 0, 1, 2, 1, 0, 0, 1, 2, 0, 0, 2, 1, 0, 0, 1, 2, 0, 1, 1, 1, 1, 1, 2, 0, 1, 2, 2, 1, 1, 0, 1, 0, 2, 0, 1, 0, 2, 0, 1, 1, 2, 0, 2, 0, 2, 1, 0, 1, 0, 1, 2, 2, 0, 2, 0, 2, 1, 0, 0, 1, 0, 1, 0, 1, 1, 1, 0, 1, 2, 1, 2, 2, 0, 0, 1, 1, 2, 1, 0, 1, 0, 1, 0, 2, 0, 0, 1, 1, 2, 0, 1, 0, 2, 1, 2, 0, 1, 0, 2, 1, 1, 0, 0, 0, 1, 1, 2, 2, 1, 0, 1, 2, 2, 2, 0, 0, 2, 1, 1, 1, 0, 0, 0, 2, 2, 2, 0, 2, 0, 2, 0, 2, 1, 2, 0, 0, 0, 1, 0, 0, 2, 2, 2, 1, 1, 1, 2, 2, 1, 0, 0, 1, 2, 0, 0, 0, 1, 2, 0, 1, 1, 1, 0, 1, 2, 0, 2, 0, 1, 0, 1, 1, 0, 2, 1, 1, 0, 1, 0, 2, 2, 2, 0, 1, 1, 2, 1, 1, 0, 2, 0, 0, 0, 1, 0, 0, 1, 2, 0, 1, 0, 1, 1, 2, 0, 0, 1, 0, 0, 0, 0, 2, 2, 1, 2, 1, 2, 0, 1, 0, 0, 1, 0, 1, 0, 1, 2, 1, 0, 2, 0, 2, 2, 0, 1, 2, 0, 0, 0, 2, 2, 1, 2, 1, 0, 2, 2, 1, 2, 2, 2, 0, 0, 0, 2, 1, 2, 1, 1, 0, 2, 1, 0, 2, 1, 0, 1, 2, 1, 1, 0, 2, 1, 0, 2, 1, 2, 2, 1, 1, 2, 0, 1, 1, 2, 1, 2, 2, 0, 1, 2, 1, 1, 0, 1, 2, 2, 0, 1, 0, 0, 1, 2, 1, 0, 0, 2, 0, 1, 1, 1, 1, 1, 1, 1, 0, 2, 2, 2, 2, 0, 2, 0, 1, 2, 1, 2, 1, 1, 2, 0, 2, 2, 0, 2, 0, 1, 0, 2, 2, 0, 1, 1, 1, 0, 1, 1, 1, 1, 0, 0, 0, 2, 1, 1, 0, 2, 0, 1, 1, 1, 1, 2, 0, 2, 2, 0, 1, 1, 0, 2, 2, 2, 1, 1, 0, 1, 1, 1, 0, 0, 2, 0, 1, 0, 0, 0, 0, 2, 1, 0, 2, 1, 0, 1, 2, 0, 0, 2, 1, 0, 1, 2, 1, 1, 0, 2, 2, 1, 2, 0, 2, 1, 1, 2, 2, 2, 1, 2, 0, 0, 0, 1, 0, 0, 1, 0, 2, 0, 2, 0, 1, 2, 2, 0, 0, 1, 1, 2, 1, 0, 2, 1, 2, 0, 1, 2, 2, 1, 2, 0, 0, 0, 2, 0, 2, 2, 1, 0, 1, 0, 2, 1, 1, 1, 1, 0, 2, 2, 1, 1, 0, 1, 2, 2, 1, 0, 0, 1, 2, 1, 2, 0, 0, 2, 2, 1, 1, 1, 0, 2, 0, 0, 1, 0, 2, 2, 0, 1, 2, 0, 0, 2, 2, 1, 2, 0, 2, 1, 1, 0, 0, 0, 1, 1, 1, 1, 0, 1, 2, 2, 2, 0, 2, 0, 0, 0, 1, 0, 1, 1, 1, 0, 1, 0, 1, 2, 0, 2, 1, 1, 1, 0, 0, 1, 0, 0, 2, 0, 1, 0, 2, 1, 2, 1, 1, 1, 1, 0, 1, 1, 0, 0, 2, 0, 1, 1, 2, 2, 1, 0, 0, 1, 0, 0, 2, 2, 1, 2, 0, 0, 2, 2, 0, 2, 0, 0, 2, 0, 1, 2, 2, 0, 0, 0, 2, 0, 0, 0, 1, 1, 2, 1, 2, 1, 1, 0, 2, 2, 0, 0, 1, 0, 2, 2, 1, 2, 1, 0, 0, 1, 2, 0, 2, 0, 0, 2, 0, 1, 1, 2, 0, 2, 1, 2, 0, 1, 0, 0, 2, 2, 0, 0, 1, 2, 0, 0, 2, 0, 2, 0, 0, 2, 1, 1, 1, 1, 1, 1, 0, 0, 1, 2, 1, 2, 1, 1, 2, 0, 0, 1, 1, 1, 1, 2, 1, 2, 1, 2, 0, 2, 1, 1, 0, 1, 2, 2, 0, 1, 2, 1, 2, 1, 1, 1, 0, 1, 0, 1, 0, 2, 0, 1, 1, 1, 2, 2, 0, 1, 1, 1, 1, 0, 1, 2, 1, 1, 1, 0, 0, 1, 1, 1, 0, 0, 2, 1, 1, 0, 2, 0, 2, 0, 1, 0, 1, 0, 0, 0, 0, 2, 1, 0, 1, 1, 1, 2, 1, 2, 1, 2, 2, 2, 1, 1, 2, 1, 0, 0, 0, 2, 2, 2, 1, 1, 0, 0, 0, 0, 1, 1, 1, 2, 1, 2, 0, 1, 1, 1, 2, 1, 1, 1, 1, 1, 0, 1, 0, 2, 2, 1, 2, 0, 1, 1, 0, 2, 2, 1, 2, 1, 0, 2, 0, 1, 1, 2, 1, 0, 1, 0, 2, 0, 1, 0, 2, 2, 1, 2, 0, 0, 2, 0, 0, 1, 2, 1, 0, 2, 1, 2, 1, 0, 2, 1, 2, 1, 2, 2, 2, 2, 1, 2, 2, 2, 0, 0, 2, 0, 0, 2, 2, 2, 1, 0, 2, 2, 0, 1, 0, 0, 1, 2, 0, 0, 0, 2, 1, 2, 1, 2, 1, 1, 1, 1, 2, 1, 2, 1, 0, 1, 0, 0, 2, 1, 2, 2, 0, 0, 2, 2, 2, 2, 1, 1, 1, 1, 0, 1, 0, 2, 1, 1, 1, 2, 0, 0, 1, 1, 0, 0, 1, 2, 2, 1, 1, 0, 2, 1, 2, 1, 0, 0, 0, 0, 1, 1, 2, 0, 1, 2, 1, 1, 0, 0, 2, 1, 2, 2, 1, 2, 1, 1, 0, 2, 1, 0, 2, 2, 2, 2, 1, 1, 2, 0, 2, 1, 0, 2, 2, 1, 1, 0, 0, 2, 1, 0, 1, 2, 0, 1, 2, 1, 0, 0, 1, 1, 1, 2, 1, 2, 0, 1, 0, 0, 2, 1, 1, 1, 0, 2, 2, 1, 0, 1, 1, 2, 0, 2, 2, 2, 0, 1, 1, 2, 2, 2, 2, 1, 1, 1, 0, 1, 2, 0, 0, 0, 2, 2, 0, 2, 2, 2, 0, 0, 1, 0, 0, 2, 1, 0, 1, 2, 1, 1, 1, 0, 2, 2, 0, 1, 0, 1, 0, 0, 2, 1, 2, 2, 2, 2, 1, 0, 2, 2, 2, 1, 2, 1, 2, 1, 2, 0, 2, 0, 2, 2, 2, 2, 1, 1, 1, 0, 1, 1, 1, 1, 1, 2, 2, 0, 1, 2, 2, 0, 2, 0, 1, 2, 2, 1, 2, 0, 0, 2, 2, 2, 2, 1, 1, 1, 0, 0, 2, 2, 2, 2, 1, 1, 0, 1, 0, 0, 1, 1, 1, 0, 0, 0, 0, 1, 2, 1, 0, 0, 2, 2, 0, 1, 0, 0, 2, 1, 1, 1, 1, 1, 1, 1, 1, 0, 2, 1, 0, 2, 0, 0, 0, 2, 1, 2, 0, 1, 2, 1, 2, 1, 1, 1, 2, 0, 0, 2, 1, 0, 2, 1, 0, 1, 1, 1, 2, 2, 0, 0, 2, 0, 0, 1, 0, 2, 0, 0, 2, 2, 2, 0, 2, 0, 1, 2, 2, 2, 1, 1, 1, 1, 2, 1, 2, 2, 1, 2, 2, 1, 1, 0, 1, 1, 0, 2, 2, 2, 2, 0, 2, 1, 2, 1, 1, 1, 0, 1, 0, 0, 2, 0, 1, 1, 1, 2, 2, 0, 1, 2, 2, 0, 2, 2, 0, 0, 1, 1, 1, 0, 0, 1, 0, 1, 2, 1, 2, 2, 0, 1, 1, 0, 1, 2, 1, 2, 2, 1, 2, 2, 0, 0, 0, 0, 2, 1, 0, 2, 2, 0, 2, 2, 1, 0, 0, 0, 2, 1, 1, 1, 0, 2, 0, 2, 1, 1, 1, 1, 0, 0, 2, 1, 0, 2, 2, 2, 0, 2, 1, 2, 2, 1, 0, 0, 2, 2, 1, 0, 0, 2, 0, 1, 2, 0, 1, 0, 1, 1, 1, 1, 2, 1, 1, 2, 2, 0, 1, 2, 0, 1, 1, 2, 0, 1, 0, 1, 1, 0, 2, 0, 0, 1, 2, 0, 1, 0, 0, 1, 0, 1, 1, 0, 1, 2, 1, 0, 2, 1, 2, 2, 2, 2, 0, 2, 2, 2, 0, 0, 2, 2, 0, 0, 0, 0, 0, 1, 1, 0, 2, 2, 0, 0, 2, 0, 1, 1, 0, 2, 2, 0, 2, 0, 1, 0, 2, 2, 1, 0, 0, 0, 0, 1, 0, 2, 0, 0, 1, 2, 2, 2, 1, 2, 0, 0, 0, 1, 1, 2, 1, 1, 0, 1, 2, 1, 2, 0, 1, 2, 2, 0, 0, 0, 1, 2, 0, 2, 1, 2, 0, 1, 0, 0, 1, 2, 1, 0, 0, 1, 1, 1, 2, 0, 1, 1, 2, 1, 0, 1, 1, 1, 0, 0, 0, 1, 0, 0, 2, 1, 1, 2, 1, 2, 1, 2, 2, 1, 2, 2, 2, 0, 2, 1, 2, 2, 1, 0, 1, 1, 0, 2, 2, 0, 2, 2, 0, 1, 2, 2, 0, 2, 0, 1, 0, 0, 2, 2, 1, 0, 0, 2, 1, 0, 0, 2, 0, 2, 1, 2, 0, 0, 2, 1, 0, 0, 1, 2, 0, 1, 2, 1, 2, 0, 2, 2, 0, 0, 1, 1, 0, 0, 1, 2, 0, 2, 1, 2, 2, 0, 0, 1, 0, 1, 2, 2, 1, 1, 2, 2, 0, 0, 1, 1, 0, 0, 2, 2, 2, 1, 1, 0, 2, 0, 1, 2, 2, 0, 0, 1, 1, 0, 2, 1, 1, 2, 1, 2, 1, 0, 1, 1, 2, 2, 0, 2, 0, 0, 2, 1, 0, 0, 1, 2, 2, 0, 0, 2, 0, 1, 0, 0, 2, 0, 1, 2, 1, 0, 0, 2, 0, 2, 0, 0, 1, 0, 1, 0, 0, 2, 0, 0, 2, 2, 1, 2, 0, 0, 1, 1, 0, 0, 1, 2, 2, 1, 0, 1, 0, 0, 2, 1, 2, 1, 2, 0, 0, 2, 0, 0, 0, 2, 1, 0, 1, 0, 1, 2, 2, 1, 1, 2, 0, 0, 0, 0, 1, 2, 1, 0, 2, 1, 2, 2, 1, 2, 0, 0, 2, 2, 0, 0, 1, 2, 0, 1, 1, 2, 1, 1, 2, 2, 1, 2, 0, 2, 0, 2, 0, 0, 2, 2, 2, 1, 0, 2, 1, 1, 1, 0, 2, 2, 2, 1, 0, 1, 2, 0, 0, 1, 2, 1, 1, 2, 1, 0, 1, 1, 0, 0, 0, 1, 0, 1, 0, 2, 0, 2, 1, 1, 2, 2, 1, 0, 2, 0, 2, 2, 1, 0, 1, 2, 2, 0, 0, 0, 0, 0, 1, 1, 0, 2, 1, 1, 2, 0, 2, 0, 0, 1, 1, 2, 1, 0, 1, 2, 1, 2, 1, 2, 2, 1, 2, 2, 2, 2, 0, 2, 2, 0, 1, 1, 1, 2, 1, 0, 2, 1, 0, 0, 0, 0, 0, 0, 1, 0, 0, 1, 0, 0, 0, 0, 1, 2, 2, 0, 0, 0, 2, 2, 2, 1, 1, 0, 2, 1, 2, 1, 2, 1, 0, 1, 1, 2, 0, 1, 1, 0, 1, 1, 2, 2, 0, 0, 0, 0, 0, 0, 0, 2, 2, 2, 1, 2, 2, 1, 2, 1, 1, 1, 2, 2, 0, 2, 0, 1, 1, 0, 0, 1, 0, 0, 2, 0, 2, 1, 0, 0, 2, 0, 1, 1, 2, 1, 2, 1, 0, 1, 2, 1, 2, 0, 1, 1, 2, 0, 0, 0, 2, 2, 1, 1, 0, 2, 1, 1, 1, 0, 1, 0, 1, 0, 2, 2, 1, 1, 0, 1, 2, 0, 2, 2, 0, 2, 0, 1, 0, 0, 1, 2, 2, 2, 2, 1, 1, 0, 0, 0, 2, 1, 0, 2, 1, 2, 0, 2, 2, 0, 0, 0, 1, 1, 1, 0, 1, 2, 2, 0, 0, 0, 0, 2, 1, 2, 1, 0, 1, 0, 0, 1, 2, 0, 2, 1, 1, 0, 1, 2, 0, 0, 0, 2, 2, 0, 0, 2, 2, 0, 2, 1, 2, 1, 1, 2, 0, 2, 0, 2, 1, 2, 1, 0, 2, 2, 2, 2, 1, 0, 2, 0, 2, 2, 2, 1, 0, 0, 1, 2, 2, 2, 0, 1, 2, 1, 1, 0, 1, 2, 0, 2, 1, 0, 1, 2, 0, 2, 1, 2, 1, 2, 0, 2, 0, 1, 0, 1, 2, 2, 2, 0, 2, 1, 2, 2, 0, 0, 2, 0, 0, 0, 1, 0, 1, 0, 1, 0, 0, 1, 0, 2, 0, 2, 2, 2, 0, 1, 2, 0, 0, 1, 1, 2, 2, 0, 0, 1, 2, 1, 2, 1, 2, 2, 1, 0, 2, 2, 2, 0, 0, 2, 2, 2, 0, 2, 1, 1, 2, 2, 2, 0, 1, 2, 2, 1, 1, 0, 2, 2, 1, 2, 0, 2, 0, 2, 2, 2, 0, 1, 1, 2, 1, 2, 2, 0, 1, 0, 1, 2, 1, 1, 2, 1, 2, 2, 2, 1, 2, 2, 2, 0, 2, 1, 2, 0, 2, 1, 0, 0, 1, 0, 0, 1, 0, 2, 2, 0, 0, 0, 2, 0, 0, 2, 1, 0, 0, 2, 0, 2, 0, 2, 0, 2, 1, 1, 2, 2, 2, 2, 0, 2, 0, 0, 2, 0, 0, 1, 2, 1, 0, 1, 2, 2, 1, 2, 1, 1, 1, 2, 1, 2, 1, 0, 2, 1, 2, 0, 0, 0, 0, 1, 0, 2, 2, 1, 2, 1, 2, 2, 1, 0, 1, 0, 2, 2, 0, 2, 1, 2, 2, 2, 2, 2, 0, 0, 0, 1, 2, 0, 1, 2, 0, 2, 2, 2, 2, 2, 0, 0, 2, 1, 2, 1, 2, 2, 0, 0, 0, 0, 1, 2, 1, 2, 0, 1, 2, 2, 1, 1, 1, 1, 0, 0, 2, 1, 1, 2, 2, 2, 1, 0, 1, 1, 1, 1, 1, 2, 1, 2, 1, 1, 1, 1, 0, 2, 1, 0, 1, 0, 1, 0, 1, 2, 0, 2, 0, 2, 1, 0, 1, 1, 2, 2, 1, 1, 0, 0, 1, 0, 0, 0, 0, 1, 0, 1, 2, 1, 0, 1, 1, 0, 2, 1, 2, 0, 2, 0, 0, 0, 1, 0, 1, 2, 1, 1, 2, 1, 0, 0, 0, 2, 2, 2, 2, 1, 1, 1, 1, 2, 1, 1, 0, 0, 2, 2, 0, 0, 0, 1, 0, 0, 0, 0, 1, 2, 1, 2, 0, 0, 0, 0, 0, 1, 2, 0, 1, 1, 0, 1, 0, 2, 0, 2, 0, 0, 0, 0, 2, 1, 1, 1, 0, 1, 1, 1, 2, 1, 0, 0, 0, 1, 2, 1, 1, 1, 0, 2, 0, 0, 0, 0, 0, 2, 0, 0, 1, 0, 0, 2, 2, 0, 2, 2, 2, 2, 2, 0, 2, 1, 1, 0, 2, 1, 1, 1, 1, 2, 0, 1, 0, 0, 1, 2, 1, 0, 1, 2, 0, 1, 1, 0, 0, 0, 0, 0, 1, 2, 1, 0, 2, 0, 0, 1, 1, 1, 2, 1, 1, 1, 2, 2, 2, 0, 1, 0, 1, 1, 1, 0, 2, 0, 1, 0, 1, 0, 2, 2, 0, 0, 2, 1, 0, 0, 2, 1, 2, 0, 1, 0, 0, 0, 0, 1, 1, 2, 2, 0, 2, 2, 1, 1, 1, 2, 1, 1, 2, 0, 1, 1, 2, 0, 2, 1, 2, 1, 1, 1, 2, 1, 2, 2, 2, 1, 2, 2, 1, 0, 1, 0, 1, 1, 1, 0, 2, 1, 0, 2, 2, 0, 2, 0, 1, 0, 1, 2, 0, 2, 1, 1, 1, 0, 1, 0, 0, 2, 0, 2, 1, 1, 1, 2, 1, 1, 2, 1, 2, 2, 0, 2, 2, 0, 0, 1, 0, 0, 2, 1, 2, 2, 2, 0, 2, 2, 1, 2, 0, 2, 2, 1, 1, 2, 0, 2, 2, 1, 2, 1, 0, 2, 2, 2, 2, 0, 0, 0, 2, 0, 1, 0, 1, 2, 1, 2, 2, 2, 1, 2, 0, 0, 2, 0, 2, 2, 1, 2, 1, 1, 2, 2, 1, 0, 1, 2, 1, 1, 1, 1, 1, 1, 2, 1, 1, 2, 2, 0, 1, 0, 2, 0, 0, 0, 1, 0, 0, 1, 1, 0, 2, 0, 0, 2, 2, 0, 2, 0, 0, 1, 2, 1, 1, 0, 2, 0, 1, 2, 0, 0, 1, 0, 0, 1, 2, 0, 0, 0, 1, 1, 1, 0, 0, 0, 1, 2, 0, 0, 0, 0, 1, 0, 2, 1, 2, 2, 0, 2, 1, 0, 2, 0, 2, 0, 1, 1, 1, 2, 0, 1, 1, 1, 0, 1, 2, 1, 0, 0, 0, 0, 0, 1, 1, 0, 0, 0, 2, 0, 0, 0, 1, 0, 1, 2, 0, 1, 2, 1, 2, 1, 2, 2, 0, 1, 0, 1, 1, 2, 2, 0, 1, 0, 1, 2, 0, 1, 1, 0, 2, 2, 0, 0, 2, 1, 1, 0, 0, 0, 2, 2, 1, 1, 2, 0, 2, 1, 2, 0, 2, 0, 0, 2, 2, 1, 2, 0, 1, 2, 0, 0, 1, 0, 2, 0, 2, 2, 0, 1, 0, 0, 0, 2, 1, 0, 2, 2, 1, 0, 0, 0, 1, 1, 2, 2, 2, 0, 0, 2, 0, 0, 1, 2, 1, 2, 1, 2, 2, 0, 2, 2, 0, 1, 1, 2, 0, 2, 2, 1, 1, 0, 2, 1, 2, 1, 0, 0, 1, 2, 2, 0, 2, 2, 0, 2, 1, 0, 0, 2, 2, 1, 0, 1, 2, 0, 1, 0, 0, 2, 2, 2, 0, 0, 1, 1, 1, 1, 0, 1, 1, 1, 1, 0, 0, 1, 2, 2, 0, 0, 2, 0, 2, 2, 0, 1, 0, 0, 0, 2, 0, 1, 0, 1, 1, 0, 0, 1, 1, 1, 1, 1, 1, 2, 1, 1, 0, 1, 0, 1, 2, 1, 1, 2, 2, 1, 2, 1, 1, 2, 2, 2, 0, 2, 2, 0, 2, 1, 2, 0, 2, 0, 2, 1, 2, 0, 0, 1, 2, 2, 1, 2, 2, 2, 0, 0, 1, 0, 2, 1, 1, 2, 1, 0, 0, 2, 2, 2, 2, 2, 0, 2, 1, 1, 1, 0, 1, 0, 0, 2, 2, 0, 2, 1, 1, 0, 1, 0, 0, 2, 2, 0, 0, 1, 0, 0, 0, 0, 1, 2, 0, 1, 1, 2, 1, 2, 0, 1, 1, 1, 0, 0, 2, 0, 1, 0, 1, 1, 2, 2, 0, 0, 0, 2, 0, 2, 1, 0, 1, 1, 2, 2, 1, 0, 0, 2, 1, 1, 1, 2, 1, 2, 0, 2, 0, 1, 0, 1, 1, 1, 2, 1, 2, 2, 0, 0, 1, 2, 2, 2, 1, 1, 1, 1, 0, 0, 0, 2, 1, 0, 0, 0, 1, 2, 0, 0, 2, 2, 2, 0, 0, 2, 1, 2, 1, 2, 0, 1, 1, 1, 0, 1, 2, 0, 0, 2, 0, 1, 2, 2, 1, 2, 0, 0, 0, 0, 0, 0, 0, 1, 0, 1, 0, 2, 2, 0, 1, 1, 2, 0, 0, 0, 1, 0, 0, 2, 0, 1, 0, 0, 1, 2, 2, 1, 2, 0, 1, 2, 0, 0, 2, 0, 1, 2, 1, 1, 0, 1, 2, 1, 0, 1, 0, 0, 2, 0, 1, 1, 1, 2, 2, 0, 1, 0, 1, 0, 0, 0, 0, 2, 1, 1, 1, 2, 1, 1, 1, 2, 0, 1, 0, 1, 0, 1, 0, 1, 2, 2, 0, 2, 2, 0, 2, 2, 2, 0, 1, 0, 1, 1, 2, 1, 0, 2, 0, 2, 0, 0, 2, 2, 1, 1, 2, 2, 2, 0, 2, 1, 1, 2, 1, 0, 1, 2, 0, 2, 1, 1, 1, 0, 0, 1, 0, 1, 2, 1, 2, 2, 0, 1, 0, 1, 0, 1, 1, 1, 0, 2, 2, 0, 1, 2, 2, 2, 1, 1, 0, 1, 0, 1, 2, 0, 1, 2, 2, 2, 0, 1, 2, 2, 2, 2, 1, 1, 0, 0, 0, 0, 2, 0, 2, 2, 2, 0, 2, 2, 0, 0, 1, 2, 1, 2, 0, 1, 0, 0, 1, 0, 2, 2, 2, 2, 2, 0, 1, 1, 2, 0, 0, 2, 2, 2, 0, 1, 2, 2, 0, 1, 0, 2, 2, 0, 1, 2, 1, 2, 1, 2, 1, 0, 2, 1, 2, 0, 1, 1, 0, 0, 2, 1, 0, 0, 2, 2, 0, 0, 1, 0, 2, 1, 2, 2, 1, 2, 1, 2, 2, 0, 2, 2, 1, 0, 2, 2, 1, 0, 0, 1, 0, 1, 1, 1, 2, 2, 2, 2, 0, 2, 2, 2, 0, 1, 1, 0, 2, 2, 1, 2, 1, 1, 2, 0, 1, 0, 0, 1, 2, 0, 2, 0, 0, 1, 1, 0, 2, 2, 0, 1, 2, 2, 2, 1, 2, 1, 2, 2, 2, 2, 0, 2, 2, 1, 0, 1, 0, 1, 0, 2, 0, 2, 1, 0, 2, 2, 0, 0, 1, 1, 2, 0, 2, 0, 2, 1, 2, 0, 0, 1, 0, 2, 0, 1, 2, 2, 0, 0, 0, 0, 1, 2, 1, 2, 0, 0, 0, 0, 0, 0, 1, 2, 2, 2, 1, 1, 0, 2, 1, 2, 0, 1, 2, 1, 2, 2, 2, 0, 2, 1, 2, 1, 0, 1, 2, 0, 2, 2, 2, 0, 1, 2, 1, 1, 1, 0, 0, 1, 0, 2, 1, 1, 2, 1, 0, 0, 1, 0, 1, 0, 2, 1, 0, 2, 0, 0, 2, 2, 2, 1, 2, 2, 2, 2, 2, 1, 1, 2, 2, 1, 1, 2, 2, 0, 2, 1, 2, 0, 2, 1, 1, 0, 1, 0, 2, 0, 2, 1, 2, 0, 2, 0, 0, 0, 2, 2, 1, 0, 1, 0, 2, 2, 2, 2, 0, 0, 0, 2, 1, 0, 0, 0, 0, 0, 2, 2, 0, 0, 0, 0, 0, 0, 1, 0, 1, 1, 1, 2, 1, 0, 1, 2, 2, 0, 0, 1, 0, 0, 0, 2, 1, 0, 2, 2, 0, 2, 0, 1, 2, 2, 1, 1, 2, 2, 1, 2, 1, 1, 2, 1, 1, 1, 2, 1, 0, 0, 0, 2, 0, 2, 0, 1, 0, 2, 1, 2, 1, 1, 2, 2, 2, 2, 2, 1, 2, 1, 0, 1, 1, 1, 2, 0, 1, 0, 2, 2, 2, 0, 2, 1, 2, 0, 1, 0, 2, 0, 1, 1, 1, 2, 0, 0, 2, 1, 2, 1, 2, 0, 0, 2, 2, 0, 0, 1, 0, 2, 0, 2, 0, 0, 1, 2, 0, 0, 1, 1, 0, 1, 0, 0, 1, 1, 1, 2, 0, 1, 2, 0, 2, 0, 0, 0, 1, 2, 2, 1, 1, 0, 1, 1, 2, 0, 0, 2, 2, 2, 2, 1, 0, 0, 1, 1, 2, 1, 0, 1, 2, 2, 2, 0, 0, 0, 2, 1, 1, 2, 1, 2, 1, 2, 0, 1, 2, 2, 0, 0, 2, 1, 2, 1, 0, 1, 1, 0, 1, 2, 2, 0, 0, 0, 2, 1, 2, 0, 2, 1, 0, 0, 1, 2, 0, 1, 1, 0, 2, 2, 0, 2, 1, 2, 0, 0, 2, 0, 2, 1, 0, 1, 0, 2, 0, 0, 0, 2, 2, 2, 2, 1, 2, 0, 0, 0, 2, 1, 0, 1, 1, 2, 1, 0, 2, 2, 2, 2, 2, 1, 2, 1, 1, 2, 1, 2, 1, 1, 1, 1, 1, 1, 1, 2, 1, 0, 2, 0, 1, 2, 2, 0, 2, 2, 1, 1, 1, 1, 1, 1, 1, 2, 2, 1, 2, 0, 0, 1, 2, 1, 1, 0, 0, 2, 1, 1, 1, 1, 2, 2, 2, 2, 0, 1, 2, 0, 0, 1, 2, 0, 1, 0, 1, 1, 2, 0, 1, 2, 2, 2, 1, 1, 2, 2, 2, 2, 0, 1, 1, 1, 1, 2, 2, 0, 2, 0, 2, 0, 2, 2, 2, 0, 2, 0, 1, 2, 1, 2, 1, 1, 2, 0, 1, 0, 0, 2, 0, 2, 2, 2, 1, 2, 2, 2, 2, 1, 2, 2, 1, 0, 2, 2, 2, 0, 1, 1, 2, 1, 2, 2, 0, 1, 2, 1, 0, 1, 0, 1, 2, 1, 1, 0, 1, 2, 0, 1, 1, 1, 2, 2, 2, 1, 1, 2, 2, 2, 1, 0, 0, 2, 1, 1, 2, 2, 1, 2, 2, 0, 0, 1, 0, 0, 2, 2, 0, 2, 1, 0, 2, 0, 0, 0, 1, 2, 1, 0, 2, 0, 1, 1, 0, 0, 1, 0, 1, 1, 2, 2, 1, 1, 2, 0, 2, 0, 0, 2, 1, 0, 0, 1, 2, 0, 2, 2, 1, 1, 0, 2, 0, 0, 0, 1, 1, 0, 1, 2, 0, 0, 1, 1, 0, 2, 1, 1, 1, 0, 2, 0, 2, 0, 1, 1, 1, 0, 0, 0, 0, 1, 0, 2, 2, 2, 1, 1, 0, 2, 2, 1, 2, 0, 2, 2, 0, 1, 1, 0, 1, 0, 0, 1, 1, 1, 1, 2, 0, 2, 2, 2, 0, 2, 0, 1, 0, 1, 0, 0, 1, 1, 1, 1, 1, 0, 2, 1, 0, 0, 2, 1, 2, 1, 0, 2, 0, 1, 0, 1, 0, 2, 1, 1, 0, 1, 1, 1, 0, 2, 0, 0, 2, 0, 2, 1, 2, 2, 0, 0, 0, 0, 2, 0, 2, 1, 0, 1, 0, 1, 0, 2, 2, 0, 0, 0, 2, 0, 1, 2, 2, 1, 1, 0, 0, 2, 1, 2, 0, 2, 1, 2, 0, 2, 1, 1, 1, 0, 0, 1, 0, 0, 2, 0, 1, 0, 0, 2, 2, 2, 0, 0, 0, 1, 1, 0, 2, 0, 0, 0, 1, 1, 2, 2, 0, 2, 1, 2, 1, 1, 0, 2, 2, 2, 2, 1, 2, 2, 2, 0, 0, 2, 2, 1, 2, 0, 2, 2, 1, 0, 2, 0, 2, 0, 1, 1, 0, 1, 2, 0, 1, 2, 2, 1, 0, 0, 2, 1, 1, 0, 1, 2, 2, 0, 2, 2, 1, 2, 1, 0, 0, 0, 1, 0, 2, 1, 0, 0, 1, 1, 0, 2, 2, 1, 1, 2, 2, 1, 1, 2, 2, 2, 0, 0, 0, 1, 0, 0, 1, 0, 2, 0, 1, 0, 1, 2, 0, 1, 2, 0, 0, 1, 2, 0, 1, 0, 1, 2, 0, 0, 2, 1, 1, 1, 0, 0, 1, 1, 1, 0, 0, 2, 0, 0, 1, 2, 0, 0, 0, 2, 2, 2, 2, 1, 2, 0, 0, 1, 1, 1, 0, 0, 0, 1, 0, 2, 0, 0, 1, 1, 2, 1, 2, 0, 0, 2, 2, 1, 1, 0, 0, 2, 0, 0, 1, 0, 1, 0, 0, 1, 0, 2, 0, 2, 0, 1, 2, 0, 2, 1, 0, 1, 0, 1, 2, 0, 2, 2, 1, 1, 1, 2, 0, 1, 1, 1, 0, 0, 0, 0, 2, 0, 2, 0, 2, 1, 1, 0, 1, 1, 1, 0, 0, 1, 1, 0, 0, 2, 2, 1, 2, 0, 1, 0, 1, 0, 0, 0, 0, 1, 0, 1, 2, 0, 1, 2, 1, 0, 2, 2, 0, 2, 1, 1, 0, 1, 1, 1, 0, 0, 1, 0, 0, 2, 1, 2, 1, 0, 0, 1, 1, 0, 1, 1, 2, 0, 0, 0, 1, 1, 0, 1, 2, 1, 0, 2, 0, 2, 1, 2, 2, 1, 0, 0, 2, 0, 0, 1, 1, 2, 1, 2, 0, 1, 0, 2, 2, 1, 1, 1, 1, 0, 0, 0, 0, 1, 2, 1, 1, 1, 0, 2, 1, 2, 0, 0, 2, 0, 0, 2, 1, 1, 2, 0, 1, 1, 2, 2, 2, 2, 2, 0, 0, 2, 0, 2, 1, 2, 2, 0, 2, 0, 2, 1, 2, 1, 2, 2, 1, 1, 1, 1, 1, 2, 2, 0, 2, 1, 0, 0, 2, 0, 1, 0, 0, 0, 2, 2, 2, 1, 0, 1, 2, 0, 0, 1, 0, 0, 0, 2, 2, 1, 1, 0, 0, 2, 1, 0, 2, 1, 0, 1, 0, 1, 2, 0, 2, 0, 1, 1, 1, 1, 1, 1, 1, 2, 1, 1, 0, 2, 2, 2, 2, 0, 0, 2, 0, 2, 2, 2, 2, 0, 1, 1, 0, 2, 1, 0, 2, 1, 2, 1, 0, 1, 2, 1, 0, 1, 0, 0, 2, 0, 1, 1, 1, 1, 1, 0, 0, 1, 0, 0, 1, 1, 2, 2, 1, 2, 2, 1, 1, 2, 0, 1, 1, 0, 0, 1, 2, 1, 2, 0, 0, 0, 0, 1, 1, 1, 0, 1, 0, 0, 2, 1, 2, 0, 1, 0, 0, 0, 0, 0, 2, 2, 2, 2, 2, 1, 2, 0, 1, 1, 0, 1, 2, 0, 2, 0, 0, 2, 0, 0, 2, 2, 1, 1, 0, 2, 0, 0, 2, 0, 0, 1, 2, 0, 1, 2, 1, 0, 1, 2, 1, 0, 0, 1, 0, 1, 0, 2, 1, 0, 2, 1, 2, 2, 2, 1, 0, 1, 2, 0, 2, 2, 2, 0, 1, 1, 1, 2, 0, 2, 2, 2, 1, 1, 0, 2, 0, 1, 1, 0, 1, 1, 2, 2, 0, 2, 0, 2, 1, 0, 2, 1, 2, 2, 0, 0, 2, 0, 2, 1, 2, 1, 1, 1, 1, 0, 2, 2, 2, 0, 0, 2, 0, 1, 2, 0, 1, 1, 0, 1, 0, 2, 2, 2, 0, 0, 1, 2, 1, 2, 1, 2, 1, 0, 1, 0, 1, 1, 0, 2, 1, 1, 1, 1, 0, 0, 2, 0, 0, 0, 0, 2, 1, 1, 0, 2, 0, 2, 1, 2, 1, 0, 0, 0, 1, 2, 2, 1, 1, 0, 0, 2, 0, 2, 1, 1, 0, 1, 0, 2, 1, 1, 0, 2, 2, 0, 0, 1, 0, 0, 1, 0, 2, 0, 2, 0, 2, 2, 0, 1, 2, 2, 1, 1, 0, 1, 1, 0, 1, 0, 2, 2, 1, 1, 1, 1, 2, 1, 1, 0, 1, 0, 1, 0, 2, 2, 0, 1, 0, 0, 2, 0, 0, 2, 1, 1, 2, 2, 1, 2, 1, 0, 1, 0, 1, 2, 0, 0, 2, 0, 0, 0, 0, 0, 2, 2, 0, 2, 1, 2, 0, 1, 2, 0, 0, 0, 2, 0, 1, 1, 2, 1, 1, 0, 1, 0, 1, 2, 1, 2, 1, 0, 1, 0, 2, 0, 2, 2, 1, 1, 1, 0, 0, 1, 2, 2, 0, 0, 0, 0, 2, 0, 0, 2, 0, 2, 0, 1, 2, 2, 2, 2, 2, 0, 1, 2, 2, 2, 2, 1, 1, 0, 1, 0, 0, 1, 1, 2, 1, 0, 1, 2, 0, 0, 0, 2, 0, 0, 2, 0, 2, 1, 1, 1, 1, 1, 1, 0, 0, 2, 1, 2, 1, 1, 0, 0, 1, 2, 0, 1, 0, 1, 0, 2, 0, 2, 2, 0, 1, 2, 1, 0, 0, 1, 2, 1, 2, 1, 0, 0, 0, 0, 0, 0, 2, 0, 2, 2, 0, 1, 1, 1, 0, 1, 1, 0, 1, 2, 2, 0, 2, 0, 1, 2, 1, 2, 2, 1, 2, 1, 2, 2, 1, 1, 2, 2, 2, 0, 2, 0, 2, 1, 1, 0, 0, 2, 1, 2, 0, 0, 1, 1, 0, 2, 1, 2, 1, 2, 0, 2, 2, 1, 1, 2, 2, 2, 2, 2, 0, 0, 2, 0, 1, 0, 0, 0, 0, 0, 2, 0, 2, 1, 0, 1, 0, 1, 1, 2, 2, 1, 2, 1, 0, 0, 1, 1, 2, 0, 0, 2, 1, 0, 0, 2, 0, 1, 2, 2, 2, 2, 2, 1, 0, 1, 2, 2, 0, 1, 0, 1, 2, 2, 2, 1, 1, 1, 0, 2, 1, 1, 0, 0, 2, 0, 1, 2, 1, 2, 0, 1, 2, 1, 1, 0, 2, 1, 1, 1, 2, 1, 1, 2, 2, 0, 2, 2, 2, 2, 0, 1, 0, 2, 0, 0, 0, 1, 1, 0, 0, 1, 2, 1, 2, 0, 1, 1, 1, 0, 0, 0, 0, 1, 2, 2, 1, 0, 1, 1, 1, 1, 2, 2, 1, 1, 0, 1, 0, 1, 1, 1, 1, 2, 0, 1, 0, 1, 0, 1, 1, 0, 2, 0, 0, 2, 2, 0, 2, 0, 0, 0, 0, 2, 2, 0, 0, 0, 1, 0, 2, 1, 0, 0, 2, 1, 0, 1, 2, 1, 2, 2, 0, 1, 0, 2, 2, 1, 1, 0, 0, 1, 2, 1, 1, 2, 2, 2, 2, 1, 1, 0, 2, 0, 2, 0, 0, 1, 0, 0, 1, 0, 2, 2, 0, 0, 1, 2, 2, 2, 0, 0, 0, 1, 0, 0, 0, 2, 2, 2, 1, 1, 2, 1, 1, 0, 1, 2, 0, 2, 1, 2, 1, 2, 1, 0, 1, 2, 2, 2, 2, 2, 1, 1, 1, 1, 2, 0, 0, 0, 2, 0, 0, 0, 2, 1, 1, 0, 1, 2, 0, 2, 0, 2, 1, 0, 0, 2, 2, 2, 1, 1, 0, 1, 2, 1, 2, 2, 0, 2, 0, 1, 1, 2, 1, 1, 1, 1, 1, 2, 1, 1, 1, 1, 1, 1, 2, 0, 0, 0, 1, 2, 1, 1, 2, 2, 2, 1, 1, 0, 2, 1, 1, 1, 2, 0, 1, 2, 0, 2, 2, 0, 0, 0, 1, 0, 2, 2, 1, 2, 1, 1, 2, 2, 2, 0, 0, 0, 2, 0, 0, 2, 0, 1, 1, 1, 0, 1, 2, 0, 0, 1, 1, 2, 0, 0, 2, 1, 2, 2, 0, 0, 0, 2, 0, 0, 2, 0, 1, 0, 1, 2, 0, 0, 0, 1, 0, 0, 0, 1, 1, 0, 2, 0, 2, 1, 1, 2, 1, 0, 0, 2, 0, 0, 0, 0, 1, 0, 2, 2, 0, 2, 1, 1, 2, 1, 0, 1, 2, 1, 2, 0, 2, 0, 1, 1, 1, 1, 1, 1, 1, 0, 1, 1, 2, 0, 2, 0, 0, 2, 0, 0, 1, 1, 1, 1, 0, 1, 2, 2, 0, 2, 2, 1, 2, 0, 0, 0, 2, 0, 1, 1, 1, 1, 0, 0, 1, 2, 2, 2, 0, 0, 0, 1, 2, 1, 1, 1, 1, 2, 0, 0, 2, 0, 0, 2, 2, 0, 1, 0, 0, 2, 0, 1, 0, 2, 0, 1, 0, 0, 0, 1, 1, 1, 0, 0, 1, 0, 0, 1, 2, 1, 0, 0, 0, 1, 1, 0, 0, 2, 1, 2, 2, 0, 1, 0, 1, 1, 0, 0, 0, 1, 2, 2, 2, 2, 1, 0, 1, 1, 2, 1, 0, 1, 2, 2, 1, 0, 0, 1, 1, 0, 1, 0, 1, 1, 2, 0, 0, 2, 1, 0, 2, 1, 0, 0, 2, 1, 2, 2, 0, 1, 1, 2, 2, 2, 1, 2, 1, 0, 2, 1, 1, 1, 2, 1, 1, 2, 0, 2, 0, 2, 0, 1, 2, 1, 2, 0, 2, 1, 2, 1, 1, 0, 1, 1, 1, 2, 1, 0, 2, 0, 0, 0, 2, 2, 0, 0, 1, 0, 1, 0, 2, 1, 1, 2, 1, 0, 2, 0, 1, 0, 1, 0, 2, 2, 1, 0, 0, 2, 1, 0, 2, 0, 0, 2, 0, 0, 2, 2, 1, 2, 0, 2, 2, 1, 1, 0, 2, 0, 2, 2, 1, 2, 2, 2, 2, 1, 2, 1, 1, 0, 1, 1, 2, 2, 2, 0, 1, 2, 0, 0, 2, 0, 2, 0, 0, 0, 1, 2, 1, 1, 0, 1, 0, 2, 0, 1, 2, 0, 1, 1, 1, 2, 0, 0, 2, 0, 0, 2, 0, 0, 2, 1, 2, 1, 0, 1, 1, 1, 2, 2, 1, 2, 0, 1, 2, 2, 1, 0, 2, 1, 2, 2, 2, 0, 0, 0, 1, 1, 2, 0, 0, 2, 0, 1, 1, 0, 0, 0, 2, 2, 0, 0, 1, 0, 0, 0, 1, 2, 0, 1, 2, 0, 0, 1, 2, 2, 2, 2, 2, 0, 1, 0, 1, 0, 1, 2, 1, 0, 2, 0, 0, 0, 1, 0, 0, 0, 1, 1, 2, 0, 1, 0, 2, 1, 0, 1, 2, 1, 0, 1, 0, 0, 2, 1, 0, 2, 2, 2, 1, 2, 0, 2, 2, 1, 2, 0, 1, 1, 1, 1, 2, 2, 2, 0, 2, 2, 1, 0, 1, 0, 2, 2, 0, 0, 1, 0, 1, 1, 1, 1, 1, 0, 2, 0, 0, 1, 1, 0, 1, 1, 1, 2, 0, 1, 1, 1, 0, 2, 2, 2, 1, 0, 2, 2, 0, 2, 0, 0, 2, 0, 2, 0, 0, 0, 2, 1, 1, 2, 2, 2, 1, 1, 2, 0, 0, 1, 2, 0, 2, 0, 2, 0, 0, 2, 1, 1, 2, 2, 2, 0, 0, 2, 2, 1, 2, 0, 0, 0, 2, 2, 1, 0, 2, 0, 1, 1, 0, 0, 1, 1, 0, 1, 2, 1, 1, 2, 1, 0, 0, 2, 2, 1, 1, 2, 2, 0, 2, 1, 2, 2, 2, 2, 2, 2, 2, 2, 1, 1, 0, 1, 0, 1, 0, 2, 1, 1, 2, 0, 2, 2, 0, 2, 2, 0, 1, 1, 0, 2, 2, 2, 1, 2, 2, 2, 2, 2, 2, 1, 0, 2, 2, 0, 0, 1, 2, 2, 0, 1, 2, 0, 1, 0, 1, 1, 0, 2, 1, 0, 0, 0, 2, 1, 1, 1, 1, 1, 1, 0, 1, 1, 1, 2, 0, 0, 0, 2, 1, 0, 2, 1, 0, 1, 2, 2, 2, 0, 1, 2, 1, 0, 2, 1, 2, 0, 1, 2, 0, 0, 0, 1, 2, 1, 2, 0, 2, 1, 2, 1, 0, 0, 1, 0, 0, 1, 2, 1, 0, 1, 2, 2, 2, 1, 0, 2, 0, 1, 0, 1, 1, 2, 1, 1, 1, 2, 1, 1, 0, 2, 2, 1, 2, 0, 1, 2, 0, 2, 1, 1, 0, 0, 1, 2, 1, 0, 1, 0, 1, 2, 1, 1, 2, 0, 0, 0, 1, 0, 0, 2, 2, 2, 0, 2, 1, 0, 2, 0, 0, 1, 2, 2, 0, 2, 1, 2, 2, 0, 0, 0, 0, 0, 1, 1, 2, 1, 0, 2, 1, 1, 0, 2, 0, 0, 0, 2, 1, 2, 2, 1, 0, 1, 2, 1, 2, 1, 0, 0, 2, 0, 2, 1, 1, 2, 0, 0, 0, 2, 1, 0, 1, 0, 1, 0, 0, 1, 2, 2, 1, 2, 1, 0, 2, 1, 1, 1, 2, 2, 2, 2, 0, 0, 0, 1, 1, 1, 2, 1, 1, 0, 2, 2, 1, 0, 0, 0, 2, 0, 1, 2, 0, 1, 0, 0, 2, 0, 0, 2, 2, 2, 1, 1, 2, 1, 1, 2, 1, 2, 2, 1, 0, 2, 2, 1, 2, 2, 0, 0, 2, 0, 0, 1, 1, 2, 2, 0, 1, 2, 2, 2, 1, 0, 0, 2, 2, 0, 1, 2, 2, 1, 0, 2, 2, 0, 1, 0, 1, 0, 1, 2, 2, 0, 1, 1, 0, 0, 2, 1, 0, 1, 0, 2, 2, 2, 0, 0, 1, 0, 0, 0, 0, 2, 1, 2, 2, 2, 2, 1, 0, 1, 0, 0, 2, 0, 1, 0, 0, 1, 1, 0, 0, 2, 1, 0, 0, 1, 2, 2, 1, 2, 2, 1, 0, 2, 0, 0, 1, 1, 0, 1, 0, 2, 0, 1, 1, 0, 1, 1, 0, 1, 0, 2, 0, 0, 1, 2, 1, 1, 2, 0, 1, 1, 0, 0, 2, 2, 2, 2, 2, 0, 0, 2, 2, 2, 1, 2, 1, 0, 1, 2, 0, 2, 0, 1, 2, 1, 0, 2, 1, 1, 0, 1, 0, 2, 2, 1, 2, 1, 0, 1, 2, 1, 2, 0, 0, 2, 1, 2, 2, 1, 2, 0, 2, 2, 0, 2, 0, 2, 1, 1, 2, 2, 1, 0, 1, 1, 2, 2, 0, 2, 1, 1, 2, 1, 0, 2, 1, 0, 0, 0, 2, 2, 1, 1, 0, 2, 0, 1, 2, 2, 2, 2, 1, 0, 0, 2, 2, 0, 0, 0, 2, 1, 0, 0, 1, 0, 0, 1, 0, 0, 2, 1, 2, 2, 0, 1, 0, 1, 2, 2, 0, 0, 1, 1, 0, 1, 1, 2, 2, 1, 0, 0, 2, 2, 1, 2, 2, 1, 2, 1, 1, 2, 2, 2, 1, 0, 0, 1, 2, 0, 2, 2, 2, 1, 2, 2, 0, 2, 0, 0, 1, 2, 1, 2, 1, 0, 0, 0, 1, 1, 0, 2, 0, 0, 2, 0, 0, 0, 2, 1, 0, 2, 1, 0, 0, 2, 2, 2, 2, 1, 2, 2, 2, 1, 0, 1, 0, 1, 2, 1, 1, 1, 2, 2, 2, 2, 2, 0, 0, 1, 0, 2, 1, 2, 0, 1, 2, 1, 2, 2, 1, 0, 0, 0, 1, 1, 0, 0, 2, 0, 1, 0, 1, 1, 0, 0, 2, 0, 2, 2, 2, 2, 0, 2, 0, 2, 1, 1, 2, 0, 2, 2, 2, 0, 2, 2, 1, 2, 0, 2, 2, 2, 0, 2, 0, 0, 0, 0, 1, 1, 0, 1, 1, 1, 1, 1, 0, 2, 0, 1, 0, 0, 1, 1, 0, 0, 2, 1, 0, 2, 1, 1, 1, 0, 1, 2, 2, 0, 2, 0, 1, 0, 2, 1, 1, 1, 0, 1, 1, 1, 0, 1, 0, 0, 0, 0, 0, 2, 2, 1, 1, 0, 0, 2, 1, 1, 0, 2, 1, 0, 1, 1, 1, 0, 2, 2, 0, 0, 2, 1, 0, 0, 2, 1, 1, 0, 0, 0, 2, 1, 1, 2, 1, 0, 1, 2, 1, 0, 2, 2, 1, 1, 0, 0, 0, 1, 0, 1, 1, 2, 2, 2, 1, 1, 0, 2, 1, 1, 0, 0, 0, 0, 2, 2, 0, 1, 0, 1, 1, 0, 2, 2, 2, 0, 2, 1, 2, 0, 1, 0, 2, 1, 2, 0, 0, 0, 2, 2, 2, 0, 1, 1, 1, 0, 1, 1, 1, 1, 1, 0, 1, 0, 2, 0, 1, 0, 2, 1, 1, 1, 1, 2, 2, 1, 0, 2, 0, 2, 2, 2, 1, 1, 1, 1, 0, 1, 0, 2, 2, 2, 2, 2, 0, 2, 0, 2, 0, 2, 0, 2, 0, 0, 2, 1, 2, 1, 1, 0, 1, 2, 0, 1, 0, 0, 0, 1, 1, 0, 1, 0, 2, 0, 1, 0, 1, 2, 0, 0, 2, 0, 2, 2, 1, 0, 2, 2, 1, 1, 2, 2, 1, 2, 1, 0, 0, 0, 1, 2, 1, 2, 2, 0, 1, 1, 1, 2, 2, 0, 0, 2, 2, 0, 2, 1, 2, 0, 1, 2, 1, 2, 1, 2, 2, 1, 1, 0, 0, 2, 2, 0, 1, 0, 0, 2, 0, 2, 1, 2, 0, 2, 2, 1, 0, 1, 1, 2, 0, 0, 1, 0, 2, 0, 0, 2, 0, 0, 1, 2, 0, 1, 1, 0, 1, 2, 1, 0, 1, 1, 0, 0, 2, 1, 2, 0, 0, 0, 0, 1, 1, 1, 2, 0, 1, 1, 2, 1, 2, 1, 0, 0, 2, 2, 0, 1, 1, 0, 1, 0, 0, 1, 0, 1, 1, 2, 2, 1, 2, 2, 0, 0, 0, 0, 2, 0, 2, 0, 1, 2, 2, 0, 2, 2, 2, 2, 2, 1, 0, 1, 1, 0, 0, 1, 0, 0, 1, 1, 0, 0, 0, 0, 1, 2, 2, 2, 1, 0, 0, 2, 1, 0, 0, 1, 2, 0, 0, 2, 2, 1, 0, 0, 1, 0, 0, 2, 0, 0, 0, 0, 0, 1, 1, 2, 0, 1, 1, 2, 2, 0, 1, 1, 1, 0, 1, 1, 2, 2, 0, 1, 1, 2, 2, 2, 0, 0, 1, 1, 1, 2, 0, 2, 2, 1, 1, 0, 1, 2, 0, 2, 1, 2, 0, 2, 0, 1, 1, 1, 2, 1, 2, 0, 0, 0, 2, 2, 2, 0, 0, 2, 2, 1, 2, 0, 2, 2, 1, 2, 2, 1, 1, 2, 1, 2, 1, 1, 2, 1, 2, 2, 1, 1, 1, 0, 0, 1, 0, 0, 1, 1, 2, 1, 1, 0, 2, 2, 2, 2, 1, 1, 0, 2, 2, 1, 1, 0, 2, 0, 2, 1, 0, 0, 0, 1, 1, 1, 2, 2, 0, 0, 1, 2, 0, 0, 1, 0, 0, 1, 2, 2, 1, 0, 1, 2, 0, 2, 2, 2, 1, 0, 0, 0, 1, 1, 0, 2, 0, 1, 2, 2, 0, 1, 2, 1, 1, 2, 1, 2, 0, 0, 0, 1, 1, 2, 2, 1, 1, 0, 2, 0, 1, 2, 0, 1, 2, 2, 0, 0, 0, 1, 0, 2, 1, 0, 0, 2, 0, 2, 2, 1, 0, 0, 1, 1, 1, 2, 2, 1, 2, 1, 0, 0, 1, 1, 0, 0, 1, 0, 2, 1, 2, 2, 2, 2, 0, 0, 1, 1, 2, 0, 2, 0, 1, 1, 2, 1, 0, 2, 1, 1, 0, 2, 0, 1, 2, 0, 2, 0, 0, 0, 0, 0, 0, 2, 0, 0, 1, 0, 2, 0, 2, 0, 2, 0, 1, 1, 2, 1, 2, 2, 1, 1, 1, 0, 2, 2, 1, 0, 0, 2, 2, 2, 1, 0, 1, 0, 2, 2, 0, 1, 2, 2, 2, 2, 0, 2, 2, 0, 0, 2, 2, 1, 0, 2, 1, 2, 1, 2, 0, 0, 2, 0, 1, 0, 0, 0, 1, 2, 2, 2, 2, 0, 2, 0, 1, 0, 1, 0, 0, 0, 0, 1, 0, 1, 2, 1, 1, 0, 0, 1, 1, 1, 0, 2, 1, 2, 2, 1, 0, 2, 2, 2, 2, 1, 0, 1, 2, 1, 2, 2, 2, 1, 0, 1, 2, 1, 2, 0, 2, 1, 0, 1, 0, 0, 1, 1, 2, 1, 2, 2, 2, 1, 0, 1, 1, 0, 1, 1, 1, 0, 2, 2, 1, 2, 2, 2, 1, 2, 0, 0, 1, 1, 1, 1, 1, 1, 1, 0, 2, 2, 0, 0, 0, 1, 0, 1, 0, 0, 2, 2, 2, 1, 2, 0, 0, 0, 1, 0, 1, 1, 2, 2, 0, 1, 0, 0, 0, 0, 0, 0, 1, 0, 2, 0, 2, 2, 1, 1, 1, 0, 1, 1, 0, 2, 0, 2, 0, 2, 1, 0, 2, 2, 0, 0, 0, 1, 1, 0, 2, 0, 0, 0, 0, 2, 1, 1, 1, 2, 0, 1, 1, 2, 2, 1, 0, 1, 1, 0, 0, 2, 1, 2, 0, 0, 2, 2, 1, 1, 0, 0, 0, 2, 1, 0, 2, 2, 0, 0, 1, 2, 2, 2, 1, 2, 2, 0, 2, 1, 1, 2, 2, 0, 2, 2, 1, 2, 2, 0, 2, 1, 2, 2, 2, 2, 2, 0, 2, 2, 0, 2, 2, 1, 1, 0, 1, 1, 0, 1, 1, 0, 2, 2, 1, 0, 0, 2, 0, 0, 1, 1, 2, 1, 0, 0, 1, 1, 2, 2, 0, 1, 1, 1, 2, 2, 2, 1, 2, 2, 1, 0, 1, 2, 1, 1, 2, 2, 1, 1, 2, 2, 0, 1, 1, 1, 2, 0, 2, 1, 2, 2, 0, 1, 1, 2, 2, 1, 2, 2, 2, 2, 1, 1, 0, 0, 0, 0, 0, 1, 0, 1, 0, 1, 1, 0, 0, 2, 2, 2, 1, 2, 2, 0, 2, 1, 2, 0, 2, 0, 2, 0, 1, 2, 1, 1, 2, 1, 1, 2, 2, 0, 1, 1, 0, 1, 2, 0, 0, 1, 2, 0, 2, 1, 2, 0, 1, 1, 0, 2, 0, 1, 2, 1, 1, 1, 2, 0, 0, 0, 2, 2, 1, 1, 2, 2, 1, 2, 1, 2, 1, 1, 1, 0, 2, 2, 2, 1, 2, 1, 1, 2, 0, 0, 0, 1, 1, 0, 0, 2, 1, 0, 2, 2, 2, 2, 0, 0, 2, 1, 2, 2, 1, 1, 0, 0, 2, 2, 1, 0, 1, 2, 2, 0, 0, 2, 1, 2, 2, 0, 0, 0, 1, 0, 1, 1, 1, 0, 1, 0, 2, 2, 1, 2, 2, 1, 1, 1, 0, 2, 2, 2, 0, 1, 2, 1, 0, 1, 0, 2, 2, 1, 2, 0, 1, 1, 2, 1, 1, 1, 2, 0, 1, 1, 1, 2, 0, 2, 1, 1, 1, 2, 1, 0, 1, 2, 0, 0, 2, 2, 2, 1, 2, 2, 0, 1, 2, 0, 2, 0, 2, 1, 0, 2, 2, 0, 2, 2, 2, 2, 0, 0, 0, 2, 2, 1, 0, 1, 1, 2, 1, 2, 1, 0, 0, 0, 0, 0, 0, 0, 1, 1, 2, 2, 1, 0, 2, 1, 2, 0, 1, 0, 1, 1, 1, 1, 1, 1, 2, 0, 1, 0, 2, 0, 2, 2, 0, 0, 0, 2, 0, 1, 0, 1, 0, 2, 1, 0, 1, 0, 1, 2, 2, 2, 2, 1, 0, 1, 0, 2, 0, 2, 0, 0, 2, 2, 1, 1, 0, 2, 2, 0, 1, 2, 1, 0, 0, 0, 1, 1, 1, 1, 2, 1, 0, 0, 1, 1, 2, 0, 0, 0, 2, 1, 2, 2, 0, 0, 0, 1, 1, 2, 1, 0, 1, 2, 0, 1, 2, 1, 0, 1, 0, 0, 2, 1, 2, 1, 0, 1, 2, 2, 0, 0, 0, 0, 0, 0, 2, 0, 2, 1, 0, 0, 2, 0, 0, 1, 1, 1, 2, 0, 0, 1, 0, 1, 1, 0, 1, 0, 0, 0, 1, 1, 1, 0, 0, 0, 1, 0, 2, 0, 2, 0, 0, 0, 1, 0, 2, 2, 1, 2, 0, 0, 1, 0, 1, 2, 2, 1, 2, 2, 1, 1, 0, 0, 2, 2, 0, 0, 1, 1, 1, 1, 1, 0, 0, 2, 0, 1, 0, 1, 2, 2, 2, 0, 2, 0, 1, 1, 2, 2, 2, 1, 2, 1, 0, 0, 1, 1, 0, 2, 0, 0, 0, 2, 2, 2, 2, 2, 0, 1, 2, 1, 2, 2, 2, 2, 2, 2, 0, 0, 1, 1, 0, 0, 1, 0, 0, 1, 1, 0, 1, 0, 0, 0, 2, 2, 2, 0, 2, 2, 2, 0, 2, 0, 0, 1, 2, 2, 2, 0, 1, 2, 1, 0, 2, 2, 1, 2, 0, 1, 1, 2, 2, 1, 0, 2, 2, 1, 1, 1, 1, 2, 2, 0, 0, 1, 2, 0, 2, 2, 1, 1, 0, 0, 2, 0, 2, 0, 0, 2, 0, 2, 1, 2, 2, 1, 2, 1, 1, 2, 0, 1, 1, 1, 0, 0, 1, 2, 0, 2, 1, 1, 2, 2, 2, 0, 1, 1, 0, 2, 0, 2, 2, 1, 2, 1, 0, 0, 0, 2, 1, 0, 0, 0, 0, 0, 1, 2, 0, 0, 2, 2, 2, 1, 2, 0, 2, 1, 1, 0, 2, 1, 1, 2, 1, 0, 2, 0, 1, 0, 2, 1, 1, 0, 0, 2, 1, 2, 2, 1, 1, 2, 1, 0, 0, 2, 1, 0, 0, 2, 2, 0, 0, 2, 1, 0, 2, 0, 0, 0, 2, 1, 0, 1, 0, 1, 1, 1, 2, 1, 0, 0, 1, 1, 0, 1, 2, 1, 2, 0, 1, 0, 1, 1, 1, 1, 2, 0, 0, 0, 2, 2, 2, 0, 2, 0, 0, 1, 0, 1, 1, 1, 0, 2, 1, 2, 0, 1, 1, 2, 2, 1, 2, 0, 0, 2, 2, 1, 2, 2, 1, 2, 0, 0, 0, 1, 0, 2, 1, 1, 0, 2, 0, 2, 1, 0, 2, 1, 1, 2, 2, 1, 2, 1, 2, 0, 0, 1, 2, 0, 1, 0, 2, 0, 2, 0, 2, 0, 2, 2, 2, 1, 2, 0, 2, 1, 1, 2, 2, 1, 2, 2, 2, 1, 1, 1, 2, 2, 1, 0, 1, 1, 0, 1, 1, 1, 0, 0, 1, 2, 1, 1, 1, 1, 2, 0, 1, 2, 0, 2, 0, 0, 2, 0, 2, 1, 0, 1, 2, 1, 2, 0, 1, 2, 0, 1, 1, 0, 1, 2, 2, 2, 1, 0, 2, 0, 2, 1, 2, 1, 2, 1, 1, 1, 0, 0, 1, 2, 2, 2, 1, 1, 2, 2, 1, 1, 1, 1, 1, 0, 0, 1, 1, 2, 2, 2, 0, 2, 2, 1, 2, 2, 1, 1, 1, 1, 2, 0, 0, 1, 1, 2, 1, 2, 1, 0, 1, 0, 2, 1, 0, 0, 0, 1, 2, 2, 0, 0, 1, 2, 0, 1, 2, 2, 0, 1, 1, 2, 0, 2, 0, 1, 0, 2, 1, 2, 2, 2, 2, 1, 0, 1, 0, 1, 1, 1, 2, 2, 2, 1, 2, 1, 0, 2, 1, 0, 0, 0, 1, 0, 1, 2, 0, 1, 0, 0, 0, 2, 1, 0, 0, 0, 0, 0, 2, 2, 2, 1, 2, 0, 0, 2, 1, 0, 0, 2, 2, 0, 1, 1, 1, 1, 0, 0, 0, 1, 2, 1, 0, 1, 2, 0, 0, 1, 0, 1, 0, 0, 2, 1, 1, 1, 0, 0, 1, 0, 1, 0, 2, 2, 2, 0, 1, 2, 1, 2, 1, 1, 1, 1, 0, 2, 1, 0, 0, 0, 1, 1, 0, 2, 2, 0, 1, 0, 0, 0, 0, 2, 0, 2, 0, 1, 0, 0, 2, 2, 1, 1, 1, 1, 0, 0, 1, 1, 1, 0, 1, 2, 1, 2, 2, 1, 1, 2, 2, 0, 0, 0, 1, 0, 1, 2, 2, 1, 0, 1, 2, 1, 2, 0, 0, 2, 0, 2, 0, 0, 2, 2, 2, 2, 0, 2, 0, 0, 1, 2, 1, 1, 2, 1, 2, 0, 2, 2, 1, 0, 0, 1, 2, 2, 1, 0, 1, 0, 2, 2, 0, 1, 0, 1, 1, 0, 2, 0, 0, 2, 1, 2, 1, 2, 1, 1, 1, 0, 1, 0, 1, 1, 1, 0, 2, 2, 1, 0, 2, 0, 2, 0, 0, 1, 1, 0, 0, 0, 1, 0, 0, 1, 1, 0, 1, 2, 0, 2, 0, 2, 2, 0, 2, 2, 2, 1, 0, 0, 0, 0, 2, 1, 2, 0, 1, 1, 1, 0, 0, 1, 2, 2, 2, 1, 0, 2, 2, 1, 1, 1, 0, 0, 2, 1, 2, 0, 0, 2, 0, 1, 1, 2, 0, 1, 2, 2, 2, 2, 1, 0, 1, 0, 0, 0, 1, 2, 2, 1, 2, 0, 1, 0, 0, 0, 1, 2, 1, 2, 1, 1, 2, 0, 2, 1, 1, 2, 0, 0, 1, 1, 1, 2, 0, 1, 0, 0, 0, 1, 2, 2, 0, 1, 0, 2, 2, 2, 2, 0, 2, 2, 0, 1, 0, 0, 2, 1, 1, 1, 2, 1, 1, 2, 0, 0, 0, 0, 2, 2, 2, 1, 0, 1, 1, 1, 0, 2, 0, 2, 0, 2, 1, 2, 2, 2, 1, 0, 0, 0, 2, 2, 0, 2, 0, 2, 2, 0, 2, 0, 2, 2, 1, 0, 0, 2, 0, 0, 1, 1, 1, 1, 1, 1, 2, 1, 1, 2, 0, 1, 2, 1, 1, 0, 2, 0, 2, 1, 2, 0, 1, 1, 2, 0, 0, 1, 1, 2, 0, 2, 1, 1, 0, 0, 2, 0, 0, 1, 2, 1, 2, 2, 2, 2, 0, 1, 2, 2, 2, 0, 1, 2, 1, 1, 1, 2, 1, 0, 2, 2, 0, 1, 2, 2, 0, 2, 2, 1, 2, 2, 2, 1, 2, 2, 1, 1, 0, 2, 0, 0, 2, 1, 2, 1, 1, 0, 0, 0, 0, 0, 1, 0, 1, 0, 1, 2, 0, 2, 2, 1, 0, 2, 0, 2, 0, 2, 1, 2, 1, 2, 0, 1, 2, 0, 1, 1, 2, 2, 1, 0, 0, 2, 1, 2, 0, 2, 0, 0, 0, 1, 0, 2, 2, 0, 1, 2, 0, 2, 2, 2, 2, 1, 2, 1, 1, 0, 1, 0, 1, 1, 2, 0, 1, 0, 0, 0, 2, 1, 1, 2, 0, 2, 1, 1, 2, 0, 0, 1, 2, 0, 1, 2, 1, 0, 2, 2, 0, 0, 0, 0, 2, 1, 0, 2, 1, 2, 0, 2, 1, 1, 1, 2, 1, 0, 0, 0, 1, 2, 0, 1, 2, 2, 1, 2, 1, 1, 2, 0, 1, 1, 0, 2, 0, 1, 0, 0, 0, 0, 2, 0, 0, 2, 0, 1, 2, 2, 2, 1, 1, 2, 1, 2, 0, 0, 1, 0, 0, 1, 1, 1, 2, 2, 0, 0, 0, 0, 1, 0, 2, 1, 0, 0, 2, 2, 2, 0, 2, 1, 0, 2, 2, 2, 2, 2, 1, 2, 0, 2, 0, 2, 2, 1, 2, 0, 1, 2, 1, 2, 2, 2, 2, 0, 0, 1, 1, 1, 2, 0, 0, 0, 2, 0, 1, 0, 0, 1, 0, 1, 2, 2, 1, 2, 1, 2, 1, 2, 2, 1, 2, 2, 2, 1, 1, 1, 2, 1, 1, 0]\n"
     ]
    }
   ],
   "source": [
    "print(y_train)"
   ]
  },
  {
   "cell_type": "code",
   "execution_count": 19,
   "id": "5c8eb534",
   "metadata": {
    "scrolled": true
   },
   "outputs": [
    {
     "name": "stderr",
     "output_type": "stream",
     "text": [
      "IOPub data rate exceeded.\n",
      "The notebook server will temporarily stop sending output\n",
      "to the client in order to avoid crashing it.\n",
      "To change this limit, set the config variable\n",
      "`--NotebookApp.iopub_data_rate_limit`.\n",
      "\n",
      "Current values:\n",
      "NotebookApp.iopub_data_rate_limit=1000000.0 (bytes/sec)\n",
      "NotebookApp.rate_limit_window=3.0 (secs)\n",
      "\n"
     ]
    }
   ],
   "source": [
    "print(X_test)"
   ]
  },
  {
   "cell_type": "code",
   "execution_count": 20,
   "id": "ef8fecc1",
   "metadata": {},
   "outputs": [
    {
     "name": "stdout",
     "output_type": "stream",
     "text": [
      "[2, 1, 0, 1, 2, 1, 0, 0, 1, 0, 1, 0, 2, 1, 2, 2, 2, 2, 2, 0, 1, 2, 2, 2, 2, 0, 0, 2, 1, 1, 0, 2, 2, 1, 2, 1, 0, 0, 1, 0, 0, 2, 1, 1, 2, 2, 2, 0, 1, 2, 0, 1, 0, 0, 1, 2, 2, 2, 0, 0, 1, 2, 1, 1, 2, 1, 1, 2, 0, 1, 1, 2, 1, 1, 0, 0, 2, 1, 0, 2, 0, 0, 2, 1, 2, 0, 2, 2, 2, 0, 1, 0, 2, 0, 1, 2, 1, 0, 1, 1, 1, 1, 0, 2, 0, 2, 0, 0, 2, 1, 0, 1, 1, 0, 2, 0, 0, 2, 2, 0, 0, 2, 1, 0, 0, 0, 2, 1, 1, 2, 0, 2, 1, 1, 0, 1, 2, 0, 0, 0, 0, 1, 1, 0, 2, 1, 2, 2, 1, 2, 2, 2, 2, 2, 2, 1, 0, 0, 1, 0, 0, 1, 0, 2, 1, 0, 2, 1, 0, 0, 1, 1, 1, 0, 1, 0, 0, 0, 1, 0, 0, 1, 2, 1, 0, 0, 2, 2, 1, 1, 2, 1, 1, 0, 0, 1, 0, 2, 2, 0, 0, 0, 1, 2, 1, 1, 0, 0, 1, 1, 0, 2, 0, 0, 0, 1, 0, 1, 0, 0, 0, 0, 1, 1, 0, 1, 2, 0, 2, 1, 2, 2, 2, 1, 1, 0, 2, 1, 1, 0, 2, 0, 2, 2, 2, 1, 0, 0, 0, 0, 0, 0, 1, 1, 2, 2, 1, 1, 2, 0, 2, 1, 2, 0, 1, 2, 0, 1, 0, 0, 0, 0, 0, 2, 1, 1, 1, 0, 2, 0, 2, 0, 1, 1, 2, 1, 2, 1, 1, 1, 0, 0, 1, 2, 0, 2, 0, 0, 2, 1, 2, 0, 2, 0, 1, 1, 2, 2, 0, 0, 0, 2, 0, 1, 0, 2, 2, 1, 2, 2, 0, 1, 0, 0, 0, 2, 2, 1, 0, 2, 0, 0, 1, 1, 2, 2, 2, 1, 1, 2, 1, 1, 2, 0, 1, 2, 0, 2, 0, 2, 1, 1, 0, 0, 0, 0, 2, 1, 1, 0, 2, 1, 1, 2, 0, 2, 2, 2, 0, 1, 2, 1, 0, 1, 2, 1, 1, 1, 0, 0, 2, 0, 1, 0, 2, 1, 2, 2, 2, 2, 1, 2, 1, 2, 2, 2, 2, 2, 1, 1, 2, 1, 1, 1, 0, 1, 2, 0, 1, 0, 0, 0, 0, 0, 2, 0, 0, 1, 0, 0, 1, 1, 2, 2, 0, 1, 1, 0, 0, 2, 1, 2, 0, 1, 1, 2, 2, 1, 2, 1, 0, 1, 0, 2, 0, 1, 0, 1, 1, 2, 2, 0, 2, 0, 1, 2, 1, 1, 1, 0, 2, 2, 1, 1, 1, 0, 2, 0, 0, 0, 2, 0, 1, 2, 0, 1, 2, 0, 2, 0, 1, 2, 0, 0, 0, 1, 2, 1, 1, 1, 1, 0, 0, 2, 0, 0, 2, 0, 1, 0, 2, 2, 1, 0, 2, 1, 1, 0, 0, 0, 2, 0, 0, 2, 0, 0, 2, 0, 2, 1, 0, 2, 1, 1, 1, 0, 0, 0, 0, 2, 1, 2, 0, 1, 0, 0, 2, 1, 0, 1, 1, 0, 1, 1, 2, 0, 0, 1, 2, 0, 2, 2, 0, 2, 1, 0, 1, 2, 0, 0, 0, 2, 1, 1, 0, 0, 1, 2, 0, 2, 2, 2, 0, 0, 1, 0, 1, 2, 0, 1, 1, 1, 0, 1, 0, 1, 0, 1, 2, 1, 2, 2, 0, 1, 0, 2, 1, 1, 0, 1, 2, 1, 1, 2, 0, 2, 0, 0, 1, 0, 0, 1, 1, 0, 2, 1, 1, 0, 2, 2, 0, 2, 2, 1, 0, 2, 1, 1, 1, 2, 0, 0, 1, 1, 1, 1, 0, 0, 2, 1, 2, 2, 0, 0, 0, 1, 2, 0, 1, 2, 0, 2, 2, 2, 1, 1, 0, 2, 2, 1, 0, 1, 1, 1, 0, 2, 2, 2, 2, 1, 1, 2, 0, 2, 2, 2, 1, 2, 2, 2, 1, 1, 1, 2, 0, 0, 1, 1, 2, 1, 1, 1, 0, 2, 0, 2, 2, 2, 2, 1, 0, 0, 0, 0, 1, 2, 1, 0, 0, 1, 0, 1, 1, 2, 0, 1, 1, 0, 0, 0, 2, 2, 2, 1, 0, 2, 1, 2, 0, 2, 1, 1, 0, 0, 2, 1, 1, 2, 2, 2, 2, 0, 2, 1, 1, 0, 2, 0, 2, 2, 2, 1, 0, 0, 0, 1, 2, 1, 2, 0, 1, 1, 1, 2, 1, 0, 2, 0, 1, 1, 1, 2, 2, 0, 0, 1, 2, 2, 1, 2, 0, 2, 1, 1, 0, 2, 1, 0, 0, 2, 0, 0, 0, 2, 0, 1, 0, 2, 2, 1, 0, 1, 1, 2, 0, 2, 2, 2, 2, 1, 1, 1, 2, 0, 0, 0, 1, 0, 1, 2, 1, 0, 0, 1, 1, 2, 1, 2, 2, 0, 1, 1, 2, 0, 2, 0, 1, 0, 1, 2, 1, 1, 1, 2, 0, 0, 1, 0, 2, 1, 2, 1, 0, 1, 2, 1, 1, 1, 0, 1, 0, 1, 1, 2, 1, 0, 0, 2, 1, 2, 0, 0, 2, 0, 0, 1, 0, 0, 2, 2, 1, 2, 1, 2, 2, 2, 2, 0, 0, 2, 1, 2, 2, 1, 0, 1, 2, 0, 0, 1, 2, 2, 1, 0, 0, 0, 2, 2, 1, 0, 2, 0, 2, 1, 2, 1, 1, 1, 2, 0, 0, 2, 0, 1, 1, 1, 0, 2, 1, 1, 2, 2, 0, 0, 2, 1, 2, 0, 0, 0, 2, 2, 0, 0, 2, 0, 1, 1, 1, 0, 1, 1, 2, 0, 2, 0, 2, 0, 2, 0, 0, 2, 1, 0, 2, 1, 2, 2, 2, 1, 1, 0, 2, 2, 2, 0, 1, 1, 2, 1, 0, 2, 1, 1, 1, 0, 2, 1, 0, 2, 1, 2, 2, 1, 2, 1, 0, 1, 1, 1, 0, 0, 0, 0, 2, 0, 0, 0, 1, 1, 1, 1, 0, 2, 1, 0, 0, 0, 1, 2, 1, 1, 1, 2, 0, 1, 0, 2, 0, 2, 0, 2, 0, 1, 1, 2, 1, 2, 0, 0, 0, 2, 2, 0, 2, 0, 0, 1, 0, 2, 0, 0, 0, 1, 2, 1, 2, 1, 2, 0, 2, 1, 1, 1, 1, 0, 0, 1, 1, 1, 2, 1, 1, 0, 0, 0, 1, 0, 0, 1, 0, 1, 0, 1, 2, 1, 0, 0, 0, 2, 2, 0, 0, 2, 2, 1, 1, 2, 0, 1, 0, 1, 1, 0, 2, 0, 2, 1, 2, 1, 0, 2, 2, 0, 2, 0, 1, 2, 1, 0, 0, 0, 2, 1, 1, 1, 1, 2, 2, 2, 1, 1, 1, 0, 1, 0, 1, 0, 0, 2, 0, 1, 0, 0, 1, 0, 0, 1, 0, 0, 1, 0, 0, 0, 1, 2, 1, 0, 2, 1, 2, 0, 0, 0, 1, 2, 0, 2, 0, 0, 2, 1, 0, 1, 0, 1, 2, 2, 0, 1, 2, 0, 2, 2, 1, 2, 2, 0, 1, 1, 2, 0, 0, 2, 2, 2, 2, 1, 1, 1, 1, 0, 0, 0, 0, 1, 1, 0, 0, 0, 0, 2, 0, 0, 2, 2, 1, 1, 1, 2, 2, 1, 1, 0, 0, 1, 0, 0, 0, 0, 0, 1, 2, 1, 0, 1, 1, 1, 2, 0, 0, 0, 1, 2, 2, 2, 2, 0, 0, 1, 2, 0, 2, 2, 2, 0, 2, 1, 2, 2, 2, 2, 0, 2, 2, 2, 2, 2, 0, 1, 1, 1, 1, 0, 1, 1, 2, 0, 0, 1, 1, 2, 2, 2, 2, 1, 0, 1, 2, 0, 1, 1, 2, 1, 2, 2, 0, 0, 0, 2, 0, 1, 2, 2, 2, 0, 2, 2, 2, 0, 0, 0, 0, 2, 1, 2, 1, 1, 0, 1, 0, 2, 1, 0, 0, 2, 2, 2, 2, 2, 2, 2, 2, 1, 1, 0, 1, 0, 1, 0, 1, 0, 0, 2, 1, 2, 1, 0, 1, 2, 2, 0, 2, 1, 0, 0, 1, 0, 2, 2, 1, 2, 2, 0, 1, 1, 2, 0, 1, 0, 2, 0, 0, 2, 0, 1, 2, 2, 1, 2, 0, 1, 1, 0, 1, 0, 1, 0, 0, 0, 2, 0, 0, 2, 1, 1, 2, 0, 1, 2, 1, 1, 2, 0, 2, 1, 0, 0, 0, 1, 0, 0, 2, 1, 2, 0, 0, 2, 1, 2, 2, 0, 0, 0, 1, 0, 2, 0, 1, 2, 2, 0, 1, 2, 2, 2, 1, 2, 2, 0, 1, 0, 0, 1, 2, 2, 1, 2, 1, 1, 2, 1, 2, 0, 2, 1, 1, 2, 1, 0, 0, 2, 1, 0, 1, 1, 0, 1, 0, 2, 0, 0, 1, 1, 2, 0, 0, 2, 2, 1, 0, 2, 2, 0, 2, 2, 1, 0, 2, 1, 1, 2, 2, 0, 0, 0, 1, 0, 1, 1, 1, 1, 2, 0, 2, 2, 2, 0, 2, 0, 1, 1, 2, 2, 0, 0, 0, 2, 2, 0, 1, 0, 2, 1, 0, 2, 0, 2, 1, 0, 0, 2, 1, 0, 0, 0, 2, 2, 1, 0, 0, 2, 1, 2, 1, 2, 2, 2, 0, 2, 1, 1, 0, 1, 1, 2, 1, 0, 0, 2, 2, 1, 2, 1, 2, 1, 0, 1, 1, 2, 1, 1, 2, 2, 0, 1, 0, 1, 0, 0, 2, 2, 1, 0, 0, 0, 0, 0, 0, 1, 0, 2, 0, 1, 1, 1, 2, 2, 1, 1, 0, 0, 1, 0, 2, 2, 2, 2, 1, 0, 0, 0, 1, 0, 1, 1, 2, 2, 2, 2, 0, 2, 1, 0, 2, 1, 0, 2, 1, 1, 2, 1, 1, 1, 0, 1, 2, 1, 1, 1, 2, 1, 1, 2, 2, 1, 2, 0, 1, 0, 1, 2, 0, 1, 2, 0, 0, 2, 0, 2, 1, 2, 0, 2, 1, 1, 0, 2, 2, 1, 0, 2, 1, 2, 1, 2, 0, 2, 2, 0, 1, 2, 1, 2, 0, 1, 2, 1, 0, 2, 2, 0, 1, 1, 2, 2, 0, 1, 0, 2, 0, 0, 0, 1, 0, 2, 0, 0, 2, 2, 1, 2, 2, 0, 2, 1, 1, 2, 0, 1, 1, 1, 1, 2, 0, 0, 2, 1, 0, 2, 1, 1, 0, 0, 1, 1, 1, 1, 2, 1, 1, 2, 0, 1, 0, 2, 1, 2, 1, 2, 0, 0, 1, 2, 2, 1, 0, 1, 2, 1, 0, 0, 2, 1, 0, 0, 2, 0, 2, 0, 0, 2, 2, 0, 2, 1, 2, 2, 0, 0, 2, 0, 1, 1, 1, 2, 1, 1, 1, 0, 0, 1, 0, 2, 2, 2, 0, 1, 1, 1, 2, 1, 2, 0, 0, 2, 2, 1, 0, 2, 1, 0, 1, 2, 2, 1, 0, 2, 2, 2, 1, 2, 0, 0, 1, 2, 0, 1, 0, 1, 0, 0, 2, 1, 2, 1, 2, 2, 0, 1, 0, 2, 0, 1, 2, 2, 1, 2, 1, 1, 1, 2, 2, 2, 1, 0, 0, 0, 2, 2, 0, 0, 2, 2, 0, 2, 0, 2, 2, 2, 0, 0, 0, 2, 2, 0, 1, 1, 2, 1, 1, 2, 1, 1, 2, 2, 0, 2, 2, 2, 0, 1, 0, 0, 0, 2, 2, 0, 0, 2, 0, 0, 1, 1, 2, 1, 1, 2, 2, 2, 1, 1, 0, 1, 2, 2, 0, 2, 0, 1, 2, 2, 2, 2, 2, 2, 1, 1, 1, 2, 0, 0, 1, 0, 2, 0, 0, 2, 1, 0, 0, 0, 2, 0, 1, 2, 2, 2, 1, 2, 2, 1, 1, 1, 1, 0, 1, 0, 2, 1, 0, 0, 2, 0, 0, 2, 1, 1, 2, 1, 1, 2, 2, 1, 0, 2, 2, 0, 1, 0, 2, 1, 1, 1, 2, 1, 0, 1, 0, 1, 0, 1, 0, 1, 2, 2, 1, 2, 2, 1, 1, 0, 1, 2, 1, 1, 1, 2, 2, 2, 0, 1, 0, 0, 2, 1, 1, 0, 0, 0, 0, 0, 0, 0, 2, 0, 2, 1, 2, 0, 1, 2, 1, 2, 1, 0, 0, 2, 2, 2, 2, 0, 1, 0, 0, 2, 2, 0, 0, 2, 0, 1, 2, 2, 1, 2, 2, 1, 2, 0, 1, 2, 0, 1, 1, 1, 2, 2, 0, 1, 1, 1, 2, 2, 0, 0, 2, 2, 0, 2, 2, 0, 0, 0, 0, 2, 2, 2, 0, 2, 1, 1, 0, 2, 2, 2, 1, 0, 1, 1, 1, 0, 2, 0, 0, 2, 1, 1, 0, 0, 2, 2, 0, 0, 0, 2, 0, 1, 2, 1, 0, 2, 0, 0, 1, 0, 2, 0, 1, 2, 2, 1, 1, 1, 1, 2, 1, 0, 2, 0, 0, 2, 1, 2, 0, 0, 1, 1, 0, 1, 1, 1, 0, 1, 1, 0, 2, 0, 0, 0, 2, 1, 1, 2, 1, 1, 2, 2, 2, 1, 1, 2, 0, 0, 2, 2, 1, 2, 2, 1, 0, 1, 1, 1, 2, 0, 0, 1, 2, 0, 0, 1, 0, 0, 2, 0, 2, 1, 2, 1, 2, 2, 2, 0, 2, 2, 2, 2, 2, 2, 0, 2, 1, 1, 2, 0, 1, 2, 0, 2, 2, 1, 2, 0, 1, 0, 1, 2, 1, 0, 1, 2, 2, 0, 1, 1, 1, 1, 1, 1, 1, 2, 2, 1, 2, 0, 2, 0, 0, 0, 1, 2, 0, 1, 2, 0, 0, 2, 0, 1, 1, 1, 0, 0, 0, 2, 2, 2, 2, 1, 0, 0, 2, 1, 0, 2, 0, 1, 0, 2, 2, 0, 1, 1, 0, 1, 0, 1, 0, 1, 0, 1, 0, 1, 0, 1, 1, 2, 2, 1, 0, 1, 2, 2, 0, 0, 1, 1, 2, 2, 2, 0, 0, 0, 2, 2, 0, 1, 2, 2, 0, 0, 0, 2, 0, 2, 2, 0, 1, 2, 2, 2, 1, 2, 0, 2, 0, 2, 2, 2, 2, 2, 1, 1, 2, 0, 1, 2, 2, 0, 0, 2, 2, 0, 0, 0, 2, 2, 0, 0, 2, 1, 2, 0, 1, 0, 0, 0, 0, 1, 0, 0, 2, 1, 0, 0, 2, 0, 0, 1, 1, 2, 2, 1, 0, 0, 1, 1, 1, 2, 0, 0, 0, 1, 2, 2, 2, 1, 1, 1, 0, 1, 2, 0, 0, 2, 2, 1, 0, 1, 0, 0, 2, 1, 1, 2, 1, 1, 0, 0, 0, 1, 0, 2, 1, 1, 2, 0, 1, 1, 2, 1, 1, 0, 0, 0, 2, 1, 1, 0, 0, 1, 2, 2, 0, 2, 1, 1, 2, 1, 1, 0, 2, 1, 1, 0, 0, 2, 2, 2, 0, 0, 2, 2, 0, 0, 2, 0, 1, 0, 2, 1, 0, 0, 1, 2, 0, 1, 2, 2, 2, 0, 1, 2, 0, 2, 0, 0, 2, 0, 1, 0, 2, 0, 0, 1, 2, 0, 1, 1, 1, 1, 1, 1, 1, 1, 1, 1, 2, 0, 2, 1, 1, 2, 2, 2, 0, 1, 2, 2, 1, 2, 2, 1, 1, 2, 0, 2, 0, 2, 0, 2, 2, 1, 0, 0, 1, 1, 1, 0, 0, 2, 0, 1, 2, 1, 1, 1, 0, 2, 1, 1, 2, 1, 2, 1, 2, 0, 2, 1, 1, 2, 2, 0, 0, 0, 1, 0, 2, 0, 2, 0, 0, 0, 1, 0, 2, 1, 0, 2, 1, 2, 2, 1, 2, 1, 1, 2, 2, 0, 1, 2, 2, 1, 0, 0, 2, 0, 0, 2, 1, 0, 2, 2, 2, 2, 0, 2, 0, 0, 2, 2, 1, 2, 0, 0, 0, 2, 0, 0, 1, 2, 2, 1, 0, 1, 0, 0, 0, 2, 1, 1, 1, 2, 1, 0, 0, 1, 2, 2, 2, 2, 1, 1, 1, 2, 1, 1, 1, 1, 0, 2, 2, 2, 1, 1, 0, 2, 0, 0, 0, 2, 0, 2, 0, 1, 2, 0, 1, 1, 0, 0, 0, 2, 0, 2, 2, 2, 0, 1, 2, 2, 1, 0, 0, 2, 1, 2, 1, 2, 2, 0, 1, 2, 1, 0, 2, 0, 1, 1, 2, 1, 1, 1, 0, 0, 0, 0, 0, 1, 2, 1, 0, 1, 2, 0, 0, 0, 0, 0, 2, 1, 2, 2, 2, 2, 2, 1, 2, 1, 0, 0, 1, 0, 0, 0, 2, 2, 0, 2, 2, 0, 0, 1, 0, 0, 2, 2, 0, 2, 0, 1, 0, 0, 1, 0, 0, 0, 2, 0, 0, 1, 0, 2, 0, 1, 2, 1, 2, 0, 0, 0, 1, 1, 0, 1, 0, 0, 0, 1, 0, 0, 1, 2, 2, 1, 0, 1, 1, 1, 1, 2, 1, 2, 2, 1, 1, 0, 1, 1, 2, 1, 1, 2, 0, 0, 0, 2, 1, 1, 2, 0, 2, 1, 2, 2, 2, 0, 2, 1, 2, 1, 0, 1, 0, 1, 2, 2, 0, 0, 1, 0, 2, 1, 2, 1, 1, 1, 0, 0, 0, 0, 1, 2, 2, 0, 2, 1, 2, 2, 1, 0, 2, 0, 2, 1, 0, 1, 1, 1, 2, 1, 0, 2, 2, 2, 0, 0, 0, 2, 1, 2, 0, 1, 1, 2, 2, 1, 2, 0, 1, 1, 0, 1, 0, 1, 0, 2, 2, 2, 0, 1, 2, 1, 0, 2, 1, 1, 0, 1, 2, 0, 2, 1, 2, 1, 0, 2, 1, 1, 0, 1, 2, 2, 1, 1, 1, 0, 1, 1, 0, 0, 0, 1, 2, 2, 0, 1, 1, 2, 1, 2, 0, 2, 0, 1, 1, 0, 2, 0, 0, 0, 2, 0, 0, 0, 1, 1, 1, 1, 1, 2, 2, 2, 1, 1, 1, 2, 0, 2, 1, 1, 1, 0, 2, 0, 2, 1, 2, 0, 2, 0, 1, 1, 0, 1, 1, 1, 2, 1, 1, 0, 0, 0, 0, 1, 2, 0, 0, 2, 1, 1, 0, 2, 1, 0, 1, 0, 0, 1, 2, 0, 0, 0, 0, 2, 0, 1, 2, 1, 0, 0, 2, 0, 1, 2, 2, 2, 0, 2, 2, 2, 1, 0, 1, 1, 1, 0, 1, 2, 0, 2, 2, 1, 2, 2, 1, 1, 2, 1, 2, 2, 0, 1, 0, 2, 2, 0, 1, 0, 1, 2, 1, 0, 0, 0, 0, 0, 2, 2, 1, 1, 1, 2, 0, 1, 2, 1, 1, 1, 1, 0, 0, 0, 1, 0, 1, 2, 1, 1, 1, 1, 1, 1, 2, 1, 2, 2, 0, 2, 0, 2, 0, 0, 0, 1, 1, 0, 1, 2, 0, 0, 2, 1, 2, 2, 1, 2, 0, 2, 2, 0, 1, 0, 2, 2, 1, 2, 2, 1, 2, 0, 2, 1, 0, 2, 0, 1, 0, 0, 1, 1, 2, 2, 2, 0, 1, 0, 2, 1, 2, 2, 0, 0, 1, 2, 2, 2, 0, 1, 1, 1, 1, 2, 2, 2, 2, 1, 1, 2, 0, 0, 1, 0, 1, 2, 2, 0, 0, 0, 0, 0, 0, 1, 0, 1, 0, 2, 0, 1, 1, 0, 1, 0, 0, 2, 1, 0, 0, 1, 0, 0, 0, 0, 2, 1, 0, 2, 0, 0, 0, 0, 1, 1, 0, 2, 1, 2, 2, 2, 0, 2, 1, 0, 0, 1, 1, 0, 0, 1, 2, 2, 0, 2, 2, 1, 1, 2, 0, 2, 2, 0, 0, 2, 1, 2, 2, 2, 0, 0, 1, 0, 1, 1, 0, 2, 2, 1, 0, 2, 1, 1, 2, 0, 2, 2, 0, 2, 1, 0, 2, 1, 0, 0, 0, 1, 2, 2, 1, 1, 0, 0, 1, 1, 0, 1, 2, 1, 2, 2, 2, 2, 2, 2, 0, 1, 0, 0, 0, 2, 0, 0, 2, 2, 1, 1, 1, 0, 2, 0, 1, 2, 0, 2, 1, 1, 1, 1, 0, 1, 0, 2, 1, 1, 2, 2, 0, 0, 1, 1, 1, 2, 2, 0, 0, 2, 0, 0, 0, 1, 0, 0, 1, 0, 0, 1, 2, 0, 0, 0, 0, 0, 1, 0, 0, 0, 2, 2, 0, 1, 0, 2, 0, 0, 0, 2, 1, 2, 1, 1, 0, 2, 0, 1, 1, 1, 2, 2, 1, 1, 2, 1, 1, 1, 1, 0, 2, 2, 1, 1, 0, 2, 2, 2, 2, 0, 0, 0, 0, 2, 0, 1, 2, 2, 2, 0, 1, 0, 1, 1, 1, 2, 0, 0, 2, 2, 2, 1, 2, 1, 0, 0, 1, 2, 0, 0, 0, 0, 2, 2, 0, 2, 0, 1, 0, 1, 2, 0, 2, 1, 1, 1, 0, 2, 0, 0, 2, 0, 1, 2, 1, 0, 2, 0, 0, 2, 0, 0, 0, 1, 1, 1, 0, 0, 0, 2, 0, 1, 1, 0, 0, 1, 0, 2, 2, 0, 0, 1, 0, 2, 0, 0, 2, 1, 2, 1, 0, 0, 2, 0, 0, 1, 0, 2, 1, 2, 2, 2, 2, 0, 0, 2, 0, 2, 0, 1, 1, 0, 0, 0, 2, 0, 0, 1, 1, 1, 2, 0, 1, 1, 0, 1, 2, 2, 1, 2, 2, 0, 2, 0, 0, 0, 2, 0, 1, 1, 2, 0, 1, 0, 1, 1, 2, 2, 0, 1, 2, 1, 0, 1, 1, 2, 0, 2, 2, 1, 0, 0, 0, 1, 0, 0, 1, 2, 2, 2, 2, 1, 1, 1, 1, 2, 0, 1, 0, 0, 2, 2, 2, 2, 0, 2, 1, 1, 0, 2, 2, 0, 2, 1, 2, 1, 0, 1, 0, 2, 2, 0, 0, 1, 1, 2, 2, 0, 1, 1, 0, 2, 1, 1, 1, 1, 1, 2, 2, 1, 0, 0, 2, 2, 1, 2, 2, 2, 2, 0, 1, 0, 0, 0, 1, 0, 0, 1, 0, 1, 2, 1, 1, 0, 0, 1, 0, 2, 0, 0, 1, 2, 2, 0, 2, 2, 0, 2, 1, 2, 2, 1, 1, 0, 0, 1, 0, 1, 2, 0, 0, 0, 0, 1, 0, 2, 0, 1, 0, 2, 1, 1, 2, 0, 1, 1, 2, 0, 0, 1, 2, 1, 2, 2, 1, 1, 0, 0, 0, 0, 0, 0, 0, 0, 0, 1, 0, 0, 1, 1, 0, 2, 2, 2, 2, 0, 1, 0, 2, 2, 2, 0, 0, 0, 2, 2, 2, 0, 1, 1, 0, 1, 2, 0, 2, 2, 2, 1, 0, 0, 2, 0, 1, 1, 1, 1, 1, 1, 0, 2, 2, 0, 1, 2, 0, 0, 1, 0, 2, 1, 0, 1, 2, 2, 1, 2, 2, 0, 1, 1, 1, 0, 0, 1, 1, 1, 0, 2, 0, 1, 2, 1, 0, 0, 1, 0, 0, 2, 0, 2, 0, 2, 2, 0, 1, 1, 2, 1, 1, 2, 1, 0, 0, 1, 2, 0, 0, 0, 2, 2, 0, 2, 0, 2, 1, 2, 1, 0, 1, 0, 2, 0, 1, 0, 0, 0, 1, 0, 1, 1, 2, 1, 2, 0, 1, 2, 2, 2, 1, 1, 1, 2, 0, 2, 0, 0, 0, 2, 1, 2, 0, 2, 0, 1, 1, 2, 0, 1, 0, 0, 1, 0, 0, 2, 1, 0, 0, 0, 2, 2, 1, 2, 1, 1, 0, 0, 1, 2, 1, 0, 0, 2, 1, 0, 1, 0, 1, 0, 2, 0, 2, 1, 2, 2, 2, 1, 0, 1, 1, 1, 1, 0, 2, 0, 1, 0, 2, 0, 0, 2, 2, 1, 0, 2, 2, 1, 2, 1, 2, 1, 0, 1, 1, 0, 2, 1, 1, 2, 1, 1, 2, 0, 2, 0, 1, 1, 1, 0, 0, 2, 1, 2, 1, 0, 2, 1, 1, 2, 1, 2, 0, 1, 2, 2, 1, 1, 1, 2, 0, 2, 1, 0, 2, 0, 2, 1, 1, 2, 0, 2, 1, 0, 1, 0, 2, 1, 1, 2, 2, 1, 1, 1, 1, 1, 2, 2, 0, 1, 1, 2, 0, 0, 1, 2, 1, 1, 2, 1, 2, 2, 1, 1, 2, 2, 2, 2, 2, 2, 1, 0, 0, 2, 0, 2, 1, 2, 2, 2, 0, 1, 2, 0, 0, 0, 0, 0, 1, 0, 2, 0, 0, 2, 2, 2, 2, 1, 0, 0, 2, 0, 1, 0, 1, 0, 1, 1, 1, 2, 2, 1, 1, 0, 1, 2, 1, 1, 2, 1, 1, 2, 2, 0, 2, 2, 1, 1, 1, 1, 1, 0, 0, 1, 1, 0, 1, 1, 0, 0, 2, 0, 1, 1, 2, 0, 2, 2, 2, 0, 1, 0, 2, 1, 1, 1, 0, 0, 2, 0, 1, 1, 0, 0, 2, 2, 0, 0, 0, 1, 1, 0, 0, 2, 1, 2, 1, 2, 2, 0, 0, 2, 0, 2, 0, 0, 2, 0, 1, 1, 1, 2, 2, 0, 1, 2, 1, 1, 1, 2, 2, 1, 2, 1, 1, 0, 1, 1, 2, 2, 0, 2, 2, 2, 0, 2, 1, 2, 1, 0, 2, 1, 2, 2, 2, 2, 2, 2, 2, 0, 1, 1, 1, 0, 2, 1, 1, 2, 0, 1, 1, 1, 0, 2, 0, 0, 0, 0, 1, 1, 2, 0, 0, 2, 2, 0, 2, 0, 0, 1, 1, 1, 1, 0, 2, 1, 1, 1, 1, 0, 2, 1, 2, 2, 0, 1, 2, 1, 2, 2, 1, 2, 2, 0, 1, 0, 2, 0, 1, 2, 1, 1, 1, 2, 2, 2, 2, 2, 0, 1, 1, 1, 0, 0, 0, 2, 0, 2, 1, 0, 2, 0, 2, 2, 0, 2, 2, 1, 1, 1, 0, 2, 1, 2, 2, 0, 1, 1, 2, 2, 2, 2, 2, 1, 1, 2, 0, 0, 0, 1, 2, 0, 0, 0, 0, 0, 2, 2, 1, 2, 0, 2, 0, 0, 2, 0, 0, 0, 2, 0, 2, 2, 2, 1, 1, 0, 0, 2, 1, 0, 1, 2, 1, 1, 0, 0, 0, 1, 1, 2, 0, 2, 2, 0, 2, 0, 0, 1, 2, 0, 0, 2, 2, 1, 0, 2, 1, 0, 2, 0, 0, 1, 2, 1, 2, 1, 0, 0, 1, 1, 0, 2, 0, 1, 0, 1, 2, 0, 2, 1, 1, 0, 2, 2, 2, 0, 2, 2, 2, 2, 1, 0, 0, 2, 1, 1, 2, 1, 2, 2, 1, 0, 1, 1, 1, 0, 2, 2, 0, 2, 1, 1, 2, 0, 0, 2, 1, 0, 2, 1, 2, 2, 2, 1, 0, 2, 1, 0, 1, 1, 2, 0, 2, 2, 1, 0, 2, 1, 0, 0, 2, 2, 1, 2, 0, 2, 0, 1, 0, 2, 0, 2, 1, 2, 2, 1, 0, 2, 2, 2, 1, 1, 1, 1, 1, 0, 1, 0, 0, 0, 2, 1, 0, 1, 0, 0, 0, 1, 0, 0, 2, 2, 2, 0, 1, 2, 0, 1, 2, 0, 1, 2, 2, 1, 2, 1, 1, 0, 2, 1, 1, 0, 0, 1, 0, 2, 0, 0, 1, 1, 1, 2, 2, 0, 1, 0, 2, 2, 1, 0, 2, 2, 1, 1, 0, 1, 1, 1, 2, 2, 2, 2, 1, 2, 1, 2, 0, 0, 0, 2, 1, 2, 0, 2, 0, 0, 1, 1, 1, 0, 1, 1, 1, 1, 1, 0, 1, 2, 1, 2, 0, 0, 1, 2, 2, 1, 0, 2, 1, 1, 2, 0, 2, 1, 2, 1, 2, 1, 0, 2, 0, 2, 1, 2, 1, 1, 0, 2, 1, 1, 2, 1, 0, 0, 2, 2, 1, 0, 0, 1, 1, 1, 0, 2, 2, 2, 0, 1, 0, 1, 2, 2, 1, 2, 1, 2, 0, 1, 2, 0, 2, 1, 1, 1, 2, 1, 2, 1, 0, 1, 2, 1, 1, 0, 1, 0, 0, 1, 0, 2, 1, 0, 2, 0, 0, 2, 0, 1, 1, 1, 2, 1, 0, 1, 2, 1, 1, 0, 2, 0, 0, 2, 2, 0, 2, 0, 0, 0, 0, 0, 2, 2, 1, 2, 2, 0, 1, 2, 2, 0, 2, 1, 2, 2, 0, 1, 2, 0, 2, 1, 2, 0, 2, 0, 2, 1, 2, 1, 0, 1, 1, 0, 2, 0, 2, 0, 2, 0, 0, 1, 1, 2, 0, 1, 2, 0, 0, 0, 0, 2, 1, 2, 2, 1, 1, 0, 0, 0, 1, 1, 2, 2, 2, 1, 0, 0, 0, 1, 1, 0, 1, 2, 2, 2, 2, 2, 2, 1, 1, 0, 1, 1, 2, 1, 2, 2, 1, 2, 1, 1, 2, 1, 1, 2, 2, 2, 0, 0, 2, 1, 1, 2, 1, 0, 0, 2, 2, 2, 0, 1, 1, 0, 1, 1, 1, 2, 1, 2, 1, 1, 2, 1, 2, 1, 1, 0, 0, 2, 2, 0, 2, 0, 0, 1, 0, 1, 0, 2, 1, 0, 1, 2, 2, 2, 2, 2, 0, 1, 2, 2, 2, 1, 2, 2, 2, 2, 1, 2, 1, 1, 1, 1, 2, 0, 2, 1, 1, 2, 0, 0, 0, 2, 2, 0, 2, 2, 0, 0, 1, 2, 0, 0, 2, 1, 1, 0, 2, 1, 0, 0, 1, 1, 1, 2, 1, 2, 0, 0, 2, 2, 1, 2, 2, 2, 0, 1, 1, 2, 2, 0, 2, 0, 2, 1, 1, 2, 2, 1, 2, 0, 1, 2, 1, 1, 2, 2, 1, 0, 1, 1, 2, 2, 2, 0, 0, 0, 1, 0, 1, 0, 1, 1, 0, 0, 1, 2, 1, 2, 1, 2, 2, 0, 1, 2, 1, 2, 1, 1, 1, 2, 2, 2, 0, 2, 2, 1, 0, 1, 2, 0, 0, 1, 2, 0, 1, 0, 0, 0, 0, 1, 0, 2, 2, 2, 2, 2, 2, 0, 1, 0, 1, 2, 2, 1, 0, 2, 0, 2, 2, 1, 0, 2, 0, 0, 1, 2, 2, 1, 2, 0, 0, 1, 1, 2, 1, 0, 2, 1, 0, 1, 1, 2, 2, 2, 2, 1, 0, 1, 0, 0, 1, 2, 0, 2, 0, 2, 0, 2, 2, 1, 0, 2, 1, 1, 1, 0, 0, 0, 0, 1, 0, 2, 0, 0, 1, 2, 2, 1, 0, 1, 1, 1, 2, 0, 0, 2, 1, 1, 2, 2, 2, 0, 0, 1, 2, 2, 1, 1, 1, 0, 1, 2, 2, 0, 1, 2, 2, 1, 1, 1, 0, 1, 2, 2, 0, 2, 1, 1, 2, 2, 0, 0, 1, 2, 0, 0, 2, 1, 2, 0, 0, 2, 2, 2, 0, 1, 1, 2, 0, 1, 0, 2, 0, 0, 2, 2, 2, 0, 0, 0, 2, 2, 0, 0, 2, 1, 2, 2, 0, 2, 0, 1, 1, 0, 1, 2, 0, 0, 1, 1, 0, 2, 1, 2, 2, 0, 1, 0, 2, 1, 2, 2, 2, 1, 1, 0, 0, 0, 0, 0, 2, 1, 2, 1, 0, 1, 1, 2, 2, 2, 0, 2, 0, 0, 0, 1, 2, 1, 2, 1, 2, 0, 1, 0, 1, 1, 2, 0, 0, 0, 1, 2, 2, 0, 2, 1, 1, 0, 1, 2, 0, 0, 2, 2, 2, 2, 0, 1, 2, 0, 0, 1, 2, 2, 2, 0, 1, 1, 1, 0, 1, 1, 0, 2, 0, 1, 0, 1, 1, 2, 1, 0, 0, 2, 2, 2, 1, 2, 2, 0, 2, 0, 1, 2, 0, 2, 0, 2, 2, 2, 1, 1, 1, 0, 2, 2, 0, 2, 2, 2, 0, 1, 1, 0, 2, 1, 2, 1, 0, 0, 0, 1, 0, 0, 2, 0, 1, 1, 1, 1, 2, 0, 2, 0, 1, 0, 2, 0, 1, 0, 1, 1, 2, 2, 1, 0, 2, 2, 2, 2, 0, 0, 2, 1, 0, 2, 2, 2, 1, 2, 1, 0, 2, 0, 1, 2, 2, 0, 2, 0, 1, 2, 1, 2, 0, 0, 1, 1, 1, 2, 1, 0, 0, 1, 0, 0, 1, 2, 0, 0, 0, 2, 1, 2, 2, 0, 0, 1, 1, 0, 2, 2, 0, 1, 1, 1, 0, 1, 1, 0, 0, 1, 1, 0, 2, 2, 1, 2, 1, 2, 2, 1, 0, 0, 1, 1, 0, 0, 1, 1, 1, 2, 1, 2, 1, 1, 2, 2, 2, 1, 0, 2, 2, 1, 1, 0, 1, 1, 0, 0, 1, 0, 2, 1, 0, 0, 0, 0, 1, 2, 2, 0, 1, 0, 0, 2, 2, 1, 0, 0, 0, 1, 2, 2, 0, 2, 0, 1, 1, 2, 1, 1, 2, 0, 2, 2, 0, 2, 2, 1, 1, 1, 0, 0, 1, 2, 1, 2, 1, 1, 0, 1, 1, 1, 1, 2, 1, 1, 2, 1, 0, 0, 2, 0, 1, 2, 0, 1, 0, 1, 1, 2, 1, 1, 0, 1, 1, 2, 0, 2, 1, 1, 1, 2, 1, 1, 2, 0, 2, 2, 1, 2, 0, 1, 0, 1, 0, 0, 2, 1, 2, 0, 2, 0, 0, 0, 2, 2, 0, 2, 2, 1, 1, 1, 2, 1, 0, 2, 0, 0, 2, 2, 2, 2, 0, 2, 2, 2, 0, 0, 0, 0, 0, 0, 1, 0, 0, 0, 0, 0, 0, 0, 2, 1, 2, 0, 2, 0, 0, 1, 0, 1, 0, 2, 1, 2, 2, 1, 1, 2, 2, 1, 2, 1, 0, 1, 0, 0, 1, 1, 0, 2, 0, 1, 1, 0, 0, 2, 1, 1, 2, 2, 2, 2, 0, 0, 1, 0, 2, 0, 1, 1, 0, 1, 2, 1, 2, 1, 1, 1, 1, 1, 1, 0, 1, 2, 1, 2, 0, 1, 2, 2, 2, 2, 0, 0, 1, 0, 1, 1, 1, 0, 1, 0, 2, 0, 2, 2, 1, 1, 2, 2, 1, 2, 1, 2, 1, 0, 2, 0, 1, 2, 0, 0, 0, 1, 0, 2, 1, 2, 2, 1, 1, 2, 1, 0, 2, 0, 0, 2, 0, 1, 0, 1, 0, 1, 1, 2, 0, 1, 2, 0, 0, 2, 1, 1, 0, 0, 0, 0, 2, 1, 2, 0, 0, 2, 2, 1, 2, 2, 2, 0, 2, 0, 0, 0, 1, 0, 1, 1, 1, 1, 0, 1, 2, 0, 2, 1, 1, 2, 1, 1, 0, 0, 1, 2, 1, 0, 0, 2, 2, 0, 1, 2, 0, 2, 1, 2, 0, 2, 0, 1, 1, 0, 0, 1, 2, 0, 1, 1, 1, 0, 2, 2, 0, 0, 2, 1, 1, 1, 2, 2, 0, 0, 0, 1, 0, 1, 2, 0, 1, 0, 2, 2, 2, 0, 1, 1, 0, 2, 0, 1, 1, 1, 0, 0, 0, 0, 2, 2, 2, 2, 0, 1, 0, 2, 0, 0, 2, 2, 1, 1, 0, 0, 1, 2, 0, 0, 1, 0, 1, 1, 2, 0, 1, 1, 1, 0, 0, 0, 0, 2, 1, 1, 0, 1, 2, 2, 0, 2, 1, 2, 2, 2, 0, 0, 2, 2, 0, 0, 1, 2, 0, 2, 1, 0, 1, 2, 0, 1, 1, 0, 1, 0, 1, 0, 0, 0, 1, 0, 0, 2, 1, 2, 0, 0, 1, 0, 2, 0, 2, 1, 0, 0, 0, 0, 2, 1, 0, 2, 1, 0, 2, 2, 0, 0, 2, 0, 1, 2, 2, 2, 0, 0, 1, 1, 1, 1, 0, 2, 2, 0, 2, 2, 0, 0, 1, 2, 2, 2, 0, 1, 0, 0, 0, 2, 2, 1, 1, 1, 1, 0, 2, 1, 2, 2, 2, 1, 0, 0, 0, 1, 0, 1, 0, 1, 2, 2, 1, 2, 1, 0, 0, 1, 0, 1, 0, 0, 2, 1, 2, 1, 1, 0, 0, 1, 0, 0, 1, 0, 0, 2, 1, 2, 2, 2, 1, 2, 2, 0, 1, 2, 2, 2, 2, 1, 2, 2, 1, 0, 1, 0, 1, 0, 1, 0, 2, 1, 1, 2, 0, 0, 1, 0, 1, 0, 1, 0, 0, 0, 0, 2, 2, 2, 2, 0, 1, 2, 2, 0, 2, 0, 2, 0, 0, 0, 0, 1, 2, 2, 2, 1, 1, 1, 1, 1, 2, 0, 1, 0, 1, 2, 2, 0, 2, 0, 0, 0, 2, 2, 0, 2, 1, 1, 0, 1, 0, 1, 0, 1, 2, 2, 1, 2, 1, 2, 1, 1, 2, 1, 2, 1, 0, 1, 1, 0, 0, 0, 0, 1, 1, 0, 1, 1, 2, 2, 0, 2, 2, 2, 0, 1, 1, 2, 1, 1, 2, 1, 0, 0, 1, 0, 2, 0, 1, 1, 2, 2, 2, 0, 1, 2, 0, 1, 0, 1, 1, 2, 2, 1, 1, 2, 1, 1, 2, 1, 0, 1, 1, 0, 2, 0, 1, 0, 0, 1, 2, 0, 1, 0, 1, 2, 1, 0, 1, 2, 1, 1, 0, 1, 1, 0, 2, 2, 2, 1, 1, 0, 1, 1, 2, 0, 0, 0, 0, 1, 1, 0, 2, 1, 0, 1, 1, 0, 0, 2, 1, 2, 2, 2, 2, 1, 0, 0, 1, 2, 0, 2, 0, 2, 1, 2, 1, 0, 0, 0, 2, 2, 2, 1, 2, 2, 0, 1, 1, 0, 1, 2, 1, 0, 0, 1, 2, 2, 0, 0, 1, 2, 2, 0, 2, 0, 2, 2, 0, 0, 0, 2, 1, 1, 0, 0, 0, 2, 2, 0, 0, 1, 2, 0, 1, 1, 1, 2, 0, 2, 0, 2, 1, 0, 0, 0, 0, 1, 2, 2, 1, 2, 0, 0, 1, 2, 1, 0, 0, 0, 1, 2, 0, 1, 2, 2, 2, 1, 0, 2, 2, 1, 0, 2, 2, 0, 1, 2, 1, 1, 1, 1, 0, 0, 0, 2, 2, 1, 0, 1, 0, 1, 2, 0, 2, 2, 1, 2, 2, 0, 1, 0, 1, 0, 0, 1, 0, 2, 0, 0, 1, 1, 0, 2, 1, 2, 2, 2, 2, 2, 0, 2, 2, 1, 0, 2, 2, 0, 0, 1, 0, 0, 2, 2, 2, 0, 2, 0, 0, 0, 0, 2, 1, 1, 1, 2, 0, 1, 0, 0, 0, 2, 1, 2, 0, 2, 1, 0, 1, 2, 0, 1, 2, 2, 1, 1, 0, 1, 1, 1, 2, 2, 0, 0, 1, 0, 1, 0, 0, 0, 1, 1, 1, 0, 1, 1, 1, 0, 0, 2, 2, 0, 2, 0, 0, 2, 0, 0, 2, 1, 2, 1, 2, 0, 1, 0, 1, 1, 1, 1, 1, 0, 0, 0, 2, 1, 0, 2, 1, 2, 0, 1, 2, 2, 0, 1, 1, 1, 2, 1, 0, 2, 1, 1, 2, 2, 2, 0, 0, 0, 2, 1, 2, 1, 2, 1, 0, 0, 2, 2, 0, 1, 1, 1, 2, 0, 1, 0, 1, 1, 0, 1, 2, 1, 0, 1, 0, 0, 0, 2, 2, 2, 1, 1, 2, 0, 0, 0, 2, 2, 0, 0, 0, 0, 0, 1, 2, 2, 2, 0, 0, 2, 1, 0, 1, 2, 2, 1, 1, 2, 1, 1, 1, 1, 1, 2, 2, 0, 2, 0, 1, 0, 0, 1, 0, 2, 2, 2, 2, 2, 1, 0, 2, 2, 0, 1, 2, 2, 2, 2, 0, 2, 2, 0, 0, 1, 2, 1, 1, 1, 1, 1, 0, 2, 1, 1, 0, 2, 0, 2, 2, 2, 2, 2, 0, 1, 0, 1, 0, 1, 0, 0, 0, 0, 0, 2, 0, 1, 0, 2, 0, 2, 0, 1, 2, 0, 1, 2, 0, 1, 0, 2, 1, 2, 1, 1, 2, 1, 1, 0, 1, 0, 2, 0, 2, 1, 2, 1, 0, 1, 0, 0, 1, 1, 2, 1, 0, 1, 1, 2, 0, 1, 0, 1, 1, 0, 1, 2, 2, 2, 0, 1, 1, 0, 2, 2, 1, 0, 1, 2, 2, 1, 2, 1, 0, 1, 2, 1, 2, 2, 0, 1, 0, 2, 2, 1, 2, 1, 0, 2, 1, 1, 2, 2, 1, 0, 0, 1, 2, 1, 0, 2, 0, 1, 1, 0, 2, 2, 2, 0, 1, 0, 0, 2, 1, 1, 1, 0, 0, 2, 1, 2, 2, 1, 0, 0, 2, 1, 2, 0, 0, 2, 1, 1, 1, 1, 1, 0, 2, 1, 2, 0, 0, 0, 2, 0, 2, 1, 0, 1, 2, 0, 0, 1, 1, 0, 0, 2, 0, 2, 1, 0, 2, 2, 2, 2, 0, 2, 1, 2, 0, 1, 2, 0, 0, 1, 0, 2, 1, 1, 1, 0, 0, 0, 1, 1, 1, 1, 1, 0, 2, 0, 2, 1, 2, 1, 2, 1, 0, 1, 0, 0, 1, 0, 0, 2, 2, 1, 2, 0, 0, 1, 1, 1, 0, 1, 2, 2, 0, 1, 2, 1, 2, 0, 2, 0, 0, 1, 0, 2, 1, 1, 0, 2, 0, 0, 0, 1, 0, 1, 1, 1, 2, 0, 0, 0, 2, 2, 0, 2, 2, 0, 2, 1, 0, 1, 2, 2, 2, 1, 1, 2, 1, 1, 1, 1, 2, 1, 0, 2, 2, 2, 1, 1, 2, 1, 1, 1, 0, 0, 1, 1, 2, 2, 2, 0, 0, 1, 1, 1, 2, 1, 1, 0, 2, 0, 1, 0, 1, 1, 1, 1, 0, 0, 1, 1, 0, 2, 2, 0, 0, 1, 2, 0, 0, 1, 0, 1, 1, 1, 1, 1, 1, 0, 1, 0, 1, 1, 0, 0, 1, 1, 0, 2, 1, 1, 0, 2, 1, 1, 2, 2, 0, 2, 2, 1, 1, 1, 1, 2, 2, 1, 1, 1, 0, 2, 0, 2, 0, 0, 2, 1, 1, 1, 1, 0, 0, 1, 2, 2, 0, 2, 0, 2, 0, 1, 2, 1, 1, 2, 1, 0, 2, 1, 0, 1, 2, 1, 0, 0, 1, 2, 0, 1, 0, 2, 1, 2, 2, 2, 2, 1, 2, 0, 1, 2, 0, 0, 1, 1, 1, 0, 1, 0, 2, 1, 1, 0, 2, 0, 2, 0, 1, 2, 1, 2, 2, 2, 2, 2, 1, 0, 1, 2, 1, 1, 2, 0, 1, 0, 2, 1, 0, 1, 1, 2, 0, 1, 0, 0, 1, 0, 1, 2, 2, 2, 2, 1, 1, 0, 2, 2, 0, 0, 0, 1, 1, 1, 2, 1, 1, 1, 2, 0, 0, 0, 1, 0, 0, 0, 0, 0, 0, 1, 2, 0, 2, 0, 0, 2, 1, 1, 1, 1, 1, 2, 2, 1, 2, 2, 1, 1, 2, 1, 2, 2, 1, 2, 1, 0, 0, 0, 0, 0, 1, 0, 0, 2, 1, 0, 2, 1, 0, 1, 1, 1, 1, 1, 0, 2, 0, 2, 0, 2, 0, 1, 1, 0, 0, 2, 2, 0, 1, 0, 0, 1, 2, 1, 2, 0, 0, 2, 2, 1, 1, 0, 0, 2, 1, 1, 0, 2, 2, 1, 0, 2, 2, 0, 1, 2, 2, 2, 2, 0, 0, 2, 0, 1, 1, 0, 0, 0, 0, 1, 2, 0, 2, 0, 1, 0, 1, 0, 0, 1, 2, 2, 1, 0, 1, 2, 2, 2, 2, 1, 1, 0, 2, 0, 2, 0, 0, 1, 2, 1, 2, 1, 1, 2, 2, 1, 0, 2, 1, 2, 2, 0, 1, 0, 1, 2, 1, 2, 1, 1, 1, 0, 1, 0, 1, 1, 2, 2, 0, 2, 1, 0, 2, 0, 0, 0, 2, 0, 2, 2, 0, 2, 1, 1, 1, 0, 0, 2, 0, 1, 0, 0, 1, 0, 1, 0, 2, 0, 1, 0, 0, 0, 2, 1, 0, 2, 1, 1, 1, 0, 0, 0, 1, 0, 2, 2, 1, 2, 2, 1, 0, 1, 0, 2, 0, 2, 0, 1, 1, 0, 1, 2, 0, 2, 0, 1, 0, 2, 2, 2, 2, 1, 1, 2, 0, 2, 0, 2, 0, 1, 2, 1, 2, 2, 1, 0, 0, 1, 1, 0, 2, 2, 0, 2, 1, 2, 0, 0, 2, 1, 1, 1, 1, 0, 2, 1, 0, 0, 0, 1, 1, 0, 2, 1, 2, 2, 1, 2, 2, 0, 1, 1, 1, 0, 2, 0, 0, 0, 2, 1, 0, 1, 1, 1, 2, 0, 1, 2, 2, 0, 2, 0, 1, 0, 0, 1, 1, 2, 1, 0, 1, 0, 1, 2, 0, 2, 0, 1, 0, 0, 0, 0, 1, 1, 1, 1, 0, 1, 0, 0, 2, 0, 2, 0, 1, 1, 1, 0, 0, 0, 0, 2, 0, 2, 0, 2, 2, 1, 2, 0, 2, 0, 1, 2, 2, 0, 2, 1, 0, 1, 0, 1, 1, 2, 1, 2, 0, 2, 2, 1, 0, 2, 1, 1, 2, 2, 2, 2, 0, 0, 2, 0, 1, 1, 1, 0, 0, 0, 1, 0, 0, 1, 1, 1, 0, 1, 0, 0, 1, 0, 1, 1, 1, 1, 2, 1, 1, 1, 2, 1, 0, 0, 1, 2, 2, 1, 0, 0, 0, 2, 0, 0, 2, 2, 2, 2, 0, 0, 0, 0, 1, 0, 0, 1, 0, 1, 2, 0, 1, 2, 0, 1, 2, 1, 2, 0, 0, 0, 1, 2, 2, 2, 2, 0, 2, 0, 0, 2, 1, 2, 0, 0, 0, 1, 2, 0, 0, 2, 0, 1, 0, 0, 2, 2, 1, 0, 1, 0, 1, 1, 2, 1, 1, 2, 2, 1, 0, 1, 0, 2, 1, 1, 1, 1, 0, 2, 1, 2, 0, 0, 2, 1, 2, 2, 1, 0, 1, 0, 0, 0, 2, 2, 1, 1, 1, 0, 2, 2, 1, 0, 1, 0, 2, 2, 2, 1, 0, 2, 2, 1, 2, 2, 2, 1, 0, 0, 0, 0, 0, 0, 1, 0, 0, 0, 1, 0, 2, 0, 1, 0, 0, 0, 0, 2, 1, 2, 1, 0, 2, 0, 2, 0, 1, 1, 2, 1, 1, 2, 0, 2, 0, 0, 0, 0, 0, 2, 2, 1, 0, 0, 0, 0, 2, 1, 2, 0, 1, 1, 0, 0, 1, 2, 0, 1, 1, 2, 1, 2, 0, 0, 1, 1, 0, 2, 0, 0, 0, 2, 2, 2, 0, 1, 2, 1, 0, 2, 0, 1, 2, 2, 2, 1, 2, 0, 2, 0, 0, 2, 2, 1, 1, 2, 2, 1, 2, 0, 2, 0, 0, 1, 2, 2, 1, 0, 0, 0, 2, 2, 0, 2, 2, 0, 2, 0, 0, 1, 2, 1, 2, 2, 2, 1, 0, 1, 2, 0, 2, 2, 1, 0, 1, 2, 1, 1, 1, 2, 2, 1, 2, 0, 0, 2, 1, 1, 1, 2, 0, 2, 2, 0, 0, 2, 0, 1, 2, 2, 1, 0, 1, 2, 2, 2, 0, 1, 0, 2, 0, 2, 0, 2, 0, 2, 1, 1, 2, 2, 0, 2, 0, 0, 1, 1, 0, 2, 2, 1, 1, 0, 2, 0, 1, 0, 1, 2, 1, 2, 2, 2, 2, 0, 2, 0, 1, 1, 2, 0, 0, 1, 1, 2, 1, 2, 2, 0, 0, 1, 0, 0, 1, 1, 1, 1, 1, 2, 1, 1, 0, 0, 2, 1, 1, 0, 0, 2, 0, 1, 2, 1, 1, 0, 0, 0, 2, 2, 0, 2, 1, 2, 0, 0, 2, 0, 0, 0, 0, 1, 2, 0, 1, 0, 1, 2, 1, 1, 1, 0, 1, 0, 2, 2, 2, 0, 1, 2, 0, 2, 2, 1, 2, 1, 1, 1, 2, 0, 0, 2, 0, 0, 2, 2, 1, 0, 2, 0, 2, 0, 2, 2, 1, 1, 1, 2, 1, 1, 1, 1, 0, 0, 2, 0, 0, 2, 0, 1, 2, 1, 2, 1, 0, 0, 0, 0, 2, 0, 1, 1, 0, 1, 0, 0, 2, 1, 2, 2, 0, 1, 0, 2, 2, 1, 0, 1, 1, 0, 0, 0, 1, 0, 0, 1, 0, 2, 0, 2, 1, 1, 0, 0, 1, 1, 2, 2, 2, 2, 2, 0, 0, 1, 2, 1, 0, 2, 1, 2, 0, 2, 2, 2, 1, 0, 0, 2, 0, 0, 2, 0, 0, 1, 0, 1, 1, 1, 1, 0, 0, 1, 2, 1, 2, 2, 0, 0, 2, 1, 1, 2, 2, 2, 2, 0, 2, 2, 1, 0, 1, 1, 2, 1, 2, 0, 1, 1, 2, 1, 1, 2, 1, 1, 0, 2, 2, 1, 1, 0, 1, 0, 2, 0, 2, 2, 0, 2, 2, 1, 2, 1, 1, 1, 0, 0, 1, 1, 2, 1, 1, 2, 1, 2, 1, 2, 0, 2, 0, 2, 1, 0, 1, 0, 1, 2, 2, 2, 2, 0, 0, 0, 2, 2, 1, 0, 2, 0, 2, 1, 2, 1, 2, 0, 1, 0, 0, 2, 2, 1, 2, 2, 2, 0, 1, 1, 2, 0, 1, 1, 1, 1, 0, 0, 1, 2, 1, 1, 0, 0, 0, 0, 2, 0, 1, 2, 2, 2, 1, 1, 1, 1, 0, 0, 1, 0, 1, 1, 1, 2, 2, 1, 2, 1, 0, 2, 2, 1, 0, 2, 2, 1, 0, 2, 2, 2, 0, 1, 2, 0, 1, 1, 0, 0, 2, 0, 2, 2, 1, 0, 0, 0, 1, 1, 1, 2, 0, 1, 1, 2, 1, 1, 2, 2, 2, 0, 2, 1, 1, 2, 0, 1, 1, 2, 2, 2, 1, 0, 1, 2, 1, 0, 0, 0, 1, 1, 1, 0, 2, 2, 1, 0, 0, 1, 1, 0, 1, 2, 0, 1, 1, 1, 2, 0, 1, 2, 1, 1, 0, 0, 2, 0, 0, 1, 2, 1, 0, 2, 2, 1, 0, 1, 0, 1, 2, 2, 2, 2, 0, 1, 2, 0, 1, 1, 1, 1, 2, 2, 2, 1, 0, 2, 2, 2, 1, 2, 1, 2, 0, 1, 2, 0, 1, 0, 2, 2, 0, 1, 1, 0, 0, 2, 1, 1, 0, 1, 0, 1, 0, 2, 2, 0, 1, 2, 1, 2, 2, 1, 2, 0, 0, 1, 2, 1, 0, 1, 1, 1, 0, 1, 2, 1, 0, 2, 1, 2, 0, 1, 1, 1, 1, 1, 0, 1, 2, 1, 0, 0, 1, 1, 0, 2, 2, 0, 1, 0, 2, 0, 0, 1, 2, 2, 2, 1, 2, 2, 1, 0, 2, 1, 0, 1, 1, 0, 2, 0, 0, 1, 2, 2, 2, 2, 2, 1, 0, 0, 2, 2, 2, 1, 2, 1, 0, 1, 1, 0, 2, 2, 1, 0, 0, 2, 0, 2, 0, 1, 1, 0, 2, 2, 0, 2, 1, 2, 1, 1, 0, 1, 1, 0, 0, 2, 2, 1, 2, 0, 2, 0, 2, 0, 2, 0, 2, 0, 1, 1, 0, 1, 1, 0, 1, 0, 2, 2, 1, 1, 1, 1, 1, 1, 2, 0, 1, 1, 1, 2, 2, 1, 1, 0, 2, 0, 0, 2, 0, 0, 0, 2, 2, 1, 1, 2, 2, 0, 0, 0, 1, 2, 2, 0, 1, 2, 1, 0, 1, 1, 0, 2, 1, 0, 0, 0, 1, 2, 1, 2, 2, 0, 0, 2, 2, 2, 2, 0, 2, 2, 1, 1, 2, 2, 2, 2, 1, 0, 0, 2, 0, 1, 0, 0, 1, 0, 1, 2, 2, 0, 0, 0, 2, 0, 2, 1, 1, 1, 2, 0, 2, 0, 1, 2, 1, 0, 1, 1, 1, 2, 0, 2, 2, 1, 1, 1, 0, 0, 1, 0, 0, 1, 2, 2, 0, 0, 2, 1, 2, 2, 0, 0, 0, 2, 1, 0, 2, 1, 2, 1, 1, 1, 0, 0, 0, 0, 2, 2, 0, 0, 1, 2, 0, 1, 2, 0, 1, 1, 0, 2, 2, 2, 1, 0, 0, 2, 1, 1, 2, 0, 0, 1, 2, 2, 1, 0, 0, 0, 0, 0, 0, 0, 0, 1, 2, 1, 1, 2, 1, 2, 0, 0, 1, 2, 1, 1, 1, 1, 1, 0, 1, 2, 2, 0, 2, 2, 2, 1, 2, 1, 1, 2, 0, 0, 0, 0, 1, 2, 0, 0, 2, 1, 1, 2, 1, 2, 1, 1, 1, 2, 1, 1, 2, 1, 1, 2, 1, 1, 1, 1, 0, 1, 0, 1, 2, 2, 0, 2, 0, 1, 1, 1, 2, 2, 2, 2, 2, 0, 0, 2, 2, 0, 2, 0, 1, 1, 1, 0, 0, 2, 2, 0, 0, 2, 2, 0, 1, 2, 1, 1, 1, 1, 2, 2, 0, 1, 2, 0, 2, 0, 1, 2, 1, 2, 2, 2, 2, 1, 2, 0, 1, 0, 1, 2, 2, 0, 0, 2, 0, 1, 0, 0, 2, 2, 1, 2, 1, 1, 2, 0, 2, 1, 1, 1, 0, 2, 0, 1, 1, 0, 1, 2, 1, 2, 0, 2, 1, 1, 2, 2, 1, 0, 1, 2, 1, 1, 0, 2, 2, 1, 1, 0, 0, 1, 0, 0, 0, 2, 2, 2, 0, 2, 2, 2, 1, 1, 2, 2, 0, 0, 1, 1, 2, 0, 1, 1, 0, 2, 1, 0, 2, 2, 0, 1, 2, 0, 1, 2, 0, 1, 1, 0, 0, 2, 1, 0, 2, 1, 0, 0, 1, 2, 2, 2, 1, 1, 1, 0, 0, 1, 0, 0, 2, 2, 1, 0, 1, 0, 1, 2, 0, 1, 0, 0, 2, 1, 0, 0, 2, 1, 1, 0, 2, 0, 2, 2, 1, 0]\n"
     ]
    }
   ],
   "source": [
    "print(y_test)"
   ]
  },
  {
   "cell_type": "code",
   "execution_count": 21,
   "id": "ce39a79d",
   "metadata": {},
   "outputs": [],
   "source": [
    "from transformers import DistilBertTokenizerFast\n",
    "tokenizer = DistilBertTokenizerFast.from_pretrained('distilbert-base-uncased')     "
   ]
  },
  {
   "cell_type": "code",
   "execution_count": 22,
   "id": "4ef38042",
   "metadata": {},
   "outputs": [],
   "source": [
    "import torch as pt"
   ]
  },
  {
   "cell_type": "code",
   "execution_count": 23,
   "id": "ed205d61",
   "metadata": {},
   "outputs": [],
   "source": [
    "train_encodings = tokenizer(X_train, truncation=True, padding=True,return_tensors='pt')\n",
    "test_encodings = tokenizer(X_test, truncation=True, padding=True,return_tensors='pt')"
   ]
  },
  {
   "cell_type": "code",
   "execution_count": 24,
   "id": "4ab9f418",
   "metadata": {
    "scrolled": true
   },
   "outputs": [
    {
     "name": "stdout",
     "output_type": "stream",
     "text": [
      "{'input_ids': tensor([[  101,  1045,  5223,  ...,     0,     0,     0],\n",
      "        [  101,  4067,  2643,  ...,     0,     0,     0],\n",
      "        [  101, 25614,  6933,  ...,     0,     0,     0],\n",
      "        ...,\n",
      "        [  101,  1045,  2288,  ...,     0,     0,     0],\n",
      "        [  101,  1045,  2001,  ...,     0,     0,     0],\n",
      "        [  101,  1045,  2001,  ...,     0,     0,     0]]), 'attention_mask': tensor([[1, 1, 1,  ..., 0, 0, 0],\n",
      "        [1, 1, 1,  ..., 0, 0, 0],\n",
      "        [1, 1, 1,  ..., 0, 0, 0],\n",
      "        ...,\n",
      "        [1, 1, 1,  ..., 0, 0, 0],\n",
      "        [1, 1, 1,  ..., 0, 0, 0],\n",
      "        [1, 1, 1,  ..., 0, 0, 0]])}\n",
      "{'input_ids': tensor([[ 101, 2023, 2003,  ...,    0,    0,    0],\n",
      "        [ 101, 2069, 7126,  ...,    0,    0,    0],\n",
      "        [ 101, 4998, 2013,  ...,    0,    0,    0],\n",
      "        ...,\n",
      "        [ 101, 1045, 2318,  ...,    0,    0,    0],\n",
      "        [ 101, 1045, 2001,  ...,    0,    0,    0],\n",
      "        [ 101, 7887, 7501,  ...,    0,    0,    0]]), 'attention_mask': tensor([[1, 1, 1,  ..., 0, 0, 0],\n",
      "        [1, 1, 1,  ..., 0, 0, 0],\n",
      "        [1, 1, 1,  ..., 0, 0, 0],\n",
      "        ...,\n",
      "        [1, 1, 1,  ..., 0, 0, 0],\n",
      "        [1, 1, 1,  ..., 0, 0, 0],\n",
      "        [1, 1, 1,  ..., 0, 0, 0]])}\n"
     ]
    }
   ],
   "source": [
    "print(train_encodings)\n",
    "print(test_encodings)"
   ]
  },
  {
   "cell_type": "code",
   "execution_count": 25,
   "id": "e987b022",
   "metadata": {},
   "outputs": [],
   "source": [
    "class UCIDataset(pt.utils.data.Dataset):\n",
    "    def __init__(self, encodings, labels):\n",
    "        self.encodings = encodings\n",
    "        self.labels = labels\n",
    "\n",
    "    def __getitem__(self, idx):\n",
    "        item = {key: pt.tensor(val[idx]) for key, val in self.encodings.items()}\n",
    "        item['labels'] = pt.tensor(self.labels[idx])\n",
    "        return item\n",
    "\n",
    "    def __len__(self):\n",
    "        return len(self.labels)\n",
    "\n",
    "train_dataset = UCIDataset(train_encodings, y_train)\n",
    "test_dataset = UCIDataset(test_encodings, y_test)"
   ]
  },
  {
   "cell_type": "code",
   "execution_count": 26,
   "id": "134f246b",
   "metadata": {},
   "outputs": [
    {
     "data": {
      "text/plain": [
       "(<__main__.UCIDataset at 0x1a6a4b92dc0>,\n",
       " <__main__.UCIDataset at 0x1a6a4b92d90>)"
      ]
     },
     "execution_count": 26,
     "metadata": {},
     "output_type": "execute_result"
    }
   ],
   "source": [
    "train_dataset,test_dataset"
   ]
  },
  {
   "cell_type": "code",
   "execution_count": 27,
   "id": "5aad7fee",
   "metadata": {},
   "outputs": [],
   "source": [
    "from transformers import DistilBertForSequenceClassification, Trainer, TrainingArguments\n",
    "\n",
    "training_args = TrainingArguments(\n",
    "    output_dir='./results',          # output directory\n",
    "    learning_rate=2e-5,\n",
    "    num_train_epochs=2,              # total number of training epochs\n",
    "    per_device_train_batch_size=16,  # batch size per device during training\n",
    "    per_device_eval_batch_size=64,   # batch size for evaluation\n",
    "    warmup_steps=500,                # number of warmup steps for learning rate scheduler\n",
    "    weight_decay=0.01,               # strength of weight decay\n",
    "    logging_dir='./logs',            # directory for storing logs\n",
    "    logging_steps=10,\n",
    ")"
   ]
  },
  {
   "cell_type": "code",
   "execution_count": 28,
   "id": "c0212f69",
   "metadata": {},
   "outputs": [],
   "source": [
    "class_names={0:\"negative\",1:\"neutral\", 2:\"positive\"}"
   ]
  },
  {
   "cell_type": "code",
   "execution_count": 29,
   "id": "25156898",
   "metadata": {},
   "outputs": [
    {
     "name": "stderr",
     "output_type": "stream",
     "text": [
      "Some weights of the model checkpoint at distilbert-base-uncased were not used when initializing DistilBertForSequenceClassification: ['vocab_projector.bias', 'vocab_layer_norm.weight', 'vocab_transform.bias', 'vocab_transform.weight', 'vocab_layer_norm.bias', 'vocab_projector.weight']\n",
      "- This IS expected if you are initializing DistilBertForSequenceClassification from the checkpoint of a model trained on another task or with another architecture (e.g. initializing a BertForSequenceClassification model from a BertForPreTraining model).\n",
      "- This IS NOT expected if you are initializing DistilBertForSequenceClassification from the checkpoint of a model that you expect to be exactly identical (initializing a BertForSequenceClassification model from a BertForSequenceClassification model).\n",
      "Some weights of DistilBertForSequenceClassification were not initialized from the model checkpoint at distilbert-base-uncased and are newly initialized: ['pre_classifier.bias', 'pre_classifier.weight', 'classifier.weight', 'classifier.bias']\n",
      "You should probably TRAIN this model on a down-stream task to be able to use it for predictions and inference.\n"
     ]
    }
   ],
   "source": [
    "model = DistilBertForSequenceClassification.from_pretrained(\"distilbert-base-uncased\", num_labels=3,id2label=class_names,label2id=class_names)"
   ]
  },
  {
   "cell_type": "code",
   "execution_count": 30,
   "id": "6379192d",
   "metadata": {
    "scrolled": false
   },
   "outputs": [],
   "source": [
    "trainer = Trainer(\n",
    "    model=model,                         # the instantiated Transformers model to be trained\n",
    "    args=training_args,                  # training arguments, defined above\n",
    "    train_dataset=train_dataset,         # training dataset\n",
    "    eval_dataset=test_dataset            # evaluation dataset\n",
    ")"
   ]
  },
  {
   "cell_type": "code",
   "execution_count": 31,
   "id": "01c81a8f",
   "metadata": {
    "scrolled": true
   },
   "outputs": [
    {
     "name": "stderr",
     "output_type": "stream",
     "text": [
      "C:\\Users\\2151399\\Anaconda3\\lib\\site-packages\\transformers\\optimization.py:306: FutureWarning: This implementation of AdamW is deprecated and will be removed in a future version. Use the PyTorch implementation torch.optim.AdamW instead, or set `no_deprecation_warning=True` to disable this warning\n",
      "  warnings.warn(\n",
      "***** Running training *****\n",
      "  Num examples = 35044\n",
      "  Num Epochs = 2\n",
      "  Instantaneous batch size per device = 16\n",
      "  Total train batch size (w. parallel, distributed & accumulation) = 16\n",
      "  Gradient Accumulation steps = 1\n",
      "  Total optimization steps = 4382\n",
      "  Number of trainable parameters = 66955779\n",
      "C:\\Users\\2151399\\AppData\\Local\\Temp\\2\\ipykernel_76\\2751264945.py:7: UserWarning: To copy construct from a tensor, it is recommended to use sourceTensor.clone().detach() or sourceTensor.clone().detach().requires_grad_(True), rather than torch.tensor(sourceTensor).\n",
      "  item = {key: pt.tensor(val[idx]) for key, val in self.encodings.items()}\n"
     ]
    },
    {
     "data": {
      "text/html": [
       "\n",
       "    <div>\n",
       "      \n",
       "      <progress value='4382' max='4382' style='width:300px; height:20px; vertical-align: middle;'></progress>\n",
       "      [4382/4382 134:33:29, Epoch 2/2]\n",
       "    </div>\n",
       "    <table border=\"1\" class=\"dataframe\">\n",
       "  <thead>\n",
       " <tr style=\"text-align: left;\">\n",
       "      <th>Step</th>\n",
       "      <th>Training Loss</th>\n",
       "    </tr>\n",
       "  </thead>\n",
       "  <tbody>\n",
       "    <tr>\n",
       "      <td>10</td>\n",
       "      <td>1.103500</td>\n",
       "    </tr>\n",
       "    <tr>\n",
       "      <td>20</td>\n",
       "      <td>1.111500</td>\n",
       "    </tr>\n",
       "    <tr>\n",
       "      <td>30</td>\n",
       "      <td>1.097100</td>\n",
       "    </tr>\n",
       "    <tr>\n",
       "      <td>40</td>\n",
       "      <td>1.101900</td>\n",
       "    </tr>\n",
       "    <tr>\n",
       "      <td>50</td>\n",
       "      <td>1.104000</td>\n",
       "    </tr>\n",
       "    <tr>\n",
       "      <td>60</td>\n",
       "      <td>1.095200</td>\n",
       "    </tr>\n",
       "    <tr>\n",
       "      <td>70</td>\n",
       "      <td>1.097100</td>\n",
       "    </tr>\n",
       "    <tr>\n",
       "      <td>80</td>\n",
       "      <td>1.095600</td>\n",
       "    </tr>\n",
       "    <tr>\n",
       "      <td>90</td>\n",
       "      <td>1.097000</td>\n",
       "    </tr>\n",
       "    <tr>\n",
       "      <td>100</td>\n",
       "      <td>1.088500</td>\n",
       "    </tr>\n",
       "    <tr>\n",
       "      <td>110</td>\n",
       "      <td>1.097900</td>\n",
       "    </tr>\n",
       "    <tr>\n",
       "      <td>120</td>\n",
       "      <td>1.097200</td>\n",
       "    </tr>\n",
       "    <tr>\n",
       "      <td>130</td>\n",
       "      <td>1.093000</td>\n",
       "    </tr>\n",
       "    <tr>\n",
       "      <td>140</td>\n",
       "      <td>1.090700</td>\n",
       "    </tr>\n",
       "    <tr>\n",
       "      <td>150</td>\n",
       "      <td>1.084700</td>\n",
       "    </tr>\n",
       "    <tr>\n",
       "      <td>160</td>\n",
       "      <td>1.075400</td>\n",
       "    </tr>\n",
       "    <tr>\n",
       "      <td>170</td>\n",
       "      <td>1.068700</td>\n",
       "    </tr>\n",
       "    <tr>\n",
       "      <td>180</td>\n",
       "      <td>1.078600</td>\n",
       "    </tr>\n",
       "    <tr>\n",
       "      <td>190</td>\n",
       "      <td>1.075200</td>\n",
       "    </tr>\n",
       "    <tr>\n",
       "      <td>200</td>\n",
       "      <td>1.039600</td>\n",
       "    </tr>\n",
       "    <tr>\n",
       "      <td>210</td>\n",
       "      <td>1.061200</td>\n",
       "    </tr>\n",
       "    <tr>\n",
       "      <td>220</td>\n",
       "      <td>1.025700</td>\n",
       "    </tr>\n",
       "    <tr>\n",
       "      <td>230</td>\n",
       "      <td>1.005700</td>\n",
       "    </tr>\n",
       "    <tr>\n",
       "      <td>240</td>\n",
       "      <td>0.995100</td>\n",
       "    </tr>\n",
       "    <tr>\n",
       "      <td>250</td>\n",
       "      <td>1.005200</td>\n",
       "    </tr>\n",
       "    <tr>\n",
       "      <td>260</td>\n",
       "      <td>0.917900</td>\n",
       "    </tr>\n",
       "    <tr>\n",
       "      <td>270</td>\n",
       "      <td>0.967700</td>\n",
       "    </tr>\n",
       "    <tr>\n",
       "      <td>280</td>\n",
       "      <td>0.910200</td>\n",
       "    </tr>\n",
       "    <tr>\n",
       "      <td>290</td>\n",
       "      <td>0.976500</td>\n",
       "    </tr>\n",
       "    <tr>\n",
       "      <td>300</td>\n",
       "      <td>0.923500</td>\n",
       "    </tr>\n",
       "    <tr>\n",
       "      <td>310</td>\n",
       "      <td>0.974700</td>\n",
       "    </tr>\n",
       "    <tr>\n",
       "      <td>320</td>\n",
       "      <td>0.980400</td>\n",
       "    </tr>\n",
       "    <tr>\n",
       "      <td>330</td>\n",
       "      <td>0.893900</td>\n",
       "    </tr>\n",
       "    <tr>\n",
       "      <td>340</td>\n",
       "      <td>0.892100</td>\n",
       "    </tr>\n",
       "    <tr>\n",
       "      <td>350</td>\n",
       "      <td>0.920500</td>\n",
       "    </tr>\n",
       "    <tr>\n",
       "      <td>360</td>\n",
       "      <td>0.854800</td>\n",
       "    </tr>\n",
       "    <tr>\n",
       "      <td>370</td>\n",
       "      <td>0.831900</td>\n",
       "    </tr>\n",
       "    <tr>\n",
       "      <td>380</td>\n",
       "      <td>0.898700</td>\n",
       "    </tr>\n",
       "    <tr>\n",
       "      <td>390</td>\n",
       "      <td>0.895000</td>\n",
       "    </tr>\n",
       "    <tr>\n",
       "      <td>400</td>\n",
       "      <td>0.844100</td>\n",
       "    </tr>\n",
       "    <tr>\n",
       "      <td>410</td>\n",
       "      <td>0.831100</td>\n",
       "    </tr>\n",
       "    <tr>\n",
       "      <td>420</td>\n",
       "      <td>0.791300</td>\n",
       "    </tr>\n",
       "    <tr>\n",
       "      <td>430</td>\n",
       "      <td>0.862400</td>\n",
       "    </tr>\n",
       "    <tr>\n",
       "      <td>440</td>\n",
       "      <td>0.832100</td>\n",
       "    </tr>\n",
       "    <tr>\n",
       "      <td>450</td>\n",
       "      <td>0.804000</td>\n",
       "    </tr>\n",
       "    <tr>\n",
       "      <td>460</td>\n",
       "      <td>0.806200</td>\n",
       "    </tr>\n",
       "    <tr>\n",
       "      <td>470</td>\n",
       "      <td>0.873600</td>\n",
       "    </tr>\n",
       "    <tr>\n",
       "      <td>480</td>\n",
       "      <td>0.779900</td>\n",
       "    </tr>\n",
       "    <tr>\n",
       "      <td>490</td>\n",
       "      <td>0.837700</td>\n",
       "    </tr>\n",
       "    <tr>\n",
       "      <td>500</td>\n",
       "      <td>0.819700</td>\n",
       "    </tr>\n",
       "    <tr>\n",
       "      <td>510</td>\n",
       "      <td>0.818100</td>\n",
       "    </tr>\n",
       "    <tr>\n",
       "      <td>520</td>\n",
       "      <td>0.855800</td>\n",
       "    </tr>\n",
       "    <tr>\n",
       "      <td>530</td>\n",
       "      <td>0.862700</td>\n",
       "    </tr>\n",
       "    <tr>\n",
       "      <td>540</td>\n",
       "      <td>0.750200</td>\n",
       "    </tr>\n",
       "    <tr>\n",
       "      <td>550</td>\n",
       "      <td>0.790000</td>\n",
       "    </tr>\n",
       "    <tr>\n",
       "      <td>560</td>\n",
       "      <td>0.792600</td>\n",
       "    </tr>\n",
       "    <tr>\n",
       "      <td>570</td>\n",
       "      <td>0.810700</td>\n",
       "    </tr>\n",
       "    <tr>\n",
       "      <td>580</td>\n",
       "      <td>0.770200</td>\n",
       "    </tr>\n",
       "    <tr>\n",
       "      <td>590</td>\n",
       "      <td>0.631000</td>\n",
       "    </tr>\n",
       "    <tr>\n",
       "      <td>600</td>\n",
       "      <td>0.918200</td>\n",
       "    </tr>\n",
       "    <tr>\n",
       "      <td>610</td>\n",
       "      <td>0.766900</td>\n",
       "    </tr>\n",
       "    <tr>\n",
       "      <td>620</td>\n",
       "      <td>0.769600</td>\n",
       "    </tr>\n",
       "    <tr>\n",
       "      <td>630</td>\n",
       "      <td>0.877500</td>\n",
       "    </tr>\n",
       "    <tr>\n",
       "      <td>640</td>\n",
       "      <td>0.835600</td>\n",
       "    </tr>\n",
       "    <tr>\n",
       "      <td>650</td>\n",
       "      <td>0.813200</td>\n",
       "    </tr>\n",
       "    <tr>\n",
       "      <td>660</td>\n",
       "      <td>0.855100</td>\n",
       "    </tr>\n",
       "    <tr>\n",
       "      <td>670</td>\n",
       "      <td>0.809500</td>\n",
       "    </tr>\n",
       "    <tr>\n",
       "      <td>680</td>\n",
       "      <td>0.791000</td>\n",
       "    </tr>\n",
       "    <tr>\n",
       "      <td>690</td>\n",
       "      <td>0.761700</td>\n",
       "    </tr>\n",
       "    <tr>\n",
       "      <td>700</td>\n",
       "      <td>0.720200</td>\n",
       "    </tr>\n",
       "    <tr>\n",
       "      <td>710</td>\n",
       "      <td>0.800900</td>\n",
       "    </tr>\n",
       "    <tr>\n",
       "      <td>720</td>\n",
       "      <td>0.714900</td>\n",
       "    </tr>\n",
       "    <tr>\n",
       "      <td>730</td>\n",
       "      <td>0.756200</td>\n",
       "    </tr>\n",
       "    <tr>\n",
       "      <td>740</td>\n",
       "      <td>0.848800</td>\n",
       "    </tr>\n",
       "    <tr>\n",
       "      <td>750</td>\n",
       "      <td>0.845800</td>\n",
       "    </tr>\n",
       "    <tr>\n",
       "      <td>760</td>\n",
       "      <td>0.795800</td>\n",
       "    </tr>\n",
       "    <tr>\n",
       "      <td>770</td>\n",
       "      <td>0.821200</td>\n",
       "    </tr>\n",
       "    <tr>\n",
       "      <td>780</td>\n",
       "      <td>0.746600</td>\n",
       "    </tr>\n",
       "    <tr>\n",
       "      <td>790</td>\n",
       "      <td>0.723500</td>\n",
       "    </tr>\n",
       "    <tr>\n",
       "      <td>800</td>\n",
       "      <td>0.705400</td>\n",
       "    </tr>\n",
       "    <tr>\n",
       "      <td>810</td>\n",
       "      <td>0.791400</td>\n",
       "    </tr>\n",
       "    <tr>\n",
       "      <td>820</td>\n",
       "      <td>0.775600</td>\n",
       "    </tr>\n",
       "    <tr>\n",
       "      <td>830</td>\n",
       "      <td>0.793500</td>\n",
       "    </tr>\n",
       "    <tr>\n",
       "      <td>840</td>\n",
       "      <td>0.847000</td>\n",
       "    </tr>\n",
       "    <tr>\n",
       "      <td>850</td>\n",
       "      <td>0.793300</td>\n",
       "    </tr>\n",
       "    <tr>\n",
       "      <td>860</td>\n",
       "      <td>0.733000</td>\n",
       "    </tr>\n",
       "    <tr>\n",
       "      <td>870</td>\n",
       "      <td>0.808600</td>\n",
       "    </tr>\n",
       "    <tr>\n",
       "      <td>880</td>\n",
       "      <td>0.731400</td>\n",
       "    </tr>\n",
       "    <tr>\n",
       "      <td>890</td>\n",
       "      <td>0.751200</td>\n",
       "    </tr>\n",
       "    <tr>\n",
       "      <td>900</td>\n",
       "      <td>0.740900</td>\n",
       "    </tr>\n",
       "    <tr>\n",
       "      <td>910</td>\n",
       "      <td>0.762700</td>\n",
       "    </tr>\n",
       "    <tr>\n",
       "      <td>920</td>\n",
       "      <td>0.697300</td>\n",
       "    </tr>\n",
       "    <tr>\n",
       "      <td>930</td>\n",
       "      <td>0.797500</td>\n",
       "    </tr>\n",
       "    <tr>\n",
       "      <td>940</td>\n",
       "      <td>0.721000</td>\n",
       "    </tr>\n",
       "    <tr>\n",
       "      <td>950</td>\n",
       "      <td>0.746600</td>\n",
       "    </tr>\n",
       "    <tr>\n",
       "      <td>960</td>\n",
       "      <td>0.841600</td>\n",
       "    </tr>\n",
       "    <tr>\n",
       "      <td>970</td>\n",
       "      <td>0.857000</td>\n",
       "    </tr>\n",
       "    <tr>\n",
       "      <td>980</td>\n",
       "      <td>0.683200</td>\n",
       "    </tr>\n",
       "    <tr>\n",
       "      <td>990</td>\n",
       "      <td>0.811200</td>\n",
       "    </tr>\n",
       "    <tr>\n",
       "      <td>1000</td>\n",
       "      <td>0.808000</td>\n",
       "    </tr>\n",
       "    <tr>\n",
       "      <td>1010</td>\n",
       "      <td>0.752700</td>\n",
       "    </tr>\n",
       "    <tr>\n",
       "      <td>1020</td>\n",
       "      <td>0.682700</td>\n",
       "    </tr>\n",
       "    <tr>\n",
       "      <td>1030</td>\n",
       "      <td>0.774200</td>\n",
       "    </tr>\n",
       "    <tr>\n",
       "      <td>1040</td>\n",
       "      <td>0.821800</td>\n",
       "    </tr>\n",
       "    <tr>\n",
       "      <td>1050</td>\n",
       "      <td>0.756600</td>\n",
       "    </tr>\n",
       "    <tr>\n",
       "      <td>1060</td>\n",
       "      <td>0.771300</td>\n",
       "    </tr>\n",
       "    <tr>\n",
       "      <td>1070</td>\n",
       "      <td>0.742400</td>\n",
       "    </tr>\n",
       "    <tr>\n",
       "      <td>1080</td>\n",
       "      <td>0.691600</td>\n",
       "    </tr>\n",
       "    <tr>\n",
       "      <td>1090</td>\n",
       "      <td>0.812500</td>\n",
       "    </tr>\n",
       "    <tr>\n",
       "      <td>1100</td>\n",
       "      <td>0.745300</td>\n",
       "    </tr>\n",
       "    <tr>\n",
       "      <td>1110</td>\n",
       "      <td>0.760200</td>\n",
       "    </tr>\n",
       "    <tr>\n",
       "      <td>1120</td>\n",
       "      <td>0.810700</td>\n",
       "    </tr>\n",
       "    <tr>\n",
       "      <td>1130</td>\n",
       "      <td>0.806300</td>\n",
       "    </tr>\n",
       "    <tr>\n",
       "      <td>1140</td>\n",
       "      <td>0.819000</td>\n",
       "    </tr>\n",
       "    <tr>\n",
       "      <td>1150</td>\n",
       "      <td>0.685300</td>\n",
       "    </tr>\n",
       "    <tr>\n",
       "      <td>1160</td>\n",
       "      <td>0.753700</td>\n",
       "    </tr>\n",
       "    <tr>\n",
       "      <td>1170</td>\n",
       "      <td>0.702700</td>\n",
       "    </tr>\n",
       "    <tr>\n",
       "      <td>1180</td>\n",
       "      <td>0.777400</td>\n",
       "    </tr>\n",
       "    <tr>\n",
       "      <td>1190</td>\n",
       "      <td>0.777100</td>\n",
       "    </tr>\n",
       "    <tr>\n",
       "      <td>1200</td>\n",
       "      <td>0.859500</td>\n",
       "    </tr>\n",
       "    <tr>\n",
       "      <td>1210</td>\n",
       "      <td>0.826400</td>\n",
       "    </tr>\n",
       "    <tr>\n",
       "      <td>1220</td>\n",
       "      <td>0.726200</td>\n",
       "    </tr>\n",
       "    <tr>\n",
       "      <td>1230</td>\n",
       "      <td>0.641700</td>\n",
       "    </tr>\n",
       "    <tr>\n",
       "      <td>1240</td>\n",
       "      <td>0.926500</td>\n",
       "    </tr>\n",
       "    <tr>\n",
       "      <td>1250</td>\n",
       "      <td>0.835400</td>\n",
       "    </tr>\n",
       "    <tr>\n",
       "      <td>1260</td>\n",
       "      <td>0.752900</td>\n",
       "    </tr>\n",
       "    <tr>\n",
       "      <td>1270</td>\n",
       "      <td>0.761200</td>\n",
       "    </tr>\n",
       "    <tr>\n",
       "      <td>1280</td>\n",
       "      <td>0.721700</td>\n",
       "    </tr>\n",
       "    <tr>\n",
       "      <td>1290</td>\n",
       "      <td>0.670800</td>\n",
       "    </tr>\n",
       "    <tr>\n",
       "      <td>1300</td>\n",
       "      <td>0.693300</td>\n",
       "    </tr>\n",
       "    <tr>\n",
       "      <td>1310</td>\n",
       "      <td>0.700500</td>\n",
       "    </tr>\n",
       "    <tr>\n",
       "      <td>1320</td>\n",
       "      <td>0.802300</td>\n",
       "    </tr>\n",
       "    <tr>\n",
       "      <td>1330</td>\n",
       "      <td>0.699300</td>\n",
       "    </tr>\n",
       "    <tr>\n",
       "      <td>1340</td>\n",
       "      <td>0.665600</td>\n",
       "    </tr>\n",
       "    <tr>\n",
       "      <td>1350</td>\n",
       "      <td>0.676800</td>\n",
       "    </tr>\n",
       "    <tr>\n",
       "      <td>1360</td>\n",
       "      <td>0.771200</td>\n",
       "    </tr>\n",
       "    <tr>\n",
       "      <td>1370</td>\n",
       "      <td>0.639500</td>\n",
       "    </tr>\n",
       "    <tr>\n",
       "      <td>1380</td>\n",
       "      <td>0.825300</td>\n",
       "    </tr>\n",
       "    <tr>\n",
       "      <td>1390</td>\n",
       "      <td>0.726000</td>\n",
       "    </tr>\n",
       "    <tr>\n",
       "      <td>1400</td>\n",
       "      <td>0.796000</td>\n",
       "    </tr>\n",
       "    <tr>\n",
       "      <td>1410</td>\n",
       "      <td>0.765500</td>\n",
       "    </tr>\n",
       "    <tr>\n",
       "      <td>1420</td>\n",
       "      <td>0.703800</td>\n",
       "    </tr>\n",
       "    <tr>\n",
       "      <td>1430</td>\n",
       "      <td>0.757400</td>\n",
       "    </tr>\n",
       "    <tr>\n",
       "      <td>1440</td>\n",
       "      <td>0.716900</td>\n",
       "    </tr>\n",
       "    <tr>\n",
       "      <td>1450</td>\n",
       "      <td>0.721000</td>\n",
       "    </tr>\n",
       "    <tr>\n",
       "      <td>1460</td>\n",
       "      <td>0.731700</td>\n",
       "    </tr>\n",
       "    <tr>\n",
       "      <td>1470</td>\n",
       "      <td>0.731700</td>\n",
       "    </tr>\n",
       "    <tr>\n",
       "      <td>1480</td>\n",
       "      <td>0.728500</td>\n",
       "    </tr>\n",
       "    <tr>\n",
       "      <td>1490</td>\n",
       "      <td>0.722000</td>\n",
       "    </tr>\n",
       "    <tr>\n",
       "      <td>1500</td>\n",
       "      <td>0.733900</td>\n",
       "    </tr>\n",
       "    <tr>\n",
       "      <td>1510</td>\n",
       "      <td>0.612200</td>\n",
       "    </tr>\n",
       "    <tr>\n",
       "      <td>1520</td>\n",
       "      <td>0.693900</td>\n",
       "    </tr>\n",
       "    <tr>\n",
       "      <td>1530</td>\n",
       "      <td>0.713400</td>\n",
       "    </tr>\n",
       "    <tr>\n",
       "      <td>1540</td>\n",
       "      <td>0.819800</td>\n",
       "    </tr>\n",
       "    <tr>\n",
       "      <td>1550</td>\n",
       "      <td>0.761300</td>\n",
       "    </tr>\n",
       "    <tr>\n",
       "      <td>1560</td>\n",
       "      <td>0.724900</td>\n",
       "    </tr>\n",
       "    <tr>\n",
       "      <td>1570</td>\n",
       "      <td>0.751500</td>\n",
       "    </tr>\n",
       "    <tr>\n",
       "      <td>1580</td>\n",
       "      <td>0.864300</td>\n",
       "    </tr>\n",
       "    <tr>\n",
       "      <td>1590</td>\n",
       "      <td>0.666800</td>\n",
       "    </tr>\n",
       "    <tr>\n",
       "      <td>1600</td>\n",
       "      <td>0.720300</td>\n",
       "    </tr>\n",
       "    <tr>\n",
       "      <td>1610</td>\n",
       "      <td>0.754000</td>\n",
       "    </tr>\n",
       "    <tr>\n",
       "      <td>1620</td>\n",
       "      <td>0.779800</td>\n",
       "    </tr>\n",
       "    <tr>\n",
       "      <td>1630</td>\n",
       "      <td>0.812700</td>\n",
       "    </tr>\n",
       "    <tr>\n",
       "      <td>1640</td>\n",
       "      <td>0.712600</td>\n",
       "    </tr>\n",
       "    <tr>\n",
       "      <td>1650</td>\n",
       "      <td>0.670500</td>\n",
       "    </tr>\n",
       "    <tr>\n",
       "      <td>1660</td>\n",
       "      <td>0.815300</td>\n",
       "    </tr>\n",
       "    <tr>\n",
       "      <td>1670</td>\n",
       "      <td>0.676200</td>\n",
       "    </tr>\n",
       "    <tr>\n",
       "      <td>1680</td>\n",
       "      <td>0.757300</td>\n",
       "    </tr>\n",
       "    <tr>\n",
       "      <td>1690</td>\n",
       "      <td>0.881700</td>\n",
       "    </tr>\n",
       "    <tr>\n",
       "      <td>1700</td>\n",
       "      <td>0.715200</td>\n",
       "    </tr>\n",
       "    <tr>\n",
       "      <td>1710</td>\n",
       "      <td>0.775800</td>\n",
       "    </tr>\n",
       "    <tr>\n",
       "      <td>1720</td>\n",
       "      <td>0.778100</td>\n",
       "    </tr>\n",
       "    <tr>\n",
       "      <td>1730</td>\n",
       "      <td>0.671100</td>\n",
       "    </tr>\n",
       "    <tr>\n",
       "      <td>1740</td>\n",
       "      <td>0.758800</td>\n",
       "    </tr>\n",
       "    <tr>\n",
       "      <td>1750</td>\n",
       "      <td>0.738000</td>\n",
       "    </tr>\n",
       "    <tr>\n",
       "      <td>1760</td>\n",
       "      <td>0.805200</td>\n",
       "    </tr>\n",
       "    <tr>\n",
       "      <td>1770</td>\n",
       "      <td>0.596400</td>\n",
       "    </tr>\n",
       "    <tr>\n",
       "      <td>1780</td>\n",
       "      <td>0.727200</td>\n",
       "    </tr>\n",
       "    <tr>\n",
       "      <td>1790</td>\n",
       "      <td>0.743500</td>\n",
       "    </tr>\n",
       "    <tr>\n",
       "      <td>1800</td>\n",
       "      <td>0.735400</td>\n",
       "    </tr>\n",
       "    <tr>\n",
       "      <td>1810</td>\n",
       "      <td>0.650400</td>\n",
       "    </tr>\n",
       "    <tr>\n",
       "      <td>1820</td>\n",
       "      <td>0.723400</td>\n",
       "    </tr>\n",
       "    <tr>\n",
       "      <td>1830</td>\n",
       "      <td>0.676200</td>\n",
       "    </tr>\n",
       "    <tr>\n",
       "      <td>1840</td>\n",
       "      <td>0.660400</td>\n",
       "    </tr>\n",
       "    <tr>\n",
       "      <td>1850</td>\n",
       "      <td>0.689100</td>\n",
       "    </tr>\n",
       "    <tr>\n",
       "      <td>1860</td>\n",
       "      <td>0.775300</td>\n",
       "    </tr>\n",
       "    <tr>\n",
       "      <td>1870</td>\n",
       "      <td>0.734400</td>\n",
       "    </tr>\n",
       "    <tr>\n",
       "      <td>1880</td>\n",
       "      <td>0.777900</td>\n",
       "    </tr>\n",
       "    <tr>\n",
       "      <td>1890</td>\n",
       "      <td>0.764600</td>\n",
       "    </tr>\n",
       "    <tr>\n",
       "      <td>1900</td>\n",
       "      <td>0.632300</td>\n",
       "    </tr>\n",
       "    <tr>\n",
       "      <td>1910</td>\n",
       "      <td>0.598700</td>\n",
       "    </tr>\n",
       "    <tr>\n",
       "      <td>1920</td>\n",
       "      <td>0.722000</td>\n",
       "    </tr>\n",
       "    <tr>\n",
       "      <td>1930</td>\n",
       "      <td>0.724300</td>\n",
       "    </tr>\n",
       "    <tr>\n",
       "      <td>1940</td>\n",
       "      <td>0.762200</td>\n",
       "    </tr>\n",
       "    <tr>\n",
       "      <td>1950</td>\n",
       "      <td>0.769000</td>\n",
       "    </tr>\n",
       "    <tr>\n",
       "      <td>1960</td>\n",
       "      <td>0.651300</td>\n",
       "    </tr>\n",
       "    <tr>\n",
       "      <td>1970</td>\n",
       "      <td>0.719600</td>\n",
       "    </tr>\n",
       "    <tr>\n",
       "      <td>1980</td>\n",
       "      <td>0.650800</td>\n",
       "    </tr>\n",
       "    <tr>\n",
       "      <td>1990</td>\n",
       "      <td>0.765900</td>\n",
       "    </tr>\n",
       "    <tr>\n",
       "      <td>2000</td>\n",
       "      <td>0.779100</td>\n",
       "    </tr>\n",
       "    <tr>\n",
       "      <td>2010</td>\n",
       "      <td>0.707000</td>\n",
       "    </tr>\n",
       "    <tr>\n",
       "      <td>2020</td>\n",
       "      <td>0.659100</td>\n",
       "    </tr>\n",
       "    <tr>\n",
       "      <td>2030</td>\n",
       "      <td>0.771200</td>\n",
       "    </tr>\n",
       "    <tr>\n",
       "      <td>2040</td>\n",
       "      <td>0.776100</td>\n",
       "    </tr>\n",
       "    <tr>\n",
       "      <td>2050</td>\n",
       "      <td>0.765900</td>\n",
       "    </tr>\n",
       "    <tr>\n",
       "      <td>2060</td>\n",
       "      <td>0.686900</td>\n",
       "    </tr>\n",
       "    <tr>\n",
       "      <td>2070</td>\n",
       "      <td>0.639500</td>\n",
       "    </tr>\n",
       "    <tr>\n",
       "      <td>2080</td>\n",
       "      <td>0.673900</td>\n",
       "    </tr>\n",
       "    <tr>\n",
       "      <td>2090</td>\n",
       "      <td>0.732800</td>\n",
       "    </tr>\n",
       "    <tr>\n",
       "      <td>2100</td>\n",
       "      <td>0.768100</td>\n",
       "    </tr>\n",
       "    <tr>\n",
       "      <td>2110</td>\n",
       "      <td>0.762600</td>\n",
       "    </tr>\n",
       "    <tr>\n",
       "      <td>2120</td>\n",
       "      <td>0.691900</td>\n",
       "    </tr>\n",
       "    <tr>\n",
       "      <td>2130</td>\n",
       "      <td>0.644300</td>\n",
       "    </tr>\n",
       "    <tr>\n",
       "      <td>2140</td>\n",
       "      <td>0.837200</td>\n",
       "    </tr>\n",
       "    <tr>\n",
       "      <td>2150</td>\n",
       "      <td>0.688400</td>\n",
       "    </tr>\n",
       "    <tr>\n",
       "      <td>2160</td>\n",
       "      <td>0.679500</td>\n",
       "    </tr>\n",
       "    <tr>\n",
       "      <td>2170</td>\n",
       "      <td>0.694000</td>\n",
       "    </tr>\n",
       "    <tr>\n",
       "      <td>2180</td>\n",
       "      <td>0.755400</td>\n",
       "    </tr>\n",
       "    <tr>\n",
       "      <td>2190</td>\n",
       "      <td>0.710000</td>\n",
       "    </tr>\n",
       "    <tr>\n",
       "      <td>2200</td>\n",
       "      <td>0.668200</td>\n",
       "    </tr>\n",
       "    <tr>\n",
       "      <td>2210</td>\n",
       "      <td>0.648100</td>\n",
       "    </tr>\n",
       "    <tr>\n",
       "      <td>2220</td>\n",
       "      <td>0.606700</td>\n",
       "    </tr>\n",
       "    <tr>\n",
       "      <td>2230</td>\n",
       "      <td>0.660800</td>\n",
       "    </tr>\n",
       "    <tr>\n",
       "      <td>2240</td>\n",
       "      <td>0.567000</td>\n",
       "    </tr>\n",
       "    <tr>\n",
       "      <td>2250</td>\n",
       "      <td>0.478000</td>\n",
       "    </tr>\n",
       "    <tr>\n",
       "      <td>2260</td>\n",
       "      <td>0.745200</td>\n",
       "    </tr>\n",
       "    <tr>\n",
       "      <td>2270</td>\n",
       "      <td>0.620100</td>\n",
       "    </tr>\n",
       "    <tr>\n",
       "      <td>2280</td>\n",
       "      <td>0.474700</td>\n",
       "    </tr>\n",
       "    <tr>\n",
       "      <td>2290</td>\n",
       "      <td>0.532900</td>\n",
       "    </tr>\n",
       "    <tr>\n",
       "      <td>2300</td>\n",
       "      <td>0.762800</td>\n",
       "    </tr>\n",
       "    <tr>\n",
       "      <td>2310</td>\n",
       "      <td>0.673800</td>\n",
       "    </tr>\n",
       "    <tr>\n",
       "      <td>2320</td>\n",
       "      <td>0.676000</td>\n",
       "    </tr>\n",
       "    <tr>\n",
       "      <td>2330</td>\n",
       "      <td>0.622200</td>\n",
       "    </tr>\n",
       "    <tr>\n",
       "      <td>2340</td>\n",
       "      <td>0.635900</td>\n",
       "    </tr>\n",
       "    <tr>\n",
       "      <td>2350</td>\n",
       "      <td>0.570700</td>\n",
       "    </tr>\n",
       "    <tr>\n",
       "      <td>2360</td>\n",
       "      <td>0.608100</td>\n",
       "    </tr>\n",
       "    <tr>\n",
       "      <td>2370</td>\n",
       "      <td>0.577800</td>\n",
       "    </tr>\n",
       "    <tr>\n",
       "      <td>2380</td>\n",
       "      <td>0.655600</td>\n",
       "    </tr>\n",
       "    <tr>\n",
       "      <td>2390</td>\n",
       "      <td>0.572500</td>\n",
       "    </tr>\n",
       "    <tr>\n",
       "      <td>2400</td>\n",
       "      <td>0.699200</td>\n",
       "    </tr>\n",
       "    <tr>\n",
       "      <td>2410</td>\n",
       "      <td>0.633000</td>\n",
       "    </tr>\n",
       "    <tr>\n",
       "      <td>2420</td>\n",
       "      <td>0.613800</td>\n",
       "    </tr>\n",
       "    <tr>\n",
       "      <td>2430</td>\n",
       "      <td>0.565700</td>\n",
       "    </tr>\n",
       "    <tr>\n",
       "      <td>2440</td>\n",
       "      <td>0.560200</td>\n",
       "    </tr>\n",
       "    <tr>\n",
       "      <td>2450</td>\n",
       "      <td>0.657100</td>\n",
       "    </tr>\n",
       "    <tr>\n",
       "      <td>2460</td>\n",
       "      <td>0.613100</td>\n",
       "    </tr>\n",
       "    <tr>\n",
       "      <td>2470</td>\n",
       "      <td>0.662700</td>\n",
       "    </tr>\n",
       "    <tr>\n",
       "      <td>2480</td>\n",
       "      <td>0.596000</td>\n",
       "    </tr>\n",
       "    <tr>\n",
       "      <td>2490</td>\n",
       "      <td>0.688400</td>\n",
       "    </tr>\n",
       "    <tr>\n",
       "      <td>2500</td>\n",
       "      <td>0.725700</td>\n",
       "    </tr>\n",
       "    <tr>\n",
       "      <td>2510</td>\n",
       "      <td>0.629400</td>\n",
       "    </tr>\n",
       "    <tr>\n",
       "      <td>2520</td>\n",
       "      <td>0.494900</td>\n",
       "    </tr>\n",
       "    <tr>\n",
       "      <td>2530</td>\n",
       "      <td>0.614700</td>\n",
       "    </tr>\n",
       "    <tr>\n",
       "      <td>2540</td>\n",
       "      <td>0.633400</td>\n",
       "    </tr>\n",
       "    <tr>\n",
       "      <td>2550</td>\n",
       "      <td>0.589600</td>\n",
       "    </tr>\n",
       "    <tr>\n",
       "      <td>2560</td>\n",
       "      <td>0.551900</td>\n",
       "    </tr>\n",
       "    <tr>\n",
       "      <td>2570</td>\n",
       "      <td>0.654400</td>\n",
       "    </tr>\n",
       "    <tr>\n",
       "      <td>2580</td>\n",
       "      <td>0.519100</td>\n",
       "    </tr>\n",
       "    <tr>\n",
       "      <td>2590</td>\n",
       "      <td>0.636000</td>\n",
       "    </tr>\n",
       "    <tr>\n",
       "      <td>2600</td>\n",
       "      <td>0.596500</td>\n",
       "    </tr>\n",
       "    <tr>\n",
       "      <td>2610</td>\n",
       "      <td>0.596000</td>\n",
       "    </tr>\n",
       "    <tr>\n",
       "      <td>2620</td>\n",
       "      <td>0.627200</td>\n",
       "    </tr>\n",
       "    <tr>\n",
       "      <td>2630</td>\n",
       "      <td>0.575100</td>\n",
       "    </tr>\n",
       "    <tr>\n",
       "      <td>2640</td>\n",
       "      <td>0.655400</td>\n",
       "    </tr>\n",
       "    <tr>\n",
       "      <td>2650</td>\n",
       "      <td>0.553400</td>\n",
       "    </tr>\n",
       "    <tr>\n",
       "      <td>2660</td>\n",
       "      <td>0.525300</td>\n",
       "    </tr>\n",
       "    <tr>\n",
       "      <td>2670</td>\n",
       "      <td>0.663100</td>\n",
       "    </tr>\n",
       "    <tr>\n",
       "      <td>2680</td>\n",
       "      <td>0.571500</td>\n",
       "    </tr>\n",
       "    <tr>\n",
       "      <td>2690</td>\n",
       "      <td>0.652200</td>\n",
       "    </tr>\n",
       "    <tr>\n",
       "      <td>2700</td>\n",
       "      <td>0.550400</td>\n",
       "    </tr>\n",
       "    <tr>\n",
       "      <td>2710</td>\n",
       "      <td>0.502500</td>\n",
       "    </tr>\n",
       "    <tr>\n",
       "      <td>2720</td>\n",
       "      <td>0.583800</td>\n",
       "    </tr>\n",
       "    <tr>\n",
       "      <td>2730</td>\n",
       "      <td>0.504000</td>\n",
       "    </tr>\n",
       "    <tr>\n",
       "      <td>2740</td>\n",
       "      <td>0.607800</td>\n",
       "    </tr>\n",
       "    <tr>\n",
       "      <td>2750</td>\n",
       "      <td>0.616000</td>\n",
       "    </tr>\n",
       "    <tr>\n",
       "      <td>2760</td>\n",
       "      <td>0.705300</td>\n",
       "    </tr>\n",
       "    <tr>\n",
       "      <td>2770</td>\n",
       "      <td>0.556500</td>\n",
       "    </tr>\n",
       "    <tr>\n",
       "      <td>2780</td>\n",
       "      <td>0.630000</td>\n",
       "    </tr>\n",
       "    <tr>\n",
       "      <td>2790</td>\n",
       "      <td>0.768500</td>\n",
       "    </tr>\n",
       "    <tr>\n",
       "      <td>2800</td>\n",
       "      <td>0.609400</td>\n",
       "    </tr>\n",
       "    <tr>\n",
       "      <td>2810</td>\n",
       "      <td>0.614300</td>\n",
       "    </tr>\n",
       "    <tr>\n",
       "      <td>2820</td>\n",
       "      <td>0.604200</td>\n",
       "    </tr>\n",
       "    <tr>\n",
       "      <td>2830</td>\n",
       "      <td>0.608800</td>\n",
       "    </tr>\n",
       "    <tr>\n",
       "      <td>2840</td>\n",
       "      <td>0.638400</td>\n",
       "    </tr>\n",
       "    <tr>\n",
       "      <td>2850</td>\n",
       "      <td>0.555900</td>\n",
       "    </tr>\n",
       "    <tr>\n",
       "      <td>2860</td>\n",
       "      <td>0.529700</td>\n",
       "    </tr>\n",
       "    <tr>\n",
       "      <td>2870</td>\n",
       "      <td>0.593600</td>\n",
       "    </tr>\n",
       "    <tr>\n",
       "      <td>2880</td>\n",
       "      <td>0.612800</td>\n",
       "    </tr>\n",
       "    <tr>\n",
       "      <td>2890</td>\n",
       "      <td>0.569700</td>\n",
       "    </tr>\n",
       "    <tr>\n",
       "      <td>2900</td>\n",
       "      <td>0.733100</td>\n",
       "    </tr>\n",
       "    <tr>\n",
       "      <td>2910</td>\n",
       "      <td>0.629300</td>\n",
       "    </tr>\n",
       "    <tr>\n",
       "      <td>2920</td>\n",
       "      <td>0.608400</td>\n",
       "    </tr>\n",
       "    <tr>\n",
       "      <td>2930</td>\n",
       "      <td>0.676300</td>\n",
       "    </tr>\n",
       "    <tr>\n",
       "      <td>2940</td>\n",
       "      <td>0.627200</td>\n",
       "    </tr>\n",
       "    <tr>\n",
       "      <td>2950</td>\n",
       "      <td>0.635400</td>\n",
       "    </tr>\n",
       "    <tr>\n",
       "      <td>2960</td>\n",
       "      <td>0.573000</td>\n",
       "    </tr>\n",
       "    <tr>\n",
       "      <td>2970</td>\n",
       "      <td>0.735500</td>\n",
       "    </tr>\n",
       "    <tr>\n",
       "      <td>2980</td>\n",
       "      <td>0.606000</td>\n",
       "    </tr>\n",
       "    <tr>\n",
       "      <td>2990</td>\n",
       "      <td>0.570100</td>\n",
       "    </tr>\n",
       "    <tr>\n",
       "      <td>3000</td>\n",
       "      <td>0.635200</td>\n",
       "    </tr>\n",
       "    <tr>\n",
       "      <td>3010</td>\n",
       "      <td>0.618200</td>\n",
       "    </tr>\n",
       "    <tr>\n",
       "      <td>3020</td>\n",
       "      <td>0.555900</td>\n",
       "    </tr>\n",
       "    <tr>\n",
       "      <td>3030</td>\n",
       "      <td>0.651400</td>\n",
       "    </tr>\n",
       "    <tr>\n",
       "      <td>3040</td>\n",
       "      <td>0.538100</td>\n",
       "    </tr>\n",
       "    <tr>\n",
       "      <td>3050</td>\n",
       "      <td>0.592100</td>\n",
       "    </tr>\n",
       "    <tr>\n",
       "      <td>3060</td>\n",
       "      <td>0.619600</td>\n",
       "    </tr>\n",
       "    <tr>\n",
       "      <td>3070</td>\n",
       "      <td>0.743000</td>\n",
       "    </tr>\n",
       "    <tr>\n",
       "      <td>3080</td>\n",
       "      <td>0.594600</td>\n",
       "    </tr>\n",
       "    <tr>\n",
       "      <td>3090</td>\n",
       "      <td>0.647700</td>\n",
       "    </tr>\n",
       "    <tr>\n",
       "      <td>3100</td>\n",
       "      <td>0.532000</td>\n",
       "    </tr>\n",
       "    <tr>\n",
       "      <td>3110</td>\n",
       "      <td>0.519500</td>\n",
       "    </tr>\n",
       "    <tr>\n",
       "      <td>3120</td>\n",
       "      <td>0.567900</td>\n",
       "    </tr>\n",
       "    <tr>\n",
       "      <td>3130</td>\n",
       "      <td>0.511300</td>\n",
       "    </tr>\n",
       "    <tr>\n",
       "      <td>3140</td>\n",
       "      <td>0.718900</td>\n",
       "    </tr>\n",
       "    <tr>\n",
       "      <td>3150</td>\n",
       "      <td>0.545100</td>\n",
       "    </tr>\n",
       "    <tr>\n",
       "      <td>3160</td>\n",
       "      <td>0.598800</td>\n",
       "    </tr>\n",
       "    <tr>\n",
       "      <td>3170</td>\n",
       "      <td>0.563400</td>\n",
       "    </tr>\n",
       "    <tr>\n",
       "      <td>3180</td>\n",
       "      <td>0.589500</td>\n",
       "    </tr>\n",
       "    <tr>\n",
       "      <td>3190</td>\n",
       "      <td>0.563000</td>\n",
       "    </tr>\n",
       "    <tr>\n",
       "      <td>3200</td>\n",
       "      <td>0.644000</td>\n",
       "    </tr>\n",
       "    <tr>\n",
       "      <td>3210</td>\n",
       "      <td>0.504300</td>\n",
       "    </tr>\n",
       "    <tr>\n",
       "      <td>3220</td>\n",
       "      <td>0.630100</td>\n",
       "    </tr>\n",
       "    <tr>\n",
       "      <td>3230</td>\n",
       "      <td>0.677000</td>\n",
       "    </tr>\n",
       "    <tr>\n",
       "      <td>3240</td>\n",
       "      <td>0.638800</td>\n",
       "    </tr>\n",
       "    <tr>\n",
       "      <td>3250</td>\n",
       "      <td>0.610000</td>\n",
       "    </tr>\n",
       "    <tr>\n",
       "      <td>3260</td>\n",
       "      <td>0.516100</td>\n",
       "    </tr>\n",
       "    <tr>\n",
       "      <td>3270</td>\n",
       "      <td>0.455200</td>\n",
       "    </tr>\n",
       "    <tr>\n",
       "      <td>3280</td>\n",
       "      <td>0.529500</td>\n",
       "    </tr>\n",
       "    <tr>\n",
       "      <td>3290</td>\n",
       "      <td>0.593900</td>\n",
       "    </tr>\n",
       "    <tr>\n",
       "      <td>3300</td>\n",
       "      <td>0.598700</td>\n",
       "    </tr>\n",
       "    <tr>\n",
       "      <td>3310</td>\n",
       "      <td>0.719900</td>\n",
       "    </tr>\n",
       "    <tr>\n",
       "      <td>3320</td>\n",
       "      <td>0.655600</td>\n",
       "    </tr>\n",
       "    <tr>\n",
       "      <td>3330</td>\n",
       "      <td>0.502700</td>\n",
       "    </tr>\n",
       "    <tr>\n",
       "      <td>3340</td>\n",
       "      <td>0.548800</td>\n",
       "    </tr>\n",
       "    <tr>\n",
       "      <td>3350</td>\n",
       "      <td>0.476800</td>\n",
       "    </tr>\n",
       "    <tr>\n",
       "      <td>3360</td>\n",
       "      <td>0.540700</td>\n",
       "    </tr>\n",
       "    <tr>\n",
       "      <td>3370</td>\n",
       "      <td>0.561600</td>\n",
       "    </tr>\n",
       "    <tr>\n",
       "      <td>3380</td>\n",
       "      <td>0.552500</td>\n",
       "    </tr>\n",
       "    <tr>\n",
       "      <td>3390</td>\n",
       "      <td>0.629400</td>\n",
       "    </tr>\n",
       "    <tr>\n",
       "      <td>3400</td>\n",
       "      <td>0.666900</td>\n",
       "    </tr>\n",
       "    <tr>\n",
       "      <td>3410</td>\n",
       "      <td>0.588500</td>\n",
       "    </tr>\n",
       "    <tr>\n",
       "      <td>3420</td>\n",
       "      <td>0.589800</td>\n",
       "    </tr>\n",
       "    <tr>\n",
       "      <td>3430</td>\n",
       "      <td>0.596600</td>\n",
       "    </tr>\n",
       "    <tr>\n",
       "      <td>3440</td>\n",
       "      <td>0.623300</td>\n",
       "    </tr>\n",
       "    <tr>\n",
       "      <td>3450</td>\n",
       "      <td>0.524900</td>\n",
       "    </tr>\n",
       "    <tr>\n",
       "      <td>3460</td>\n",
       "      <td>0.566700</td>\n",
       "    </tr>\n",
       "    <tr>\n",
       "      <td>3470</td>\n",
       "      <td>0.631700</td>\n",
       "    </tr>\n",
       "    <tr>\n",
       "      <td>3480</td>\n",
       "      <td>0.517600</td>\n",
       "    </tr>\n",
       "    <tr>\n",
       "      <td>3490</td>\n",
       "      <td>0.647900</td>\n",
       "    </tr>\n",
       "    <tr>\n",
       "      <td>3500</td>\n",
       "      <td>0.564200</td>\n",
       "    </tr>\n",
       "    <tr>\n",
       "      <td>3510</td>\n",
       "      <td>0.681000</td>\n",
       "    </tr>\n",
       "    <tr>\n",
       "      <td>3520</td>\n",
       "      <td>0.562300</td>\n",
       "    </tr>\n",
       "    <tr>\n",
       "      <td>3530</td>\n",
       "      <td>0.531800</td>\n",
       "    </tr>\n",
       "    <tr>\n",
       "      <td>3540</td>\n",
       "      <td>0.572800</td>\n",
       "    </tr>\n",
       "    <tr>\n",
       "      <td>3550</td>\n",
       "      <td>0.606300</td>\n",
       "    </tr>\n",
       "    <tr>\n",
       "      <td>3560</td>\n",
       "      <td>0.557100</td>\n",
       "    </tr>\n",
       "    <tr>\n",
       "      <td>3570</td>\n",
       "      <td>0.543100</td>\n",
       "    </tr>\n",
       "    <tr>\n",
       "      <td>3580</td>\n",
       "      <td>0.560300</td>\n",
       "    </tr>\n",
       "    <tr>\n",
       "      <td>3590</td>\n",
       "      <td>0.639000</td>\n",
       "    </tr>\n",
       "    <tr>\n",
       "      <td>3600</td>\n",
       "      <td>0.727200</td>\n",
       "    </tr>\n",
       "    <tr>\n",
       "      <td>3610</td>\n",
       "      <td>0.637100</td>\n",
       "    </tr>\n",
       "    <tr>\n",
       "      <td>3620</td>\n",
       "      <td>0.580400</td>\n",
       "    </tr>\n",
       "    <tr>\n",
       "      <td>3630</td>\n",
       "      <td>0.615000</td>\n",
       "    </tr>\n",
       "    <tr>\n",
       "      <td>3640</td>\n",
       "      <td>0.621600</td>\n",
       "    </tr>\n",
       "    <tr>\n",
       "      <td>3650</td>\n",
       "      <td>0.597500</td>\n",
       "    </tr>\n",
       "    <tr>\n",
       "      <td>3660</td>\n",
       "      <td>0.660600</td>\n",
       "    </tr>\n",
       "    <tr>\n",
       "      <td>3670</td>\n",
       "      <td>0.510300</td>\n",
       "    </tr>\n",
       "    <tr>\n",
       "      <td>3680</td>\n",
       "      <td>0.623300</td>\n",
       "    </tr>\n",
       "    <tr>\n",
       "      <td>3690</td>\n",
       "      <td>0.653900</td>\n",
       "    </tr>\n",
       "    <tr>\n",
       "      <td>3700</td>\n",
       "      <td>0.555000</td>\n",
       "    </tr>\n",
       "    <tr>\n",
       "      <td>3710</td>\n",
       "      <td>0.647400</td>\n",
       "    </tr>\n",
       "    <tr>\n",
       "      <td>3720</td>\n",
       "      <td>0.690000</td>\n",
       "    </tr>\n",
       "    <tr>\n",
       "      <td>3730</td>\n",
       "      <td>0.572800</td>\n",
       "    </tr>\n",
       "    <tr>\n",
       "      <td>3740</td>\n",
       "      <td>0.646200</td>\n",
       "    </tr>\n",
       "    <tr>\n",
       "      <td>3750</td>\n",
       "      <td>0.591100</td>\n",
       "    </tr>\n",
       "    <tr>\n",
       "      <td>3760</td>\n",
       "      <td>0.525900</td>\n",
       "    </tr>\n",
       "    <tr>\n",
       "      <td>3770</td>\n",
       "      <td>0.554600</td>\n",
       "    </tr>\n",
       "    <tr>\n",
       "      <td>3780</td>\n",
       "      <td>0.628600</td>\n",
       "    </tr>\n",
       "    <tr>\n",
       "      <td>3790</td>\n",
       "      <td>0.503600</td>\n",
       "    </tr>\n",
       "    <tr>\n",
       "      <td>3800</td>\n",
       "      <td>0.534500</td>\n",
       "    </tr>\n",
       "    <tr>\n",
       "      <td>3810</td>\n",
       "      <td>0.603000</td>\n",
       "    </tr>\n",
       "    <tr>\n",
       "      <td>3820</td>\n",
       "      <td>0.575600</td>\n",
       "    </tr>\n",
       "    <tr>\n",
       "      <td>3830</td>\n",
       "      <td>0.616900</td>\n",
       "    </tr>\n",
       "    <tr>\n",
       "      <td>3840</td>\n",
       "      <td>0.624300</td>\n",
       "    </tr>\n",
       "    <tr>\n",
       "      <td>3850</td>\n",
       "      <td>0.669100</td>\n",
       "    </tr>\n",
       "    <tr>\n",
       "      <td>3860</td>\n",
       "      <td>0.515500</td>\n",
       "    </tr>\n",
       "    <tr>\n",
       "      <td>3870</td>\n",
       "      <td>0.579500</td>\n",
       "    </tr>\n",
       "    <tr>\n",
       "      <td>3880</td>\n",
       "      <td>0.565900</td>\n",
       "    </tr>\n",
       "    <tr>\n",
       "      <td>3890</td>\n",
       "      <td>0.483400</td>\n",
       "    </tr>\n",
       "    <tr>\n",
       "      <td>3900</td>\n",
       "      <td>0.686500</td>\n",
       "    </tr>\n",
       "    <tr>\n",
       "      <td>3910</td>\n",
       "      <td>0.494100</td>\n",
       "    </tr>\n",
       "    <tr>\n",
       "      <td>3920</td>\n",
       "      <td>0.602100</td>\n",
       "    </tr>\n",
       "    <tr>\n",
       "      <td>3930</td>\n",
       "      <td>0.640000</td>\n",
       "    </tr>\n",
       "    <tr>\n",
       "      <td>3940</td>\n",
       "      <td>0.580900</td>\n",
       "    </tr>\n",
       "    <tr>\n",
       "      <td>3950</td>\n",
       "      <td>0.642800</td>\n",
       "    </tr>\n",
       "    <tr>\n",
       "      <td>3960</td>\n",
       "      <td>0.587900</td>\n",
       "    </tr>\n",
       "    <tr>\n",
       "      <td>3970</td>\n",
       "      <td>0.589900</td>\n",
       "    </tr>\n",
       "    <tr>\n",
       "      <td>3980</td>\n",
       "      <td>0.552900</td>\n",
       "    </tr>\n",
       "    <tr>\n",
       "      <td>3990</td>\n",
       "      <td>0.526400</td>\n",
       "    </tr>\n",
       "    <tr>\n",
       "      <td>4000</td>\n",
       "      <td>0.622200</td>\n",
       "    </tr>\n",
       "    <tr>\n",
       "      <td>4010</td>\n",
       "      <td>0.512700</td>\n",
       "    </tr>\n",
       "    <tr>\n",
       "      <td>4020</td>\n",
       "      <td>0.693400</td>\n",
       "    </tr>\n",
       "    <tr>\n",
       "      <td>4030</td>\n",
       "      <td>0.497000</td>\n",
       "    </tr>\n",
       "    <tr>\n",
       "      <td>4040</td>\n",
       "      <td>0.526100</td>\n",
       "    </tr>\n",
       "    <tr>\n",
       "      <td>4050</td>\n",
       "      <td>0.576800</td>\n",
       "    </tr>\n",
       "    <tr>\n",
       "      <td>4060</td>\n",
       "      <td>0.520400</td>\n",
       "    </tr>\n",
       "    <tr>\n",
       "      <td>4070</td>\n",
       "      <td>0.586800</td>\n",
       "    </tr>\n",
       "    <tr>\n",
       "      <td>4080</td>\n",
       "      <td>0.526100</td>\n",
       "    </tr>\n",
       "    <tr>\n",
       "      <td>4090</td>\n",
       "      <td>0.680400</td>\n",
       "    </tr>\n",
       "    <tr>\n",
       "      <td>4100</td>\n",
       "      <td>0.636900</td>\n",
       "    </tr>\n",
       "    <tr>\n",
       "      <td>4110</td>\n",
       "      <td>0.580300</td>\n",
       "    </tr>\n",
       "    <tr>\n",
       "      <td>4120</td>\n",
       "      <td>0.569300</td>\n",
       "    </tr>\n",
       "    <tr>\n",
       "      <td>4130</td>\n",
       "      <td>0.577300</td>\n",
       "    </tr>\n",
       "    <tr>\n",
       "      <td>4140</td>\n",
       "      <td>0.578800</td>\n",
       "    </tr>\n",
       "    <tr>\n",
       "      <td>4150</td>\n",
       "      <td>0.612800</td>\n",
       "    </tr>\n",
       "    <tr>\n",
       "      <td>4160</td>\n",
       "      <td>0.588900</td>\n",
       "    </tr>\n",
       "    <tr>\n",
       "      <td>4170</td>\n",
       "      <td>0.629800</td>\n",
       "    </tr>\n",
       "    <tr>\n",
       "      <td>4180</td>\n",
       "      <td>0.639000</td>\n",
       "    </tr>\n",
       "    <tr>\n",
       "      <td>4190</td>\n",
       "      <td>0.601500</td>\n",
       "    </tr>\n",
       "    <tr>\n",
       "      <td>4200</td>\n",
       "      <td>0.552900</td>\n",
       "    </tr>\n",
       "    <tr>\n",
       "      <td>4210</td>\n",
       "      <td>0.579200</td>\n",
       "    </tr>\n",
       "    <tr>\n",
       "      <td>4220</td>\n",
       "      <td>0.610900</td>\n",
       "    </tr>\n",
       "    <tr>\n",
       "      <td>4230</td>\n",
       "      <td>0.562400</td>\n",
       "    </tr>\n",
       "    <tr>\n",
       "      <td>4240</td>\n",
       "      <td>0.663800</td>\n",
       "    </tr>\n",
       "    <tr>\n",
       "      <td>4250</td>\n",
       "      <td>0.619600</td>\n",
       "    </tr>\n",
       "    <tr>\n",
       "      <td>4260</td>\n",
       "      <td>0.673300</td>\n",
       "    </tr>\n",
       "    <tr>\n",
       "      <td>4270</td>\n",
       "      <td>0.614800</td>\n",
       "    </tr>\n",
       "    <tr>\n",
       "      <td>4280</td>\n",
       "      <td>0.638700</td>\n",
       "    </tr>\n",
       "    <tr>\n",
       "      <td>4290</td>\n",
       "      <td>0.581900</td>\n",
       "    </tr>\n",
       "    <tr>\n",
       "      <td>4300</td>\n",
       "      <td>0.630200</td>\n",
       "    </tr>\n",
       "    <tr>\n",
       "      <td>4310</td>\n",
       "      <td>0.578700</td>\n",
       "    </tr>\n",
       "    <tr>\n",
       "      <td>4320</td>\n",
       "      <td>0.581700</td>\n",
       "    </tr>\n",
       "    <tr>\n",
       "      <td>4330</td>\n",
       "      <td>0.492600</td>\n",
       "    </tr>\n",
       "    <tr>\n",
       "      <td>4340</td>\n",
       "      <td>0.639200</td>\n",
       "    </tr>\n",
       "    <tr>\n",
       "      <td>4350</td>\n",
       "      <td>0.621500</td>\n",
       "    </tr>\n",
       "    <tr>\n",
       "      <td>4360</td>\n",
       "      <td>0.691000</td>\n",
       "    </tr>\n",
       "    <tr>\n",
       "      <td>4370</td>\n",
       "      <td>0.469500</td>\n",
       "    </tr>\n",
       "    <tr>\n",
       "      <td>4380</td>\n",
       "      <td>0.564400</td>\n",
       "    </tr>\n",
       "  </tbody>\n",
       "</table><p>"
      ],
      "text/plain": [
       "<IPython.core.display.HTML object>"
      ]
     },
     "metadata": {},
     "output_type": "display_data"
    },
    {
     "name": "stderr",
     "output_type": "stream",
     "text": [
      "Saving model checkpoint to ./results\\checkpoint-500\n",
      "Configuration saved in ./results\\checkpoint-500\\config.json\n",
      "Model weights saved in ./results\\checkpoint-500\\pytorch_model.bin\n",
      "C:\\Users\\2151399\\AppData\\Local\\Temp\\2\\ipykernel_76\\2751264945.py:7: UserWarning: To copy construct from a tensor, it is recommended to use sourceTensor.clone().detach() or sourceTensor.clone().detach().requires_grad_(True), rather than torch.tensor(sourceTensor).\n",
      "  item = {key: pt.tensor(val[idx]) for key, val in self.encodings.items()}\n",
      "Saving model checkpoint to ./results\\checkpoint-1000\n",
      "Configuration saved in ./results\\checkpoint-1000\\config.json\n",
      "Model weights saved in ./results\\checkpoint-1000\\pytorch_model.bin\n",
      "C:\\Users\\2151399\\AppData\\Local\\Temp\\2\\ipykernel_76\\2751264945.py:7: UserWarning: To copy construct from a tensor, it is recommended to use sourceTensor.clone().detach() or sourceTensor.clone().detach().requires_grad_(True), rather than torch.tensor(sourceTensor).\n",
      "  item = {key: pt.tensor(val[idx]) for key, val in self.encodings.items()}\n",
      "Saving model checkpoint to ./results\\checkpoint-1500\n",
      "Configuration saved in ./results\\checkpoint-1500\\config.json\n",
      "Model weights saved in ./results\\checkpoint-1500\\pytorch_model.bin\n",
      "C:\\Users\\2151399\\AppData\\Local\\Temp\\2\\ipykernel_76\\2751264945.py:7: UserWarning: To copy construct from a tensor, it is recommended to use sourceTensor.clone().detach() or sourceTensor.clone().detach().requires_grad_(True), rather than torch.tensor(sourceTensor).\n",
      "  item = {key: pt.tensor(val[idx]) for key, val in self.encodings.items()}\n",
      "Saving model checkpoint to ./results\\checkpoint-2000\n",
      "Configuration saved in ./results\\checkpoint-2000\\config.json\n",
      "Model weights saved in ./results\\checkpoint-2000\\pytorch_model.bin\n",
      "C:\\Users\\2151399\\AppData\\Local\\Temp\\2\\ipykernel_76\\2751264945.py:7: UserWarning: To copy construct from a tensor, it is recommended to use sourceTensor.clone().detach() or sourceTensor.clone().detach().requires_grad_(True), rather than torch.tensor(sourceTensor).\n",
      "  item = {key: pt.tensor(val[idx]) for key, val in self.encodings.items()}\n",
      "Saving model checkpoint to ./results\\checkpoint-2500\n",
      "Configuration saved in ./results\\checkpoint-2500\\config.json\n",
      "Model weights saved in ./results\\checkpoint-2500\\pytorch_model.bin\n",
      "C:\\Users\\2151399\\AppData\\Local\\Temp\\2\\ipykernel_76\\2751264945.py:7: UserWarning: To copy construct from a tensor, it is recommended to use sourceTensor.clone().detach() or sourceTensor.clone().detach().requires_grad_(True), rather than torch.tensor(sourceTensor).\n",
      "  item = {key: pt.tensor(val[idx]) for key, val in self.encodings.items()}\n",
      "Saving model checkpoint to ./results\\checkpoint-3000\n",
      "Configuration saved in ./results\\checkpoint-3000\\config.json\n",
      "Model weights saved in ./results\\checkpoint-3000\\pytorch_model.bin\n",
      "C:\\Users\\2151399\\AppData\\Local\\Temp\\2\\ipykernel_76\\2751264945.py:7: UserWarning: To copy construct from a tensor, it is recommended to use sourceTensor.clone().detach() or sourceTensor.clone().detach().requires_grad_(True), rather than torch.tensor(sourceTensor).\n",
      "  item = {key: pt.tensor(val[idx]) for key, val in self.encodings.items()}\n",
      "Saving model checkpoint to ./results\\checkpoint-3500\n",
      "Configuration saved in ./results\\checkpoint-3500\\config.json\n",
      "Model weights saved in ./results\\checkpoint-3500\\pytorch_model.bin\n",
      "C:\\Users\\2151399\\AppData\\Local\\Temp\\2\\ipykernel_76\\2751264945.py:7: UserWarning: To copy construct from a tensor, it is recommended to use sourceTensor.clone().detach() or sourceTensor.clone().detach().requires_grad_(True), rather than torch.tensor(sourceTensor).\n",
      "  item = {key: pt.tensor(val[idx]) for key, val in self.encodings.items()}\n",
      "Saving model checkpoint to ./results\\checkpoint-4000\n",
      "Configuration saved in ./results\\checkpoint-4000\\config.json\n",
      "Model weights saved in ./results\\checkpoint-4000\\pytorch_model.bin\n",
      "C:\\Users\\2151399\\AppData\\Local\\Temp\\2\\ipykernel_76\\2751264945.py:7: UserWarning: To copy construct from a tensor, it is recommended to use sourceTensor.clone().detach() or sourceTensor.clone().detach().requires_grad_(True), rather than torch.tensor(sourceTensor).\n",
      "  item = {key: pt.tensor(val[idx]) for key, val in self.encodings.items()}\n",
      "\n",
      "\n",
      "Training completed. Do not forget to share your model on huggingface.co/models =)\n",
      "\n",
      "\n"
     ]
    },
    {
     "data": {
      "text/plain": [
       "TrainOutput(global_step=4382, training_loss=0.7005071955856695, metrics={'train_runtime': 484517.5405, 'train_samples_per_second': 0.145, 'train_steps_per_second': 0.009, 'total_flos': 9284540610650112.0, 'train_loss': 0.7005071955856695, 'epoch': 2.0})"
      ]
     },
     "execution_count": 31,
     "metadata": {},
     "output_type": "execute_result"
    }
   ],
   "source": [
    "trainer.train()"
   ]
  },
  {
   "cell_type": "code",
   "execution_count": 32,
   "id": "9eefafaf",
   "metadata": {
    "scrolled": false
   },
   "outputs": [
    {
     "name": "stderr",
     "output_type": "stream",
     "text": [
      "***** Running Evaluation *****\n",
      "  Num examples = 8762\n",
      "  Batch size = 64\n",
      "C:\\Users\\2151399\\AppData\\Local\\Temp\\2\\ipykernel_76\\2751264945.py:7: UserWarning: To copy construct from a tensor, it is recommended to use sourceTensor.clone().detach() or sourceTensor.clone().detach().requires_grad_(True), rather than torch.tensor(sourceTensor).\n",
      "  item = {key: pt.tensor(val[idx]) for key, val in self.encodings.items()}\n"
     ]
    },
    {
     "data": {
      "text/html": [],
      "text/plain": [
       "<IPython.core.display.HTML object>"
      ]
     },
     "metadata": {},
     "output_type": "display_data"
    },
    {
     "data": {
      "text/plain": [
       "{'eval_loss': 0.6982564926147461,\n",
       " 'eval_runtime': 20889.3038,\n",
       " 'eval_samples_per_second': 0.419,\n",
       " 'eval_steps_per_second': 0.007,\n",
       " 'epoch': 2.0}"
      ]
     },
     "execution_count": 32,
     "metadata": {},
     "output_type": "execute_result"
    }
   ],
   "source": [
    "trainer.evaluate(test_dataset)"
   ]
  },
  {
   "cell_type": "code",
   "execution_count": 33,
   "id": "3a0332e3",
   "metadata": {
    "scrolled": true
   },
   "outputs": [
    {
     "name": "stderr",
     "output_type": "stream",
     "text": [
      "***** Running Prediction *****\n",
      "  Num examples = 8762\n",
      "  Batch size = 64\n",
      "C:\\Users\\2151399\\AppData\\Local\\Temp\\2\\ipykernel_76\\2751264945.py:7: UserWarning: To copy construct from a tensor, it is recommended to use sourceTensor.clone().detach() or sourceTensor.clone().detach().requires_grad_(True), rather than torch.tensor(sourceTensor).\n",
      "  item = {key: pt.tensor(val[idx]) for key, val in self.encodings.items()}\n"
     ]
    },
    {
     "data": {
      "text/plain": [
       "PredictionOutput(predictions=array([[-2.3656998 , -0.2982105 ,  2.6687863 ],\n",
       "       [-0.4199053 ,  1.0842927 , -0.81636786],\n",
       "       [ 2.4379342 , -0.17976233, -2.0433307 ],\n",
       "       ...,\n",
       "       [-2.6179338 , -0.11420102,  2.647622  ],\n",
       "       [-2.4901528 ,  0.28442404,  2.1261733 ],\n",
       "       [ 1.410148  ,  0.5757089 , -1.8921527 ]], dtype=float32), label_ids=array([2, 1, 0, ..., 2, 1, 0], dtype=int64), metrics={'test_loss': 0.6982564926147461, 'test_runtime': 21016.3216, 'test_samples_per_second': 0.417, 'test_steps_per_second': 0.007})"
      ]
     },
     "execution_count": 33,
     "metadata": {},
     "output_type": "execute_result"
    }
   ],
   "source": [
    "trainer.predict(test_dataset)"
   ]
  },
  {
   "cell_type": "code",
   "execution_count": 34,
   "id": "9fb35979",
   "metadata": {
    "scrolled": true
   },
   "outputs": [],
   "source": [
    "#trainer.predict(test_dataset)[0]"
   ]
  },
  {
   "cell_type": "code",
   "execution_count": 34,
   "id": "bb8e8437",
   "metadata": {},
   "outputs": [
    {
     "name": "stderr",
     "output_type": "stream",
     "text": [
      "***** Running Prediction *****\n",
      "  Num examples = 8762\n",
      "  Batch size = 64\n",
      "C:\\Users\\2151399\\AppData\\Local\\Temp\\2\\ipykernel_76\\2751264945.py:7: UserWarning: To copy construct from a tensor, it is recommended to use sourceTensor.clone().detach() or sourceTensor.clone().detach().requires_grad_(True), rather than torch.tensor(sourceTensor).\n",
      "  item = {key: pt.tensor(val[idx]) for key, val in self.encodings.items()}\n"
     ]
    },
    {
     "data": {
      "text/html": [],
      "text/plain": [
       "<IPython.core.display.HTML object>"
      ]
     },
     "metadata": {},
     "output_type": "display_data"
    },
    {
     "data": {
      "text/plain": [
       "array([2, 1, 0, ..., 2, 2, 0], dtype=int64)"
      ]
     },
     "execution_count": 34,
     "metadata": {},
     "output_type": "execute_result"
    }
   ],
   "source": [
    "output=trainer.predict(test_dataset)[0]\n",
    "outputt=np.argmax(output,axis=1)\n",
    "outputt\n"
   ]
  },
  {
   "cell_type": "code",
   "execution_count": 35,
   "id": "cac4670e",
   "metadata": {},
   "outputs": [],
   "source": [
    "def Probability(output, prediction):\n",
    "    proba = softmax(torch.from_numpy(output.predictions))\n",
    "    perc = 0\n",
    "    if prediction == -1:\n",
    "        perc = (proba[0][0] + proba[0][1]) * 100;\n",
    "    elif prediction == 0:\n",
    "        perc = (proba[0][1] + proba[0][2]) * 100;\n",
    "    else:\n",
    "        perc = (proba[0][1] + proba[0][2]) * 100;\n",
    "        \n",
    "    percen = str(perc)\n",
    "    finalOutput = percen[7] + percen[8] + \".\" + percen[8] + percen[8] + \" \" +\"%\"\n",
    "    return finalOutput;"
   ]
  },
  {
   "cell_type": "code",
   "execution_count": 36,
   "id": "047619a2",
   "metadata": {
    "scrolled": true
   },
   "outputs": [
    {
     "data": {
      "text/plain": [
       "array([[2158,  669,  113],\n",
       "       [ 441, 1933,  553],\n",
       "       [ 122,  653, 2120]], dtype=int64)"
      ]
     },
     "execution_count": 36,
     "metadata": {},
     "output_type": "execute_result"
    }
   ],
   "source": [
    "from sklearn.metrics import confusion_matrix\n",
    "\n",
    "cm=confusion_matrix(y_test,outputt)\n",
    "cm"
   ]
  },
  {
   "cell_type": "code",
   "execution_count": 37,
   "id": "0939ec6a",
   "metadata": {},
   "outputs": [
    {
     "data": {
      "text/plain": [
       "<AxesSubplot:>"
      ]
     },
     "execution_count": 37,
     "metadata": {},
     "output_type": "execute_result"
    },
    {
     "data": {
      "image/png": "[encoded data removed]",
      "text/plain": [
       "<Figure size 432x288 with 2 Axes>"
      ]
     },
     "metadata": {
      "needs_background": "light"
     },
     "output_type": "display_data"
    }
   ],
   "source": [
    "sns.heatmap(cm, annot=True,fmt=\"d\")  "
   ]
  },
  {
   "cell_type": "raw",
   "id": "c5a2e46a",
   "metadata": {},
   "source": [
    "trainer.save_model('senti_model')"
   ]
  },
  {
   "cell_type": "code",
   "execution_count": 38,
   "id": "240ea1cb",
   "metadata": {},
   "outputs": [
    {
     "name": "stdout",
     "output_type": "stream",
     "text": [
      "              precision    recall  f1-score   support\n",
      "\n",
      "           0       0.79      0.73      0.76      2940\n",
      "           1       0.59      0.66      0.63      2927\n",
      "           2       0.76      0.73      0.75      2895\n",
      "\n",
      "    accuracy                           0.71      8762\n",
      "   macro avg       0.72      0.71      0.71      8762\n",
      "weighted avg       0.72      0.71      0.71      8762\n",
      "\n"
     ]
    }
   ],
   "source": [
    "from sklearn.metrics import classification_report\n",
    "\n",
    "print(classification_report(y_test, outputt))"
   ]
  },
  {
   "cell_type": "code",
   "execution_count": 39,
   "id": "343941ff",
   "metadata": {},
   "outputs": [
    {
     "name": "stderr",
     "output_type": "stream",
     "text": [
      "Saving model checkpoint to CSAT_senti_model\n",
      "Configuration saved in CSAT_senti_model\\config.json\n",
      "Model weights saved in CSAT_senti_model\\pytorch_model.bin\n"
     ]
    }
   ],
   "source": [
    "trainer.save_model('CSAT_senti_model')"
   ]
  },
  {
   "cell_type": "code",
   "execution_count": 42,
   "id": "def0d214",
   "metadata": {},
   "outputs": [
    {
     "name": "stderr",
     "output_type": "stream",
     "text": [
      "tokenizer config file saved in C:\\Users\\2151399\\OneDrive - Cognizant\\Desktop\\nlp_project\\CSAT_senti_model\\tokenizer_config.json\n",
      "Special tokens file saved in C:\\Users\\2151399\\OneDrive - Cognizant\\Desktop\\nlp_project\\CSAT_senti_model\\special_tokens_map.json\n"
     ]
    },
    {
     "data": {
      "text/plain": [
       "('C:\\\\Users\\\\2151399\\\\OneDrive - Cognizant\\\\Desktop\\\\nlp_project\\\\CSAT_senti_model\\\\tokenizer_config.json',\n",
       " 'C:\\\\Users\\\\2151399\\\\OneDrive - Cognizant\\\\Desktop\\\\nlp_project\\\\CSAT_senti_model\\\\special_tokens_map.json',\n",
       " 'C:\\\\Users\\\\2151399\\\\OneDrive - Cognizant\\\\Desktop\\\\nlp_project\\\\CSAT_senti_model\\\\vocab.txt',\n",
       " 'C:\\\\Users\\\\2151399\\\\OneDrive - Cognizant\\\\Desktop\\\\nlp_project\\\\CSAT_senti_model\\\\added_tokens.json',\n",
       " 'C:\\\\Users\\\\2151399\\\\OneDrive - Cognizant\\\\Desktop\\\\nlp_project\\\\CSAT_senti_model\\\\tokenizer.json')"
      ]
     },
     "execution_count": 42,
     "metadata": {},
     "output_type": "execute_result"
    }
   ],
   "source": [
    "tokenizer.save_pretrained(\"C:\\\\Users\\\\2151399\\\\OneDrive - Cognizant\\\\Desktop\\\\nlp_project\\\\CSAT_senti_model\")"
   ]
  },
  {
   "cell_type": "code",
   "execution_count": 46,
   "id": "b4b8e694",
   "metadata": {},
   "outputs": [
    {
     "name": "stderr",
     "output_type": "stream",
     "text": [
      "Configuration saved in C:\\Users\\2151399\\OneDrive - Cognizant\\Desktop\\nlp_project\\CSAT_senti_model\\config.json\n",
      "Model weights saved in C:\\Users\\2151399\\OneDrive - Cognizant\\Desktop\\nlp_project\\CSAT_senti_model\\pytorch_model.bin\n"
     ]
    }
   ],
   "source": [
    "model.save_pretrained(\"C:\\\\Users\\\\2151399\\\\OneDrive - Cognizant\\\\Desktop\\\\nlp_project\\\\CSAT_senti_model\")"
   ]
  },
  {
   "cell_type": "code",
   "execution_count": 45,
   "id": "0aef84e8",
   "metadata": {
    "scrolled": false
   },
   "outputs": [
    {
     "name": "stderr",
     "output_type": "stream",
     "text": [
      "C:\\Users\\2151399\\Anaconda3\\lib\\site-packages\\gradio\\blocks.py:675: UserWarning: api_name predict already exists, using predict_1\n",
      "  warnings.warn(\n"
     ]
    },
    {
     "name": "stdout",
     "output_type": "stream",
     "text": [
      "Running on local URL:  http://127.0.0.1:7862\n",
      "\n",
      "To create a public link, set `share=True` in `launch()`.\n"
     ]
    },
    {
     "data": {
      "text/html": [
       "<div><iframe src=\"http://127.0.0.1:7862/\" width=\"100%\" height=\"500\" allow=\"autoplay; camera; microphone; clipboard-read; clipboard-write;\" frameborder=\"0\" allowfullscreen></iframe></div>"
      ],
      "text/plain": [
       "<IPython.core.display.HTML object>"
      ]
     },
     "metadata": {},
     "output_type": "display_data"
    },
    {
     "name": "stderr",
     "output_type": "stream",
     "text": [
      "***** Running Prediction *****\n",
      "  Num examples = 1\n",
      "  Batch size = 64\n",
      "C:\\Users\\2151399\\AppData\\Local\\Temp\\2\\ipykernel_76\\2751264945.py:7: UserWarning: To copy construct from a tensor, it is recommended to use sourceTensor.clone().detach() or sourceTensor.clone().detach().requires_grad_(True), rather than torch.tensor(sourceTensor).\n",
      "  item = {key: pt.tensor(val[idx]) for key, val in self.encodings.items()}\n"
     ]
    },
    {
     "data": {
      "text/html": [],
      "text/plain": [
       "<IPython.core.display.HTML object>"
      ]
     },
     "metadata": {},
     "output_type": "display_data"
    },
    {
     "name": "stderr",
     "output_type": "stream",
     "text": [
      "C:\\Users\\2151399\\AppData\\Local\\Temp\\2\\ipykernel_76\\4262460701.py:2: UserWarning: Implicit dimension choice for softmax has been deprecated. Change the call to include dim=X as an argument.\n",
      "  proba = softmax(torch.from_numpy(output.predictions))\n",
      "***** Running Prediction *****\n",
      "  Num examples = 1\n",
      "  Batch size = 64\n"
     ]
    },
    {
     "data": {
      "text/html": [],
      "text/plain": [
       "<IPython.core.display.HTML object>"
      ]
     },
     "metadata": {},
     "output_type": "display_data"
    },
    {
     "name": "stderr",
     "output_type": "stream",
     "text": [
      "***** Running Prediction *****\n",
      "  Num examples = 1\n",
      "  Batch size = 64\n"
     ]
    },
    {
     "data": {
      "text/html": [],
      "text/plain": [
       "<IPython.core.display.HTML object>"
      ]
     },
     "metadata": {},
     "output_type": "display_data"
    },
    {
     "name": "stderr",
     "output_type": "stream",
     "text": [
      "***** Running Prediction *****\n",
      "  Num examples = 1\n",
      "  Batch size = 64\n"
     ]
    },
    {
     "data": {
      "text/html": [],
      "text/plain": [
       "<IPython.core.display.HTML object>"
      ]
     },
     "metadata": {},
     "output_type": "display_data"
    },
    {
     "name": "stderr",
     "output_type": "stream",
     "text": [
      "***** Running Prediction *****\n",
      "  Num examples = 1\n",
      "  Batch size = 64\n"
     ]
    },
    {
     "data": {
      "text/html": [],
      "text/plain": [
       "<IPython.core.display.HTML object>"
      ]
     },
     "metadata": {},
     "output_type": "display_data"
    },
    {
     "name": "stderr",
     "output_type": "stream",
     "text": [
      "***** Running Prediction *****\n",
      "  Num examples = 1\n",
      "  Batch size = 64\n"
     ]
    },
    {
     "data": {
      "text/html": [],
      "text/plain": [
       "<IPython.core.display.HTML object>"
      ]
     },
     "metadata": {},
     "output_type": "display_data"
    },
    {
     "name": "stderr",
     "output_type": "stream",
     "text": [
      "***** Running Prediction *****\n",
      "  Num examples = 1\n",
      "  Batch size = 64\n"
     ]
    },
    {
     "data": {
      "text/html": [],
      "text/plain": [
       "<IPython.core.display.HTML object>"
      ]
     },
     "metadata": {},
     "output_type": "display_data"
    },
    {
     "name": "stderr",
     "output_type": "stream",
     "text": [
      "***** Running Prediction *****\n",
      "  Num examples = 1\n",
      "  Batch size = 64\n"
     ]
    },
    {
     "data": {
      "text/html": [],
      "text/plain": [
       "<IPython.core.display.HTML object>"
      ]
     },
     "metadata": {},
     "output_type": "display_data"
    },
    {
     "name": "stderr",
     "output_type": "stream",
     "text": [
      "***** Running Prediction *****\n",
      "  Num examples = 1\n",
      "  Batch size = 64\n"
     ]
    },
    {
     "data": {
      "text/html": [],
      "text/plain": [
       "<IPython.core.display.HTML object>"
      ]
     },
     "metadata": {},
     "output_type": "display_data"
    },
    {
     "name": "stderr",
     "output_type": "stream",
     "text": [
      "***** Running Prediction *****\n",
      "  Num examples = 1\n",
      "  Batch size = 64\n"
     ]
    },
    {
     "data": {
      "text/html": [],
      "text/plain": [
       "<IPython.core.display.HTML object>"
      ]
     },
     "metadata": {},
     "output_type": "display_data"
    },
    {
     "name": "stderr",
     "output_type": "stream",
     "text": [
      "***** Running Prediction *****\n",
      "  Num examples = 1\n",
      "  Batch size = 64\n"
     ]
    },
    {
     "data": {
      "text/html": [],
      "text/plain": [
       "<IPython.core.display.HTML object>"
      ]
     },
     "metadata": {},
     "output_type": "display_data"
    },
    {
     "name": "stderr",
     "output_type": "stream",
     "text": [
      "***** Running Prediction *****\n",
      "  Num examples = 1\n",
      "  Batch size = 64\n"
     ]
    },
    {
     "data": {
      "text/html": [],
      "text/plain": [
       "<IPython.core.display.HTML object>"
      ]
     },
     "metadata": {},
     "output_type": "display_data"
    },
    {
     "name": "stderr",
     "output_type": "stream",
     "text": [
      "***** Running Prediction *****\n",
      "  Num examples = 1\n",
      "  Batch size = 64\n"
     ]
    },
    {
     "data": {
      "text/html": [],
      "text/plain": [
       "<IPython.core.display.HTML object>"
      ]
     },
     "metadata": {},
     "output_type": "display_data"
    },
    {
     "name": "stderr",
     "output_type": "stream",
     "text": [
      "***** Running Prediction *****\n",
      "  Num examples = 1\n",
      "  Batch size = 64\n"
     ]
    },
    {
     "data": {
      "text/html": [],
      "text/plain": [
       "<IPython.core.display.HTML object>"
      ]
     },
     "metadata": {},
     "output_type": "display_data"
    },
    {
     "name": "stderr",
     "output_type": "stream",
     "text": [
      "***** Running Prediction *****\n",
      "  Num examples = 1\n",
      "  Batch size = 64\n"
     ]
    },
    {
     "data": {
      "text/html": [],
      "text/plain": [
       "<IPython.core.display.HTML object>"
      ]
     },
     "metadata": {},
     "output_type": "display_data"
    },
    {
     "name": "stderr",
     "output_type": "stream",
     "text": [
      "***** Running Prediction *****\n",
      "  Num examples = 1\n",
      "  Batch size = 64\n"
     ]
    },
    {
     "data": {
      "text/html": [],
      "text/plain": [
       "<IPython.core.display.HTML object>"
      ]
     },
     "metadata": {},
     "output_type": "display_data"
    },
    {
     "name": "stderr",
     "output_type": "stream",
     "text": [
      "***** Running Prediction *****\n",
      "  Num examples = 1\n",
      "  Batch size = 64\n"
     ]
    },
    {
     "data": {
      "text/html": [],
      "text/plain": [
       "<IPython.core.display.HTML object>"
      ]
     },
     "metadata": {},
     "output_type": "display_data"
    },
    {
     "name": "stderr",
     "output_type": "stream",
     "text": [
      "***** Running Prediction *****\n",
      "  Num examples = 1\n",
      "  Batch size = 64\n"
     ]
    },
    {
     "data": {
      "text/html": [],
      "text/plain": [
       "<IPython.core.display.HTML object>"
      ]
     },
     "metadata": {},
     "output_type": "display_data"
    },
    {
     "name": "stderr",
     "output_type": "stream",
     "text": [
      "***** Running Prediction *****\n",
      "  Num examples = 1\n",
      "  Batch size = 64\n"
     ]
    },
    {
     "data": {
      "text/html": [],
      "text/plain": [
       "<IPython.core.display.HTML object>"
      ]
     },
     "metadata": {},
     "output_type": "display_data"
    },
    {
     "name": "stderr",
     "output_type": "stream",
     "text": [
      "***** Running Prediction *****\n",
      "  Num examples = 1\n",
      "  Batch size = 64\n"
     ]
    },
    {
     "data": {
      "text/html": [],
      "text/plain": [
       "<IPython.core.display.HTML object>"
      ]
     },
     "metadata": {},
     "output_type": "display_data"
    },
    {
     "name": "stderr",
     "output_type": "stream",
     "text": [
      "***** Running Prediction *****\n",
      "  Num examples = 1\n",
      "  Batch size = 64\n"
     ]
    },
    {
     "data": {
      "text/html": [],
      "text/plain": [
       "<IPython.core.display.HTML object>"
      ]
     },
     "metadata": {},
     "output_type": "display_data"
    },
    {
     "name": "stderr",
     "output_type": "stream",
     "text": [
      "***** Running Prediction *****\n",
      "  Num examples = 1\n",
      "  Batch size = 64\n"
     ]
    },
    {
     "data": {
      "text/html": [],
      "text/plain": [
       "<IPython.core.display.HTML object>"
      ]
     },
     "metadata": {},
     "output_type": "display_data"
    },
    {
     "name": "stderr",
     "output_type": "stream",
     "text": [
      "***** Running Prediction *****\n",
      "  Num examples = 1\n",
      "  Batch size = 64\n"
     ]
    },
    {
     "data": {
      "text/html": [],
      "text/plain": [
       "<IPython.core.display.HTML object>"
      ]
     },
     "metadata": {},
     "output_type": "display_data"
    },
    {
     "name": "stderr",
     "output_type": "stream",
     "text": [
      "***** Running Prediction *****\n",
      "  Num examples = 1\n",
      "  Batch size = 64\n"
     ]
    },
    {
     "data": {
      "text/html": [],
      "text/plain": [
       "<IPython.core.display.HTML object>"
      ]
     },
     "metadata": {},
     "output_type": "display_data"
    },
    {
     "name": "stderr",
     "output_type": "stream",
     "text": [
      "***** Running Prediction *****\n",
      "  Num examples = 1\n",
      "  Batch size = 64\n"
     ]
    },
    {
     "data": {
      "text/html": [],
      "text/plain": [
       "<IPython.core.display.HTML object>"
      ]
     },
     "metadata": {},
     "output_type": "display_data"
    },
    {
     "name": "stderr",
     "output_type": "stream",
     "text": [
      "***** Running Prediction *****\n",
      "  Num examples = 1\n",
      "  Batch size = 64\n"
     ]
    },
    {
     "data": {
      "text/html": [],
      "text/plain": [
       "<IPython.core.display.HTML object>"
      ]
     },
     "metadata": {},
     "output_type": "display_data"
    },
    {
     "name": "stderr",
     "output_type": "stream",
     "text": [
      "***** Running Prediction *****\n",
      "  Num examples = 1\n",
      "  Batch size = 64\n"
     ]
    },
    {
     "data": {
      "text/html": [],
      "text/plain": [
       "<IPython.core.display.HTML object>"
      ]
     },
     "metadata": {},
     "output_type": "display_data"
    },
    {
     "name": "stderr",
     "output_type": "stream",
     "text": [
      "***** Running Prediction *****\n",
      "  Num examples = 1\n",
      "  Batch size = 64\n"
     ]
    },
    {
     "data": {
      "text/html": [],
      "text/plain": [
       "<IPython.core.display.HTML object>"
      ]
     },
     "metadata": {},
     "output_type": "display_data"
    },
    {
     "name": "stderr",
     "output_type": "stream",
     "text": [
      "***** Running Prediction *****\n",
      "  Num examples = 1\n",
      "  Batch size = 64\n"
     ]
    },
    {
     "data": {
      "text/html": [],
      "text/plain": [
       "<IPython.core.display.HTML object>"
      ]
     },
     "metadata": {},
     "output_type": "display_data"
    },
    {
     "name": "stderr",
     "output_type": "stream",
     "text": [
      "***** Running Prediction *****\n",
      "  Num examples = 1\n",
      "  Batch size = 64\n"
     ]
    },
    {
     "data": {
      "text/html": [],
      "text/plain": [
       "<IPython.core.display.HTML object>"
      ]
     },
     "metadata": {},
     "output_type": "display_data"
    },
    {
     "name": "stderr",
     "output_type": "stream",
     "text": [
      "***** Running Prediction *****\n",
      "  Num examples = 1\n",
      "  Batch size = 64\n"
     ]
    },
    {
     "data": {
      "text/html": [],
      "text/plain": [
       "<IPython.core.display.HTML object>"
      ]
     },
     "metadata": {},
     "output_type": "display_data"
    },
    {
     "name": "stderr",
     "output_type": "stream",
     "text": [
      "***** Running Prediction *****\n",
      "  Num examples = 1\n",
      "  Batch size = 64\n"
     ]
    },
    {
     "data": {
      "text/html": [],
      "text/plain": [
       "<IPython.core.display.HTML object>"
      ]
     },
     "metadata": {},
     "output_type": "display_data"
    },
    {
     "name": "stderr",
     "output_type": "stream",
     "text": [
      "***** Running Prediction *****\n",
      "  Num examples = 1\n",
      "  Batch size = 64\n"
     ]
    },
    {
     "data": {
      "text/html": [],
      "text/plain": [
       "<IPython.core.display.HTML object>"
      ]
     },
     "metadata": {},
     "output_type": "display_data"
    },
    {
     "name": "stderr",
     "output_type": "stream",
     "text": [
      "***** Running Prediction *****\n",
      "  Num examples = 1\n",
      "  Batch size = 64\n"
     ]
    },
    {
     "data": {
      "text/html": [],
      "text/plain": [
       "<IPython.core.display.HTML object>"
      ]
     },
     "metadata": {},
     "output_type": "display_data"
    },
    {
     "name": "stderr",
     "output_type": "stream",
     "text": [
      "***** Running Prediction *****\n",
      "  Num examples = 1\n",
      "  Batch size = 64\n"
     ]
    },
    {
     "data": {
      "text/html": [],
      "text/plain": [
       "<IPython.core.display.HTML object>"
      ]
     },
     "metadata": {},
     "output_type": "display_data"
    },
    {
     "name": "stderr",
     "output_type": "stream",
     "text": [
      "***** Running Prediction *****\n",
      "  Num examples = 1\n",
      "  Batch size = 64\n"
     ]
    },
    {
     "data": {
      "text/html": [],
      "text/plain": [
       "<IPython.core.display.HTML object>"
      ]
     },
     "metadata": {},
     "output_type": "display_data"
    },
    {
     "name": "stderr",
     "output_type": "stream",
     "text": [
      "***** Running Prediction *****\n",
      "  Num examples = 1\n",
      "  Batch size = 64\n"
     ]
    },
    {
     "data": {
      "text/html": [],
      "text/plain": [
       "<IPython.core.display.HTML object>"
      ]
     },
     "metadata": {},
     "output_type": "display_data"
    },
    {
     "name": "stderr",
     "output_type": "stream",
     "text": [
      "***** Running Prediction *****\n",
      "  Num examples = 1\n",
      "  Batch size = 64\n"
     ]
    },
    {
     "data": {
      "text/html": [],
      "text/plain": [
       "<IPython.core.display.HTML object>"
      ]
     },
     "metadata": {},
     "output_type": "display_data"
    },
    {
     "name": "stderr",
     "output_type": "stream",
     "text": [
      "***** Running Prediction *****\n",
      "  Num examples = 1\n",
      "  Batch size = 64\n"
     ]
    },
    {
     "data": {
      "text/html": [],
      "text/plain": [
       "<IPython.core.display.HTML object>"
      ]
     },
     "metadata": {},
     "output_type": "display_data"
    },
    {
     "name": "stderr",
     "output_type": "stream",
     "text": [
      "***** Running Prediction *****\n",
      "  Num examples = 1\n",
      "  Batch size = 64\n"
     ]
    },
    {
     "data": {
      "text/html": [],
      "text/plain": [
       "<IPython.core.display.HTML object>"
      ]
     },
     "metadata": {},
     "output_type": "display_data"
    },
    {
     "name": "stderr",
     "output_type": "stream",
     "text": [
      "***** Running Prediction *****\n",
      "  Num examples = 1\n",
      "  Batch size = 64\n"
     ]
    },
    {
     "data": {
      "text/html": [],
      "text/plain": [
       "<IPython.core.display.HTML object>"
      ]
     },
     "metadata": {},
     "output_type": "display_data"
    },
    {
     "name": "stderr",
     "output_type": "stream",
     "text": [
      "***** Running Prediction *****\n",
      "  Num examples = 1\n",
      "  Batch size = 64\n"
     ]
    },
    {
     "data": {
      "text/html": [],
      "text/plain": [
       "<IPython.core.display.HTML object>"
      ]
     },
     "metadata": {},
     "output_type": "display_data"
    },
    {
     "name": "stderr",
     "output_type": "stream",
     "text": [
      "***** Running Prediction *****\n",
      "  Num examples = 1\n",
      "  Batch size = 64\n"
     ]
    },
    {
     "data": {
      "text/html": [],
      "text/plain": [
       "<IPython.core.display.HTML object>"
      ]
     },
     "metadata": {},
     "output_type": "display_data"
    },
    {
     "name": "stderr",
     "output_type": "stream",
     "text": [
      "***** Running Prediction *****\n",
      "  Num examples = 1\n",
      "  Batch size = 64\n"
     ]
    },
    {
     "data": {
      "text/html": [],
      "text/plain": [
       "<IPython.core.display.HTML object>"
      ]
     },
     "metadata": {},
     "output_type": "display_data"
    },
    {
     "name": "stderr",
     "output_type": "stream",
     "text": [
      "***** Running Prediction *****\n",
      "  Num examples = 1\n",
      "  Batch size = 64\n"
     ]
    },
    {
     "data": {
      "text/html": [],
      "text/plain": [
       "<IPython.core.display.HTML object>"
      ]
     },
     "metadata": {},
     "output_type": "display_data"
    },
    {
     "name": "stderr",
     "output_type": "stream",
     "text": [
      "***** Running Prediction *****\n",
      "  Num examples = 1\n",
      "  Batch size = 64\n"
     ]
    },
    {
     "data": {
      "text/html": [],
      "text/plain": [
       "<IPython.core.display.HTML object>"
      ]
     },
     "metadata": {},
     "output_type": "display_data"
    },
    {
     "name": "stderr",
     "output_type": "stream",
     "text": [
      "***** Running Prediction *****\n",
      "  Num examples = 1\n",
      "  Batch size = 64\n"
     ]
    },
    {
     "data": {
      "text/html": [],
      "text/plain": [
       "<IPython.core.display.HTML object>"
      ]
     },
     "metadata": {},
     "output_type": "display_data"
    },
    {
     "name": "stderr",
     "output_type": "stream",
     "text": [
      "***** Running Prediction *****\n",
      "  Num examples = 1\n",
      "  Batch size = 64\n"
     ]
    },
    {
     "data": {
      "text/html": [],
      "text/plain": [
       "<IPython.core.display.HTML object>"
      ]
     },
     "metadata": {},
     "output_type": "display_data"
    },
    {
     "name": "stderr",
     "output_type": "stream",
     "text": [
      "***** Running Prediction *****\n",
      "  Num examples = 1\n",
      "  Batch size = 64\n"
     ]
    },
    {
     "data": {
      "text/html": [],
      "text/plain": [
       "<IPython.core.display.HTML object>"
      ]
     },
     "metadata": {},
     "output_type": "display_data"
    },
    {
     "name": "stderr",
     "output_type": "stream",
     "text": [
      "***** Running Prediction *****\n",
      "  Num examples = 1\n",
      "  Batch size = 64\n"
     ]
    },
    {
     "data": {
      "text/html": [],
      "text/plain": [
       "<IPython.core.display.HTML object>"
      ]
     },
     "metadata": {},
     "output_type": "display_data"
    },
    {
     "name": "stderr",
     "output_type": "stream",
     "text": [
      "***** Running Prediction *****\n",
      "  Num examples = 1\n",
      "  Batch size = 64\n"
     ]
    },
    {
     "data": {
      "text/html": [],
      "text/plain": [
       "<IPython.core.display.HTML object>"
      ]
     },
     "metadata": {},
     "output_type": "display_data"
    },
    {
     "name": "stderr",
     "output_type": "stream",
     "text": [
      "***** Running Prediction *****\n",
      "  Num examples = 1\n",
      "  Batch size = 64\n"
     ]
    },
    {
     "data": {
      "text/html": [],
      "text/plain": [
       "<IPython.core.display.HTML object>"
      ]
     },
     "metadata": {},
     "output_type": "display_data"
    },
    {
     "name": "stderr",
     "output_type": "stream",
     "text": [
      "***** Running Prediction *****\n",
      "  Num examples = 1\n",
      "  Batch size = 64\n"
     ]
    },
    {
     "data": {
      "text/html": [],
      "text/plain": [
       "<IPython.core.display.HTML object>"
      ]
     },
     "metadata": {},
     "output_type": "display_data"
    },
    {
     "name": "stderr",
     "output_type": "stream",
     "text": [
      "***** Running Prediction *****\n",
      "  Num examples = 1\n",
      "  Batch size = 64\n"
     ]
    },
    {
     "data": {
      "text/html": [],
      "text/plain": [
       "<IPython.core.display.HTML object>"
      ]
     },
     "metadata": {},
     "output_type": "display_data"
    },
    {
     "name": "stderr",
     "output_type": "stream",
     "text": [
      "***** Running Prediction *****\n",
      "  Num examples = 1\n",
      "  Batch size = 64\n"
     ]
    },
    {
     "data": {
      "text/html": [],
      "text/plain": [
       "<IPython.core.display.HTML object>"
      ]
     },
     "metadata": {},
     "output_type": "display_data"
    },
    {
     "name": "stderr",
     "output_type": "stream",
     "text": [
      "***** Running Prediction *****\n",
      "  Num examples = 1\n",
      "  Batch size = 64\n"
     ]
    },
    {
     "data": {
      "text/html": [],
      "text/plain": [
       "<IPython.core.display.HTML object>"
      ]
     },
     "metadata": {},
     "output_type": "display_data"
    },
    {
     "name": "stderr",
     "output_type": "stream",
     "text": [
      "***** Running Prediction *****\n",
      "  Num examples = 1\n",
      "  Batch size = 64\n"
     ]
    },
    {
     "data": {
      "text/html": [],
      "text/plain": [
       "<IPython.core.display.HTML object>"
      ]
     },
     "metadata": {},
     "output_type": "display_data"
    },
    {
     "name": "stderr",
     "output_type": "stream",
     "text": [
      "***** Running Prediction *****\n",
      "  Num examples = 1\n",
      "  Batch size = 64\n"
     ]
    },
    {
     "data": {
      "text/html": [],
      "text/plain": [
       "<IPython.core.display.HTML object>"
      ]
     },
     "metadata": {},
     "output_type": "display_data"
    },
    {
     "name": "stderr",
     "output_type": "stream",
     "text": [
      "***** Running Prediction *****\n",
      "  Num examples = 1\n",
      "  Batch size = 64\n"
     ]
    },
    {
     "data": {
      "text/html": [],
      "text/plain": [
       "<IPython.core.display.HTML object>"
      ]
     },
     "metadata": {},
     "output_type": "display_data"
    },
    {
     "name": "stderr",
     "output_type": "stream",
     "text": [
      "***** Running Prediction *****\n",
      "  Num examples = 1\n",
      "  Batch size = 64\n"
     ]
    },
    {
     "data": {
      "text/html": [],
      "text/plain": [
       "<IPython.core.display.HTML object>"
      ]
     },
     "metadata": {},
     "output_type": "display_data"
    },
    {
     "name": "stderr",
     "output_type": "stream",
     "text": [
      "***** Running Prediction *****\n",
      "  Num examples = 1\n",
      "  Batch size = 64\n"
     ]
    },
    {
     "data": {
      "text/html": [],
      "text/plain": [
       "<IPython.core.display.HTML object>"
      ]
     },
     "metadata": {},
     "output_type": "display_data"
    },
    {
     "name": "stderr",
     "output_type": "stream",
     "text": [
      "***** Running Prediction *****\n",
      "  Num examples = 1\n",
      "  Batch size = 64\n"
     ]
    },
    {
     "data": {
      "text/html": [],
      "text/plain": [
       "<IPython.core.display.HTML object>"
      ]
     },
     "metadata": {},
     "output_type": "display_data"
    },
    {
     "name": "stderr",
     "output_type": "stream",
     "text": [
      "***** Running Prediction *****\n",
      "  Num examples = 1\n",
      "  Batch size = 64\n"
     ]
    },
    {
     "data": {
      "text/html": [],
      "text/plain": [
       "<IPython.core.display.HTML object>"
      ]
     },
     "metadata": {},
     "output_type": "display_data"
    },
    {
     "name": "stderr",
     "output_type": "stream",
     "text": [
      "***** Running Prediction *****\n",
      "  Num examples = 1\n",
      "  Batch size = 64\n"
     ]
    },
    {
     "data": {
      "text/html": [],
      "text/plain": [
       "<IPython.core.display.HTML object>"
      ]
     },
     "metadata": {},
     "output_type": "display_data"
    },
    {
     "name": "stderr",
     "output_type": "stream",
     "text": [
      "***** Running Prediction *****\n",
      "  Num examples = 1\n",
      "  Batch size = 64\n"
     ]
    },
    {
     "data": {
      "text/html": [],
      "text/plain": [
       "<IPython.core.display.HTML object>"
      ]
     },
     "metadata": {},
     "output_type": "display_data"
    },
    {
     "name": "stderr",
     "output_type": "stream",
     "text": [
      "***** Running Prediction *****\n",
      "  Num examples = 1\n",
      "  Batch size = 64\n"
     ]
    },
    {
     "data": {
      "text/html": [],
      "text/plain": [
       "<IPython.core.display.HTML object>"
      ]
     },
     "metadata": {},
     "output_type": "display_data"
    },
    {
     "name": "stderr",
     "output_type": "stream",
     "text": [
      "***** Running Prediction *****\n",
      "  Num examples = 1\n",
      "  Batch size = 64\n"
     ]
    },
    {
     "data": {
      "text/html": [],
      "text/plain": [
       "<IPython.core.display.HTML object>"
      ]
     },
     "metadata": {},
     "output_type": "display_data"
    },
    {
     "name": "stderr",
     "output_type": "stream",
     "text": [
      "***** Running Prediction *****\n",
      "  Num examples = 1\n",
      "  Batch size = 64\n"
     ]
    },
    {
     "data": {
      "text/html": [],
      "text/plain": [
       "<IPython.core.display.HTML object>"
      ]
     },
     "metadata": {},
     "output_type": "display_data"
    },
    {
     "name": "stderr",
     "output_type": "stream",
     "text": [
      "***** Running Prediction *****\n",
      "  Num examples = 1\n",
      "  Batch size = 64\n"
     ]
    },
    {
     "data": {
      "text/html": [],
      "text/plain": [
       "<IPython.core.display.HTML object>"
      ]
     },
     "metadata": {},
     "output_type": "display_data"
    },
    {
     "name": "stderr",
     "output_type": "stream",
     "text": [
      "***** Running Prediction *****\n",
      "  Num examples = 1\n",
      "  Batch size = 64\n"
     ]
    },
    {
     "data": {
      "text/html": [],
      "text/plain": [
       "<IPython.core.display.HTML object>"
      ]
     },
     "metadata": {},
     "output_type": "display_data"
    },
    {
     "name": "stderr",
     "output_type": "stream",
     "text": [
      "***** Running Prediction *****\n",
      "  Num examples = 1\n",
      "  Batch size = 64\n"
     ]
    },
    {
     "data": {
      "text/html": [],
      "text/plain": [
       "<IPython.core.display.HTML object>"
      ]
     },
     "metadata": {},
     "output_type": "display_data"
    },
    {
     "name": "stderr",
     "output_type": "stream",
     "text": [
      "***** Running Prediction *****\n",
      "  Num examples = 1\n",
      "  Batch size = 64\n"
     ]
    },
    {
     "data": {
      "text/html": [],
      "text/plain": [
       "<IPython.core.display.HTML object>"
      ]
     },
     "metadata": {},
     "output_type": "display_data"
    },
    {
     "name": "stderr",
     "output_type": "stream",
     "text": [
      "***** Running Prediction *****\n",
      "  Num examples = 1\n",
      "  Batch size = 64\n"
     ]
    },
    {
     "data": {
      "text/html": [],
      "text/plain": [
       "<IPython.core.display.HTML object>"
      ]
     },
     "metadata": {},
     "output_type": "display_data"
    },
    {
     "name": "stderr",
     "output_type": "stream",
     "text": [
      "***** Running Prediction *****\n",
      "  Num examples = 1\n",
      "  Batch size = 64\n"
     ]
    },
    {
     "data": {
      "text/html": [],
      "text/plain": [
       "<IPython.core.display.HTML object>"
      ]
     },
     "metadata": {},
     "output_type": "display_data"
    },
    {
     "name": "stderr",
     "output_type": "stream",
     "text": [
      "***** Running Prediction *****\n",
      "  Num examples = 1\n",
      "  Batch size = 64\n"
     ]
    },
    {
     "data": {
      "text/html": [],
      "text/plain": [
       "<IPython.core.display.HTML object>"
      ]
     },
     "metadata": {},
     "output_type": "display_data"
    },
    {
     "name": "stderr",
     "output_type": "stream",
     "text": [
      "***** Running Prediction *****\n",
      "  Num examples = 1\n",
      "  Batch size = 64\n"
     ]
    },
    {
     "data": {
      "text/html": [],
      "text/plain": [
       "<IPython.core.display.HTML object>"
      ]
     },
     "metadata": {},
     "output_type": "display_data"
    },
    {
     "name": "stderr",
     "output_type": "stream",
     "text": [
      "***** Running Prediction *****\n",
      "  Num examples = 1\n",
      "  Batch size = 64\n"
     ]
    },
    {
     "data": {
      "text/html": [],
      "text/plain": [
       "<IPython.core.display.HTML object>"
      ]
     },
     "metadata": {},
     "output_type": "display_data"
    },
    {
     "name": "stderr",
     "output_type": "stream",
     "text": [
      "***** Running Prediction *****\n",
      "  Num examples = 1\n",
      "  Batch size = 64\n"
     ]
    },
    {
     "data": {
      "text/html": [],
      "text/plain": [
       "<IPython.core.display.HTML object>"
      ]
     },
     "metadata": {},
     "output_type": "display_data"
    },
    {
     "name": "stderr",
     "output_type": "stream",
     "text": [
      "***** Running Prediction *****\n",
      "  Num examples = 1\n",
      "  Batch size = 64\n"
     ]
    },
    {
     "data": {
      "text/html": [],
      "text/plain": [
       "<IPython.core.display.HTML object>"
      ]
     },
     "metadata": {},
     "output_type": "display_data"
    },
    {
     "name": "stderr",
     "output_type": "stream",
     "text": [
      "***** Running Prediction *****\n",
      "  Num examples = 1\n",
      "  Batch size = 64\n"
     ]
    },
    {
     "data": {
      "text/html": [],
      "text/plain": [
       "<IPython.core.display.HTML object>"
      ]
     },
     "metadata": {},
     "output_type": "display_data"
    },
    {
     "name": "stderr",
     "output_type": "stream",
     "text": [
      "***** Running Prediction *****\n",
      "  Num examples = 1\n",
      "  Batch size = 64\n"
     ]
    },
    {
     "data": {
      "text/html": [],
      "text/plain": [
       "<IPython.core.display.HTML object>"
      ]
     },
     "metadata": {},
     "output_type": "display_data"
    },
    {
     "name": "stderr",
     "output_type": "stream",
     "text": [
      "***** Running Prediction *****\n",
      "  Num examples = 1\n",
      "  Batch size = 64\n"
     ]
    },
    {
     "data": {
      "text/html": [],
      "text/plain": [
       "<IPython.core.display.HTML object>"
      ]
     },
     "metadata": {},
     "output_type": "display_data"
    },
    {
     "name": "stderr",
     "output_type": "stream",
     "text": [
      "***** Running Prediction *****\n",
      "  Num examples = 1\n",
      "  Batch size = 64\n"
     ]
    },
    {
     "data": {
      "text/html": [],
      "text/plain": [
       "<IPython.core.display.HTML object>"
      ]
     },
     "metadata": {},
     "output_type": "display_data"
    },
    {
     "name": "stderr",
     "output_type": "stream",
     "text": [
      "***** Running Prediction *****\n",
      "  Num examples = 1\n",
      "  Batch size = 64\n"
     ]
    },
    {
     "data": {
      "text/html": [],
      "text/plain": [
       "<IPython.core.display.HTML object>"
      ]
     },
     "metadata": {},
     "output_type": "display_data"
    },
    {
     "name": "stderr",
     "output_type": "stream",
     "text": [
      "***** Running Prediction *****\n",
      "  Num examples = 1\n",
      "  Batch size = 64\n"
     ]
    },
    {
     "data": {
      "text/html": [],
      "text/plain": [
       "<IPython.core.display.HTML object>"
      ]
     },
     "metadata": {},
     "output_type": "display_data"
    },
    {
     "name": "stderr",
     "output_type": "stream",
     "text": [
      "***** Running Prediction *****\n",
      "  Num examples = 1\n",
      "  Batch size = 64\n"
     ]
    },
    {
     "data": {
      "text/html": [],
      "text/plain": [
       "<IPython.core.display.HTML object>"
      ]
     },
     "metadata": {},
     "output_type": "display_data"
    },
    {
     "name": "stderr",
     "output_type": "stream",
     "text": [
      "***** Running Prediction *****\n",
      "  Num examples = 1\n",
      "  Batch size = 64\n"
     ]
    },
    {
     "data": {
      "text/html": [],
      "text/plain": [
       "<IPython.core.display.HTML object>"
      ]
     },
     "metadata": {},
     "output_type": "display_data"
    },
    {
     "name": "stderr",
     "output_type": "stream",
     "text": [
      "***** Running Prediction *****\n",
      "  Num examples = 1\n",
      "  Batch size = 64\n"
     ]
    },
    {
     "data": {
      "text/html": [],
      "text/plain": [
       "<IPython.core.display.HTML object>"
      ]
     },
     "metadata": {},
     "output_type": "display_data"
    },
    {
     "name": "stderr",
     "output_type": "stream",
     "text": [
      "***** Running Prediction *****\n",
      "  Num examples = 1\n",
      "  Batch size = 64\n"
     ]
    },
    {
     "data": {
      "text/html": [],
      "text/plain": [
       "<IPython.core.display.HTML object>"
      ]
     },
     "metadata": {},
     "output_type": "display_data"
    },
    {
     "name": "stderr",
     "output_type": "stream",
     "text": [
      "***** Running Prediction *****\n",
      "  Num examples = 1\n",
      "  Batch size = 64\n"
     ]
    },
    {
     "data": {
      "text/html": [],
      "text/plain": [
       "<IPython.core.display.HTML object>"
      ]
     },
     "metadata": {},
     "output_type": "display_data"
    },
    {
     "name": "stderr",
     "output_type": "stream",
     "text": [
      "***** Running Prediction *****\n",
      "  Num examples = 1\n",
      "  Batch size = 64\n"
     ]
    },
    {
     "data": {
      "text/html": [],
      "text/plain": [
       "<IPython.core.display.HTML object>"
      ]
     },
     "metadata": {},
     "output_type": "display_data"
    },
    {
     "name": "stderr",
     "output_type": "stream",
     "text": [
      "***** Running Prediction *****\n",
      "  Num examples = 1\n",
      "  Batch size = 64\n"
     ]
    },
    {
     "data": {
      "text/html": [],
      "text/plain": [
       "<IPython.core.display.HTML object>"
      ]
     },
     "metadata": {},
     "output_type": "display_data"
    },
    {
     "name": "stderr",
     "output_type": "stream",
     "text": [
      "***** Running Prediction *****\n",
      "  Num examples = 1\n",
      "  Batch size = 64\n"
     ]
    },
    {
     "data": {
      "text/html": [],
      "text/plain": [
       "<IPython.core.display.HTML object>"
      ]
     },
     "metadata": {},
     "output_type": "display_data"
    },
    {
     "name": "stderr",
     "output_type": "stream",
     "text": [
      "***** Running Prediction *****\n",
      "  Num examples = 1\n",
      "  Batch size = 64\n"
     ]
    },
    {
     "data": {
      "text/html": [],
      "text/plain": [
       "<IPython.core.display.HTML object>"
      ]
     },
     "metadata": {},
     "output_type": "display_data"
    },
    {
     "name": "stderr",
     "output_type": "stream",
     "text": [
      "***** Running Prediction *****\n",
      "  Num examples = 1\n",
      "  Batch size = 64\n"
     ]
    },
    {
     "data": {
      "text/html": [],
      "text/plain": [
       "<IPython.core.display.HTML object>"
      ]
     },
     "metadata": {},
     "output_type": "display_data"
    },
    {
     "name": "stderr",
     "output_type": "stream",
     "text": [
      "***** Running Prediction *****\n",
      "  Num examples = 1\n",
      "  Batch size = 64\n"
     ]
    },
    {
     "data": {
      "text/html": [],
      "text/plain": [
       "<IPython.core.display.HTML object>"
      ]
     },
     "metadata": {},
     "output_type": "display_data"
    },
    {
     "name": "stderr",
     "output_type": "stream",
     "text": [
      "***** Running Prediction *****\n",
      "  Num examples = 1\n",
      "  Batch size = 64\n"
     ]
    },
    {
     "data": {
      "text/html": [],
      "text/plain": [
       "<IPython.core.display.HTML object>"
      ]
     },
     "metadata": {},
     "output_type": "display_data"
    },
    {
     "name": "stderr",
     "output_type": "stream",
     "text": [
      "***** Running Prediction *****\n",
      "  Num examples = 1\n",
      "  Batch size = 64\n"
     ]
    },
    {
     "data": {
      "text/html": [],
      "text/plain": [
       "<IPython.core.display.HTML object>"
      ]
     },
     "metadata": {},
     "output_type": "display_data"
    },
    {
     "name": "stderr",
     "output_type": "stream",
     "text": [
      "***** Running Prediction *****\n",
      "  Num examples = 1\n",
      "  Batch size = 64\n"
     ]
    },
    {
     "data": {
      "text/html": [],
      "text/plain": [
       "<IPython.core.display.HTML object>"
      ]
     },
     "metadata": {},
     "output_type": "display_data"
    },
    {
     "name": "stderr",
     "output_type": "stream",
     "text": [
      "***** Running Prediction *****\n",
      "  Num examples = 1\n",
      "  Batch size = 64\n"
     ]
    },
    {
     "data": {
      "text/html": [],
      "text/plain": [
       "<IPython.core.display.HTML object>"
      ]
     },
     "metadata": {},
     "output_type": "display_data"
    },
    {
     "name": "stderr",
     "output_type": "stream",
     "text": [
      "***** Running Prediction *****\n",
      "  Num examples = 1\n",
      "  Batch size = 64\n"
     ]
    },
    {
     "data": {
      "text/html": [],
      "text/plain": [
       "<IPython.core.display.HTML object>"
      ]
     },
     "metadata": {},
     "output_type": "display_data"
    },
    {
     "name": "stderr",
     "output_type": "stream",
     "text": [
      "***** Running Prediction *****\n",
      "  Num examples = 1\n",
      "  Batch size = 64\n"
     ]
    },
    {
     "data": {
      "text/html": [],
      "text/plain": [
       "<IPython.core.display.HTML object>"
      ]
     },
     "metadata": {},
     "output_type": "display_data"
    },
    {
     "name": "stderr",
     "output_type": "stream",
     "text": [
      "***** Running Prediction *****\n",
      "  Num examples = 1\n",
      "  Batch size = 64\n"
     ]
    },
    {
     "data": {
      "text/html": [],
      "text/plain": [
       "<IPython.core.display.HTML object>"
      ]
     },
     "metadata": {},
     "output_type": "display_data"
    },
    {
     "name": "stderr",
     "output_type": "stream",
     "text": [
      "***** Running Prediction *****\n",
      "  Num examples = 1\n",
      "  Batch size = 64\n"
     ]
    },
    {
     "data": {
      "text/html": [],
      "text/plain": [
       "<IPython.core.display.HTML object>"
      ]
     },
     "metadata": {},
     "output_type": "display_data"
    },
    {
     "name": "stderr",
     "output_type": "stream",
     "text": [
      "***** Running Prediction *****\n",
      "  Num examples = 1\n",
      "  Batch size = 64\n"
     ]
    },
    {
     "data": {
      "text/html": [],
      "text/plain": [
       "<IPython.core.display.HTML object>"
      ]
     },
     "metadata": {},
     "output_type": "display_data"
    },
    {
     "name": "stderr",
     "output_type": "stream",
     "text": [
      "***** Running Prediction *****\n",
      "  Num examples = 1\n",
      "  Batch size = 64\n"
     ]
    },
    {
     "data": {
      "text/html": [],
      "text/plain": [
       "<IPython.core.display.HTML object>"
      ]
     },
     "metadata": {},
     "output_type": "display_data"
    },
    {
     "name": "stderr",
     "output_type": "stream",
     "text": [
      "***** Running Prediction *****\n",
      "  Num examples = 1\n",
      "  Batch size = 64\n"
     ]
    },
    {
     "data": {
      "text/html": [],
      "text/plain": [
       "<IPython.core.display.HTML object>"
      ]
     },
     "metadata": {},
     "output_type": "display_data"
    },
    {
     "name": "stderr",
     "output_type": "stream",
     "text": [
      "***** Running Prediction *****\n",
      "  Num examples = 1\n",
      "  Batch size = 64\n"
     ]
    },
    {
     "data": {
      "text/html": [],
      "text/plain": [
       "<IPython.core.display.HTML object>"
      ]
     },
     "metadata": {},
     "output_type": "display_data"
    },
    {
     "name": "stderr",
     "output_type": "stream",
     "text": [
      "***** Running Prediction *****\n",
      "  Num examples = 1\n",
      "  Batch size = 64\n"
     ]
    },
    {
     "data": {
      "text/html": [],
      "text/plain": [
       "<IPython.core.display.HTML object>"
      ]
     },
     "metadata": {},
     "output_type": "display_data"
    },
    {
     "name": "stderr",
     "output_type": "stream",
     "text": [
      "***** Running Prediction *****\n",
      "  Num examples = 1\n",
      "  Batch size = 64\n"
     ]
    },
    {
     "data": {
      "text/html": [],
      "text/plain": [
       "<IPython.core.display.HTML object>"
      ]
     },
     "metadata": {},
     "output_type": "display_data"
    },
    {
     "name": "stderr",
     "output_type": "stream",
     "text": [
      "***** Running Prediction *****\n",
      "  Num examples = 1\n",
      "  Batch size = 64\n"
     ]
    },
    {
     "data": {
      "text/html": [],
      "text/plain": [
       "<IPython.core.display.HTML object>"
      ]
     },
     "metadata": {},
     "output_type": "display_data"
    },
    {
     "name": "stderr",
     "output_type": "stream",
     "text": [
      "***** Running Prediction *****\n",
      "  Num examples = 1\n",
      "  Batch size = 64\n"
     ]
    },
    {
     "data": {
      "text/html": [],
      "text/plain": [
       "<IPython.core.display.HTML object>"
      ]
     },
     "metadata": {},
     "output_type": "display_data"
    },
    {
     "name": "stderr",
     "output_type": "stream",
     "text": [
      "***** Running Prediction *****\n",
      "  Num examples = 1\n",
      "  Batch size = 64\n"
     ]
    },
    {
     "data": {
      "text/html": [],
      "text/plain": [
       "<IPython.core.display.HTML object>"
      ]
     },
     "metadata": {},
     "output_type": "display_data"
    },
    {
     "name": "stderr",
     "output_type": "stream",
     "text": [
      "***** Running Prediction *****\n",
      "  Num examples = 1\n",
      "  Batch size = 64\n"
     ]
    },
    {
     "data": {
      "text/html": [],
      "text/plain": [
       "<IPython.core.display.HTML object>"
      ]
     },
     "metadata": {},
     "output_type": "display_data"
    },
    {
     "name": "stderr",
     "output_type": "stream",
     "text": [
      "***** Running Prediction *****\n",
      "  Num examples = 1\n",
      "  Batch size = 64\n"
     ]
    },
    {
     "data": {
      "text/html": [],
      "text/plain": [
       "<IPython.core.display.HTML object>"
      ]
     },
     "metadata": {},
     "output_type": "display_data"
    },
    {
     "name": "stderr",
     "output_type": "stream",
     "text": [
      "***** Running Prediction *****\n",
      "  Num examples = 1\n",
      "  Batch size = 64\n"
     ]
    },
    {
     "data": {
      "text/html": [],
      "text/plain": [
       "<IPython.core.display.HTML object>"
      ]
     },
     "metadata": {},
     "output_type": "display_data"
    },
    {
     "name": "stderr",
     "output_type": "stream",
     "text": [
      "***** Running Prediction *****\n",
      "  Num examples = 1\n",
      "  Batch size = 64\n"
     ]
    },
    {
     "data": {
      "text/html": [],
      "text/plain": [
       "<IPython.core.display.HTML object>"
      ]
     },
     "metadata": {},
     "output_type": "display_data"
    },
    {
     "name": "stderr",
     "output_type": "stream",
     "text": [
      "***** Running Prediction *****\n",
      "  Num examples = 1\n",
      "  Batch size = 64\n"
     ]
    },
    {
     "data": {
      "text/html": [],
      "text/plain": [
       "<IPython.core.display.HTML object>"
      ]
     },
     "metadata": {},
     "output_type": "display_data"
    },
    {
     "name": "stderr",
     "output_type": "stream",
     "text": [
      "***** Running Prediction *****\n",
      "  Num examples = 1\n",
      "  Batch size = 64\n"
     ]
    },
    {
     "data": {
      "text/html": [],
      "text/plain": [
       "<IPython.core.display.HTML object>"
      ]
     },
     "metadata": {},
     "output_type": "display_data"
    },
    {
     "name": "stderr",
     "output_type": "stream",
     "text": [
      "***** Running Prediction *****\n",
      "  Num examples = 1\n",
      "  Batch size = 64\n"
     ]
    },
    {
     "data": {
      "text/html": [],
      "text/plain": [
       "<IPython.core.display.HTML object>"
      ]
     },
     "metadata": {},
     "output_type": "display_data"
    },
    {
     "name": "stderr",
     "output_type": "stream",
     "text": [
      "***** Running Prediction *****\n",
      "  Num examples = 1\n",
      "  Batch size = 64\n"
     ]
    },
    {
     "data": {
      "text/html": [],
      "text/plain": [
       "<IPython.core.display.HTML object>"
      ]
     },
     "metadata": {},
     "output_type": "display_data"
    },
    {
     "name": "stderr",
     "output_type": "stream",
     "text": [
      "***** Running Prediction *****\n",
      "  Num examples = 1\n",
      "  Batch size = 64\n"
     ]
    },
    {
     "data": {
      "text/html": [],
      "text/plain": [
       "<IPython.core.display.HTML object>"
      ]
     },
     "metadata": {},
     "output_type": "display_data"
    },
    {
     "name": "stderr",
     "output_type": "stream",
     "text": [
      "***** Running Prediction *****\n",
      "  Num examples = 1\n",
      "  Batch size = 64\n"
     ]
    },
    {
     "data": {
      "text/html": [],
      "text/plain": [
       "<IPython.core.display.HTML object>"
      ]
     },
     "metadata": {},
     "output_type": "display_data"
    },
    {
     "name": "stderr",
     "output_type": "stream",
     "text": [
      "***** Running Prediction *****\n",
      "  Num examples = 1\n",
      "  Batch size = 64\n"
     ]
    },
    {
     "data": {
      "text/html": [],
      "text/plain": [
       "<IPython.core.display.HTML object>"
      ]
     },
     "metadata": {},
     "output_type": "display_data"
    },
    {
     "name": "stderr",
     "output_type": "stream",
     "text": [
      "***** Running Prediction *****\n",
      "  Num examples = 1\n",
      "  Batch size = 64\n"
     ]
    },
    {
     "data": {
      "text/html": [],
      "text/plain": [
       "<IPython.core.display.HTML object>"
      ]
     },
     "metadata": {},
     "output_type": "display_data"
    },
    {
     "name": "stderr",
     "output_type": "stream",
     "text": [
      "***** Running Prediction *****\n",
      "  Num examples = 1\n",
      "  Batch size = 64\n"
     ]
    },
    {
     "data": {
      "text/html": [],
      "text/plain": [
       "<IPython.core.display.HTML object>"
      ]
     },
     "metadata": {},
     "output_type": "display_data"
    },
    {
     "name": "stderr",
     "output_type": "stream",
     "text": [
      "***** Running Prediction *****\n",
      "  Num examples = 1\n",
      "  Batch size = 64\n"
     ]
    },
    {
     "data": {
      "text/html": [],
      "text/plain": [
       "<IPython.core.display.HTML object>"
      ]
     },
     "metadata": {},
     "output_type": "display_data"
    },
    {
     "name": "stderr",
     "output_type": "stream",
     "text": [
      "***** Running Prediction *****\n",
      "  Num examples = 1\n",
      "  Batch size = 64\n"
     ]
    },
    {
     "data": {
      "text/html": [],
      "text/plain": [
       "<IPython.core.display.HTML object>"
      ]
     },
     "metadata": {},
     "output_type": "display_data"
    },
    {
     "name": "stderr",
     "output_type": "stream",
     "text": [
      "***** Running Prediction *****\n",
      "  Num examples = 1\n",
      "  Batch size = 64\n"
     ]
    },
    {
     "data": {
      "text/html": [],
      "text/plain": [
       "<IPython.core.display.HTML object>"
      ]
     },
     "metadata": {},
     "output_type": "display_data"
    },
    {
     "name": "stderr",
     "output_type": "stream",
     "text": [
      "***** Running Prediction *****\n",
      "  Num examples = 1\n",
      "  Batch size = 64\n"
     ]
    },
    {
     "data": {
      "text/html": [],
      "text/plain": [
       "<IPython.core.display.HTML object>"
      ]
     },
     "metadata": {},
     "output_type": "display_data"
    },
    {
     "name": "stderr",
     "output_type": "stream",
     "text": [
      "***** Running Prediction *****\n",
      "  Num examples = 1\n",
      "  Batch size = 64\n"
     ]
    },
    {
     "data": {
      "text/html": [],
      "text/plain": [
       "<IPython.core.display.HTML object>"
      ]
     },
     "metadata": {},
     "output_type": "display_data"
    },
    {
     "name": "stderr",
     "output_type": "stream",
     "text": [
      "***** Running Prediction *****\n",
      "  Num examples = 1\n",
      "  Batch size = 64\n"
     ]
    },
    {
     "data": {
      "text/html": [],
      "text/plain": [
       "<IPython.core.display.HTML object>"
      ]
     },
     "metadata": {},
     "output_type": "display_data"
    },
    {
     "name": "stderr",
     "output_type": "stream",
     "text": [
      "***** Running Prediction *****\n",
      "  Num examples = 1\n",
      "  Batch size = 64\n"
     ]
    },
    {
     "data": {
      "text/html": [],
      "text/plain": [
       "<IPython.core.display.HTML object>"
      ]
     },
     "metadata": {},
     "output_type": "display_data"
    },
    {
     "name": "stderr",
     "output_type": "stream",
     "text": [
      "***** Running Prediction *****\n",
      "  Num examples = 1\n",
      "  Batch size = 64\n"
     ]
    },
    {
     "data": {
      "text/html": [],
      "text/plain": [
       "<IPython.core.display.HTML object>"
      ]
     },
     "metadata": {},
     "output_type": "display_data"
    },
    {
     "name": "stderr",
     "output_type": "stream",
     "text": [
      "***** Running Prediction *****\n",
      "  Num examples = 1\n",
      "  Batch size = 64\n"
     ]
    },
    {
     "data": {
      "text/html": [],
      "text/plain": [
       "<IPython.core.display.HTML object>"
      ]
     },
     "metadata": {},
     "output_type": "display_data"
    },
    {
     "name": "stderr",
     "output_type": "stream",
     "text": [
      "***** Running Prediction *****\n",
      "  Num examples = 1\n",
      "  Batch size = 64\n"
     ]
    },
    {
     "data": {
      "text/html": [],
      "text/plain": [
       "<IPython.core.display.HTML object>"
      ]
     },
     "metadata": {},
     "output_type": "display_data"
    },
    {
     "name": "stderr",
     "output_type": "stream",
     "text": [
      "***** Running Prediction *****\n",
      "  Num examples = 1\n",
      "  Batch size = 64\n"
     ]
    },
    {
     "data": {
      "text/html": [],
      "text/plain": [
       "<IPython.core.display.HTML object>"
      ]
     },
     "metadata": {},
     "output_type": "display_data"
    },
    {
     "name": "stderr",
     "output_type": "stream",
     "text": [
      "***** Running Prediction *****\n",
      "  Num examples = 1\n",
      "  Batch size = 64\n"
     ]
    },
    {
     "data": {
      "text/html": [],
      "text/plain": [
       "<IPython.core.display.HTML object>"
      ]
     },
     "metadata": {},
     "output_type": "display_data"
    },
    {
     "name": "stderr",
     "output_type": "stream",
     "text": [
      "***** Running Prediction *****\n",
      "  Num examples = 1\n",
      "  Batch size = 64\n"
     ]
    },
    {
     "data": {
      "text/html": [],
      "text/plain": [
       "<IPython.core.display.HTML object>"
      ]
     },
     "metadata": {},
     "output_type": "display_data"
    },
    {
     "name": "stderr",
     "output_type": "stream",
     "text": [
      "***** Running Prediction *****\n",
      "  Num examples = 1\n",
      "  Batch size = 64\n"
     ]
    },
    {
     "data": {
      "text/html": [],
      "text/plain": [
       "<IPython.core.display.HTML object>"
      ]
     },
     "metadata": {},
     "output_type": "display_data"
    },
    {
     "name": "stderr",
     "output_type": "stream",
     "text": [
      "***** Running Prediction *****\n",
      "  Num examples = 1\n",
      "  Batch size = 64\n"
     ]
    },
    {
     "data": {
      "text/html": [],
      "text/plain": [
       "<IPython.core.display.HTML object>"
      ]
     },
     "metadata": {},
     "output_type": "display_data"
    },
    {
     "name": "stderr",
     "output_type": "stream",
     "text": [
      "***** Running Prediction *****\n",
      "  Num examples = 1\n",
      "  Batch size = 64\n"
     ]
    },
    {
     "data": {
      "text/html": [],
      "text/plain": [
       "<IPython.core.display.HTML object>"
      ]
     },
     "metadata": {},
     "output_type": "display_data"
    },
    {
     "name": "stderr",
     "output_type": "stream",
     "text": [
      "***** Running Prediction *****\n",
      "  Num examples = 1\n",
      "  Batch size = 64\n"
     ]
    },
    {
     "data": {
      "text/html": [],
      "text/plain": [
       "<IPython.core.display.HTML object>"
      ]
     },
     "metadata": {},
     "output_type": "display_data"
    },
    {
     "name": "stderr",
     "output_type": "stream",
     "text": [
      "***** Running Prediction *****\n",
      "  Num examples = 1\n",
      "  Batch size = 64\n"
     ]
    },
    {
     "data": {
      "text/html": [],
      "text/plain": [
       "<IPython.core.display.HTML object>"
      ]
     },
     "metadata": {},
     "output_type": "display_data"
    },
    {
     "name": "stderr",
     "output_type": "stream",
     "text": [
      "***** Running Prediction *****\n",
      "  Num examples = 1\n",
      "  Batch size = 64\n"
     ]
    },
    {
     "data": {
      "text/html": [],
      "text/plain": [
       "<IPython.core.display.HTML object>"
      ]
     },
     "metadata": {},
     "output_type": "display_data"
    },
    {
     "name": "stderr",
     "output_type": "stream",
     "text": [
      "***** Running Prediction *****\n",
      "  Num examples = 1\n",
      "  Batch size = 64\n"
     ]
    },
    {
     "data": {
      "text/html": [],
      "text/plain": [
       "<IPython.core.display.HTML object>"
      ]
     },
     "metadata": {},
     "output_type": "display_data"
    },
    {
     "name": "stderr",
     "output_type": "stream",
     "text": [
      "***** Running Prediction *****\n",
      "  Num examples = 1\n",
      "  Batch size = 64\n"
     ]
    },
    {
     "data": {
      "text/html": [],
      "text/plain": [
       "<IPython.core.display.HTML object>"
      ]
     },
     "metadata": {},
     "output_type": "display_data"
    },
    {
     "name": "stderr",
     "output_type": "stream",
     "text": [
      "***** Running Prediction *****\n",
      "  Num examples = 1\n",
      "  Batch size = 64\n"
     ]
    },
    {
     "data": {
      "text/html": [],
      "text/plain": [
       "<IPython.core.display.HTML object>"
      ]
     },
     "metadata": {},
     "output_type": "display_data"
    },
    {
     "name": "stderr",
     "output_type": "stream",
     "text": [
      "***** Running Prediction *****\n",
      "  Num examples = 1\n",
      "  Batch size = 64\n"
     ]
    },
    {
     "data": {
      "text/html": [],
      "text/plain": [
       "<IPython.core.display.HTML object>"
      ]
     },
     "metadata": {},
     "output_type": "display_data"
    },
    {
     "name": "stderr",
     "output_type": "stream",
     "text": [
      "***** Running Prediction *****\n",
      "  Num examples = 1\n",
      "  Batch size = 64\n"
     ]
    },
    {
     "data": {
      "text/html": [],
      "text/plain": [
       "<IPython.core.display.HTML object>"
      ]
     },
     "metadata": {},
     "output_type": "display_data"
    },
    {
     "name": "stderr",
     "output_type": "stream",
     "text": [
      "***** Running Prediction *****\n",
      "  Num examples = 1\n",
      "  Batch size = 64\n"
     ]
    },
    {
     "data": {
      "text/html": [],
      "text/plain": [
       "<IPython.core.display.HTML object>"
      ]
     },
     "metadata": {},
     "output_type": "display_data"
    },
    {
     "name": "stderr",
     "output_type": "stream",
     "text": [
      "***** Running Prediction *****\n",
      "  Num examples = 1\n",
      "  Batch size = 64\n"
     ]
    },
    {
     "data": {
      "text/html": [],
      "text/plain": [
       "<IPython.core.display.HTML object>"
      ]
     },
     "metadata": {},
     "output_type": "display_data"
    },
    {
     "name": "stderr",
     "output_type": "stream",
     "text": [
      "***** Running Prediction *****\n",
      "  Num examples = 1\n",
      "  Batch size = 64\n"
     ]
    },
    {
     "data": {
      "text/html": [],
      "text/plain": [
       "<IPython.core.display.HTML object>"
      ]
     },
     "metadata": {},
     "output_type": "display_data"
    },
    {
     "name": "stderr",
     "output_type": "stream",
     "text": [
      "***** Running Prediction *****\n",
      "  Num examples = 1\n",
      "  Batch size = 64\n"
     ]
    },
    {
     "data": {
      "text/html": [],
      "text/plain": [
       "<IPython.core.display.HTML object>"
      ]
     },
     "metadata": {},
     "output_type": "display_data"
    },
    {
     "name": "stderr",
     "output_type": "stream",
     "text": [
      "***** Running Prediction *****\n",
      "  Num examples = 1\n",
      "  Batch size = 64\n"
     ]
    },
    {
     "data": {
      "text/html": [],
      "text/plain": [
       "<IPython.core.display.HTML object>"
      ]
     },
     "metadata": {},
     "output_type": "display_data"
    },
    {
     "name": "stderr",
     "output_type": "stream",
     "text": [
      "***** Running Prediction *****\n",
      "  Num examples = 1\n",
      "  Batch size = 64\n"
     ]
    },
    {
     "data": {
      "text/html": [],
      "text/plain": [
       "<IPython.core.display.HTML object>"
      ]
     },
     "metadata": {},
     "output_type": "display_data"
    },
    {
     "name": "stderr",
     "output_type": "stream",
     "text": [
      "***** Running Prediction *****\n",
      "  Num examples = 1\n",
      "  Batch size = 64\n"
     ]
    },
    {
     "data": {
      "text/html": [],
      "text/plain": [
       "<IPython.core.display.HTML object>"
      ]
     },
     "metadata": {},
     "output_type": "display_data"
    },
    {
     "name": "stderr",
     "output_type": "stream",
     "text": [
      "***** Running Prediction *****\n",
      "  Num examples = 1\n",
      "  Batch size = 64\n"
     ]
    },
    {
     "data": {
      "text/html": [],
      "text/plain": [
       "<IPython.core.display.HTML object>"
      ]
     },
     "metadata": {},
     "output_type": "display_data"
    },
    {
     "name": "stderr",
     "output_type": "stream",
     "text": [
      "***** Running Prediction *****\n",
      "  Num examples = 1\n",
      "  Batch size = 64\n"
     ]
    },
    {
     "data": {
      "text/html": [],
      "text/plain": [
       "<IPython.core.display.HTML object>"
      ]
     },
     "metadata": {},
     "output_type": "display_data"
    },
    {
     "name": "stderr",
     "output_type": "stream",
     "text": [
      "***** Running Prediction *****\n",
      "  Num examples = 1\n",
      "  Batch size = 64\n"
     ]
    },
    {
     "data": {
      "text/html": [],
      "text/plain": [
       "<IPython.core.display.HTML object>"
      ]
     },
     "metadata": {},
     "output_type": "display_data"
    },
    {
     "name": "stderr",
     "output_type": "stream",
     "text": [
      "***** Running Prediction *****\n",
      "  Num examples = 1\n",
      "  Batch size = 64\n"
     ]
    },
    {
     "data": {
      "text/html": [],
      "text/plain": [
       "<IPython.core.display.HTML object>"
      ]
     },
     "metadata": {},
     "output_type": "display_data"
    },
    {
     "name": "stderr",
     "output_type": "stream",
     "text": [
      "***** Running Prediction *****\n",
      "  Num examples = 1\n",
      "  Batch size = 64\n"
     ]
    },
    {
     "data": {
      "text/html": [],
      "text/plain": [
       "<IPython.core.display.HTML object>"
      ]
     },
     "metadata": {},
     "output_type": "display_data"
    },
    {
     "name": "stderr",
     "output_type": "stream",
     "text": [
      "***** Running Prediction *****\n",
      "  Num examples = 1\n",
      "  Batch size = 64\n"
     ]
    },
    {
     "data": {
      "text/html": [],
      "text/plain": [
       "<IPython.core.display.HTML object>"
      ]
     },
     "metadata": {},
     "output_type": "display_data"
    },
    {
     "name": "stderr",
     "output_type": "stream",
     "text": [
      "***** Running Prediction *****\n",
      "  Num examples = 1\n",
      "  Batch size = 64\n"
     ]
    },
    {
     "data": {
      "text/html": [],
      "text/plain": [
       "<IPython.core.display.HTML object>"
      ]
     },
     "metadata": {},
     "output_type": "display_data"
    },
    {
     "name": "stderr",
     "output_type": "stream",
     "text": [
      "***** Running Prediction *****\n",
      "  Num examples = 1\n",
      "  Batch size = 64\n"
     ]
    },
    {
     "data": {
      "text/html": [],
      "text/plain": [
       "<IPython.core.display.HTML object>"
      ]
     },
     "metadata": {},
     "output_type": "display_data"
    },
    {
     "name": "stderr",
     "output_type": "stream",
     "text": [
      "***** Running Prediction *****\n",
      "  Num examples = 1\n",
      "  Batch size = 64\n"
     ]
    },
    {
     "data": {
      "text/html": [],
      "text/plain": [
       "<IPython.core.display.HTML object>"
      ]
     },
     "metadata": {},
     "output_type": "display_data"
    },
    {
     "name": "stderr",
     "output_type": "stream",
     "text": [
      "***** Running Prediction *****\n",
      "  Num examples = 1\n",
      "  Batch size = 64\n"
     ]
    },
    {
     "data": {
      "text/html": [],
      "text/plain": [
       "<IPython.core.display.HTML object>"
      ]
     },
     "metadata": {},
     "output_type": "display_data"
    },
    {
     "name": "stderr",
     "output_type": "stream",
     "text": [
      "***** Running Prediction *****\n",
      "  Num examples = 1\n",
      "  Batch size = 64\n"
     ]
    },
    {
     "data": {
      "text/html": [],
      "text/plain": [
       "<IPython.core.display.HTML object>"
      ]
     },
     "metadata": {},
     "output_type": "display_data"
    },
    {
     "name": "stderr",
     "output_type": "stream",
     "text": [
      "***** Running Prediction *****\n",
      "  Num examples = 1\n",
      "  Batch size = 64\n"
     ]
    },
    {
     "data": {
      "text/html": [],
      "text/plain": [
       "<IPython.core.display.HTML object>"
      ]
     },
     "metadata": {},
     "output_type": "display_data"
    },
    {
     "name": "stderr",
     "output_type": "stream",
     "text": [
      "***** Running Prediction *****\n",
      "  Num examples = 1\n",
      "  Batch size = 64\n"
     ]
    },
    {
     "data": {
      "text/html": [],
      "text/plain": [
       "<IPython.core.display.HTML object>"
      ]
     },
     "metadata": {},
     "output_type": "display_data"
    },
    {
     "name": "stderr",
     "output_type": "stream",
     "text": [
      "***** Running Prediction *****\n",
      "  Num examples = 1\n",
      "  Batch size = 64\n"
     ]
    },
    {
     "data": {
      "text/html": [],
      "text/plain": [
       "<IPython.core.display.HTML object>"
      ]
     },
     "metadata": {},
     "output_type": "display_data"
    },
    {
     "name": "stderr",
     "output_type": "stream",
     "text": [
      "***** Running Prediction *****\n",
      "  Num examples = 1\n",
      "  Batch size = 64\n"
     ]
    },
    {
     "data": {
      "text/html": [],
      "text/plain": [
       "<IPython.core.display.HTML object>"
      ]
     },
     "metadata": {},
     "output_type": "display_data"
    },
    {
     "name": "stderr",
     "output_type": "stream",
     "text": [
      "***** Running Prediction *****\n",
      "  Num examples = 1\n",
      "  Batch size = 64\n"
     ]
    },
    {
     "data": {
      "text/html": [],
      "text/plain": [
       "<IPython.core.display.HTML object>"
      ]
     },
     "metadata": {},
     "output_type": "display_data"
    },
    {
     "name": "stderr",
     "output_type": "stream",
     "text": [
      "***** Running Prediction *****\n",
      "  Num examples = 1\n",
      "  Batch size = 64\n"
     ]
    },
    {
     "data": {
      "text/html": [],
      "text/plain": [
       "<IPython.core.display.HTML object>"
      ]
     },
     "metadata": {},
     "output_type": "display_data"
    },
    {
     "name": "stderr",
     "output_type": "stream",
     "text": [
      "***** Running Prediction *****\n",
      "  Num examples = 1\n",
      "  Batch size = 64\n"
     ]
    },
    {
     "data": {
      "text/html": [],
      "text/plain": [
       "<IPython.core.display.HTML object>"
      ]
     },
     "metadata": {},
     "output_type": "display_data"
    },
    {
     "name": "stderr",
     "output_type": "stream",
     "text": [
      "***** Running Prediction *****\n",
      "  Num examples = 1\n",
      "  Batch size = 64\n"
     ]
    },
    {
     "data": {
      "text/html": [],
      "text/plain": [
       "<IPython.core.display.HTML object>"
      ]
     },
     "metadata": {},
     "output_type": "display_data"
    },
    {
     "name": "stderr",
     "output_type": "stream",
     "text": [
      "***** Running Prediction *****\n",
      "  Num examples = 1\n",
      "  Batch size = 64\n"
     ]
    },
    {
     "data": {
      "text/html": [],
      "text/plain": [
       "<IPython.core.display.HTML object>"
      ]
     },
     "metadata": {},
     "output_type": "display_data"
    },
    {
     "name": "stderr",
     "output_type": "stream",
     "text": [
      "***** Running Prediction *****\n",
      "  Num examples = 1\n",
      "  Batch size = 64\n"
     ]
    },
    {
     "data": {
      "text/html": [],
      "text/plain": [
       "<IPython.core.display.HTML object>"
      ]
     },
     "metadata": {},
     "output_type": "display_data"
    },
    {
     "name": "stderr",
     "output_type": "stream",
     "text": [
      "***** Running Prediction *****\n",
      "  Num examples = 1\n",
      "  Batch size = 64\n"
     ]
    },
    {
     "data": {
      "text/html": [],
      "text/plain": [
       "<IPython.core.display.HTML object>"
      ]
     },
     "metadata": {},
     "output_type": "display_data"
    },
    {
     "name": "stderr",
     "output_type": "stream",
     "text": [
      "***** Running Prediction *****\n",
      "  Num examples = 1\n",
      "  Batch size = 64\n"
     ]
    },
    {
     "data": {
      "text/html": [],
      "text/plain": [
       "<IPython.core.display.HTML object>"
      ]
     },
     "metadata": {},
     "output_type": "display_data"
    },
    {
     "name": "stderr",
     "output_type": "stream",
     "text": [
      "***** Running Prediction *****\n",
      "  Num examples = 1\n",
      "  Batch size = 64\n"
     ]
    },
    {
     "data": {
      "text/html": [],
      "text/plain": [
       "<IPython.core.display.HTML object>"
      ]
     },
     "metadata": {},
     "output_type": "display_data"
    },
    {
     "name": "stderr",
     "output_type": "stream",
     "text": [
      "***** Running Prediction *****\n",
      "  Num examples = 1\n",
      "  Batch size = 64\n"
     ]
    },
    {
     "data": {
      "text/html": [],
      "text/plain": [
       "<IPython.core.display.HTML object>"
      ]
     },
     "metadata": {},
     "output_type": "display_data"
    },
    {
     "name": "stderr",
     "output_type": "stream",
     "text": [
      "***** Running Prediction *****\n",
      "  Num examples = 1\n",
      "  Batch size = 64\n"
     ]
    },
    {
     "data": {
      "text/html": [],
      "text/plain": [
       "<IPython.core.display.HTML object>"
      ]
     },
     "metadata": {},
     "output_type": "display_data"
    },
    {
     "name": "stderr",
     "output_type": "stream",
     "text": [
      "***** Running Prediction *****\n",
      "  Num examples = 1\n",
      "  Batch size = 64\n"
     ]
    },
    {
     "data": {
      "text/html": [],
      "text/plain": [
       "<IPython.core.display.HTML object>"
      ]
     },
     "metadata": {},
     "output_type": "display_data"
    },
    {
     "name": "stderr",
     "output_type": "stream",
     "text": [
      "***** Running Prediction *****\n",
      "  Num examples = 1\n",
      "  Batch size = 64\n"
     ]
    },
    {
     "data": {
      "text/html": [],
      "text/plain": [
       "<IPython.core.display.HTML object>"
      ]
     },
     "metadata": {},
     "output_type": "display_data"
    },
    {
     "name": "stderr",
     "output_type": "stream",
     "text": [
      "***** Running Prediction *****\n",
      "  Num examples = 1\n",
      "  Batch size = 64\n"
     ]
    },
    {
     "data": {
      "text/html": [],
      "text/plain": [
       "<IPython.core.display.HTML object>"
      ]
     },
     "metadata": {},
     "output_type": "display_data"
    },
    {
     "name": "stderr",
     "output_type": "stream",
     "text": [
      "***** Running Prediction *****\n",
      "  Num examples = 1\n",
      "  Batch size = 64\n"
     ]
    },
    {
     "data": {
      "text/html": [],
      "text/plain": [
       "<IPython.core.display.HTML object>"
      ]
     },
     "metadata": {},
     "output_type": "display_data"
    },
    {
     "name": "stderr",
     "output_type": "stream",
     "text": [
      "***** Running Prediction *****\n",
      "  Num examples = 1\n",
      "  Batch size = 64\n"
     ]
    },
    {
     "data": {
      "text/html": [],
      "text/plain": [
       "<IPython.core.display.HTML object>"
      ]
     },
     "metadata": {},
     "output_type": "display_data"
    },
    {
     "name": "stderr",
     "output_type": "stream",
     "text": [
      "***** Running Prediction *****\n",
      "  Num examples = 1\n",
      "  Batch size = 64\n"
     ]
    },
    {
     "data": {
      "text/html": [],
      "text/plain": [
       "<IPython.core.display.HTML object>"
      ]
     },
     "metadata": {},
     "output_type": "display_data"
    },
    {
     "name": "stderr",
     "output_type": "stream",
     "text": [
      "***** Running Prediction *****\n",
      "  Num examples = 1\n",
      "  Batch size = 64\n"
     ]
    },
    {
     "data": {
      "text/html": [],
      "text/plain": [
       "<IPython.core.display.HTML object>"
      ]
     },
     "metadata": {},
     "output_type": "display_data"
    },
    {
     "name": "stderr",
     "output_type": "stream",
     "text": [
      "***** Running Prediction *****\n",
      "  Num examples = 1\n",
      "  Batch size = 64\n"
     ]
    },
    {
     "data": {
      "text/html": [],
      "text/plain": [
       "<IPython.core.display.HTML object>"
      ]
     },
     "metadata": {},
     "output_type": "display_data"
    },
    {
     "name": "stderr",
     "output_type": "stream",
     "text": [
      "***** Running Prediction *****\n",
      "  Num examples = 1\n",
      "  Batch size = 64\n"
     ]
    },
    {
     "data": {
      "text/html": [],
      "text/plain": [
       "<IPython.core.display.HTML object>"
      ]
     },
     "metadata": {},
     "output_type": "display_data"
    },
    {
     "name": "stderr",
     "output_type": "stream",
     "text": [
      "***** Running Prediction *****\n",
      "  Num examples = 1\n",
      "  Batch size = 64\n"
     ]
    },
    {
     "data": {
      "text/html": [],
      "text/plain": [
       "<IPython.core.display.HTML object>"
      ]
     },
     "metadata": {},
     "output_type": "display_data"
    },
    {
     "name": "stderr",
     "output_type": "stream",
     "text": [
      "***** Running Prediction *****\n",
      "  Num examples = 1\n",
      "  Batch size = 64\n"
     ]
    },
    {
     "data": {
      "text/html": [],
      "text/plain": [
       "<IPython.core.display.HTML object>"
      ]
     },
     "metadata": {},
     "output_type": "display_data"
    },
    {
     "name": "stderr",
     "output_type": "stream",
     "text": [
      "***** Running Prediction *****\n",
      "  Num examples = 1\n",
      "  Batch size = 64\n"
     ]
    },
    {
     "data": {
      "text/html": [],
      "text/plain": [
       "<IPython.core.display.HTML object>"
      ]
     },
     "metadata": {},
     "output_type": "display_data"
    },
    {
     "name": "stderr",
     "output_type": "stream",
     "text": [
      "***** Running Prediction *****\n",
      "  Num examples = 1\n",
      "  Batch size = 64\n"
     ]
    },
    {
     "data": {
      "text/html": [],
      "text/plain": [
       "<IPython.core.display.HTML object>"
      ]
     },
     "metadata": {},
     "output_type": "display_data"
    },
    {
     "name": "stderr",
     "output_type": "stream",
     "text": [
      "***** Running Prediction *****\n",
      "  Num examples = 1\n",
      "  Batch size = 64\n"
     ]
    },
    {
     "data": {
      "text/html": [],
      "text/plain": [
       "<IPython.core.display.HTML object>"
      ]
     },
     "metadata": {},
     "output_type": "display_data"
    },
    {
     "name": "stderr",
     "output_type": "stream",
     "text": [
      "***** Running Prediction *****\n",
      "  Num examples = 1\n",
      "  Batch size = 64\n"
     ]
    },
    {
     "data": {
      "text/html": [],
      "text/plain": [
       "<IPython.core.display.HTML object>"
      ]
     },
     "metadata": {},
     "output_type": "display_data"
    },
    {
     "name": "stderr",
     "output_type": "stream",
     "text": [
      "***** Running Prediction *****\n",
      "  Num examples = 1\n",
      "  Batch size = 64\n"
     ]
    },
    {
     "data": {
      "text/html": [],
      "text/plain": [
       "<IPython.core.display.HTML object>"
      ]
     },
     "metadata": {},
     "output_type": "display_data"
    },
    {
     "name": "stderr",
     "output_type": "stream",
     "text": [
      "***** Running Prediction *****\n",
      "  Num examples = 1\n",
      "  Batch size = 64\n"
     ]
    },
    {
     "data": {
      "text/html": [],
      "text/plain": [
       "<IPython.core.display.HTML object>"
      ]
     },
     "metadata": {},
     "output_type": "display_data"
    },
    {
     "name": "stderr",
     "output_type": "stream",
     "text": [
      "***** Running Prediction *****\n",
      "  Num examples = 1\n",
      "  Batch size = 64\n"
     ]
    },
    {
     "data": {
      "text/html": [],
      "text/plain": [
       "<IPython.core.display.HTML object>"
      ]
     },
     "metadata": {},
     "output_type": "display_data"
    },
    {
     "name": "stderr",
     "output_type": "stream",
     "text": [
      "***** Running Prediction *****\n",
      "  Num examples = 1\n",
      "  Batch size = 64\n"
     ]
    },
    {
     "data": {
      "text/html": [],
      "text/plain": [
       "<IPython.core.display.HTML object>"
      ]
     },
     "metadata": {},
     "output_type": "display_data"
    },
    {
     "name": "stderr",
     "output_type": "stream",
     "text": [
      "***** Running Prediction *****\n",
      "  Num examples = 1\n",
      "  Batch size = 64\n"
     ]
    },
    {
     "data": {
      "text/html": [],
      "text/plain": [
       "<IPython.core.display.HTML object>"
      ]
     },
     "metadata": {},
     "output_type": "display_data"
    },
    {
     "name": "stderr",
     "output_type": "stream",
     "text": [
      "***** Running Prediction *****\n",
      "  Num examples = 1\n",
      "  Batch size = 64\n"
     ]
    },
    {
     "data": {
      "text/html": [],
      "text/plain": [
       "<IPython.core.display.HTML object>"
      ]
     },
     "metadata": {},
     "output_type": "display_data"
    },
    {
     "name": "stderr",
     "output_type": "stream",
     "text": [
      "***** Running Prediction *****\n",
      "  Num examples = 1\n",
      "  Batch size = 64\n"
     ]
    },
    {
     "data": {
      "text/html": [],
      "text/plain": [
       "<IPython.core.display.HTML object>"
      ]
     },
     "metadata": {},
     "output_type": "display_data"
    },
    {
     "name": "stderr",
     "output_type": "stream",
     "text": [
      "***** Running Prediction *****\n",
      "  Num examples = 1\n",
      "  Batch size = 64\n"
     ]
    },
    {
     "data": {
      "text/html": [],
      "text/plain": [
       "<IPython.core.display.HTML object>"
      ]
     },
     "metadata": {},
     "output_type": "display_data"
    },
    {
     "name": "stderr",
     "output_type": "stream",
     "text": [
      "***** Running Prediction *****\n",
      "  Num examples = 1\n",
      "  Batch size = 64\n"
     ]
    },
    {
     "data": {
      "text/html": [],
      "text/plain": [
       "<IPython.core.display.HTML object>"
      ]
     },
     "metadata": {},
     "output_type": "display_data"
    },
    {
     "name": "stderr",
     "output_type": "stream",
     "text": [
      "***** Running Prediction *****\n",
      "  Num examples = 1\n",
      "  Batch size = 64\n"
     ]
    },
    {
     "data": {
      "text/html": [],
      "text/plain": [
       "<IPython.core.display.HTML object>"
      ]
     },
     "metadata": {},
     "output_type": "display_data"
    },
    {
     "name": "stderr",
     "output_type": "stream",
     "text": [
      "***** Running Prediction *****\n",
      "  Num examples = 1\n",
      "  Batch size = 64\n"
     ]
    },
    {
     "data": {
      "text/html": [],
      "text/plain": [
       "<IPython.core.display.HTML object>"
      ]
     },
     "metadata": {},
     "output_type": "display_data"
    },
    {
     "name": "stderr",
     "output_type": "stream",
     "text": [
      "***** Running Prediction *****\n",
      "  Num examples = 1\n",
      "  Batch size = 64\n"
     ]
    },
    {
     "data": {
      "text/html": [],
      "text/plain": [
       "<IPython.core.display.HTML object>"
      ]
     },
     "metadata": {},
     "output_type": "display_data"
    },
    {
     "name": "stderr",
     "output_type": "stream",
     "text": [
      "***** Running Prediction *****\n",
      "  Num examples = 1\n",
      "  Batch size = 64\n"
     ]
    },
    {
     "data": {
      "text/html": [],
      "text/plain": [
       "<IPython.core.display.HTML object>"
      ]
     },
     "metadata": {},
     "output_type": "display_data"
    },
    {
     "name": "stderr",
     "output_type": "stream",
     "text": [
      "***** Running Prediction *****\n",
      "  Num examples = 1\n",
      "  Batch size = 64\n"
     ]
    },
    {
     "data": {
      "text/html": [],
      "text/plain": [
       "<IPython.core.display.HTML object>"
      ]
     },
     "metadata": {},
     "output_type": "display_data"
    },
    {
     "name": "stderr",
     "output_type": "stream",
     "text": [
      "***** Running Prediction *****\n",
      "  Num examples = 1\n",
      "  Batch size = 64\n"
     ]
    },
    {
     "data": {
      "text/html": [],
      "text/plain": [
       "<IPython.core.display.HTML object>"
      ]
     },
     "metadata": {},
     "output_type": "display_data"
    },
    {
     "name": "stderr",
     "output_type": "stream",
     "text": [
      "***** Running Prediction *****\n",
      "  Num examples = 1\n",
      "  Batch size = 64\n"
     ]
    },
    {
     "data": {
      "text/html": [],
      "text/plain": [
       "<IPython.core.display.HTML object>"
      ]
     },
     "metadata": {},
     "output_type": "display_data"
    },
    {
     "name": "stderr",
     "output_type": "stream",
     "text": [
      "***** Running Prediction *****\n",
      "  Num examples = 1\n",
      "  Batch size = 64\n"
     ]
    },
    {
     "data": {
      "text/html": [],
      "text/plain": [
       "<IPython.core.display.HTML object>"
      ]
     },
     "metadata": {},
     "output_type": "display_data"
    },
    {
     "name": "stderr",
     "output_type": "stream",
     "text": [
      "***** Running Prediction *****\n",
      "  Num examples = 1\n",
      "  Batch size = 64\n"
     ]
    },
    {
     "data": {
      "text/html": [],
      "text/plain": [
       "<IPython.core.display.HTML object>"
      ]
     },
     "metadata": {},
     "output_type": "display_data"
    },
    {
     "name": "stderr",
     "output_type": "stream",
     "text": [
      "***** Running Prediction *****\n",
      "  Num examples = 1\n",
      "  Batch size = 64\n"
     ]
    },
    {
     "data": {
      "text/html": [],
      "text/plain": [
       "<IPython.core.display.HTML object>"
      ]
     },
     "metadata": {},
     "output_type": "display_data"
    },
    {
     "name": "stderr",
     "output_type": "stream",
     "text": [
      "***** Running Prediction *****\n",
      "  Num examples = 1\n",
      "  Batch size = 64\n"
     ]
    },
    {
     "data": {
      "text/html": [],
      "text/plain": [
       "<IPython.core.display.HTML object>"
      ]
     },
     "metadata": {},
     "output_type": "display_data"
    },
    {
     "name": "stderr",
     "output_type": "stream",
     "text": [
      "***** Running Prediction *****\n",
      "  Num examples = 1\n",
      "  Batch size = 64\n"
     ]
    },
    {
     "data": {
      "text/html": [],
      "text/plain": [
       "<IPython.core.display.HTML object>"
      ]
     },
     "metadata": {},
     "output_type": "display_data"
    },
    {
     "name": "stderr",
     "output_type": "stream",
     "text": [
      "***** Running Prediction *****\n",
      "  Num examples = 1\n",
      "  Batch size = 64\n"
     ]
    },
    {
     "data": {
      "text/html": [],
      "text/plain": [
       "<IPython.core.display.HTML object>"
      ]
     },
     "metadata": {},
     "output_type": "display_data"
    },
    {
     "name": "stderr",
     "output_type": "stream",
     "text": [
      "***** Running Prediction *****\n",
      "  Num examples = 1\n",
      "  Batch size = 64\n"
     ]
    },
    {
     "data": {
      "text/html": [],
      "text/plain": [
       "<IPython.core.display.HTML object>"
      ]
     },
     "metadata": {},
     "output_type": "display_data"
    },
    {
     "name": "stderr",
     "output_type": "stream",
     "text": [
      "***** Running Prediction *****\n",
      "  Num examples = 1\n",
      "  Batch size = 64\n"
     ]
    },
    {
     "data": {
      "text/html": [],
      "text/plain": [
       "<IPython.core.display.HTML object>"
      ]
     },
     "metadata": {},
     "output_type": "display_data"
    },
    {
     "name": "stderr",
     "output_type": "stream",
     "text": [
      "***** Running Prediction *****\n",
      "  Num examples = 1\n",
      "  Batch size = 64\n"
     ]
    },
    {
     "data": {
      "text/html": [],
      "text/plain": [
       "<IPython.core.display.HTML object>"
      ]
     },
     "metadata": {},
     "output_type": "display_data"
    },
    {
     "name": "stderr",
     "output_type": "stream",
     "text": [
      "***** Running Prediction *****\n",
      "  Num examples = 1\n",
      "  Batch size = 64\n"
     ]
    },
    {
     "data": {
      "text/html": [],
      "text/plain": [
       "<IPython.core.display.HTML object>"
      ]
     },
     "metadata": {},
     "output_type": "display_data"
    },
    {
     "name": "stderr",
     "output_type": "stream",
     "text": [
      "***** Running Prediction *****\n",
      "  Num examples = 1\n",
      "  Batch size = 64\n"
     ]
    },
    {
     "data": {
      "text/html": [],
      "text/plain": [
       "<IPython.core.display.HTML object>"
      ]
     },
     "metadata": {},
     "output_type": "display_data"
    },
    {
     "name": "stderr",
     "output_type": "stream",
     "text": [
      "***** Running Prediction *****\n",
      "  Num examples = 1\n",
      "  Batch size = 64\n"
     ]
    },
    {
     "data": {
      "text/html": [],
      "text/plain": [
       "<IPython.core.display.HTML object>"
      ]
     },
     "metadata": {},
     "output_type": "display_data"
    },
    {
     "name": "stderr",
     "output_type": "stream",
     "text": [
      "***** Running Prediction *****\n",
      "  Num examples = 1\n",
      "  Batch size = 64\n"
     ]
    },
    {
     "data": {
      "text/html": [],
      "text/plain": [
       "<IPython.core.display.HTML object>"
      ]
     },
     "metadata": {},
     "output_type": "display_data"
    },
    {
     "name": "stderr",
     "output_type": "stream",
     "text": [
      "***** Running Prediction *****\n",
      "  Num examples = 1\n",
      "  Batch size = 64\n"
     ]
    },
    {
     "data": {
      "text/html": [],
      "text/plain": [
       "<IPython.core.display.HTML object>"
      ]
     },
     "metadata": {},
     "output_type": "display_data"
    },
    {
     "name": "stderr",
     "output_type": "stream",
     "text": [
      "***** Running Prediction *****\n",
      "  Num examples = 1\n",
      "  Batch size = 64\n"
     ]
    },
    {
     "data": {
      "text/html": [],
      "text/plain": [
       "<IPython.core.display.HTML object>"
      ]
     },
     "metadata": {},
     "output_type": "display_data"
    },
    {
     "name": "stderr",
     "output_type": "stream",
     "text": [
      "***** Running Prediction *****\n",
      "  Num examples = 1\n",
      "  Batch size = 64\n"
     ]
    },
    {
     "data": {
      "text/html": [],
      "text/plain": [
       "<IPython.core.display.HTML object>"
      ]
     },
     "metadata": {},
     "output_type": "display_data"
    },
    {
     "name": "stderr",
     "output_type": "stream",
     "text": [
      "***** Running Prediction *****\n",
      "  Num examples = 1\n",
      "  Batch size = 64\n"
     ]
    },
    {
     "data": {
      "text/html": [],
      "text/plain": [
       "<IPython.core.display.HTML object>"
      ]
     },
     "metadata": {},
     "output_type": "display_data"
    },
    {
     "name": "stderr",
     "output_type": "stream",
     "text": [
      "***** Running Prediction *****\n",
      "  Num examples = 1\n",
      "  Batch size = 64\n"
     ]
    },
    {
     "data": {
      "text/html": [],
      "text/plain": [
       "<IPython.core.display.HTML object>"
      ]
     },
     "metadata": {},
     "output_type": "display_data"
    },
    {
     "name": "stderr",
     "output_type": "stream",
     "text": [
      "***** Running Prediction *****\n",
      "  Num examples = 1\n",
      "  Batch size = 64\n"
     ]
    },
    {
     "data": {
      "text/html": [],
      "text/plain": [
       "<IPython.core.display.HTML object>"
      ]
     },
     "metadata": {},
     "output_type": "display_data"
    },
    {
     "name": "stderr",
     "output_type": "stream",
     "text": [
      "***** Running Prediction *****\n",
      "  Num examples = 1\n",
      "  Batch size = 64\n"
     ]
    },
    {
     "data": {
      "text/html": [],
      "text/plain": [
       "<IPython.core.display.HTML object>"
      ]
     },
     "metadata": {},
     "output_type": "display_data"
    },
    {
     "name": "stderr",
     "output_type": "stream",
     "text": [
      "***** Running Prediction *****\n",
      "  Num examples = 1\n",
      "  Batch size = 64\n"
     ]
    },
    {
     "data": {
      "text/html": [],
      "text/plain": [
       "<IPython.core.display.HTML object>"
      ]
     },
     "metadata": {},
     "output_type": "display_data"
    },
    {
     "name": "stderr",
     "output_type": "stream",
     "text": [
      "***** Running Prediction *****\n",
      "  Num examples = 1\n",
      "  Batch size = 64\n"
     ]
    },
    {
     "data": {
      "text/html": [],
      "text/plain": [
       "<IPython.core.display.HTML object>"
      ]
     },
     "metadata": {},
     "output_type": "display_data"
    },
    {
     "name": "stderr",
     "output_type": "stream",
     "text": [
      "***** Running Prediction *****\n",
      "  Num examples = 1\n",
      "  Batch size = 64\n"
     ]
    },
    {
     "data": {
      "text/html": [],
      "text/plain": [
       "<IPython.core.display.HTML object>"
      ]
     },
     "metadata": {},
     "output_type": "display_data"
    },
    {
     "name": "stderr",
     "output_type": "stream",
     "text": [
      "***** Running Prediction *****\n",
      "  Num examples = 1\n",
      "  Batch size = 64\n"
     ]
    },
    {
     "data": {
      "text/html": [],
      "text/plain": [
       "<IPython.core.display.HTML object>"
      ]
     },
     "metadata": {},
     "output_type": "display_data"
    },
    {
     "name": "stderr",
     "output_type": "stream",
     "text": [
      "***** Running Prediction *****\n",
      "  Num examples = 1\n",
      "  Batch size = 64\n"
     ]
    },
    {
     "data": {
      "text/html": [],
      "text/plain": [
       "<IPython.core.display.HTML object>"
      ]
     },
     "metadata": {},
     "output_type": "display_data"
    },
    {
     "name": "stderr",
     "output_type": "stream",
     "text": [
      "***** Running Prediction *****\n",
      "  Num examples = 1\n",
      "  Batch size = 64\n"
     ]
    },
    {
     "data": {
      "text/html": [],
      "text/plain": [
       "<IPython.core.display.HTML object>"
      ]
     },
     "metadata": {},
     "output_type": "display_data"
    },
    {
     "name": "stderr",
     "output_type": "stream",
     "text": [
      "***** Running Prediction *****\n",
      "  Num examples = 1\n",
      "  Batch size = 64\n"
     ]
    },
    {
     "data": {
      "text/html": [],
      "text/plain": [
       "<IPython.core.display.HTML object>"
      ]
     },
     "metadata": {},
     "output_type": "display_data"
    },
    {
     "name": "stderr",
     "output_type": "stream",
     "text": [
      "***** Running Prediction *****\n",
      "  Num examples = 1\n",
      "  Batch size = 64\n"
     ]
    },
    {
     "data": {
      "text/html": [],
      "text/plain": [
       "<IPython.core.display.HTML object>"
      ]
     },
     "metadata": {},
     "output_type": "display_data"
    },
    {
     "name": "stderr",
     "output_type": "stream",
     "text": [
      "***** Running Prediction *****\n",
      "  Num examples = 1\n",
      "  Batch size = 64\n"
     ]
    },
    {
     "data": {
      "text/html": [],
      "text/plain": [
       "<IPython.core.display.HTML object>"
      ]
     },
     "metadata": {},
     "output_type": "display_data"
    },
    {
     "name": "stderr",
     "output_type": "stream",
     "text": [
      "***** Running Prediction *****\n",
      "  Num examples = 1\n",
      "  Batch size = 64\n"
     ]
    },
    {
     "data": {
      "text/html": [],
      "text/plain": [
       "<IPython.core.display.HTML object>"
      ]
     },
     "metadata": {},
     "output_type": "display_data"
    },
    {
     "name": "stderr",
     "output_type": "stream",
     "text": [
      "***** Running Prediction *****\n",
      "  Num examples = 1\n",
      "  Batch size = 64\n"
     ]
    },
    {
     "data": {
      "text/html": [],
      "text/plain": [
       "<IPython.core.display.HTML object>"
      ]
     },
     "metadata": {},
     "output_type": "display_data"
    },
    {
     "name": "stderr",
     "output_type": "stream",
     "text": [
      "***** Running Prediction *****\n",
      "  Num examples = 1\n",
      "  Batch size = 64\n"
     ]
    },
    {
     "data": {
      "text/html": [],
      "text/plain": [
       "<IPython.core.display.HTML object>"
      ]
     },
     "metadata": {},
     "output_type": "display_data"
    },
    {
     "name": "stderr",
     "output_type": "stream",
     "text": [
      "***** Running Prediction *****\n",
      "  Num examples = 1\n",
      "  Batch size = 64\n"
     ]
    },
    {
     "data": {
      "text/html": [],
      "text/plain": [
       "<IPython.core.display.HTML object>"
      ]
     },
     "metadata": {},
     "output_type": "display_data"
    },
    {
     "name": "stderr",
     "output_type": "stream",
     "text": [
      "***** Running Prediction *****\n",
      "  Num examples = 1\n",
      "  Batch size = 64\n"
     ]
    },
    {
     "data": {
      "text/html": [],
      "text/plain": [
       "<IPython.core.display.HTML object>"
      ]
     },
     "metadata": {},
     "output_type": "display_data"
    },
    {
     "name": "stderr",
     "output_type": "stream",
     "text": [
      "***** Running Prediction *****\n",
      "  Num examples = 1\n",
      "  Batch size = 64\n"
     ]
    },
    {
     "data": {
      "text/html": [],
      "text/plain": [
       "<IPython.core.display.HTML object>"
      ]
     },
     "metadata": {},
     "output_type": "display_data"
    },
    {
     "name": "stderr",
     "output_type": "stream",
     "text": [
      "***** Running Prediction *****\n",
      "  Num examples = 1\n",
      "  Batch size = 64\n"
     ]
    },
    {
     "data": {
      "text/html": [],
      "text/plain": [
       "<IPython.core.display.HTML object>"
      ]
     },
     "metadata": {},
     "output_type": "display_data"
    },
    {
     "name": "stderr",
     "output_type": "stream",
     "text": [
      "***** Running Prediction *****\n",
      "  Num examples = 1\n",
      "  Batch size = 64\n"
     ]
    },
    {
     "data": {
      "text/html": [],
      "text/plain": [
       "<IPython.core.display.HTML object>"
      ]
     },
     "metadata": {},
     "output_type": "display_data"
    },
    {
     "name": "stderr",
     "output_type": "stream",
     "text": [
      "***** Running Prediction *****\n",
      "  Num examples = 1\n",
      "  Batch size = 64\n"
     ]
    },
    {
     "data": {
      "text/html": [],
      "text/plain": [
       "<IPython.core.display.HTML object>"
      ]
     },
     "metadata": {},
     "output_type": "display_data"
    },
    {
     "name": "stderr",
     "output_type": "stream",
     "text": [
      "***** Running Prediction *****\n",
      "  Num examples = 1\n",
      "  Batch size = 64\n"
     ]
    },
    {
     "data": {
      "text/html": [],
      "text/plain": [
       "<IPython.core.display.HTML object>"
      ]
     },
     "metadata": {},
     "output_type": "display_data"
    },
    {
     "name": "stderr",
     "output_type": "stream",
     "text": [
      "***** Running Prediction *****\n",
      "  Num examples = 1\n",
      "  Batch size = 64\n"
     ]
    },
    {
     "data": {
      "text/html": [],
      "text/plain": [
       "<IPython.core.display.HTML object>"
      ]
     },
     "metadata": {},
     "output_type": "display_data"
    },
    {
     "name": "stderr",
     "output_type": "stream",
     "text": [
      "***** Running Prediction *****\n",
      "  Num examples = 1\n",
      "  Batch size = 64\n"
     ]
    },
    {
     "data": {
      "text/html": [],
      "text/plain": [
       "<IPython.core.display.HTML object>"
      ]
     },
     "metadata": {},
     "output_type": "display_data"
    },
    {
     "name": "stderr",
     "output_type": "stream",
     "text": [
      "***** Running Prediction *****\n",
      "  Num examples = 1\n",
      "  Batch size = 64\n"
     ]
    },
    {
     "data": {
      "text/html": [],
      "text/plain": [
       "<IPython.core.display.HTML object>"
      ]
     },
     "metadata": {},
     "output_type": "display_data"
    },
    {
     "name": "stderr",
     "output_type": "stream",
     "text": [
      "***** Running Prediction *****\n",
      "  Num examples = 1\n",
      "  Batch size = 64\n"
     ]
    },
    {
     "data": {
      "text/html": [],
      "text/plain": [
       "<IPython.core.display.HTML object>"
      ]
     },
     "metadata": {},
     "output_type": "display_data"
    },
    {
     "name": "stderr",
     "output_type": "stream",
     "text": [
      "***** Running Prediction *****\n",
      "  Num examples = 1\n",
      "  Batch size = 64\n"
     ]
    },
    {
     "data": {
      "text/html": [],
      "text/plain": [
       "<IPython.core.display.HTML object>"
      ]
     },
     "metadata": {},
     "output_type": "display_data"
    },
    {
     "name": "stderr",
     "output_type": "stream",
     "text": [
      "***** Running Prediction *****\n",
      "  Num examples = 1\n",
      "  Batch size = 64\n"
     ]
    },
    {
     "data": {
      "text/html": [],
      "text/plain": [
       "<IPython.core.display.HTML object>"
      ]
     },
     "metadata": {},
     "output_type": "display_data"
    },
    {
     "name": "stderr",
     "output_type": "stream",
     "text": [
      "***** Running Prediction *****\n",
      "  Num examples = 1\n",
      "  Batch size = 64\n"
     ]
    },
    {
     "data": {
      "text/html": [],
      "text/plain": [
       "<IPython.core.display.HTML object>"
      ]
     },
     "metadata": {},
     "output_type": "display_data"
    },
    {
     "name": "stderr",
     "output_type": "stream",
     "text": [
      "***** Running Prediction *****\n",
      "  Num examples = 1\n",
      "  Batch size = 64\n"
     ]
    },
    {
     "data": {
      "text/html": [],
      "text/plain": [
       "<IPython.core.display.HTML object>"
      ]
     },
     "metadata": {},
     "output_type": "display_data"
    },
    {
     "name": "stderr",
     "output_type": "stream",
     "text": [
      "***** Running Prediction *****\n",
      "  Num examples = 1\n",
      "  Batch size = 64\n"
     ]
    },
    {
     "data": {
      "text/html": [],
      "text/plain": [
       "<IPython.core.display.HTML object>"
      ]
     },
     "metadata": {},
     "output_type": "display_data"
    },
    {
     "name": "stderr",
     "output_type": "stream",
     "text": [
      "***** Running Prediction *****\n",
      "  Num examples = 1\n",
      "  Batch size = 64\n"
     ]
    },
    {
     "data": {
      "text/html": [],
      "text/plain": [
       "<IPython.core.display.HTML object>"
      ]
     },
     "metadata": {},
     "output_type": "display_data"
    },
    {
     "name": "stderr",
     "output_type": "stream",
     "text": [
      "***** Running Prediction *****\n",
      "  Num examples = 1\n",
      "  Batch size = 64\n"
     ]
    },
    {
     "data": {
      "text/html": [],
      "text/plain": [
       "<IPython.core.display.HTML object>"
      ]
     },
     "metadata": {},
     "output_type": "display_data"
    },
    {
     "name": "stderr",
     "output_type": "stream",
     "text": [
      "***** Running Prediction *****\n",
      "  Num examples = 1\n",
      "  Batch size = 64\n"
     ]
    },
    {
     "data": {
      "text/html": [],
      "text/plain": [
       "<IPython.core.display.HTML object>"
      ]
     },
     "metadata": {},
     "output_type": "display_data"
    },
    {
     "name": "stderr",
     "output_type": "stream",
     "text": [
      "***** Running Prediction *****\n",
      "  Num examples = 1\n",
      "  Batch size = 64\n"
     ]
    },
    {
     "data": {
      "text/html": [],
      "text/plain": [
       "<IPython.core.display.HTML object>"
      ]
     },
     "metadata": {},
     "output_type": "display_data"
    },
    {
     "name": "stderr",
     "output_type": "stream",
     "text": [
      "***** Running Prediction *****\n",
      "  Num examples = 1\n",
      "  Batch size = 64\n"
     ]
    },
    {
     "data": {
      "text/html": [],
      "text/plain": [
       "<IPython.core.display.HTML object>"
      ]
     },
     "metadata": {},
     "output_type": "display_data"
    },
    {
     "name": "stderr",
     "output_type": "stream",
     "text": [
      "***** Running Prediction *****\n",
      "  Num examples = 1\n",
      "  Batch size = 64\n"
     ]
    },
    {
     "data": {
      "text/html": [],
      "text/plain": [
       "<IPython.core.display.HTML object>"
      ]
     },
     "metadata": {},
     "output_type": "display_data"
    },
    {
     "name": "stderr",
     "output_type": "stream",
     "text": [
      "***** Running Prediction *****\n",
      "  Num examples = 1\n",
      "  Batch size = 64\n"
     ]
    },
    {
     "data": {
      "text/html": [],
      "text/plain": [
       "<IPython.core.display.HTML object>"
      ]
     },
     "metadata": {},
     "output_type": "display_data"
    },
    {
     "name": "stderr",
     "output_type": "stream",
     "text": [
      "***** Running Prediction *****\n",
      "  Num examples = 1\n",
      "  Batch size = 64\n"
     ]
    },
    {
     "data": {
      "text/html": [],
      "text/plain": [
       "<IPython.core.display.HTML object>"
      ]
     },
     "metadata": {},
     "output_type": "display_data"
    },
    {
     "name": "stderr",
     "output_type": "stream",
     "text": [
      "***** Running Prediction *****\n",
      "  Num examples = 1\n",
      "  Batch size = 64\n"
     ]
    },
    {
     "data": {
      "text/html": [],
      "text/plain": [
       "<IPython.core.display.HTML object>"
      ]
     },
     "metadata": {},
     "output_type": "display_data"
    },
    {
     "name": "stderr",
     "output_type": "stream",
     "text": [
      "***** Running Prediction *****\n",
      "  Num examples = 1\n",
      "  Batch size = 64\n"
     ]
    },
    {
     "data": {
      "text/html": [],
      "text/plain": [
       "<IPython.core.display.HTML object>"
      ]
     },
     "metadata": {},
     "output_type": "display_data"
    },
    {
     "name": "stderr",
     "output_type": "stream",
     "text": [
      "***** Running Prediction *****\n",
      "  Num examples = 1\n",
      "  Batch size = 64\n"
     ]
    },
    {
     "data": {
      "text/html": [],
      "text/plain": [
       "<IPython.core.display.HTML object>"
      ]
     },
     "metadata": {},
     "output_type": "display_data"
    },
    {
     "name": "stderr",
     "output_type": "stream",
     "text": [
      "***** Running Prediction *****\n",
      "  Num examples = 1\n",
      "  Batch size = 64\n"
     ]
    },
    {
     "data": {
      "text/html": [],
      "text/plain": [
       "<IPython.core.display.HTML object>"
      ]
     },
     "metadata": {},
     "output_type": "display_data"
    },
    {
     "name": "stderr",
     "output_type": "stream",
     "text": [
      "***** Running Prediction *****\n",
      "  Num examples = 1\n",
      "  Batch size = 64\n"
     ]
    },
    {
     "data": {
      "text/html": [],
      "text/plain": [
       "<IPython.core.display.HTML object>"
      ]
     },
     "metadata": {},
     "output_type": "display_data"
    },
    {
     "name": "stderr",
     "output_type": "stream",
     "text": [
      "***** Running Prediction *****\n",
      "  Num examples = 1\n",
      "  Batch size = 64\n"
     ]
    },
    {
     "data": {
      "text/html": [],
      "text/plain": [
       "<IPython.core.display.HTML object>"
      ]
     },
     "metadata": {},
     "output_type": "display_data"
    },
    {
     "name": "stderr",
     "output_type": "stream",
     "text": [
      "***** Running Prediction *****\n",
      "  Num examples = 1\n",
      "  Batch size = 64\n"
     ]
    },
    {
     "data": {
      "text/html": [],
      "text/plain": [
       "<IPython.core.display.HTML object>"
      ]
     },
     "metadata": {},
     "output_type": "display_data"
    },
    {
     "name": "stderr",
     "output_type": "stream",
     "text": [
      "***** Running Prediction *****\n",
      "  Num examples = 1\n",
      "  Batch size = 64\n"
     ]
    },
    {
     "data": {
      "text/html": [],
      "text/plain": [
       "<IPython.core.display.HTML object>"
      ]
     },
     "metadata": {},
     "output_type": "display_data"
    },
    {
     "name": "stderr",
     "output_type": "stream",
     "text": [
      "***** Running Prediction *****\n",
      "  Num examples = 1\n",
      "  Batch size = 64\n"
     ]
    },
    {
     "data": {
      "text/html": [],
      "text/plain": [
       "<IPython.core.display.HTML object>"
      ]
     },
     "metadata": {},
     "output_type": "display_data"
    },
    {
     "name": "stderr",
     "output_type": "stream",
     "text": [
      "***** Running Prediction *****\n",
      "  Num examples = 1\n",
      "  Batch size = 64\n"
     ]
    },
    {
     "data": {
      "text/html": [],
      "text/plain": [
       "<IPython.core.display.HTML object>"
      ]
     },
     "metadata": {},
     "output_type": "display_data"
    },
    {
     "name": "stderr",
     "output_type": "stream",
     "text": [
      "***** Running Prediction *****\n",
      "  Num examples = 1\n",
      "  Batch size = 64\n"
     ]
    },
    {
     "data": {
      "text/html": [],
      "text/plain": [
       "<IPython.core.display.HTML object>"
      ]
     },
     "metadata": {},
     "output_type": "display_data"
    },
    {
     "name": "stderr",
     "output_type": "stream",
     "text": [
      "***** Running Prediction *****\n",
      "  Num examples = 1\n",
      "  Batch size = 64\n"
     ]
    },
    {
     "data": {
      "text/html": [],
      "text/plain": [
       "<IPython.core.display.HTML object>"
      ]
     },
     "metadata": {},
     "output_type": "display_data"
    },
    {
     "name": "stderr",
     "output_type": "stream",
     "text": [
      "***** Running Prediction *****\n",
      "  Num examples = 1\n",
      "  Batch size = 64\n"
     ]
    },
    {
     "data": {
      "text/html": [],
      "text/plain": [
       "<IPython.core.display.HTML object>"
      ]
     },
     "metadata": {},
     "output_type": "display_data"
    },
    {
     "name": "stderr",
     "output_type": "stream",
     "text": [
      "***** Running Prediction *****\n",
      "  Num examples = 1\n",
      "  Batch size = 64\n"
     ]
    },
    {
     "data": {
      "text/html": [],
      "text/plain": [
       "<IPython.core.display.HTML object>"
      ]
     },
     "metadata": {},
     "output_type": "display_data"
    },
    {
     "name": "stderr",
     "output_type": "stream",
     "text": [
      "***** Running Prediction *****\n",
      "  Num examples = 1\n",
      "  Batch size = 64\n"
     ]
    },
    {
     "data": {
      "text/html": [],
      "text/plain": [
       "<IPython.core.display.HTML object>"
      ]
     },
     "metadata": {},
     "output_type": "display_data"
    },
    {
     "name": "stderr",
     "output_type": "stream",
     "text": [
      "***** Running Prediction *****\n",
      "  Num examples = 1\n",
      "  Batch size = 64\n"
     ]
    },
    {
     "data": {
      "text/html": [],
      "text/plain": [
       "<IPython.core.display.HTML object>"
      ]
     },
     "metadata": {},
     "output_type": "display_data"
    },
    {
     "name": "stderr",
     "output_type": "stream",
     "text": [
      "***** Running Prediction *****\n",
      "  Num examples = 1\n",
      "  Batch size = 64\n"
     ]
    },
    {
     "data": {
      "text/html": [],
      "text/plain": [
       "<IPython.core.display.HTML object>"
      ]
     },
     "metadata": {},
     "output_type": "display_data"
    },
    {
     "name": "stderr",
     "output_type": "stream",
     "text": [
      "***** Running Prediction *****\n",
      "  Num examples = 1\n",
      "  Batch size = 64\n"
     ]
    },
    {
     "data": {
      "text/html": [],
      "text/plain": [
       "<IPython.core.display.HTML object>"
      ]
     },
     "metadata": {},
     "output_type": "display_data"
    },
    {
     "name": "stderr",
     "output_type": "stream",
     "text": [
      "***** Running Prediction *****\n",
      "  Num examples = 1\n",
      "  Batch size = 64\n"
     ]
    },
    {
     "data": {
      "text/html": [],
      "text/plain": [
       "<IPython.core.display.HTML object>"
      ]
     },
     "metadata": {},
     "output_type": "display_data"
    },
    {
     "name": "stderr",
     "output_type": "stream",
     "text": [
      "***** Running Prediction *****\n",
      "  Num examples = 1\n",
      "  Batch size = 64\n"
     ]
    },
    {
     "data": {
      "text/html": [],
      "text/plain": [
       "<IPython.core.display.HTML object>"
      ]
     },
     "metadata": {},
     "output_type": "display_data"
    },
    {
     "name": "stderr",
     "output_type": "stream",
     "text": [
      "***** Running Prediction *****\n",
      "  Num examples = 1\n",
      "  Batch size = 64\n"
     ]
    },
    {
     "data": {
      "text/html": [],
      "text/plain": [
       "<IPython.core.display.HTML object>"
      ]
     },
     "metadata": {},
     "output_type": "display_data"
    },
    {
     "name": "stderr",
     "output_type": "stream",
     "text": [
      "***** Running Prediction *****\n",
      "  Num examples = 1\n",
      "  Batch size = 64\n"
     ]
    },
    {
     "data": {
      "text/html": [],
      "text/plain": [
       "<IPython.core.display.HTML object>"
      ]
     },
     "metadata": {},
     "output_type": "display_data"
    },
    {
     "name": "stderr",
     "output_type": "stream",
     "text": [
      "***** Running Prediction *****\n",
      "  Num examples = 1\n",
      "  Batch size = 64\n"
     ]
    },
    {
     "data": {
      "text/html": [],
      "text/plain": [
       "<IPython.core.display.HTML object>"
      ]
     },
     "metadata": {},
     "output_type": "display_data"
    },
    {
     "name": "stderr",
     "output_type": "stream",
     "text": [
      "***** Running Prediction *****\n",
      "  Num examples = 1\n",
      "  Batch size = 64\n"
     ]
    },
    {
     "data": {
      "text/html": [],
      "text/plain": [
       "<IPython.core.display.HTML object>"
      ]
     },
     "metadata": {},
     "output_type": "display_data"
    },
    {
     "name": "stderr",
     "output_type": "stream",
     "text": [
      "***** Running Prediction *****\n",
      "  Num examples = 1\n",
      "  Batch size = 64\n"
     ]
    },
    {
     "data": {
      "text/html": [],
      "text/plain": [
       "<IPython.core.display.HTML object>"
      ]
     },
     "metadata": {},
     "output_type": "display_data"
    },
    {
     "name": "stderr",
     "output_type": "stream",
     "text": [
      "***** Running Prediction *****\n",
      "  Num examples = 1\n",
      "  Batch size = 64\n"
     ]
    },
    {
     "data": {
      "text/html": [],
      "text/plain": [
       "<IPython.core.display.HTML object>"
      ]
     },
     "metadata": {},
     "output_type": "display_data"
    },
    {
     "name": "stderr",
     "output_type": "stream",
     "text": [
      "***** Running Prediction *****\n",
      "  Num examples = 1\n",
      "  Batch size = 64\n"
     ]
    },
    {
     "data": {
      "text/html": [],
      "text/plain": [
       "<IPython.core.display.HTML object>"
      ]
     },
     "metadata": {},
     "output_type": "display_data"
    },
    {
     "name": "stderr",
     "output_type": "stream",
     "text": [
      "***** Running Prediction *****\n",
      "  Num examples = 1\n",
      "  Batch size = 64\n"
     ]
    },
    {
     "data": {
      "text/html": [],
      "text/plain": [
       "<IPython.core.display.HTML object>"
      ]
     },
     "metadata": {},
     "output_type": "display_data"
    },
    {
     "name": "stderr",
     "output_type": "stream",
     "text": [
      "***** Running Prediction *****\n",
      "  Num examples = 1\n",
      "  Batch size = 64\n"
     ]
    },
    {
     "data": {
      "text/html": [],
      "text/plain": [
       "<IPython.core.display.HTML object>"
      ]
     },
     "metadata": {},
     "output_type": "display_data"
    },
    {
     "name": "stderr",
     "output_type": "stream",
     "text": [
      "***** Running Prediction *****\n",
      "  Num examples = 1\n",
      "  Batch size = 64\n"
     ]
    },
    {
     "data": {
      "text/html": [],
      "text/plain": [
       "<IPython.core.display.HTML object>"
      ]
     },
     "metadata": {},
     "output_type": "display_data"
    },
    {
     "name": "stderr",
     "output_type": "stream",
     "text": [
      "***** Running Prediction *****\n",
      "  Num examples = 1\n",
      "  Batch size = 64\n"
     ]
    },
    {
     "data": {
      "text/html": [],
      "text/plain": [
       "<IPython.core.display.HTML object>"
      ]
     },
     "metadata": {},
     "output_type": "display_data"
    },
    {
     "name": "stderr",
     "output_type": "stream",
     "text": [
      "***** Running Prediction *****\n",
      "  Num examples = 1\n",
      "  Batch size = 64\n"
     ]
    },
    {
     "data": {
      "text/html": [],
      "text/plain": [
       "<IPython.core.display.HTML object>"
      ]
     },
     "metadata": {},
     "output_type": "display_data"
    },
    {
     "name": "stderr",
     "output_type": "stream",
     "text": [
      "***** Running Prediction *****\n",
      "  Num examples = 1\n",
      "  Batch size = 64\n"
     ]
    },
    {
     "data": {
      "text/html": [],
      "text/plain": [
       "<IPython.core.display.HTML object>"
      ]
     },
     "metadata": {},
     "output_type": "display_data"
    },
    {
     "name": "stderr",
     "output_type": "stream",
     "text": [
      "***** Running Prediction *****\n",
      "  Num examples = 1\n",
      "  Batch size = 64\n"
     ]
    },
    {
     "data": {
      "text/html": [],
      "text/plain": [
       "<IPython.core.display.HTML object>"
      ]
     },
     "metadata": {},
     "output_type": "display_data"
    },
    {
     "name": "stderr",
     "output_type": "stream",
     "text": [
      "***** Running Prediction *****\n",
      "  Num examples = 1\n",
      "  Batch size = 64\n"
     ]
    },
    {
     "data": {
      "text/html": [],
      "text/plain": [
       "<IPython.core.display.HTML object>"
      ]
     },
     "metadata": {},
     "output_type": "display_data"
    },
    {
     "name": "stderr",
     "output_type": "stream",
     "text": [
      "***** Running Prediction *****\n",
      "  Num examples = 1\n",
      "  Batch size = 64\n"
     ]
    },
    {
     "data": {
      "text/html": [],
      "text/plain": [
       "<IPython.core.display.HTML object>"
      ]
     },
     "metadata": {},
     "output_type": "display_data"
    },
    {
     "name": "stderr",
     "output_type": "stream",
     "text": [
      "***** Running Prediction *****\n",
      "  Num examples = 1\n",
      "  Batch size = 64\n"
     ]
    },
    {
     "data": {
      "text/html": [],
      "text/plain": [
       "<IPython.core.display.HTML object>"
      ]
     },
     "metadata": {},
     "output_type": "display_data"
    },
    {
     "name": "stderr",
     "output_type": "stream",
     "text": [
      "***** Running Prediction *****\n",
      "  Num examples = 1\n",
      "  Batch size = 64\n"
     ]
    },
    {
     "data": {
      "text/html": [],
      "text/plain": [
       "<IPython.core.display.HTML object>"
      ]
     },
     "metadata": {},
     "output_type": "display_data"
    },
    {
     "name": "stderr",
     "output_type": "stream",
     "text": [
      "***** Running Prediction *****\n",
      "  Num examples = 1\n",
      "  Batch size = 64\n"
     ]
    },
    {
     "data": {
      "text/html": [],
      "text/plain": [
       "<IPython.core.display.HTML object>"
      ]
     },
     "metadata": {},
     "output_type": "display_data"
    },
    {
     "name": "stderr",
     "output_type": "stream",
     "text": [
      "***** Running Prediction *****\n",
      "  Num examples = 1\n",
      "  Batch size = 64\n"
     ]
    },
    {
     "data": {
      "text/html": [],
      "text/plain": [
       "<IPython.core.display.HTML object>"
      ]
     },
     "metadata": {},
     "output_type": "display_data"
    },
    {
     "name": "stderr",
     "output_type": "stream",
     "text": [
      "***** Running Prediction *****\n",
      "  Num examples = 1\n",
      "  Batch size = 64\n"
     ]
    },
    {
     "data": {
      "text/html": [],
      "text/plain": [
       "<IPython.core.display.HTML object>"
      ]
     },
     "metadata": {},
     "output_type": "display_data"
    },
    {
     "name": "stderr",
     "output_type": "stream",
     "text": [
      "***** Running Prediction *****\n",
      "  Num examples = 1\n",
      "  Batch size = 64\n"
     ]
    },
    {
     "data": {
      "text/html": [],
      "text/plain": [
       "<IPython.core.display.HTML object>"
      ]
     },
     "metadata": {},
     "output_type": "display_data"
    },
    {
     "name": "stderr",
     "output_type": "stream",
     "text": [
      "***** Running Prediction *****\n",
      "  Num examples = 1\n",
      "  Batch size = 64\n"
     ]
    },
    {
     "data": {
      "text/html": [],
      "text/plain": [
       "<IPython.core.display.HTML object>"
      ]
     },
     "metadata": {},
     "output_type": "display_data"
    },
    {
     "name": "stderr",
     "output_type": "stream",
     "text": [
      "***** Running Prediction *****\n",
      "  Num examples = 1\n",
      "  Batch size = 64\n"
     ]
    },
    {
     "data": {
      "text/html": [],
      "text/plain": [
       "<IPython.core.display.HTML object>"
      ]
     },
     "metadata": {},
     "output_type": "display_data"
    },
    {
     "name": "stderr",
     "output_type": "stream",
     "text": [
      "***** Running Prediction *****\n",
      "  Num examples = 1\n",
      "  Batch size = 64\n"
     ]
    },
    {
     "data": {
      "text/html": [],
      "text/plain": [
       "<IPython.core.display.HTML object>"
      ]
     },
     "metadata": {},
     "output_type": "display_data"
    },
    {
     "name": "stderr",
     "output_type": "stream",
     "text": [
      "***** Running Prediction *****\n",
      "  Num examples = 1\n",
      "  Batch size = 64\n"
     ]
    },
    {
     "data": {
      "text/html": [],
      "text/plain": [
       "<IPython.core.display.HTML object>"
      ]
     },
     "metadata": {},
     "output_type": "display_data"
    },
    {
     "name": "stderr",
     "output_type": "stream",
     "text": [
      "***** Running Prediction *****\n",
      "  Num examples = 1\n",
      "  Batch size = 64\n"
     ]
    },
    {
     "data": {
      "text/html": [],
      "text/plain": [
       "<IPython.core.display.HTML object>"
      ]
     },
     "metadata": {},
     "output_type": "display_data"
    },
    {
     "name": "stderr",
     "output_type": "stream",
     "text": [
      "***** Running Prediction *****\n",
      "  Num examples = 1\n",
      "  Batch size = 64\n"
     ]
    },
    {
     "data": {
      "text/html": [],
      "text/plain": [
       "<IPython.core.display.HTML object>"
      ]
     },
     "metadata": {},
     "output_type": "display_data"
    },
    {
     "name": "stderr",
     "output_type": "stream",
     "text": [
      "***** Running Prediction *****\n",
      "  Num examples = 1\n",
      "  Batch size = 64\n"
     ]
    },
    {
     "data": {
      "text/html": [],
      "text/plain": [
       "<IPython.core.display.HTML object>"
      ]
     },
     "metadata": {},
     "output_type": "display_data"
    },
    {
     "name": "stderr",
     "output_type": "stream",
     "text": [
      "***** Running Prediction *****\n",
      "  Num examples = 1\n",
      "  Batch size = 64\n"
     ]
    },
    {
     "data": {
      "text/html": [],
      "text/plain": [
       "<IPython.core.display.HTML object>"
      ]
     },
     "metadata": {},
     "output_type": "display_data"
    },
    {
     "name": "stderr",
     "output_type": "stream",
     "text": [
      "***** Running Prediction *****\n",
      "  Num examples = 1\n",
      "  Batch size = 64\n"
     ]
    },
    {
     "data": {
      "text/html": [],
      "text/plain": [
       "<IPython.core.display.HTML object>"
      ]
     },
     "metadata": {},
     "output_type": "display_data"
    },
    {
     "name": "stderr",
     "output_type": "stream",
     "text": [
      "***** Running Prediction *****\n",
      "  Num examples = 1\n",
      "  Batch size = 64\n"
     ]
    },
    {
     "data": {
      "text/html": [],
      "text/plain": [
       "<IPython.core.display.HTML object>"
      ]
     },
     "metadata": {},
     "output_type": "display_data"
    },
    {
     "name": "stderr",
     "output_type": "stream",
     "text": [
      "***** Running Prediction *****\n",
      "  Num examples = 1\n",
      "  Batch size = 64\n"
     ]
    },
    {
     "data": {
      "text/html": [],
      "text/plain": [
       "<IPython.core.display.HTML object>"
      ]
     },
     "metadata": {},
     "output_type": "display_data"
    },
    {
     "name": "stderr",
     "output_type": "stream",
     "text": [
      "***** Running Prediction *****\n",
      "  Num examples = 1\n",
      "  Batch size = 64\n"
     ]
    },
    {
     "data": {
      "text/html": [],
      "text/plain": [
       "<IPython.core.display.HTML object>"
      ]
     },
     "metadata": {},
     "output_type": "display_data"
    },
    {
     "name": "stderr",
     "output_type": "stream",
     "text": [
      "***** Running Prediction *****\n",
      "  Num examples = 1\n",
      "  Batch size = 64\n"
     ]
    },
    {
     "data": {
      "text/html": [],
      "text/plain": [
       "<IPython.core.display.HTML object>"
      ]
     },
     "metadata": {},
     "output_type": "display_data"
    },
    {
     "name": "stderr",
     "output_type": "stream",
     "text": [
      "***** Running Prediction *****\n",
      "  Num examples = 1\n",
      "  Batch size = 64\n"
     ]
    },
    {
     "data": {
      "text/html": [],
      "text/plain": [
       "<IPython.core.display.HTML object>"
      ]
     },
     "metadata": {},
     "output_type": "display_data"
    },
    {
     "name": "stderr",
     "output_type": "stream",
     "text": [
      "***** Running Prediction *****\n",
      "  Num examples = 1\n",
      "  Batch size = 64\n"
     ]
    },
    {
     "data": {
      "text/html": [],
      "text/plain": [
       "<IPython.core.display.HTML object>"
      ]
     },
     "metadata": {},
     "output_type": "display_data"
    },
    {
     "name": "stderr",
     "output_type": "stream",
     "text": [
      "***** Running Prediction *****\n",
      "  Num examples = 1\n",
      "  Batch size = 64\n"
     ]
    },
    {
     "data": {
      "text/html": [],
      "text/plain": [
       "<IPython.core.display.HTML object>"
      ]
     },
     "metadata": {},
     "output_type": "display_data"
    },
    {
     "name": "stderr",
     "output_type": "stream",
     "text": [
      "***** Running Prediction *****\n",
      "  Num examples = 1\n",
      "  Batch size = 64\n"
     ]
    },
    {
     "data": {
      "text/html": [],
      "text/plain": [
       "<IPython.core.display.HTML object>"
      ]
     },
     "metadata": {},
     "output_type": "display_data"
    },
    {
     "name": "stderr",
     "output_type": "stream",
     "text": [
      "***** Running Prediction *****\n",
      "  Num examples = 1\n",
      "  Batch size = 64\n"
     ]
    },
    {
     "data": {
      "text/html": [],
      "text/plain": [
       "<IPython.core.display.HTML object>"
      ]
     },
     "metadata": {},
     "output_type": "display_data"
    },
    {
     "name": "stderr",
     "output_type": "stream",
     "text": [
      "***** Running Prediction *****\n",
      "  Num examples = 1\n",
      "  Batch size = 64\n"
     ]
    },
    {
     "data": {
      "text/html": [],
      "text/plain": [
       "<IPython.core.display.HTML object>"
      ]
     },
     "metadata": {},
     "output_type": "display_data"
    },
    {
     "name": "stderr",
     "output_type": "stream",
     "text": [
      "***** Running Prediction *****\n",
      "  Num examples = 1\n",
      "  Batch size = 64\n"
     ]
    },
    {
     "data": {
      "text/html": [],
      "text/plain": [
       "<IPython.core.display.HTML object>"
      ]
     },
     "metadata": {},
     "output_type": "display_data"
    },
    {
     "name": "stderr",
     "output_type": "stream",
     "text": [
      "***** Running Prediction *****\n",
      "  Num examples = 1\n",
      "  Batch size = 64\n"
     ]
    },
    {
     "data": {
      "text/html": [],
      "text/plain": [
       "<IPython.core.display.HTML object>"
      ]
     },
     "metadata": {},
     "output_type": "display_data"
    },
    {
     "name": "stderr",
     "output_type": "stream",
     "text": [
      "***** Running Prediction *****\n",
      "  Num examples = 1\n",
      "  Batch size = 64\n"
     ]
    },
    {
     "data": {
      "text/html": [],
      "text/plain": [
       "<IPython.core.display.HTML object>"
      ]
     },
     "metadata": {},
     "output_type": "display_data"
    },
    {
     "name": "stderr",
     "output_type": "stream",
     "text": [
      "***** Running Prediction *****\n",
      "  Num examples = 1\n",
      "  Batch size = 64\n"
     ]
    },
    {
     "data": {
      "text/html": [],
      "text/plain": [
       "<IPython.core.display.HTML object>"
      ]
     },
     "metadata": {},
     "output_type": "display_data"
    },
    {
     "name": "stderr",
     "output_type": "stream",
     "text": [
      "***** Running Prediction *****\n",
      "  Num examples = 1\n",
      "  Batch size = 64\n"
     ]
    },
    {
     "data": {
      "text/html": [],
      "text/plain": [
       "<IPython.core.display.HTML object>"
      ]
     },
     "metadata": {},
     "output_type": "display_data"
    },
    {
     "name": "stderr",
     "output_type": "stream",
     "text": [
      "***** Running Prediction *****\n",
      "  Num examples = 1\n",
      "  Batch size = 64\n"
     ]
    },
    {
     "data": {
      "text/html": [],
      "text/plain": [
       "<IPython.core.display.HTML object>"
      ]
     },
     "metadata": {},
     "output_type": "display_data"
    },
    {
     "name": "stderr",
     "output_type": "stream",
     "text": [
      "***** Running Prediction *****\n",
      "  Num examples = 1\n",
      "  Batch size = 64\n"
     ]
    },
    {
     "data": {
      "text/html": [],
      "text/plain": [
       "<IPython.core.display.HTML object>"
      ]
     },
     "metadata": {},
     "output_type": "display_data"
    },
    {
     "name": "stderr",
     "output_type": "stream",
     "text": [
      "***** Running Prediction *****\n",
      "  Num examples = 1\n",
      "  Batch size = 64\n"
     ]
    },
    {
     "data": {
      "text/html": [],
      "text/plain": [
       "<IPython.core.display.HTML object>"
      ]
     },
     "metadata": {},
     "output_type": "display_data"
    },
    {
     "name": "stderr",
     "output_type": "stream",
     "text": [
      "***** Running Prediction *****\n",
      "  Num examples = 1\n",
      "  Batch size = 64\n"
     ]
    },
    {
     "data": {
      "text/html": [],
      "text/plain": [
       "<IPython.core.display.HTML object>"
      ]
     },
     "metadata": {},
     "output_type": "display_data"
    },
    {
     "name": "stderr",
     "output_type": "stream",
     "text": [
      "***** Running Prediction *****\n",
      "  Num examples = 1\n",
      "  Batch size = 64\n"
     ]
    },
    {
     "data": {
      "text/html": [],
      "text/plain": [
       "<IPython.core.display.HTML object>"
      ]
     },
     "metadata": {},
     "output_type": "display_data"
    },
    {
     "name": "stderr",
     "output_type": "stream",
     "text": [
      "***** Running Prediction *****\n",
      "  Num examples = 1\n",
      "  Batch size = 64\n"
     ]
    },
    {
     "data": {
      "text/html": [],
      "text/plain": [
       "<IPython.core.display.HTML object>"
      ]
     },
     "metadata": {},
     "output_type": "display_data"
    },
    {
     "name": "stderr",
     "output_type": "stream",
     "text": [
      "***** Running Prediction *****\n",
      "  Num examples = 1\n",
      "  Batch size = 64\n"
     ]
    },
    {
     "data": {
      "text/html": [],
      "text/plain": [
       "<IPython.core.display.HTML object>"
      ]
     },
     "metadata": {},
     "output_type": "display_data"
    },
    {
     "name": "stderr",
     "output_type": "stream",
     "text": [
      "***** Running Prediction *****\n",
      "  Num examples = 1\n",
      "  Batch size = 64\n"
     ]
    },
    {
     "data": {
      "text/html": [],
      "text/plain": [
       "<IPython.core.display.HTML object>"
      ]
     },
     "metadata": {},
     "output_type": "display_data"
    },
    {
     "name": "stderr",
     "output_type": "stream",
     "text": [
      "***** Running Prediction *****\n",
      "  Num examples = 1\n",
      "  Batch size = 64\n"
     ]
    },
    {
     "data": {
      "text/html": [],
      "text/plain": [
       "<IPython.core.display.HTML object>"
      ]
     },
     "metadata": {},
     "output_type": "display_data"
    },
    {
     "name": "stderr",
     "output_type": "stream",
     "text": [
      "***** Running Prediction *****\n",
      "  Num examples = 1\n",
      "  Batch size = 64\n"
     ]
    },
    {
     "data": {
      "text/html": [],
      "text/plain": [
       "<IPython.core.display.HTML object>"
      ]
     },
     "metadata": {},
     "output_type": "display_data"
    },
    {
     "name": "stderr",
     "output_type": "stream",
     "text": [
      "***** Running Prediction *****\n",
      "  Num examples = 1\n",
      "  Batch size = 64\n"
     ]
    },
    {
     "data": {
      "text/html": [],
      "text/plain": [
       "<IPython.core.display.HTML object>"
      ]
     },
     "metadata": {},
     "output_type": "display_data"
    },
    {
     "name": "stderr",
     "output_type": "stream",
     "text": [
      "***** Running Prediction *****\n",
      "  Num examples = 1\n",
      "  Batch size = 64\n"
     ]
    },
    {
     "data": {
      "text/html": [],
      "text/plain": [
       "<IPython.core.display.HTML object>"
      ]
     },
     "metadata": {},
     "output_type": "display_data"
    },
    {
     "name": "stderr",
     "output_type": "stream",
     "text": [
      "***** Running Prediction *****\n",
      "  Num examples = 1\n",
      "  Batch size = 64\n"
     ]
    },
    {
     "data": {
      "text/html": [],
      "text/plain": [
       "<IPython.core.display.HTML object>"
      ]
     },
     "metadata": {},
     "output_type": "display_data"
    },
    {
     "name": "stderr",
     "output_type": "stream",
     "text": [
      "***** Running Prediction *****\n",
      "  Num examples = 1\n",
      "  Batch size = 64\n"
     ]
    },
    {
     "data": {
      "text/html": [],
      "text/plain": [
       "<IPython.core.display.HTML object>"
      ]
     },
     "metadata": {},
     "output_type": "display_data"
    },
    {
     "name": "stderr",
     "output_type": "stream",
     "text": [
      "***** Running Prediction *****\n",
      "  Num examples = 1\n",
      "  Batch size = 64\n"
     ]
    },
    {
     "data": {
      "text/html": [],
      "text/plain": [
       "<IPython.core.display.HTML object>"
      ]
     },
     "metadata": {},
     "output_type": "display_data"
    },
    {
     "name": "stderr",
     "output_type": "stream",
     "text": [
      "***** Running Prediction *****\n",
      "  Num examples = 1\n",
      "  Batch size = 64\n"
     ]
    },
    {
     "data": {
      "text/html": [],
      "text/plain": [
       "<IPython.core.display.HTML object>"
      ]
     },
     "metadata": {},
     "output_type": "display_data"
    },
    {
     "name": "stderr",
     "output_type": "stream",
     "text": [
      "***** Running Prediction *****\n",
      "  Num examples = 1\n",
      "  Batch size = 64\n"
     ]
    },
    {
     "data": {
      "text/html": [],
      "text/plain": [
       "<IPython.core.display.HTML object>"
      ]
     },
     "metadata": {},
     "output_type": "display_data"
    },
    {
     "name": "stderr",
     "output_type": "stream",
     "text": [
      "***** Running Prediction *****\n",
      "  Num examples = 1\n",
      "  Batch size = 64\n"
     ]
    },
    {
     "data": {
      "text/html": [],
      "text/plain": [
       "<IPython.core.display.HTML object>"
      ]
     },
     "metadata": {},
     "output_type": "display_data"
    },
    {
     "name": "stderr",
     "output_type": "stream",
     "text": [
      "***** Running Prediction *****\n",
      "  Num examples = 1\n",
      "  Batch size = 64\n"
     ]
    },
    {
     "data": {
      "text/html": [],
      "text/plain": [
       "<IPython.core.display.HTML object>"
      ]
     },
     "metadata": {},
     "output_type": "display_data"
    },
    {
     "name": "stderr",
     "output_type": "stream",
     "text": [
      "***** Running Prediction *****\n",
      "  Num examples = 1\n",
      "  Batch size = 64\n"
     ]
    },
    {
     "data": {
      "text/html": [],
      "text/plain": [
       "<IPython.core.display.HTML object>"
      ]
     },
     "metadata": {},
     "output_type": "display_data"
    },
    {
     "name": "stderr",
     "output_type": "stream",
     "text": [
      "***** Running Prediction *****\n",
      "  Num examples = 1\n",
      "  Batch size = 64\n"
     ]
    },
    {
     "data": {
      "text/html": [],
      "text/plain": [
       "<IPython.core.display.HTML object>"
      ]
     },
     "metadata": {},
     "output_type": "display_data"
    },
    {
     "name": "stderr",
     "output_type": "stream",
     "text": [
      "***** Running Prediction *****\n",
      "  Num examples = 1\n",
      "  Batch size = 64\n"
     ]
    },
    {
     "data": {
      "text/html": [],
      "text/plain": [
       "<IPython.core.display.HTML object>"
      ]
     },
     "metadata": {},
     "output_type": "display_data"
    },
    {
     "name": "stderr",
     "output_type": "stream",
     "text": [
      "***** Running Prediction *****\n",
      "  Num examples = 1\n",
      "  Batch size = 64\n"
     ]
    },
    {
     "data": {
      "text/html": [],
      "text/plain": [
       "<IPython.core.display.HTML object>"
      ]
     },
     "metadata": {},
     "output_type": "display_data"
    },
    {
     "name": "stderr",
     "output_type": "stream",
     "text": [
      "***** Running Prediction *****\n",
      "  Num examples = 1\n",
      "  Batch size = 64\n"
     ]
    },
    {
     "data": {
      "text/html": [],
      "text/plain": [
       "<IPython.core.display.HTML object>"
      ]
     },
     "metadata": {},
     "output_type": "display_data"
    },
    {
     "name": "stderr",
     "output_type": "stream",
     "text": [
      "***** Running Prediction *****\n",
      "  Num examples = 1\n",
      "  Batch size = 64\n"
     ]
    },
    {
     "data": {
      "text/html": [],
      "text/plain": [
       "<IPython.core.display.HTML object>"
      ]
     },
     "metadata": {},
     "output_type": "display_data"
    },
    {
     "name": "stderr",
     "output_type": "stream",
     "text": [
      "***** Running Prediction *****\n",
      "  Num examples = 1\n",
      "  Batch size = 64\n"
     ]
    },
    {
     "data": {
      "text/html": [],
      "text/plain": [
       "<IPython.core.display.HTML object>"
      ]
     },
     "metadata": {},
     "output_type": "display_data"
    },
    {
     "name": "stderr",
     "output_type": "stream",
     "text": [
      "***** Running Prediction *****\n",
      "  Num examples = 1\n",
      "  Batch size = 64\n"
     ]
    },
    {
     "data": {
      "text/html": [],
      "text/plain": [
       "<IPython.core.display.HTML object>"
      ]
     },
     "metadata": {},
     "output_type": "display_data"
    },
    {
     "name": "stderr",
     "output_type": "stream",
     "text": [
      "***** Running Prediction *****\n",
      "  Num examples = 1\n",
      "  Batch size = 64\n"
     ]
    },
    {
     "data": {
      "text/html": [],
      "text/plain": [
       "<IPython.core.display.HTML object>"
      ]
     },
     "metadata": {},
     "output_type": "display_data"
    },
    {
     "name": "stderr",
     "output_type": "stream",
     "text": [
      "***** Running Prediction *****\n",
      "  Num examples = 1\n",
      "  Batch size = 64\n"
     ]
    },
    {
     "data": {
      "text/html": [],
      "text/plain": [
       "<IPython.core.display.HTML object>"
      ]
     },
     "metadata": {},
     "output_type": "display_data"
    },
    {
     "name": "stderr",
     "output_type": "stream",
     "text": [
      "***** Running Prediction *****\n",
      "  Num examples = 1\n",
      "  Batch size = 64\n"
     ]
    },
    {
     "data": {
      "text/html": [],
      "text/plain": [
       "<IPython.core.display.HTML object>"
      ]
     },
     "metadata": {},
     "output_type": "display_data"
    },
    {
     "name": "stderr",
     "output_type": "stream",
     "text": [
      "***** Running Prediction *****\n",
      "  Num examples = 1\n",
      "  Batch size = 64\n"
     ]
    },
    {
     "data": {
      "text/html": [],
      "text/plain": [
       "<IPython.core.display.HTML object>"
      ]
     },
     "metadata": {},
     "output_type": "display_data"
    },
    {
     "name": "stderr",
     "output_type": "stream",
     "text": [
      "***** Running Prediction *****\n",
      "  Num examples = 1\n",
      "  Batch size = 64\n"
     ]
    },
    {
     "data": {
      "text/html": [],
      "text/plain": [
       "<IPython.core.display.HTML object>"
      ]
     },
     "metadata": {},
     "output_type": "display_data"
    },
    {
     "name": "stderr",
     "output_type": "stream",
     "text": [
      "***** Running Prediction *****\n",
      "  Num examples = 1\n",
      "  Batch size = 64\n"
     ]
    },
    {
     "data": {
      "text/html": [],
      "text/plain": [
       "<IPython.core.display.HTML object>"
      ]
     },
     "metadata": {},
     "output_type": "display_data"
    },
    {
     "name": "stderr",
     "output_type": "stream",
     "text": [
      "***** Running Prediction *****\n",
      "  Num examples = 1\n",
      "  Batch size = 64\n"
     ]
    },
    {
     "data": {
      "text/html": [],
      "text/plain": [
       "<IPython.core.display.HTML object>"
      ]
     },
     "metadata": {},
     "output_type": "display_data"
    },
    {
     "name": "stderr",
     "output_type": "stream",
     "text": [
      "***** Running Prediction *****\n",
      "  Num examples = 1\n",
      "  Batch size = 64\n"
     ]
    },
    {
     "data": {
      "text/html": [],
      "text/plain": [
       "<IPython.core.display.HTML object>"
      ]
     },
     "metadata": {},
     "output_type": "display_data"
    },
    {
     "name": "stderr",
     "output_type": "stream",
     "text": [
      "***** Running Prediction *****\n",
      "  Num examples = 1\n",
      "  Batch size = 64\n"
     ]
    },
    {
     "data": {
      "text/html": [],
      "text/plain": [
       "<IPython.core.display.HTML object>"
      ]
     },
     "metadata": {},
     "output_type": "display_data"
    },
    {
     "name": "stderr",
     "output_type": "stream",
     "text": [
      "***** Running Prediction *****\n",
      "  Num examples = 1\n",
      "  Batch size = 64\n"
     ]
    },
    {
     "data": {
      "text/html": [],
      "text/plain": [
       "<IPython.core.display.HTML object>"
      ]
     },
     "metadata": {},
     "output_type": "display_data"
    },
    {
     "name": "stderr",
     "output_type": "stream",
     "text": [
      "***** Running Prediction *****\n",
      "  Num examples = 1\n",
      "  Batch size = 64\n"
     ]
    },
    {
     "data": {
      "text/html": [],
      "text/plain": [
       "<IPython.core.display.HTML object>"
      ]
     },
     "metadata": {},
     "output_type": "display_data"
    },
    {
     "name": "stderr",
     "output_type": "stream",
     "text": [
      "***** Running Prediction *****\n",
      "  Num examples = 1\n",
      "  Batch size = 64\n"
     ]
    },
    {
     "data": {
      "text/html": [],
      "text/plain": [
       "<IPython.core.display.HTML object>"
      ]
     },
     "metadata": {},
     "output_type": "display_data"
    },
    {
     "name": "stderr",
     "output_type": "stream",
     "text": [
      "***** Running Prediction *****\n",
      "  Num examples = 1\n",
      "  Batch size = 64\n"
     ]
    },
    {
     "data": {
      "text/html": [],
      "text/plain": [
       "<IPython.core.display.HTML object>"
      ]
     },
     "metadata": {},
     "output_type": "display_data"
    },
    {
     "name": "stderr",
     "output_type": "stream",
     "text": [
      "***** Running Prediction *****\n",
      "  Num examples = 1\n",
      "  Batch size = 64\n"
     ]
    },
    {
     "data": {
      "text/html": [],
      "text/plain": [
       "<IPython.core.display.HTML object>"
      ]
     },
     "metadata": {},
     "output_type": "display_data"
    },
    {
     "name": "stderr",
     "output_type": "stream",
     "text": [
      "***** Running Prediction *****\n",
      "  Num examples = 1\n",
      "  Batch size = 64\n"
     ]
    },
    {
     "data": {
      "text/html": [],
      "text/plain": [
       "<IPython.core.display.HTML object>"
      ]
     },
     "metadata": {},
     "output_type": "display_data"
    },
    {
     "name": "stderr",
     "output_type": "stream",
     "text": [
      "***** Running Prediction *****\n",
      "  Num examples = 1\n",
      "  Batch size = 64\n"
     ]
    },
    {
     "data": {
      "text/html": [],
      "text/plain": [
       "<IPython.core.display.HTML object>"
      ]
     },
     "metadata": {},
     "output_type": "display_data"
    },
    {
     "name": "stderr",
     "output_type": "stream",
     "text": [
      "***** Running Prediction *****\n",
      "  Num examples = 1\n",
      "  Batch size = 64\n"
     ]
    },
    {
     "data": {
      "text/html": [],
      "text/plain": [
       "<IPython.core.display.HTML object>"
      ]
     },
     "metadata": {},
     "output_type": "display_data"
    },
    {
     "name": "stderr",
     "output_type": "stream",
     "text": [
      "***** Running Prediction *****\n",
      "  Num examples = 1\n",
      "  Batch size = 64\n"
     ]
    },
    {
     "data": {
      "text/html": [],
      "text/plain": [
       "<IPython.core.display.HTML object>"
      ]
     },
     "metadata": {},
     "output_type": "display_data"
    },
    {
     "name": "stderr",
     "output_type": "stream",
     "text": [
      "***** Running Prediction *****\n",
      "  Num examples = 1\n",
      "  Batch size = 64\n"
     ]
    },
    {
     "data": {
      "text/html": [],
      "text/plain": [
       "<IPython.core.display.HTML object>"
      ]
     },
     "metadata": {},
     "output_type": "display_data"
    },
    {
     "name": "stderr",
     "output_type": "stream",
     "text": [
      "***** Running Prediction *****\n",
      "  Num examples = 1\n",
      "  Batch size = 64\n"
     ]
    },
    {
     "data": {
      "text/html": [],
      "text/plain": [
       "<IPython.core.display.HTML object>"
      ]
     },
     "metadata": {},
     "output_type": "display_data"
    },
    {
     "name": "stderr",
     "output_type": "stream",
     "text": [
      "***** Running Prediction *****\n",
      "  Num examples = 1\n",
      "  Batch size = 64\n"
     ]
    },
    {
     "data": {
      "text/html": [],
      "text/plain": [
       "<IPython.core.display.HTML object>"
      ]
     },
     "metadata": {},
     "output_type": "display_data"
    },
    {
     "name": "stderr",
     "output_type": "stream",
     "text": [
      "***** Running Prediction *****\n",
      "  Num examples = 1\n",
      "  Batch size = 64\n"
     ]
    },
    {
     "data": {
      "text/html": [],
      "text/plain": [
       "<IPython.core.display.HTML object>"
      ]
     },
     "metadata": {},
     "output_type": "display_data"
    },
    {
     "name": "stderr",
     "output_type": "stream",
     "text": [
      "***** Running Prediction *****\n",
      "  Num examples = 1\n",
      "  Batch size = 64\n"
     ]
    },
    {
     "data": {
      "text/html": [],
      "text/plain": [
       "<IPython.core.display.HTML object>"
      ]
     },
     "metadata": {},
     "output_type": "display_data"
    },
    {
     "name": "stderr",
     "output_type": "stream",
     "text": [
      "***** Running Prediction *****\n",
      "  Num examples = 1\n",
      "  Batch size = 64\n"
     ]
    },
    {
     "data": {
      "text/html": [],
      "text/plain": [
       "<IPython.core.display.HTML object>"
      ]
     },
     "metadata": {},
     "output_type": "display_data"
    },
    {
     "name": "stderr",
     "output_type": "stream",
     "text": [
      "***** Running Prediction *****\n",
      "  Num examples = 1\n",
      "  Batch size = 64\n"
     ]
    },
    {
     "data": {
      "text/html": [],
      "text/plain": [
       "<IPython.core.display.HTML object>"
      ]
     },
     "metadata": {},
     "output_type": "display_data"
    },
    {
     "name": "stderr",
     "output_type": "stream",
     "text": [
      "***** Running Prediction *****\n",
      "  Num examples = 1\n",
      "  Batch size = 64\n"
     ]
    },
    {
     "data": {
      "text/html": [],
      "text/plain": [
       "<IPython.core.display.HTML object>"
      ]
     },
     "metadata": {},
     "output_type": "display_data"
    },
    {
     "name": "stderr",
     "output_type": "stream",
     "text": [
      "***** Running Prediction *****\n",
      "  Num examples = 1\n",
      "  Batch size = 64\n"
     ]
    },
    {
     "data": {
      "text/html": [],
      "text/plain": [
       "<IPython.core.display.HTML object>"
      ]
     },
     "metadata": {},
     "output_type": "display_data"
    },
    {
     "name": "stderr",
     "output_type": "stream",
     "text": [
      "***** Running Prediction *****\n",
      "  Num examples = 1\n",
      "  Batch size = 64\n"
     ]
    },
    {
     "data": {
      "text/html": [],
      "text/plain": [
       "<IPython.core.display.HTML object>"
      ]
     },
     "metadata": {},
     "output_type": "display_data"
    },
    {
     "name": "stderr",
     "output_type": "stream",
     "text": [
      "***** Running Prediction *****\n",
      "  Num examples = 1\n",
      "  Batch size = 64\n"
     ]
    },
    {
     "data": {
      "text/html": [],
      "text/plain": [
       "<IPython.core.display.HTML object>"
      ]
     },
     "metadata": {},
     "output_type": "display_data"
    },
    {
     "name": "stderr",
     "output_type": "stream",
     "text": [
      "***** Running Prediction *****\n",
      "  Num examples = 1\n",
      "  Batch size = 64\n"
     ]
    },
    {
     "data": {
      "text/html": [],
      "text/plain": [
       "<IPython.core.display.HTML object>"
      ]
     },
     "metadata": {},
     "output_type": "display_data"
    },
    {
     "name": "stderr",
     "output_type": "stream",
     "text": [
      "***** Running Prediction *****\n",
      "  Num examples = 1\n",
      "  Batch size = 64\n"
     ]
    },
    {
     "data": {
      "text/html": [],
      "text/plain": [
       "<IPython.core.display.HTML object>"
      ]
     },
     "metadata": {},
     "output_type": "display_data"
    },
    {
     "name": "stderr",
     "output_type": "stream",
     "text": [
      "***** Running Prediction *****\n",
      "  Num examples = 1\n",
      "  Batch size = 64\n"
     ]
    },
    {
     "data": {
      "text/html": [],
      "text/plain": [
       "<IPython.core.display.HTML object>"
      ]
     },
     "metadata": {},
     "output_type": "display_data"
    },
    {
     "name": "stderr",
     "output_type": "stream",
     "text": [
      "***** Running Prediction *****\n",
      "  Num examples = 1\n",
      "  Batch size = 64\n"
     ]
    },
    {
     "data": {
      "text/html": [],
      "text/plain": [
       "<IPython.core.display.HTML object>"
      ]
     },
     "metadata": {},
     "output_type": "display_data"
    },
    {
     "name": "stderr",
     "output_type": "stream",
     "text": [
      "***** Running Prediction *****\n",
      "  Num examples = 1\n",
      "  Batch size = 64\n"
     ]
    },
    {
     "data": {
      "text/html": [],
      "text/plain": [
       "<IPython.core.display.HTML object>"
      ]
     },
     "metadata": {},
     "output_type": "display_data"
    },
    {
     "name": "stderr",
     "output_type": "stream",
     "text": [
      "***** Running Prediction *****\n",
      "  Num examples = 1\n",
      "  Batch size = 64\n"
     ]
    },
    {
     "data": {
      "text/html": [],
      "text/plain": [
       "<IPython.core.display.HTML object>"
      ]
     },
     "metadata": {},
     "output_type": "display_data"
    },
    {
     "name": "stderr",
     "output_type": "stream",
     "text": [
      "***** Running Prediction *****\n",
      "  Num examples = 1\n",
      "  Batch size = 64\n"
     ]
    },
    {
     "data": {
      "text/html": [],
      "text/plain": [
       "<IPython.core.display.HTML object>"
      ]
     },
     "metadata": {},
     "output_type": "display_data"
    },
    {
     "name": "stderr",
     "output_type": "stream",
     "text": [
      "***** Running Prediction *****\n",
      "  Num examples = 1\n",
      "  Batch size = 64\n"
     ]
    },
    {
     "data": {
      "text/html": [],
      "text/plain": [
       "<IPython.core.display.HTML object>"
      ]
     },
     "metadata": {},
     "output_type": "display_data"
    },
    {
     "name": "stderr",
     "output_type": "stream",
     "text": [
      "***** Running Prediction *****\n",
      "  Num examples = 1\n",
      "  Batch size = 64\n"
     ]
    },
    {
     "data": {
      "text/html": [],
      "text/plain": [
       "<IPython.core.display.HTML object>"
      ]
     },
     "metadata": {},
     "output_type": "display_data"
    },
    {
     "name": "stderr",
     "output_type": "stream",
     "text": [
      "***** Running Prediction *****\n",
      "  Num examples = 1\n",
      "  Batch size = 64\n"
     ]
    },
    {
     "data": {
      "text/html": [],
      "text/plain": [
       "<IPython.core.display.HTML object>"
      ]
     },
     "metadata": {},
     "output_type": "display_data"
    },
    {
     "name": "stderr",
     "output_type": "stream",
     "text": [
      "***** Running Prediction *****\n",
      "  Num examples = 1\n",
      "  Batch size = 64\n"
     ]
    },
    {
     "data": {
      "text/html": [],
      "text/plain": [
       "<IPython.core.display.HTML object>"
      ]
     },
     "metadata": {},
     "output_type": "display_data"
    },
    {
     "name": "stderr",
     "output_type": "stream",
     "text": [
      "***** Running Prediction *****\n",
      "  Num examples = 1\n",
      "  Batch size = 64\n"
     ]
    },
    {
     "data": {
      "text/html": [],
      "text/plain": [
       "<IPython.core.display.HTML object>"
      ]
     },
     "metadata": {},
     "output_type": "display_data"
    },
    {
     "name": "stderr",
     "output_type": "stream",
     "text": [
      "***** Running Prediction *****\n",
      "  Num examples = 1\n",
      "  Batch size = 64\n"
     ]
    },
    {
     "data": {
      "text/html": [],
      "text/plain": [
       "<IPython.core.display.HTML object>"
      ]
     },
     "metadata": {},
     "output_type": "display_data"
    },
    {
     "name": "stderr",
     "output_type": "stream",
     "text": [
      "***** Running Prediction *****\n",
      "  Num examples = 1\n",
      "  Batch size = 64\n"
     ]
    },
    {
     "data": {
      "text/html": [],
      "text/plain": [
       "<IPython.core.display.HTML object>"
      ]
     },
     "metadata": {},
     "output_type": "display_data"
    },
    {
     "name": "stderr",
     "output_type": "stream",
     "text": [
      "***** Running Prediction *****\n",
      "  Num examples = 1\n",
      "  Batch size = 64\n"
     ]
    },
    {
     "data": {
      "text/html": [],
      "text/plain": [
       "<IPython.core.display.HTML object>"
      ]
     },
     "metadata": {},
     "output_type": "display_data"
    },
    {
     "name": "stderr",
     "output_type": "stream",
     "text": [
      "***** Running Prediction *****\n",
      "  Num examples = 1\n",
      "  Batch size = 64\n"
     ]
    },
    {
     "data": {
      "text/html": [],
      "text/plain": [
       "<IPython.core.display.HTML object>"
      ]
     },
     "metadata": {},
     "output_type": "display_data"
    },
    {
     "name": "stderr",
     "output_type": "stream",
     "text": [
      "***** Running Prediction *****\n",
      "  Num examples = 1\n",
      "  Batch size = 64\n"
     ]
    },
    {
     "data": {
      "text/html": [],
      "text/plain": [
       "<IPython.core.display.HTML object>"
      ]
     },
     "metadata": {},
     "output_type": "display_data"
    },
    {
     "name": "stderr",
     "output_type": "stream",
     "text": [
      "***** Running Prediction *****\n",
      "  Num examples = 1\n",
      "  Batch size = 64\n"
     ]
    },
    {
     "data": {
      "text/html": [],
      "text/plain": [
       "<IPython.core.display.HTML object>"
      ]
     },
     "metadata": {},
     "output_type": "display_data"
    },
    {
     "name": "stderr",
     "output_type": "stream",
     "text": [
      "***** Running Prediction *****\n",
      "  Num examples = 1\n",
      "  Batch size = 64\n"
     ]
    },
    {
     "data": {
      "text/html": [],
      "text/plain": [
       "<IPython.core.display.HTML object>"
      ]
     },
     "metadata": {},
     "output_type": "display_data"
    },
    {
     "name": "stderr",
     "output_type": "stream",
     "text": [
      "***** Running Prediction *****\n",
      "  Num examples = 1\n",
      "  Batch size = 64\n"
     ]
    },
    {
     "data": {
      "text/html": [],
      "text/plain": [
       "<IPython.core.display.HTML object>"
      ]
     },
     "metadata": {},
     "output_type": "display_data"
    },
    {
     "name": "stderr",
     "output_type": "stream",
     "text": [
      "***** Running Prediction *****\n",
      "  Num examples = 1\n",
      "  Batch size = 64\n"
     ]
    },
    {
     "data": {
      "text/html": [],
      "text/plain": [
       "<IPython.core.display.HTML object>"
      ]
     },
     "metadata": {},
     "output_type": "display_data"
    },
    {
     "name": "stderr",
     "output_type": "stream",
     "text": [
      "***** Running Prediction *****\n",
      "  Num examples = 1\n",
      "  Batch size = 64\n"
     ]
    },
    {
     "data": {
      "text/html": [],
      "text/plain": [
       "<IPython.core.display.HTML object>"
      ]
     },
     "metadata": {},
     "output_type": "display_data"
    },
    {
     "name": "stderr",
     "output_type": "stream",
     "text": [
      "***** Running Prediction *****\n",
      "  Num examples = 1\n",
      "  Batch size = 64\n"
     ]
    },
    {
     "data": {
      "text/html": [],
      "text/plain": [
       "<IPython.core.display.HTML object>"
      ]
     },
     "metadata": {},
     "output_type": "display_data"
    },
    {
     "name": "stderr",
     "output_type": "stream",
     "text": [
      "***** Running Prediction *****\n",
      "  Num examples = 1\n",
      "  Batch size = 64\n"
     ]
    },
    {
     "data": {
      "text/html": [],
      "text/plain": [
       "<IPython.core.display.HTML object>"
      ]
     },
     "metadata": {},
     "output_type": "display_data"
    },
    {
     "name": "stderr",
     "output_type": "stream",
     "text": [
      "***** Running Prediction *****\n",
      "  Num examples = 1\n",
      "  Batch size = 64\n"
     ]
    },
    {
     "data": {
      "text/html": [],
      "text/plain": [
       "<IPython.core.display.HTML object>"
      ]
     },
     "metadata": {},
     "output_type": "display_data"
    },
    {
     "name": "stderr",
     "output_type": "stream",
     "text": [
      "***** Running Prediction *****\n",
      "  Num examples = 1\n",
      "  Batch size = 64\n"
     ]
    },
    {
     "data": {
      "text/html": [],
      "text/plain": [
       "<IPython.core.display.HTML object>"
      ]
     },
     "metadata": {},
     "output_type": "display_data"
    },
    {
     "name": "stderr",
     "output_type": "stream",
     "text": [
      "***** Running Prediction *****\n",
      "  Num examples = 1\n",
      "  Batch size = 64\n"
     ]
    },
    {
     "data": {
      "text/html": [],
      "text/plain": [
       "<IPython.core.display.HTML object>"
      ]
     },
     "metadata": {},
     "output_type": "display_data"
    },
    {
     "name": "stderr",
     "output_type": "stream",
     "text": [
      "***** Running Prediction *****\n",
      "  Num examples = 1\n",
      "  Batch size = 64\n"
     ]
    },
    {
     "data": {
      "text/html": [],
      "text/plain": [
       "<IPython.core.display.HTML object>"
      ]
     },
     "metadata": {},
     "output_type": "display_data"
    },
    {
     "name": "stderr",
     "output_type": "stream",
     "text": [
      "***** Running Prediction *****\n",
      "  Num examples = 1\n",
      "  Batch size = 64\n"
     ]
    },
    {
     "data": {
      "text/html": [],
      "text/plain": [
       "<IPython.core.display.HTML object>"
      ]
     },
     "metadata": {},
     "output_type": "display_data"
    },
    {
     "name": "stderr",
     "output_type": "stream",
     "text": [
      "***** Running Prediction *****\n",
      "  Num examples = 1\n",
      "  Batch size = 64\n"
     ]
    },
    {
     "data": {
      "text/html": [],
      "text/plain": [
       "<IPython.core.display.HTML object>"
      ]
     },
     "metadata": {},
     "output_type": "display_data"
    },
    {
     "name": "stderr",
     "output_type": "stream",
     "text": [
      "***** Running Prediction *****\n",
      "  Num examples = 1\n",
      "  Batch size = 64\n"
     ]
    },
    {
     "data": {
      "text/html": [],
      "text/plain": [
       "<IPython.core.display.HTML object>"
      ]
     },
     "metadata": {},
     "output_type": "display_data"
    },
    {
     "name": "stderr",
     "output_type": "stream",
     "text": [
      "***** Running Prediction *****\n",
      "  Num examples = 1\n",
      "  Batch size = 64\n"
     ]
    },
    {
     "data": {
      "text/html": [],
      "text/plain": [
       "<IPython.core.display.HTML object>"
      ]
     },
     "metadata": {},
     "output_type": "display_data"
    },
    {
     "name": "stderr",
     "output_type": "stream",
     "text": [
      "***** Running Prediction *****\n",
      "  Num examples = 1\n",
      "  Batch size = 64\n"
     ]
    },
    {
     "data": {
      "text/html": [],
      "text/plain": [
       "<IPython.core.display.HTML object>"
      ]
     },
     "metadata": {},
     "output_type": "display_data"
    },
    {
     "name": "stderr",
     "output_type": "stream",
     "text": [
      "***** Running Prediction *****\n",
      "  Num examples = 1\n",
      "  Batch size = 64\n"
     ]
    },
    {
     "data": {
      "text/html": [],
      "text/plain": [
       "<IPython.core.display.HTML object>"
      ]
     },
     "metadata": {},
     "output_type": "display_data"
    },
    {
     "name": "stderr",
     "output_type": "stream",
     "text": [
      "***** Running Prediction *****\n",
      "  Num examples = 1\n",
      "  Batch size = 64\n"
     ]
    },
    {
     "data": {
      "text/html": [],
      "text/plain": [
       "<IPython.core.display.HTML object>"
      ]
     },
     "metadata": {},
     "output_type": "display_data"
    },
    {
     "name": "stderr",
     "output_type": "stream",
     "text": [
      "***** Running Prediction *****\n",
      "  Num examples = 1\n",
      "  Batch size = 64\n"
     ]
    },
    {
     "data": {
      "text/html": [],
      "text/plain": [
       "<IPython.core.display.HTML object>"
      ]
     },
     "metadata": {},
     "output_type": "display_data"
    },
    {
     "name": "stderr",
     "output_type": "stream",
     "text": [
      "***** Running Prediction *****\n",
      "  Num examples = 1\n",
      "  Batch size = 64\n"
     ]
    },
    {
     "data": {
      "text/html": [],
      "text/plain": [
       "<IPython.core.display.HTML object>"
      ]
     },
     "metadata": {},
     "output_type": "display_data"
    },
    {
     "name": "stderr",
     "output_type": "stream",
     "text": [
      "***** Running Prediction *****\n",
      "  Num examples = 1\n",
      "  Batch size = 64\n"
     ]
    },
    {
     "data": {
      "text/html": [],
      "text/plain": [
       "<IPython.core.display.HTML object>"
      ]
     },
     "metadata": {},
     "output_type": "display_data"
    },
    {
     "name": "stderr",
     "output_type": "stream",
     "text": [
      "***** Running Prediction *****\n",
      "  Num examples = 1\n",
      "  Batch size = 64\n"
     ]
    },
    {
     "data": {
      "text/html": [],
      "text/plain": [
       "<IPython.core.display.HTML object>"
      ]
     },
     "metadata": {},
     "output_type": "display_data"
    },
    {
     "name": "stderr",
     "output_type": "stream",
     "text": [
      "***** Running Prediction *****\n",
      "  Num examples = 1\n",
      "  Batch size = 64\n"
     ]
    },
    {
     "data": {
      "text/html": [],
      "text/plain": [
       "<IPython.core.display.HTML object>"
      ]
     },
     "metadata": {},
     "output_type": "display_data"
    },
    {
     "name": "stderr",
     "output_type": "stream",
     "text": [
      "***** Running Prediction *****\n",
      "  Num examples = 1\n",
      "  Batch size = 64\n"
     ]
    },
    {
     "data": {
      "text/html": [],
      "text/plain": [
       "<IPython.core.display.HTML object>"
      ]
     },
     "metadata": {},
     "output_type": "display_data"
    },
    {
     "name": "stderr",
     "output_type": "stream",
     "text": [
      "***** Running Prediction *****\n",
      "  Num examples = 1\n",
      "  Batch size = 64\n"
     ]
    },
    {
     "data": {
      "text/html": [],
      "text/plain": [
       "<IPython.core.display.HTML object>"
      ]
     },
     "metadata": {},
     "output_type": "display_data"
    },
    {
     "name": "stderr",
     "output_type": "stream",
     "text": [
      "***** Running Prediction *****\n",
      "  Num examples = 1\n",
      "  Batch size = 64\n"
     ]
    },
    {
     "data": {
      "text/html": [],
      "text/plain": [
       "<IPython.core.display.HTML object>"
      ]
     },
     "metadata": {},
     "output_type": "display_data"
    },
    {
     "name": "stderr",
     "output_type": "stream",
     "text": [
      "***** Running Prediction *****\n",
      "  Num examples = 1\n",
      "  Batch size = 64\n"
     ]
    },
    {
     "data": {
      "text/html": [],
      "text/plain": [
       "<IPython.core.display.HTML object>"
      ]
     },
     "metadata": {},
     "output_type": "display_data"
    },
    {
     "name": "stderr",
     "output_type": "stream",
     "text": [
      "***** Running Prediction *****\n",
      "  Num examples = 1\n",
      "  Batch size = 64\n"
     ]
    },
    {
     "data": {
      "text/html": [],
      "text/plain": [
       "<IPython.core.display.HTML object>"
      ]
     },
     "metadata": {},
     "output_type": "display_data"
    },
    {
     "name": "stderr",
     "output_type": "stream",
     "text": [
      "***** Running Prediction *****\n",
      "  Num examples = 1\n",
      "  Batch size = 64\n"
     ]
    },
    {
     "data": {
      "text/html": [],
      "text/plain": [
       "<IPython.core.display.HTML object>"
      ]
     },
     "metadata": {},
     "output_type": "display_data"
    },
    {
     "name": "stderr",
     "output_type": "stream",
     "text": [
      "***** Running Prediction *****\n",
      "  Num examples = 1\n",
      "  Batch size = 64\n"
     ]
    },
    {
     "data": {
      "text/html": [],
      "text/plain": [
       "<IPython.core.display.HTML object>"
      ]
     },
     "metadata": {},
     "output_type": "display_data"
    },
    {
     "name": "stderr",
     "output_type": "stream",
     "text": [
      "***** Running Prediction *****\n",
      "  Num examples = 1\n",
      "  Batch size = 64\n"
     ]
    },
    {
     "data": {
      "text/html": [],
      "text/plain": [
       "<IPython.core.display.HTML object>"
      ]
     },
     "metadata": {},
     "output_type": "display_data"
    },
    {
     "name": "stderr",
     "output_type": "stream",
     "text": [
      "***** Running Prediction *****\n",
      "  Num examples = 1\n",
      "  Batch size = 64\n"
     ]
    },
    {
     "data": {
      "text/html": [],
      "text/plain": [
       "<IPython.core.display.HTML object>"
      ]
     },
     "metadata": {},
     "output_type": "display_data"
    },
    {
     "name": "stderr",
     "output_type": "stream",
     "text": [
      "***** Running Prediction *****\n",
      "  Num examples = 1\n",
      "  Batch size = 64\n"
     ]
    },
    {
     "data": {
      "text/html": [],
      "text/plain": [
       "<IPython.core.display.HTML object>"
      ]
     },
     "metadata": {},
     "output_type": "display_data"
    },
    {
     "name": "stderr",
     "output_type": "stream",
     "text": [
      "***** Running Prediction *****\n",
      "  Num examples = 1\n",
      "  Batch size = 64\n"
     ]
    },
    {
     "data": {
      "text/html": [],
      "text/plain": [
       "<IPython.core.display.HTML object>"
      ]
     },
     "metadata": {},
     "output_type": "display_data"
    },
    {
     "name": "stderr",
     "output_type": "stream",
     "text": [
      "***** Running Prediction *****\n",
      "  Num examples = 1\n",
      "  Batch size = 64\n"
     ]
    },
    {
     "data": {
      "text/html": [],
      "text/plain": [
       "<IPython.core.display.HTML object>"
      ]
     },
     "metadata": {},
     "output_type": "display_data"
    },
    {
     "name": "stderr",
     "output_type": "stream",
     "text": [
      "***** Running Prediction *****\n",
      "  Num examples = 1\n",
      "  Batch size = 64\n"
     ]
    },
    {
     "data": {
      "text/html": [],
      "text/plain": [
       "<IPython.core.display.HTML object>"
      ]
     },
     "metadata": {},
     "output_type": "display_data"
    },
    {
     "name": "stderr",
     "output_type": "stream",
     "text": [
      "***** Running Prediction *****\n",
      "  Num examples = 1\n",
      "  Batch size = 64\n"
     ]
    },
    {
     "data": {
      "text/html": [],
      "text/plain": [
       "<IPython.core.display.HTML object>"
      ]
     },
     "metadata": {},
     "output_type": "display_data"
    },
    {
     "name": "stderr",
     "output_type": "stream",
     "text": [
      "***** Running Prediction *****\n",
      "  Num examples = 1\n",
      "  Batch size = 64\n"
     ]
    },
    {
     "data": {
      "text/html": [],
      "text/plain": [
       "<IPython.core.display.HTML object>"
      ]
     },
     "metadata": {},
     "output_type": "display_data"
    },
    {
     "name": "stderr",
     "output_type": "stream",
     "text": [
      "***** Running Prediction *****\n",
      "  Num examples = 1\n",
      "  Batch size = 64\n"
     ]
    },
    {
     "data": {
      "text/html": [],
      "text/plain": [
       "<IPython.core.display.HTML object>"
      ]
     },
     "metadata": {},
     "output_type": "display_data"
    },
    {
     "name": "stderr",
     "output_type": "stream",
     "text": [
      "***** Running Prediction *****\n",
      "  Num examples = 1\n",
      "  Batch size = 64\n"
     ]
    },
    {
     "data": {
      "text/html": [],
      "text/plain": [
       "<IPython.core.display.HTML object>"
      ]
     },
     "metadata": {},
     "output_type": "display_data"
    },
    {
     "name": "stderr",
     "output_type": "stream",
     "text": [
      "***** Running Prediction *****\n",
      "  Num examples = 1\n",
      "  Batch size = 64\n"
     ]
    },
    {
     "data": {
      "text/html": [],
      "text/plain": [
       "<IPython.core.display.HTML object>"
      ]
     },
     "metadata": {},
     "output_type": "display_data"
    },
    {
     "name": "stderr",
     "output_type": "stream",
     "text": [
      "***** Running Prediction *****\n",
      "  Num examples = 1\n",
      "  Batch size = 64\n"
     ]
    },
    {
     "data": {
      "text/html": [],
      "text/plain": [
       "<IPython.core.display.HTML object>"
      ]
     },
     "metadata": {},
     "output_type": "display_data"
    },
    {
     "name": "stderr",
     "output_type": "stream",
     "text": [
      "***** Running Prediction *****\n",
      "  Num examples = 1\n",
      "  Batch size = 64\n"
     ]
    },
    {
     "data": {
      "text/html": [],
      "text/plain": [
       "<IPython.core.display.HTML object>"
      ]
     },
     "metadata": {},
     "output_type": "display_data"
    },
    {
     "name": "stderr",
     "output_type": "stream",
     "text": [
      "***** Running Prediction *****\n",
      "  Num examples = 1\n",
      "  Batch size = 64\n"
     ]
    },
    {
     "data": {
      "text/html": [],
      "text/plain": [
       "<IPython.core.display.HTML object>"
      ]
     },
     "metadata": {},
     "output_type": "display_data"
    },
    {
     "name": "stderr",
     "output_type": "stream",
     "text": [
      "***** Running Prediction *****\n",
      "  Num examples = 1\n",
      "  Batch size = 64\n"
     ]
    },
    {
     "data": {
      "text/html": [],
      "text/plain": [
       "<IPython.core.display.HTML object>"
      ]
     },
     "metadata": {},
     "output_type": "display_data"
    },
    {
     "name": "stderr",
     "output_type": "stream",
     "text": [
      "***** Running Prediction *****\n",
      "  Num examples = 1\n",
      "  Batch size = 64\n"
     ]
    },
    {
     "data": {
      "text/html": [],
      "text/plain": [
       "<IPython.core.display.HTML object>"
      ]
     },
     "metadata": {},
     "output_type": "display_data"
    },
    {
     "name": "stderr",
     "output_type": "stream",
     "text": [
      "***** Running Prediction *****\n",
      "  Num examples = 1\n",
      "  Batch size = 64\n"
     ]
    },
    {
     "data": {
      "text/html": [],
      "text/plain": [
       "<IPython.core.display.HTML object>"
      ]
     },
     "metadata": {},
     "output_type": "display_data"
    },
    {
     "name": "stderr",
     "output_type": "stream",
     "text": [
      "***** Running Prediction *****\n",
      "  Num examples = 1\n",
      "  Batch size = 64\n"
     ]
    },
    {
     "data": {
      "text/html": [],
      "text/plain": [
       "<IPython.core.display.HTML object>"
      ]
     },
     "metadata": {},
     "output_type": "display_data"
    },
    {
     "name": "stderr",
     "output_type": "stream",
     "text": [
      "***** Running Prediction *****\n",
      "  Num examples = 1\n",
      "  Batch size = 64\n"
     ]
    },
    {
     "data": {
      "text/html": [],
      "text/plain": [
       "<IPython.core.display.HTML object>"
      ]
     },
     "metadata": {},
     "output_type": "display_data"
    },
    {
     "name": "stderr",
     "output_type": "stream",
     "text": [
      "***** Running Prediction *****\n",
      "  Num examples = 1\n",
      "  Batch size = 64\n"
     ]
    },
    {
     "data": {
      "text/html": [],
      "text/plain": [
       "<IPython.core.display.HTML object>"
      ]
     },
     "metadata": {},
     "output_type": "display_data"
    },
    {
     "name": "stderr",
     "output_type": "stream",
     "text": [
      "***** Running Prediction *****\n",
      "  Num examples = 1\n",
      "  Batch size = 64\n"
     ]
    },
    {
     "data": {
      "text/html": [],
      "text/plain": [
       "<IPython.core.display.HTML object>"
      ]
     },
     "metadata": {},
     "output_type": "display_data"
    },
    {
     "name": "stderr",
     "output_type": "stream",
     "text": [
      "***** Running Prediction *****\n",
      "  Num examples = 1\n",
      "  Batch size = 64\n"
     ]
    },
    {
     "data": {
      "text/html": [],
      "text/plain": [
       "<IPython.core.display.HTML object>"
      ]
     },
     "metadata": {},
     "output_type": "display_data"
    },
    {
     "name": "stderr",
     "output_type": "stream",
     "text": [
      "***** Running Prediction *****\n",
      "  Num examples = 1\n",
      "  Batch size = 64\n"
     ]
    },
    {
     "data": {
      "text/html": [],
      "text/plain": [
       "<IPython.core.display.HTML object>"
      ]
     },
     "metadata": {},
     "output_type": "display_data"
    },
    {
     "name": "stderr",
     "output_type": "stream",
     "text": [
      "***** Running Prediction *****\n",
      "  Num examples = 1\n",
      "  Batch size = 64\n"
     ]
    },
    {
     "data": {
      "text/html": [],
      "text/plain": [
       "<IPython.core.display.HTML object>"
      ]
     },
     "metadata": {},
     "output_type": "display_data"
    },
    {
     "name": "stderr",
     "output_type": "stream",
     "text": [
      "***** Running Prediction *****\n",
      "  Num examples = 1\n",
      "  Batch size = 64\n"
     ]
    },
    {
     "data": {
      "text/html": [],
      "text/plain": [
       "<IPython.core.display.HTML object>"
      ]
     },
     "metadata": {},
     "output_type": "display_data"
    },
    {
     "name": "stderr",
     "output_type": "stream",
     "text": [
      "***** Running Prediction *****\n",
      "  Num examples = 1\n",
      "  Batch size = 64\n"
     ]
    },
    {
     "data": {
      "text/html": [],
      "text/plain": [
       "<IPython.core.display.HTML object>"
      ]
     },
     "metadata": {},
     "output_type": "display_data"
    },
    {
     "name": "stderr",
     "output_type": "stream",
     "text": [
      "***** Running Prediction *****\n",
      "  Num examples = 1\n",
      "  Batch size = 64\n"
     ]
    },
    {
     "data": {
      "text/html": [],
      "text/plain": [
       "<IPython.core.display.HTML object>"
      ]
     },
     "metadata": {},
     "output_type": "display_data"
    },
    {
     "name": "stderr",
     "output_type": "stream",
     "text": [
      "***** Running Prediction *****\n",
      "  Num examples = 1\n",
      "  Batch size = 64\n"
     ]
    },
    {
     "data": {
      "text/html": [],
      "text/plain": [
       "<IPython.core.display.HTML object>"
      ]
     },
     "metadata": {},
     "output_type": "display_data"
    },
    {
     "name": "stderr",
     "output_type": "stream",
     "text": [
      "***** Running Prediction *****\n",
      "  Num examples = 1\n",
      "  Batch size = 64\n"
     ]
    },
    {
     "data": {
      "text/html": [],
      "text/plain": [
       "<IPython.core.display.HTML object>"
      ]
     },
     "metadata": {},
     "output_type": "display_data"
    },
    {
     "name": "stderr",
     "output_type": "stream",
     "text": [
      "***** Running Prediction *****\n",
      "  Num examples = 1\n",
      "  Batch size = 64\n"
     ]
    },
    {
     "data": {
      "text/html": [],
      "text/plain": [
       "<IPython.core.display.HTML object>"
      ]
     },
     "metadata": {},
     "output_type": "display_data"
    },
    {
     "name": "stderr",
     "output_type": "stream",
     "text": [
      "***** Running Prediction *****\n",
      "  Num examples = 1\n",
      "  Batch size = 64\n"
     ]
    },
    {
     "data": {
      "text/html": [],
      "text/plain": [
       "<IPython.core.display.HTML object>"
      ]
     },
     "metadata": {},
     "output_type": "display_data"
    },
    {
     "name": "stderr",
     "output_type": "stream",
     "text": [
      "***** Running Prediction *****\n",
      "  Num examples = 1\n",
      "  Batch size = 64\n"
     ]
    },
    {
     "data": {
      "text/html": [],
      "text/plain": [
       "<IPython.core.display.HTML object>"
      ]
     },
     "metadata": {},
     "output_type": "display_data"
    },
    {
     "name": "stderr",
     "output_type": "stream",
     "text": [
      "***** Running Prediction *****\n",
      "  Num examples = 1\n",
      "  Batch size = 64\n"
     ]
    },
    {
     "data": {
      "text/html": [],
      "text/plain": [
       "<IPython.core.display.HTML object>"
      ]
     },
     "metadata": {},
     "output_type": "display_data"
    },
    {
     "name": "stderr",
     "output_type": "stream",
     "text": [
      "***** Running Prediction *****\n",
      "  Num examples = 1\n",
      "  Batch size = 64\n"
     ]
    },
    {
     "data": {
      "text/html": [],
      "text/plain": [
       "<IPython.core.display.HTML object>"
      ]
     },
     "metadata": {},
     "output_type": "display_data"
    },
    {
     "name": "stderr",
     "output_type": "stream",
     "text": [
      "***** Running Prediction *****\n",
      "  Num examples = 1\n",
      "  Batch size = 64\n"
     ]
    },
    {
     "data": {
      "text/html": [],
      "text/plain": [
       "<IPython.core.display.HTML object>"
      ]
     },
     "metadata": {},
     "output_type": "display_data"
    },
    {
     "name": "stderr",
     "output_type": "stream",
     "text": [
      "***** Running Prediction *****\n",
      "  Num examples = 1\n",
      "  Batch size = 64\n"
     ]
    },
    {
     "data": {
      "text/html": [],
      "text/plain": [
       "<IPython.core.display.HTML object>"
      ]
     },
     "metadata": {},
     "output_type": "display_data"
    },
    {
     "name": "stderr",
     "output_type": "stream",
     "text": [
      "***** Running Prediction *****\n",
      "  Num examples = 1\n",
      "  Batch size = 64\n"
     ]
    },
    {
     "data": {
      "text/html": [],
      "text/plain": [
       "<IPython.core.display.HTML object>"
      ]
     },
     "metadata": {},
     "output_type": "display_data"
    },
    {
     "name": "stderr",
     "output_type": "stream",
     "text": [
      "***** Running Prediction *****\n",
      "  Num examples = 1\n",
      "  Batch size = 64\n"
     ]
    },
    {
     "data": {
      "text/html": [],
      "text/plain": [
       "<IPython.core.display.HTML object>"
      ]
     },
     "metadata": {},
     "output_type": "display_data"
    },
    {
     "name": "stderr",
     "output_type": "stream",
     "text": [
      "***** Running Prediction *****\n",
      "  Num examples = 1\n",
      "  Batch size = 64\n"
     ]
    },
    {
     "data": {
      "text/html": [],
      "text/plain": [
       "<IPython.core.display.HTML object>"
      ]
     },
     "metadata": {},
     "output_type": "display_data"
    },
    {
     "name": "stderr",
     "output_type": "stream",
     "text": [
      "***** Running Prediction *****\n",
      "  Num examples = 1\n",
      "  Batch size = 64\n"
     ]
    },
    {
     "data": {
      "text/html": [],
      "text/plain": [
       "<IPython.core.display.HTML object>"
      ]
     },
     "metadata": {},
     "output_type": "display_data"
    },
    {
     "name": "stderr",
     "output_type": "stream",
     "text": [
      "***** Running Prediction *****\n",
      "  Num examples = 1\n",
      "  Batch size = 64\n"
     ]
    },
    {
     "data": {
      "text/html": [],
      "text/plain": [
       "<IPython.core.display.HTML object>"
      ]
     },
     "metadata": {},
     "output_type": "display_data"
    },
    {
     "name": "stderr",
     "output_type": "stream",
     "text": [
      "***** Running Prediction *****\n",
      "  Num examples = 1\n",
      "  Batch size = 64\n"
     ]
    },
    {
     "data": {
      "text/html": [],
      "text/plain": [
       "<IPython.core.display.HTML object>"
      ]
     },
     "metadata": {},
     "output_type": "display_data"
    },
    {
     "name": "stderr",
     "output_type": "stream",
     "text": [
      "***** Running Prediction *****\n",
      "  Num examples = 1\n",
      "  Batch size = 64\n"
     ]
    },
    {
     "data": {
      "text/html": [],
      "text/plain": [
       "<IPython.core.display.HTML object>"
      ]
     },
     "metadata": {},
     "output_type": "display_data"
    },
    {
     "name": "stderr",
     "output_type": "stream",
     "text": [
      "***** Running Prediction *****\n",
      "  Num examples = 1\n",
      "  Batch size = 64\n"
     ]
    },
    {
     "data": {
      "text/html": [],
      "text/plain": [
       "<IPython.core.display.HTML object>"
      ]
     },
     "metadata": {},
     "output_type": "display_data"
    },
    {
     "name": "stderr",
     "output_type": "stream",
     "text": [
      "***** Running Prediction *****\n",
      "  Num examples = 1\n",
      "  Batch size = 64\n"
     ]
    },
    {
     "data": {
      "text/html": [],
      "text/plain": [
       "<IPython.core.display.HTML object>"
      ]
     },
     "metadata": {},
     "output_type": "display_data"
    },
    {
     "name": "stderr",
     "output_type": "stream",
     "text": [
      "***** Running Prediction *****\n",
      "  Num examples = 1\n",
      "  Batch size = 64\n"
     ]
    },
    {
     "data": {
      "text/html": [],
      "text/plain": [
       "<IPython.core.display.HTML object>"
      ]
     },
     "metadata": {},
     "output_type": "display_data"
    },
    {
     "name": "stderr",
     "output_type": "stream",
     "text": [
      "***** Running Prediction *****\n",
      "  Num examples = 1\n",
      "  Batch size = 64\n"
     ]
    },
    {
     "data": {
      "text/html": [],
      "text/plain": [
       "<IPython.core.display.HTML object>"
      ]
     },
     "metadata": {},
     "output_type": "display_data"
    },
    {
     "name": "stderr",
     "output_type": "stream",
     "text": [
      "***** Running Prediction *****\n",
      "  Num examples = 1\n",
      "  Batch size = 64\n"
     ]
    },
    {
     "data": {
      "text/html": [],
      "text/plain": [
       "<IPython.core.display.HTML object>"
      ]
     },
     "metadata": {},
     "output_type": "display_data"
    },
    {
     "name": "stderr",
     "output_type": "stream",
     "text": [
      "***** Running Prediction *****\n",
      "  Num examples = 1\n",
      "  Batch size = 64\n"
     ]
    },
    {
     "data": {
      "text/html": [],
      "text/plain": [
       "<IPython.core.display.HTML object>"
      ]
     },
     "metadata": {},
     "output_type": "display_data"
    },
    {
     "name": "stderr",
     "output_type": "stream",
     "text": [
      "***** Running Prediction *****\n",
      "  Num examples = 1\n",
      "  Batch size = 64\n"
     ]
    },
    {
     "data": {
      "text/html": [],
      "text/plain": [
       "<IPython.core.display.HTML object>"
      ]
     },
     "metadata": {},
     "output_type": "display_data"
    },
    {
     "name": "stderr",
     "output_type": "stream",
     "text": [
      "***** Running Prediction *****\n",
      "  Num examples = 1\n",
      "  Batch size = 64\n"
     ]
    },
    {
     "data": {
      "text/html": [],
      "text/plain": [
       "<IPython.core.display.HTML object>"
      ]
     },
     "metadata": {},
     "output_type": "display_data"
    },
    {
     "name": "stderr",
     "output_type": "stream",
     "text": [
      "***** Running Prediction *****\n",
      "  Num examples = 1\n",
      "  Batch size = 64\n"
     ]
    },
    {
     "data": {
      "text/html": [],
      "text/plain": [
       "<IPython.core.display.HTML object>"
      ]
     },
     "metadata": {},
     "output_type": "display_data"
    },
    {
     "name": "stderr",
     "output_type": "stream",
     "text": [
      "***** Running Prediction *****\n",
      "  Num examples = 1\n",
      "  Batch size = 64\n"
     ]
    },
    {
     "data": {
      "text/html": [],
      "text/plain": [
       "<IPython.core.display.HTML object>"
      ]
     },
     "metadata": {},
     "output_type": "display_data"
    },
    {
     "name": "stderr",
     "output_type": "stream",
     "text": [
      "***** Running Prediction *****\n",
      "  Num examples = 1\n",
      "  Batch size = 64\n"
     ]
    },
    {
     "data": {
      "text/html": [],
      "text/plain": [
       "<IPython.core.display.HTML object>"
      ]
     },
     "metadata": {},
     "output_type": "display_data"
    },
    {
     "name": "stderr",
     "output_type": "stream",
     "text": [
      "***** Running Prediction *****\n",
      "  Num examples = 1\n",
      "  Batch size = 64\n"
     ]
    },
    {
     "data": {
      "text/html": [],
      "text/plain": [
       "<IPython.core.display.HTML object>"
      ]
     },
     "metadata": {},
     "output_type": "display_data"
    },
    {
     "name": "stderr",
     "output_type": "stream",
     "text": [
      "***** Running Prediction *****\n",
      "  Num examples = 1\n",
      "  Batch size = 64\n"
     ]
    },
    {
     "data": {
      "text/html": [],
      "text/plain": [
       "<IPython.core.display.HTML object>"
      ]
     },
     "metadata": {},
     "output_type": "display_data"
    },
    {
     "name": "stderr",
     "output_type": "stream",
     "text": [
      "***** Running Prediction *****\n",
      "  Num examples = 1\n",
      "  Batch size = 64\n"
     ]
    },
    {
     "data": {
      "text/html": [],
      "text/plain": [
       "<IPython.core.display.HTML object>"
      ]
     },
     "metadata": {},
     "output_type": "display_data"
    },
    {
     "name": "stderr",
     "output_type": "stream",
     "text": [
      "***** Running Prediction *****\n",
      "  Num examples = 1\n",
      "  Batch size = 64\n"
     ]
    },
    {
     "data": {
      "text/html": [],
      "text/plain": [
       "<IPython.core.display.HTML object>"
      ]
     },
     "metadata": {},
     "output_type": "display_data"
    },
    {
     "name": "stderr",
     "output_type": "stream",
     "text": [
      "***** Running Prediction *****\n",
      "  Num examples = 1\n",
      "  Batch size = 64\n"
     ]
    },
    {
     "data": {
      "text/html": [],
      "text/plain": [
       "<IPython.core.display.HTML object>"
      ]
     },
     "metadata": {},
     "output_type": "display_data"
    },
    {
     "name": "stderr",
     "output_type": "stream",
     "text": [
      "***** Running Prediction *****\n",
      "  Num examples = 1\n",
      "  Batch size = 64\n"
     ]
    },
    {
     "data": {
      "text/html": [],
      "text/plain": [
       "<IPython.core.display.HTML object>"
      ]
     },
     "metadata": {},
     "output_type": "display_data"
    },
    {
     "name": "stderr",
     "output_type": "stream",
     "text": [
      "***** Running Prediction *****\n",
      "  Num examples = 1\n",
      "  Batch size = 64\n"
     ]
    },
    {
     "data": {
      "text/html": [],
      "text/plain": [
       "<IPython.core.display.HTML object>"
      ]
     },
     "metadata": {},
     "output_type": "display_data"
    },
    {
     "name": "stderr",
     "output_type": "stream",
     "text": [
      "***** Running Prediction *****\n",
      "  Num examples = 1\n",
      "  Batch size = 64\n"
     ]
    },
    {
     "data": {
      "text/html": [],
      "text/plain": [
       "<IPython.core.display.HTML object>"
      ]
     },
     "metadata": {},
     "output_type": "display_data"
    },
    {
     "name": "stderr",
     "output_type": "stream",
     "text": [
      "***** Running Prediction *****\n",
      "  Num examples = 1\n",
      "  Batch size = 64\n"
     ]
    },
    {
     "data": {
      "text/html": [],
      "text/plain": [
       "<IPython.core.display.HTML object>"
      ]
     },
     "metadata": {},
     "output_type": "display_data"
    },
    {
     "name": "stderr",
     "output_type": "stream",
     "text": [
      "***** Running Prediction *****\n",
      "  Num examples = 1\n",
      "  Batch size = 64\n"
     ]
    },
    {
     "data": {
      "text/html": [],
      "text/plain": [
       "<IPython.core.display.HTML object>"
      ]
     },
     "metadata": {},
     "output_type": "display_data"
    },
    {
     "name": "stderr",
     "output_type": "stream",
     "text": [
      "***** Running Prediction *****\n",
      "  Num examples = 1\n",
      "  Batch size = 64\n"
     ]
    },
    {
     "data": {
      "text/html": [],
      "text/plain": [
       "<IPython.core.display.HTML object>"
      ]
     },
     "metadata": {},
     "output_type": "display_data"
    },
    {
     "name": "stderr",
     "output_type": "stream",
     "text": [
      "***** Running Prediction *****\n",
      "  Num examples = 1\n",
      "  Batch size = 64\n"
     ]
    },
    {
     "data": {
      "text/html": [],
      "text/plain": [
       "<IPython.core.display.HTML object>"
      ]
     },
     "metadata": {},
     "output_type": "display_data"
    },
    {
     "name": "stderr",
     "output_type": "stream",
     "text": [
      "***** Running Prediction *****\n",
      "  Num examples = 1\n",
      "  Batch size = 64\n"
     ]
    },
    {
     "data": {
      "text/html": [],
      "text/plain": [
       "<IPython.core.display.HTML object>"
      ]
     },
     "metadata": {},
     "output_type": "display_data"
    },
    {
     "name": "stderr",
     "output_type": "stream",
     "text": [
      "***** Running Prediction *****\n",
      "  Num examples = 1\n",
      "  Batch size = 64\n"
     ]
    },
    {
     "data": {
      "text/html": [],
      "text/plain": [
       "<IPython.core.display.HTML object>"
      ]
     },
     "metadata": {},
     "output_type": "display_data"
    },
    {
     "name": "stderr",
     "output_type": "stream",
     "text": [
      "***** Running Prediction *****\n",
      "  Num examples = 1\n",
      "  Batch size = 64\n"
     ]
    },
    {
     "data": {
      "text/html": [],
      "text/plain": [
       "<IPython.core.display.HTML object>"
      ]
     },
     "metadata": {},
     "output_type": "display_data"
    },
    {
     "name": "stderr",
     "output_type": "stream",
     "text": [
      "***** Running Prediction *****\n",
      "  Num examples = 1\n",
      "  Batch size = 64\n"
     ]
    },
    {
     "data": {
      "text/html": [],
      "text/plain": [
       "<IPython.core.display.HTML object>"
      ]
     },
     "metadata": {},
     "output_type": "display_data"
    },
    {
     "name": "stderr",
     "output_type": "stream",
     "text": [
      "***** Running Prediction *****\n",
      "  Num examples = 1\n",
      "  Batch size = 64\n"
     ]
    },
    {
     "data": {
      "text/html": [],
      "text/plain": [
       "<IPython.core.display.HTML object>"
      ]
     },
     "metadata": {},
     "output_type": "display_data"
    },
    {
     "name": "stderr",
     "output_type": "stream",
     "text": [
      "***** Running Prediction *****\n",
      "  Num examples = 1\n",
      "  Batch size = 64\n"
     ]
    },
    {
     "data": {
      "text/html": [],
      "text/plain": [
       "<IPython.core.display.HTML object>"
      ]
     },
     "metadata": {},
     "output_type": "display_data"
    },
    {
     "name": "stderr",
     "output_type": "stream",
     "text": [
      "***** Running Prediction *****\n",
      "  Num examples = 1\n",
      "  Batch size = 64\n"
     ]
    },
    {
     "data": {
      "text/html": [],
      "text/plain": [
       "<IPython.core.display.HTML object>"
      ]
     },
     "metadata": {},
     "output_type": "display_data"
    },
    {
     "name": "stderr",
     "output_type": "stream",
     "text": [
      "***** Running Prediction *****\n",
      "  Num examples = 1\n",
      "  Batch size = 64\n"
     ]
    },
    {
     "data": {
      "text/html": [],
      "text/plain": [
       "<IPython.core.display.HTML object>"
      ]
     },
     "metadata": {},
     "output_type": "display_data"
    },
    {
     "name": "stderr",
     "output_type": "stream",
     "text": [
      "***** Running Prediction *****\n",
      "  Num examples = 1\n",
      "  Batch size = 64\n"
     ]
    },
    {
     "data": {
      "text/html": [],
      "text/plain": [
       "<IPython.core.display.HTML object>"
      ]
     },
     "metadata": {},
     "output_type": "display_data"
    },
    {
     "name": "stderr",
     "output_type": "stream",
     "text": [
      "***** Running Prediction *****\n",
      "  Num examples = 1\n",
      "  Batch size = 64\n"
     ]
    },
    {
     "data": {
      "text/html": [],
      "text/plain": [
       "<IPython.core.display.HTML object>"
      ]
     },
     "metadata": {},
     "output_type": "display_data"
    },
    {
     "name": "stderr",
     "output_type": "stream",
     "text": [
      "***** Running Prediction *****\n",
      "  Num examples = 1\n",
      "  Batch size = 64\n"
     ]
    },
    {
     "data": {
      "text/html": [],
      "text/plain": [
       "<IPython.core.display.HTML object>"
      ]
     },
     "metadata": {},
     "output_type": "display_data"
    },
    {
     "name": "stderr",
     "output_type": "stream",
     "text": [
      "***** Running Prediction *****\n",
      "  Num examples = 1\n",
      "  Batch size = 64\n"
     ]
    },
    {
     "data": {
      "text/html": [],
      "text/plain": [
       "<IPython.core.display.HTML object>"
      ]
     },
     "metadata": {},
     "output_type": "display_data"
    },
    {
     "name": "stderr",
     "output_type": "stream",
     "text": [
      "***** Running Prediction *****\n",
      "  Num examples = 1\n",
      "  Batch size = 64\n"
     ]
    },
    {
     "data": {
      "text/html": [],
      "text/plain": [
       "<IPython.core.display.HTML object>"
      ]
     },
     "metadata": {},
     "output_type": "display_data"
    },
    {
     "name": "stderr",
     "output_type": "stream",
     "text": [
      "***** Running Prediction *****\n",
      "  Num examples = 1\n",
      "  Batch size = 64\n"
     ]
    },
    {
     "data": {
      "text/html": [],
      "text/plain": [
       "<IPython.core.display.HTML object>"
      ]
     },
     "metadata": {},
     "output_type": "display_data"
    },
    {
     "name": "stderr",
     "output_type": "stream",
     "text": [
      "***** Running Prediction *****\n",
      "  Num examples = 1\n",
      "  Batch size = 64\n"
     ]
    },
    {
     "data": {
      "text/html": [],
      "text/plain": [
       "<IPython.core.display.HTML object>"
      ]
     },
     "metadata": {},
     "output_type": "display_data"
    },
    {
     "name": "stderr",
     "output_type": "stream",
     "text": [
      "***** Running Prediction *****\n",
      "  Num examples = 1\n",
      "  Batch size = 64\n"
     ]
    },
    {
     "data": {
      "text/html": [],
      "text/plain": [
       "<IPython.core.display.HTML object>"
      ]
     },
     "metadata": {},
     "output_type": "display_data"
    },
    {
     "name": "stderr",
     "output_type": "stream",
     "text": [
      "***** Running Prediction *****\n",
      "  Num examples = 1\n",
      "  Batch size = 64\n"
     ]
    },
    {
     "data": {
      "text/html": [],
      "text/plain": [
       "<IPython.core.display.HTML object>"
      ]
     },
     "metadata": {},
     "output_type": "display_data"
    },
    {
     "name": "stderr",
     "output_type": "stream",
     "text": [
      "***** Running Prediction *****\n",
      "  Num examples = 1\n",
      "  Batch size = 64\n"
     ]
    },
    {
     "data": {
      "text/html": [],
      "text/plain": [
       "<IPython.core.display.HTML object>"
      ]
     },
     "metadata": {},
     "output_type": "display_data"
    },
    {
     "name": "stderr",
     "output_type": "stream",
     "text": [
      "***** Running Prediction *****\n",
      "  Num examples = 1\n",
      "  Batch size = 64\n"
     ]
    },
    {
     "data": {
      "text/html": [],
      "text/plain": [
       "<IPython.core.display.HTML object>"
      ]
     },
     "metadata": {},
     "output_type": "display_data"
    },
    {
     "name": "stderr",
     "output_type": "stream",
     "text": [
      "***** Running Prediction *****\n",
      "  Num examples = 1\n",
      "  Batch size = 64\n"
     ]
    },
    {
     "data": {
      "text/html": [],
      "text/plain": [
       "<IPython.core.display.HTML object>"
      ]
     },
     "metadata": {},
     "output_type": "display_data"
    },
    {
     "name": "stderr",
     "output_type": "stream",
     "text": [
      "***** Running Prediction *****\n",
      "  Num examples = 1\n",
      "  Batch size = 64\n"
     ]
    },
    {
     "data": {
      "text/html": [],
      "text/plain": [
       "<IPython.core.display.HTML object>"
      ]
     },
     "metadata": {},
     "output_type": "display_data"
    },
    {
     "name": "stderr",
     "output_type": "stream",
     "text": [
      "***** Running Prediction *****\n",
      "  Num examples = 1\n",
      "  Batch size = 64\n"
     ]
    },
    {
     "data": {
      "text/html": [],
      "text/plain": [
       "<IPython.core.display.HTML object>"
      ]
     },
     "metadata": {},
     "output_type": "display_data"
    },
    {
     "name": "stderr",
     "output_type": "stream",
     "text": [
      "***** Running Prediction *****\n",
      "  Num examples = 1\n",
      "  Batch size = 64\n"
     ]
    },
    {
     "data": {
      "text/html": [],
      "text/plain": [
       "<IPython.core.display.HTML object>"
      ]
     },
     "metadata": {},
     "output_type": "display_data"
    },
    {
     "name": "stderr",
     "output_type": "stream",
     "text": [
      "***** Running Prediction *****\n",
      "  Num examples = 1\n",
      "  Batch size = 64\n"
     ]
    },
    {
     "data": {
      "text/html": [],
      "text/plain": [
       "<IPython.core.display.HTML object>"
      ]
     },
     "metadata": {},
     "output_type": "display_data"
    },
    {
     "name": "stderr",
     "output_type": "stream",
     "text": [
      "***** Running Prediction *****\n",
      "  Num examples = 1\n",
      "  Batch size = 64\n"
     ]
    },
    {
     "data": {
      "text/html": [],
      "text/plain": [
       "<IPython.core.display.HTML object>"
      ]
     },
     "metadata": {},
     "output_type": "display_data"
    },
    {
     "name": "stderr",
     "output_type": "stream",
     "text": [
      "***** Running Prediction *****\n",
      "  Num examples = 1\n",
      "  Batch size = 64\n"
     ]
    },
    {
     "data": {
      "text/html": [],
      "text/plain": [
       "<IPython.core.display.HTML object>"
      ]
     },
     "metadata": {},
     "output_type": "display_data"
    },
    {
     "name": "stderr",
     "output_type": "stream",
     "text": [
      "***** Running Prediction *****\n",
      "  Num examples = 1\n",
      "  Batch size = 64\n"
     ]
    },
    {
     "data": {
      "text/html": [],
      "text/plain": [
       "<IPython.core.display.HTML object>"
      ]
     },
     "metadata": {},
     "output_type": "display_data"
    },
    {
     "name": "stderr",
     "output_type": "stream",
     "text": [
      "***** Running Prediction *****\n",
      "  Num examples = 1\n",
      "  Batch size = 64\n"
     ]
    },
    {
     "data": {
      "text/html": [],
      "text/plain": [
       "<IPython.core.display.HTML object>"
      ]
     },
     "metadata": {},
     "output_type": "display_data"
    },
    {
     "name": "stderr",
     "output_type": "stream",
     "text": [
      "***** Running Prediction *****\n",
      "  Num examples = 1\n",
      "  Batch size = 64\n"
     ]
    },
    {
     "data": {
      "text/html": [],
      "text/plain": [
       "<IPython.core.display.HTML object>"
      ]
     },
     "metadata": {},
     "output_type": "display_data"
    },
    {
     "name": "stderr",
     "output_type": "stream",
     "text": [
      "***** Running Prediction *****\n",
      "  Num examples = 1\n",
      "  Batch size = 64\n"
     ]
    },
    {
     "data": {
      "text/html": [],
      "text/plain": [
       "<IPython.core.display.HTML object>"
      ]
     },
     "metadata": {},
     "output_type": "display_data"
    },
    {
     "name": "stderr",
     "output_type": "stream",
     "text": [
      "***** Running Prediction *****\n",
      "  Num examples = 1\n",
      "  Batch size = 64\n"
     ]
    },
    {
     "data": {
      "text/html": [],
      "text/plain": [
       "<IPython.core.display.HTML object>"
      ]
     },
     "metadata": {},
     "output_type": "display_data"
    },
    {
     "name": "stderr",
     "output_type": "stream",
     "text": [
      "***** Running Prediction *****\n",
      "  Num examples = 1\n",
      "  Batch size = 64\n"
     ]
    },
    {
     "data": {
      "text/html": [],
      "text/plain": [
       "<IPython.core.display.HTML object>"
      ]
     },
     "metadata": {},
     "output_type": "display_data"
    },
    {
     "name": "stderr",
     "output_type": "stream",
     "text": [
      "***** Running Prediction *****\n",
      "  Num examples = 1\n",
      "  Batch size = 64\n"
     ]
    },
    {
     "data": {
      "text/html": [],
      "text/plain": [
       "<IPython.core.display.HTML object>"
      ]
     },
     "metadata": {},
     "output_type": "display_data"
    },
    {
     "name": "stderr",
     "output_type": "stream",
     "text": [
      "***** Running Prediction *****\n",
      "  Num examples = 1\n",
      "  Batch size = 64\n"
     ]
    },
    {
     "data": {
      "text/html": [],
      "text/plain": [
       "<IPython.core.display.HTML object>"
      ]
     },
     "metadata": {},
     "output_type": "display_data"
    },
    {
     "name": "stderr",
     "output_type": "stream",
     "text": [
      "***** Running Prediction *****\n",
      "  Num examples = 1\n",
      "  Batch size = 64\n"
     ]
    },
    {
     "data": {
      "text/html": [],
      "text/plain": [
       "<IPython.core.display.HTML object>"
      ]
     },
     "metadata": {},
     "output_type": "display_data"
    },
    {
     "name": "stderr",
     "output_type": "stream",
     "text": [
      "***** Running Prediction *****\n",
      "  Num examples = 1\n",
      "  Batch size = 64\n"
     ]
    },
    {
     "data": {
      "text/html": [],
      "text/plain": [
       "<IPython.core.display.HTML object>"
      ]
     },
     "metadata": {},
     "output_type": "display_data"
    },
    {
     "name": "stderr",
     "output_type": "stream",
     "text": [
      "***** Running Prediction *****\n",
      "  Num examples = 1\n",
      "  Batch size = 64\n"
     ]
    },
    {
     "data": {
      "text/html": [],
      "text/plain": [
       "<IPython.core.display.HTML object>"
      ]
     },
     "metadata": {},
     "output_type": "display_data"
    },
    {
     "name": "stderr",
     "output_type": "stream",
     "text": [
      "***** Running Prediction *****\n",
      "  Num examples = 1\n",
      "  Batch size = 64\n"
     ]
    },
    {
     "data": {
      "text/html": [],
      "text/plain": [
       "<IPython.core.display.HTML object>"
      ]
     },
     "metadata": {},
     "output_type": "display_data"
    },
    {
     "name": "stderr",
     "output_type": "stream",
     "text": [
      "***** Running Prediction *****\n",
      "  Num examples = 1\n",
      "  Batch size = 64\n"
     ]
    },
    {
     "data": {
      "text/html": [],
      "text/plain": [
       "<IPython.core.display.HTML object>"
      ]
     },
     "metadata": {},
     "output_type": "display_data"
    },
    {
     "name": "stderr",
     "output_type": "stream",
     "text": [
      "***** Running Prediction *****\n",
      "  Num examples = 1\n",
      "  Batch size = 64\n"
     ]
    },
    {
     "data": {
      "text/html": [],
      "text/plain": [
       "<IPython.core.display.HTML object>"
      ]
     },
     "metadata": {},
     "output_type": "display_data"
    },
    {
     "name": "stderr",
     "output_type": "stream",
     "text": [
      "***** Running Prediction *****\n",
      "  Num examples = 1\n",
      "  Batch size = 64\n"
     ]
    },
    {
     "data": {
      "text/html": [],
      "text/plain": [
       "<IPython.core.display.HTML object>"
      ]
     },
     "metadata": {},
     "output_type": "display_data"
    },
    {
     "name": "stderr",
     "output_type": "stream",
     "text": [
      "***** Running Prediction *****\n",
      "  Num examples = 1\n",
      "  Batch size = 64\n"
     ]
    },
    {
     "data": {
      "text/html": [],
      "text/plain": [
       "<IPython.core.display.HTML object>"
      ]
     },
     "metadata": {},
     "output_type": "display_data"
    },
    {
     "name": "stderr",
     "output_type": "stream",
     "text": [
      "***** Running Prediction *****\n",
      "  Num examples = 1\n",
      "  Batch size = 64\n"
     ]
    },
    {
     "data": {
      "text/html": [],
      "text/plain": [
       "<IPython.core.display.HTML object>"
      ]
     },
     "metadata": {},
     "output_type": "display_data"
    },
    {
     "name": "stderr",
     "output_type": "stream",
     "text": [
      "***** Running Prediction *****\n",
      "  Num examples = 1\n",
      "  Batch size = 64\n"
     ]
    },
    {
     "data": {
      "text/html": [],
      "text/plain": [
       "<IPython.core.display.HTML object>"
      ]
     },
     "metadata": {},
     "output_type": "display_data"
    },
    {
     "name": "stderr",
     "output_type": "stream",
     "text": [
      "***** Running Prediction *****\n",
      "  Num examples = 1\n",
      "  Batch size = 64\n"
     ]
    },
    {
     "data": {
      "text/html": [],
      "text/plain": [
       "<IPython.core.display.HTML object>"
      ]
     },
     "metadata": {},
     "output_type": "display_data"
    },
    {
     "name": "stderr",
     "output_type": "stream",
     "text": [
      "***** Running Prediction *****\n",
      "  Num examples = 1\n",
      "  Batch size = 64\n"
     ]
    },
    {
     "data": {
      "text/html": [],
      "text/plain": [
       "<IPython.core.display.HTML object>"
      ]
     },
     "metadata": {},
     "output_type": "display_data"
    },
    {
     "name": "stderr",
     "output_type": "stream",
     "text": [
      "***** Running Prediction *****\n",
      "  Num examples = 1\n",
      "  Batch size = 64\n"
     ]
    },
    {
     "data": {
      "text/html": [],
      "text/plain": [
       "<IPython.core.display.HTML object>"
      ]
     },
     "metadata": {},
     "output_type": "display_data"
    },
    {
     "name": "stderr",
     "output_type": "stream",
     "text": [
      "***** Running Prediction *****\n",
      "  Num examples = 1\n",
      "  Batch size = 64\n"
     ]
    },
    {
     "data": {
      "text/html": [],
      "text/plain": [
       "<IPython.core.display.HTML object>"
      ]
     },
     "metadata": {},
     "output_type": "display_data"
    },
    {
     "name": "stderr",
     "output_type": "stream",
     "text": [
      "***** Running Prediction *****\n",
      "  Num examples = 1\n",
      "  Batch size = 64\n"
     ]
    },
    {
     "data": {
      "text/html": [],
      "text/plain": [
       "<IPython.core.display.HTML object>"
      ]
     },
     "metadata": {},
     "output_type": "display_data"
    },
    {
     "name": "stderr",
     "output_type": "stream",
     "text": [
      "***** Running Prediction *****\n",
      "  Num examples = 1\n",
      "  Batch size = 64\n"
     ]
    },
    {
     "data": {
      "text/html": [],
      "text/plain": [
       "<IPython.core.display.HTML object>"
      ]
     },
     "metadata": {},
     "output_type": "display_data"
    },
    {
     "name": "stderr",
     "output_type": "stream",
     "text": [
      "***** Running Prediction *****\n",
      "  Num examples = 1\n",
      "  Batch size = 64\n"
     ]
    },
    {
     "data": {
      "text/html": [],
      "text/plain": [
       "<IPython.core.display.HTML object>"
      ]
     },
     "metadata": {},
     "output_type": "display_data"
    },
    {
     "name": "stderr",
     "output_type": "stream",
     "text": [
      "***** Running Prediction *****\n",
      "  Num examples = 1\n",
      "  Batch size = 64\n"
     ]
    },
    {
     "data": {
      "text/html": [],
      "text/plain": [
       "<IPython.core.display.HTML object>"
      ]
     },
     "metadata": {},
     "output_type": "display_data"
    },
    {
     "name": "stderr",
     "output_type": "stream",
     "text": [
      "***** Running Prediction *****\n",
      "  Num examples = 1\n",
      "  Batch size = 64\n"
     ]
    },
    {
     "data": {
      "text/html": [],
      "text/plain": [
       "<IPython.core.display.HTML object>"
      ]
     },
     "metadata": {},
     "output_type": "display_data"
    },
    {
     "name": "stderr",
     "output_type": "stream",
     "text": [
      "***** Running Prediction *****\n",
      "  Num examples = 1\n",
      "  Batch size = 64\n"
     ]
    },
    {
     "data": {
      "text/html": [],
      "text/plain": [
       "<IPython.core.display.HTML object>"
      ]
     },
     "metadata": {},
     "output_type": "display_data"
    },
    {
     "name": "stderr",
     "output_type": "stream",
     "text": [
      "***** Running Prediction *****\n",
      "  Num examples = 1\n",
      "  Batch size = 64\n"
     ]
    },
    {
     "data": {
      "text/html": [],
      "text/plain": [
       "<IPython.core.display.HTML object>"
      ]
     },
     "metadata": {},
     "output_type": "display_data"
    },
    {
     "name": "stderr",
     "output_type": "stream",
     "text": [
      "***** Running Prediction *****\n",
      "  Num examples = 1\n",
      "  Batch size = 64\n"
     ]
    },
    {
     "data": {
      "text/html": [],
      "text/plain": [
       "<IPython.core.display.HTML object>"
      ]
     },
     "metadata": {},
     "output_type": "display_data"
    },
    {
     "name": "stderr",
     "output_type": "stream",
     "text": [
      "***** Running Prediction *****\n",
      "  Num examples = 1\n",
      "  Batch size = 64\n"
     ]
    },
    {
     "data": {
      "text/html": [],
      "text/plain": [
       "<IPython.core.display.HTML object>"
      ]
     },
     "metadata": {},
     "output_type": "display_data"
    },
    {
     "name": "stderr",
     "output_type": "stream",
     "text": [
      "***** Running Prediction *****\n",
      "  Num examples = 1\n",
      "  Batch size = 64\n"
     ]
    },
    {
     "data": {
      "text/html": [],
      "text/plain": [
       "<IPython.core.display.HTML object>"
      ]
     },
     "metadata": {},
     "output_type": "display_data"
    },
    {
     "name": "stderr",
     "output_type": "stream",
     "text": [
      "***** Running Prediction *****\n",
      "  Num examples = 1\n",
      "  Batch size = 64\n"
     ]
    },
    {
     "data": {
      "text/html": [],
      "text/plain": [
       "<IPython.core.display.HTML object>"
      ]
     },
     "metadata": {},
     "output_type": "display_data"
    },
    {
     "name": "stderr",
     "output_type": "stream",
     "text": [
      "***** Running Prediction *****\n",
      "  Num examples = 1\n",
      "  Batch size = 64\n"
     ]
    },
    {
     "data": {
      "text/html": [],
      "text/plain": [
       "<IPython.core.display.HTML object>"
      ]
     },
     "metadata": {},
     "output_type": "display_data"
    },
    {
     "name": "stderr",
     "output_type": "stream",
     "text": [
      "***** Running Prediction *****\n",
      "  Num examples = 1\n",
      "  Batch size = 64\n"
     ]
    },
    {
     "data": {
      "text/html": [],
      "text/plain": [
       "<IPython.core.display.HTML object>"
      ]
     },
     "metadata": {},
     "output_type": "display_data"
    },
    {
     "name": "stderr",
     "output_type": "stream",
     "text": [
      "***** Running Prediction *****\n",
      "  Num examples = 1\n",
      "  Batch size = 64\n"
     ]
    },
    {
     "data": {
      "text/html": [],
      "text/plain": [
       "<IPython.core.display.HTML object>"
      ]
     },
     "metadata": {},
     "output_type": "display_data"
    },
    {
     "name": "stderr",
     "output_type": "stream",
     "text": [
      "***** Running Prediction *****\n",
      "  Num examples = 1\n",
      "  Batch size = 64\n"
     ]
    },
    {
     "data": {
      "text/html": [],
      "text/plain": [
       "<IPython.core.display.HTML object>"
      ]
     },
     "metadata": {},
     "output_type": "display_data"
    },
    {
     "name": "stderr",
     "output_type": "stream",
     "text": [
      "***** Running Prediction *****\n",
      "  Num examples = 1\n",
      "  Batch size = 64\n"
     ]
    },
    {
     "data": {
      "text/html": [],
      "text/plain": [
       "<IPython.core.display.HTML object>"
      ]
     },
     "metadata": {},
     "output_type": "display_data"
    },
    {
     "name": "stderr",
     "output_type": "stream",
     "text": [
      "***** Running Prediction *****\n",
      "  Num examples = 1\n",
      "  Batch size = 64\n"
     ]
    },
    {
     "data": {
      "text/html": [],
      "text/plain": [
       "<IPython.core.display.HTML object>"
      ]
     },
     "metadata": {},
     "output_type": "display_data"
    },
    {
     "name": "stderr",
     "output_type": "stream",
     "text": [
      "***** Running Prediction *****\n",
      "  Num examples = 1\n",
      "  Batch size = 64\n"
     ]
    },
    {
     "data": {
      "text/html": [],
      "text/plain": [
       "<IPython.core.display.HTML object>"
      ]
     },
     "metadata": {},
     "output_type": "display_data"
    },
    {
     "name": "stderr",
     "output_type": "stream",
     "text": [
      "***** Running Prediction *****\n",
      "  Num examples = 1\n",
      "  Batch size = 64\n"
     ]
    },
    {
     "data": {
      "text/html": [],
      "text/plain": [
       "<IPython.core.display.HTML object>"
      ]
     },
     "metadata": {},
     "output_type": "display_data"
    },
    {
     "name": "stderr",
     "output_type": "stream",
     "text": [
      "***** Running Prediction *****\n",
      "  Num examples = 1\n",
      "  Batch size = 64\n"
     ]
    },
    {
     "data": {
      "text/html": [],
      "text/plain": [
       "<IPython.core.display.HTML object>"
      ]
     },
     "metadata": {},
     "output_type": "display_data"
    },
    {
     "name": "stderr",
     "output_type": "stream",
     "text": [
      "***** Running Prediction *****\n",
      "  Num examples = 1\n",
      "  Batch size = 64\n"
     ]
    },
    {
     "data": {
      "text/html": [],
      "text/plain": [
       "<IPython.core.display.HTML object>"
      ]
     },
     "metadata": {},
     "output_type": "display_data"
    },
    {
     "name": "stderr",
     "output_type": "stream",
     "text": [
      "***** Running Prediction *****\n",
      "  Num examples = 1\n",
      "  Batch size = 64\n"
     ]
    },
    {
     "data": {
      "text/html": [],
      "text/plain": [
       "<IPython.core.display.HTML object>"
      ]
     },
     "metadata": {},
     "output_type": "display_data"
    },
    {
     "name": "stderr",
     "output_type": "stream",
     "text": [
      "***** Running Prediction *****\n",
      "  Num examples = 1\n",
      "  Batch size = 64\n"
     ]
    },
    {
     "data": {
      "text/html": [],
      "text/plain": [
       "<IPython.core.display.HTML object>"
      ]
     },
     "metadata": {},
     "output_type": "display_data"
    },
    {
     "name": "stderr",
     "output_type": "stream",
     "text": [
      "***** Running Prediction *****\n",
      "  Num examples = 1\n",
      "  Batch size = 64\n"
     ]
    },
    {
     "data": {
      "text/html": [],
      "text/plain": [
       "<IPython.core.display.HTML object>"
      ]
     },
     "metadata": {},
     "output_type": "display_data"
    },
    {
     "name": "stderr",
     "output_type": "stream",
     "text": [
      "***** Running Prediction *****\n",
      "  Num examples = 1\n",
      "  Batch size = 64\n"
     ]
    },
    {
     "data": {
      "text/html": [],
      "text/plain": [
       "<IPython.core.display.HTML object>"
      ]
     },
     "metadata": {},
     "output_type": "display_data"
    },
    {
     "name": "stderr",
     "output_type": "stream",
     "text": [
      "***** Running Prediction *****\n",
      "  Num examples = 1\n",
      "  Batch size = 64\n"
     ]
    },
    {
     "data": {
      "text/html": [],
      "text/plain": [
       "<IPython.core.display.HTML object>"
      ]
     },
     "metadata": {},
     "output_type": "display_data"
    },
    {
     "name": "stderr",
     "output_type": "stream",
     "text": [
      "***** Running Prediction *****\n",
      "  Num examples = 1\n",
      "  Batch size = 64\n"
     ]
    },
    {
     "data": {
      "text/html": [],
      "text/plain": [
       "<IPython.core.display.HTML object>"
      ]
     },
     "metadata": {},
     "output_type": "display_data"
    },
    {
     "name": "stderr",
     "output_type": "stream",
     "text": [
      "***** Running Prediction *****\n",
      "  Num examples = 1\n",
      "  Batch size = 64\n"
     ]
    },
    {
     "data": {
      "text/html": [],
      "text/plain": [
       "<IPython.core.display.HTML object>"
      ]
     },
     "metadata": {},
     "output_type": "display_data"
    },
    {
     "name": "stderr",
     "output_type": "stream",
     "text": [
      "***** Running Prediction *****\n",
      "  Num examples = 1\n",
      "  Batch size = 64\n"
     ]
    },
    {
     "data": {
      "text/html": [],
      "text/plain": [
       "<IPython.core.display.HTML object>"
      ]
     },
     "metadata": {},
     "output_type": "display_data"
    },
    {
     "name": "stderr",
     "output_type": "stream",
     "text": [
      "***** Running Prediction *****\n",
      "  Num examples = 1\n",
      "  Batch size = 64\n"
     ]
    },
    {
     "data": {
      "text/html": [],
      "text/plain": [
       "<IPython.core.display.HTML object>"
      ]
     },
     "metadata": {},
     "output_type": "display_data"
    },
    {
     "name": "stderr",
     "output_type": "stream",
     "text": [
      "***** Running Prediction *****\n",
      "  Num examples = 1\n",
      "  Batch size = 64\n"
     ]
    },
    {
     "data": {
      "text/html": [],
      "text/plain": [
       "<IPython.core.display.HTML object>"
      ]
     },
     "metadata": {},
     "output_type": "display_data"
    },
    {
     "name": "stderr",
     "output_type": "stream",
     "text": [
      "***** Running Prediction *****\n",
      "  Num examples = 1\n",
      "  Batch size = 64\n"
     ]
    },
    {
     "data": {
      "text/html": [],
      "text/plain": [
       "<IPython.core.display.HTML object>"
      ]
     },
     "metadata": {},
     "output_type": "display_data"
    },
    {
     "name": "stderr",
     "output_type": "stream",
     "text": [
      "***** Running Prediction *****\n",
      "  Num examples = 1\n",
      "  Batch size = 64\n"
     ]
    },
    {
     "data": {
      "text/html": [],
      "text/plain": [
       "<IPython.core.display.HTML object>"
      ]
     },
     "metadata": {},
     "output_type": "display_data"
    },
    {
     "name": "stderr",
     "output_type": "stream",
     "text": [
      "***** Running Prediction *****\n",
      "  Num examples = 1\n",
      "  Batch size = 64\n"
     ]
    },
    {
     "data": {
      "text/html": [],
      "text/plain": [
       "<IPython.core.display.HTML object>"
      ]
     },
     "metadata": {},
     "output_type": "display_data"
    },
    {
     "name": "stderr",
     "output_type": "stream",
     "text": [
      "***** Running Prediction *****\n",
      "  Num examples = 1\n",
      "  Batch size = 64\n"
     ]
    },
    {
     "data": {
      "text/html": [],
      "text/plain": [
       "<IPython.core.display.HTML object>"
      ]
     },
     "metadata": {},
     "output_type": "display_data"
    },
    {
     "name": "stderr",
     "output_type": "stream",
     "text": [
      "***** Running Prediction *****\n",
      "  Num examples = 1\n",
      "  Batch size = 64\n"
     ]
    },
    {
     "data": {
      "text/html": [],
      "text/plain": [
       "<IPython.core.display.HTML object>"
      ]
     },
     "metadata": {},
     "output_type": "display_data"
    },
    {
     "name": "stderr",
     "output_type": "stream",
     "text": [
      "***** Running Prediction *****\n",
      "  Num examples = 1\n",
      "  Batch size = 64\n"
     ]
    },
    {
     "data": {
      "text/html": [],
      "text/plain": [
       "<IPython.core.display.HTML object>"
      ]
     },
     "metadata": {},
     "output_type": "display_data"
    },
    {
     "name": "stderr",
     "output_type": "stream",
     "text": [
      "***** Running Prediction *****\n",
      "  Num examples = 1\n",
      "  Batch size = 64\n"
     ]
    },
    {
     "data": {
      "text/html": [],
      "text/plain": [
       "<IPython.core.display.HTML object>"
      ]
     },
     "metadata": {},
     "output_type": "display_data"
    },
    {
     "name": "stderr",
     "output_type": "stream",
     "text": [
      "***** Running Prediction *****\n",
      "  Num examples = 1\n",
      "  Batch size = 64\n"
     ]
    },
    {
     "data": {
      "text/html": [],
      "text/plain": [
       "<IPython.core.display.HTML object>"
      ]
     },
     "metadata": {},
     "output_type": "display_data"
    },
    {
     "name": "stderr",
     "output_type": "stream",
     "text": [
      "***** Running Prediction *****\n",
      "  Num examples = 1\n",
      "  Batch size = 64\n"
     ]
    },
    {
     "data": {
      "text/html": [],
      "text/plain": [
       "<IPython.core.display.HTML object>"
      ]
     },
     "metadata": {},
     "output_type": "display_data"
    },
    {
     "name": "stderr",
     "output_type": "stream",
     "text": [
      "***** Running Prediction *****\n",
      "  Num examples = 1\n",
      "  Batch size = 64\n"
     ]
    },
    {
     "data": {
      "text/html": [],
      "text/plain": [
       "<IPython.core.display.HTML object>"
      ]
     },
     "metadata": {},
     "output_type": "display_data"
    },
    {
     "name": "stderr",
     "output_type": "stream",
     "text": [
      "***** Running Prediction *****\n",
      "  Num examples = 1\n",
      "  Batch size = 64\n"
     ]
    },
    {
     "data": {
      "text/html": [],
      "text/plain": [
       "<IPython.core.display.HTML object>"
      ]
     },
     "metadata": {},
     "output_type": "display_data"
    },
    {
     "name": "stderr",
     "output_type": "stream",
     "text": [
      "***** Running Prediction *****\n",
      "  Num examples = 1\n",
      "  Batch size = 64\n"
     ]
    },
    {
     "data": {
      "text/html": [],
      "text/plain": [
       "<IPython.core.display.HTML object>"
      ]
     },
     "metadata": {},
     "output_type": "display_data"
    },
    {
     "name": "stderr",
     "output_type": "stream",
     "text": [
      "***** Running Prediction *****\n",
      "  Num examples = 1\n",
      "  Batch size = 64\n"
     ]
    },
    {
     "data": {
      "text/html": [],
      "text/plain": [
       "<IPython.core.display.HTML object>"
      ]
     },
     "metadata": {},
     "output_type": "display_data"
    },
    {
     "name": "stderr",
     "output_type": "stream",
     "text": [
      "***** Running Prediction *****\n",
      "  Num examples = 1\n",
      "  Batch size = 64\n"
     ]
    },
    {
     "data": {
      "text/html": [],
      "text/plain": [
       "<IPython.core.display.HTML object>"
      ]
     },
     "metadata": {},
     "output_type": "display_data"
    },
    {
     "name": "stderr",
     "output_type": "stream",
     "text": [
      "***** Running Prediction *****\n",
      "  Num examples = 1\n",
      "  Batch size = 64\n"
     ]
    },
    {
     "data": {
      "text/html": [],
      "text/plain": [
       "<IPython.core.display.HTML object>"
      ]
     },
     "metadata": {},
     "output_type": "display_data"
    },
    {
     "name": "stderr",
     "output_type": "stream",
     "text": [
      "***** Running Prediction *****\n",
      "  Num examples = 1\n",
      "  Batch size = 64\n"
     ]
    },
    {
     "data": {
      "text/html": [],
      "text/plain": [
       "<IPython.core.display.HTML object>"
      ]
     },
     "metadata": {},
     "output_type": "display_data"
    },
    {
     "name": "stderr",
     "output_type": "stream",
     "text": [
      "***** Running Prediction *****\n",
      "  Num examples = 1\n",
      "  Batch size = 64\n"
     ]
    },
    {
     "data": {
      "text/html": [],
      "text/plain": [
       "<IPython.core.display.HTML object>"
      ]
     },
     "metadata": {},
     "output_type": "display_data"
    },
    {
     "name": "stderr",
     "output_type": "stream",
     "text": [
      "***** Running Prediction *****\n",
      "  Num examples = 1\n",
      "  Batch size = 64\n"
     ]
    },
    {
     "data": {
      "text/html": [],
      "text/plain": [
       "<IPython.core.display.HTML object>"
      ]
     },
     "metadata": {},
     "output_type": "display_data"
    },
    {
     "name": "stderr",
     "output_type": "stream",
     "text": [
      "***** Running Prediction *****\n",
      "  Num examples = 1\n",
      "  Batch size = 64\n"
     ]
    },
    {
     "data": {
      "text/html": [],
      "text/plain": [
       "<IPython.core.display.HTML object>"
      ]
     },
     "metadata": {},
     "output_type": "display_data"
    },
    {
     "name": "stderr",
     "output_type": "stream",
     "text": [
      "***** Running Prediction *****\n",
      "  Num examples = 1\n",
      "  Batch size = 64\n"
     ]
    },
    {
     "data": {
      "text/html": [],
      "text/plain": [
       "<IPython.core.display.HTML object>"
      ]
     },
     "metadata": {},
     "output_type": "display_data"
    },
    {
     "name": "stderr",
     "output_type": "stream",
     "text": [
      "***** Running Prediction *****\n",
      "  Num examples = 1\n",
      "  Batch size = 64\n"
     ]
    },
    {
     "data": {
      "text/html": [],
      "text/plain": [
       "<IPython.core.display.HTML object>"
      ]
     },
     "metadata": {},
     "output_type": "display_data"
    },
    {
     "name": "stderr",
     "output_type": "stream",
     "text": [
      "***** Running Prediction *****\n",
      "  Num examples = 1\n",
      "  Batch size = 64\n"
     ]
    },
    {
     "data": {
      "text/html": [],
      "text/plain": [
       "<IPython.core.display.HTML object>"
      ]
     },
     "metadata": {},
     "output_type": "display_data"
    },
    {
     "name": "stderr",
     "output_type": "stream",
     "text": [
      "***** Running Prediction *****\n",
      "  Num examples = 1\n",
      "  Batch size = 64\n"
     ]
    },
    {
     "data": {
      "text/html": [],
      "text/plain": [
       "<IPython.core.display.HTML object>"
      ]
     },
     "metadata": {},
     "output_type": "display_data"
    },
    {
     "name": "stderr",
     "output_type": "stream",
     "text": [
      "***** Running Prediction *****\n",
      "  Num examples = 1\n",
      "  Batch size = 64\n"
     ]
    },
    {
     "data": {
      "text/html": [],
      "text/plain": [
       "<IPython.core.display.HTML object>"
      ]
     },
     "metadata": {},
     "output_type": "display_data"
    },
    {
     "name": "stderr",
     "output_type": "stream",
     "text": [
      "***** Running Prediction *****\n",
      "  Num examples = 1\n",
      "  Batch size = 64\n"
     ]
    },
    {
     "data": {
      "text/html": [],
      "text/plain": [
       "<IPython.core.display.HTML object>"
      ]
     },
     "metadata": {},
     "output_type": "display_data"
    },
    {
     "name": "stderr",
     "output_type": "stream",
     "text": [
      "***** Running Prediction *****\n",
      "  Num examples = 1\n",
      "  Batch size = 64\n"
     ]
    },
    {
     "data": {
      "text/html": [],
      "text/plain": [
       "<IPython.core.display.HTML object>"
      ]
     },
     "metadata": {},
     "output_type": "display_data"
    },
    {
     "name": "stderr",
     "output_type": "stream",
     "text": [
      "***** Running Prediction *****\n",
      "  Num examples = 1\n",
      "  Batch size = 64\n"
     ]
    },
    {
     "data": {
      "text/html": [],
      "text/plain": [
       "<IPython.core.display.HTML object>"
      ]
     },
     "metadata": {},
     "output_type": "display_data"
    },
    {
     "name": "stderr",
     "output_type": "stream",
     "text": [
      "***** Running Prediction *****\n",
      "  Num examples = 1\n",
      "  Batch size = 64\n"
     ]
    },
    {
     "data": {
      "text/html": [],
      "text/plain": [
       "<IPython.core.display.HTML object>"
      ]
     },
     "metadata": {},
     "output_type": "display_data"
    },
    {
     "name": "stderr",
     "output_type": "stream",
     "text": [
      "***** Running Prediction *****\n",
      "  Num examples = 1\n",
      "  Batch size = 64\n"
     ]
    },
    {
     "data": {
      "text/html": [],
      "text/plain": [
       "<IPython.core.display.HTML object>"
      ]
     },
     "metadata": {},
     "output_type": "display_data"
    },
    {
     "name": "stderr",
     "output_type": "stream",
     "text": [
      "***** Running Prediction *****\n",
      "  Num examples = 1\n",
      "  Batch size = 64\n"
     ]
    },
    {
     "data": {
      "text/html": [],
      "text/plain": [
       "<IPython.core.display.HTML object>"
      ]
     },
     "metadata": {},
     "output_type": "display_data"
    },
    {
     "name": "stderr",
     "output_type": "stream",
     "text": [
      "***** Running Prediction *****\n",
      "  Num examples = 1\n",
      "  Batch size = 64\n"
     ]
    },
    {
     "data": {
      "text/html": [],
      "text/plain": [
       "<IPython.core.display.HTML object>"
      ]
     },
     "metadata": {},
     "output_type": "display_data"
    },
    {
     "name": "stderr",
     "output_type": "stream",
     "text": [
      "***** Running Prediction *****\n",
      "  Num examples = 1\n",
      "  Batch size = 64\n"
     ]
    },
    {
     "data": {
      "text/html": [],
      "text/plain": [
       "<IPython.core.display.HTML object>"
      ]
     },
     "metadata": {},
     "output_type": "display_data"
    },
    {
     "name": "stderr",
     "output_type": "stream",
     "text": [
      "***** Running Prediction *****\n",
      "  Num examples = 1\n",
      "  Batch size = 64\n"
     ]
    },
    {
     "data": {
      "text/html": [],
      "text/plain": [
       "<IPython.core.display.HTML object>"
      ]
     },
     "metadata": {},
     "output_type": "display_data"
    },
    {
     "name": "stderr",
     "output_type": "stream",
     "text": [
      "***** Running Prediction *****\n",
      "  Num examples = 1\n",
      "  Batch size = 64\n"
     ]
    },
    {
     "data": {
      "text/html": [],
      "text/plain": [
       "<IPython.core.display.HTML object>"
      ]
     },
     "metadata": {},
     "output_type": "display_data"
    },
    {
     "name": "stderr",
     "output_type": "stream",
     "text": [
      "***** Running Prediction *****\n",
      "  Num examples = 1\n",
      "  Batch size = 64\n"
     ]
    },
    {
     "data": {
      "text/html": [],
      "text/plain": [
       "<IPython.core.display.HTML object>"
      ]
     },
     "metadata": {},
     "output_type": "display_data"
    },
    {
     "name": "stderr",
     "output_type": "stream",
     "text": [
      "***** Running Prediction *****\n",
      "  Num examples = 1\n",
      "  Batch size = 64\n"
     ]
    },
    {
     "data": {
      "text/html": [],
      "text/plain": [
       "<IPython.core.display.HTML object>"
      ]
     },
     "metadata": {},
     "output_type": "display_data"
    },
    {
     "name": "stderr",
     "output_type": "stream",
     "text": [
      "***** Running Prediction *****\n",
      "  Num examples = 1\n",
      "  Batch size = 64\n"
     ]
    },
    {
     "data": {
      "text/html": [],
      "text/plain": [
       "<IPython.core.display.HTML object>"
      ]
     },
     "metadata": {},
     "output_type": "display_data"
    },
    {
     "name": "stderr",
     "output_type": "stream",
     "text": [
      "***** Running Prediction *****\n",
      "  Num examples = 1\n",
      "  Batch size = 64\n"
     ]
    },
    {
     "data": {
      "text/html": [],
      "text/plain": [
       "<IPython.core.display.HTML object>"
      ]
     },
     "metadata": {},
     "output_type": "display_data"
    },
    {
     "name": "stderr",
     "output_type": "stream",
     "text": [
      "***** Running Prediction *****\n",
      "  Num examples = 1\n",
      "  Batch size = 64\n"
     ]
    },
    {
     "data": {
      "text/html": [],
      "text/plain": [
       "<IPython.core.display.HTML object>"
      ]
     },
     "metadata": {},
     "output_type": "display_data"
    },
    {
     "name": "stderr",
     "output_type": "stream",
     "text": [
      "***** Running Prediction *****\n",
      "  Num examples = 1\n",
      "  Batch size = 64\n"
     ]
    },
    {
     "data": {
      "text/html": [],
      "text/plain": [
       "<IPython.core.display.HTML object>"
      ]
     },
     "metadata": {},
     "output_type": "display_data"
    },
    {
     "name": "stderr",
     "output_type": "stream",
     "text": [
      "***** Running Prediction *****\n",
      "  Num examples = 1\n",
      "  Batch size = 64\n"
     ]
    },
    {
     "data": {
      "text/html": [],
      "text/plain": [
       "<IPython.core.display.HTML object>"
      ]
     },
     "metadata": {},
     "output_type": "display_data"
    },
    {
     "name": "stderr",
     "output_type": "stream",
     "text": [
      "***** Running Prediction *****\n",
      "  Num examples = 1\n",
      "  Batch size = 64\n"
     ]
    },
    {
     "data": {
      "text/html": [],
      "text/plain": [
       "<IPython.core.display.HTML object>"
      ]
     },
     "metadata": {},
     "output_type": "display_data"
    },
    {
     "name": "stderr",
     "output_type": "stream",
     "text": [
      "***** Running Prediction *****\n",
      "  Num examples = 1\n",
      "  Batch size = 64\n"
     ]
    },
    {
     "data": {
      "text/html": [],
      "text/plain": [
       "<IPython.core.display.HTML object>"
      ]
     },
     "metadata": {},
     "output_type": "display_data"
    },
    {
     "name": "stderr",
     "output_type": "stream",
     "text": [
      "***** Running Prediction *****\n",
      "  Num examples = 1\n",
      "  Batch size = 64\n"
     ]
    },
    {
     "data": {
      "text/html": [],
      "text/plain": [
       "<IPython.core.display.HTML object>"
      ]
     },
     "metadata": {},
     "output_type": "display_data"
    },
    {
     "name": "stderr",
     "output_type": "stream",
     "text": [
      "***** Running Prediction *****\n",
      "  Num examples = 1\n",
      "  Batch size = 64\n"
     ]
    },
    {
     "data": {
      "text/html": [],
      "text/plain": [
       "<IPython.core.display.HTML object>"
      ]
     },
     "metadata": {},
     "output_type": "display_data"
    },
    {
     "name": "stderr",
     "output_type": "stream",
     "text": [
      "***** Running Prediction *****\n",
      "  Num examples = 1\n",
      "  Batch size = 64\n"
     ]
    },
    {
     "data": {
      "text/html": [],
      "text/plain": [
       "<IPython.core.display.HTML object>"
      ]
     },
     "metadata": {},
     "output_type": "display_data"
    },
    {
     "name": "stderr",
     "output_type": "stream",
     "text": [
      "***** Running Prediction *****\n",
      "  Num examples = 1\n",
      "  Batch size = 64\n"
     ]
    },
    {
     "data": {
      "text/html": [],
      "text/plain": [
       "<IPython.core.display.HTML object>"
      ]
     },
     "metadata": {},
     "output_type": "display_data"
    },
    {
     "name": "stderr",
     "output_type": "stream",
     "text": [
      "***** Running Prediction *****\n",
      "  Num examples = 1\n",
      "  Batch size = 64\n"
     ]
    },
    {
     "data": {
      "text/html": [],
      "text/plain": [
       "<IPython.core.display.HTML object>"
      ]
     },
     "metadata": {},
     "output_type": "display_data"
    },
    {
     "name": "stderr",
     "output_type": "stream",
     "text": [
      "***** Running Prediction *****\n",
      "  Num examples = 1\n",
      "  Batch size = 64\n"
     ]
    },
    {
     "data": {
      "text/html": [],
      "text/plain": [
       "<IPython.core.display.HTML object>"
      ]
     },
     "metadata": {},
     "output_type": "display_data"
    },
    {
     "name": "stderr",
     "output_type": "stream",
     "text": [
      "***** Running Prediction *****\n",
      "  Num examples = 1\n",
      "  Batch size = 64\n"
     ]
    },
    {
     "data": {
      "text/html": [],
      "text/plain": [
       "<IPython.core.display.HTML object>"
      ]
     },
     "metadata": {},
     "output_type": "display_data"
    },
    {
     "name": "stderr",
     "output_type": "stream",
     "text": [
      "***** Running Prediction *****\n",
      "  Num examples = 1\n",
      "  Batch size = 64\n"
     ]
    },
    {
     "data": {
      "text/html": [],
      "text/plain": [
       "<IPython.core.display.HTML object>"
      ]
     },
     "metadata": {},
     "output_type": "display_data"
    },
    {
     "name": "stderr",
     "output_type": "stream",
     "text": [
      "***** Running Prediction *****\n",
      "  Num examples = 1\n",
      "  Batch size = 64\n"
     ]
    },
    {
     "data": {
      "text/html": [],
      "text/plain": [
       "<IPython.core.display.HTML object>"
      ]
     },
     "metadata": {},
     "output_type": "display_data"
    },
    {
     "name": "stderr",
     "output_type": "stream",
     "text": [
      "***** Running Prediction *****\n",
      "  Num examples = 1\n",
      "  Batch size = 64\n"
     ]
    },
    {
     "data": {
      "text/html": [],
      "text/plain": [
       "<IPython.core.display.HTML object>"
      ]
     },
     "metadata": {},
     "output_type": "display_data"
    },
    {
     "name": "stderr",
     "output_type": "stream",
     "text": [
      "***** Running Prediction *****\n",
      "  Num examples = 1\n",
      "  Batch size = 64\n"
     ]
    },
    {
     "data": {
      "text/html": [],
      "text/plain": [
       "<IPython.core.display.HTML object>"
      ]
     },
     "metadata": {},
     "output_type": "display_data"
    },
    {
     "name": "stderr",
     "output_type": "stream",
     "text": [
      "***** Running Prediction *****\n",
      "  Num examples = 1\n",
      "  Batch size = 64\n"
     ]
    },
    {
     "data": {
      "text/html": [],
      "text/plain": [
       "<IPython.core.display.HTML object>"
      ]
     },
     "metadata": {},
     "output_type": "display_data"
    },
    {
     "name": "stderr",
     "output_type": "stream",
     "text": [
      "***** Running Prediction *****\n",
      "  Num examples = 1\n",
      "  Batch size = 64\n"
     ]
    },
    {
     "data": {
      "text/html": [],
      "text/plain": [
       "<IPython.core.display.HTML object>"
      ]
     },
     "metadata": {},
     "output_type": "display_data"
    },
    {
     "name": "stderr",
     "output_type": "stream",
     "text": [
      "***** Running Prediction *****\n",
      "  Num examples = 1\n",
      "  Batch size = 64\n"
     ]
    },
    {
     "data": {
      "text/html": [],
      "text/plain": [
       "<IPython.core.display.HTML object>"
      ]
     },
     "metadata": {},
     "output_type": "display_data"
    },
    {
     "name": "stderr",
     "output_type": "stream",
     "text": [
      "***** Running Prediction *****\n",
      "  Num examples = 1\n",
      "  Batch size = 64\n"
     ]
    },
    {
     "data": {
      "text/html": [],
      "text/plain": [
       "<IPython.core.display.HTML object>"
      ]
     },
     "metadata": {},
     "output_type": "display_data"
    },
    {
     "name": "stderr",
     "output_type": "stream",
     "text": [
      "***** Running Prediction *****\n",
      "  Num examples = 1\n",
      "  Batch size = 64\n"
     ]
    },
    {
     "data": {
      "text/html": [],
      "text/plain": [
       "<IPython.core.display.HTML object>"
      ]
     },
     "metadata": {},
     "output_type": "display_data"
    },
    {
     "name": "stderr",
     "output_type": "stream",
     "text": [
      "***** Running Prediction *****\n",
      "  Num examples = 1\n",
      "  Batch size = 64\n"
     ]
    },
    {
     "data": {
      "text/html": [],
      "text/plain": [
       "<IPython.core.display.HTML object>"
      ]
     },
     "metadata": {},
     "output_type": "display_data"
    },
    {
     "name": "stderr",
     "output_type": "stream",
     "text": [
      "***** Running Prediction *****\n",
      "  Num examples = 1\n",
      "  Batch size = 64\n"
     ]
    },
    {
     "data": {
      "text/html": [],
      "text/plain": [
       "<IPython.core.display.HTML object>"
      ]
     },
     "metadata": {},
     "output_type": "display_data"
    },
    {
     "name": "stderr",
     "output_type": "stream",
     "text": [
      "***** Running Prediction *****\n",
      "  Num examples = 1\n",
      "  Batch size = 64\n"
     ]
    },
    {
     "data": {
      "text/html": [],
      "text/plain": [
       "<IPython.core.display.HTML object>"
      ]
     },
     "metadata": {},
     "output_type": "display_data"
    },
    {
     "name": "stderr",
     "output_type": "stream",
     "text": [
      "***** Running Prediction *****\n",
      "  Num examples = 1\n",
      "  Batch size = 64\n"
     ]
    },
    {
     "data": {
      "text/html": [],
      "text/plain": [
       "<IPython.core.display.HTML object>"
      ]
     },
     "metadata": {},
     "output_type": "display_data"
    },
    {
     "name": "stderr",
     "output_type": "stream",
     "text": [
      "***** Running Prediction *****\n",
      "  Num examples = 1\n",
      "  Batch size = 64\n"
     ]
    },
    {
     "data": {
      "text/html": [],
      "text/plain": [
       "<IPython.core.display.HTML object>"
      ]
     },
     "metadata": {},
     "output_type": "display_data"
    },
    {
     "name": "stderr",
     "output_type": "stream",
     "text": [
      "***** Running Prediction *****\n",
      "  Num examples = 1\n",
      "  Batch size = 64\n"
     ]
    },
    {
     "data": {
      "text/html": [],
      "text/plain": [
       "<IPython.core.display.HTML object>"
      ]
     },
     "metadata": {},
     "output_type": "display_data"
    },
    {
     "name": "stderr",
     "output_type": "stream",
     "text": [
      "***** Running Prediction *****\n",
      "  Num examples = 1\n",
      "  Batch size = 64\n"
     ]
    },
    {
     "data": {
      "text/html": [],
      "text/plain": [
       "<IPython.core.display.HTML object>"
      ]
     },
     "metadata": {},
     "output_type": "display_data"
    },
    {
     "name": "stderr",
     "output_type": "stream",
     "text": [
      "***** Running Prediction *****\n",
      "  Num examples = 1\n",
      "  Batch size = 64\n"
     ]
    },
    {
     "data": {
      "text/html": [],
      "text/plain": [
       "<IPython.core.display.HTML object>"
      ]
     },
     "metadata": {},
     "output_type": "display_data"
    },
    {
     "name": "stderr",
     "output_type": "stream",
     "text": [
      "***** Running Prediction *****\n",
      "  Num examples = 1\n",
      "  Batch size = 64\n"
     ]
    },
    {
     "data": {
      "text/html": [],
      "text/plain": [
       "<IPython.core.display.HTML object>"
      ]
     },
     "metadata": {},
     "output_type": "display_data"
    },
    {
     "name": "stderr",
     "output_type": "stream",
     "text": [
      "***** Running Prediction *****\n",
      "  Num examples = 1\n",
      "  Batch size = 64\n"
     ]
    },
    {
     "data": {
      "text/html": [],
      "text/plain": [
       "<IPython.core.display.HTML object>"
      ]
     },
     "metadata": {},
     "output_type": "display_data"
    },
    {
     "name": "stderr",
     "output_type": "stream",
     "text": [
      "***** Running Prediction *****\n",
      "  Num examples = 1\n",
      "  Batch size = 64\n"
     ]
    },
    {
     "data": {
      "text/html": [],
      "text/plain": [
       "<IPython.core.display.HTML object>"
      ]
     },
     "metadata": {},
     "output_type": "display_data"
    },
    {
     "name": "stderr",
     "output_type": "stream",
     "text": [
      "***** Running Prediction *****\n",
      "  Num examples = 1\n",
      "  Batch size = 64\n"
     ]
    },
    {
     "data": {
      "text/html": [],
      "text/plain": [
       "<IPython.core.display.HTML object>"
      ]
     },
     "metadata": {},
     "output_type": "display_data"
    },
    {
     "name": "stderr",
     "output_type": "stream",
     "text": [
      "***** Running Prediction *****\n",
      "  Num examples = 1\n",
      "  Batch size = 64\n"
     ]
    },
    {
     "data": {
      "text/html": [],
      "text/plain": [
       "<IPython.core.display.HTML object>"
      ]
     },
     "metadata": {},
     "output_type": "display_data"
    },
    {
     "name": "stderr",
     "output_type": "stream",
     "text": [
      "***** Running Prediction *****\n",
      "  Num examples = 1\n",
      "  Batch size = 64\n"
     ]
    },
    {
     "data": {
      "text/html": [],
      "text/plain": [
       "<IPython.core.display.HTML object>"
      ]
     },
     "metadata": {},
     "output_type": "display_data"
    },
    {
     "name": "stderr",
     "output_type": "stream",
     "text": [
      "***** Running Prediction *****\n",
      "  Num examples = 1\n",
      "  Batch size = 64\n"
     ]
    },
    {
     "data": {
      "text/html": [],
      "text/plain": [
       "<IPython.core.display.HTML object>"
      ]
     },
     "metadata": {},
     "output_type": "display_data"
    },
    {
     "name": "stderr",
     "output_type": "stream",
     "text": [
      "***** Running Prediction *****\n",
      "  Num examples = 1\n",
      "  Batch size = 64\n"
     ]
    },
    {
     "data": {
      "text/html": [],
      "text/plain": [
       "<IPython.core.display.HTML object>"
      ]
     },
     "metadata": {},
     "output_type": "display_data"
    },
    {
     "name": "stderr",
     "output_type": "stream",
     "text": [
      "***** Running Prediction *****\n",
      "  Num examples = 1\n",
      "  Batch size = 64\n"
     ]
    },
    {
     "data": {
      "text/html": [],
      "text/plain": [
       "<IPython.core.display.HTML object>"
      ]
     },
     "metadata": {},
     "output_type": "display_data"
    },
    {
     "name": "stderr",
     "output_type": "stream",
     "text": [
      "***** Running Prediction *****\n",
      "  Num examples = 1\n",
      "  Batch size = 64\n"
     ]
    },
    {
     "data": {
      "text/html": [],
      "text/plain": [
       "<IPython.core.display.HTML object>"
      ]
     },
     "metadata": {},
     "output_type": "display_data"
    },
    {
     "name": "stderr",
     "output_type": "stream",
     "text": [
      "***** Running Prediction *****\n",
      "  Num examples = 1\n",
      "  Batch size = 64\n"
     ]
    },
    {
     "data": {
      "text/html": [],
      "text/plain": [
       "<IPython.core.display.HTML object>"
      ]
     },
     "metadata": {},
     "output_type": "display_data"
    },
    {
     "name": "stderr",
     "output_type": "stream",
     "text": [
      "***** Running Prediction *****\n",
      "  Num examples = 1\n",
      "  Batch size = 64\n"
     ]
    },
    {
     "data": {
      "text/html": [],
      "text/plain": [
       "<IPython.core.display.HTML object>"
      ]
     },
     "metadata": {},
     "output_type": "display_data"
    },
    {
     "name": "stderr",
     "output_type": "stream",
     "text": [
      "***** Running Prediction *****\n",
      "  Num examples = 1\n",
      "  Batch size = 64\n"
     ]
    },
    {
     "data": {
      "text/html": [],
      "text/plain": [
       "<IPython.core.display.HTML object>"
      ]
     },
     "metadata": {},
     "output_type": "display_data"
    },
    {
     "name": "stderr",
     "output_type": "stream",
     "text": [
      "***** Running Prediction *****\n",
      "  Num examples = 1\n",
      "  Batch size = 64\n"
     ]
    },
    {
     "data": {
      "text/html": [],
      "text/plain": [
       "<IPython.core.display.HTML object>"
      ]
     },
     "metadata": {},
     "output_type": "display_data"
    },
    {
     "name": "stderr",
     "output_type": "stream",
     "text": [
      "***** Running Prediction *****\n",
      "  Num examples = 1\n",
      "  Batch size = 64\n"
     ]
    },
    {
     "data": {
      "text/html": [],
      "text/plain": [
       "<IPython.core.display.HTML object>"
      ]
     },
     "metadata": {},
     "output_type": "display_data"
    },
    {
     "name": "stderr",
     "output_type": "stream",
     "text": [
      "***** Running Prediction *****\n",
      "  Num examples = 1\n",
      "  Batch size = 64\n"
     ]
    },
    {
     "data": {
      "text/html": [],
      "text/plain": [
       "<IPython.core.display.HTML object>"
      ]
     },
     "metadata": {},
     "output_type": "display_data"
    },
    {
     "name": "stderr",
     "output_type": "stream",
     "text": [
      "***** Running Prediction *****\n",
      "  Num examples = 1\n",
      "  Batch size = 64\n"
     ]
    },
    {
     "data": {
      "text/html": [],
      "text/plain": [
       "<IPython.core.display.HTML object>"
      ]
     },
     "metadata": {},
     "output_type": "display_data"
    },
    {
     "name": "stderr",
     "output_type": "stream",
     "text": [
      "***** Running Prediction *****\n",
      "  Num examples = 1\n",
      "  Batch size = 64\n"
     ]
    },
    {
     "data": {
      "text/html": [],
      "text/plain": [
       "<IPython.core.display.HTML object>"
      ]
     },
     "metadata": {},
     "output_type": "display_data"
    },
    {
     "name": "stderr",
     "output_type": "stream",
     "text": [
      "***** Running Prediction *****\n",
      "  Num examples = 1\n",
      "  Batch size = 64\n"
     ]
    },
    {
     "data": {
      "text/html": [],
      "text/plain": [
       "<IPython.core.display.HTML object>"
      ]
     },
     "metadata": {},
     "output_type": "display_data"
    },
    {
     "name": "stderr",
     "output_type": "stream",
     "text": [
      "***** Running Prediction *****\n",
      "  Num examples = 1\n",
      "  Batch size = 64\n"
     ]
    },
    {
     "data": {
      "text/html": [],
      "text/plain": [
       "<IPython.core.display.HTML object>"
      ]
     },
     "metadata": {},
     "output_type": "display_data"
    },
    {
     "name": "stderr",
     "output_type": "stream",
     "text": [
      "***** Running Prediction *****\n",
      "  Num examples = 1\n",
      "  Batch size = 64\n"
     ]
    },
    {
     "data": {
      "text/html": [],
      "text/plain": [
       "<IPython.core.display.HTML object>"
      ]
     },
     "metadata": {},
     "output_type": "display_data"
    },
    {
     "name": "stderr",
     "output_type": "stream",
     "text": [
      "***** Running Prediction *****\n",
      "  Num examples = 1\n",
      "  Batch size = 64\n"
     ]
    },
    {
     "data": {
      "text/html": [],
      "text/plain": [
       "<IPython.core.display.HTML object>"
      ]
     },
     "metadata": {},
     "output_type": "display_data"
    },
    {
     "name": "stderr",
     "output_type": "stream",
     "text": [
      "***** Running Prediction *****\n",
      "  Num examples = 1\n",
      "  Batch size = 64\n"
     ]
    },
    {
     "data": {
      "text/html": [],
      "text/plain": [
       "<IPython.core.display.HTML object>"
      ]
     },
     "metadata": {},
     "output_type": "display_data"
    },
    {
     "name": "stderr",
     "output_type": "stream",
     "text": [
      "***** Running Prediction *****\n",
      "  Num examples = 1\n",
      "  Batch size = 64\n"
     ]
    },
    {
     "data": {
      "text/html": [],
      "text/plain": [
       "<IPython.core.display.HTML object>"
      ]
     },
     "metadata": {},
     "output_type": "display_data"
    },
    {
     "name": "stderr",
     "output_type": "stream",
     "text": [
      "***** Running Prediction *****\n",
      "  Num examples = 1\n",
      "  Batch size = 64\n"
     ]
    },
    {
     "data": {
      "text/html": [],
      "text/plain": [
       "<IPython.core.display.HTML object>"
      ]
     },
     "metadata": {},
     "output_type": "display_data"
    },
    {
     "name": "stderr",
     "output_type": "stream",
     "text": [
      "***** Running Prediction *****\n",
      "  Num examples = 1\n",
      "  Batch size = 64\n"
     ]
    },
    {
     "data": {
      "text/html": [],
      "text/plain": [
       "<IPython.core.display.HTML object>"
      ]
     },
     "metadata": {},
     "output_type": "display_data"
    },
    {
     "name": "stderr",
     "output_type": "stream",
     "text": [
      "***** Running Prediction *****\n",
      "  Num examples = 1\n",
      "  Batch size = 64\n"
     ]
    },
    {
     "data": {
      "text/html": [],
      "text/plain": [
       "<IPython.core.display.HTML object>"
      ]
     },
     "metadata": {},
     "output_type": "display_data"
    },
    {
     "name": "stderr",
     "output_type": "stream",
     "text": [
      "***** Running Prediction *****\n",
      "  Num examples = 1\n",
      "  Batch size = 64\n"
     ]
    },
    {
     "data": {
      "text/html": [],
      "text/plain": [
       "<IPython.core.display.HTML object>"
      ]
     },
     "metadata": {},
     "output_type": "display_data"
    },
    {
     "name": "stderr",
     "output_type": "stream",
     "text": [
      "***** Running Prediction *****\n",
      "  Num examples = 1\n",
      "  Batch size = 64\n"
     ]
    },
    {
     "data": {
      "text/html": [],
      "text/plain": [
       "<IPython.core.display.HTML object>"
      ]
     },
     "metadata": {},
     "output_type": "display_data"
    },
    {
     "name": "stderr",
     "output_type": "stream",
     "text": [
      "***** Running Prediction *****\n",
      "  Num examples = 1\n",
      "  Batch size = 64\n"
     ]
    },
    {
     "data": {
      "text/html": [],
      "text/plain": [
       "<IPython.core.display.HTML object>"
      ]
     },
     "metadata": {},
     "output_type": "display_data"
    },
    {
     "name": "stderr",
     "output_type": "stream",
     "text": [
      "***** Running Prediction *****\n",
      "  Num examples = 1\n",
      "  Batch size = 64\n"
     ]
    },
    {
     "data": {
      "text/html": [],
      "text/plain": [
       "<IPython.core.display.HTML object>"
      ]
     },
     "metadata": {},
     "output_type": "display_data"
    },
    {
     "name": "stderr",
     "output_type": "stream",
     "text": [
      "***** Running Prediction *****\n",
      "  Num examples = 1\n",
      "  Batch size = 64\n"
     ]
    },
    {
     "data": {
      "text/html": [],
      "text/plain": [
       "<IPython.core.display.HTML object>"
      ]
     },
     "metadata": {},
     "output_type": "display_data"
    },
    {
     "name": "stderr",
     "output_type": "stream",
     "text": [
      "***** Running Prediction *****\n",
      "  Num examples = 1\n",
      "  Batch size = 64\n"
     ]
    },
    {
     "data": {
      "text/html": [],
      "text/plain": [
       "<IPython.core.display.HTML object>"
      ]
     },
     "metadata": {},
     "output_type": "display_data"
    },
    {
     "name": "stderr",
     "output_type": "stream",
     "text": [
      "***** Running Prediction *****\n",
      "  Num examples = 1\n",
      "  Batch size = 64\n"
     ]
    },
    {
     "data": {
      "text/html": [],
      "text/plain": [
       "<IPython.core.display.HTML object>"
      ]
     },
     "metadata": {},
     "output_type": "display_data"
    },
    {
     "name": "stderr",
     "output_type": "stream",
     "text": [
      "***** Running Prediction *****\n",
      "  Num examples = 1\n",
      "  Batch size = 64\n"
     ]
    },
    {
     "data": {
      "text/html": [],
      "text/plain": [
       "<IPython.core.display.HTML object>"
      ]
     },
     "metadata": {},
     "output_type": "display_data"
    },
    {
     "name": "stderr",
     "output_type": "stream",
     "text": [
      "***** Running Prediction *****\n",
      "  Num examples = 1\n",
      "  Batch size = 64\n"
     ]
    },
    {
     "data": {
      "text/html": [],
      "text/plain": [
       "<IPython.core.display.HTML object>"
      ]
     },
     "metadata": {},
     "output_type": "display_data"
    },
    {
     "name": "stderr",
     "output_type": "stream",
     "text": [
      "***** Running Prediction *****\n",
      "  Num examples = 1\n",
      "  Batch size = 64\n"
     ]
    },
    {
     "data": {
      "text/html": [],
      "text/plain": [
       "<IPython.core.display.HTML object>"
      ]
     },
     "metadata": {},
     "output_type": "display_data"
    },
    {
     "name": "stderr",
     "output_type": "stream",
     "text": [
      "***** Running Prediction *****\n",
      "  Num examples = 1\n",
      "  Batch size = 64\n"
     ]
    },
    {
     "data": {
      "text/html": [],
      "text/plain": [
       "<IPython.core.display.HTML object>"
      ]
     },
     "metadata": {},
     "output_type": "display_data"
    },
    {
     "name": "stderr",
     "output_type": "stream",
     "text": [
      "***** Running Prediction *****\n",
      "  Num examples = 1\n",
      "  Batch size = 64\n"
     ]
    },
    {
     "data": {
      "text/html": [],
      "text/plain": [
       "<IPython.core.display.HTML object>"
      ]
     },
     "metadata": {},
     "output_type": "display_data"
    },
    {
     "name": "stderr",
     "output_type": "stream",
     "text": [
      "***** Running Prediction *****\n",
      "  Num examples = 1\n",
      "  Batch size = 64\n"
     ]
    },
    {
     "data": {
      "text/html": [],
      "text/plain": [
       "<IPython.core.display.HTML object>"
      ]
     },
     "metadata": {},
     "output_type": "display_data"
    },
    {
     "name": "stderr",
     "output_type": "stream",
     "text": [
      "***** Running Prediction *****\n",
      "  Num examples = 1\n",
      "  Batch size = 64\n"
     ]
    },
    {
     "data": {
      "text/html": [],
      "text/plain": [
       "<IPython.core.display.HTML object>"
      ]
     },
     "metadata": {},
     "output_type": "display_data"
    },
    {
     "name": "stderr",
     "output_type": "stream",
     "text": [
      "***** Running Prediction *****\n",
      "  Num examples = 1\n",
      "  Batch size = 64\n"
     ]
    },
    {
     "data": {
      "text/html": [],
      "text/plain": [
       "<IPython.core.display.HTML object>"
      ]
     },
     "metadata": {},
     "output_type": "display_data"
    },
    {
     "name": "stderr",
     "output_type": "stream",
     "text": [
      "***** Running Prediction *****\n",
      "  Num examples = 1\n",
      "  Batch size = 64\n"
     ]
    },
    {
     "data": {
      "text/html": [],
      "text/plain": [
       "<IPython.core.display.HTML object>"
      ]
     },
     "metadata": {},
     "output_type": "display_data"
    },
    {
     "name": "stderr",
     "output_type": "stream",
     "text": [
      "***** Running Prediction *****\n",
      "  Num examples = 1\n",
      "  Batch size = 64\n"
     ]
    },
    {
     "data": {
      "text/html": [],
      "text/plain": [
       "<IPython.core.display.HTML object>"
      ]
     },
     "metadata": {},
     "output_type": "display_data"
    },
    {
     "name": "stderr",
     "output_type": "stream",
     "text": [
      "***** Running Prediction *****\n",
      "  Num examples = 1\n",
      "  Batch size = 64\n"
     ]
    },
    {
     "data": {
      "text/html": [],
      "text/plain": [
       "<IPython.core.display.HTML object>"
      ]
     },
     "metadata": {},
     "output_type": "display_data"
    },
    {
     "name": "stderr",
     "output_type": "stream",
     "text": [
      "***** Running Prediction *****\n",
      "  Num examples = 1\n",
      "  Batch size = 64\n"
     ]
    },
    {
     "data": {
      "text/html": [],
      "text/plain": [
       "<IPython.core.display.HTML object>"
      ]
     },
     "metadata": {},
     "output_type": "display_data"
    },
    {
     "name": "stderr",
     "output_type": "stream",
     "text": [
      "***** Running Prediction *****\n",
      "  Num examples = 1\n",
      "  Batch size = 64\n"
     ]
    },
    {
     "data": {
      "text/html": [],
      "text/plain": [
       "<IPython.core.display.HTML object>"
      ]
     },
     "metadata": {},
     "output_type": "display_data"
    },
    {
     "name": "stderr",
     "output_type": "stream",
     "text": [
      "***** Running Prediction *****\n",
      "  Num examples = 1\n",
      "  Batch size = 64\n"
     ]
    },
    {
     "data": {
      "text/html": [],
      "text/plain": [
       "<IPython.core.display.HTML object>"
      ]
     },
     "metadata": {},
     "output_type": "display_data"
    },
    {
     "name": "stderr",
     "output_type": "stream",
     "text": [
      "***** Running Prediction *****\n",
      "  Num examples = 1\n",
      "  Batch size = 64\n"
     ]
    },
    {
     "data": {
      "text/html": [],
      "text/plain": [
       "<IPython.core.display.HTML object>"
      ]
     },
     "metadata": {},
     "output_type": "display_data"
    },
    {
     "name": "stderr",
     "output_type": "stream",
     "text": [
      "***** Running Prediction *****\n",
      "  Num examples = 1\n",
      "  Batch size = 64\n"
     ]
    },
    {
     "data": {
      "text/html": [],
      "text/plain": [
       "<IPython.core.display.HTML object>"
      ]
     },
     "metadata": {},
     "output_type": "display_data"
    },
    {
     "name": "stderr",
     "output_type": "stream",
     "text": [
      "***** Running Prediction *****\n",
      "  Num examples = 1\n",
      "  Batch size = 64\n"
     ]
    },
    {
     "data": {
      "text/html": [],
      "text/plain": [
       "<IPython.core.display.HTML object>"
      ]
     },
     "metadata": {},
     "output_type": "display_data"
    },
    {
     "name": "stderr",
     "output_type": "stream",
     "text": [
      "***** Running Prediction *****\n",
      "  Num examples = 1\n",
      "  Batch size = 64\n"
     ]
    },
    {
     "data": {
      "text/html": [],
      "text/plain": [
       "<IPython.core.display.HTML object>"
      ]
     },
     "metadata": {},
     "output_type": "display_data"
    },
    {
     "name": "stderr",
     "output_type": "stream",
     "text": [
      "***** Running Prediction *****\n",
      "  Num examples = 1\n",
      "  Batch size = 64\n"
     ]
    },
    {
     "data": {
      "text/html": [],
      "text/plain": [
       "<IPython.core.display.HTML object>"
      ]
     },
     "metadata": {},
     "output_type": "display_data"
    },
    {
     "name": "stderr",
     "output_type": "stream",
     "text": [
      "***** Running Prediction *****\n",
      "  Num examples = 1\n",
      "  Batch size = 64\n"
     ]
    },
    {
     "data": {
      "text/html": [],
      "text/plain": [
       "<IPython.core.display.HTML object>"
      ]
     },
     "metadata": {},
     "output_type": "display_data"
    },
    {
     "name": "stderr",
     "output_type": "stream",
     "text": [
      "***** Running Prediction *****\n",
      "  Num examples = 1\n",
      "  Batch size = 64\n"
     ]
    },
    {
     "data": {
      "text/html": [],
      "text/plain": [
       "<IPython.core.display.HTML object>"
      ]
     },
     "metadata": {},
     "output_type": "display_data"
    },
    {
     "name": "stderr",
     "output_type": "stream",
     "text": [
      "***** Running Prediction *****\n",
      "  Num examples = 1\n",
      "  Batch size = 64\n"
     ]
    },
    {
     "data": {
      "text/html": [],
      "text/plain": [
       "<IPython.core.display.HTML object>"
      ]
     },
     "metadata": {},
     "output_type": "display_data"
    },
    {
     "name": "stderr",
     "output_type": "stream",
     "text": [
      "***** Running Prediction *****\n",
      "  Num examples = 1\n",
      "  Batch size = 64\n"
     ]
    },
    {
     "data": {
      "text/html": [],
      "text/plain": [
       "<IPython.core.display.HTML object>"
      ]
     },
     "metadata": {},
     "output_type": "display_data"
    },
    {
     "name": "stderr",
     "output_type": "stream",
     "text": [
      "***** Running Prediction *****\n",
      "  Num examples = 1\n",
      "  Batch size = 64\n"
     ]
    },
    {
     "data": {
      "text/html": [],
      "text/plain": [
       "<IPython.core.display.HTML object>"
      ]
     },
     "metadata": {},
     "output_type": "display_data"
    },
    {
     "name": "stderr",
     "output_type": "stream",
     "text": [
      "***** Running Prediction *****\n",
      "  Num examples = 1\n",
      "  Batch size = 64\n"
     ]
    },
    {
     "data": {
      "text/html": [],
      "text/plain": [
       "<IPython.core.display.HTML object>"
      ]
     },
     "metadata": {},
     "output_type": "display_data"
    },
    {
     "name": "stderr",
     "output_type": "stream",
     "text": [
      "***** Running Prediction *****\n",
      "  Num examples = 1\n",
      "  Batch size = 64\n"
     ]
    },
    {
     "data": {
      "text/html": [],
      "text/plain": [
       "<IPython.core.display.HTML object>"
      ]
     },
     "metadata": {},
     "output_type": "display_data"
    },
    {
     "name": "stderr",
     "output_type": "stream",
     "text": [
      "***** Running Prediction *****\n",
      "  Num examples = 1\n",
      "  Batch size = 64\n"
     ]
    },
    {
     "data": {
      "text/html": [],
      "text/plain": [
       "<IPython.core.display.HTML object>"
      ]
     },
     "metadata": {},
     "output_type": "display_data"
    },
    {
     "name": "stderr",
     "output_type": "stream",
     "text": [
      "***** Running Prediction *****\n",
      "  Num examples = 1\n",
      "  Batch size = 64\n"
     ]
    },
    {
     "data": {
      "text/html": [],
      "text/plain": [
       "<IPython.core.display.HTML object>"
      ]
     },
     "metadata": {},
     "output_type": "display_data"
    },
    {
     "name": "stderr",
     "output_type": "stream",
     "text": [
      "***** Running Prediction *****\n",
      "  Num examples = 1\n",
      "  Batch size = 64\n"
     ]
    },
    {
     "data": {
      "text/html": [],
      "text/plain": [
       "<IPython.core.display.HTML object>"
      ]
     },
     "metadata": {},
     "output_type": "display_data"
    },
    {
     "name": "stderr",
     "output_type": "stream",
     "text": [
      "***** Running Prediction *****\n",
      "  Num examples = 1\n",
      "  Batch size = 64\n"
     ]
    },
    {
     "data": {
      "text/html": [],
      "text/plain": [
       "<IPython.core.display.HTML object>"
      ]
     },
     "metadata": {},
     "output_type": "display_data"
    },
    {
     "name": "stderr",
     "output_type": "stream",
     "text": [
      "***** Running Prediction *****\n",
      "  Num examples = 1\n",
      "  Batch size = 64\n"
     ]
    },
    {
     "data": {
      "text/html": [],
      "text/plain": [
       "<IPython.core.display.HTML object>"
      ]
     },
     "metadata": {},
     "output_type": "display_data"
    },
    {
     "name": "stderr",
     "output_type": "stream",
     "text": [
      "***** Running Prediction *****\n",
      "  Num examples = 1\n",
      "  Batch size = 64\n"
     ]
    },
    {
     "data": {
      "text/html": [],
      "text/plain": [
       "<IPython.core.display.HTML object>"
      ]
     },
     "metadata": {},
     "output_type": "display_data"
    },
    {
     "name": "stderr",
     "output_type": "stream",
     "text": [
      "***** Running Prediction *****\n",
      "  Num examples = 1\n",
      "  Batch size = 64\n"
     ]
    },
    {
     "data": {
      "text/html": [],
      "text/plain": [
       "<IPython.core.display.HTML object>"
      ]
     },
     "metadata": {},
     "output_type": "display_data"
    },
    {
     "name": "stderr",
     "output_type": "stream",
     "text": [
      "***** Running Prediction *****\n",
      "  Num examples = 1\n",
      "  Batch size = 64\n"
     ]
    },
    {
     "data": {
      "text/html": [],
      "text/plain": [
       "<IPython.core.display.HTML object>"
      ]
     },
     "metadata": {},
     "output_type": "display_data"
    },
    {
     "name": "stderr",
     "output_type": "stream",
     "text": [
      "***** Running Prediction *****\n",
      "  Num examples = 1\n",
      "  Batch size = 64\n"
     ]
    },
    {
     "data": {
      "text/html": [],
      "text/plain": [
       "<IPython.core.display.HTML object>"
      ]
     },
     "metadata": {},
     "output_type": "display_data"
    },
    {
     "name": "stderr",
     "output_type": "stream",
     "text": [
      "***** Running Prediction *****\n",
      "  Num examples = 1\n",
      "  Batch size = 64\n"
     ]
    },
    {
     "data": {
      "text/html": [],
      "text/plain": [
       "<IPython.core.display.HTML object>"
      ]
     },
     "metadata": {},
     "output_type": "display_data"
    },
    {
     "name": "stderr",
     "output_type": "stream",
     "text": [
      "***** Running Prediction *****\n",
      "  Num examples = 1\n",
      "  Batch size = 64\n"
     ]
    },
    {
     "data": {
      "text/html": [],
      "text/plain": [
       "<IPython.core.display.HTML object>"
      ]
     },
     "metadata": {},
     "output_type": "display_data"
    },
    {
     "name": "stderr",
     "output_type": "stream",
     "text": [
      "***** Running Prediction *****\n",
      "  Num examples = 1\n",
      "  Batch size = 64\n"
     ]
    },
    {
     "data": {
      "text/html": [],
      "text/plain": [
       "<IPython.core.display.HTML object>"
      ]
     },
     "metadata": {},
     "output_type": "display_data"
    },
    {
     "name": "stderr",
     "output_type": "stream",
     "text": [
      "***** Running Prediction *****\n",
      "  Num examples = 1\n",
      "  Batch size = 64\n"
     ]
    },
    {
     "data": {
      "text/html": [],
      "text/plain": [
       "<IPython.core.display.HTML object>"
      ]
     },
     "metadata": {},
     "output_type": "display_data"
    },
    {
     "name": "stderr",
     "output_type": "stream",
     "text": [
      "***** Running Prediction *****\n",
      "  Num examples = 1\n",
      "  Batch size = 64\n"
     ]
    },
    {
     "data": {
      "text/html": [],
      "text/plain": [
       "<IPython.core.display.HTML object>"
      ]
     },
     "metadata": {},
     "output_type": "display_data"
    },
    {
     "name": "stderr",
     "output_type": "stream",
     "text": [
      "***** Running Prediction *****\n",
      "  Num examples = 1\n",
      "  Batch size = 64\n"
     ]
    },
    {
     "data": {
      "text/html": [],
      "text/plain": [
       "<IPython.core.display.HTML object>"
      ]
     },
     "metadata": {},
     "output_type": "display_data"
    },
    {
     "name": "stderr",
     "output_type": "stream",
     "text": [
      "***** Running Prediction *****\n",
      "  Num examples = 1\n",
      "  Batch size = 64\n"
     ]
    },
    {
     "data": {
      "text/html": [],
      "text/plain": [
       "<IPython.core.display.HTML object>"
      ]
     },
     "metadata": {},
     "output_type": "display_data"
    },
    {
     "name": "stderr",
     "output_type": "stream",
     "text": [
      "***** Running Prediction *****\n",
      "  Num examples = 1\n",
      "  Batch size = 64\n"
     ]
    },
    {
     "data": {
      "text/html": [],
      "text/plain": [
       "<IPython.core.display.HTML object>"
      ]
     },
     "metadata": {},
     "output_type": "display_data"
    },
    {
     "name": "stderr",
     "output_type": "stream",
     "text": [
      "***** Running Prediction *****\n",
      "  Num examples = 1\n",
      "  Batch size = 64\n"
     ]
    },
    {
     "data": {
      "text/html": [],
      "text/plain": [
       "<IPython.core.display.HTML object>"
      ]
     },
     "metadata": {},
     "output_type": "display_data"
    },
    {
     "name": "stderr",
     "output_type": "stream",
     "text": [
      "***** Running Prediction *****\n",
      "  Num examples = 1\n",
      "  Batch size = 64\n"
     ]
    },
    {
     "data": {
      "text/html": [],
      "text/plain": [
       "<IPython.core.display.HTML object>"
      ]
     },
     "metadata": {},
     "output_type": "display_data"
    },
    {
     "name": "stderr",
     "output_type": "stream",
     "text": [
      "***** Running Prediction *****\n",
      "  Num examples = 1\n",
      "  Batch size = 64\n"
     ]
    },
    {
     "data": {
      "text/html": [],
      "text/plain": [
       "<IPython.core.display.HTML object>"
      ]
     },
     "metadata": {},
     "output_type": "display_data"
    },
    {
     "name": "stderr",
     "output_type": "stream",
     "text": [
      "***** Running Prediction *****\n",
      "  Num examples = 1\n",
      "  Batch size = 64\n"
     ]
    },
    {
     "data": {
      "text/html": [],
      "text/plain": [
       "<IPython.core.display.HTML object>"
      ]
     },
     "metadata": {},
     "output_type": "display_data"
    },
    {
     "name": "stderr",
     "output_type": "stream",
     "text": [
      "***** Running Prediction *****\n",
      "  Num examples = 1\n",
      "  Batch size = 64\n"
     ]
    },
    {
     "data": {
      "text/html": [],
      "text/plain": [
       "<IPython.core.display.HTML object>"
      ]
     },
     "metadata": {},
     "output_type": "display_data"
    },
    {
     "name": "stderr",
     "output_type": "stream",
     "text": [
      "***** Running Prediction *****\n",
      "  Num examples = 1\n",
      "  Batch size = 64\n"
     ]
    },
    {
     "data": {
      "text/html": [],
      "text/plain": [
       "<IPython.core.display.HTML object>"
      ]
     },
     "metadata": {},
     "output_type": "display_data"
    },
    {
     "name": "stderr",
     "output_type": "stream",
     "text": [
      "***** Running Prediction *****\n",
      "  Num examples = 1\n",
      "  Batch size = 64\n"
     ]
    },
    {
     "data": {
      "text/html": [],
      "text/plain": [
       "<IPython.core.display.HTML object>"
      ]
     },
     "metadata": {},
     "output_type": "display_data"
    },
    {
     "name": "stderr",
     "output_type": "stream",
     "text": [
      "***** Running Prediction *****\n",
      "  Num examples = 1\n",
      "  Batch size = 64\n"
     ]
    },
    {
     "data": {
      "text/html": [],
      "text/plain": [
       "<IPython.core.display.HTML object>"
      ]
     },
     "metadata": {},
     "output_type": "display_data"
    },
    {
     "name": "stderr",
     "output_type": "stream",
     "text": [
      "***** Running Prediction *****\n",
      "  Num examples = 1\n",
      "  Batch size = 64\n"
     ]
    },
    {
     "data": {
      "text/html": [],
      "text/plain": [
       "<IPython.core.display.HTML object>"
      ]
     },
     "metadata": {},
     "output_type": "display_data"
    },
    {
     "name": "stderr",
     "output_type": "stream",
     "text": [
      "***** Running Prediction *****\n",
      "  Num examples = 1\n",
      "  Batch size = 64\n"
     ]
    },
    {
     "data": {
      "text/html": [],
      "text/plain": [
       "<IPython.core.display.HTML object>"
      ]
     },
     "metadata": {},
     "output_type": "display_data"
    },
    {
     "name": "stderr",
     "output_type": "stream",
     "text": [
      "***** Running Prediction *****\n",
      "  Num examples = 1\n",
      "  Batch size = 64\n"
     ]
    },
    {
     "data": {
      "text/html": [],
      "text/plain": [
       "<IPython.core.display.HTML object>"
      ]
     },
     "metadata": {},
     "output_type": "display_data"
    },
    {
     "name": "stderr",
     "output_type": "stream",
     "text": [
      "***** Running Prediction *****\n",
      "  Num examples = 1\n",
      "  Batch size = 64\n"
     ]
    },
    {
     "data": {
      "text/html": [],
      "text/plain": [
       "<IPython.core.display.HTML object>"
      ]
     },
     "metadata": {},
     "output_type": "display_data"
    },
    {
     "name": "stderr",
     "output_type": "stream",
     "text": [
      "***** Running Prediction *****\n",
      "  Num examples = 1\n",
      "  Batch size = 64\n"
     ]
    },
    {
     "data": {
      "text/html": [],
      "text/plain": [
       "<IPython.core.display.HTML object>"
      ]
     },
     "metadata": {},
     "output_type": "display_data"
    },
    {
     "name": "stderr",
     "output_type": "stream",
     "text": [
      "***** Running Prediction *****\n",
      "  Num examples = 1\n",
      "  Batch size = 64\n"
     ]
    },
    {
     "data": {
      "text/html": [],
      "text/plain": [
       "<IPython.core.display.HTML object>"
      ]
     },
     "metadata": {},
     "output_type": "display_data"
    },
    {
     "name": "stderr",
     "output_type": "stream",
     "text": [
      "***** Running Prediction *****\n",
      "  Num examples = 1\n",
      "  Batch size = 64\n"
     ]
    },
    {
     "data": {
      "text/html": [],
      "text/plain": [
       "<IPython.core.display.HTML object>"
      ]
     },
     "metadata": {},
     "output_type": "display_data"
    },
    {
     "name": "stderr",
     "output_type": "stream",
     "text": [
      "***** Running Prediction *****\n",
      "  Num examples = 1\n",
      "  Batch size = 64\n"
     ]
    },
    {
     "data": {
      "text/html": [],
      "text/plain": [
       "<IPython.core.display.HTML object>"
      ]
     },
     "metadata": {},
     "output_type": "display_data"
    },
    {
     "name": "stderr",
     "output_type": "stream",
     "text": [
      "***** Running Prediction *****\n",
      "  Num examples = 1\n",
      "  Batch size = 64\n"
     ]
    },
    {
     "data": {
      "text/html": [],
      "text/plain": [
       "<IPython.core.display.HTML object>"
      ]
     },
     "metadata": {},
     "output_type": "display_data"
    },
    {
     "name": "stderr",
     "output_type": "stream",
     "text": [
      "***** Running Prediction *****\n",
      "  Num examples = 1\n",
      "  Batch size = 64\n"
     ]
    },
    {
     "data": {
      "text/html": [],
      "text/plain": [
       "<IPython.core.display.HTML object>"
      ]
     },
     "metadata": {},
     "output_type": "display_data"
    },
    {
     "name": "stderr",
     "output_type": "stream",
     "text": [
      "***** Running Prediction *****\n",
      "  Num examples = 1\n",
      "  Batch size = 64\n"
     ]
    },
    {
     "data": {
      "text/html": [],
      "text/plain": [
       "<IPython.core.display.HTML object>"
      ]
     },
     "metadata": {},
     "output_type": "display_data"
    },
    {
     "name": "stderr",
     "output_type": "stream",
     "text": [
      "***** Running Prediction *****\n",
      "  Num examples = 1\n",
      "  Batch size = 64\n"
     ]
    },
    {
     "data": {
      "text/html": [],
      "text/plain": [
       "<IPython.core.display.HTML object>"
      ]
     },
     "metadata": {},
     "output_type": "display_data"
    },
    {
     "name": "stderr",
     "output_type": "stream",
     "text": [
      "***** Running Prediction *****\n",
      "  Num examples = 1\n",
      "  Batch size = 64\n"
     ]
    },
    {
     "data": {
      "text/html": [],
      "text/plain": [
       "<IPython.core.display.HTML object>"
      ]
     },
     "metadata": {},
     "output_type": "display_data"
    },
    {
     "name": "stderr",
     "output_type": "stream",
     "text": [
      "***** Running Prediction *****\n",
      "  Num examples = 1\n",
      "  Batch size = 64\n"
     ]
    },
    {
     "data": {
      "text/html": [],
      "text/plain": [
       "<IPython.core.display.HTML object>"
      ]
     },
     "metadata": {},
     "output_type": "display_data"
    },
    {
     "name": "stderr",
     "output_type": "stream",
     "text": [
      "***** Running Prediction *****\n",
      "  Num examples = 1\n",
      "  Batch size = 64\n"
     ]
    },
    {
     "data": {
      "text/html": [],
      "text/plain": [
       "<IPython.core.display.HTML object>"
      ]
     },
     "metadata": {},
     "output_type": "display_data"
    },
    {
     "name": "stderr",
     "output_type": "stream",
     "text": [
      "***** Running Prediction *****\n",
      "  Num examples = 1\n",
      "  Batch size = 64\n"
     ]
    },
    {
     "data": {
      "text/html": [],
      "text/plain": [
       "<IPython.core.display.HTML object>"
      ]
     },
     "metadata": {},
     "output_type": "display_data"
    },
    {
     "name": "stderr",
     "output_type": "stream",
     "text": [
      "***** Running Prediction *****\n",
      "  Num examples = 1\n",
      "  Batch size = 64\n"
     ]
    },
    {
     "data": {
      "text/html": [],
      "text/plain": [
       "<IPython.core.display.HTML object>"
      ]
     },
     "metadata": {},
     "output_type": "display_data"
    },
    {
     "name": "stderr",
     "output_type": "stream",
     "text": [
      "***** Running Prediction *****\n",
      "  Num examples = 1\n",
      "  Batch size = 64\n"
     ]
    },
    {
     "data": {
      "text/html": [],
      "text/plain": [
       "<IPython.core.display.HTML object>"
      ]
     },
     "metadata": {},
     "output_type": "display_data"
    },
    {
     "name": "stderr",
     "output_type": "stream",
     "text": [
      "***** Running Prediction *****\n",
      "  Num examples = 1\n",
      "  Batch size = 64\n"
     ]
    },
    {
     "data": {
      "text/html": [],
      "text/plain": [
       "<IPython.core.display.HTML object>"
      ]
     },
     "metadata": {},
     "output_type": "display_data"
    },
    {
     "name": "stderr",
     "output_type": "stream",
     "text": [
      "***** Running Prediction *****\n",
      "  Num examples = 1\n",
      "  Batch size = 64\n"
     ]
    },
    {
     "data": {
      "text/html": [],
      "text/plain": [
       "<IPython.core.display.HTML object>"
      ]
     },
     "metadata": {},
     "output_type": "display_data"
    },
    {
     "name": "stderr",
     "output_type": "stream",
     "text": [
      "***** Running Prediction *****\n",
      "  Num examples = 1\n",
      "  Batch size = 64\n"
     ]
    },
    {
     "data": {
      "text/html": [],
      "text/plain": [
       "<IPython.core.display.HTML object>"
      ]
     },
     "metadata": {},
     "output_type": "display_data"
    },
    {
     "name": "stderr",
     "output_type": "stream",
     "text": [
      "***** Running Prediction *****\n",
      "  Num examples = 1\n",
      "  Batch size = 64\n"
     ]
    },
    {
     "data": {
      "text/html": [],
      "text/plain": [
       "<IPython.core.display.HTML object>"
      ]
     },
     "metadata": {},
     "output_type": "display_data"
    },
    {
     "name": "stderr",
     "output_type": "stream",
     "text": [
      "***** Running Prediction *****\n",
      "  Num examples = 1\n",
      "  Batch size = 64\n"
     ]
    },
    {
     "data": {
      "text/html": [],
      "text/plain": [
       "<IPython.core.display.HTML object>"
      ]
     },
     "metadata": {},
     "output_type": "display_data"
    },
    {
     "name": "stderr",
     "output_type": "stream",
     "text": [
      "***** Running Prediction *****\n",
      "  Num examples = 1\n",
      "  Batch size = 64\n"
     ]
    },
    {
     "data": {
      "text/html": [],
      "text/plain": [
       "<IPython.core.display.HTML object>"
      ]
     },
     "metadata": {},
     "output_type": "display_data"
    },
    {
     "name": "stderr",
     "output_type": "stream",
     "text": [
      "***** Running Prediction *****\n",
      "  Num examples = 1\n",
      "  Batch size = 64\n"
     ]
    },
    {
     "data": {
      "text/html": [],
      "text/plain": [
       "<IPython.core.display.HTML object>"
      ]
     },
     "metadata": {},
     "output_type": "display_data"
    },
    {
     "name": "stderr",
     "output_type": "stream",
     "text": [
      "***** Running Prediction *****\n",
      "  Num examples = 1\n",
      "  Batch size = 64\n"
     ]
    },
    {
     "data": {
      "text/html": [],
      "text/plain": [
       "<IPython.core.display.HTML object>"
      ]
     },
     "metadata": {},
     "output_type": "display_data"
    },
    {
     "name": "stderr",
     "output_type": "stream",
     "text": [
      "***** Running Prediction *****\n",
      "  Num examples = 1\n",
      "  Batch size = 64\n"
     ]
    },
    {
     "data": {
      "text/html": [],
      "text/plain": [
       "<IPython.core.display.HTML object>"
      ]
     },
     "metadata": {},
     "output_type": "display_data"
    },
    {
     "name": "stderr",
     "output_type": "stream",
     "text": [
      "***** Running Prediction *****\n",
      "  Num examples = 1\n",
      "  Batch size = 64\n"
     ]
    },
    {
     "data": {
      "text/html": [],
      "text/plain": [
       "<IPython.core.display.HTML object>"
      ]
     },
     "metadata": {},
     "output_type": "display_data"
    },
    {
     "name": "stderr",
     "output_type": "stream",
     "text": [
      "***** Running Prediction *****\n",
      "  Num examples = 1\n",
      "  Batch size = 64\n"
     ]
    },
    {
     "data": {
      "text/html": [],
      "text/plain": [
       "<IPython.core.display.HTML object>"
      ]
     },
     "metadata": {},
     "output_type": "display_data"
    },
    {
     "name": "stderr",
     "output_type": "stream",
     "text": [
      "***** Running Prediction *****\n",
      "  Num examples = 1\n",
      "  Batch size = 64\n"
     ]
    },
    {
     "data": {
      "text/html": [],
      "text/plain": [
       "<IPython.core.display.HTML object>"
      ]
     },
     "metadata": {},
     "output_type": "display_data"
    },
    {
     "name": "stderr",
     "output_type": "stream",
     "text": [
      "***** Running Prediction *****\n",
      "  Num examples = 1\n",
      "  Batch size = 64\n"
     ]
    },
    {
     "data": {
      "text/html": [],
      "text/plain": [
       "<IPython.core.display.HTML object>"
      ]
     },
     "metadata": {},
     "output_type": "display_data"
    },
    {
     "name": "stderr",
     "output_type": "stream",
     "text": [
      "***** Running Prediction *****\n",
      "  Num examples = 1\n",
      "  Batch size = 64\n"
     ]
    },
    {
     "data": {
      "text/html": [],
      "text/plain": [
       "<IPython.core.display.HTML object>"
      ]
     },
     "metadata": {},
     "output_type": "display_data"
    },
    {
     "name": "stderr",
     "output_type": "stream",
     "text": [
      "***** Running Prediction *****\n",
      "  Num examples = 1\n",
      "  Batch size = 64\n"
     ]
    },
    {
     "data": {
      "text/html": [],
      "text/plain": [
       "<IPython.core.display.HTML object>"
      ]
     },
     "metadata": {},
     "output_type": "display_data"
    },
    {
     "name": "stderr",
     "output_type": "stream",
     "text": [
      "***** Running Prediction *****\n",
      "  Num examples = 1\n",
      "  Batch size = 64\n"
     ]
    },
    {
     "data": {
      "text/html": [],
      "text/plain": [
       "<IPython.core.display.HTML object>"
      ]
     },
     "metadata": {},
     "output_type": "display_data"
    },
    {
     "name": "stderr",
     "output_type": "stream",
     "text": [
      "***** Running Prediction *****\n",
      "  Num examples = 1\n",
      "  Batch size = 64\n"
     ]
    },
    {
     "data": {
      "text/html": [],
      "text/plain": [
       "<IPython.core.display.HTML object>"
      ]
     },
     "metadata": {},
     "output_type": "display_data"
    },
    {
     "name": "stderr",
     "output_type": "stream",
     "text": [
      "***** Running Prediction *****\n",
      "  Num examples = 1\n",
      "  Batch size = 64\n"
     ]
    },
    {
     "data": {
      "text/html": [],
      "text/plain": [
       "<IPython.core.display.HTML object>"
      ]
     },
     "metadata": {},
     "output_type": "display_data"
    },
    {
     "name": "stderr",
     "output_type": "stream",
     "text": [
      "***** Running Prediction *****\n",
      "  Num examples = 1\n",
      "  Batch size = 64\n"
     ]
    },
    {
     "data": {
      "text/html": [],
      "text/plain": [
       "<IPython.core.display.HTML object>"
      ]
     },
     "metadata": {},
     "output_type": "display_data"
    },
    {
     "name": "stderr",
     "output_type": "stream",
     "text": [
      "***** Running Prediction *****\n",
      "  Num examples = 1\n",
      "  Batch size = 64\n"
     ]
    },
    {
     "data": {
      "text/html": [],
      "text/plain": [
       "<IPython.core.display.HTML object>"
      ]
     },
     "metadata": {},
     "output_type": "display_data"
    },
    {
     "name": "stderr",
     "output_type": "stream",
     "text": [
      "***** Running Prediction *****\n",
      "  Num examples = 1\n",
      "  Batch size = 64\n"
     ]
    },
    {
     "data": {
      "text/html": [],
      "text/plain": [
       "<IPython.core.display.HTML object>"
      ]
     },
     "metadata": {},
     "output_type": "display_data"
    },
    {
     "name": "stderr",
     "output_type": "stream",
     "text": [
      "***** Running Prediction *****\n",
      "  Num examples = 1\n",
      "  Batch size = 64\n"
     ]
    },
    {
     "data": {
      "text/html": [],
      "text/plain": [
       "<IPython.core.display.HTML object>"
      ]
     },
     "metadata": {},
     "output_type": "display_data"
    },
    {
     "name": "stderr",
     "output_type": "stream",
     "text": [
      "***** Running Prediction *****\n",
      "  Num examples = 1\n",
      "  Batch size = 64\n"
     ]
    },
    {
     "data": {
      "text/html": [],
      "text/plain": [
       "<IPython.core.display.HTML object>"
      ]
     },
     "metadata": {},
     "output_type": "display_data"
    },
    {
     "name": "stderr",
     "output_type": "stream",
     "text": [
      "***** Running Prediction *****\n",
      "  Num examples = 1\n",
      "  Batch size = 64\n"
     ]
    },
    {
     "data": {
      "text/html": [],
      "text/plain": [
       "<IPython.core.display.HTML object>"
      ]
     },
     "metadata": {},
     "output_type": "display_data"
    },
    {
     "name": "stderr",
     "output_type": "stream",
     "text": [
      "***** Running Prediction *****\n",
      "  Num examples = 1\n",
      "  Batch size = 64\n"
     ]
    },
    {
     "data": {
      "text/html": [],
      "text/plain": [
       "<IPython.core.display.HTML object>"
      ]
     },
     "metadata": {},
     "output_type": "display_data"
    },
    {
     "name": "stderr",
     "output_type": "stream",
     "text": [
      "***** Running Prediction *****\n",
      "  Num examples = 1\n",
      "  Batch size = 64\n"
     ]
    },
    {
     "data": {
      "text/html": [],
      "text/plain": [
       "<IPython.core.display.HTML object>"
      ]
     },
     "metadata": {},
     "output_type": "display_data"
    },
    {
     "name": "stderr",
     "output_type": "stream",
     "text": [
      "***** Running Prediction *****\n",
      "  Num examples = 1\n",
      "  Batch size = 64\n"
     ]
    },
    {
     "data": {
      "text/html": [],
      "text/plain": [
       "<IPython.core.display.HTML object>"
      ]
     },
     "metadata": {},
     "output_type": "display_data"
    },
    {
     "name": "stderr",
     "output_type": "stream",
     "text": [
      "***** Running Prediction *****\n",
      "  Num examples = 1\n",
      "  Batch size = 64\n"
     ]
    },
    {
     "data": {
      "text/html": [],
      "text/plain": [
       "<IPython.core.display.HTML object>"
      ]
     },
     "metadata": {},
     "output_type": "display_data"
    },
    {
     "name": "stderr",
     "output_type": "stream",
     "text": [
      "***** Running Prediction *****\n",
      "  Num examples = 1\n",
      "  Batch size = 64\n"
     ]
    },
    {
     "data": {
      "text/html": [],
      "text/plain": [
       "<IPython.core.display.HTML object>"
      ]
     },
     "metadata": {},
     "output_type": "display_data"
    },
    {
     "name": "stderr",
     "output_type": "stream",
     "text": [
      "***** Running Prediction *****\n",
      "  Num examples = 1\n",
      "  Batch size = 64\n"
     ]
    },
    {
     "data": {
      "text/html": [],
      "text/plain": [
       "<IPython.core.display.HTML object>"
      ]
     },
     "metadata": {},
     "output_type": "display_data"
    },
    {
     "name": "stderr",
     "output_type": "stream",
     "text": [
      "***** Running Prediction *****\n",
      "  Num examples = 1\n",
      "  Batch size = 64\n"
     ]
    },
    {
     "data": {
      "text/html": [],
      "text/plain": [
       "<IPython.core.display.HTML object>"
      ]
     },
     "metadata": {},
     "output_type": "display_data"
    },
    {
     "name": "stderr",
     "output_type": "stream",
     "text": [
      "***** Running Prediction *****\n",
      "  Num examples = 1\n",
      "  Batch size = 64\n"
     ]
    },
    {
     "data": {
      "text/html": [],
      "text/plain": [
       "<IPython.core.display.HTML object>"
      ]
     },
     "metadata": {},
     "output_type": "display_data"
    },
    {
     "name": "stderr",
     "output_type": "stream",
     "text": [
      "***** Running Prediction *****\n",
      "  Num examples = 1\n",
      "  Batch size = 64\n"
     ]
    },
    {
     "data": {
      "text/html": [],
      "text/plain": [
       "<IPython.core.display.HTML object>"
      ]
     },
     "metadata": {},
     "output_type": "display_data"
    },
    {
     "name": "stderr",
     "output_type": "stream",
     "text": [
      "***** Running Prediction *****\n",
      "  Num examples = 1\n",
      "  Batch size = 64\n"
     ]
    },
    {
     "data": {
      "text/html": [],
      "text/plain": [
       "<IPython.core.display.HTML object>"
      ]
     },
     "metadata": {},
     "output_type": "display_data"
    },
    {
     "name": "stderr",
     "output_type": "stream",
     "text": [
      "***** Running Prediction *****\n",
      "  Num examples = 1\n",
      "  Batch size = 64\n"
     ]
    },
    {
     "data": {
      "text/html": [],
      "text/plain": [
       "<IPython.core.display.HTML object>"
      ]
     },
     "metadata": {},
     "output_type": "display_data"
    },
    {
     "name": "stderr",
     "output_type": "stream",
     "text": [
      "***** Running Prediction *****\n",
      "  Num examples = 1\n",
      "  Batch size = 64\n"
     ]
    },
    {
     "data": {
      "text/html": [],
      "text/plain": [
       "<IPython.core.display.HTML object>"
      ]
     },
     "metadata": {},
     "output_type": "display_data"
    },
    {
     "name": "stderr",
     "output_type": "stream",
     "text": [
      "***** Running Prediction *****\n",
      "  Num examples = 1\n",
      "  Batch size = 64\n"
     ]
    },
    {
     "data": {
      "text/html": [],
      "text/plain": [
       "<IPython.core.display.HTML object>"
      ]
     },
     "metadata": {},
     "output_type": "display_data"
    },
    {
     "name": "stderr",
     "output_type": "stream",
     "text": [
      "***** Running Prediction *****\n",
      "  Num examples = 1\n",
      "  Batch size = 64\n"
     ]
    },
    {
     "data": {
      "text/html": [],
      "text/plain": [
       "<IPython.core.display.HTML object>"
      ]
     },
     "metadata": {},
     "output_type": "display_data"
    },
    {
     "name": "stderr",
     "output_type": "stream",
     "text": [
      "***** Running Prediction *****\n",
      "  Num examples = 1\n",
      "  Batch size = 64\n"
     ]
    },
    {
     "data": {
      "text/html": [],
      "text/plain": [
       "<IPython.core.display.HTML object>"
      ]
     },
     "metadata": {},
     "output_type": "display_data"
    },
    {
     "name": "stderr",
     "output_type": "stream",
     "text": [
      "***** Running Prediction *****\n",
      "  Num examples = 1\n",
      "  Batch size = 64\n"
     ]
    },
    {
     "data": {
      "text/html": [],
      "text/plain": [
       "<IPython.core.display.HTML object>"
      ]
     },
     "metadata": {},
     "output_type": "display_data"
    },
    {
     "name": "stderr",
     "output_type": "stream",
     "text": [
      "***** Running Prediction *****\n",
      "  Num examples = 1\n",
      "  Batch size = 64\n"
     ]
    },
    {
     "data": {
      "text/html": [],
      "text/plain": [
       "<IPython.core.display.HTML object>"
      ]
     },
     "metadata": {},
     "output_type": "display_data"
    },
    {
     "name": "stderr",
     "output_type": "stream",
     "text": [
      "***** Running Prediction *****\n",
      "  Num examples = 1\n",
      "  Batch size = 64\n"
     ]
    },
    {
     "data": {
      "text/html": [],
      "text/plain": [
       "<IPython.core.display.HTML object>"
      ]
     },
     "metadata": {},
     "output_type": "display_data"
    },
    {
     "name": "stderr",
     "output_type": "stream",
     "text": [
      "***** Running Prediction *****\n",
      "  Num examples = 1\n",
      "  Batch size = 64\n"
     ]
    },
    {
     "data": {
      "text/html": [],
      "text/plain": [
       "<IPython.core.display.HTML object>"
      ]
     },
     "metadata": {},
     "output_type": "display_data"
    },
    {
     "name": "stderr",
     "output_type": "stream",
     "text": [
      "***** Running Prediction *****\n",
      "  Num examples = 1\n",
      "  Batch size = 64\n"
     ]
    },
    {
     "data": {
      "text/html": [],
      "text/plain": [
       "<IPython.core.display.HTML object>"
      ]
     },
     "metadata": {},
     "output_type": "display_data"
    },
    {
     "name": "stderr",
     "output_type": "stream",
     "text": [
      "***** Running Prediction *****\n",
      "  Num examples = 1\n",
      "  Batch size = 64\n"
     ]
    },
    {
     "data": {
      "text/html": [],
      "text/plain": [
       "<IPython.core.display.HTML object>"
      ]
     },
     "metadata": {},
     "output_type": "display_data"
    },
    {
     "name": "stderr",
     "output_type": "stream",
     "text": [
      "***** Running Prediction *****\n",
      "  Num examples = 1\n",
      "  Batch size = 64\n"
     ]
    },
    {
     "data": {
      "text/html": [],
      "text/plain": [
       "<IPython.core.display.HTML object>"
      ]
     },
     "metadata": {},
     "output_type": "display_data"
    },
    {
     "name": "stderr",
     "output_type": "stream",
     "text": [
      "***** Running Prediction *****\n",
      "  Num examples = 1\n",
      "  Batch size = 64\n"
     ]
    },
    {
     "data": {
      "text/html": [],
      "text/plain": [
       "<IPython.core.display.HTML object>"
      ]
     },
     "metadata": {},
     "output_type": "display_data"
    },
    {
     "name": "stderr",
     "output_type": "stream",
     "text": [
      "***** Running Prediction *****\n",
      "  Num examples = 1\n",
      "  Batch size = 64\n"
     ]
    },
    {
     "data": {
      "text/html": [],
      "text/plain": [
       "<IPython.core.display.HTML object>"
      ]
     },
     "metadata": {},
     "output_type": "display_data"
    },
    {
     "name": "stderr",
     "output_type": "stream",
     "text": [
      "***** Running Prediction *****\n",
      "  Num examples = 1\n",
      "  Batch size = 64\n"
     ]
    },
    {
     "data": {
      "text/html": [],
      "text/plain": [
       "<IPython.core.display.HTML object>"
      ]
     },
     "metadata": {},
     "output_type": "display_data"
    },
    {
     "name": "stderr",
     "output_type": "stream",
     "text": [
      "***** Running Prediction *****\n",
      "  Num examples = 1\n",
      "  Batch size = 64\n"
     ]
    },
    {
     "data": {
      "text/html": [],
      "text/plain": [
       "<IPython.core.display.HTML object>"
      ]
     },
     "metadata": {},
     "output_type": "display_data"
    },
    {
     "name": "stderr",
     "output_type": "stream",
     "text": [
      "***** Running Prediction *****\n",
      "  Num examples = 1\n",
      "  Batch size = 64\n"
     ]
    },
    {
     "data": {
      "text/html": [],
      "text/plain": [
       "<IPython.core.display.HTML object>"
      ]
     },
     "metadata": {},
     "output_type": "display_data"
    },
    {
     "name": "stderr",
     "output_type": "stream",
     "text": [
      "***** Running Prediction *****\n",
      "  Num examples = 1\n",
      "  Batch size = 64\n"
     ]
    },
    {
     "data": {
      "text/html": [],
      "text/plain": [
       "<IPython.core.display.HTML object>"
      ]
     },
     "metadata": {},
     "output_type": "display_data"
    },
    {
     "name": "stderr",
     "output_type": "stream",
     "text": [
      "***** Running Prediction *****\n",
      "  Num examples = 1\n",
      "  Batch size = 64\n"
     ]
    },
    {
     "data": {
      "text/html": [],
      "text/plain": [
       "<IPython.core.display.HTML object>"
      ]
     },
     "metadata": {},
     "output_type": "display_data"
    },
    {
     "name": "stderr",
     "output_type": "stream",
     "text": [
      "***** Running Prediction *****\n",
      "  Num examples = 1\n",
      "  Batch size = 64\n"
     ]
    },
    {
     "data": {
      "text/html": [],
      "text/plain": [
       "<IPython.core.display.HTML object>"
      ]
     },
     "metadata": {},
     "output_type": "display_data"
    },
    {
     "name": "stderr",
     "output_type": "stream",
     "text": [
      "***** Running Prediction *****\n",
      "  Num examples = 1\n",
      "  Batch size = 64\n"
     ]
    },
    {
     "data": {
      "text/html": [],
      "text/plain": [
       "<IPython.core.display.HTML object>"
      ]
     },
     "metadata": {},
     "output_type": "display_data"
    },
    {
     "name": "stderr",
     "output_type": "stream",
     "text": [
      "***** Running Prediction *****\n",
      "  Num examples = 1\n",
      "  Batch size = 64\n"
     ]
    },
    {
     "data": {
      "text/html": [],
      "text/plain": [
       "<IPython.core.display.HTML object>"
      ]
     },
     "metadata": {},
     "output_type": "display_data"
    },
    {
     "name": "stderr",
     "output_type": "stream",
     "text": [
      "***** Running Prediction *****\n",
      "  Num examples = 1\n",
      "  Batch size = 64\n"
     ]
    },
    {
     "data": {
      "text/html": [],
      "text/plain": [
       "<IPython.core.display.HTML object>"
      ]
     },
     "metadata": {},
     "output_type": "display_data"
    },
    {
     "name": "stderr",
     "output_type": "stream",
     "text": [
      "***** Running Prediction *****\n",
      "  Num examples = 1\n",
      "  Batch size = 64\n"
     ]
    },
    {
     "data": {
      "text/html": [],
      "text/plain": [
       "<IPython.core.display.HTML object>"
      ]
     },
     "metadata": {},
     "output_type": "display_data"
    },
    {
     "name": "stderr",
     "output_type": "stream",
     "text": [
      "***** Running Prediction *****\n",
      "  Num examples = 1\n",
      "  Batch size = 64\n"
     ]
    },
    {
     "data": {
      "text/html": [],
      "text/plain": [
       "<IPython.core.display.HTML object>"
      ]
     },
     "metadata": {},
     "output_type": "display_data"
    },
    {
     "name": "stderr",
     "output_type": "stream",
     "text": [
      "***** Running Prediction *****\n",
      "  Num examples = 1\n",
      "  Batch size = 64\n"
     ]
    },
    {
     "data": {
      "text/html": [],
      "text/plain": [
       "<IPython.core.display.HTML object>"
      ]
     },
     "metadata": {},
     "output_type": "display_data"
    },
    {
     "name": "stderr",
     "output_type": "stream",
     "text": [
      "***** Running Prediction *****\n",
      "  Num examples = 1\n",
      "  Batch size = 64\n"
     ]
    },
    {
     "data": {
      "text/html": [],
      "text/plain": [
       "<IPython.core.display.HTML object>"
      ]
     },
     "metadata": {},
     "output_type": "display_data"
    },
    {
     "name": "stderr",
     "output_type": "stream",
     "text": [
      "***** Running Prediction *****\n",
      "  Num examples = 1\n",
      "  Batch size = 64\n"
     ]
    },
    {
     "data": {
      "text/html": [],
      "text/plain": [
       "<IPython.core.display.HTML object>"
      ]
     },
     "metadata": {},
     "output_type": "display_data"
    },
    {
     "name": "stderr",
     "output_type": "stream",
     "text": [
      "***** Running Prediction *****\n",
      "  Num examples = 1\n",
      "  Batch size = 64\n"
     ]
    },
    {
     "data": {
      "text/html": [],
      "text/plain": [
       "<IPython.core.display.HTML object>"
      ]
     },
     "metadata": {},
     "output_type": "display_data"
    },
    {
     "name": "stderr",
     "output_type": "stream",
     "text": [
      "***** Running Prediction *****\n",
      "  Num examples = 1\n",
      "  Batch size = 64\n"
     ]
    },
    {
     "data": {
      "text/html": [],
      "text/plain": [
       "<IPython.core.display.HTML object>"
      ]
     },
     "metadata": {},
     "output_type": "display_data"
    },
    {
     "name": "stderr",
     "output_type": "stream",
     "text": [
      "***** Running Prediction *****\n",
      "  Num examples = 1\n",
      "  Batch size = 64\n"
     ]
    },
    {
     "data": {
      "text/html": [],
      "text/plain": [
       "<IPython.core.display.HTML object>"
      ]
     },
     "metadata": {},
     "output_type": "display_data"
    },
    {
     "name": "stderr",
     "output_type": "stream",
     "text": [
      "***** Running Prediction *****\n",
      "  Num examples = 1\n",
      "  Batch size = 64\n"
     ]
    },
    {
     "data": {
      "text/html": [],
      "text/plain": [
       "<IPython.core.display.HTML object>"
      ]
     },
     "metadata": {},
     "output_type": "display_data"
    },
    {
     "name": "stderr",
     "output_type": "stream",
     "text": [
      "***** Running Prediction *****\n",
      "  Num examples = 1\n",
      "  Batch size = 64\n"
     ]
    },
    {
     "data": {
      "text/html": [],
      "text/plain": [
       "<IPython.core.display.HTML object>"
      ]
     },
     "metadata": {},
     "output_type": "display_data"
    },
    {
     "name": "stderr",
     "output_type": "stream",
     "text": [
      "***** Running Prediction *****\n",
      "  Num examples = 1\n",
      "  Batch size = 64\n"
     ]
    },
    {
     "data": {
      "text/html": [],
      "text/plain": [
       "<IPython.core.display.HTML object>"
      ]
     },
     "metadata": {},
     "output_type": "display_data"
    },
    {
     "name": "stderr",
     "output_type": "stream",
     "text": [
      "***** Running Prediction *****\n",
      "  Num examples = 1\n",
      "  Batch size = 64\n"
     ]
    },
    {
     "data": {
      "text/html": [],
      "text/plain": [
       "<IPython.core.display.HTML object>"
      ]
     },
     "metadata": {},
     "output_type": "display_data"
    },
    {
     "name": "stderr",
     "output_type": "stream",
     "text": [
      "***** Running Prediction *****\n",
      "  Num examples = 1\n",
      "  Batch size = 64\n"
     ]
    },
    {
     "data": {
      "text/html": [],
      "text/plain": [
       "<IPython.core.display.HTML object>"
      ]
     },
     "metadata": {},
     "output_type": "display_data"
    },
    {
     "name": "stderr",
     "output_type": "stream",
     "text": [
      "***** Running Prediction *****\n",
      "  Num examples = 1\n",
      "  Batch size = 64\n"
     ]
    },
    {
     "data": {
      "text/html": [],
      "text/plain": [
       "<IPython.core.display.HTML object>"
      ]
     },
     "metadata": {},
     "output_type": "display_data"
    },
    {
     "name": "stderr",
     "output_type": "stream",
     "text": [
      "***** Running Prediction *****\n",
      "  Num examples = 1\n",
      "  Batch size = 64\n"
     ]
    },
    {
     "data": {
      "text/html": [],
      "text/plain": [
       "<IPython.core.display.HTML object>"
      ]
     },
     "metadata": {},
     "output_type": "display_data"
    },
    {
     "name": "stderr",
     "output_type": "stream",
     "text": [
      "***** Running Prediction *****\n",
      "  Num examples = 1\n",
      "  Batch size = 64\n"
     ]
    },
    {
     "data": {
      "text/html": [],
      "text/plain": [
       "<IPython.core.display.HTML object>"
      ]
     },
     "metadata": {},
     "output_type": "display_data"
    },
    {
     "name": "stderr",
     "output_type": "stream",
     "text": [
      "***** Running Prediction *****\n",
      "  Num examples = 1\n",
      "  Batch size = 64\n"
     ]
    },
    {
     "data": {
      "text/html": [],
      "text/plain": [
       "<IPython.core.display.HTML object>"
      ]
     },
     "metadata": {},
     "output_type": "display_data"
    },
    {
     "name": "stderr",
     "output_type": "stream",
     "text": [
      "***** Running Prediction *****\n",
      "  Num examples = 1\n",
      "  Batch size = 64\n"
     ]
    },
    {
     "data": {
      "text/html": [],
      "text/plain": [
       "<IPython.core.display.HTML object>"
      ]
     },
     "metadata": {},
     "output_type": "display_data"
    },
    {
     "name": "stderr",
     "output_type": "stream",
     "text": [
      "***** Running Prediction *****\n",
      "  Num examples = 1\n",
      "  Batch size = 64\n"
     ]
    },
    {
     "data": {
      "text/html": [],
      "text/plain": [
       "<IPython.core.display.HTML object>"
      ]
     },
     "metadata": {},
     "output_type": "display_data"
    },
    {
     "name": "stderr",
     "output_type": "stream",
     "text": [
      "***** Running Prediction *****\n",
      "  Num examples = 1\n",
      "  Batch size = 64\n"
     ]
    },
    {
     "data": {
      "text/html": [],
      "text/plain": [
       "<IPython.core.display.HTML object>"
      ]
     },
     "metadata": {},
     "output_type": "display_data"
    },
    {
     "name": "stderr",
     "output_type": "stream",
     "text": [
      "***** Running Prediction *****\n",
      "  Num examples = 1\n",
      "  Batch size = 64\n"
     ]
    },
    {
     "data": {
      "text/html": [],
      "text/plain": [
       "<IPython.core.display.HTML object>"
      ]
     },
     "metadata": {},
     "output_type": "display_data"
    },
    {
     "name": "stderr",
     "output_type": "stream",
     "text": [
      "***** Running Prediction *****\n",
      "  Num examples = 1\n",
      "  Batch size = 64\n"
     ]
    },
    {
     "data": {
      "text/html": [],
      "text/plain": [
       "<IPython.core.display.HTML object>"
      ]
     },
     "metadata": {},
     "output_type": "display_data"
    },
    {
     "name": "stderr",
     "output_type": "stream",
     "text": [
      "***** Running Prediction *****\n",
      "  Num examples = 1\n",
      "  Batch size = 64\n"
     ]
    },
    {
     "data": {
      "text/html": [],
      "text/plain": [
       "<IPython.core.display.HTML object>"
      ]
     },
     "metadata": {},
     "output_type": "display_data"
    },
    {
     "name": "stderr",
     "output_type": "stream",
     "text": [
      "***** Running Prediction *****\n",
      "  Num examples = 1\n",
      "  Batch size = 64\n"
     ]
    },
    {
     "data": {
      "text/html": [],
      "text/plain": [
       "<IPython.core.display.HTML object>"
      ]
     },
     "metadata": {},
     "output_type": "display_data"
    },
    {
     "name": "stderr",
     "output_type": "stream",
     "text": [
      "***** Running Prediction *****\n",
      "  Num examples = 1\n",
      "  Batch size = 64\n"
     ]
    },
    {
     "data": {
      "text/html": [],
      "text/plain": [
       "<IPython.core.display.HTML object>"
      ]
     },
     "metadata": {},
     "output_type": "display_data"
    },
    {
     "name": "stderr",
     "output_type": "stream",
     "text": [
      "***** Running Prediction *****\n",
      "  Num examples = 1\n",
      "  Batch size = 64\n"
     ]
    },
    {
     "data": {
      "text/html": [],
      "text/plain": [
       "<IPython.core.display.HTML object>"
      ]
     },
     "metadata": {},
     "output_type": "display_data"
    },
    {
     "name": "stderr",
     "output_type": "stream",
     "text": [
      "***** Running Prediction *****\n",
      "  Num examples = 1\n",
      "  Batch size = 64\n"
     ]
    },
    {
     "data": {
      "text/html": [],
      "text/plain": [
       "<IPython.core.display.HTML object>"
      ]
     },
     "metadata": {},
     "output_type": "display_data"
    },
    {
     "name": "stderr",
     "output_type": "stream",
     "text": [
      "***** Running Prediction *****\n",
      "  Num examples = 1\n",
      "  Batch size = 64\n"
     ]
    },
    {
     "data": {
      "text/html": [],
      "text/plain": [
       "<IPython.core.display.HTML object>"
      ]
     },
     "metadata": {},
     "output_type": "display_data"
    },
    {
     "name": "stderr",
     "output_type": "stream",
     "text": [
      "***** Running Prediction *****\n",
      "  Num examples = 1\n",
      "  Batch size = 64\n"
     ]
    },
    {
     "data": {
      "text/html": [],
      "text/plain": [
       "<IPython.core.display.HTML object>"
      ]
     },
     "metadata": {},
     "output_type": "display_data"
    },
    {
     "name": "stderr",
     "output_type": "stream",
     "text": [
      "***** Running Prediction *****\n",
      "  Num examples = 1\n",
      "  Batch size = 64\n"
     ]
    },
    {
     "data": {
      "text/html": [],
      "text/plain": [
       "<IPython.core.display.HTML object>"
      ]
     },
     "metadata": {},
     "output_type": "display_data"
    },
    {
     "name": "stderr",
     "output_type": "stream",
     "text": [
      "***** Running Prediction *****\n",
      "  Num examples = 1\n",
      "  Batch size = 64\n"
     ]
    },
    {
     "data": {
      "text/html": [],
      "text/plain": [
       "<IPython.core.display.HTML object>"
      ]
     },
     "metadata": {},
     "output_type": "display_data"
    },
    {
     "name": "stderr",
     "output_type": "stream",
     "text": [
      "***** Running Prediction *****\n",
      "  Num examples = 1\n",
      "  Batch size = 64\n"
     ]
    },
    {
     "data": {
      "text/html": [],
      "text/plain": [
       "<IPython.core.display.HTML object>"
      ]
     },
     "metadata": {},
     "output_type": "display_data"
    },
    {
     "name": "stderr",
     "output_type": "stream",
     "text": [
      "***** Running Prediction *****\n",
      "  Num examples = 1\n",
      "  Batch size = 64\n"
     ]
    },
    {
     "data": {
      "text/html": [],
      "text/plain": [
       "<IPython.core.display.HTML object>"
      ]
     },
     "metadata": {},
     "output_type": "display_data"
    },
    {
     "name": "stderr",
     "output_type": "stream",
     "text": [
      "***** Running Prediction *****\n",
      "  Num examples = 1\n",
      "  Batch size = 64\n"
     ]
    },
    {
     "data": {
      "text/html": [],
      "text/plain": [
       "<IPython.core.display.HTML object>"
      ]
     },
     "metadata": {},
     "output_type": "display_data"
    },
    {
     "name": "stderr",
     "output_type": "stream",
     "text": [
      "***** Running Prediction *****\n",
      "  Num examples = 1\n",
      "  Batch size = 64\n"
     ]
    },
    {
     "data": {
      "text/html": [],
      "text/plain": [
       "<IPython.core.display.HTML object>"
      ]
     },
     "metadata": {},
     "output_type": "display_data"
    },
    {
     "name": "stderr",
     "output_type": "stream",
     "text": [
      "***** Running Prediction *****\n",
      "  Num examples = 1\n",
      "  Batch size = 64\n"
     ]
    },
    {
     "data": {
      "text/html": [],
      "text/plain": [
       "<IPython.core.display.HTML object>"
      ]
     },
     "metadata": {},
     "output_type": "display_data"
    },
    {
     "name": "stderr",
     "output_type": "stream",
     "text": [
      "***** Running Prediction *****\n",
      "  Num examples = 1\n",
      "  Batch size = 64\n"
     ]
    },
    {
     "data": {
      "text/html": [],
      "text/plain": [
       "<IPython.core.display.HTML object>"
      ]
     },
     "metadata": {},
     "output_type": "display_data"
    },
    {
     "name": "stderr",
     "output_type": "stream",
     "text": [
      "***** Running Prediction *****\n",
      "  Num examples = 1\n",
      "  Batch size = 64\n"
     ]
    },
    {
     "data": {
      "text/html": [],
      "text/plain": [
       "<IPython.core.display.HTML object>"
      ]
     },
     "metadata": {},
     "output_type": "display_data"
    },
    {
     "name": "stderr",
     "output_type": "stream",
     "text": [
      "***** Running Prediction *****\n",
      "  Num examples = 1\n",
      "  Batch size = 64\n"
     ]
    },
    {
     "data": {
      "text/html": [],
      "text/plain": [
       "<IPython.core.display.HTML object>"
      ]
     },
     "metadata": {},
     "output_type": "display_data"
    },
    {
     "name": "stderr",
     "output_type": "stream",
     "text": [
      "***** Running Prediction *****\n",
      "  Num examples = 1\n",
      "  Batch size = 64\n"
     ]
    },
    {
     "data": {
      "text/html": [],
      "text/plain": [
       "<IPython.core.display.HTML object>"
      ]
     },
     "metadata": {},
     "output_type": "display_data"
    },
    {
     "name": "stderr",
     "output_type": "stream",
     "text": [
      "***** Running Prediction *****\n",
      "  Num examples = 1\n",
      "  Batch size = 64\n"
     ]
    },
    {
     "data": {
      "text/html": [],
      "text/plain": [
       "<IPython.core.display.HTML object>"
      ]
     },
     "metadata": {},
     "output_type": "display_data"
    },
    {
     "name": "stderr",
     "output_type": "stream",
     "text": [
      "***** Running Prediction *****\n",
      "  Num examples = 1\n",
      "  Batch size = 64\n"
     ]
    },
    {
     "data": {
      "text/html": [],
      "text/plain": [
       "<IPython.core.display.HTML object>"
      ]
     },
     "metadata": {},
     "output_type": "display_data"
    },
    {
     "name": "stderr",
     "output_type": "stream",
     "text": [
      "***** Running Prediction *****\n",
      "  Num examples = 1\n",
      "  Batch size = 64\n"
     ]
    },
    {
     "data": {
      "text/html": [],
      "text/plain": [
       "<IPython.core.display.HTML object>"
      ]
     },
     "metadata": {},
     "output_type": "display_data"
    },
    {
     "name": "stderr",
     "output_type": "stream",
     "text": [
      "***** Running Prediction *****\n",
      "  Num examples = 1\n",
      "  Batch size = 64\n"
     ]
    },
    {
     "data": {
      "text/html": [],
      "text/plain": [
       "<IPython.core.display.HTML object>"
      ]
     },
     "metadata": {},
     "output_type": "display_data"
    },
    {
     "name": "stderr",
     "output_type": "stream",
     "text": [
      "***** Running Prediction *****\n",
      "  Num examples = 1\n",
      "  Batch size = 64\n"
     ]
    },
    {
     "data": {
      "text/html": [],
      "text/plain": [
       "<IPython.core.display.HTML object>"
      ]
     },
     "metadata": {},
     "output_type": "display_data"
    },
    {
     "name": "stderr",
     "output_type": "stream",
     "text": [
      "***** Running Prediction *****\n",
      "  Num examples = 1\n",
      "  Batch size = 64\n"
     ]
    },
    {
     "data": {
      "text/html": [],
      "text/plain": [
       "<IPython.core.display.HTML object>"
      ]
     },
     "metadata": {},
     "output_type": "display_data"
    },
    {
     "name": "stderr",
     "output_type": "stream",
     "text": [
      "***** Running Prediction *****\n",
      "  Num examples = 1\n",
      "  Batch size = 64\n"
     ]
    },
    {
     "data": {
      "text/html": [],
      "text/plain": [
       "<IPython.core.display.HTML object>"
      ]
     },
     "metadata": {},
     "output_type": "display_data"
    },
    {
     "name": "stderr",
     "output_type": "stream",
     "text": [
      "***** Running Prediction *****\n",
      "  Num examples = 1\n",
      "  Batch size = 64\n"
     ]
    },
    {
     "data": {
      "text/html": [],
      "text/plain": [
       "<IPython.core.display.HTML object>"
      ]
     },
     "metadata": {},
     "output_type": "display_data"
    },
    {
     "name": "stderr",
     "output_type": "stream",
     "text": [
      "***** Running Prediction *****\n",
      "  Num examples = 1\n",
      "  Batch size = 64\n"
     ]
    },
    {
     "data": {
      "text/html": [],
      "text/plain": [
       "<IPython.core.display.HTML object>"
      ]
     },
     "metadata": {},
     "output_type": "display_data"
    },
    {
     "name": "stderr",
     "output_type": "stream",
     "text": [
      "***** Running Prediction *****\n",
      "  Num examples = 1\n",
      "  Batch size = 64\n"
     ]
    },
    {
     "data": {
      "text/html": [],
      "text/plain": [
       "<IPython.core.display.HTML object>"
      ]
     },
     "metadata": {},
     "output_type": "display_data"
    },
    {
     "name": "stderr",
     "output_type": "stream",
     "text": [
      "***** Running Prediction *****\n",
      "  Num examples = 1\n",
      "  Batch size = 64\n"
     ]
    },
    {
     "data": {
      "text/html": [],
      "text/plain": [
       "<IPython.core.display.HTML object>"
      ]
     },
     "metadata": {},
     "output_type": "display_data"
    },
    {
     "name": "stderr",
     "output_type": "stream",
     "text": [
      "***** Running Prediction *****\n",
      "  Num examples = 1\n",
      "  Batch size = 64\n"
     ]
    },
    {
     "data": {
      "text/html": [],
      "text/plain": [
       "<IPython.core.display.HTML object>"
      ]
     },
     "metadata": {},
     "output_type": "display_data"
    },
    {
     "name": "stderr",
     "output_type": "stream",
     "text": [
      "***** Running Prediction *****\n",
      "  Num examples = 1\n",
      "  Batch size = 64\n"
     ]
    },
    {
     "data": {
      "text/html": [],
      "text/plain": [
       "<IPython.core.display.HTML object>"
      ]
     },
     "metadata": {},
     "output_type": "display_data"
    },
    {
     "name": "stderr",
     "output_type": "stream",
     "text": [
      "***** Running Prediction *****\n",
      "  Num examples = 1\n",
      "  Batch size = 64\n"
     ]
    },
    {
     "data": {
      "text/html": [],
      "text/plain": [
       "<IPython.core.display.HTML object>"
      ]
     },
     "metadata": {},
     "output_type": "display_data"
    },
    {
     "name": "stderr",
     "output_type": "stream",
     "text": [
      "***** Running Prediction *****\n",
      "  Num examples = 1\n",
      "  Batch size = 64\n"
     ]
    },
    {
     "data": {
      "text/html": [],
      "text/plain": [
       "<IPython.core.display.HTML object>"
      ]
     },
     "metadata": {},
     "output_type": "display_data"
    },
    {
     "name": "stderr",
     "output_type": "stream",
     "text": [
      "***** Running Prediction *****\n",
      "  Num examples = 1\n",
      "  Batch size = 64\n"
     ]
    },
    {
     "data": {
      "text/html": [],
      "text/plain": [
       "<IPython.core.display.HTML object>"
      ]
     },
     "metadata": {},
     "output_type": "display_data"
    },
    {
     "name": "stderr",
     "output_type": "stream",
     "text": [
      "***** Running Prediction *****\n",
      "  Num examples = 1\n",
      "  Batch size = 64\n"
     ]
    },
    {
     "data": {
      "text/html": [],
      "text/plain": [
       "<IPython.core.display.HTML object>"
      ]
     },
     "metadata": {},
     "output_type": "display_data"
    },
    {
     "name": "stderr",
     "output_type": "stream",
     "text": [
      "***** Running Prediction *****\n",
      "  Num examples = 1\n",
      "  Batch size = 64\n"
     ]
    },
    {
     "data": {
      "text/html": [],
      "text/plain": [
       "<IPython.core.display.HTML object>"
      ]
     },
     "metadata": {},
     "output_type": "display_data"
    },
    {
     "name": "stderr",
     "output_type": "stream",
     "text": [
      "***** Running Prediction *****\n",
      "  Num examples = 1\n",
      "  Batch size = 64\n"
     ]
    },
    {
     "data": {
      "text/html": [],
      "text/plain": [
       "<IPython.core.display.HTML object>"
      ]
     },
     "metadata": {},
     "output_type": "display_data"
    },
    {
     "name": "stderr",
     "output_type": "stream",
     "text": [
      "***** Running Prediction *****\n",
      "  Num examples = 1\n",
      "  Batch size = 64\n"
     ]
    },
    {
     "data": {
      "text/html": [],
      "text/plain": [
       "<IPython.core.display.HTML object>"
      ]
     },
     "metadata": {},
     "output_type": "display_data"
    },
    {
     "name": "stderr",
     "output_type": "stream",
     "text": [
      "***** Running Prediction *****\n",
      "  Num examples = 1\n",
      "  Batch size = 64\n"
     ]
    },
    {
     "data": {
      "text/html": [],
      "text/plain": [
       "<IPython.core.display.HTML object>"
      ]
     },
     "metadata": {},
     "output_type": "display_data"
    },
    {
     "name": "stderr",
     "output_type": "stream",
     "text": [
      "***** Running Prediction *****\n",
      "  Num examples = 1\n",
      "  Batch size = 64\n"
     ]
    },
    {
     "data": {
      "text/html": [],
      "text/plain": [
       "<IPython.core.display.HTML object>"
      ]
     },
     "metadata": {},
     "output_type": "display_data"
    },
    {
     "name": "stderr",
     "output_type": "stream",
     "text": [
      "***** Running Prediction *****\n",
      "  Num examples = 1\n",
      "  Batch size = 64\n"
     ]
    },
    {
     "data": {
      "text/html": [],
      "text/plain": [
       "<IPython.core.display.HTML object>"
      ]
     },
     "metadata": {},
     "output_type": "display_data"
    },
    {
     "name": "stderr",
     "output_type": "stream",
     "text": [
      "***** Running Prediction *****\n",
      "  Num examples = 1\n",
      "  Batch size = 64\n"
     ]
    },
    {
     "data": {
      "text/html": [],
      "text/plain": [
       "<IPython.core.display.HTML object>"
      ]
     },
     "metadata": {},
     "output_type": "display_data"
    },
    {
     "name": "stderr",
     "output_type": "stream",
     "text": [
      "***** Running Prediction *****\n",
      "  Num examples = 1\n",
      "  Batch size = 64\n"
     ]
    },
    {
     "data": {
      "text/html": [],
      "text/plain": [
       "<IPython.core.display.HTML object>"
      ]
     },
     "metadata": {},
     "output_type": "display_data"
    },
    {
     "name": "stderr",
     "output_type": "stream",
     "text": [
      "***** Running Prediction *****\n",
      "  Num examples = 1\n",
      "  Batch size = 64\n"
     ]
    },
    {
     "data": {
      "text/html": [],
      "text/plain": [
       "<IPython.core.display.HTML object>"
      ]
     },
     "metadata": {},
     "output_type": "display_data"
    },
    {
     "name": "stderr",
     "output_type": "stream",
     "text": [
      "***** Running Prediction *****\n",
      "  Num examples = 1\n",
      "  Batch size = 64\n"
     ]
    },
    {
     "data": {
      "text/html": [],
      "text/plain": [
       "<IPython.core.display.HTML object>"
      ]
     },
     "metadata": {},
     "output_type": "display_data"
    },
    {
     "name": "stderr",
     "output_type": "stream",
     "text": [
      "***** Running Prediction *****\n",
      "  Num examples = 1\n",
      "  Batch size = 64\n"
     ]
    },
    {
     "data": {
      "text/html": [],
      "text/plain": [
       "<IPython.core.display.HTML object>"
      ]
     },
     "metadata": {},
     "output_type": "display_data"
    },
    {
     "name": "stderr",
     "output_type": "stream",
     "text": [
      "***** Running Prediction *****\n",
      "  Num examples = 1\n",
      "  Batch size = 64\n"
     ]
    },
    {
     "data": {
      "text/html": [],
      "text/plain": [
       "<IPython.core.display.HTML object>"
      ]
     },
     "metadata": {},
     "output_type": "display_data"
    },
    {
     "name": "stderr",
     "output_type": "stream",
     "text": [
      "***** Running Prediction *****\n",
      "  Num examples = 1\n",
      "  Batch size = 64\n"
     ]
    },
    {
     "data": {
      "text/html": [],
      "text/plain": [
       "<IPython.core.display.HTML object>"
      ]
     },
     "metadata": {},
     "output_type": "display_data"
    },
    {
     "name": "stderr",
     "output_type": "stream",
     "text": [
      "***** Running Prediction *****\n",
      "  Num examples = 1\n",
      "  Batch size = 64\n"
     ]
    },
    {
     "data": {
      "text/html": [],
      "text/plain": [
       "<IPython.core.display.HTML object>"
      ]
     },
     "metadata": {},
     "output_type": "display_data"
    },
    {
     "name": "stderr",
     "output_type": "stream",
     "text": [
      "***** Running Prediction *****\n",
      "  Num examples = 1\n",
      "  Batch size = 64\n"
     ]
    },
    {
     "data": {
      "text/html": [],
      "text/plain": [
       "<IPython.core.display.HTML object>"
      ]
     },
     "metadata": {},
     "output_type": "display_data"
    },
    {
     "name": "stderr",
     "output_type": "stream",
     "text": [
      "***** Running Prediction *****\n",
      "  Num examples = 1\n",
      "  Batch size = 64\n"
     ]
    },
    {
     "data": {
      "text/html": [],
      "text/plain": [
       "<IPython.core.display.HTML object>"
      ]
     },
     "metadata": {},
     "output_type": "display_data"
    },
    {
     "name": "stderr",
     "output_type": "stream",
     "text": [
      "***** Running Prediction *****\n",
      "  Num examples = 1\n",
      "  Batch size = 64\n"
     ]
    },
    {
     "data": {
      "text/html": [],
      "text/plain": [
       "<IPython.core.display.HTML object>"
      ]
     },
     "metadata": {},
     "output_type": "display_data"
    },
    {
     "name": "stderr",
     "output_type": "stream",
     "text": [
      "***** Running Prediction *****\n",
      "  Num examples = 1\n",
      "  Batch size = 64\n"
     ]
    },
    {
     "data": {
      "text/html": [],
      "text/plain": [
       "<IPython.core.display.HTML object>"
      ]
     },
     "metadata": {},
     "output_type": "display_data"
    },
    {
     "name": "stderr",
     "output_type": "stream",
     "text": [
      "***** Running Prediction *****\n",
      "  Num examples = 1\n",
      "  Batch size = 64\n"
     ]
    },
    {
     "data": {
      "text/html": [],
      "text/plain": [
       "<IPython.core.display.HTML object>"
      ]
     },
     "metadata": {},
     "output_type": "display_data"
    },
    {
     "name": "stderr",
     "output_type": "stream",
     "text": [
      "***** Running Prediction *****\n",
      "  Num examples = 1\n",
      "  Batch size = 64\n"
     ]
    },
    {
     "data": {
      "text/html": [],
      "text/plain": [
       "<IPython.core.display.HTML object>"
      ]
     },
     "metadata": {},
     "output_type": "display_data"
    },
    {
     "name": "stderr",
     "output_type": "stream",
     "text": [
      "***** Running Prediction *****\n",
      "  Num examples = 1\n",
      "  Batch size = 64\n"
     ]
    },
    {
     "data": {
      "text/html": [],
      "text/plain": [
       "<IPython.core.display.HTML object>"
      ]
     },
     "metadata": {},
     "output_type": "display_data"
    },
    {
     "name": "stderr",
     "output_type": "stream",
     "text": [
      "***** Running Prediction *****\n",
      "  Num examples = 1\n",
      "  Batch size = 64\n"
     ]
    },
    {
     "data": {
      "text/html": [],
      "text/plain": [
       "<IPython.core.display.HTML object>"
      ]
     },
     "metadata": {},
     "output_type": "display_data"
    },
    {
     "name": "stderr",
     "output_type": "stream",
     "text": [
      "***** Running Prediction *****\n",
      "  Num examples = 1\n",
      "  Batch size = 64\n"
     ]
    },
    {
     "data": {
      "text/html": [],
      "text/plain": [
       "<IPython.core.display.HTML object>"
      ]
     },
     "metadata": {},
     "output_type": "display_data"
    },
    {
     "name": "stderr",
     "output_type": "stream",
     "text": [
      "***** Running Prediction *****\n",
      "  Num examples = 1\n",
      "  Batch size = 64\n"
     ]
    },
    {
     "data": {
      "text/html": [],
      "text/plain": [
       "<IPython.core.display.HTML object>"
      ]
     },
     "metadata": {},
     "output_type": "display_data"
    },
    {
     "name": "stderr",
     "output_type": "stream",
     "text": [
      "***** Running Prediction *****\n",
      "  Num examples = 1\n",
      "  Batch size = 64\n"
     ]
    },
    {
     "data": {
      "text/html": [],
      "text/plain": [
       "<IPython.core.display.HTML object>"
      ]
     },
     "metadata": {},
     "output_type": "display_data"
    },
    {
     "name": "stderr",
     "output_type": "stream",
     "text": [
      "***** Running Prediction *****\n",
      "  Num examples = 1\n",
      "  Batch size = 64\n"
     ]
    },
    {
     "data": {
      "text/html": [],
      "text/plain": [
       "<IPython.core.display.HTML object>"
      ]
     },
     "metadata": {},
     "output_type": "display_data"
    },
    {
     "name": "stderr",
     "output_type": "stream",
     "text": [
      "***** Running Prediction *****\n",
      "  Num examples = 1\n",
      "  Batch size = 64\n"
     ]
    },
    {
     "data": {
      "text/html": [],
      "text/plain": [
       "<IPython.core.display.HTML object>"
      ]
     },
     "metadata": {},
     "output_type": "display_data"
    },
    {
     "name": "stderr",
     "output_type": "stream",
     "text": [
      "***** Running Prediction *****\n",
      "  Num examples = 1\n",
      "  Batch size = 64\n"
     ]
    },
    {
     "data": {
      "text/html": [],
      "text/plain": [
       "<IPython.core.display.HTML object>"
      ]
     },
     "metadata": {},
     "output_type": "display_data"
    },
    {
     "name": "stderr",
     "output_type": "stream",
     "text": [
      "***** Running Prediction *****\n",
      "  Num examples = 1\n",
      "  Batch size = 64\n"
     ]
    },
    {
     "data": {
      "text/html": [],
      "text/plain": [
       "<IPython.core.display.HTML object>"
      ]
     },
     "metadata": {},
     "output_type": "display_data"
    },
    {
     "name": "stderr",
     "output_type": "stream",
     "text": [
      "***** Running Prediction *****\n",
      "  Num examples = 1\n",
      "  Batch size = 64\n"
     ]
    },
    {
     "data": {
      "text/html": [],
      "text/plain": [
       "<IPython.core.display.HTML object>"
      ]
     },
     "metadata": {},
     "output_type": "display_data"
    },
    {
     "name": "stderr",
     "output_type": "stream",
     "text": [
      "***** Running Prediction *****\n",
      "  Num examples = 1\n",
      "  Batch size = 64\n"
     ]
    },
    {
     "data": {
      "text/html": [],
      "text/plain": [
       "<IPython.core.display.HTML object>"
      ]
     },
     "metadata": {},
     "output_type": "display_data"
    },
    {
     "name": "stderr",
     "output_type": "stream",
     "text": [
      "***** Running Prediction *****\n",
      "  Num examples = 1\n",
      "  Batch size = 64\n"
     ]
    },
    {
     "data": {
      "text/html": [],
      "text/plain": [
       "<IPython.core.display.HTML object>"
      ]
     },
     "metadata": {},
     "output_type": "display_data"
    },
    {
     "name": "stderr",
     "output_type": "stream",
     "text": [
      "***** Running Prediction *****\n",
      "  Num examples = 1\n",
      "  Batch size = 64\n"
     ]
    },
    {
     "data": {
      "text/html": [],
      "text/plain": [
       "<IPython.core.display.HTML object>"
      ]
     },
     "metadata": {},
     "output_type": "display_data"
    },
    {
     "name": "stderr",
     "output_type": "stream",
     "text": [
      "***** Running Prediction *****\n",
      "  Num examples = 1\n",
      "  Batch size = 64\n"
     ]
    },
    {
     "data": {
      "text/html": [],
      "text/plain": [
       "<IPython.core.display.HTML object>"
      ]
     },
     "metadata": {},
     "output_type": "display_data"
    },
    {
     "name": "stderr",
     "output_type": "stream",
     "text": [
      "***** Running Prediction *****\n",
      "  Num examples = 1\n",
      "  Batch size = 64\n"
     ]
    },
    {
     "data": {
      "text/html": [],
      "text/plain": [
       "<IPython.core.display.HTML object>"
      ]
     },
     "metadata": {},
     "output_type": "display_data"
    },
    {
     "name": "stderr",
     "output_type": "stream",
     "text": [
      "***** Running Prediction *****\n",
      "  Num examples = 1\n",
      "  Batch size = 64\n"
     ]
    },
    {
     "data": {
      "text/html": [],
      "text/plain": [
       "<IPython.core.display.HTML object>"
      ]
     },
     "metadata": {},
     "output_type": "display_data"
    },
    {
     "name": "stderr",
     "output_type": "stream",
     "text": [
      "***** Running Prediction *****\n",
      "  Num examples = 1\n",
      "  Batch size = 64\n"
     ]
    },
    {
     "data": {
      "text/html": [],
      "text/plain": [
       "<IPython.core.display.HTML object>"
      ]
     },
     "metadata": {},
     "output_type": "display_data"
    },
    {
     "name": "stderr",
     "output_type": "stream",
     "text": [
      "***** Running Prediction *****\n",
      "  Num examples = 1\n",
      "  Batch size = 64\n"
     ]
    },
    {
     "data": {
      "text/html": [],
      "text/plain": [
       "<IPython.core.display.HTML object>"
      ]
     },
     "metadata": {},
     "output_type": "display_data"
    },
    {
     "name": "stderr",
     "output_type": "stream",
     "text": [
      "***** Running Prediction *****\n",
      "  Num examples = 1\n",
      "  Batch size = 64\n"
     ]
    },
    {
     "data": {
      "text/html": [],
      "text/plain": [
       "<IPython.core.display.HTML object>"
      ]
     },
     "metadata": {},
     "output_type": "display_data"
    },
    {
     "name": "stderr",
     "output_type": "stream",
     "text": [
      "***** Running Prediction *****\n",
      "  Num examples = 1\n",
      "  Batch size = 64\n"
     ]
    },
    {
     "data": {
      "text/html": [],
      "text/plain": [
       "<IPython.core.display.HTML object>"
      ]
     },
     "metadata": {},
     "output_type": "display_data"
    },
    {
     "name": "stderr",
     "output_type": "stream",
     "text": [
      "***** Running Prediction *****\n",
      "  Num examples = 1\n",
      "  Batch size = 64\n"
     ]
    },
    {
     "data": {
      "text/html": [],
      "text/plain": [
       "<IPython.core.display.HTML object>"
      ]
     },
     "metadata": {},
     "output_type": "display_data"
    },
    {
     "name": "stderr",
     "output_type": "stream",
     "text": [
      "***** Running Prediction *****\n",
      "  Num examples = 1\n",
      "  Batch size = 64\n"
     ]
    },
    {
     "data": {
      "text/html": [],
      "text/plain": [
       "<IPython.core.display.HTML object>"
      ]
     },
     "metadata": {},
     "output_type": "display_data"
    },
    {
     "name": "stderr",
     "output_type": "stream",
     "text": [
      "***** Running Prediction *****\n",
      "  Num examples = 1\n",
      "  Batch size = 64\n"
     ]
    },
    {
     "data": {
      "text/html": [],
      "text/plain": [
       "<IPython.core.display.HTML object>"
      ]
     },
     "metadata": {},
     "output_type": "display_data"
    },
    {
     "name": "stderr",
     "output_type": "stream",
     "text": [
      "***** Running Prediction *****\n",
      "  Num examples = 1\n",
      "  Batch size = 64\n"
     ]
    },
    {
     "data": {
      "text/html": [],
      "text/plain": [
       "<IPython.core.display.HTML object>"
      ]
     },
     "metadata": {},
     "output_type": "display_data"
    },
    {
     "name": "stderr",
     "output_type": "stream",
     "text": [
      "***** Running Prediction *****\n",
      "  Num examples = 1\n",
      "  Batch size = 64\n"
     ]
    },
    {
     "data": {
      "text/html": [],
      "text/plain": [
       "<IPython.core.display.HTML object>"
      ]
     },
     "metadata": {},
     "output_type": "display_data"
    },
    {
     "name": "stderr",
     "output_type": "stream",
     "text": [
      "***** Running Prediction *****\n",
      "  Num examples = 1\n",
      "  Batch size = 64\n"
     ]
    },
    {
     "data": {
      "text/html": [],
      "text/plain": [
       "<IPython.core.display.HTML object>"
      ]
     },
     "metadata": {},
     "output_type": "display_data"
    },
    {
     "name": "stderr",
     "output_type": "stream",
     "text": [
      "***** Running Prediction *****\n",
      "  Num examples = 1\n",
      "  Batch size = 64\n"
     ]
    },
    {
     "data": {
      "text/html": [],
      "text/plain": [
       "<IPython.core.display.HTML object>"
      ]
     },
     "metadata": {},
     "output_type": "display_data"
    },
    {
     "name": "stderr",
     "output_type": "stream",
     "text": [
      "***** Running Prediction *****\n",
      "  Num examples = 1\n",
      "  Batch size = 64\n"
     ]
    },
    {
     "data": {
      "text/html": [],
      "text/plain": [
       "<IPython.core.display.HTML object>"
      ]
     },
     "metadata": {},
     "output_type": "display_data"
    },
    {
     "name": "stderr",
     "output_type": "stream",
     "text": [
      "***** Running Prediction *****\n",
      "  Num examples = 1\n",
      "  Batch size = 64\n"
     ]
    },
    {
     "data": {
      "text/html": [],
      "text/plain": [
       "<IPython.core.display.HTML object>"
      ]
     },
     "metadata": {},
     "output_type": "display_data"
    },
    {
     "name": "stderr",
     "output_type": "stream",
     "text": [
      "***** Running Prediction *****\n",
      "  Num examples = 1\n",
      "  Batch size = 64\n"
     ]
    },
    {
     "data": {
      "text/html": [],
      "text/plain": [
       "<IPython.core.display.HTML object>"
      ]
     },
     "metadata": {},
     "output_type": "display_data"
    },
    {
     "name": "stderr",
     "output_type": "stream",
     "text": [
      "***** Running Prediction *****\n",
      "  Num examples = 1\n",
      "  Batch size = 64\n"
     ]
    },
    {
     "data": {
      "text/html": [],
      "text/plain": [
       "<IPython.core.display.HTML object>"
      ]
     },
     "metadata": {},
     "output_type": "display_data"
    },
    {
     "name": "stderr",
     "output_type": "stream",
     "text": [
      "***** Running Prediction *****\n",
      "  Num examples = 1\n",
      "  Batch size = 64\n"
     ]
    },
    {
     "data": {
      "text/html": [],
      "text/plain": [
       "<IPython.core.display.HTML object>"
      ]
     },
     "metadata": {},
     "output_type": "display_data"
    },
    {
     "name": "stderr",
     "output_type": "stream",
     "text": [
      "***** Running Prediction *****\n",
      "  Num examples = 1\n",
      "  Batch size = 64\n"
     ]
    },
    {
     "data": {
      "text/html": [],
      "text/plain": [
       "<IPython.core.display.HTML object>"
      ]
     },
     "metadata": {},
     "output_type": "display_data"
    },
    {
     "name": "stderr",
     "output_type": "stream",
     "text": [
      "***** Running Prediction *****\n",
      "  Num examples = 1\n",
      "  Batch size = 64\n"
     ]
    },
    {
     "data": {
      "text/html": [],
      "text/plain": [
       "<IPython.core.display.HTML object>"
      ]
     },
     "metadata": {},
     "output_type": "display_data"
    },
    {
     "name": "stderr",
     "output_type": "stream",
     "text": [
      "***** Running Prediction *****\n",
      "  Num examples = 1\n",
      "  Batch size = 64\n"
     ]
    },
    {
     "data": {
      "text/html": [],
      "text/plain": [
       "<IPython.core.display.HTML object>"
      ]
     },
     "metadata": {},
     "output_type": "display_data"
    },
    {
     "name": "stderr",
     "output_type": "stream",
     "text": [
      "***** Running Prediction *****\n",
      "  Num examples = 1\n",
      "  Batch size = 64\n"
     ]
    },
    {
     "data": {
      "text/html": [],
      "text/plain": [
       "<IPython.core.display.HTML object>"
      ]
     },
     "metadata": {},
     "output_type": "display_data"
    },
    {
     "name": "stderr",
     "output_type": "stream",
     "text": [
      "***** Running Prediction *****\n",
      "  Num examples = 1\n",
      "  Batch size = 64\n"
     ]
    },
    {
     "data": {
      "text/html": [],
      "text/plain": [
       "<IPython.core.display.HTML object>"
      ]
     },
     "metadata": {},
     "output_type": "display_data"
    },
    {
     "name": "stderr",
     "output_type": "stream",
     "text": [
      "***** Running Prediction *****\n",
      "  Num examples = 1\n",
      "  Batch size = 64\n"
     ]
    },
    {
     "data": {
      "text/html": [],
      "text/plain": [
       "<IPython.core.display.HTML object>"
      ]
     },
     "metadata": {},
     "output_type": "display_data"
    },
    {
     "name": "stderr",
     "output_type": "stream",
     "text": [
      "***** Running Prediction *****\n",
      "  Num examples = 1\n",
      "  Batch size = 64\n"
     ]
    },
    {
     "data": {
      "text/html": [],
      "text/plain": [
       "<IPython.core.display.HTML object>"
      ]
     },
     "metadata": {},
     "output_type": "display_data"
    },
    {
     "name": "stderr",
     "output_type": "stream",
     "text": [
      "***** Running Prediction *****\n",
      "  Num examples = 1\n",
      "  Batch size = 64\n"
     ]
    },
    {
     "data": {
      "text/html": [],
      "text/plain": [
       "<IPython.core.display.HTML object>"
      ]
     },
     "metadata": {},
     "output_type": "display_data"
    },
    {
     "name": "stderr",
     "output_type": "stream",
     "text": [
      "***** Running Prediction *****\n",
      "  Num examples = 1\n",
      "  Batch size = 64\n"
     ]
    },
    {
     "data": {
      "text/html": [],
      "text/plain": [
       "<IPython.core.display.HTML object>"
      ]
     },
     "metadata": {},
     "output_type": "display_data"
    },
    {
     "name": "stderr",
     "output_type": "stream",
     "text": [
      "***** Running Prediction *****\n",
      "  Num examples = 1\n",
      "  Batch size = 64\n"
     ]
    },
    {
     "data": {
      "text/html": [],
      "text/plain": [
       "<IPython.core.display.HTML object>"
      ]
     },
     "metadata": {},
     "output_type": "display_data"
    },
    {
     "name": "stderr",
     "output_type": "stream",
     "text": [
      "***** Running Prediction *****\n",
      "  Num examples = 1\n",
      "  Batch size = 64\n"
     ]
    },
    {
     "data": {
      "text/html": [],
      "text/plain": [
       "<IPython.core.display.HTML object>"
      ]
     },
     "metadata": {},
     "output_type": "display_data"
    },
    {
     "name": "stderr",
     "output_type": "stream",
     "text": [
      "***** Running Prediction *****\n",
      "  Num examples = 1\n",
      "  Batch size = 64\n"
     ]
    },
    {
     "data": {
      "text/html": [],
      "text/plain": [
       "<IPython.core.display.HTML object>"
      ]
     },
     "metadata": {},
     "output_type": "display_data"
    },
    {
     "name": "stderr",
     "output_type": "stream",
     "text": [
      "***** Running Prediction *****\n",
      "  Num examples = 1\n",
      "  Batch size = 64\n"
     ]
    },
    {
     "data": {
      "text/html": [],
      "text/plain": [
       "<IPython.core.display.HTML object>"
      ]
     },
     "metadata": {},
     "output_type": "display_data"
    },
    {
     "name": "stderr",
     "output_type": "stream",
     "text": [
      "***** Running Prediction *****\n",
      "  Num examples = 1\n",
      "  Batch size = 64\n"
     ]
    },
    {
     "data": {
      "text/html": [],
      "text/plain": [
       "<IPython.core.display.HTML object>"
      ]
     },
     "metadata": {},
     "output_type": "display_data"
    },
    {
     "name": "stderr",
     "output_type": "stream",
     "text": [
      "***** Running Prediction *****\n",
      "  Num examples = 1\n",
      "  Batch size = 64\n"
     ]
    },
    {
     "data": {
      "text/html": [],
      "text/plain": [
       "<IPython.core.display.HTML object>"
      ]
     },
     "metadata": {},
     "output_type": "display_data"
    },
    {
     "name": "stderr",
     "output_type": "stream",
     "text": [
      "***** Running Prediction *****\n",
      "  Num examples = 1\n",
      "  Batch size = 64\n"
     ]
    },
    {
     "data": {
      "text/html": [],
      "text/plain": [
       "<IPython.core.display.HTML object>"
      ]
     },
     "metadata": {},
     "output_type": "display_data"
    },
    {
     "name": "stderr",
     "output_type": "stream",
     "text": [
      "***** Running Prediction *****\n",
      "  Num examples = 1\n",
      "  Batch size = 64\n"
     ]
    },
    {
     "data": {
      "text/html": [],
      "text/plain": [
       "<IPython.core.display.HTML object>"
      ]
     },
     "metadata": {},
     "output_type": "display_data"
    },
    {
     "name": "stderr",
     "output_type": "stream",
     "text": [
      "***** Running Prediction *****\n",
      "  Num examples = 1\n",
      "  Batch size = 64\n"
     ]
    },
    {
     "data": {
      "text/html": [],
      "text/plain": [
       "<IPython.core.display.HTML object>"
      ]
     },
     "metadata": {},
     "output_type": "display_data"
    },
    {
     "name": "stderr",
     "output_type": "stream",
     "text": [
      "***** Running Prediction *****\n",
      "  Num examples = 1\n",
      "  Batch size = 64\n"
     ]
    },
    {
     "data": {
      "text/html": [],
      "text/plain": [
       "<IPython.core.display.HTML object>"
      ]
     },
     "metadata": {},
     "output_type": "display_data"
    },
    {
     "name": "stderr",
     "output_type": "stream",
     "text": [
      "***** Running Prediction *****\n",
      "  Num examples = 1\n",
      "  Batch size = 64\n"
     ]
    },
    {
     "data": {
      "text/html": [],
      "text/plain": [
       "<IPython.core.display.HTML object>"
      ]
     },
     "metadata": {},
     "output_type": "display_data"
    },
    {
     "name": "stderr",
     "output_type": "stream",
     "text": [
      "***** Running Prediction *****\n",
      "  Num examples = 1\n",
      "  Batch size = 64\n"
     ]
    },
    {
     "data": {
      "text/html": [],
      "text/plain": [
       "<IPython.core.display.HTML object>"
      ]
     },
     "metadata": {},
     "output_type": "display_data"
    },
    {
     "name": "stderr",
     "output_type": "stream",
     "text": [
      "***** Running Prediction *****\n",
      "  Num examples = 1\n",
      "  Batch size = 64\n"
     ]
    },
    {
     "data": {
      "text/html": [],
      "text/plain": [
       "<IPython.core.display.HTML object>"
      ]
     },
     "metadata": {},
     "output_type": "display_data"
    },
    {
     "name": "stderr",
     "output_type": "stream",
     "text": [
      "***** Running Prediction *****\n",
      "  Num examples = 1\n",
      "  Batch size = 64\n"
     ]
    },
    {
     "data": {
      "text/html": [],
      "text/plain": [
       "<IPython.core.display.HTML object>"
      ]
     },
     "metadata": {},
     "output_type": "display_data"
    },
    {
     "name": "stderr",
     "output_type": "stream",
     "text": [
      "***** Running Prediction *****\n",
      "  Num examples = 1\n",
      "  Batch size = 64\n"
     ]
    },
    {
     "data": {
      "text/html": [],
      "text/plain": [
       "<IPython.core.display.HTML object>"
      ]
     },
     "metadata": {},
     "output_type": "display_data"
    },
    {
     "name": "stderr",
     "output_type": "stream",
     "text": [
      "***** Running Prediction *****\n",
      "  Num examples = 1\n",
      "  Batch size = 64\n"
     ]
    },
    {
     "data": {
      "text/html": [],
      "text/plain": [
       "<IPython.core.display.HTML object>"
      ]
     },
     "metadata": {},
     "output_type": "display_data"
    },
    {
     "name": "stderr",
     "output_type": "stream",
     "text": [
      "***** Running Prediction *****\n",
      "  Num examples = 1\n",
      "  Batch size = 64\n"
     ]
    },
    {
     "data": {
      "text/html": [],
      "text/plain": [
       "<IPython.core.display.HTML object>"
      ]
     },
     "metadata": {},
     "output_type": "display_data"
    },
    {
     "name": "stderr",
     "output_type": "stream",
     "text": [
      "***** Running Prediction *****\n",
      "  Num examples = 1\n",
      "  Batch size = 64\n"
     ]
    },
    {
     "data": {
      "text/html": [],
      "text/plain": [
       "<IPython.core.display.HTML object>"
      ]
     },
     "metadata": {},
     "output_type": "display_data"
    },
    {
     "name": "stderr",
     "output_type": "stream",
     "text": [
      "***** Running Prediction *****\n",
      "  Num examples = 1\n",
      "  Batch size = 64\n"
     ]
    },
    {
     "data": {
      "text/html": [],
      "text/plain": [
       "<IPython.core.display.HTML object>"
      ]
     },
     "metadata": {},
     "output_type": "display_data"
    },
    {
     "name": "stderr",
     "output_type": "stream",
     "text": [
      "***** Running Prediction *****\n",
      "  Num examples = 1\n",
      "  Batch size = 64\n"
     ]
    },
    {
     "data": {
      "text/html": [],
      "text/plain": [
       "<IPython.core.display.HTML object>"
      ]
     },
     "metadata": {},
     "output_type": "display_data"
    },
    {
     "name": "stderr",
     "output_type": "stream",
     "text": [
      "***** Running Prediction *****\n",
      "  Num examples = 1\n",
      "  Batch size = 64\n"
     ]
    },
    {
     "data": {
      "text/html": [],
      "text/plain": [
       "<IPython.core.display.HTML object>"
      ]
     },
     "metadata": {},
     "output_type": "display_data"
    },
    {
     "name": "stderr",
     "output_type": "stream",
     "text": [
      "***** Running Prediction *****\n",
      "  Num examples = 1\n",
      "  Batch size = 64\n"
     ]
    },
    {
     "data": {
      "text/html": [],
      "text/plain": [
       "<IPython.core.display.HTML object>"
      ]
     },
     "metadata": {},
     "output_type": "display_data"
    },
    {
     "name": "stderr",
     "output_type": "stream",
     "text": [
      "***** Running Prediction *****\n",
      "  Num examples = 1\n",
      "  Batch size = 64\n"
     ]
    },
    {
     "data": {
      "text/html": [],
      "text/plain": [
       "<IPython.core.display.HTML object>"
      ]
     },
     "metadata": {},
     "output_type": "display_data"
    },
    {
     "name": "stderr",
     "output_type": "stream",
     "text": [
      "***** Running Prediction *****\n",
      "  Num examples = 1\n",
      "  Batch size = 64\n"
     ]
    },
    {
     "data": {
      "text/html": [],
      "text/plain": [
       "<IPython.core.display.HTML object>"
      ]
     },
     "metadata": {},
     "output_type": "display_data"
    },
    {
     "name": "stderr",
     "output_type": "stream",
     "text": [
      "***** Running Prediction *****\n",
      "  Num examples = 1\n",
      "  Batch size = 64\n"
     ]
    },
    {
     "data": {
      "text/html": [],
      "text/plain": [
       "<IPython.core.display.HTML object>"
      ]
     },
     "metadata": {},
     "output_type": "display_data"
    },
    {
     "name": "stderr",
     "output_type": "stream",
     "text": [
      "***** Running Prediction *****\n",
      "  Num examples = 1\n",
      "  Batch size = 64\n"
     ]
    },
    {
     "data": {
      "text/html": [],
      "text/plain": [
       "<IPython.core.display.HTML object>"
      ]
     },
     "metadata": {},
     "output_type": "display_data"
    },
    {
     "name": "stderr",
     "output_type": "stream",
     "text": [
      "***** Running Prediction *****\n",
      "  Num examples = 1\n",
      "  Batch size = 64\n"
     ]
    },
    {
     "data": {
      "text/html": [],
      "text/plain": [
       "<IPython.core.display.HTML object>"
      ]
     },
     "metadata": {},
     "output_type": "display_data"
    },
    {
     "name": "stderr",
     "output_type": "stream",
     "text": [
      "***** Running Prediction *****\n",
      "  Num examples = 1\n",
      "  Batch size = 64\n"
     ]
    },
    {
     "data": {
      "text/html": [],
      "text/plain": [
       "<IPython.core.display.HTML object>"
      ]
     },
     "metadata": {},
     "output_type": "display_data"
    },
    {
     "name": "stderr",
     "output_type": "stream",
     "text": [
      "***** Running Prediction *****\n",
      "  Num examples = 1\n",
      "  Batch size = 64\n"
     ]
    },
    {
     "data": {
      "text/html": [],
      "text/plain": [
       "<IPython.core.display.HTML object>"
      ]
     },
     "metadata": {},
     "output_type": "display_data"
    },
    {
     "name": "stderr",
     "output_type": "stream",
     "text": [
      "***** Running Prediction *****\n",
      "  Num examples = 1\n",
      "  Batch size = 64\n"
     ]
    },
    {
     "data": {
      "text/html": [],
      "text/plain": [
       "<IPython.core.display.HTML object>"
      ]
     },
     "metadata": {},
     "output_type": "display_data"
    },
    {
     "name": "stderr",
     "output_type": "stream",
     "text": [
      "***** Running Prediction *****\n",
      "  Num examples = 1\n",
      "  Batch size = 64\n"
     ]
    },
    {
     "data": {
      "text/html": [],
      "text/plain": [
       "<IPython.core.display.HTML object>"
      ]
     },
     "metadata": {},
     "output_type": "display_data"
    },
    {
     "name": "stderr",
     "output_type": "stream",
     "text": [
      "***** Running Prediction *****\n",
      "  Num examples = 1\n",
      "  Batch size = 64\n"
     ]
    },
    {
     "data": {
      "text/html": [],
      "text/plain": [
       "<IPython.core.display.HTML object>"
      ]
     },
     "metadata": {},
     "output_type": "display_data"
    },
    {
     "name": "stderr",
     "output_type": "stream",
     "text": [
      "***** Running Prediction *****\n",
      "  Num examples = 1\n",
      "  Batch size = 64\n"
     ]
    },
    {
     "data": {
      "text/html": [],
      "text/plain": [
       "<IPython.core.display.HTML object>"
      ]
     },
     "metadata": {},
     "output_type": "display_data"
    },
    {
     "name": "stderr",
     "output_type": "stream",
     "text": [
      "***** Running Prediction *****\n",
      "  Num examples = 1\n",
      "  Batch size = 64\n"
     ]
    },
    {
     "data": {
      "text/html": [],
      "text/plain": [
       "<IPython.core.display.HTML object>"
      ]
     },
     "metadata": {},
     "output_type": "display_data"
    },
    {
     "name": "stderr",
     "output_type": "stream",
     "text": [
      "***** Running Prediction *****\n",
      "  Num examples = 1\n",
      "  Batch size = 64\n"
     ]
    },
    {
     "data": {
      "text/html": [],
      "text/plain": [
       "<IPython.core.display.HTML object>"
      ]
     },
     "metadata": {},
     "output_type": "display_data"
    },
    {
     "name": "stderr",
     "output_type": "stream",
     "text": [
      "***** Running Prediction *****\n",
      "  Num examples = 1\n",
      "  Batch size = 64\n"
     ]
    },
    {
     "data": {
      "text/html": [],
      "text/plain": [
       "<IPython.core.display.HTML object>"
      ]
     },
     "metadata": {},
     "output_type": "display_data"
    },
    {
     "name": "stderr",
     "output_type": "stream",
     "text": [
      "***** Running Prediction *****\n",
      "  Num examples = 1\n",
      "  Batch size = 64\n"
     ]
    },
    {
     "data": {
      "text/html": [],
      "text/plain": [
       "<IPython.core.display.HTML object>"
      ]
     },
     "metadata": {},
     "output_type": "display_data"
    },
    {
     "name": "stderr",
     "output_type": "stream",
     "text": [
      "***** Running Prediction *****\n",
      "  Num examples = 1\n",
      "  Batch size = 64\n"
     ]
    },
    {
     "data": {
      "text/html": [],
      "text/plain": [
       "<IPython.core.display.HTML object>"
      ]
     },
     "metadata": {},
     "output_type": "display_data"
    },
    {
     "name": "stderr",
     "output_type": "stream",
     "text": [
      "***** Running Prediction *****\n",
      "  Num examples = 1\n",
      "  Batch size = 64\n"
     ]
    },
    {
     "data": {
      "text/html": [],
      "text/plain": [
       "<IPython.core.display.HTML object>"
      ]
     },
     "metadata": {},
     "output_type": "display_data"
    },
    {
     "name": "stderr",
     "output_type": "stream",
     "text": [
      "***** Running Prediction *****\n",
      "  Num examples = 1\n",
      "  Batch size = 64\n"
     ]
    },
    {
     "data": {
      "text/html": [],
      "text/plain": [
       "<IPython.core.display.HTML object>"
      ]
     },
     "metadata": {},
     "output_type": "display_data"
    },
    {
     "name": "stderr",
     "output_type": "stream",
     "text": [
      "***** Running Prediction *****\n",
      "  Num examples = 1\n",
      "  Batch size = 64\n"
     ]
    },
    {
     "data": {
      "text/html": [],
      "text/plain": [
       "<IPython.core.display.HTML object>"
      ]
     },
     "metadata": {},
     "output_type": "display_data"
    },
    {
     "name": "stderr",
     "output_type": "stream",
     "text": [
      "***** Running Prediction *****\n",
      "  Num examples = 1\n",
      "  Batch size = 64\n"
     ]
    },
    {
     "data": {
      "text/html": [],
      "text/plain": [
       "<IPython.core.display.HTML object>"
      ]
     },
     "metadata": {},
     "output_type": "display_data"
    },
    {
     "name": "stderr",
     "output_type": "stream",
     "text": [
      "***** Running Prediction *****\n",
      "  Num examples = 1\n",
      "  Batch size = 64\n"
     ]
    },
    {
     "data": {
      "text/html": [],
      "text/plain": [
       "<IPython.core.display.HTML object>"
      ]
     },
     "metadata": {},
     "output_type": "display_data"
    },
    {
     "name": "stderr",
     "output_type": "stream",
     "text": [
      "***** Running Prediction *****\n",
      "  Num examples = 1\n",
      "  Batch size = 64\n"
     ]
    },
    {
     "data": {
      "text/html": [],
      "text/plain": [
       "<IPython.core.display.HTML object>"
      ]
     },
     "metadata": {},
     "output_type": "display_data"
    },
    {
     "name": "stderr",
     "output_type": "stream",
     "text": [
      "***** Running Prediction *****\n",
      "  Num examples = 1\n",
      "  Batch size = 64\n"
     ]
    },
    {
     "data": {
      "text/html": [],
      "text/plain": [
       "<IPython.core.display.HTML object>"
      ]
     },
     "metadata": {},
     "output_type": "display_data"
    },
    {
     "name": "stderr",
     "output_type": "stream",
     "text": [
      "***** Running Prediction *****\n",
      "  Num examples = 1\n",
      "  Batch size = 64\n"
     ]
    },
    {
     "data": {
      "text/html": [],
      "text/plain": [
       "<IPython.core.display.HTML object>"
      ]
     },
     "metadata": {},
     "output_type": "display_data"
    },
    {
     "name": "stderr",
     "output_type": "stream",
     "text": [
      "***** Running Prediction *****\n",
      "  Num examples = 1\n",
      "  Batch size = 64\n"
     ]
    },
    {
     "data": {
      "text/html": [],
      "text/plain": [
       "<IPython.core.display.HTML object>"
      ]
     },
     "metadata": {},
     "output_type": "display_data"
    },
    {
     "name": "stderr",
     "output_type": "stream",
     "text": [
      "***** Running Prediction *****\n",
      "  Num examples = 1\n",
      "  Batch size = 64\n"
     ]
    },
    {
     "data": {
      "text/html": [],
      "text/plain": [
       "<IPython.core.display.HTML object>"
      ]
     },
     "metadata": {},
     "output_type": "display_data"
    },
    {
     "name": "stderr",
     "output_type": "stream",
     "text": [
      "***** Running Prediction *****\n",
      "  Num examples = 1\n",
      "  Batch size = 64\n"
     ]
    },
    {
     "data": {
      "text/html": [],
      "text/plain": [
       "<IPython.core.display.HTML object>"
      ]
     },
     "metadata": {},
     "output_type": "display_data"
    },
    {
     "name": "stderr",
     "output_type": "stream",
     "text": [
      "***** Running Prediction *****\n",
      "  Num examples = 1\n",
      "  Batch size = 64\n"
     ]
    },
    {
     "data": {
      "text/html": [],
      "text/plain": [
       "<IPython.core.display.HTML object>"
      ]
     },
     "metadata": {},
     "output_type": "display_data"
    },
    {
     "name": "stderr",
     "output_type": "stream",
     "text": [
      "***** Running Prediction *****\n",
      "  Num examples = 1\n",
      "  Batch size = 64\n"
     ]
    },
    {
     "data": {
      "text/html": [],
      "text/plain": [
       "<IPython.core.display.HTML object>"
      ]
     },
     "metadata": {},
     "output_type": "display_data"
    },
    {
     "name": "stderr",
     "output_type": "stream",
     "text": [
      "***** Running Prediction *****\n",
      "  Num examples = 1\n",
      "  Batch size = 64\n"
     ]
    },
    {
     "data": {
      "text/html": [],
      "text/plain": [
       "<IPython.core.display.HTML object>"
      ]
     },
     "metadata": {},
     "output_type": "display_data"
    },
    {
     "name": "stderr",
     "output_type": "stream",
     "text": [
      "***** Running Prediction *****\n",
      "  Num examples = 1\n",
      "  Batch size = 64\n"
     ]
    },
    {
     "data": {
      "text/html": [],
      "text/plain": [
       "<IPython.core.display.HTML object>"
      ]
     },
     "metadata": {},
     "output_type": "display_data"
    },
    {
     "name": "stderr",
     "output_type": "stream",
     "text": [
      "***** Running Prediction *****\n",
      "  Num examples = 1\n",
      "  Batch size = 64\n"
     ]
    },
    {
     "data": {
      "text/html": [],
      "text/plain": [
       "<IPython.core.display.HTML object>"
      ]
     },
     "metadata": {},
     "output_type": "display_data"
    },
    {
     "name": "stderr",
     "output_type": "stream",
     "text": [
      "***** Running Prediction *****\n",
      "  Num examples = 1\n",
      "  Batch size = 64\n"
     ]
    },
    {
     "data": {
      "text/html": [],
      "text/plain": [
       "<IPython.core.display.HTML object>"
      ]
     },
     "metadata": {},
     "output_type": "display_data"
    },
    {
     "name": "stderr",
     "output_type": "stream",
     "text": [
      "***** Running Prediction *****\n",
      "  Num examples = 1\n",
      "  Batch size = 64\n"
     ]
    },
    {
     "data": {
      "text/html": [],
      "text/plain": [
       "<IPython.core.display.HTML object>"
      ]
     },
     "metadata": {},
     "output_type": "display_data"
    },
    {
     "name": "stderr",
     "output_type": "stream",
     "text": [
      "***** Running Prediction *****\n",
      "  Num examples = 1\n",
      "  Batch size = 64\n"
     ]
    },
    {
     "data": {
      "text/html": [],
      "text/plain": [
       "<IPython.core.display.HTML object>"
      ]
     },
     "metadata": {},
     "output_type": "display_data"
    },
    {
     "name": "stderr",
     "output_type": "stream",
     "text": [
      "***** Running Prediction *****\n",
      "  Num examples = 1\n",
      "  Batch size = 64\n"
     ]
    },
    {
     "data": {
      "text/html": [],
      "text/plain": [
       "<IPython.core.display.HTML object>"
      ]
     },
     "metadata": {},
     "output_type": "display_data"
    },
    {
     "name": "stderr",
     "output_type": "stream",
     "text": [
      "***** Running Prediction *****\n",
      "  Num examples = 1\n",
      "  Batch size = 64\n"
     ]
    },
    {
     "data": {
      "text/html": [],
      "text/plain": [
       "<IPython.core.display.HTML object>"
      ]
     },
     "metadata": {},
     "output_type": "display_data"
    },
    {
     "name": "stderr",
     "output_type": "stream",
     "text": [
      "***** Running Prediction *****\n",
      "  Num examples = 1\n",
      "  Batch size = 64\n"
     ]
    },
    {
     "data": {
      "text/html": [],
      "text/plain": [
       "<IPython.core.display.HTML object>"
      ]
     },
     "metadata": {},
     "output_type": "display_data"
    },
    {
     "name": "stderr",
     "output_type": "stream",
     "text": [
      "***** Running Prediction *****\n",
      "  Num examples = 1\n",
      "  Batch size = 64\n"
     ]
    },
    {
     "data": {
      "text/html": [],
      "text/plain": [
       "<IPython.core.display.HTML object>"
      ]
     },
     "metadata": {},
     "output_type": "display_data"
    },
    {
     "name": "stderr",
     "output_type": "stream",
     "text": [
      "***** Running Prediction *****\n",
      "  Num examples = 1\n",
      "  Batch size = 64\n"
     ]
    },
    {
     "data": {
      "text/html": [],
      "text/plain": [
       "<IPython.core.display.HTML object>"
      ]
     },
     "metadata": {},
     "output_type": "display_data"
    },
    {
     "name": "stderr",
     "output_type": "stream",
     "text": [
      "***** Running Prediction *****\n",
      "  Num examples = 1\n",
      "  Batch size = 64\n"
     ]
    },
    {
     "data": {
      "text/html": [],
      "text/plain": [
       "<IPython.core.display.HTML object>"
      ]
     },
     "metadata": {},
     "output_type": "display_data"
    },
    {
     "name": "stderr",
     "output_type": "stream",
     "text": [
      "***** Running Prediction *****\n",
      "  Num examples = 1\n",
      "  Batch size = 64\n"
     ]
    },
    {
     "data": {
      "text/html": [],
      "text/plain": [
       "<IPython.core.display.HTML object>"
      ]
     },
     "metadata": {},
     "output_type": "display_data"
    },
    {
     "name": "stderr",
     "output_type": "stream",
     "text": [
      "***** Running Prediction *****\n",
      "  Num examples = 1\n",
      "  Batch size = 64\n"
     ]
    },
    {
     "data": {
      "text/html": [],
      "text/plain": [
       "<IPython.core.display.HTML object>"
      ]
     },
     "metadata": {},
     "output_type": "display_data"
    },
    {
     "name": "stderr",
     "output_type": "stream",
     "text": [
      "***** Running Prediction *****\n",
      "  Num examples = 1\n",
      "  Batch size = 64\n"
     ]
    },
    {
     "data": {
      "text/html": [],
      "text/plain": [
       "<IPython.core.display.HTML object>"
      ]
     },
     "metadata": {},
     "output_type": "display_data"
    },
    {
     "name": "stderr",
     "output_type": "stream",
     "text": [
      "***** Running Prediction *****\n",
      "  Num examples = 1\n",
      "  Batch size = 64\n"
     ]
    },
    {
     "data": {
      "text/html": [],
      "text/plain": [
       "<IPython.core.display.HTML object>"
      ]
     },
     "metadata": {},
     "output_type": "display_data"
    },
    {
     "name": "stderr",
     "output_type": "stream",
     "text": [
      "***** Running Prediction *****\n",
      "  Num examples = 1\n",
      "  Batch size = 64\n"
     ]
    },
    {
     "data": {
      "text/html": [],
      "text/plain": [
       "<IPython.core.display.HTML object>"
      ]
     },
     "metadata": {},
     "output_type": "display_data"
    },
    {
     "name": "stderr",
     "output_type": "stream",
     "text": [
      "***** Running Prediction *****\n",
      "  Num examples = 1\n",
      "  Batch size = 64\n"
     ]
    },
    {
     "data": {
      "text/html": [],
      "text/plain": [
       "<IPython.core.display.HTML object>"
      ]
     },
     "metadata": {},
     "output_type": "display_data"
    },
    {
     "name": "stderr",
     "output_type": "stream",
     "text": [
      "***** Running Prediction *****\n",
      "  Num examples = 1\n",
      "  Batch size = 64\n"
     ]
    },
    {
     "data": {
      "text/html": [],
      "text/plain": [
       "<IPython.core.display.HTML object>"
      ]
     },
     "metadata": {},
     "output_type": "display_data"
    },
    {
     "name": "stderr",
     "output_type": "stream",
     "text": [
      "***** Running Prediction *****\n",
      "  Num examples = 1\n",
      "  Batch size = 64\n"
     ]
    },
    {
     "data": {
      "text/html": [],
      "text/plain": [
       "<IPython.core.display.HTML object>"
      ]
     },
     "metadata": {},
     "output_type": "display_data"
    },
    {
     "name": "stderr",
     "output_type": "stream",
     "text": [
      "C:\\Users\\2151399\\AppData\\Local\\Temp\\2\\ipykernel_76\\2978018526.py:16: FutureWarning: The frame.append method is deprecated and will be removed from pandas in a future version. Use pandas.concat instead.\n",
      "  df = df.append(df2, ignore_index = True)\n",
      "C:\\Users\\2151399\\AppData\\Local\\Temp\\2\\ipykernel_76\\2978018526.py:16: FutureWarning: The frame.append method is deprecated and will be removed from pandas in a future version. Use pandas.concat instead.\n",
      "  df = df.append(df2, ignore_index = True)\n",
      "C:\\Users\\2151399\\AppData\\Local\\Temp\\2\\ipykernel_76\\2978018526.py:16: FutureWarning: The frame.append method is deprecated and will be removed from pandas in a future version. Use pandas.concat instead.\n",
      "  df = df.append(df2, ignore_index = True)\n",
      "C:\\Users\\2151399\\AppData\\Local\\Temp\\2\\ipykernel_76\\2978018526.py:16: FutureWarning: The frame.append method is deprecated and will be removed from pandas in a future version. Use pandas.concat instead.\n",
      "  df = df.append(df2, ignore_index = True)\n",
      "C:\\Users\\2151399\\AppData\\Local\\Temp\\2\\ipykernel_76\\2978018526.py:16: FutureWarning: The frame.append method is deprecated and will be removed from pandas in a future version. Use pandas.concat instead.\n",
      "  df = df.append(df2, ignore_index = True)\n",
      "C:\\Users\\2151399\\AppData\\Local\\Temp\\2\\ipykernel_76\\2978018526.py:16: FutureWarning: The frame.append method is deprecated and will be removed from pandas in a future version. Use pandas.concat instead.\n",
      "  df = df.append(df2, ignore_index = True)\n",
      "C:\\Users\\2151399\\AppData\\Local\\Temp\\2\\ipykernel_76\\2978018526.py:16: FutureWarning: The frame.append method is deprecated and will be removed from pandas in a future version. Use pandas.concat instead.\n",
      "  df = df.append(df2, ignore_index = True)\n",
      "C:\\Users\\2151399\\AppData\\Local\\Temp\\2\\ipykernel_76\\2978018526.py:16: FutureWarning: The frame.append method is deprecated and will be removed from pandas in a future version. Use pandas.concat instead.\n",
      "  df = df.append(df2, ignore_index = True)\n",
      "C:\\Users\\2151399\\AppData\\Local\\Temp\\2\\ipykernel_76\\2978018526.py:16: FutureWarning: The frame.append method is deprecated and will be removed from pandas in a future version. Use pandas.concat instead.\n",
      "  df = df.append(df2, ignore_index = True)\n",
      "C:\\Users\\2151399\\AppData\\Local\\Temp\\2\\ipykernel_76\\2978018526.py:16: FutureWarning: The frame.append method is deprecated and will be removed from pandas in a future version. Use pandas.concat instead.\n",
      "  df = df.append(df2, ignore_index = True)\n",
      "C:\\Users\\2151399\\AppData\\Local\\Temp\\2\\ipykernel_76\\2978018526.py:16: FutureWarning: The frame.append method is deprecated and will be removed from pandas in a future version. Use pandas.concat instead.\n",
      "  df = df.append(df2, ignore_index = True)\n",
      "C:\\Users\\2151399\\AppData\\Local\\Temp\\2\\ipykernel_76\\2978018526.py:16: FutureWarning: The frame.append method is deprecated and will be removed from pandas in a future version. Use pandas.concat instead.\n",
      "  df = df.append(df2, ignore_index = True)\n",
      "C:\\Users\\2151399\\AppData\\Local\\Temp\\2\\ipykernel_76\\2978018526.py:16: FutureWarning: The frame.append method is deprecated and will be removed from pandas in a future version. Use pandas.concat instead.\n",
      "  df = df.append(df2, ignore_index = True)\n",
      "C:\\Users\\2151399\\AppData\\Local\\Temp\\2\\ipykernel_76\\2978018526.py:16: FutureWarning: The frame.append method is deprecated and will be removed from pandas in a future version. Use pandas.concat instead.\n",
      "  df = df.append(df2, ignore_index = True)\n",
      "C:\\Users\\2151399\\AppData\\Local\\Temp\\2\\ipykernel_76\\2978018526.py:16: FutureWarning: The frame.append method is deprecated and will be removed from pandas in a future version. Use pandas.concat instead.\n",
      "  df = df.append(df2, ignore_index = True)\n",
      "C:\\Users\\2151399\\AppData\\Local\\Temp\\2\\ipykernel_76\\2978018526.py:16: FutureWarning: The frame.append method is deprecated and will be removed from pandas in a future version. Use pandas.concat instead.\n",
      "  df = df.append(df2, ignore_index = True)\n",
      "C:\\Users\\2151399\\AppData\\Local\\Temp\\2\\ipykernel_76\\2978018526.py:16: FutureWarning: The frame.append method is deprecated and will be removed from pandas in a future version. Use pandas.concat instead.\n",
      "  df = df.append(df2, ignore_index = True)\n",
      "C:\\Users\\2151399\\AppData\\Local\\Temp\\2\\ipykernel_76\\2978018526.py:16: FutureWarning: The frame.append method is deprecated and will be removed from pandas in a future version. Use pandas.concat instead.\n",
      "  df = df.append(df2, ignore_index = True)\n",
      "C:\\Users\\2151399\\AppData\\Local\\Temp\\2\\ipykernel_76\\2978018526.py:16: FutureWarning: The frame.append method is deprecated and will be removed from pandas in a future version. Use pandas.concat instead.\n",
      "  df = df.append(df2, ignore_index = True)\n",
      "C:\\Users\\2151399\\AppData\\Local\\Temp\\2\\ipykernel_76\\2978018526.py:16: FutureWarning: The frame.append method is deprecated and will be removed from pandas in a future version. Use pandas.concat instead.\n",
      "  df = df.append(df2, ignore_index = True)\n",
      "C:\\Users\\2151399\\AppData\\Local\\Temp\\2\\ipykernel_76\\2978018526.py:16: FutureWarning: The frame.append method is deprecated and will be removed from pandas in a future version. Use pandas.concat instead.\n",
      "  df = df.append(df2, ignore_index = True)\n",
      "C:\\Users\\2151399\\AppData\\Local\\Temp\\2\\ipykernel_76\\2978018526.py:16: FutureWarning: The frame.append method is deprecated and will be removed from pandas in a future version. Use pandas.concat instead.\n",
      "  df = df.append(df2, ignore_index = True)\n",
      "C:\\Users\\2151399\\AppData\\Local\\Temp\\2\\ipykernel_76\\2978018526.py:16: FutureWarning: The frame.append method is deprecated and will be removed from pandas in a future version. Use pandas.concat instead.\n",
      "  df = df.append(df2, ignore_index = True)\n",
      "C:\\Users\\2151399\\AppData\\Local\\Temp\\2\\ipykernel_76\\2978018526.py:16: FutureWarning: The frame.append method is deprecated and will be removed from pandas in a future version. Use pandas.concat instead.\n",
      "  df = df.append(df2, ignore_index = True)\n",
      "C:\\Users\\2151399\\AppData\\Local\\Temp\\2\\ipykernel_76\\2978018526.py:16: FutureWarning: The frame.append method is deprecated and will be removed from pandas in a future version. Use pandas.concat instead.\n",
      "  df = df.append(df2, ignore_index = True)\n",
      "C:\\Users\\2151399\\AppData\\Local\\Temp\\2\\ipykernel_76\\2978018526.py:16: FutureWarning: The frame.append method is deprecated and will be removed from pandas in a future version. Use pandas.concat instead.\n",
      "  df = df.append(df2, ignore_index = True)\n",
      "C:\\Users\\2151399\\AppData\\Local\\Temp\\2\\ipykernel_76\\2978018526.py:16: FutureWarning: The frame.append method is deprecated and will be removed from pandas in a future version. Use pandas.concat instead.\n",
      "  df = df.append(df2, ignore_index = True)\n",
      "C:\\Users\\2151399\\AppData\\Local\\Temp\\2\\ipykernel_76\\2978018526.py:16: FutureWarning: The frame.append method is deprecated and will be removed from pandas in a future version. Use pandas.concat instead.\n",
      "  df = df.append(df2, ignore_index = True)\n",
      "C:\\Users\\2151399\\AppData\\Local\\Temp\\2\\ipykernel_76\\2978018526.py:16: FutureWarning: The frame.append method is deprecated and will be removed from pandas in a future version. Use pandas.concat instead.\n",
      "  df = df.append(df2, ignore_index = True)\n",
      "C:\\Users\\2151399\\AppData\\Local\\Temp\\2\\ipykernel_76\\2978018526.py:16: FutureWarning: The frame.append method is deprecated and will be removed from pandas in a future version. Use pandas.concat instead.\n",
      "  df = df.append(df2, ignore_index = True)\n",
      "C:\\Users\\2151399\\AppData\\Local\\Temp\\2\\ipykernel_76\\2978018526.py:16: FutureWarning: The frame.append method is deprecated and will be removed from pandas in a future version. Use pandas.concat instead.\n",
      "  df = df.append(df2, ignore_index = True)\n",
      "C:\\Users\\2151399\\AppData\\Local\\Temp\\2\\ipykernel_76\\2978018526.py:16: FutureWarning: The frame.append method is deprecated and will be removed from pandas in a future version. Use pandas.concat instead.\n",
      "  df = df.append(df2, ignore_index = True)\n",
      "C:\\Users\\2151399\\AppData\\Local\\Temp\\2\\ipykernel_76\\2978018526.py:16: FutureWarning: The frame.append method is deprecated and will be removed from pandas in a future version. Use pandas.concat instead.\n",
      "  df = df.append(df2, ignore_index = True)\n",
      "C:\\Users\\2151399\\AppData\\Local\\Temp\\2\\ipykernel_76\\2978018526.py:16: FutureWarning: The frame.append method is deprecated and will be removed from pandas in a future version. Use pandas.concat instead.\n",
      "  df = df.append(df2, ignore_index = True)\n",
      "C:\\Users\\2151399\\AppData\\Local\\Temp\\2\\ipykernel_76\\2978018526.py:16: FutureWarning: The frame.append method is deprecated and will be removed from pandas in a future version. Use pandas.concat instead.\n",
      "  df = df.append(df2, ignore_index = True)\n"
     ]
    },
    {
     "name": "stderr",
     "output_type": "stream",
     "text": [
      "C:\\Users\\2151399\\AppData\\Local\\Temp\\2\\ipykernel_76\\2978018526.py:16: FutureWarning: The frame.append method is deprecated and will be removed from pandas in a future version. Use pandas.concat instead.\n",
      "  df = df.append(df2, ignore_index = True)\n",
      "C:\\Users\\2151399\\AppData\\Local\\Temp\\2\\ipykernel_76\\2978018526.py:16: FutureWarning: The frame.append method is deprecated and will be removed from pandas in a future version. Use pandas.concat instead.\n",
      "  df = df.append(df2, ignore_index = True)\n",
      "C:\\Users\\2151399\\AppData\\Local\\Temp\\2\\ipykernel_76\\2978018526.py:16: FutureWarning: The frame.append method is deprecated and will be removed from pandas in a future version. Use pandas.concat instead.\n",
      "  df = df.append(df2, ignore_index = True)\n",
      "C:\\Users\\2151399\\AppData\\Local\\Temp\\2\\ipykernel_76\\2978018526.py:16: FutureWarning: The frame.append method is deprecated and will be removed from pandas in a future version. Use pandas.concat instead.\n",
      "  df = df.append(df2, ignore_index = True)\n",
      "C:\\Users\\2151399\\AppData\\Local\\Temp\\2\\ipykernel_76\\2978018526.py:16: FutureWarning: The frame.append method is deprecated and will be removed from pandas in a future version. Use pandas.concat instead.\n",
      "  df = df.append(df2, ignore_index = True)\n",
      "C:\\Users\\2151399\\AppData\\Local\\Temp\\2\\ipykernel_76\\2978018526.py:16: FutureWarning: The frame.append method is deprecated and will be removed from pandas in a future version. Use pandas.concat instead.\n",
      "  df = df.append(df2, ignore_index = True)\n",
      "C:\\Users\\2151399\\AppData\\Local\\Temp\\2\\ipykernel_76\\2978018526.py:16: FutureWarning: The frame.append method is deprecated and will be removed from pandas in a future version. Use pandas.concat instead.\n",
      "  df = df.append(df2, ignore_index = True)\n",
      "C:\\Users\\2151399\\AppData\\Local\\Temp\\2\\ipykernel_76\\2978018526.py:16: FutureWarning: The frame.append method is deprecated and will be removed from pandas in a future version. Use pandas.concat instead.\n",
      "  df = df.append(df2, ignore_index = True)\n",
      "C:\\Users\\2151399\\AppData\\Local\\Temp\\2\\ipykernel_76\\2978018526.py:16: FutureWarning: The frame.append method is deprecated and will be removed from pandas in a future version. Use pandas.concat instead.\n",
      "  df = df.append(df2, ignore_index = True)\n",
      "C:\\Users\\2151399\\AppData\\Local\\Temp\\2\\ipykernel_76\\2978018526.py:16: FutureWarning: The frame.append method is deprecated and will be removed from pandas in a future version. Use pandas.concat instead.\n",
      "  df = df.append(df2, ignore_index = True)\n",
      "C:\\Users\\2151399\\AppData\\Local\\Temp\\2\\ipykernel_76\\2978018526.py:16: FutureWarning: The frame.append method is deprecated and will be removed from pandas in a future version. Use pandas.concat instead.\n",
      "  df = df.append(df2, ignore_index = True)\n",
      "C:\\Users\\2151399\\AppData\\Local\\Temp\\2\\ipykernel_76\\2978018526.py:16: FutureWarning: The frame.append method is deprecated and will be removed from pandas in a future version. Use pandas.concat instead.\n",
      "  df = df.append(df2, ignore_index = True)\n",
      "C:\\Users\\2151399\\AppData\\Local\\Temp\\2\\ipykernel_76\\2978018526.py:16: FutureWarning: The frame.append method is deprecated and will be removed from pandas in a future version. Use pandas.concat instead.\n",
      "  df = df.append(df2, ignore_index = True)\n",
      "C:\\Users\\2151399\\AppData\\Local\\Temp\\2\\ipykernel_76\\2978018526.py:16: FutureWarning: The frame.append method is deprecated and will be removed from pandas in a future version. Use pandas.concat instead.\n",
      "  df = df.append(df2, ignore_index = True)\n",
      "C:\\Users\\2151399\\AppData\\Local\\Temp\\2\\ipykernel_76\\2978018526.py:16: FutureWarning: The frame.append method is deprecated and will be removed from pandas in a future version. Use pandas.concat instead.\n",
      "  df = df.append(df2, ignore_index = True)\n",
      "C:\\Users\\2151399\\AppData\\Local\\Temp\\2\\ipykernel_76\\2978018526.py:16: FutureWarning: The frame.append method is deprecated and will be removed from pandas in a future version. Use pandas.concat instead.\n",
      "  df = df.append(df2, ignore_index = True)\n",
      "C:\\Users\\2151399\\AppData\\Local\\Temp\\2\\ipykernel_76\\2978018526.py:16: FutureWarning: The frame.append method is deprecated and will be removed from pandas in a future version. Use pandas.concat instead.\n",
      "  df = df.append(df2, ignore_index = True)\n",
      "C:\\Users\\2151399\\AppData\\Local\\Temp\\2\\ipykernel_76\\2978018526.py:16: FutureWarning: The frame.append method is deprecated and will be removed from pandas in a future version. Use pandas.concat instead.\n",
      "  df = df.append(df2, ignore_index = True)\n",
      "C:\\Users\\2151399\\AppData\\Local\\Temp\\2\\ipykernel_76\\2978018526.py:16: FutureWarning: The frame.append method is deprecated and will be removed from pandas in a future version. Use pandas.concat instead.\n",
      "  df = df.append(df2, ignore_index = True)\n",
      "C:\\Users\\2151399\\AppData\\Local\\Temp\\2\\ipykernel_76\\2978018526.py:16: FutureWarning: The frame.append method is deprecated and will be removed from pandas in a future version. Use pandas.concat instead.\n",
      "  df = df.append(df2, ignore_index = True)\n",
      "C:\\Users\\2151399\\AppData\\Local\\Temp\\2\\ipykernel_76\\2978018526.py:16: FutureWarning: The frame.append method is deprecated and will be removed from pandas in a future version. Use pandas.concat instead.\n",
      "  df = df.append(df2, ignore_index = True)\n",
      "C:\\Users\\2151399\\AppData\\Local\\Temp\\2\\ipykernel_76\\2978018526.py:16: FutureWarning: The frame.append method is deprecated and will be removed from pandas in a future version. Use pandas.concat instead.\n",
      "  df = df.append(df2, ignore_index = True)\n",
      "C:\\Users\\2151399\\AppData\\Local\\Temp\\2\\ipykernel_76\\2978018526.py:16: FutureWarning: The frame.append method is deprecated and will be removed from pandas in a future version. Use pandas.concat instead.\n",
      "  df = df.append(df2, ignore_index = True)\n",
      "C:\\Users\\2151399\\AppData\\Local\\Temp\\2\\ipykernel_76\\2978018526.py:16: FutureWarning: The frame.append method is deprecated and will be removed from pandas in a future version. Use pandas.concat instead.\n",
      "  df = df.append(df2, ignore_index = True)\n",
      "C:\\Users\\2151399\\AppData\\Local\\Temp\\2\\ipykernel_76\\2978018526.py:16: FutureWarning: The frame.append method is deprecated and will be removed from pandas in a future version. Use pandas.concat instead.\n",
      "  df = df.append(df2, ignore_index = True)\n",
      "C:\\Users\\2151399\\AppData\\Local\\Temp\\2\\ipykernel_76\\2978018526.py:16: FutureWarning: The frame.append method is deprecated and will be removed from pandas in a future version. Use pandas.concat instead.\n",
      "  df = df.append(df2, ignore_index = True)\n",
      "C:\\Users\\2151399\\AppData\\Local\\Temp\\2\\ipykernel_76\\2978018526.py:16: FutureWarning: The frame.append method is deprecated and will be removed from pandas in a future version. Use pandas.concat instead.\n",
      "  df = df.append(df2, ignore_index = True)\n",
      "C:\\Users\\2151399\\AppData\\Local\\Temp\\2\\ipykernel_76\\2978018526.py:16: FutureWarning: The frame.append method is deprecated and will be removed from pandas in a future version. Use pandas.concat instead.\n",
      "  df = df.append(df2, ignore_index = True)\n",
      "C:\\Users\\2151399\\AppData\\Local\\Temp\\2\\ipykernel_76\\2978018526.py:16: FutureWarning: The frame.append method is deprecated and will be removed from pandas in a future version. Use pandas.concat instead.\n",
      "  df = df.append(df2, ignore_index = True)\n",
      "C:\\Users\\2151399\\AppData\\Local\\Temp\\2\\ipykernel_76\\2978018526.py:16: FutureWarning: The frame.append method is deprecated and will be removed from pandas in a future version. Use pandas.concat instead.\n",
      "  df = df.append(df2, ignore_index = True)\n",
      "C:\\Users\\2151399\\AppData\\Local\\Temp\\2\\ipykernel_76\\2978018526.py:16: FutureWarning: The frame.append method is deprecated and will be removed from pandas in a future version. Use pandas.concat instead.\n",
      "  df = df.append(df2, ignore_index = True)\n",
      "C:\\Users\\2151399\\AppData\\Local\\Temp\\2\\ipykernel_76\\2978018526.py:16: FutureWarning: The frame.append method is deprecated and will be removed from pandas in a future version. Use pandas.concat instead.\n",
      "  df = df.append(df2, ignore_index = True)\n",
      "C:\\Users\\2151399\\AppData\\Local\\Temp\\2\\ipykernel_76\\2978018526.py:16: FutureWarning: The frame.append method is deprecated and will be removed from pandas in a future version. Use pandas.concat instead.\n",
      "  df = df.append(df2, ignore_index = True)\n",
      "C:\\Users\\2151399\\AppData\\Local\\Temp\\2\\ipykernel_76\\2978018526.py:16: FutureWarning: The frame.append method is deprecated and will be removed from pandas in a future version. Use pandas.concat instead.\n",
      "  df = df.append(df2, ignore_index = True)\n"
     ]
    },
    {
     "name": "stderr",
     "output_type": "stream",
     "text": [
      "C:\\Users\\2151399\\AppData\\Local\\Temp\\2\\ipykernel_76\\2978018526.py:16: FutureWarning: The frame.append method is deprecated and will be removed from pandas in a future version. Use pandas.concat instead.\n",
      "  df = df.append(df2, ignore_index = True)\n",
      "C:\\Users\\2151399\\AppData\\Local\\Temp\\2\\ipykernel_76\\2978018526.py:16: FutureWarning: The frame.append method is deprecated and will be removed from pandas in a future version. Use pandas.concat instead.\n",
      "  df = df.append(df2, ignore_index = True)\n",
      "C:\\Users\\2151399\\AppData\\Local\\Temp\\2\\ipykernel_76\\2978018526.py:16: FutureWarning: The frame.append method is deprecated and will be removed from pandas in a future version. Use pandas.concat instead.\n",
      "  df = df.append(df2, ignore_index = True)\n",
      "C:\\Users\\2151399\\AppData\\Local\\Temp\\2\\ipykernel_76\\2978018526.py:16: FutureWarning: The frame.append method is deprecated and will be removed from pandas in a future version. Use pandas.concat instead.\n",
      "  df = df.append(df2, ignore_index = True)\n",
      "C:\\Users\\2151399\\AppData\\Local\\Temp\\2\\ipykernel_76\\2978018526.py:16: FutureWarning: The frame.append method is deprecated and will be removed from pandas in a future version. Use pandas.concat instead.\n",
      "  df = df.append(df2, ignore_index = True)\n",
      "C:\\Users\\2151399\\AppData\\Local\\Temp\\2\\ipykernel_76\\2978018526.py:16: FutureWarning: The frame.append method is deprecated and will be removed from pandas in a future version. Use pandas.concat instead.\n",
      "  df = df.append(df2, ignore_index = True)\n",
      "C:\\Users\\2151399\\AppData\\Local\\Temp\\2\\ipykernel_76\\2978018526.py:16: FutureWarning: The frame.append method is deprecated and will be removed from pandas in a future version. Use pandas.concat instead.\n",
      "  df = df.append(df2, ignore_index = True)\n",
      "C:\\Users\\2151399\\AppData\\Local\\Temp\\2\\ipykernel_76\\2978018526.py:16: FutureWarning: The frame.append method is deprecated and will be removed from pandas in a future version. Use pandas.concat instead.\n",
      "  df = df.append(df2, ignore_index = True)\n",
      "C:\\Users\\2151399\\AppData\\Local\\Temp\\2\\ipykernel_76\\2978018526.py:16: FutureWarning: The frame.append method is deprecated and will be removed from pandas in a future version. Use pandas.concat instead.\n",
      "  df = df.append(df2, ignore_index = True)\n",
      "C:\\Users\\2151399\\AppData\\Local\\Temp\\2\\ipykernel_76\\2978018526.py:16: FutureWarning: The frame.append method is deprecated and will be removed from pandas in a future version. Use pandas.concat instead.\n",
      "  df = df.append(df2, ignore_index = True)\n",
      "C:\\Users\\2151399\\AppData\\Local\\Temp\\2\\ipykernel_76\\2978018526.py:16: FutureWarning: The frame.append method is deprecated and will be removed from pandas in a future version. Use pandas.concat instead.\n",
      "  df = df.append(df2, ignore_index = True)\n",
      "C:\\Users\\2151399\\AppData\\Local\\Temp\\2\\ipykernel_76\\2978018526.py:16: FutureWarning: The frame.append method is deprecated and will be removed from pandas in a future version. Use pandas.concat instead.\n",
      "  df = df.append(df2, ignore_index = True)\n",
      "C:\\Users\\2151399\\AppData\\Local\\Temp\\2\\ipykernel_76\\2978018526.py:16: FutureWarning: The frame.append method is deprecated and will be removed from pandas in a future version. Use pandas.concat instead.\n",
      "  df = df.append(df2, ignore_index = True)\n",
      "C:\\Users\\2151399\\AppData\\Local\\Temp\\2\\ipykernel_76\\2978018526.py:16: FutureWarning: The frame.append method is deprecated and will be removed from pandas in a future version. Use pandas.concat instead.\n",
      "  df = df.append(df2, ignore_index = True)\n",
      "C:\\Users\\2151399\\AppData\\Local\\Temp\\2\\ipykernel_76\\2978018526.py:16: FutureWarning: The frame.append method is deprecated and will be removed from pandas in a future version. Use pandas.concat instead.\n",
      "  df = df.append(df2, ignore_index = True)\n",
      "C:\\Users\\2151399\\AppData\\Local\\Temp\\2\\ipykernel_76\\2978018526.py:16: FutureWarning: The frame.append method is deprecated and will be removed from pandas in a future version. Use pandas.concat instead.\n",
      "  df = df.append(df2, ignore_index = True)\n",
      "C:\\Users\\2151399\\AppData\\Local\\Temp\\2\\ipykernel_76\\2978018526.py:16: FutureWarning: The frame.append method is deprecated and will be removed from pandas in a future version. Use pandas.concat instead.\n",
      "  df = df.append(df2, ignore_index = True)\n",
      "C:\\Users\\2151399\\AppData\\Local\\Temp\\2\\ipykernel_76\\2978018526.py:16: FutureWarning: The frame.append method is deprecated and will be removed from pandas in a future version. Use pandas.concat instead.\n",
      "  df = df.append(df2, ignore_index = True)\n",
      "C:\\Users\\2151399\\AppData\\Local\\Temp\\2\\ipykernel_76\\2978018526.py:16: FutureWarning: The frame.append method is deprecated and will be removed from pandas in a future version. Use pandas.concat instead.\n",
      "  df = df.append(df2, ignore_index = True)\n",
      "C:\\Users\\2151399\\AppData\\Local\\Temp\\2\\ipykernel_76\\2978018526.py:16: FutureWarning: The frame.append method is deprecated and will be removed from pandas in a future version. Use pandas.concat instead.\n",
      "  df = df.append(df2, ignore_index = True)\n",
      "C:\\Users\\2151399\\AppData\\Local\\Temp\\2\\ipykernel_76\\2978018526.py:16: FutureWarning: The frame.append method is deprecated and will be removed from pandas in a future version. Use pandas.concat instead.\n",
      "  df = df.append(df2, ignore_index = True)\n",
      "C:\\Users\\2151399\\AppData\\Local\\Temp\\2\\ipykernel_76\\2978018526.py:16: FutureWarning: The frame.append method is deprecated and will be removed from pandas in a future version. Use pandas.concat instead.\n",
      "  df = df.append(df2, ignore_index = True)\n",
      "C:\\Users\\2151399\\AppData\\Local\\Temp\\2\\ipykernel_76\\2978018526.py:16: FutureWarning: The frame.append method is deprecated and will be removed from pandas in a future version. Use pandas.concat instead.\n",
      "  df = df.append(df2, ignore_index = True)\n",
      "C:\\Users\\2151399\\AppData\\Local\\Temp\\2\\ipykernel_76\\2978018526.py:16: FutureWarning: The frame.append method is deprecated and will be removed from pandas in a future version. Use pandas.concat instead.\n",
      "  df = df.append(df2, ignore_index = True)\n",
      "C:\\Users\\2151399\\AppData\\Local\\Temp\\2\\ipykernel_76\\2978018526.py:16: FutureWarning: The frame.append method is deprecated and will be removed from pandas in a future version. Use pandas.concat instead.\n",
      "  df = df.append(df2, ignore_index = True)\n",
      "C:\\Users\\2151399\\AppData\\Local\\Temp\\2\\ipykernel_76\\2978018526.py:16: FutureWarning: The frame.append method is deprecated and will be removed from pandas in a future version. Use pandas.concat instead.\n",
      "  df = df.append(df2, ignore_index = True)\n",
      "C:\\Users\\2151399\\AppData\\Local\\Temp\\2\\ipykernel_76\\2978018526.py:16: FutureWarning: The frame.append method is deprecated and will be removed from pandas in a future version. Use pandas.concat instead.\n",
      "  df = df.append(df2, ignore_index = True)\n",
      "C:\\Users\\2151399\\AppData\\Local\\Temp\\2\\ipykernel_76\\2978018526.py:16: FutureWarning: The frame.append method is deprecated and will be removed from pandas in a future version. Use pandas.concat instead.\n",
      "  df = df.append(df2, ignore_index = True)\n",
      "C:\\Users\\2151399\\AppData\\Local\\Temp\\2\\ipykernel_76\\2978018526.py:16: FutureWarning: The frame.append method is deprecated and will be removed from pandas in a future version. Use pandas.concat instead.\n",
      "  df = df.append(df2, ignore_index = True)\n",
      "C:\\Users\\2151399\\AppData\\Local\\Temp\\2\\ipykernel_76\\2978018526.py:16: FutureWarning: The frame.append method is deprecated and will be removed from pandas in a future version. Use pandas.concat instead.\n",
      "  df = df.append(df2, ignore_index = True)\n",
      "C:\\Users\\2151399\\AppData\\Local\\Temp\\2\\ipykernel_76\\2978018526.py:16: FutureWarning: The frame.append method is deprecated and will be removed from pandas in a future version. Use pandas.concat instead.\n",
      "  df = df.append(df2, ignore_index = True)\n",
      "C:\\Users\\2151399\\AppData\\Local\\Temp\\2\\ipykernel_76\\2978018526.py:16: FutureWarning: The frame.append method is deprecated and will be removed from pandas in a future version. Use pandas.concat instead.\n",
      "  df = df.append(df2, ignore_index = True)\n",
      "C:\\Users\\2151399\\AppData\\Local\\Temp\\2\\ipykernel_76\\2978018526.py:16: FutureWarning: The frame.append method is deprecated and will be removed from pandas in a future version. Use pandas.concat instead.\n",
      "  df = df.append(df2, ignore_index = True)\n",
      "C:\\Users\\2151399\\AppData\\Local\\Temp\\2\\ipykernel_76\\2978018526.py:16: FutureWarning: The frame.append method is deprecated and will be removed from pandas in a future version. Use pandas.concat instead.\n",
      "  df = df.append(df2, ignore_index = True)\n"
     ]
    },
    {
     "name": "stderr",
     "output_type": "stream",
     "text": [
      "C:\\Users\\2151399\\AppData\\Local\\Temp\\2\\ipykernel_76\\2978018526.py:16: FutureWarning: The frame.append method is deprecated and will be removed from pandas in a future version. Use pandas.concat instead.\n",
      "  df = df.append(df2, ignore_index = True)\n",
      "C:\\Users\\2151399\\AppData\\Local\\Temp\\2\\ipykernel_76\\2978018526.py:16: FutureWarning: The frame.append method is deprecated and will be removed from pandas in a future version. Use pandas.concat instead.\n",
      "  df = df.append(df2, ignore_index = True)\n",
      "C:\\Users\\2151399\\AppData\\Local\\Temp\\2\\ipykernel_76\\2978018526.py:16: FutureWarning: The frame.append method is deprecated and will be removed from pandas in a future version. Use pandas.concat instead.\n",
      "  df = df.append(df2, ignore_index = True)\n",
      "C:\\Users\\2151399\\AppData\\Local\\Temp\\2\\ipykernel_76\\2978018526.py:16: FutureWarning: The frame.append method is deprecated and will be removed from pandas in a future version. Use pandas.concat instead.\n",
      "  df = df.append(df2, ignore_index = True)\n",
      "C:\\Users\\2151399\\AppData\\Local\\Temp\\2\\ipykernel_76\\2978018526.py:16: FutureWarning: The frame.append method is deprecated and will be removed from pandas in a future version. Use pandas.concat instead.\n",
      "  df = df.append(df2, ignore_index = True)\n",
      "C:\\Users\\2151399\\AppData\\Local\\Temp\\2\\ipykernel_76\\2978018526.py:16: FutureWarning: The frame.append method is deprecated and will be removed from pandas in a future version. Use pandas.concat instead.\n",
      "  df = df.append(df2, ignore_index = True)\n",
      "C:\\Users\\2151399\\AppData\\Local\\Temp\\2\\ipykernel_76\\2978018526.py:16: FutureWarning: The frame.append method is deprecated and will be removed from pandas in a future version. Use pandas.concat instead.\n",
      "  df = df.append(df2, ignore_index = True)\n",
      "C:\\Users\\2151399\\AppData\\Local\\Temp\\2\\ipykernel_76\\2978018526.py:16: FutureWarning: The frame.append method is deprecated and will be removed from pandas in a future version. Use pandas.concat instead.\n",
      "  df = df.append(df2, ignore_index = True)\n",
      "C:\\Users\\2151399\\AppData\\Local\\Temp\\2\\ipykernel_76\\2978018526.py:16: FutureWarning: The frame.append method is deprecated and will be removed from pandas in a future version. Use pandas.concat instead.\n",
      "  df = df.append(df2, ignore_index = True)\n",
      "C:\\Users\\2151399\\AppData\\Local\\Temp\\2\\ipykernel_76\\2978018526.py:16: FutureWarning: The frame.append method is deprecated and will be removed from pandas in a future version. Use pandas.concat instead.\n",
      "  df = df.append(df2, ignore_index = True)\n",
      "C:\\Users\\2151399\\AppData\\Local\\Temp\\2\\ipykernel_76\\2978018526.py:16: FutureWarning: The frame.append method is deprecated and will be removed from pandas in a future version. Use pandas.concat instead.\n",
      "  df = df.append(df2, ignore_index = True)\n",
      "C:\\Users\\2151399\\AppData\\Local\\Temp\\2\\ipykernel_76\\2978018526.py:16: FutureWarning: The frame.append method is deprecated and will be removed from pandas in a future version. Use pandas.concat instead.\n",
      "  df = df.append(df2, ignore_index = True)\n",
      "C:\\Users\\2151399\\AppData\\Local\\Temp\\2\\ipykernel_76\\2978018526.py:16: FutureWarning: The frame.append method is deprecated and will be removed from pandas in a future version. Use pandas.concat instead.\n",
      "  df = df.append(df2, ignore_index = True)\n",
      "C:\\Users\\2151399\\AppData\\Local\\Temp\\2\\ipykernel_76\\2978018526.py:16: FutureWarning: The frame.append method is deprecated and will be removed from pandas in a future version. Use pandas.concat instead.\n",
      "  df = df.append(df2, ignore_index = True)\n",
      "C:\\Users\\2151399\\AppData\\Local\\Temp\\2\\ipykernel_76\\2978018526.py:16: FutureWarning: The frame.append method is deprecated and will be removed from pandas in a future version. Use pandas.concat instead.\n",
      "  df = df.append(df2, ignore_index = True)\n",
      "C:\\Users\\2151399\\AppData\\Local\\Temp\\2\\ipykernel_76\\2978018526.py:16: FutureWarning: The frame.append method is deprecated and will be removed from pandas in a future version. Use pandas.concat instead.\n",
      "  df = df.append(df2, ignore_index = True)\n",
      "C:\\Users\\2151399\\AppData\\Local\\Temp\\2\\ipykernel_76\\2978018526.py:16: FutureWarning: The frame.append method is deprecated and will be removed from pandas in a future version. Use pandas.concat instead.\n",
      "  df = df.append(df2, ignore_index = True)\n",
      "C:\\Users\\2151399\\AppData\\Local\\Temp\\2\\ipykernel_76\\2978018526.py:16: FutureWarning: The frame.append method is deprecated and will be removed from pandas in a future version. Use pandas.concat instead.\n",
      "  df = df.append(df2, ignore_index = True)\n",
      "C:\\Users\\2151399\\AppData\\Local\\Temp\\2\\ipykernel_76\\2978018526.py:16: FutureWarning: The frame.append method is deprecated and will be removed from pandas in a future version. Use pandas.concat instead.\n",
      "  df = df.append(df2, ignore_index = True)\n",
      "C:\\Users\\2151399\\AppData\\Local\\Temp\\2\\ipykernel_76\\2978018526.py:16: FutureWarning: The frame.append method is deprecated and will be removed from pandas in a future version. Use pandas.concat instead.\n",
      "  df = df.append(df2, ignore_index = True)\n",
      "C:\\Users\\2151399\\AppData\\Local\\Temp\\2\\ipykernel_76\\2978018526.py:16: FutureWarning: The frame.append method is deprecated and will be removed from pandas in a future version. Use pandas.concat instead.\n",
      "  df = df.append(df2, ignore_index = True)\n",
      "C:\\Users\\2151399\\AppData\\Local\\Temp\\2\\ipykernel_76\\2978018526.py:16: FutureWarning: The frame.append method is deprecated and will be removed from pandas in a future version. Use pandas.concat instead.\n",
      "  df = df.append(df2, ignore_index = True)\n",
      "C:\\Users\\2151399\\AppData\\Local\\Temp\\2\\ipykernel_76\\2978018526.py:16: FutureWarning: The frame.append method is deprecated and will be removed from pandas in a future version. Use pandas.concat instead.\n",
      "  df = df.append(df2, ignore_index = True)\n",
      "C:\\Users\\2151399\\AppData\\Local\\Temp\\2\\ipykernel_76\\2978018526.py:16: FutureWarning: The frame.append method is deprecated and will be removed from pandas in a future version. Use pandas.concat instead.\n",
      "  df = df.append(df2, ignore_index = True)\n",
      "C:\\Users\\2151399\\AppData\\Local\\Temp\\2\\ipykernel_76\\2978018526.py:16: FutureWarning: The frame.append method is deprecated and will be removed from pandas in a future version. Use pandas.concat instead.\n",
      "  df = df.append(df2, ignore_index = True)\n",
      "C:\\Users\\2151399\\AppData\\Local\\Temp\\2\\ipykernel_76\\2978018526.py:16: FutureWarning: The frame.append method is deprecated and will be removed from pandas in a future version. Use pandas.concat instead.\n",
      "  df = df.append(df2, ignore_index = True)\n",
      "C:\\Users\\2151399\\AppData\\Local\\Temp\\2\\ipykernel_76\\2978018526.py:16: FutureWarning: The frame.append method is deprecated and will be removed from pandas in a future version. Use pandas.concat instead.\n",
      "  df = df.append(df2, ignore_index = True)\n",
      "C:\\Users\\2151399\\AppData\\Local\\Temp\\2\\ipykernel_76\\2978018526.py:16: FutureWarning: The frame.append method is deprecated and will be removed from pandas in a future version. Use pandas.concat instead.\n",
      "  df = df.append(df2, ignore_index = True)\n",
      "C:\\Users\\2151399\\AppData\\Local\\Temp\\2\\ipykernel_76\\2978018526.py:16: FutureWarning: The frame.append method is deprecated and will be removed from pandas in a future version. Use pandas.concat instead.\n",
      "  df = df.append(df2, ignore_index = True)\n",
      "C:\\Users\\2151399\\AppData\\Local\\Temp\\2\\ipykernel_76\\2978018526.py:16: FutureWarning: The frame.append method is deprecated and will be removed from pandas in a future version. Use pandas.concat instead.\n",
      "  df = df.append(df2, ignore_index = True)\n",
      "C:\\Users\\2151399\\AppData\\Local\\Temp\\2\\ipykernel_76\\2978018526.py:16: FutureWarning: The frame.append method is deprecated and will be removed from pandas in a future version. Use pandas.concat instead.\n",
      "  df = df.append(df2, ignore_index = True)\n",
      "C:\\Users\\2151399\\AppData\\Local\\Temp\\2\\ipykernel_76\\2978018526.py:16: FutureWarning: The frame.append method is deprecated and will be removed from pandas in a future version. Use pandas.concat instead.\n",
      "  df = df.append(df2, ignore_index = True)\n",
      "C:\\Users\\2151399\\AppData\\Local\\Temp\\2\\ipykernel_76\\2978018526.py:16: FutureWarning: The frame.append method is deprecated and will be removed from pandas in a future version. Use pandas.concat instead.\n",
      "  df = df.append(df2, ignore_index = True)\n",
      "C:\\Users\\2151399\\AppData\\Local\\Temp\\2\\ipykernel_76\\2978018526.py:16: FutureWarning: The frame.append method is deprecated and will be removed from pandas in a future version. Use pandas.concat instead.\n",
      "  df = df.append(df2, ignore_index = True)\n"
     ]
    },
    {
     "name": "stderr",
     "output_type": "stream",
     "text": [
      "C:\\Users\\2151399\\AppData\\Local\\Temp\\2\\ipykernel_76\\2978018526.py:16: FutureWarning: The frame.append method is deprecated and will be removed from pandas in a future version. Use pandas.concat instead.\n",
      "  df = df.append(df2, ignore_index = True)\n",
      "C:\\Users\\2151399\\AppData\\Local\\Temp\\2\\ipykernel_76\\2978018526.py:16: FutureWarning: The frame.append method is deprecated and will be removed from pandas in a future version. Use pandas.concat instead.\n",
      "  df = df.append(df2, ignore_index = True)\n",
      "C:\\Users\\2151399\\AppData\\Local\\Temp\\2\\ipykernel_76\\2978018526.py:16: FutureWarning: The frame.append method is deprecated and will be removed from pandas in a future version. Use pandas.concat instead.\n",
      "  df = df.append(df2, ignore_index = True)\n",
      "C:\\Users\\2151399\\AppData\\Local\\Temp\\2\\ipykernel_76\\2978018526.py:16: FutureWarning: The frame.append method is deprecated and will be removed from pandas in a future version. Use pandas.concat instead.\n",
      "  df = df.append(df2, ignore_index = True)\n",
      "C:\\Users\\2151399\\AppData\\Local\\Temp\\2\\ipykernel_76\\2978018526.py:16: FutureWarning: The frame.append method is deprecated and will be removed from pandas in a future version. Use pandas.concat instead.\n",
      "  df = df.append(df2, ignore_index = True)\n",
      "C:\\Users\\2151399\\AppData\\Local\\Temp\\2\\ipykernel_76\\2978018526.py:16: FutureWarning: The frame.append method is deprecated and will be removed from pandas in a future version. Use pandas.concat instead.\n",
      "  df = df.append(df2, ignore_index = True)\n",
      "C:\\Users\\2151399\\AppData\\Local\\Temp\\2\\ipykernel_76\\2978018526.py:16: FutureWarning: The frame.append method is deprecated and will be removed from pandas in a future version. Use pandas.concat instead.\n",
      "  df = df.append(df2, ignore_index = True)\n",
      "C:\\Users\\2151399\\AppData\\Local\\Temp\\2\\ipykernel_76\\2978018526.py:16: FutureWarning: The frame.append method is deprecated and will be removed from pandas in a future version. Use pandas.concat instead.\n",
      "  df = df.append(df2, ignore_index = True)\n",
      "C:\\Users\\2151399\\AppData\\Local\\Temp\\2\\ipykernel_76\\2978018526.py:16: FutureWarning: The frame.append method is deprecated and will be removed from pandas in a future version. Use pandas.concat instead.\n",
      "  df = df.append(df2, ignore_index = True)\n",
      "C:\\Users\\2151399\\AppData\\Local\\Temp\\2\\ipykernel_76\\2978018526.py:16: FutureWarning: The frame.append method is deprecated and will be removed from pandas in a future version. Use pandas.concat instead.\n",
      "  df = df.append(df2, ignore_index = True)\n",
      "C:\\Users\\2151399\\AppData\\Local\\Temp\\2\\ipykernel_76\\2978018526.py:16: FutureWarning: The frame.append method is deprecated and will be removed from pandas in a future version. Use pandas.concat instead.\n",
      "  df = df.append(df2, ignore_index = True)\n",
      "C:\\Users\\2151399\\AppData\\Local\\Temp\\2\\ipykernel_76\\2978018526.py:16: FutureWarning: The frame.append method is deprecated and will be removed from pandas in a future version. Use pandas.concat instead.\n",
      "  df = df.append(df2, ignore_index = True)\n",
      "C:\\Users\\2151399\\AppData\\Local\\Temp\\2\\ipykernel_76\\2978018526.py:16: FutureWarning: The frame.append method is deprecated and will be removed from pandas in a future version. Use pandas.concat instead.\n",
      "  df = df.append(df2, ignore_index = True)\n",
      "C:\\Users\\2151399\\AppData\\Local\\Temp\\2\\ipykernel_76\\2978018526.py:16: FutureWarning: The frame.append method is deprecated and will be removed from pandas in a future version. Use pandas.concat instead.\n",
      "  df = df.append(df2, ignore_index = True)\n",
      "C:\\Users\\2151399\\AppData\\Local\\Temp\\2\\ipykernel_76\\2978018526.py:16: FutureWarning: The frame.append method is deprecated and will be removed from pandas in a future version. Use pandas.concat instead.\n",
      "  df = df.append(df2, ignore_index = True)\n",
      "C:\\Users\\2151399\\AppData\\Local\\Temp\\2\\ipykernel_76\\2978018526.py:16: FutureWarning: The frame.append method is deprecated and will be removed from pandas in a future version. Use pandas.concat instead.\n",
      "  df = df.append(df2, ignore_index = True)\n",
      "C:\\Users\\2151399\\AppData\\Local\\Temp\\2\\ipykernel_76\\2978018526.py:16: FutureWarning: The frame.append method is deprecated and will be removed from pandas in a future version. Use pandas.concat instead.\n",
      "  df = df.append(df2, ignore_index = True)\n",
      "C:\\Users\\2151399\\AppData\\Local\\Temp\\2\\ipykernel_76\\2978018526.py:16: FutureWarning: The frame.append method is deprecated and will be removed from pandas in a future version. Use pandas.concat instead.\n",
      "  df = df.append(df2, ignore_index = True)\n",
      "C:\\Users\\2151399\\AppData\\Local\\Temp\\2\\ipykernel_76\\2978018526.py:16: FutureWarning: The frame.append method is deprecated and will be removed from pandas in a future version. Use pandas.concat instead.\n",
      "  df = df.append(df2, ignore_index = True)\n",
      "C:\\Users\\2151399\\AppData\\Local\\Temp\\2\\ipykernel_76\\2978018526.py:16: FutureWarning: The frame.append method is deprecated and will be removed from pandas in a future version. Use pandas.concat instead.\n",
      "  df = df.append(df2, ignore_index = True)\n",
      "C:\\Users\\2151399\\AppData\\Local\\Temp\\2\\ipykernel_76\\2978018526.py:16: FutureWarning: The frame.append method is deprecated and will be removed from pandas in a future version. Use pandas.concat instead.\n",
      "  df = df.append(df2, ignore_index = True)\n",
      "C:\\Users\\2151399\\AppData\\Local\\Temp\\2\\ipykernel_76\\2978018526.py:16: FutureWarning: The frame.append method is deprecated and will be removed from pandas in a future version. Use pandas.concat instead.\n",
      "  df = df.append(df2, ignore_index = True)\n",
      "C:\\Users\\2151399\\AppData\\Local\\Temp\\2\\ipykernel_76\\2978018526.py:16: FutureWarning: The frame.append method is deprecated and will be removed from pandas in a future version. Use pandas.concat instead.\n",
      "  df = df.append(df2, ignore_index = True)\n",
      "C:\\Users\\2151399\\AppData\\Local\\Temp\\2\\ipykernel_76\\2978018526.py:16: FutureWarning: The frame.append method is deprecated and will be removed from pandas in a future version. Use pandas.concat instead.\n",
      "  df = df.append(df2, ignore_index = True)\n",
      "C:\\Users\\2151399\\AppData\\Local\\Temp\\2\\ipykernel_76\\2978018526.py:16: FutureWarning: The frame.append method is deprecated and will be removed from pandas in a future version. Use pandas.concat instead.\n",
      "  df = df.append(df2, ignore_index = True)\n",
      "C:\\Users\\2151399\\AppData\\Local\\Temp\\2\\ipykernel_76\\2978018526.py:16: FutureWarning: The frame.append method is deprecated and will be removed from pandas in a future version. Use pandas.concat instead.\n",
      "  df = df.append(df2, ignore_index = True)\n",
      "C:\\Users\\2151399\\AppData\\Local\\Temp\\2\\ipykernel_76\\2978018526.py:16: FutureWarning: The frame.append method is deprecated and will be removed from pandas in a future version. Use pandas.concat instead.\n",
      "  df = df.append(df2, ignore_index = True)\n",
      "C:\\Users\\2151399\\AppData\\Local\\Temp\\2\\ipykernel_76\\2978018526.py:16: FutureWarning: The frame.append method is deprecated and will be removed from pandas in a future version. Use pandas.concat instead.\n",
      "  df = df.append(df2, ignore_index = True)\n",
      "C:\\Users\\2151399\\AppData\\Local\\Temp\\2\\ipykernel_76\\2978018526.py:16: FutureWarning: The frame.append method is deprecated and will be removed from pandas in a future version. Use pandas.concat instead.\n",
      "  df = df.append(df2, ignore_index = True)\n",
      "C:\\Users\\2151399\\AppData\\Local\\Temp\\2\\ipykernel_76\\2978018526.py:16: FutureWarning: The frame.append method is deprecated and will be removed from pandas in a future version. Use pandas.concat instead.\n",
      "  df = df.append(df2, ignore_index = True)\n",
      "C:\\Users\\2151399\\AppData\\Local\\Temp\\2\\ipykernel_76\\2978018526.py:16: FutureWarning: The frame.append method is deprecated and will be removed from pandas in a future version. Use pandas.concat instead.\n",
      "  df = df.append(df2, ignore_index = True)\n",
      "C:\\Users\\2151399\\AppData\\Local\\Temp\\2\\ipykernel_76\\2978018526.py:16: FutureWarning: The frame.append method is deprecated and will be removed from pandas in a future version. Use pandas.concat instead.\n",
      "  df = df.append(df2, ignore_index = True)\n",
      "C:\\Users\\2151399\\AppData\\Local\\Temp\\2\\ipykernel_76\\2978018526.py:16: FutureWarning: The frame.append method is deprecated and will be removed from pandas in a future version. Use pandas.concat instead.\n",
      "  df = df.append(df2, ignore_index = True)\n",
      "C:\\Users\\2151399\\AppData\\Local\\Temp\\2\\ipykernel_76\\2978018526.py:16: FutureWarning: The frame.append method is deprecated and will be removed from pandas in a future version. Use pandas.concat instead.\n",
      "  df = df.append(df2, ignore_index = True)\n",
      "C:\\Users\\2151399\\AppData\\Local\\Temp\\2\\ipykernel_76\\2978018526.py:16: FutureWarning: The frame.append method is deprecated and will be removed from pandas in a future version. Use pandas.concat instead.\n",
      "  df = df.append(df2, ignore_index = True)\n"
     ]
    },
    {
     "name": "stderr",
     "output_type": "stream",
     "text": [
      "C:\\Users\\2151399\\AppData\\Local\\Temp\\2\\ipykernel_76\\2978018526.py:16: FutureWarning: The frame.append method is deprecated and will be removed from pandas in a future version. Use pandas.concat instead.\n",
      "  df = df.append(df2, ignore_index = True)\n",
      "C:\\Users\\2151399\\AppData\\Local\\Temp\\2\\ipykernel_76\\2978018526.py:16: FutureWarning: The frame.append method is deprecated and will be removed from pandas in a future version. Use pandas.concat instead.\n",
      "  df = df.append(df2, ignore_index = True)\n",
      "C:\\Users\\2151399\\AppData\\Local\\Temp\\2\\ipykernel_76\\2978018526.py:16: FutureWarning: The frame.append method is deprecated and will be removed from pandas in a future version. Use pandas.concat instead.\n",
      "  df = df.append(df2, ignore_index = True)\n",
      "C:\\Users\\2151399\\AppData\\Local\\Temp\\2\\ipykernel_76\\2978018526.py:16: FutureWarning: The frame.append method is deprecated and will be removed from pandas in a future version. Use pandas.concat instead.\n",
      "  df = df.append(df2, ignore_index = True)\n",
      "C:\\Users\\2151399\\AppData\\Local\\Temp\\2\\ipykernel_76\\2978018526.py:16: FutureWarning: The frame.append method is deprecated and will be removed from pandas in a future version. Use pandas.concat instead.\n",
      "  df = df.append(df2, ignore_index = True)\n",
      "C:\\Users\\2151399\\AppData\\Local\\Temp\\2\\ipykernel_76\\2978018526.py:16: FutureWarning: The frame.append method is deprecated and will be removed from pandas in a future version. Use pandas.concat instead.\n",
      "  df = df.append(df2, ignore_index = True)\n",
      "C:\\Users\\2151399\\AppData\\Local\\Temp\\2\\ipykernel_76\\2978018526.py:16: FutureWarning: The frame.append method is deprecated and will be removed from pandas in a future version. Use pandas.concat instead.\n",
      "  df = df.append(df2, ignore_index = True)\n",
      "C:\\Users\\2151399\\AppData\\Local\\Temp\\2\\ipykernel_76\\2978018526.py:16: FutureWarning: The frame.append method is deprecated and will be removed from pandas in a future version. Use pandas.concat instead.\n",
      "  df = df.append(df2, ignore_index = True)\n",
      "C:\\Users\\2151399\\AppData\\Local\\Temp\\2\\ipykernel_76\\2978018526.py:16: FutureWarning: The frame.append method is deprecated and will be removed from pandas in a future version. Use pandas.concat instead.\n",
      "  df = df.append(df2, ignore_index = True)\n",
      "C:\\Users\\2151399\\AppData\\Local\\Temp\\2\\ipykernel_76\\2978018526.py:16: FutureWarning: The frame.append method is deprecated and will be removed from pandas in a future version. Use pandas.concat instead.\n",
      "  df = df.append(df2, ignore_index = True)\n",
      "C:\\Users\\2151399\\AppData\\Local\\Temp\\2\\ipykernel_76\\2978018526.py:16: FutureWarning: The frame.append method is deprecated and will be removed from pandas in a future version. Use pandas.concat instead.\n",
      "  df = df.append(df2, ignore_index = True)\n",
      "C:\\Users\\2151399\\AppData\\Local\\Temp\\2\\ipykernel_76\\2978018526.py:16: FutureWarning: The frame.append method is deprecated and will be removed from pandas in a future version. Use pandas.concat instead.\n",
      "  df = df.append(df2, ignore_index = True)\n",
      "C:\\Users\\2151399\\AppData\\Local\\Temp\\2\\ipykernel_76\\2978018526.py:16: FutureWarning: The frame.append method is deprecated and will be removed from pandas in a future version. Use pandas.concat instead.\n",
      "  df = df.append(df2, ignore_index = True)\n",
      "C:\\Users\\2151399\\AppData\\Local\\Temp\\2\\ipykernel_76\\2978018526.py:16: FutureWarning: The frame.append method is deprecated and will be removed from pandas in a future version. Use pandas.concat instead.\n",
      "  df = df.append(df2, ignore_index = True)\n",
      "C:\\Users\\2151399\\AppData\\Local\\Temp\\2\\ipykernel_76\\2978018526.py:16: FutureWarning: The frame.append method is deprecated and will be removed from pandas in a future version. Use pandas.concat instead.\n",
      "  df = df.append(df2, ignore_index = True)\n",
      "C:\\Users\\2151399\\AppData\\Local\\Temp\\2\\ipykernel_76\\2978018526.py:16: FutureWarning: The frame.append method is deprecated and will be removed from pandas in a future version. Use pandas.concat instead.\n",
      "  df = df.append(df2, ignore_index = True)\n",
      "C:\\Users\\2151399\\AppData\\Local\\Temp\\2\\ipykernel_76\\2978018526.py:16: FutureWarning: The frame.append method is deprecated and will be removed from pandas in a future version. Use pandas.concat instead.\n",
      "  df = df.append(df2, ignore_index = True)\n",
      "C:\\Users\\2151399\\AppData\\Local\\Temp\\2\\ipykernel_76\\2978018526.py:16: FutureWarning: The frame.append method is deprecated and will be removed from pandas in a future version. Use pandas.concat instead.\n",
      "  df = df.append(df2, ignore_index = True)\n",
      "C:\\Users\\2151399\\AppData\\Local\\Temp\\2\\ipykernel_76\\2978018526.py:16: FutureWarning: The frame.append method is deprecated and will be removed from pandas in a future version. Use pandas.concat instead.\n",
      "  df = df.append(df2, ignore_index = True)\n",
      "C:\\Users\\2151399\\AppData\\Local\\Temp\\2\\ipykernel_76\\2978018526.py:16: FutureWarning: The frame.append method is deprecated and will be removed from pandas in a future version. Use pandas.concat instead.\n",
      "  df = df.append(df2, ignore_index = True)\n",
      "C:\\Users\\2151399\\AppData\\Local\\Temp\\2\\ipykernel_76\\2978018526.py:16: FutureWarning: The frame.append method is deprecated and will be removed from pandas in a future version. Use pandas.concat instead.\n",
      "  df = df.append(df2, ignore_index = True)\n",
      "C:\\Users\\2151399\\AppData\\Local\\Temp\\2\\ipykernel_76\\2978018526.py:16: FutureWarning: The frame.append method is deprecated and will be removed from pandas in a future version. Use pandas.concat instead.\n",
      "  df = df.append(df2, ignore_index = True)\n",
      "C:\\Users\\2151399\\AppData\\Local\\Temp\\2\\ipykernel_76\\2978018526.py:16: FutureWarning: The frame.append method is deprecated and will be removed from pandas in a future version. Use pandas.concat instead.\n",
      "  df = df.append(df2, ignore_index = True)\n",
      "C:\\Users\\2151399\\AppData\\Local\\Temp\\2\\ipykernel_76\\2978018526.py:16: FutureWarning: The frame.append method is deprecated and will be removed from pandas in a future version. Use pandas.concat instead.\n",
      "  df = df.append(df2, ignore_index = True)\n",
      "C:\\Users\\2151399\\AppData\\Local\\Temp\\2\\ipykernel_76\\2978018526.py:16: FutureWarning: The frame.append method is deprecated and will be removed from pandas in a future version. Use pandas.concat instead.\n",
      "  df = df.append(df2, ignore_index = True)\n",
      "C:\\Users\\2151399\\AppData\\Local\\Temp\\2\\ipykernel_76\\2978018526.py:16: FutureWarning: The frame.append method is deprecated and will be removed from pandas in a future version. Use pandas.concat instead.\n",
      "  df = df.append(df2, ignore_index = True)\n",
      "C:\\Users\\2151399\\AppData\\Local\\Temp\\2\\ipykernel_76\\2978018526.py:16: FutureWarning: The frame.append method is deprecated and will be removed from pandas in a future version. Use pandas.concat instead.\n",
      "  df = df.append(df2, ignore_index = True)\n",
      "C:\\Users\\2151399\\AppData\\Local\\Temp\\2\\ipykernel_76\\2978018526.py:16: FutureWarning: The frame.append method is deprecated and will be removed from pandas in a future version. Use pandas.concat instead.\n",
      "  df = df.append(df2, ignore_index = True)\n",
      "C:\\Users\\2151399\\AppData\\Local\\Temp\\2\\ipykernel_76\\2978018526.py:16: FutureWarning: The frame.append method is deprecated and will be removed from pandas in a future version. Use pandas.concat instead.\n",
      "  df = df.append(df2, ignore_index = True)\n",
      "C:\\Users\\2151399\\AppData\\Local\\Temp\\2\\ipykernel_76\\2978018526.py:16: FutureWarning: The frame.append method is deprecated and will be removed from pandas in a future version. Use pandas.concat instead.\n",
      "  df = df.append(df2, ignore_index = True)\n",
      "C:\\Users\\2151399\\AppData\\Local\\Temp\\2\\ipykernel_76\\2978018526.py:16: FutureWarning: The frame.append method is deprecated and will be removed from pandas in a future version. Use pandas.concat instead.\n",
      "  df = df.append(df2, ignore_index = True)\n",
      "C:\\Users\\2151399\\AppData\\Local\\Temp\\2\\ipykernel_76\\2978018526.py:16: FutureWarning: The frame.append method is deprecated and will be removed from pandas in a future version. Use pandas.concat instead.\n",
      "  df = df.append(df2, ignore_index = True)\n",
      "C:\\Users\\2151399\\AppData\\Local\\Temp\\2\\ipykernel_76\\2978018526.py:16: FutureWarning: The frame.append method is deprecated and will be removed from pandas in a future version. Use pandas.concat instead.\n",
      "  df = df.append(df2, ignore_index = True)\n",
      "C:\\Users\\2151399\\AppData\\Local\\Temp\\2\\ipykernel_76\\2978018526.py:16: FutureWarning: The frame.append method is deprecated and will be removed from pandas in a future version. Use pandas.concat instead.\n",
      "  df = df.append(df2, ignore_index = True)\n"
     ]
    },
    {
     "name": "stderr",
     "output_type": "stream",
     "text": [
      "C:\\Users\\2151399\\AppData\\Local\\Temp\\2\\ipykernel_76\\2978018526.py:16: FutureWarning: The frame.append method is deprecated and will be removed from pandas in a future version. Use pandas.concat instead.\n",
      "  df = df.append(df2, ignore_index = True)\n",
      "C:\\Users\\2151399\\AppData\\Local\\Temp\\2\\ipykernel_76\\2978018526.py:16: FutureWarning: The frame.append method is deprecated and will be removed from pandas in a future version. Use pandas.concat instead.\n",
      "  df = df.append(df2, ignore_index = True)\n",
      "C:\\Users\\2151399\\AppData\\Local\\Temp\\2\\ipykernel_76\\2978018526.py:16: FutureWarning: The frame.append method is deprecated and will be removed from pandas in a future version. Use pandas.concat instead.\n",
      "  df = df.append(df2, ignore_index = True)\n",
      "C:\\Users\\2151399\\AppData\\Local\\Temp\\2\\ipykernel_76\\2978018526.py:16: FutureWarning: The frame.append method is deprecated and will be removed from pandas in a future version. Use pandas.concat instead.\n",
      "  df = df.append(df2, ignore_index = True)\n",
      "C:\\Users\\2151399\\AppData\\Local\\Temp\\2\\ipykernel_76\\2978018526.py:16: FutureWarning: The frame.append method is deprecated and will be removed from pandas in a future version. Use pandas.concat instead.\n",
      "  df = df.append(df2, ignore_index = True)\n",
      "C:\\Users\\2151399\\AppData\\Local\\Temp\\2\\ipykernel_76\\2978018526.py:16: FutureWarning: The frame.append method is deprecated and will be removed from pandas in a future version. Use pandas.concat instead.\n",
      "  df = df.append(df2, ignore_index = True)\n",
      "C:\\Users\\2151399\\AppData\\Local\\Temp\\2\\ipykernel_76\\2978018526.py:16: FutureWarning: The frame.append method is deprecated and will be removed from pandas in a future version. Use pandas.concat instead.\n",
      "  df = df.append(df2, ignore_index = True)\n",
      "C:\\Users\\2151399\\AppData\\Local\\Temp\\2\\ipykernel_76\\2978018526.py:16: FutureWarning: The frame.append method is deprecated and will be removed from pandas in a future version. Use pandas.concat instead.\n",
      "  df = df.append(df2, ignore_index = True)\n",
      "C:\\Users\\2151399\\AppData\\Local\\Temp\\2\\ipykernel_76\\2978018526.py:16: FutureWarning: The frame.append method is deprecated and will be removed from pandas in a future version. Use pandas.concat instead.\n",
      "  df = df.append(df2, ignore_index = True)\n",
      "C:\\Users\\2151399\\AppData\\Local\\Temp\\2\\ipykernel_76\\2978018526.py:16: FutureWarning: The frame.append method is deprecated and will be removed from pandas in a future version. Use pandas.concat instead.\n",
      "  df = df.append(df2, ignore_index = True)\n",
      "C:\\Users\\2151399\\AppData\\Local\\Temp\\2\\ipykernel_76\\2978018526.py:16: FutureWarning: The frame.append method is deprecated and will be removed from pandas in a future version. Use pandas.concat instead.\n",
      "  df = df.append(df2, ignore_index = True)\n",
      "C:\\Users\\2151399\\AppData\\Local\\Temp\\2\\ipykernel_76\\2978018526.py:16: FutureWarning: The frame.append method is deprecated and will be removed from pandas in a future version. Use pandas.concat instead.\n",
      "  df = df.append(df2, ignore_index = True)\n",
      "C:\\Users\\2151399\\AppData\\Local\\Temp\\2\\ipykernel_76\\2978018526.py:16: FutureWarning: The frame.append method is deprecated and will be removed from pandas in a future version. Use pandas.concat instead.\n",
      "  df = df.append(df2, ignore_index = True)\n",
      "C:\\Users\\2151399\\AppData\\Local\\Temp\\2\\ipykernel_76\\2978018526.py:16: FutureWarning: The frame.append method is deprecated and will be removed from pandas in a future version. Use pandas.concat instead.\n",
      "  df = df.append(df2, ignore_index = True)\n",
      "C:\\Users\\2151399\\AppData\\Local\\Temp\\2\\ipykernel_76\\2978018526.py:16: FutureWarning: The frame.append method is deprecated and will be removed from pandas in a future version. Use pandas.concat instead.\n",
      "  df = df.append(df2, ignore_index = True)\n",
      "C:\\Users\\2151399\\AppData\\Local\\Temp\\2\\ipykernel_76\\2978018526.py:16: FutureWarning: The frame.append method is deprecated and will be removed from pandas in a future version. Use pandas.concat instead.\n",
      "  df = df.append(df2, ignore_index = True)\n",
      "C:\\Users\\2151399\\AppData\\Local\\Temp\\2\\ipykernel_76\\2978018526.py:16: FutureWarning: The frame.append method is deprecated and will be removed from pandas in a future version. Use pandas.concat instead.\n",
      "  df = df.append(df2, ignore_index = True)\n",
      "C:\\Users\\2151399\\AppData\\Local\\Temp\\2\\ipykernel_76\\2978018526.py:16: FutureWarning: The frame.append method is deprecated and will be removed from pandas in a future version. Use pandas.concat instead.\n",
      "  df = df.append(df2, ignore_index = True)\n",
      "C:\\Users\\2151399\\AppData\\Local\\Temp\\2\\ipykernel_76\\2978018526.py:16: FutureWarning: The frame.append method is deprecated and will be removed from pandas in a future version. Use pandas.concat instead.\n",
      "  df = df.append(df2, ignore_index = True)\n",
      "C:\\Users\\2151399\\AppData\\Local\\Temp\\2\\ipykernel_76\\2978018526.py:16: FutureWarning: The frame.append method is deprecated and will be removed from pandas in a future version. Use pandas.concat instead.\n",
      "  df = df.append(df2, ignore_index = True)\n",
      "C:\\Users\\2151399\\AppData\\Local\\Temp\\2\\ipykernel_76\\2978018526.py:16: FutureWarning: The frame.append method is deprecated and will be removed from pandas in a future version. Use pandas.concat instead.\n",
      "  df = df.append(df2, ignore_index = True)\n",
      "C:\\Users\\2151399\\AppData\\Local\\Temp\\2\\ipykernel_76\\2978018526.py:16: FutureWarning: The frame.append method is deprecated and will be removed from pandas in a future version. Use pandas.concat instead.\n",
      "  df = df.append(df2, ignore_index = True)\n",
      "C:\\Users\\2151399\\AppData\\Local\\Temp\\2\\ipykernel_76\\2978018526.py:16: FutureWarning: The frame.append method is deprecated and will be removed from pandas in a future version. Use pandas.concat instead.\n",
      "  df = df.append(df2, ignore_index = True)\n",
      "C:\\Users\\2151399\\AppData\\Local\\Temp\\2\\ipykernel_76\\2978018526.py:16: FutureWarning: The frame.append method is deprecated and will be removed from pandas in a future version. Use pandas.concat instead.\n",
      "  df = df.append(df2, ignore_index = True)\n",
      "C:\\Users\\2151399\\AppData\\Local\\Temp\\2\\ipykernel_76\\2978018526.py:16: FutureWarning: The frame.append method is deprecated and will be removed from pandas in a future version. Use pandas.concat instead.\n",
      "  df = df.append(df2, ignore_index = True)\n",
      "C:\\Users\\2151399\\AppData\\Local\\Temp\\2\\ipykernel_76\\2978018526.py:16: FutureWarning: The frame.append method is deprecated and will be removed from pandas in a future version. Use pandas.concat instead.\n",
      "  df = df.append(df2, ignore_index = True)\n",
      "C:\\Users\\2151399\\AppData\\Local\\Temp\\2\\ipykernel_76\\2978018526.py:16: FutureWarning: The frame.append method is deprecated and will be removed from pandas in a future version. Use pandas.concat instead.\n",
      "  df = df.append(df2, ignore_index = True)\n",
      "C:\\Users\\2151399\\AppData\\Local\\Temp\\2\\ipykernel_76\\2978018526.py:16: FutureWarning: The frame.append method is deprecated and will be removed from pandas in a future version. Use pandas.concat instead.\n",
      "  df = df.append(df2, ignore_index = True)\n",
      "C:\\Users\\2151399\\AppData\\Local\\Temp\\2\\ipykernel_76\\2978018526.py:16: FutureWarning: The frame.append method is deprecated and will be removed from pandas in a future version. Use pandas.concat instead.\n",
      "  df = df.append(df2, ignore_index = True)\n",
      "C:\\Users\\2151399\\AppData\\Local\\Temp\\2\\ipykernel_76\\2978018526.py:16: FutureWarning: The frame.append method is deprecated and will be removed from pandas in a future version. Use pandas.concat instead.\n",
      "  df = df.append(df2, ignore_index = True)\n",
      "C:\\Users\\2151399\\AppData\\Local\\Temp\\2\\ipykernel_76\\2978018526.py:16: FutureWarning: The frame.append method is deprecated and will be removed from pandas in a future version. Use pandas.concat instead.\n",
      "  df = df.append(df2, ignore_index = True)\n",
      "C:\\Users\\2151399\\AppData\\Local\\Temp\\2\\ipykernel_76\\2978018526.py:16: FutureWarning: The frame.append method is deprecated and will be removed from pandas in a future version. Use pandas.concat instead.\n",
      "  df = df.append(df2, ignore_index = True)\n",
      "C:\\Users\\2151399\\AppData\\Local\\Temp\\2\\ipykernel_76\\2978018526.py:16: FutureWarning: The frame.append method is deprecated and will be removed from pandas in a future version. Use pandas.concat instead.\n",
      "  df = df.append(df2, ignore_index = True)\n",
      "C:\\Users\\2151399\\AppData\\Local\\Temp\\2\\ipykernel_76\\2978018526.py:16: FutureWarning: The frame.append method is deprecated and will be removed from pandas in a future version. Use pandas.concat instead.\n",
      "  df = df.append(df2, ignore_index = True)\n"
     ]
    },
    {
     "name": "stderr",
     "output_type": "stream",
     "text": [
      "C:\\Users\\2151399\\AppData\\Local\\Temp\\2\\ipykernel_76\\2978018526.py:16: FutureWarning: The frame.append method is deprecated and will be removed from pandas in a future version. Use pandas.concat instead.\n",
      "  df = df.append(df2, ignore_index = True)\n",
      "C:\\Users\\2151399\\AppData\\Local\\Temp\\2\\ipykernel_76\\2978018526.py:16: FutureWarning: The frame.append method is deprecated and will be removed from pandas in a future version. Use pandas.concat instead.\n",
      "  df = df.append(df2, ignore_index = True)\n",
      "C:\\Users\\2151399\\AppData\\Local\\Temp\\2\\ipykernel_76\\2978018526.py:16: FutureWarning: The frame.append method is deprecated and will be removed from pandas in a future version. Use pandas.concat instead.\n",
      "  df = df.append(df2, ignore_index = True)\n",
      "C:\\Users\\2151399\\AppData\\Local\\Temp\\2\\ipykernel_76\\2978018526.py:16: FutureWarning: The frame.append method is deprecated and will be removed from pandas in a future version. Use pandas.concat instead.\n",
      "  df = df.append(df2, ignore_index = True)\n",
      "C:\\Users\\2151399\\AppData\\Local\\Temp\\2\\ipykernel_76\\2978018526.py:16: FutureWarning: The frame.append method is deprecated and will be removed from pandas in a future version. Use pandas.concat instead.\n",
      "  df = df.append(df2, ignore_index = True)\n",
      "C:\\Users\\2151399\\AppData\\Local\\Temp\\2\\ipykernel_76\\2978018526.py:16: FutureWarning: The frame.append method is deprecated and will be removed from pandas in a future version. Use pandas.concat instead.\n",
      "  df = df.append(df2, ignore_index = True)\n",
      "C:\\Users\\2151399\\AppData\\Local\\Temp\\2\\ipykernel_76\\2978018526.py:16: FutureWarning: The frame.append method is deprecated and will be removed from pandas in a future version. Use pandas.concat instead.\n",
      "  df = df.append(df2, ignore_index = True)\n",
      "C:\\Users\\2151399\\AppData\\Local\\Temp\\2\\ipykernel_76\\2978018526.py:16: FutureWarning: The frame.append method is deprecated and will be removed from pandas in a future version. Use pandas.concat instead.\n",
      "  df = df.append(df2, ignore_index = True)\n",
      "C:\\Users\\2151399\\AppData\\Local\\Temp\\2\\ipykernel_76\\2978018526.py:16: FutureWarning: The frame.append method is deprecated and will be removed from pandas in a future version. Use pandas.concat instead.\n",
      "  df = df.append(df2, ignore_index = True)\n",
      "C:\\Users\\2151399\\AppData\\Local\\Temp\\2\\ipykernel_76\\2978018526.py:16: FutureWarning: The frame.append method is deprecated and will be removed from pandas in a future version. Use pandas.concat instead.\n",
      "  df = df.append(df2, ignore_index = True)\n",
      "C:\\Users\\2151399\\AppData\\Local\\Temp\\2\\ipykernel_76\\2978018526.py:16: FutureWarning: The frame.append method is deprecated and will be removed from pandas in a future version. Use pandas.concat instead.\n",
      "  df = df.append(df2, ignore_index = True)\n",
      "C:\\Users\\2151399\\AppData\\Local\\Temp\\2\\ipykernel_76\\2978018526.py:16: FutureWarning: The frame.append method is deprecated and will be removed from pandas in a future version. Use pandas.concat instead.\n",
      "  df = df.append(df2, ignore_index = True)\n",
      "C:\\Users\\2151399\\AppData\\Local\\Temp\\2\\ipykernel_76\\2978018526.py:16: FutureWarning: The frame.append method is deprecated and will be removed from pandas in a future version. Use pandas.concat instead.\n",
      "  df = df.append(df2, ignore_index = True)\n",
      "C:\\Users\\2151399\\AppData\\Local\\Temp\\2\\ipykernel_76\\2978018526.py:16: FutureWarning: The frame.append method is deprecated and will be removed from pandas in a future version. Use pandas.concat instead.\n",
      "  df = df.append(df2, ignore_index = True)\n",
      "C:\\Users\\2151399\\AppData\\Local\\Temp\\2\\ipykernel_76\\2978018526.py:16: FutureWarning: The frame.append method is deprecated and will be removed from pandas in a future version. Use pandas.concat instead.\n",
      "  df = df.append(df2, ignore_index = True)\n",
      "C:\\Users\\2151399\\AppData\\Local\\Temp\\2\\ipykernel_76\\2978018526.py:16: FutureWarning: The frame.append method is deprecated and will be removed from pandas in a future version. Use pandas.concat instead.\n",
      "  df = df.append(df2, ignore_index = True)\n",
      "C:\\Users\\2151399\\AppData\\Local\\Temp\\2\\ipykernel_76\\2978018526.py:16: FutureWarning: The frame.append method is deprecated and will be removed from pandas in a future version. Use pandas.concat instead.\n",
      "  df = df.append(df2, ignore_index = True)\n",
      "C:\\Users\\2151399\\AppData\\Local\\Temp\\2\\ipykernel_76\\2978018526.py:16: FutureWarning: The frame.append method is deprecated and will be removed from pandas in a future version. Use pandas.concat instead.\n",
      "  df = df.append(df2, ignore_index = True)\n",
      "C:\\Users\\2151399\\AppData\\Local\\Temp\\2\\ipykernel_76\\2978018526.py:16: FutureWarning: The frame.append method is deprecated and will be removed from pandas in a future version. Use pandas.concat instead.\n",
      "  df = df.append(df2, ignore_index = True)\n",
      "C:\\Users\\2151399\\AppData\\Local\\Temp\\2\\ipykernel_76\\2978018526.py:16: FutureWarning: The frame.append method is deprecated and will be removed from pandas in a future version. Use pandas.concat instead.\n",
      "  df = df.append(df2, ignore_index = True)\n",
      "C:\\Users\\2151399\\AppData\\Local\\Temp\\2\\ipykernel_76\\2978018526.py:16: FutureWarning: The frame.append method is deprecated and will be removed from pandas in a future version. Use pandas.concat instead.\n",
      "  df = df.append(df2, ignore_index = True)\n",
      "C:\\Users\\2151399\\AppData\\Local\\Temp\\2\\ipykernel_76\\2978018526.py:16: FutureWarning: The frame.append method is deprecated and will be removed from pandas in a future version. Use pandas.concat instead.\n",
      "  df = df.append(df2, ignore_index = True)\n",
      "C:\\Users\\2151399\\AppData\\Local\\Temp\\2\\ipykernel_76\\2978018526.py:16: FutureWarning: The frame.append method is deprecated and will be removed from pandas in a future version. Use pandas.concat instead.\n",
      "  df = df.append(df2, ignore_index = True)\n",
      "C:\\Users\\2151399\\AppData\\Local\\Temp\\2\\ipykernel_76\\2978018526.py:16: FutureWarning: The frame.append method is deprecated and will be removed from pandas in a future version. Use pandas.concat instead.\n",
      "  df = df.append(df2, ignore_index = True)\n",
      "C:\\Users\\2151399\\AppData\\Local\\Temp\\2\\ipykernel_76\\2978018526.py:16: FutureWarning: The frame.append method is deprecated and will be removed from pandas in a future version. Use pandas.concat instead.\n",
      "  df = df.append(df2, ignore_index = True)\n",
      "C:\\Users\\2151399\\AppData\\Local\\Temp\\2\\ipykernel_76\\2978018526.py:16: FutureWarning: The frame.append method is deprecated and will be removed from pandas in a future version. Use pandas.concat instead.\n",
      "  df = df.append(df2, ignore_index = True)\n",
      "C:\\Users\\2151399\\AppData\\Local\\Temp\\2\\ipykernel_76\\2978018526.py:16: FutureWarning: The frame.append method is deprecated and will be removed from pandas in a future version. Use pandas.concat instead.\n",
      "  df = df.append(df2, ignore_index = True)\n",
      "C:\\Users\\2151399\\AppData\\Local\\Temp\\2\\ipykernel_76\\2978018526.py:16: FutureWarning: The frame.append method is deprecated and will be removed from pandas in a future version. Use pandas.concat instead.\n",
      "  df = df.append(df2, ignore_index = True)\n",
      "C:\\Users\\2151399\\AppData\\Local\\Temp\\2\\ipykernel_76\\2978018526.py:16: FutureWarning: The frame.append method is deprecated and will be removed from pandas in a future version. Use pandas.concat instead.\n",
      "  df = df.append(df2, ignore_index = True)\n",
      "C:\\Users\\2151399\\AppData\\Local\\Temp\\2\\ipykernel_76\\2978018526.py:16: FutureWarning: The frame.append method is deprecated and will be removed from pandas in a future version. Use pandas.concat instead.\n",
      "  df = df.append(df2, ignore_index = True)\n",
      "C:\\Users\\2151399\\AppData\\Local\\Temp\\2\\ipykernel_76\\2978018526.py:16: FutureWarning: The frame.append method is deprecated and will be removed from pandas in a future version. Use pandas.concat instead.\n",
      "  df = df.append(df2, ignore_index = True)\n",
      "C:\\Users\\2151399\\AppData\\Local\\Temp\\2\\ipykernel_76\\2978018526.py:16: FutureWarning: The frame.append method is deprecated and will be removed from pandas in a future version. Use pandas.concat instead.\n",
      "  df = df.append(df2, ignore_index = True)\n",
      "C:\\Users\\2151399\\AppData\\Local\\Temp\\2\\ipykernel_76\\2978018526.py:16: FutureWarning: The frame.append method is deprecated and will be removed from pandas in a future version. Use pandas.concat instead.\n",
      "  df = df.append(df2, ignore_index = True)\n",
      "C:\\Users\\2151399\\AppData\\Local\\Temp\\2\\ipykernel_76\\2978018526.py:16: FutureWarning: The frame.append method is deprecated and will be removed from pandas in a future version. Use pandas.concat instead.\n",
      "  df = df.append(df2, ignore_index = True)\n"
     ]
    },
    {
     "name": "stderr",
     "output_type": "stream",
     "text": [
      "C:\\Users\\2151399\\AppData\\Local\\Temp\\2\\ipykernel_76\\2978018526.py:16: FutureWarning: The frame.append method is deprecated and will be removed from pandas in a future version. Use pandas.concat instead.\n",
      "  df = df.append(df2, ignore_index = True)\n",
      "C:\\Users\\2151399\\AppData\\Local\\Temp\\2\\ipykernel_76\\2978018526.py:16: FutureWarning: The frame.append method is deprecated and will be removed from pandas in a future version. Use pandas.concat instead.\n",
      "  df = df.append(df2, ignore_index = True)\n",
      "C:\\Users\\2151399\\AppData\\Local\\Temp\\2\\ipykernel_76\\2978018526.py:16: FutureWarning: The frame.append method is deprecated and will be removed from pandas in a future version. Use pandas.concat instead.\n",
      "  df = df.append(df2, ignore_index = True)\n",
      "C:\\Users\\2151399\\AppData\\Local\\Temp\\2\\ipykernel_76\\2978018526.py:16: FutureWarning: The frame.append method is deprecated and will be removed from pandas in a future version. Use pandas.concat instead.\n",
      "  df = df.append(df2, ignore_index = True)\n",
      "C:\\Users\\2151399\\AppData\\Local\\Temp\\2\\ipykernel_76\\2978018526.py:16: FutureWarning: The frame.append method is deprecated and will be removed from pandas in a future version. Use pandas.concat instead.\n",
      "  df = df.append(df2, ignore_index = True)\n",
      "C:\\Users\\2151399\\AppData\\Local\\Temp\\2\\ipykernel_76\\2978018526.py:16: FutureWarning: The frame.append method is deprecated and will be removed from pandas in a future version. Use pandas.concat instead.\n",
      "  df = df.append(df2, ignore_index = True)\n",
      "C:\\Users\\2151399\\AppData\\Local\\Temp\\2\\ipykernel_76\\2978018526.py:16: FutureWarning: The frame.append method is deprecated and will be removed from pandas in a future version. Use pandas.concat instead.\n",
      "  df = df.append(df2, ignore_index = True)\n",
      "C:\\Users\\2151399\\AppData\\Local\\Temp\\2\\ipykernel_76\\2978018526.py:16: FutureWarning: The frame.append method is deprecated and will be removed from pandas in a future version. Use pandas.concat instead.\n",
      "  df = df.append(df2, ignore_index = True)\n",
      "C:\\Users\\2151399\\AppData\\Local\\Temp\\2\\ipykernel_76\\2978018526.py:16: FutureWarning: The frame.append method is deprecated and will be removed from pandas in a future version. Use pandas.concat instead.\n",
      "  df = df.append(df2, ignore_index = True)\n",
      "C:\\Users\\2151399\\AppData\\Local\\Temp\\2\\ipykernel_76\\2978018526.py:16: FutureWarning: The frame.append method is deprecated and will be removed from pandas in a future version. Use pandas.concat instead.\n",
      "  df = df.append(df2, ignore_index = True)\n",
      "C:\\Users\\2151399\\AppData\\Local\\Temp\\2\\ipykernel_76\\2978018526.py:16: FutureWarning: The frame.append method is deprecated and will be removed from pandas in a future version. Use pandas.concat instead.\n",
      "  df = df.append(df2, ignore_index = True)\n",
      "C:\\Users\\2151399\\AppData\\Local\\Temp\\2\\ipykernel_76\\2978018526.py:16: FutureWarning: The frame.append method is deprecated and will be removed from pandas in a future version. Use pandas.concat instead.\n",
      "  df = df.append(df2, ignore_index = True)\n",
      "C:\\Users\\2151399\\AppData\\Local\\Temp\\2\\ipykernel_76\\2978018526.py:16: FutureWarning: The frame.append method is deprecated and will be removed from pandas in a future version. Use pandas.concat instead.\n",
      "  df = df.append(df2, ignore_index = True)\n",
      "C:\\Users\\2151399\\AppData\\Local\\Temp\\2\\ipykernel_76\\2978018526.py:16: FutureWarning: The frame.append method is deprecated and will be removed from pandas in a future version. Use pandas.concat instead.\n",
      "  df = df.append(df2, ignore_index = True)\n",
      "C:\\Users\\2151399\\AppData\\Local\\Temp\\2\\ipykernel_76\\2978018526.py:16: FutureWarning: The frame.append method is deprecated and will be removed from pandas in a future version. Use pandas.concat instead.\n",
      "  df = df.append(df2, ignore_index = True)\n",
      "C:\\Users\\2151399\\AppData\\Local\\Temp\\2\\ipykernel_76\\2978018526.py:16: FutureWarning: The frame.append method is deprecated and will be removed from pandas in a future version. Use pandas.concat instead.\n",
      "  df = df.append(df2, ignore_index = True)\n",
      "C:\\Users\\2151399\\AppData\\Local\\Temp\\2\\ipykernel_76\\2978018526.py:16: FutureWarning: The frame.append method is deprecated and will be removed from pandas in a future version. Use pandas.concat instead.\n",
      "  df = df.append(df2, ignore_index = True)\n",
      "C:\\Users\\2151399\\AppData\\Local\\Temp\\2\\ipykernel_76\\2978018526.py:16: FutureWarning: The frame.append method is deprecated and will be removed from pandas in a future version. Use pandas.concat instead.\n",
      "  df = df.append(df2, ignore_index = True)\n",
      "C:\\Users\\2151399\\AppData\\Local\\Temp\\2\\ipykernel_76\\2978018526.py:16: FutureWarning: The frame.append method is deprecated and will be removed from pandas in a future version. Use pandas.concat instead.\n",
      "  df = df.append(df2, ignore_index = True)\n",
      "C:\\Users\\2151399\\AppData\\Local\\Temp\\2\\ipykernel_76\\2978018526.py:16: FutureWarning: The frame.append method is deprecated and will be removed from pandas in a future version. Use pandas.concat instead.\n",
      "  df = df.append(df2, ignore_index = True)\n",
      "C:\\Users\\2151399\\AppData\\Local\\Temp\\2\\ipykernel_76\\2978018526.py:16: FutureWarning: The frame.append method is deprecated and will be removed from pandas in a future version. Use pandas.concat instead.\n",
      "  df = df.append(df2, ignore_index = True)\n",
      "C:\\Users\\2151399\\AppData\\Local\\Temp\\2\\ipykernel_76\\2978018526.py:16: FutureWarning: The frame.append method is deprecated and will be removed from pandas in a future version. Use pandas.concat instead.\n",
      "  df = df.append(df2, ignore_index = True)\n",
      "C:\\Users\\2151399\\AppData\\Local\\Temp\\2\\ipykernel_76\\2978018526.py:16: FutureWarning: The frame.append method is deprecated and will be removed from pandas in a future version. Use pandas.concat instead.\n",
      "  df = df.append(df2, ignore_index = True)\n",
      "C:\\Users\\2151399\\AppData\\Local\\Temp\\2\\ipykernel_76\\2978018526.py:16: FutureWarning: The frame.append method is deprecated and will be removed from pandas in a future version. Use pandas.concat instead.\n",
      "  df = df.append(df2, ignore_index = True)\n",
      "C:\\Users\\2151399\\AppData\\Local\\Temp\\2\\ipykernel_76\\2978018526.py:16: FutureWarning: The frame.append method is deprecated and will be removed from pandas in a future version. Use pandas.concat instead.\n",
      "  df = df.append(df2, ignore_index = True)\n",
      "C:\\Users\\2151399\\AppData\\Local\\Temp\\2\\ipykernel_76\\2978018526.py:16: FutureWarning: The frame.append method is deprecated and will be removed from pandas in a future version. Use pandas.concat instead.\n",
      "  df = df.append(df2, ignore_index = True)\n",
      "C:\\Users\\2151399\\AppData\\Local\\Temp\\2\\ipykernel_76\\2978018526.py:16: FutureWarning: The frame.append method is deprecated and will be removed from pandas in a future version. Use pandas.concat instead.\n",
      "  df = df.append(df2, ignore_index = True)\n",
      "C:\\Users\\2151399\\AppData\\Local\\Temp\\2\\ipykernel_76\\2978018526.py:16: FutureWarning: The frame.append method is deprecated and will be removed from pandas in a future version. Use pandas.concat instead.\n",
      "  df = df.append(df2, ignore_index = True)\n",
      "C:\\Users\\2151399\\AppData\\Local\\Temp\\2\\ipykernel_76\\2978018526.py:16: FutureWarning: The frame.append method is deprecated and will be removed from pandas in a future version. Use pandas.concat instead.\n",
      "  df = df.append(df2, ignore_index = True)\n",
      "C:\\Users\\2151399\\AppData\\Local\\Temp\\2\\ipykernel_76\\2978018526.py:16: FutureWarning: The frame.append method is deprecated and will be removed from pandas in a future version. Use pandas.concat instead.\n",
      "  df = df.append(df2, ignore_index = True)\n",
      "C:\\Users\\2151399\\AppData\\Local\\Temp\\2\\ipykernel_76\\2978018526.py:16: FutureWarning: The frame.append method is deprecated and will be removed from pandas in a future version. Use pandas.concat instead.\n",
      "  df = df.append(df2, ignore_index = True)\n",
      "C:\\Users\\2151399\\AppData\\Local\\Temp\\2\\ipykernel_76\\2978018526.py:16: FutureWarning: The frame.append method is deprecated and will be removed from pandas in a future version. Use pandas.concat instead.\n",
      "  df = df.append(df2, ignore_index = True)\n",
      "C:\\Users\\2151399\\AppData\\Local\\Temp\\2\\ipykernel_76\\2978018526.py:16: FutureWarning: The frame.append method is deprecated and will be removed from pandas in a future version. Use pandas.concat instead.\n",
      "  df = df.append(df2, ignore_index = True)\n",
      "C:\\Users\\2151399\\AppData\\Local\\Temp\\2\\ipykernel_76\\2978018526.py:16: FutureWarning: The frame.append method is deprecated and will be removed from pandas in a future version. Use pandas.concat instead.\n",
      "  df = df.append(df2, ignore_index = True)\n"
     ]
    },
    {
     "name": "stderr",
     "output_type": "stream",
     "text": [
      "C:\\Users\\2151399\\AppData\\Local\\Temp\\2\\ipykernel_76\\2978018526.py:16: FutureWarning: The frame.append method is deprecated and will be removed from pandas in a future version. Use pandas.concat instead.\n",
      "  df = df.append(df2, ignore_index = True)\n",
      "C:\\Users\\2151399\\AppData\\Local\\Temp\\2\\ipykernel_76\\2978018526.py:16: FutureWarning: The frame.append method is deprecated and will be removed from pandas in a future version. Use pandas.concat instead.\n",
      "  df = df.append(df2, ignore_index = True)\n",
      "C:\\Users\\2151399\\AppData\\Local\\Temp\\2\\ipykernel_76\\2978018526.py:16: FutureWarning: The frame.append method is deprecated and will be removed from pandas in a future version. Use pandas.concat instead.\n",
      "  df = df.append(df2, ignore_index = True)\n",
      "C:\\Users\\2151399\\AppData\\Local\\Temp\\2\\ipykernel_76\\2978018526.py:16: FutureWarning: The frame.append method is deprecated and will be removed from pandas in a future version. Use pandas.concat instead.\n",
      "  df = df.append(df2, ignore_index = True)\n",
      "C:\\Users\\2151399\\AppData\\Local\\Temp\\2\\ipykernel_76\\2978018526.py:16: FutureWarning: The frame.append method is deprecated and will be removed from pandas in a future version. Use pandas.concat instead.\n",
      "  df = df.append(df2, ignore_index = True)\n",
      "C:\\Users\\2151399\\AppData\\Local\\Temp\\2\\ipykernel_76\\2978018526.py:16: FutureWarning: The frame.append method is deprecated and will be removed from pandas in a future version. Use pandas.concat instead.\n",
      "  df = df.append(df2, ignore_index = True)\n",
      "C:\\Users\\2151399\\AppData\\Local\\Temp\\2\\ipykernel_76\\2978018526.py:16: FutureWarning: The frame.append method is deprecated and will be removed from pandas in a future version. Use pandas.concat instead.\n",
      "  df = df.append(df2, ignore_index = True)\n",
      "C:\\Users\\2151399\\AppData\\Local\\Temp\\2\\ipykernel_76\\2978018526.py:16: FutureWarning: The frame.append method is deprecated and will be removed from pandas in a future version. Use pandas.concat instead.\n",
      "  df = df.append(df2, ignore_index = True)\n",
      "C:\\Users\\2151399\\AppData\\Local\\Temp\\2\\ipykernel_76\\2978018526.py:16: FutureWarning: The frame.append method is deprecated and will be removed from pandas in a future version. Use pandas.concat instead.\n",
      "  df = df.append(df2, ignore_index = True)\n",
      "C:\\Users\\2151399\\AppData\\Local\\Temp\\2\\ipykernel_76\\2978018526.py:16: FutureWarning: The frame.append method is deprecated and will be removed from pandas in a future version. Use pandas.concat instead.\n",
      "  df = df.append(df2, ignore_index = True)\n",
      "C:\\Users\\2151399\\AppData\\Local\\Temp\\2\\ipykernel_76\\2978018526.py:16: FutureWarning: The frame.append method is deprecated and will be removed from pandas in a future version. Use pandas.concat instead.\n",
      "  df = df.append(df2, ignore_index = True)\n",
      "C:\\Users\\2151399\\AppData\\Local\\Temp\\2\\ipykernel_76\\2978018526.py:16: FutureWarning: The frame.append method is deprecated and will be removed from pandas in a future version. Use pandas.concat instead.\n",
      "  df = df.append(df2, ignore_index = True)\n",
      "C:\\Users\\2151399\\AppData\\Local\\Temp\\2\\ipykernel_76\\2978018526.py:16: FutureWarning: The frame.append method is deprecated and will be removed from pandas in a future version. Use pandas.concat instead.\n",
      "  df = df.append(df2, ignore_index = True)\n",
      "C:\\Users\\2151399\\AppData\\Local\\Temp\\2\\ipykernel_76\\2978018526.py:16: FutureWarning: The frame.append method is deprecated and will be removed from pandas in a future version. Use pandas.concat instead.\n",
      "  df = df.append(df2, ignore_index = True)\n",
      "C:\\Users\\2151399\\AppData\\Local\\Temp\\2\\ipykernel_76\\2978018526.py:16: FutureWarning: The frame.append method is deprecated and will be removed from pandas in a future version. Use pandas.concat instead.\n",
      "  df = df.append(df2, ignore_index = True)\n",
      "C:\\Users\\2151399\\AppData\\Local\\Temp\\2\\ipykernel_76\\2978018526.py:16: FutureWarning: The frame.append method is deprecated and will be removed from pandas in a future version. Use pandas.concat instead.\n",
      "  df = df.append(df2, ignore_index = True)\n",
      "C:\\Users\\2151399\\AppData\\Local\\Temp\\2\\ipykernel_76\\2978018526.py:16: FutureWarning: The frame.append method is deprecated and will be removed from pandas in a future version. Use pandas.concat instead.\n",
      "  df = df.append(df2, ignore_index = True)\n",
      "C:\\Users\\2151399\\AppData\\Local\\Temp\\2\\ipykernel_76\\2978018526.py:16: FutureWarning: The frame.append method is deprecated and will be removed from pandas in a future version. Use pandas.concat instead.\n",
      "  df = df.append(df2, ignore_index = True)\n",
      "C:\\Users\\2151399\\AppData\\Local\\Temp\\2\\ipykernel_76\\2978018526.py:16: FutureWarning: The frame.append method is deprecated and will be removed from pandas in a future version. Use pandas.concat instead.\n",
      "  df = df.append(df2, ignore_index = True)\n",
      "C:\\Users\\2151399\\AppData\\Local\\Temp\\2\\ipykernel_76\\2978018526.py:16: FutureWarning: The frame.append method is deprecated and will be removed from pandas in a future version. Use pandas.concat instead.\n",
      "  df = df.append(df2, ignore_index = True)\n",
      "C:\\Users\\2151399\\AppData\\Local\\Temp\\2\\ipykernel_76\\2978018526.py:16: FutureWarning: The frame.append method is deprecated and will be removed from pandas in a future version. Use pandas.concat instead.\n",
      "  df = df.append(df2, ignore_index = True)\n",
      "C:\\Users\\2151399\\AppData\\Local\\Temp\\2\\ipykernel_76\\2978018526.py:16: FutureWarning: The frame.append method is deprecated and will be removed from pandas in a future version. Use pandas.concat instead.\n",
      "  df = df.append(df2, ignore_index = True)\n",
      "C:\\Users\\2151399\\AppData\\Local\\Temp\\2\\ipykernel_76\\2978018526.py:16: FutureWarning: The frame.append method is deprecated and will be removed from pandas in a future version. Use pandas.concat instead.\n",
      "  df = df.append(df2, ignore_index = True)\n",
      "C:\\Users\\2151399\\AppData\\Local\\Temp\\2\\ipykernel_76\\2978018526.py:16: FutureWarning: The frame.append method is deprecated and will be removed from pandas in a future version. Use pandas.concat instead.\n",
      "  df = df.append(df2, ignore_index = True)\n",
      "C:\\Users\\2151399\\AppData\\Local\\Temp\\2\\ipykernel_76\\2978018526.py:16: FutureWarning: The frame.append method is deprecated and will be removed from pandas in a future version. Use pandas.concat instead.\n",
      "  df = df.append(df2, ignore_index = True)\n",
      "C:\\Users\\2151399\\AppData\\Local\\Temp\\2\\ipykernel_76\\2978018526.py:16: FutureWarning: The frame.append method is deprecated and will be removed from pandas in a future version. Use pandas.concat instead.\n",
      "  df = df.append(df2, ignore_index = True)\n",
      "C:\\Users\\2151399\\AppData\\Local\\Temp\\2\\ipykernel_76\\2978018526.py:16: FutureWarning: The frame.append method is deprecated and will be removed from pandas in a future version. Use pandas.concat instead.\n",
      "  df = df.append(df2, ignore_index = True)\n",
      "C:\\Users\\2151399\\AppData\\Local\\Temp\\2\\ipykernel_76\\2978018526.py:16: FutureWarning: The frame.append method is deprecated and will be removed from pandas in a future version. Use pandas.concat instead.\n",
      "  df = df.append(df2, ignore_index = True)\n",
      "C:\\Users\\2151399\\AppData\\Local\\Temp\\2\\ipykernel_76\\2978018526.py:16: FutureWarning: The frame.append method is deprecated and will be removed from pandas in a future version. Use pandas.concat instead.\n",
      "  df = df.append(df2, ignore_index = True)\n",
      "C:\\Users\\2151399\\AppData\\Local\\Temp\\2\\ipykernel_76\\2978018526.py:16: FutureWarning: The frame.append method is deprecated and will be removed from pandas in a future version. Use pandas.concat instead.\n",
      "  df = df.append(df2, ignore_index = True)\n",
      "C:\\Users\\2151399\\AppData\\Local\\Temp\\2\\ipykernel_76\\2978018526.py:16: FutureWarning: The frame.append method is deprecated and will be removed from pandas in a future version. Use pandas.concat instead.\n",
      "  df = df.append(df2, ignore_index = True)\n",
      "C:\\Users\\2151399\\AppData\\Local\\Temp\\2\\ipykernel_76\\2978018526.py:16: FutureWarning: The frame.append method is deprecated and will be removed from pandas in a future version. Use pandas.concat instead.\n",
      "  df = df.append(df2, ignore_index = True)\n",
      "C:\\Users\\2151399\\AppData\\Local\\Temp\\2\\ipykernel_76\\2978018526.py:16: FutureWarning: The frame.append method is deprecated and will be removed from pandas in a future version. Use pandas.concat instead.\n",
      "  df = df.append(df2, ignore_index = True)\n",
      "C:\\Users\\2151399\\AppData\\Local\\Temp\\2\\ipykernel_76\\2978018526.py:16: FutureWarning: The frame.append method is deprecated and will be removed from pandas in a future version. Use pandas.concat instead.\n",
      "  df = df.append(df2, ignore_index = True)\n",
      "C:\\Users\\2151399\\AppData\\Local\\Temp\\2\\ipykernel_76\\2978018526.py:16: FutureWarning: The frame.append method is deprecated and will be removed from pandas in a future version. Use pandas.concat instead.\n",
      "  df = df.append(df2, ignore_index = True)\n"
     ]
    },
    {
     "name": "stderr",
     "output_type": "stream",
     "text": [
      "C:\\Users\\2151399\\AppData\\Local\\Temp\\2\\ipykernel_76\\2978018526.py:16: FutureWarning: The frame.append method is deprecated and will be removed from pandas in a future version. Use pandas.concat instead.\n",
      "  df = df.append(df2, ignore_index = True)\n",
      "C:\\Users\\2151399\\AppData\\Local\\Temp\\2\\ipykernel_76\\2978018526.py:16: FutureWarning: The frame.append method is deprecated and will be removed from pandas in a future version. Use pandas.concat instead.\n",
      "  df = df.append(df2, ignore_index = True)\n",
      "C:\\Users\\2151399\\AppData\\Local\\Temp\\2\\ipykernel_76\\2978018526.py:16: FutureWarning: The frame.append method is deprecated and will be removed from pandas in a future version. Use pandas.concat instead.\n",
      "  df = df.append(df2, ignore_index = True)\n",
      "C:\\Users\\2151399\\AppData\\Local\\Temp\\2\\ipykernel_76\\2978018526.py:16: FutureWarning: The frame.append method is deprecated and will be removed from pandas in a future version. Use pandas.concat instead.\n",
      "  df = df.append(df2, ignore_index = True)\n",
      "C:\\Users\\2151399\\AppData\\Local\\Temp\\2\\ipykernel_76\\2978018526.py:16: FutureWarning: The frame.append method is deprecated and will be removed from pandas in a future version. Use pandas.concat instead.\n",
      "  df = df.append(df2, ignore_index = True)\n",
      "C:\\Users\\2151399\\AppData\\Local\\Temp\\2\\ipykernel_76\\2978018526.py:16: FutureWarning: The frame.append method is deprecated and will be removed from pandas in a future version. Use pandas.concat instead.\n",
      "  df = df.append(df2, ignore_index = True)\n",
      "C:\\Users\\2151399\\AppData\\Local\\Temp\\2\\ipykernel_76\\2978018526.py:16: FutureWarning: The frame.append method is deprecated and will be removed from pandas in a future version. Use pandas.concat instead.\n",
      "  df = df.append(df2, ignore_index = True)\n",
      "C:\\Users\\2151399\\AppData\\Local\\Temp\\2\\ipykernel_76\\2978018526.py:16: FutureWarning: The frame.append method is deprecated and will be removed from pandas in a future version. Use pandas.concat instead.\n",
      "  df = df.append(df2, ignore_index = True)\n",
      "C:\\Users\\2151399\\AppData\\Local\\Temp\\2\\ipykernel_76\\2978018526.py:16: FutureWarning: The frame.append method is deprecated and will be removed from pandas in a future version. Use pandas.concat instead.\n",
      "  df = df.append(df2, ignore_index = True)\n",
      "C:\\Users\\2151399\\AppData\\Local\\Temp\\2\\ipykernel_76\\2978018526.py:16: FutureWarning: The frame.append method is deprecated and will be removed from pandas in a future version. Use pandas.concat instead.\n",
      "  df = df.append(df2, ignore_index = True)\n",
      "C:\\Users\\2151399\\AppData\\Local\\Temp\\2\\ipykernel_76\\2978018526.py:16: FutureWarning: The frame.append method is deprecated and will be removed from pandas in a future version. Use pandas.concat instead.\n",
      "  df = df.append(df2, ignore_index = True)\n",
      "C:\\Users\\2151399\\AppData\\Local\\Temp\\2\\ipykernel_76\\2978018526.py:16: FutureWarning: The frame.append method is deprecated and will be removed from pandas in a future version. Use pandas.concat instead.\n",
      "  df = df.append(df2, ignore_index = True)\n",
      "C:\\Users\\2151399\\AppData\\Local\\Temp\\2\\ipykernel_76\\2978018526.py:16: FutureWarning: The frame.append method is deprecated and will be removed from pandas in a future version. Use pandas.concat instead.\n",
      "  df = df.append(df2, ignore_index = True)\n",
      "C:\\Users\\2151399\\AppData\\Local\\Temp\\2\\ipykernel_76\\2978018526.py:16: FutureWarning: The frame.append method is deprecated and will be removed from pandas in a future version. Use pandas.concat instead.\n",
      "  df = df.append(df2, ignore_index = True)\n",
      "C:\\Users\\2151399\\AppData\\Local\\Temp\\2\\ipykernel_76\\2978018526.py:16: FutureWarning: The frame.append method is deprecated and will be removed from pandas in a future version. Use pandas.concat instead.\n",
      "  df = df.append(df2, ignore_index = True)\n",
      "C:\\Users\\2151399\\AppData\\Local\\Temp\\2\\ipykernel_76\\2978018526.py:16: FutureWarning: The frame.append method is deprecated and will be removed from pandas in a future version. Use pandas.concat instead.\n",
      "  df = df.append(df2, ignore_index = True)\n",
      "C:\\Users\\2151399\\AppData\\Local\\Temp\\2\\ipykernel_76\\2978018526.py:16: FutureWarning: The frame.append method is deprecated and will be removed from pandas in a future version. Use pandas.concat instead.\n",
      "  df = df.append(df2, ignore_index = True)\n",
      "C:\\Users\\2151399\\AppData\\Local\\Temp\\2\\ipykernel_76\\2978018526.py:16: FutureWarning: The frame.append method is deprecated and will be removed from pandas in a future version. Use pandas.concat instead.\n",
      "  df = df.append(df2, ignore_index = True)\n",
      "C:\\Users\\2151399\\AppData\\Local\\Temp\\2\\ipykernel_76\\2978018526.py:16: FutureWarning: The frame.append method is deprecated and will be removed from pandas in a future version. Use pandas.concat instead.\n",
      "  df = df.append(df2, ignore_index = True)\n",
      "C:\\Users\\2151399\\AppData\\Local\\Temp\\2\\ipykernel_76\\2978018526.py:16: FutureWarning: The frame.append method is deprecated and will be removed from pandas in a future version. Use pandas.concat instead.\n",
      "  df = df.append(df2, ignore_index = True)\n",
      "C:\\Users\\2151399\\AppData\\Local\\Temp\\2\\ipykernel_76\\2978018526.py:16: FutureWarning: The frame.append method is deprecated and will be removed from pandas in a future version. Use pandas.concat instead.\n",
      "  df = df.append(df2, ignore_index = True)\n",
      "C:\\Users\\2151399\\AppData\\Local\\Temp\\2\\ipykernel_76\\2978018526.py:16: FutureWarning: The frame.append method is deprecated and will be removed from pandas in a future version. Use pandas.concat instead.\n",
      "  df = df.append(df2, ignore_index = True)\n",
      "C:\\Users\\2151399\\AppData\\Local\\Temp\\2\\ipykernel_76\\2978018526.py:16: FutureWarning: The frame.append method is deprecated and will be removed from pandas in a future version. Use pandas.concat instead.\n",
      "  df = df.append(df2, ignore_index = True)\n",
      "C:\\Users\\2151399\\AppData\\Local\\Temp\\2\\ipykernel_76\\2978018526.py:16: FutureWarning: The frame.append method is deprecated and will be removed from pandas in a future version. Use pandas.concat instead.\n",
      "  df = df.append(df2, ignore_index = True)\n",
      "C:\\Users\\2151399\\AppData\\Local\\Temp\\2\\ipykernel_76\\2978018526.py:16: FutureWarning: The frame.append method is deprecated and will be removed from pandas in a future version. Use pandas.concat instead.\n",
      "  df = df.append(df2, ignore_index = True)\n",
      "C:\\Users\\2151399\\AppData\\Local\\Temp\\2\\ipykernel_76\\2978018526.py:16: FutureWarning: The frame.append method is deprecated and will be removed from pandas in a future version. Use pandas.concat instead.\n",
      "  df = df.append(df2, ignore_index = True)\n",
      "C:\\Users\\2151399\\AppData\\Local\\Temp\\2\\ipykernel_76\\2978018526.py:16: FutureWarning: The frame.append method is deprecated and will be removed from pandas in a future version. Use pandas.concat instead.\n",
      "  df = df.append(df2, ignore_index = True)\n",
      "C:\\Users\\2151399\\AppData\\Local\\Temp\\2\\ipykernel_76\\2978018526.py:16: FutureWarning: The frame.append method is deprecated and will be removed from pandas in a future version. Use pandas.concat instead.\n",
      "  df = df.append(df2, ignore_index = True)\n",
      "C:\\Users\\2151399\\AppData\\Local\\Temp\\2\\ipykernel_76\\2978018526.py:16: FutureWarning: The frame.append method is deprecated and will be removed from pandas in a future version. Use pandas.concat instead.\n",
      "  df = df.append(df2, ignore_index = True)\n",
      "C:\\Users\\2151399\\AppData\\Local\\Temp\\2\\ipykernel_76\\2978018526.py:16: FutureWarning: The frame.append method is deprecated and will be removed from pandas in a future version. Use pandas.concat instead.\n",
      "  df = df.append(df2, ignore_index = True)\n",
      "C:\\Users\\2151399\\AppData\\Local\\Temp\\2\\ipykernel_76\\2978018526.py:16: FutureWarning: The frame.append method is deprecated and will be removed from pandas in a future version. Use pandas.concat instead.\n",
      "  df = df.append(df2, ignore_index = True)\n",
      "C:\\Users\\2151399\\AppData\\Local\\Temp\\2\\ipykernel_76\\2978018526.py:16: FutureWarning: The frame.append method is deprecated and will be removed from pandas in a future version. Use pandas.concat instead.\n",
      "  df = df.append(df2, ignore_index = True)\n",
      "C:\\Users\\2151399\\AppData\\Local\\Temp\\2\\ipykernel_76\\2978018526.py:16: FutureWarning: The frame.append method is deprecated and will be removed from pandas in a future version. Use pandas.concat instead.\n",
      "  df = df.append(df2, ignore_index = True)\n",
      "C:\\Users\\2151399\\AppData\\Local\\Temp\\2\\ipykernel_76\\2978018526.py:16: FutureWarning: The frame.append method is deprecated and will be removed from pandas in a future version. Use pandas.concat instead.\n",
      "  df = df.append(df2, ignore_index = True)\n"
     ]
    },
    {
     "name": "stderr",
     "output_type": "stream",
     "text": [
      "C:\\Users\\2151399\\AppData\\Local\\Temp\\2\\ipykernel_76\\2978018526.py:16: FutureWarning: The frame.append method is deprecated and will be removed from pandas in a future version. Use pandas.concat instead.\n",
      "  df = df.append(df2, ignore_index = True)\n",
      "C:\\Users\\2151399\\AppData\\Local\\Temp\\2\\ipykernel_76\\2978018526.py:16: FutureWarning: The frame.append method is deprecated and will be removed from pandas in a future version. Use pandas.concat instead.\n",
      "  df = df.append(df2, ignore_index = True)\n",
      "C:\\Users\\2151399\\AppData\\Local\\Temp\\2\\ipykernel_76\\2978018526.py:16: FutureWarning: The frame.append method is deprecated and will be removed from pandas in a future version. Use pandas.concat instead.\n",
      "  df = df.append(df2, ignore_index = True)\n",
      "C:\\Users\\2151399\\AppData\\Local\\Temp\\2\\ipykernel_76\\2978018526.py:16: FutureWarning: The frame.append method is deprecated and will be removed from pandas in a future version. Use pandas.concat instead.\n",
      "  df = df.append(df2, ignore_index = True)\n",
      "C:\\Users\\2151399\\AppData\\Local\\Temp\\2\\ipykernel_76\\2978018526.py:16: FutureWarning: The frame.append method is deprecated and will be removed from pandas in a future version. Use pandas.concat instead.\n",
      "  df = df.append(df2, ignore_index = True)\n",
      "C:\\Users\\2151399\\AppData\\Local\\Temp\\2\\ipykernel_76\\2978018526.py:16: FutureWarning: The frame.append method is deprecated and will be removed from pandas in a future version. Use pandas.concat instead.\n",
      "  df = df.append(df2, ignore_index = True)\n",
      "C:\\Users\\2151399\\AppData\\Local\\Temp\\2\\ipykernel_76\\2978018526.py:16: FutureWarning: The frame.append method is deprecated and will be removed from pandas in a future version. Use pandas.concat instead.\n",
      "  df = df.append(df2, ignore_index = True)\n",
      "C:\\Users\\2151399\\AppData\\Local\\Temp\\2\\ipykernel_76\\2978018526.py:16: FutureWarning: The frame.append method is deprecated and will be removed from pandas in a future version. Use pandas.concat instead.\n",
      "  df = df.append(df2, ignore_index = True)\n",
      "C:\\Users\\2151399\\AppData\\Local\\Temp\\2\\ipykernel_76\\2978018526.py:16: FutureWarning: The frame.append method is deprecated and will be removed from pandas in a future version. Use pandas.concat instead.\n",
      "  df = df.append(df2, ignore_index = True)\n",
      "C:\\Users\\2151399\\AppData\\Local\\Temp\\2\\ipykernel_76\\2978018526.py:16: FutureWarning: The frame.append method is deprecated and will be removed from pandas in a future version. Use pandas.concat instead.\n",
      "  df = df.append(df2, ignore_index = True)\n",
      "C:\\Users\\2151399\\AppData\\Local\\Temp\\2\\ipykernel_76\\2978018526.py:16: FutureWarning: The frame.append method is deprecated and will be removed from pandas in a future version. Use pandas.concat instead.\n",
      "  df = df.append(df2, ignore_index = True)\n",
      "C:\\Users\\2151399\\AppData\\Local\\Temp\\2\\ipykernel_76\\2978018526.py:16: FutureWarning: The frame.append method is deprecated and will be removed from pandas in a future version. Use pandas.concat instead.\n",
      "  df = df.append(df2, ignore_index = True)\n",
      "C:\\Users\\2151399\\AppData\\Local\\Temp\\2\\ipykernel_76\\2978018526.py:16: FutureWarning: The frame.append method is deprecated and will be removed from pandas in a future version. Use pandas.concat instead.\n",
      "  df = df.append(df2, ignore_index = True)\n",
      "C:\\Users\\2151399\\AppData\\Local\\Temp\\2\\ipykernel_76\\2978018526.py:16: FutureWarning: The frame.append method is deprecated and will be removed from pandas in a future version. Use pandas.concat instead.\n",
      "  df = df.append(df2, ignore_index = True)\n",
      "C:\\Users\\2151399\\AppData\\Local\\Temp\\2\\ipykernel_76\\2978018526.py:16: FutureWarning: The frame.append method is deprecated and will be removed from pandas in a future version. Use pandas.concat instead.\n",
      "  df = df.append(df2, ignore_index = True)\n",
      "C:\\Users\\2151399\\AppData\\Local\\Temp\\2\\ipykernel_76\\2978018526.py:16: FutureWarning: The frame.append method is deprecated and will be removed from pandas in a future version. Use pandas.concat instead.\n",
      "  df = df.append(df2, ignore_index = True)\n",
      "C:\\Users\\2151399\\AppData\\Local\\Temp\\2\\ipykernel_76\\2978018526.py:16: FutureWarning: The frame.append method is deprecated and will be removed from pandas in a future version. Use pandas.concat instead.\n",
      "  df = df.append(df2, ignore_index = True)\n",
      "C:\\Users\\2151399\\AppData\\Local\\Temp\\2\\ipykernel_76\\2978018526.py:16: FutureWarning: The frame.append method is deprecated and will be removed from pandas in a future version. Use pandas.concat instead.\n",
      "  df = df.append(df2, ignore_index = True)\n",
      "C:\\Users\\2151399\\AppData\\Local\\Temp\\2\\ipykernel_76\\2978018526.py:16: FutureWarning: The frame.append method is deprecated and will be removed from pandas in a future version. Use pandas.concat instead.\n",
      "  df = df.append(df2, ignore_index = True)\n",
      "C:\\Users\\2151399\\AppData\\Local\\Temp\\2\\ipykernel_76\\2978018526.py:16: FutureWarning: The frame.append method is deprecated and will be removed from pandas in a future version. Use pandas.concat instead.\n",
      "  df = df.append(df2, ignore_index = True)\n",
      "C:\\Users\\2151399\\AppData\\Local\\Temp\\2\\ipykernel_76\\2978018526.py:16: FutureWarning: The frame.append method is deprecated and will be removed from pandas in a future version. Use pandas.concat instead.\n",
      "  df = df.append(df2, ignore_index = True)\n",
      "C:\\Users\\2151399\\AppData\\Local\\Temp\\2\\ipykernel_76\\2978018526.py:16: FutureWarning: The frame.append method is deprecated and will be removed from pandas in a future version. Use pandas.concat instead.\n",
      "  df = df.append(df2, ignore_index = True)\n",
      "C:\\Users\\2151399\\AppData\\Local\\Temp\\2\\ipykernel_76\\2978018526.py:16: FutureWarning: The frame.append method is deprecated and will be removed from pandas in a future version. Use pandas.concat instead.\n",
      "  df = df.append(df2, ignore_index = True)\n",
      "C:\\Users\\2151399\\AppData\\Local\\Temp\\2\\ipykernel_76\\2978018526.py:16: FutureWarning: The frame.append method is deprecated and will be removed from pandas in a future version. Use pandas.concat instead.\n",
      "  df = df.append(df2, ignore_index = True)\n",
      "C:\\Users\\2151399\\AppData\\Local\\Temp\\2\\ipykernel_76\\2978018526.py:16: FutureWarning: The frame.append method is deprecated and will be removed from pandas in a future version. Use pandas.concat instead.\n",
      "  df = df.append(df2, ignore_index = True)\n",
      "C:\\Users\\2151399\\AppData\\Local\\Temp\\2\\ipykernel_76\\2978018526.py:16: FutureWarning: The frame.append method is deprecated and will be removed from pandas in a future version. Use pandas.concat instead.\n",
      "  df = df.append(df2, ignore_index = True)\n",
      "C:\\Users\\2151399\\AppData\\Local\\Temp\\2\\ipykernel_76\\2978018526.py:16: FutureWarning: The frame.append method is deprecated and will be removed from pandas in a future version. Use pandas.concat instead.\n",
      "  df = df.append(df2, ignore_index = True)\n",
      "C:\\Users\\2151399\\AppData\\Local\\Temp\\2\\ipykernel_76\\2978018526.py:16: FutureWarning: The frame.append method is deprecated and will be removed from pandas in a future version. Use pandas.concat instead.\n",
      "  df = df.append(df2, ignore_index = True)\n",
      "C:\\Users\\2151399\\AppData\\Local\\Temp\\2\\ipykernel_76\\2978018526.py:16: FutureWarning: The frame.append method is deprecated and will be removed from pandas in a future version. Use pandas.concat instead.\n",
      "  df = df.append(df2, ignore_index = True)\n",
      "C:\\Users\\2151399\\AppData\\Local\\Temp\\2\\ipykernel_76\\2978018526.py:16: FutureWarning: The frame.append method is deprecated and will be removed from pandas in a future version. Use pandas.concat instead.\n",
      "  df = df.append(df2, ignore_index = True)\n",
      "C:\\Users\\2151399\\AppData\\Local\\Temp\\2\\ipykernel_76\\2978018526.py:16: FutureWarning: The frame.append method is deprecated and will be removed from pandas in a future version. Use pandas.concat instead.\n",
      "  df = df.append(df2, ignore_index = True)\n",
      "C:\\Users\\2151399\\AppData\\Local\\Temp\\2\\ipykernel_76\\2978018526.py:16: FutureWarning: The frame.append method is deprecated and will be removed from pandas in a future version. Use pandas.concat instead.\n",
      "  df = df.append(df2, ignore_index = True)\n",
      "C:\\Users\\2151399\\AppData\\Local\\Temp\\2\\ipykernel_76\\2978018526.py:16: FutureWarning: The frame.append method is deprecated and will be removed from pandas in a future version. Use pandas.concat instead.\n",
      "  df = df.append(df2, ignore_index = True)\n",
      "C:\\Users\\2151399\\AppData\\Local\\Temp\\2\\ipykernel_76\\2978018526.py:16: FutureWarning: The frame.append method is deprecated and will be removed from pandas in a future version. Use pandas.concat instead.\n",
      "  df = df.append(df2, ignore_index = True)\n",
      "C:\\Users\\2151399\\AppData\\Local\\Temp\\2\\ipykernel_76\\2978018526.py:16: FutureWarning: The frame.append method is deprecated and will be removed from pandas in a future version. Use pandas.concat instead.\n",
      "  df = df.append(df2, ignore_index = True)\n"
     ]
    },
    {
     "name": "stderr",
     "output_type": "stream",
     "text": [
      "C:\\Users\\2151399\\AppData\\Local\\Temp\\2\\ipykernel_76\\2978018526.py:16: FutureWarning: The frame.append method is deprecated and will be removed from pandas in a future version. Use pandas.concat instead.\n",
      "  df = df.append(df2, ignore_index = True)\n",
      "C:\\Users\\2151399\\AppData\\Local\\Temp\\2\\ipykernel_76\\2978018526.py:16: FutureWarning: The frame.append method is deprecated and will be removed from pandas in a future version. Use pandas.concat instead.\n",
      "  df = df.append(df2, ignore_index = True)\n",
      "C:\\Users\\2151399\\AppData\\Local\\Temp\\2\\ipykernel_76\\2978018526.py:16: FutureWarning: The frame.append method is deprecated and will be removed from pandas in a future version. Use pandas.concat instead.\n",
      "  df = df.append(df2, ignore_index = True)\n",
      "C:\\Users\\2151399\\AppData\\Local\\Temp\\2\\ipykernel_76\\2978018526.py:16: FutureWarning: The frame.append method is deprecated and will be removed from pandas in a future version. Use pandas.concat instead.\n",
      "  df = df.append(df2, ignore_index = True)\n",
      "C:\\Users\\2151399\\AppData\\Local\\Temp\\2\\ipykernel_76\\2978018526.py:16: FutureWarning: The frame.append method is deprecated and will be removed from pandas in a future version. Use pandas.concat instead.\n",
      "  df = df.append(df2, ignore_index = True)\n",
      "C:\\Users\\2151399\\AppData\\Local\\Temp\\2\\ipykernel_76\\2978018526.py:16: FutureWarning: The frame.append method is deprecated and will be removed from pandas in a future version. Use pandas.concat instead.\n",
      "  df = df.append(df2, ignore_index = True)\n",
      "C:\\Users\\2151399\\AppData\\Local\\Temp\\2\\ipykernel_76\\2978018526.py:16: FutureWarning: The frame.append method is deprecated and will be removed from pandas in a future version. Use pandas.concat instead.\n",
      "  df = df.append(df2, ignore_index = True)\n",
      "C:\\Users\\2151399\\AppData\\Local\\Temp\\2\\ipykernel_76\\2978018526.py:16: FutureWarning: The frame.append method is deprecated and will be removed from pandas in a future version. Use pandas.concat instead.\n",
      "  df = df.append(df2, ignore_index = True)\n",
      "C:\\Users\\2151399\\AppData\\Local\\Temp\\2\\ipykernel_76\\2978018526.py:16: FutureWarning: The frame.append method is deprecated and will be removed from pandas in a future version. Use pandas.concat instead.\n",
      "  df = df.append(df2, ignore_index = True)\n",
      "C:\\Users\\2151399\\AppData\\Local\\Temp\\2\\ipykernel_76\\2978018526.py:16: FutureWarning: The frame.append method is deprecated and will be removed from pandas in a future version. Use pandas.concat instead.\n",
      "  df = df.append(df2, ignore_index = True)\n",
      "C:\\Users\\2151399\\AppData\\Local\\Temp\\2\\ipykernel_76\\2978018526.py:16: FutureWarning: The frame.append method is deprecated and will be removed from pandas in a future version. Use pandas.concat instead.\n",
      "  df = df.append(df2, ignore_index = True)\n",
      "C:\\Users\\2151399\\AppData\\Local\\Temp\\2\\ipykernel_76\\2978018526.py:16: FutureWarning: The frame.append method is deprecated and will be removed from pandas in a future version. Use pandas.concat instead.\n",
      "  df = df.append(df2, ignore_index = True)\n",
      "C:\\Users\\2151399\\AppData\\Local\\Temp\\2\\ipykernel_76\\2978018526.py:16: FutureWarning: The frame.append method is deprecated and will be removed from pandas in a future version. Use pandas.concat instead.\n",
      "  df = df.append(df2, ignore_index = True)\n",
      "C:\\Users\\2151399\\AppData\\Local\\Temp\\2\\ipykernel_76\\2978018526.py:16: FutureWarning: The frame.append method is deprecated and will be removed from pandas in a future version. Use pandas.concat instead.\n",
      "  df = df.append(df2, ignore_index = True)\n",
      "C:\\Users\\2151399\\AppData\\Local\\Temp\\2\\ipykernel_76\\2978018526.py:16: FutureWarning: The frame.append method is deprecated and will be removed from pandas in a future version. Use pandas.concat instead.\n",
      "  df = df.append(df2, ignore_index = True)\n",
      "C:\\Users\\2151399\\AppData\\Local\\Temp\\2\\ipykernel_76\\2978018526.py:16: FutureWarning: The frame.append method is deprecated and will be removed from pandas in a future version. Use pandas.concat instead.\n",
      "  df = df.append(df2, ignore_index = True)\n",
      "C:\\Users\\2151399\\AppData\\Local\\Temp\\2\\ipykernel_76\\2978018526.py:16: FutureWarning: The frame.append method is deprecated and will be removed from pandas in a future version. Use pandas.concat instead.\n",
      "  df = df.append(df2, ignore_index = True)\n",
      "C:\\Users\\2151399\\AppData\\Local\\Temp\\2\\ipykernel_76\\2978018526.py:16: FutureWarning: The frame.append method is deprecated and will be removed from pandas in a future version. Use pandas.concat instead.\n",
      "  df = df.append(df2, ignore_index = True)\n",
      "C:\\Users\\2151399\\AppData\\Local\\Temp\\2\\ipykernel_76\\2978018526.py:16: FutureWarning: The frame.append method is deprecated and will be removed from pandas in a future version. Use pandas.concat instead.\n",
      "  df = df.append(df2, ignore_index = True)\n",
      "C:\\Users\\2151399\\AppData\\Local\\Temp\\2\\ipykernel_76\\2978018526.py:16: FutureWarning: The frame.append method is deprecated and will be removed from pandas in a future version. Use pandas.concat instead.\n",
      "  df = df.append(df2, ignore_index = True)\n",
      "C:\\Users\\2151399\\AppData\\Local\\Temp\\2\\ipykernel_76\\2978018526.py:16: FutureWarning: The frame.append method is deprecated and will be removed from pandas in a future version. Use pandas.concat instead.\n",
      "  df = df.append(df2, ignore_index = True)\n",
      "C:\\Users\\2151399\\AppData\\Local\\Temp\\2\\ipykernel_76\\2978018526.py:16: FutureWarning: The frame.append method is deprecated and will be removed from pandas in a future version. Use pandas.concat instead.\n",
      "  df = df.append(df2, ignore_index = True)\n",
      "C:\\Users\\2151399\\AppData\\Local\\Temp\\2\\ipykernel_76\\2978018526.py:16: FutureWarning: The frame.append method is deprecated and will be removed from pandas in a future version. Use pandas.concat instead.\n",
      "  df = df.append(df2, ignore_index = True)\n",
      "C:\\Users\\2151399\\AppData\\Local\\Temp\\2\\ipykernel_76\\2978018526.py:16: FutureWarning: The frame.append method is deprecated and will be removed from pandas in a future version. Use pandas.concat instead.\n",
      "  df = df.append(df2, ignore_index = True)\n",
      "C:\\Users\\2151399\\AppData\\Local\\Temp\\2\\ipykernel_76\\2978018526.py:16: FutureWarning: The frame.append method is deprecated and will be removed from pandas in a future version. Use pandas.concat instead.\n",
      "  df = df.append(df2, ignore_index = True)\n",
      "C:\\Users\\2151399\\AppData\\Local\\Temp\\2\\ipykernel_76\\2978018526.py:16: FutureWarning: The frame.append method is deprecated and will be removed from pandas in a future version. Use pandas.concat instead.\n",
      "  df = df.append(df2, ignore_index = True)\n",
      "C:\\Users\\2151399\\AppData\\Local\\Temp\\2\\ipykernel_76\\2978018526.py:16: FutureWarning: The frame.append method is deprecated and will be removed from pandas in a future version. Use pandas.concat instead.\n",
      "  df = df.append(df2, ignore_index = True)\n",
      "C:\\Users\\2151399\\AppData\\Local\\Temp\\2\\ipykernel_76\\2978018526.py:16: FutureWarning: The frame.append method is deprecated and will be removed from pandas in a future version. Use pandas.concat instead.\n",
      "  df = df.append(df2, ignore_index = True)\n",
      "C:\\Users\\2151399\\AppData\\Local\\Temp\\2\\ipykernel_76\\2978018526.py:16: FutureWarning: The frame.append method is deprecated and will be removed from pandas in a future version. Use pandas.concat instead.\n",
      "  df = df.append(df2, ignore_index = True)\n",
      "C:\\Users\\2151399\\AppData\\Local\\Temp\\2\\ipykernel_76\\2978018526.py:16: FutureWarning: The frame.append method is deprecated and will be removed from pandas in a future version. Use pandas.concat instead.\n",
      "  df = df.append(df2, ignore_index = True)\n",
      "C:\\Users\\2151399\\AppData\\Local\\Temp\\2\\ipykernel_76\\2978018526.py:16: FutureWarning: The frame.append method is deprecated and will be removed from pandas in a future version. Use pandas.concat instead.\n",
      "  df = df.append(df2, ignore_index = True)\n",
      "C:\\Users\\2151399\\AppData\\Local\\Temp\\2\\ipykernel_76\\2978018526.py:16: FutureWarning: The frame.append method is deprecated and will be removed from pandas in a future version. Use pandas.concat instead.\n",
      "  df = df.append(df2, ignore_index = True)\n",
      "C:\\Users\\2151399\\AppData\\Local\\Temp\\2\\ipykernel_76\\2978018526.py:16: FutureWarning: The frame.append method is deprecated and will be removed from pandas in a future version. Use pandas.concat instead.\n",
      "  df = df.append(df2, ignore_index = True)\n",
      "C:\\Users\\2151399\\AppData\\Local\\Temp\\2\\ipykernel_76\\2978018526.py:16: FutureWarning: The frame.append method is deprecated and will be removed from pandas in a future version. Use pandas.concat instead.\n",
      "  df = df.append(df2, ignore_index = True)\n",
      "C:\\Users\\2151399\\AppData\\Local\\Temp\\2\\ipykernel_76\\2978018526.py:16: FutureWarning: The frame.append method is deprecated and will be removed from pandas in a future version. Use pandas.concat instead.\n",
      "  df = df.append(df2, ignore_index = True)\n"
     ]
    },
    {
     "name": "stderr",
     "output_type": "stream",
     "text": [
      "C:\\Users\\2151399\\AppData\\Local\\Temp\\2\\ipykernel_76\\2978018526.py:16: FutureWarning: The frame.append method is deprecated and will be removed from pandas in a future version. Use pandas.concat instead.\n",
      "  df = df.append(df2, ignore_index = True)\n",
      "C:\\Users\\2151399\\AppData\\Local\\Temp\\2\\ipykernel_76\\2978018526.py:16: FutureWarning: The frame.append method is deprecated and will be removed from pandas in a future version. Use pandas.concat instead.\n",
      "  df = df.append(df2, ignore_index = True)\n",
      "C:\\Users\\2151399\\AppData\\Local\\Temp\\2\\ipykernel_76\\2978018526.py:16: FutureWarning: The frame.append method is deprecated and will be removed from pandas in a future version. Use pandas.concat instead.\n",
      "  df = df.append(df2, ignore_index = True)\n",
      "C:\\Users\\2151399\\AppData\\Local\\Temp\\2\\ipykernel_76\\2978018526.py:16: FutureWarning: The frame.append method is deprecated and will be removed from pandas in a future version. Use pandas.concat instead.\n",
      "  df = df.append(df2, ignore_index = True)\n",
      "C:\\Users\\2151399\\AppData\\Local\\Temp\\2\\ipykernel_76\\2978018526.py:16: FutureWarning: The frame.append method is deprecated and will be removed from pandas in a future version. Use pandas.concat instead.\n",
      "  df = df.append(df2, ignore_index = True)\n",
      "C:\\Users\\2151399\\AppData\\Local\\Temp\\2\\ipykernel_76\\2978018526.py:16: FutureWarning: The frame.append method is deprecated and will be removed from pandas in a future version. Use pandas.concat instead.\n",
      "  df = df.append(df2, ignore_index = True)\n",
      "C:\\Users\\2151399\\AppData\\Local\\Temp\\2\\ipykernel_76\\2978018526.py:16: FutureWarning: The frame.append method is deprecated and will be removed from pandas in a future version. Use pandas.concat instead.\n",
      "  df = df.append(df2, ignore_index = True)\n",
      "C:\\Users\\2151399\\AppData\\Local\\Temp\\2\\ipykernel_76\\2978018526.py:16: FutureWarning: The frame.append method is deprecated and will be removed from pandas in a future version. Use pandas.concat instead.\n",
      "  df = df.append(df2, ignore_index = True)\n",
      "C:\\Users\\2151399\\AppData\\Local\\Temp\\2\\ipykernel_76\\2978018526.py:16: FutureWarning: The frame.append method is deprecated and will be removed from pandas in a future version. Use pandas.concat instead.\n",
      "  df = df.append(df2, ignore_index = True)\n",
      "C:\\Users\\2151399\\AppData\\Local\\Temp\\2\\ipykernel_76\\2978018526.py:16: FutureWarning: The frame.append method is deprecated and will be removed from pandas in a future version. Use pandas.concat instead.\n",
      "  df = df.append(df2, ignore_index = True)\n",
      "C:\\Users\\2151399\\AppData\\Local\\Temp\\2\\ipykernel_76\\2978018526.py:16: FutureWarning: The frame.append method is deprecated and will be removed from pandas in a future version. Use pandas.concat instead.\n",
      "  df = df.append(df2, ignore_index = True)\n",
      "C:\\Users\\2151399\\AppData\\Local\\Temp\\2\\ipykernel_76\\2978018526.py:16: FutureWarning: The frame.append method is deprecated and will be removed from pandas in a future version. Use pandas.concat instead.\n",
      "  df = df.append(df2, ignore_index = True)\n",
      "C:\\Users\\2151399\\AppData\\Local\\Temp\\2\\ipykernel_76\\2978018526.py:16: FutureWarning: The frame.append method is deprecated and will be removed from pandas in a future version. Use pandas.concat instead.\n",
      "  df = df.append(df2, ignore_index = True)\n",
      "C:\\Users\\2151399\\AppData\\Local\\Temp\\2\\ipykernel_76\\2978018526.py:16: FutureWarning: The frame.append method is deprecated and will be removed from pandas in a future version. Use pandas.concat instead.\n",
      "  df = df.append(df2, ignore_index = True)\n",
      "C:\\Users\\2151399\\AppData\\Local\\Temp\\2\\ipykernel_76\\2978018526.py:16: FutureWarning: The frame.append method is deprecated and will be removed from pandas in a future version. Use pandas.concat instead.\n",
      "  df = df.append(df2, ignore_index = True)\n",
      "C:\\Users\\2151399\\AppData\\Local\\Temp\\2\\ipykernel_76\\2978018526.py:16: FutureWarning: The frame.append method is deprecated and will be removed from pandas in a future version. Use pandas.concat instead.\n",
      "  df = df.append(df2, ignore_index = True)\n",
      "C:\\Users\\2151399\\AppData\\Local\\Temp\\2\\ipykernel_76\\2978018526.py:16: FutureWarning: The frame.append method is deprecated and will be removed from pandas in a future version. Use pandas.concat instead.\n",
      "  df = df.append(df2, ignore_index = True)\n",
      "C:\\Users\\2151399\\AppData\\Local\\Temp\\2\\ipykernel_76\\2978018526.py:16: FutureWarning: The frame.append method is deprecated and will be removed from pandas in a future version. Use pandas.concat instead.\n",
      "  df = df.append(df2, ignore_index = True)\n",
      "C:\\Users\\2151399\\AppData\\Local\\Temp\\2\\ipykernel_76\\2978018526.py:16: FutureWarning: The frame.append method is deprecated and will be removed from pandas in a future version. Use pandas.concat instead.\n",
      "  df = df.append(df2, ignore_index = True)\n",
      "C:\\Users\\2151399\\AppData\\Local\\Temp\\2\\ipykernel_76\\2978018526.py:16: FutureWarning: The frame.append method is deprecated and will be removed from pandas in a future version. Use pandas.concat instead.\n",
      "  df = df.append(df2, ignore_index = True)\n",
      "C:\\Users\\2151399\\AppData\\Local\\Temp\\2\\ipykernel_76\\2978018526.py:16: FutureWarning: The frame.append method is deprecated and will be removed from pandas in a future version. Use pandas.concat instead.\n",
      "  df = df.append(df2, ignore_index = True)\n",
      "C:\\Users\\2151399\\AppData\\Local\\Temp\\2\\ipykernel_76\\2978018526.py:16: FutureWarning: The frame.append method is deprecated and will be removed from pandas in a future version. Use pandas.concat instead.\n",
      "  df = df.append(df2, ignore_index = True)\n",
      "C:\\Users\\2151399\\AppData\\Local\\Temp\\2\\ipykernel_76\\2978018526.py:16: FutureWarning: The frame.append method is deprecated and will be removed from pandas in a future version. Use pandas.concat instead.\n",
      "  df = df.append(df2, ignore_index = True)\n",
      "C:\\Users\\2151399\\AppData\\Local\\Temp\\2\\ipykernel_76\\2978018526.py:16: FutureWarning: The frame.append method is deprecated and will be removed from pandas in a future version. Use pandas.concat instead.\n",
      "  df = df.append(df2, ignore_index = True)\n",
      "C:\\Users\\2151399\\AppData\\Local\\Temp\\2\\ipykernel_76\\2978018526.py:16: FutureWarning: The frame.append method is deprecated and will be removed from pandas in a future version. Use pandas.concat instead.\n",
      "  df = df.append(df2, ignore_index = True)\n",
      "C:\\Users\\2151399\\AppData\\Local\\Temp\\2\\ipykernel_76\\2978018526.py:16: FutureWarning: The frame.append method is deprecated and will be removed from pandas in a future version. Use pandas.concat instead.\n",
      "  df = df.append(df2, ignore_index = True)\n",
      "C:\\Users\\2151399\\AppData\\Local\\Temp\\2\\ipykernel_76\\2978018526.py:16: FutureWarning: The frame.append method is deprecated and will be removed from pandas in a future version. Use pandas.concat instead.\n",
      "  df = df.append(df2, ignore_index = True)\n",
      "C:\\Users\\2151399\\AppData\\Local\\Temp\\2\\ipykernel_76\\2978018526.py:16: FutureWarning: The frame.append method is deprecated and will be removed from pandas in a future version. Use pandas.concat instead.\n",
      "  df = df.append(df2, ignore_index = True)\n",
      "C:\\Users\\2151399\\AppData\\Local\\Temp\\2\\ipykernel_76\\2978018526.py:16: FutureWarning: The frame.append method is deprecated and will be removed from pandas in a future version. Use pandas.concat instead.\n",
      "  df = df.append(df2, ignore_index = True)\n",
      "C:\\Users\\2151399\\AppData\\Local\\Temp\\2\\ipykernel_76\\2978018526.py:16: FutureWarning: The frame.append method is deprecated and will be removed from pandas in a future version. Use pandas.concat instead.\n",
      "  df = df.append(df2, ignore_index = True)\n",
      "C:\\Users\\2151399\\AppData\\Local\\Temp\\2\\ipykernel_76\\2978018526.py:16: FutureWarning: The frame.append method is deprecated and will be removed from pandas in a future version. Use pandas.concat instead.\n",
      "  df = df.append(df2, ignore_index = True)\n",
      "C:\\Users\\2151399\\AppData\\Local\\Temp\\2\\ipykernel_76\\2978018526.py:16: FutureWarning: The frame.append method is deprecated and will be removed from pandas in a future version. Use pandas.concat instead.\n",
      "  df = df.append(df2, ignore_index = True)\n",
      "C:\\Users\\2151399\\AppData\\Local\\Temp\\2\\ipykernel_76\\2978018526.py:16: FutureWarning: The frame.append method is deprecated and will be removed from pandas in a future version. Use pandas.concat instead.\n",
      "  df = df.append(df2, ignore_index = True)\n",
      "C:\\Users\\2151399\\AppData\\Local\\Temp\\2\\ipykernel_76\\2978018526.py:16: FutureWarning: The frame.append method is deprecated and will be removed from pandas in a future version. Use pandas.concat instead.\n",
      "  df = df.append(df2, ignore_index = True)\n",
      "C:\\Users\\2151399\\AppData\\Local\\Temp\\2\\ipykernel_76\\2978018526.py:16: FutureWarning: The frame.append method is deprecated and will be removed from pandas in a future version. Use pandas.concat instead.\n",
      "  df = df.append(df2, ignore_index = True)\n"
     ]
    },
    {
     "name": "stderr",
     "output_type": "stream",
     "text": [
      "C:\\Users\\2151399\\AppData\\Local\\Temp\\2\\ipykernel_76\\2978018526.py:16: FutureWarning: The frame.append method is deprecated and will be removed from pandas in a future version. Use pandas.concat instead.\n",
      "  df = df.append(df2, ignore_index = True)\n",
      "C:\\Users\\2151399\\AppData\\Local\\Temp\\2\\ipykernel_76\\2978018526.py:16: FutureWarning: The frame.append method is deprecated and will be removed from pandas in a future version. Use pandas.concat instead.\n",
      "  df = df.append(df2, ignore_index = True)\n",
      "C:\\Users\\2151399\\AppData\\Local\\Temp\\2\\ipykernel_76\\2978018526.py:16: FutureWarning: The frame.append method is deprecated and will be removed from pandas in a future version. Use pandas.concat instead.\n",
      "  df = df.append(df2, ignore_index = True)\n",
      "C:\\Users\\2151399\\AppData\\Local\\Temp\\2\\ipykernel_76\\2978018526.py:16: FutureWarning: The frame.append method is deprecated and will be removed from pandas in a future version. Use pandas.concat instead.\n",
      "  df = df.append(df2, ignore_index = True)\n"
     ]
    }
   ],
   "source": [
    "import gradio as gr\n",
    "import torch\n",
    "from torch.nn.functional import softmax\n",
    "\n",
    "\n",
    "def durgPercentage(gData):\n",
    "    df = pd.DataFrame()\n",
    "    s_no = 1\n",
    "    for drugs in gData:\n",
    "        score = gData[drugs]\n",
    "        positive = score[2] * 2\n",
    "        per = round(((score[1] + positive)/(score[3]*2)) *100 ,2)\n",
    "        strPer = str(per)\n",
    "        strPer = strPer + \" %\"\n",
    "        df2 = {'S_no': s_no, 'DrugName': drugs, 'Drug Percentage': strPer}\n",
    "        df = df.append(df2, ignore_index = True)\n",
    "        s_no = s_no + 1\n",
    "        \n",
    "    return df\n",
    "        \n",
    "\n",
    "\n",
    "# Group by processing\n",
    "def GroupBy(data_frame):\n",
    "    gData = {}\n",
    "    for i, j in data_frame.iterrows():\n",
    "        drug_name = j['drugName']\n",
    "        prediction = j['Prediction']\n",
    "        positive = 0\n",
    "        neutral = 0\n",
    "        negative = 0\n",
    "        length = 0\n",
    "\n",
    "        if drug_name in gData:\n",
    "            if prediction == \"Positive\":\n",
    "                positive = gData[drug_name][2]\n",
    "                neutral = gData[drug_name][1]\n",
    "                negative = gData[drug_name][0]\n",
    "                positive = positive + 1\n",
    "                length = gData[drug_name][3]\n",
    "                length = length + 1\n",
    "                gData[drug_name] = [negative, neutral, positive, length]\n",
    "            elif prediction == \"Neutral\":\n",
    "                positive = gData[drug_name][2]\n",
    "                neutral = gData[drug_name][1]\n",
    "                negative = gData[drug_name][0]\n",
    "                neutral = neutral + 1\n",
    "                length = gData[drug_name][3]\n",
    "                length = length + 1\n",
    "                gData[drug_name] = [negative, neutral, positive, length]\n",
    "            elif prediction == \"Negative\":\n",
    "                positive = gData[drug_name][2]\n",
    "                neutral = gData[drug_name][1]\n",
    "                negative = gData[drug_name][0]\n",
    "                negative = negative + 1\n",
    "                length = gData[drug_name][3]\n",
    "                length = length + 1\n",
    "                gData[drug_name] = [negative, neutral, positive, length]\n",
    "        else:\n",
    "            if prediction == \"Positive\":\n",
    "                gData[drug_name] = [0, 0, 1, 1]\n",
    "            elif prediction == \"Neutral\":\n",
    "                gData[drug_name] = [0, 1, 0, 1]\n",
    "            elif prediction == \"Negative\":\n",
    "                gData[drug_name] = [1, 0, 0, 1]\n",
    "            \n",
    "            \n",
    "    df = durgPercentage(gData)\n",
    "    return df\n",
    "    \n",
    "\n",
    "#TEXT TO TEXT FUNCTION\n",
    "def greet(user_input):\n",
    "    test_input = tokenizer(user_input, truncation=True, padding=True,return_tensors='pt')\n",
    "    test_data = UCIDataset(test_input, [0])\n",
    "    output = trainer.predict(test_data)\n",
    "   \n",
    "    if(output[0][0][0] > output[0][0][1] and output[0][0][0] > output[0][0][2]):\n",
    "        return \"Negative\" , Probability(output, -1);\n",
    "    elif(output[0][0][1] > output[0][0][0] and output[0][0][1] > output[0][0][2]):\n",
    "        return \"Neutral\" , Probability(output, 0)\n",
    "    else:\n",
    "        return \"Positive\" , Probability(output, 1)\n",
    "    \n",
    "\n",
    "#FILE TO FILE FUNCTION\n",
    "def filee(files):\n",
    "    k = 1000\n",
    "    d = pd.read_csv(files[0].name)\n",
    "    \n",
    "    listOfPrediction = []\n",
    "    listofProbability =[]\n",
    "    for i, j in d.iterrows():\n",
    "        if k==0:\n",
    "            break\n",
    "        user_input = j[\"review\"]\n",
    "        test_input = tokenizer(user_input, truncation=True, padding=True,return_tensors='pt')\n",
    "        test_data = UCIDataset(test_input, [0])\n",
    "        k = k-1\n",
    "        output = trainer.predict(test_data)\n",
    "        if(output[0][0][0] > output[0][0][1] and output[0][0][0] > output[0][0][2]):\n",
    "            listOfPrediction.append(\"Negative\")\n",
    "        elif(output[0][0][1] > output[0][0][0] and output[0][0][1] > output[0][0][2]):\n",
    "            listOfPrediction.append(\"Neutral\")\n",
    "        else:\n",
    "            listOfPrediction.append(\"Positive\") \n",
    "        \n",
    "        if(output[0][0][0] > output[0][0][1] and output[0][0][0] > output[0][0][2]):\n",
    "            listofProbability.append (Probability(output, -1))\n",
    "        elif(output[0][0][1] > output[0][0][0] and output[0][0][1] > output[0][0][2]):\n",
    "            listofProbability.append (Probability(output, 0))\n",
    "        else:\n",
    "            listofProbability.append (Probability(output, 1))\n",
    "    \n",
    "         \n",
    "    df = pd.read_csv(files[0].name, sep=\",\",names=['uniqueid','drugName','review'],skiprows=[0],usecols=[0,1,3],header=None,encoding='utf-8',low_memory=False)\n",
    "    df = df.head(1000)\n",
    "    df['Prediction'] = listOfPrediction \n",
    "    df['probability']= listofProbability\n",
    "    csv_data = df.to_csv(path_or_buf=files[0].name,sep=',')\n",
    "    finalDf = GroupBy(df)\n",
    "    \n",
    "    return files[0].name\n",
    "            \n",
    " #GRADIO INTERFACE:   \n",
    "\n",
    "iface = gr.Interface(fn=greet, inputs=\"text\", outputs=[\"text\",\"text\"])\n",
    "\n",
    "demo = gr.Interface(\n",
    "    fn=filee,\n",
    "    inputs=[gr.Files(label='user_input',file_count=\"multiple\", file_types=[\"text\", \".json\", \".csv\",\".xlsx\"])],\n",
    "    outputs=[gr.Files(label='predicted_output')]\n",
    "    ) \n",
    "\n",
    "g=gr.TabbedInterface([iface,demo],[\"Single Input-Single Output\",\"Batch-Prediction\"])\n",
    "\n",
    "if __name__ == \"__main__\":\n",
    "    g.launch()\n",
    "\n",
    "\n",
    " \n"
   ]
  },
  {
   "cell_type": "code",
   "execution_count": null,
   "id": "bbe8ac45",
   "metadata": {},
   "outputs": [],
   "source": []
  }
 ],
 "metadata": {
  "kernelspec": {
   "display_name": "Python 3 (ipykernel)",
   "language": "python",
   "name": "python3"
  },
  "language_info": {
   "codemirror_mode": {
    "name": "ipython",
    "version": 3
   },
   "file_extension": ".py",
   "mimetype": "text/x-python",
   "name": "python",
   "nbconvert_exporter": "python",
   "pygments_lexer": "ipython3",
   "version": "3.9.12"
  }
 },
 "nbformat": 4,
 "nbformat_minor": 5
}
